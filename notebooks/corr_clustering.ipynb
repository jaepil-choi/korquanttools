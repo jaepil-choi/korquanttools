{
 "cells": [
  {
   "cell_type": "markdown",
   "metadata": {},
   "source": [
    "# Correlation Clustering between stocks"
   ]
  },
  {
   "cell_type": "code",
   "execution_count": 1,
   "metadata": {},
   "outputs": [],
   "source": [
    "from pathlib import Path\n",
    "import sys\n",
    "import pickle\n",
    "\n",
    "import pandas as pd\n",
    "import numpy as np\n",
    "\n",
    "import matplotlib.pyplot as plt\n",
    "import seaborn as sns\n",
    "# import streamlit as st\n",
    "\n",
    "from collections import defaultdict, Counter"
   ]
  },
  {
   "cell_type": "code",
   "execution_count": 2,
   "metadata": {},
   "outputs": [],
   "source": [
    "plt.rcParams['font.family'] = 'NanumGothic'"
   ]
  },
  {
   "cell_type": "code",
   "execution_count": 3,
   "metadata": {},
   "outputs": [],
   "source": [
    "import FinanceDataReader as fdr\n",
    "import quantstats as qs"
   ]
  },
  {
   "cell_type": "code",
   "execution_count": 4,
   "metadata": {},
   "outputs": [],
   "source": [
    "from sklearn.cluster import KMeans, AgglomerativeClustering, DBSCAN"
   ]
  },
  {
   "cell_type": "code",
   "execution_count": 5,
   "metadata": {},
   "outputs": [],
   "source": [
    "## custom libs\n",
    "\n",
    "from korquanttools.pricevolume.loader import KRXPriceDM\n",
    "from korquanttools.pricevolume.utils import DateUtil\n",
    "from korquanttools.pricevolume.config import PathConfig"
   ]
  },
  {
   "cell_type": "markdown",
   "metadata": {},
   "source": [
    "## 1. Import datasets\n",
    "\n",
    "### Transaction volume & adjusted close data\n",
    "\n",
    "- Import price-volume data module from KRX using custom lib `korquanttools`\n",
    "- Import related datasets"
   ]
  },
  {
   "cell_type": "code",
   "execution_count": 6,
   "metadata": {},
   "outputs": [],
   "source": [
    "# Global parameters\n",
    "\n",
    "START = 20140101\n",
    "END = 20220520"
   ]
  },
  {
   "cell_type": "code",
   "execution_count": 7,
   "metadata": {},
   "outputs": [
    {
     "name": "stdout",
     "output_type": "stream",
     "text": [
      "\n",
      "        * DM name: KRX_pricevolume\n",
      "        * DM description: Basic price-volume data imported from KRX website & NAVER finance. Has KOSPI, KOSDAQ, KONEX stocks.\n",
      "        * birthday: 20211203\n",
      "        * DM period: 19990101 ~ \n",
      "        * Available data: ['lv1', 'open', 'high', 'low', 'close', 'volume', 'dollarvolume', 'marketcap']\n",
      "        \n"
     ]
    }
   ],
   "source": [
    "# Init data module\n",
    "pricevolume = KRXPriceDM(START, END)\n",
    "pricevolume.get_info()"
   ]
  },
  {
   "cell_type": "code",
   "execution_count": 8,
   "metadata": {},
   "outputs": [],
   "source": [
    "dollarvolume_df = pricevolume.get_data('dollarvolume')\n",
    "dollarvolume_df = dollarvolume_df.astype(float)"
   ]
  },
  {
   "cell_type": "code",
   "execution_count": 9,
   "metadata": {},
   "outputs": [],
   "source": [
    "holidays = dollarvolume_df.isnull().all(axis=1)\n",
    "tradingdays = ~holidays\n",
    "\n",
    "holidays = holidays.index[holidays]\n",
    "tradingdays = tradingdays.index[tradingdays]"
   ]
  },
  {
   "cell_type": "code",
   "execution_count": 10,
   "metadata": {},
   "outputs": [],
   "source": [
    "adjClose_df = pd.read_pickle(PathConfig.cache_path / f\"temp_adjClose_{START}_{END}\")\n",
    "return_df = pd.read_pickle(PathConfig.cache_path / f\"temp_return_{START}_{END}\")"
   ]
  },
  {
   "cell_type": "code",
   "execution_count": 25,
   "metadata": {},
   "outputs": [
    {
     "data": {
      "text/html": [
       "<div>\n",
       "<style scoped>\n",
       "    .dataframe tbody tr th:only-of-type {\n",
       "        vertical-align: middle;\n",
       "    }\n",
       "\n",
       "    .dataframe tbody tr th {\n",
       "        vertical-align: top;\n",
       "    }\n",
       "\n",
       "    .dataframe thead th {\n",
       "        text-align: right;\n",
       "    }\n",
       "</style>\n",
       "<table border=\"1\" class=\"dataframe\">\n",
       "  <thead>\n",
       "    <tr style=\"text-align: right;\">\n",
       "      <th>ISU_SRT_CD</th>\n",
       "      <th>000020</th>\n",
       "      <th>000040</th>\n",
       "      <th>000050</th>\n",
       "      <th>000060</th>\n",
       "      <th>000070</th>\n",
       "      <th>000075</th>\n",
       "      <th>000080</th>\n",
       "      <th>000087</th>\n",
       "      <th>000100</th>\n",
       "      <th>000105</th>\n",
       "      <th>...</th>\n",
       "      <th>37550L</th>\n",
       "      <th>388050</th>\n",
       "      <th>389140</th>\n",
       "      <th>405640</th>\n",
       "      <th>412930</th>\n",
       "      <th>413600</th>\n",
       "      <th>415580</th>\n",
       "      <th>419270</th>\n",
       "      <th>389260</th>\n",
       "      <th>399720</th>\n",
       "    </tr>\n",
       "    <tr>\n",
       "      <th>trdDd</th>\n",
       "      <th></th>\n",
       "      <th></th>\n",
       "      <th></th>\n",
       "      <th></th>\n",
       "      <th></th>\n",
       "      <th></th>\n",
       "      <th></th>\n",
       "      <th></th>\n",
       "      <th></th>\n",
       "      <th></th>\n",
       "      <th></th>\n",
       "      <th></th>\n",
       "      <th></th>\n",
       "      <th></th>\n",
       "      <th></th>\n",
       "      <th></th>\n",
       "      <th></th>\n",
       "      <th></th>\n",
       "      <th></th>\n",
       "      <th></th>\n",
       "      <th></th>\n",
       "    </tr>\n",
       "  </thead>\n",
       "  <tbody>\n",
       "    <tr>\n",
       "      <th>2020-01-02</th>\n",
       "      <td>0.010830</td>\n",
       "      <td>0.010591</td>\n",
       "      <td>0.032328</td>\n",
       "      <td>-0.039216</td>\n",
       "      <td>0.004478</td>\n",
       "      <td>-0.012615</td>\n",
       "      <td>-0.003448</td>\n",
       "      <td>-0.008596</td>\n",
       "      <td>-0.021123</td>\n",
       "      <td>0.009640</td>\n",
       "      <td>...</td>\n",
       "      <td>NaN</td>\n",
       "      <td>NaN</td>\n",
       "      <td>NaN</td>\n",
       "      <td>NaN</td>\n",
       "      <td>NaN</td>\n",
       "      <td>NaN</td>\n",
       "      <td>NaN</td>\n",
       "      <td>NaN</td>\n",
       "      <td>NaN</td>\n",
       "      <td>NaN</td>\n",
       "    </tr>\n",
       "    <tr>\n",
       "      <th>2020-01-03</th>\n",
       "      <td>-0.004762</td>\n",
       "      <td>-0.010480</td>\n",
       "      <td>0.001044</td>\n",
       "      <td>0.000000</td>\n",
       "      <td>-0.008915</td>\n",
       "      <td>0.000000</td>\n",
       "      <td>-0.012111</td>\n",
       "      <td>-0.005780</td>\n",
       "      <td>-0.004316</td>\n",
       "      <td>-0.002387</td>\n",
       "      <td>...</td>\n",
       "      <td>NaN</td>\n",
       "      <td>NaN</td>\n",
       "      <td>NaN</td>\n",
       "      <td>NaN</td>\n",
       "      <td>NaN</td>\n",
       "      <td>NaN</td>\n",
       "      <td>NaN</td>\n",
       "      <td>NaN</td>\n",
       "      <td>NaN</td>\n",
       "      <td>NaN</td>\n",
       "    </tr>\n",
       "    <tr>\n",
       "      <th>2020-01-06</th>\n",
       "      <td>-0.021531</td>\n",
       "      <td>-0.022065</td>\n",
       "      <td>-0.005214</td>\n",
       "      <td>-0.029155</td>\n",
       "      <td>-0.037481</td>\n",
       "      <td>0.002323</td>\n",
       "      <td>0.003503</td>\n",
       "      <td>0.002907</td>\n",
       "      <td>-0.017362</td>\n",
       "      <td>-0.019141</td>\n",
       "      <td>...</td>\n",
       "      <td>NaN</td>\n",
       "      <td>NaN</td>\n",
       "      <td>NaN</td>\n",
       "      <td>NaN</td>\n",
       "      <td>NaN</td>\n",
       "      <td>NaN</td>\n",
       "      <td>NaN</td>\n",
       "      <td>NaN</td>\n",
       "      <td>NaN</td>\n",
       "      <td>NaN</td>\n",
       "    </tr>\n",
       "    <tr>\n",
       "      <th>2020-01-07</th>\n",
       "      <td>-0.002445</td>\n",
       "      <td>-0.028881</td>\n",
       "      <td>0.002096</td>\n",
       "      <td>-0.015015</td>\n",
       "      <td>0.010903</td>\n",
       "      <td>-0.004635</td>\n",
       "      <td>-0.006981</td>\n",
       "      <td>-0.002899</td>\n",
       "      <td>0.017669</td>\n",
       "      <td>0.007318</td>\n",
       "      <td>...</td>\n",
       "      <td>NaN</td>\n",
       "      <td>NaN</td>\n",
       "      <td>NaN</td>\n",
       "      <td>NaN</td>\n",
       "      <td>NaN</td>\n",
       "      <td>NaN</td>\n",
       "      <td>NaN</td>\n",
       "      <td>NaN</td>\n",
       "      <td>NaN</td>\n",
       "      <td>NaN</td>\n",
       "    </tr>\n",
       "    <tr>\n",
       "      <th>2020-01-08</th>\n",
       "      <td>-0.028186</td>\n",
       "      <td>-0.014870</td>\n",
       "      <td>-0.030335</td>\n",
       "      <td>-0.015244</td>\n",
       "      <td>-0.049307</td>\n",
       "      <td>-0.020955</td>\n",
       "      <td>-0.026362</td>\n",
       "      <td>-0.017442</td>\n",
       "      <td>-0.019517</td>\n",
       "      <td>-0.009686</td>\n",
       "      <td>...</td>\n",
       "      <td>NaN</td>\n",
       "      <td>NaN</td>\n",
       "      <td>NaN</td>\n",
       "      <td>NaN</td>\n",
       "      <td>NaN</td>\n",
       "      <td>NaN</td>\n",
       "      <td>NaN</td>\n",
       "      <td>NaN</td>\n",
       "      <td>NaN</td>\n",
       "      <td>NaN</td>\n",
       "    </tr>\n",
       "    <tr>\n",
       "      <th>...</th>\n",
       "      <td>...</td>\n",
       "      <td>...</td>\n",
       "      <td>...</td>\n",
       "      <td>...</td>\n",
       "      <td>...</td>\n",
       "      <td>...</td>\n",
       "      <td>...</td>\n",
       "      <td>...</td>\n",
       "      <td>...</td>\n",
       "      <td>...</td>\n",
       "      <td>...</td>\n",
       "      <td>...</td>\n",
       "      <td>...</td>\n",
       "      <td>...</td>\n",
       "      <td>...</td>\n",
       "      <td>...</td>\n",
       "      <td>...</td>\n",
       "      <td>...</td>\n",
       "      <td>...</td>\n",
       "      <td>...</td>\n",
       "      <td>...</td>\n",
       "    </tr>\n",
       "    <tr>\n",
       "      <th>2022-05-16</th>\n",
       "      <td>0.008511</td>\n",
       "      <td>-0.001263</td>\n",
       "      <td>0.013029</td>\n",
       "      <td>0.017711</td>\n",
       "      <td>0.001225</td>\n",
       "      <td>0.006400</td>\n",
       "      <td>0.009859</td>\n",
       "      <td>0.007194</td>\n",
       "      <td>-0.006873</td>\n",
       "      <td>0.005310</td>\n",
       "      <td>...</td>\n",
       "      <td>-0.012285</td>\n",
       "      <td>-0.005764</td>\n",
       "      <td>-0.003953</td>\n",
       "      <td>-0.002283</td>\n",
       "      <td>0.002283</td>\n",
       "      <td>0.000000</td>\n",
       "      <td>-0.002309</td>\n",
       "      <td>-0.011211</td>\n",
       "      <td>NaN</td>\n",
       "      <td>NaN</td>\n",
       "    </tr>\n",
       "    <tr>\n",
       "      <th>2022-05-17</th>\n",
       "      <td>0.004219</td>\n",
       "      <td>-0.003793</td>\n",
       "      <td>-0.006431</td>\n",
       "      <td>0.024096</td>\n",
       "      <td>0.001224</td>\n",
       "      <td>0.000000</td>\n",
       "      <td>0.030683</td>\n",
       "      <td>0.009524</td>\n",
       "      <td>0.000000</td>\n",
       "      <td>-0.001761</td>\n",
       "      <td>...</td>\n",
       "      <td>0.000000</td>\n",
       "      <td>0.011594</td>\n",
       "      <td>0.007937</td>\n",
       "      <td>0.000000</td>\n",
       "      <td>0.004556</td>\n",
       "      <td>0.030488</td>\n",
       "      <td>-0.002315</td>\n",
       "      <td>0.004535</td>\n",
       "      <td>0.028674</td>\n",
       "      <td>NaN</td>\n",
       "    </tr>\n",
       "    <tr>\n",
       "      <th>2022-05-18</th>\n",
       "      <td>0.008403</td>\n",
       "      <td>-0.006345</td>\n",
       "      <td>-0.016181</td>\n",
       "      <td>0.039216</td>\n",
       "      <td>-0.007335</td>\n",
       "      <td>0.001590</td>\n",
       "      <td>-0.004060</td>\n",
       "      <td>-0.002358</td>\n",
       "      <td>0.013841</td>\n",
       "      <td>0.007055</td>\n",
       "      <td>...</td>\n",
       "      <td>-0.013682</td>\n",
       "      <td>0.011461</td>\n",
       "      <td>0.001969</td>\n",
       "      <td>0.002288</td>\n",
       "      <td>-0.002268</td>\n",
       "      <td>0.001972</td>\n",
       "      <td>0.002320</td>\n",
       "      <td>-0.002257</td>\n",
       "      <td>-0.045296</td>\n",
       "      <td>NaN</td>\n",
       "    </tr>\n",
       "    <tr>\n",
       "      <th>2022-05-19</th>\n",
       "      <td>-0.008333</td>\n",
       "      <td>-0.003831</td>\n",
       "      <td>0.003289</td>\n",
       "      <td>-0.018868</td>\n",
       "      <td>-0.016010</td>\n",
       "      <td>-0.011111</td>\n",
       "      <td>-0.019022</td>\n",
       "      <td>-0.018913</td>\n",
       "      <td>-0.006826</td>\n",
       "      <td>-0.008757</td>\n",
       "      <td>...</td>\n",
       "      <td>-0.030265</td>\n",
       "      <td>0.000000</td>\n",
       "      <td>-0.027505</td>\n",
       "      <td>-0.002283</td>\n",
       "      <td>-0.006818</td>\n",
       "      <td>-0.019685</td>\n",
       "      <td>0.000000</td>\n",
       "      <td>0.002262</td>\n",
       "      <td>0.299270</td>\n",
       "      <td>NaN</td>\n",
       "    </tr>\n",
       "    <tr>\n",
       "      <th>2022-05-20</th>\n",
       "      <td>-0.004202</td>\n",
       "      <td>0.000000</td>\n",
       "      <td>-0.013115</td>\n",
       "      <td>0.002564</td>\n",
       "      <td>0.011264</td>\n",
       "      <td>0.008026</td>\n",
       "      <td>-0.015235</td>\n",
       "      <td>0.007229</td>\n",
       "      <td>0.005155</td>\n",
       "      <td>0.005300</td>\n",
       "      <td>...</td>\n",
       "      <td>-0.006502</td>\n",
       "      <td>0.297450</td>\n",
       "      <td>0.090909</td>\n",
       "      <td>0.000000</td>\n",
       "      <td>0.004577</td>\n",
       "      <td>-0.018072</td>\n",
       "      <td>0.002315</td>\n",
       "      <td>0.000000</td>\n",
       "      <td>0.129213</td>\n",
       "      <td>NaN</td>\n",
       "    </tr>\n",
       "  </tbody>\n",
       "</table>\n",
       "<p>590 rows × 3028 columns</p>\n",
       "</div>"
      ],
      "text/plain": [
       "ISU_SRT_CD    000020    000040    000050    000060    000070    000075  \\\n",
       "trdDd                                                                    \n",
       "2020-01-02  0.010830  0.010591  0.032328 -0.039216  0.004478 -0.012615   \n",
       "2020-01-03 -0.004762 -0.010480  0.001044  0.000000 -0.008915  0.000000   \n",
       "2020-01-06 -0.021531 -0.022065 -0.005214 -0.029155 -0.037481  0.002323   \n",
       "2020-01-07 -0.002445 -0.028881  0.002096 -0.015015  0.010903 -0.004635   \n",
       "2020-01-08 -0.028186 -0.014870 -0.030335 -0.015244 -0.049307 -0.020955   \n",
       "...              ...       ...       ...       ...       ...       ...   \n",
       "2022-05-16  0.008511 -0.001263  0.013029  0.017711  0.001225  0.006400   \n",
       "2022-05-17  0.004219 -0.003793 -0.006431  0.024096  0.001224  0.000000   \n",
       "2022-05-18  0.008403 -0.006345 -0.016181  0.039216 -0.007335  0.001590   \n",
       "2022-05-19 -0.008333 -0.003831  0.003289 -0.018868 -0.016010 -0.011111   \n",
       "2022-05-20 -0.004202  0.000000 -0.013115  0.002564  0.011264  0.008026   \n",
       "\n",
       "ISU_SRT_CD    000080    000087    000100    000105  ...    37550L    388050  \\\n",
       "trdDd                                               ...                       \n",
       "2020-01-02 -0.003448 -0.008596 -0.021123  0.009640  ...       NaN       NaN   \n",
       "2020-01-03 -0.012111 -0.005780 -0.004316 -0.002387  ...       NaN       NaN   \n",
       "2020-01-06  0.003503  0.002907 -0.017362 -0.019141  ...       NaN       NaN   \n",
       "2020-01-07 -0.006981 -0.002899  0.017669  0.007318  ...       NaN       NaN   \n",
       "2020-01-08 -0.026362 -0.017442 -0.019517 -0.009686  ...       NaN       NaN   \n",
       "...              ...       ...       ...       ...  ...       ...       ...   \n",
       "2022-05-16  0.009859  0.007194 -0.006873  0.005310  ... -0.012285 -0.005764   \n",
       "2022-05-17  0.030683  0.009524  0.000000 -0.001761  ...  0.000000  0.011594   \n",
       "2022-05-18 -0.004060 -0.002358  0.013841  0.007055  ... -0.013682  0.011461   \n",
       "2022-05-19 -0.019022 -0.018913 -0.006826 -0.008757  ... -0.030265  0.000000   \n",
       "2022-05-20 -0.015235  0.007229  0.005155  0.005300  ... -0.006502  0.297450   \n",
       "\n",
       "ISU_SRT_CD    389140    405640    412930    413600    415580    419270  \\\n",
       "trdDd                                                                    \n",
       "2020-01-02       NaN       NaN       NaN       NaN       NaN       NaN   \n",
       "2020-01-03       NaN       NaN       NaN       NaN       NaN       NaN   \n",
       "2020-01-06       NaN       NaN       NaN       NaN       NaN       NaN   \n",
       "2020-01-07       NaN       NaN       NaN       NaN       NaN       NaN   \n",
       "2020-01-08       NaN       NaN       NaN       NaN       NaN       NaN   \n",
       "...              ...       ...       ...       ...       ...       ...   \n",
       "2022-05-16 -0.003953 -0.002283  0.002283  0.000000 -0.002309 -0.011211   \n",
       "2022-05-17  0.007937  0.000000  0.004556  0.030488 -0.002315  0.004535   \n",
       "2022-05-18  0.001969  0.002288 -0.002268  0.001972  0.002320 -0.002257   \n",
       "2022-05-19 -0.027505 -0.002283 -0.006818 -0.019685  0.000000  0.002262   \n",
       "2022-05-20  0.090909  0.000000  0.004577 -0.018072  0.002315  0.000000   \n",
       "\n",
       "ISU_SRT_CD    389260  399720  \n",
       "trdDd                         \n",
       "2020-01-02       NaN     NaN  \n",
       "2020-01-03       NaN     NaN  \n",
       "2020-01-06       NaN     NaN  \n",
       "2020-01-07       NaN     NaN  \n",
       "2020-01-08       NaN     NaN  \n",
       "...              ...     ...  \n",
       "2022-05-16       NaN     NaN  \n",
       "2022-05-17  0.028674     NaN  \n",
       "2022-05-18 -0.045296     NaN  \n",
       "2022-05-19  0.299270     NaN  \n",
       "2022-05-20  0.129213     NaN  \n",
       "\n",
       "[590 rows x 3028 columns]"
      ]
     },
     "execution_count": 25,
     "metadata": {},
     "output_type": "execute_result"
    }
   ],
   "source": [
    "DateUtil.intDate_2_timestamp(END) - \n",
    "\n",
    "return_df.loc['2020-01-01':, :]"
   ]
  },
  {
   "cell_type": "markdown",
   "metadata": {},
   "source": [
    "### security id - to - name \n"
   ]
  },
  {
   "cell_type": "code",
   "execution_count": 11,
   "metadata": {},
   "outputs": [],
   "source": [
    "with open('kospi_ii2codename_combined.pickle', 'rb') as p:\n",
    "    kospi_sid2name = pickle.load(p)"
   ]
  },
  {
   "cell_type": "code",
   "execution_count": 12,
   "metadata": {},
   "outputs": [],
   "source": [
    "with open('kosdaq_ii2codename_combined.pickle', 'rb') as p:\n",
    "    kosdaq_sid2name = pickle.load(p)"
   ]
  },
  {
   "cell_type": "code",
   "execution_count": 13,
   "metadata": {},
   "outputs": [],
   "source": [
    "sid2name = {**kospi_sid2name, **kosdaq_sid2name}"
   ]
  },
  {
   "cell_type": "code",
   "execution_count": 14,
   "metadata": {},
   "outputs": [],
   "source": [
    "# with open('sid2name.pkl', 'wb') as p:\n",
    "#     pickle.dump(sid2name, p)"
   ]
  },
  {
   "cell_type": "markdown",
   "metadata": {},
   "source": [
    "# 2. Preprocess data to create lab environment \n",
    "\n",
    "Only clean data used"
   ]
  },
  {
   "cell_type": "code",
   "execution_count": 15,
   "metadata": {},
   "outputs": [],
   "source": [
    "return_df = return_df.loc[tradingdays, :]"
   ]
  },
  {
   "cell_type": "code",
   "execution_count": 16,
   "metadata": {},
   "outputs": [],
   "source": [
    "howmanydays = 252\n",
    "\n",
    "recent_return_df = return_df.iloc[-howmanydays:, :].copy()\n",
    "recent_return_df.dropna(axis=1, inplace=True)\n"
   ]
  },
  {
   "cell_type": "code",
   "execution_count": 17,
   "metadata": {},
   "outputs": [
    {
     "data": {
      "text/plain": [
       "Index(['003620', '006580', '009730', '010580', '011690', '012600', '015540',\n",
       "       '016670', '021820', '024830', '032790', '033340', '033790', '038340',\n",
       "       '043590', '052770', '054220', '056000', '056730', '058220', '058420',\n",
       "       '058530', '060300', '064520', '065560', '069110', '078590', '083470',\n",
       "       '099520', '101680', '103230', '106080', '109070', '114190', '121890',\n",
       "       '126870', '127160', '138360', '141020', '158310', '182690', '900100',\n",
       "       '180400', '103660', '160600', '178780', '223310', '208860', '176440',\n",
       "       '215600', '263540', '263920', '950160', '257370', '309900'],\n",
       "      dtype='object', name='ISU_SRT_CD')"
      ]
     },
     "execution_count": 17,
     "metadata": {},
     "output_type": "execute_result"
    }
   ],
   "source": [
    "recent_return_df.columns[(recent_return_df == 0).all(axis=0)]\n",
    "# 거래정지 종목들. 아마 FDR에서 return가져오면서 섞여들어온 것들이 아닌가 싶다. "
   ]
  },
  {
   "cell_type": "code",
   "execution_count": 18,
   "metadata": {},
   "outputs": [],
   "source": [
    "recent_return_df = recent_return_df.loc[:, (recent_return_df != 0).any(axis=0)]\n",
    "# There are sid with 0.0 all day. Remove them"
   ]
  },
  {
   "cell_type": "code",
   "execution_count": 19,
   "metadata": {},
   "outputs": [
    {
     "data": {
      "text/plain": [
       "(252, 2446)"
      ]
     },
     "execution_count": 19,
     "metadata": {},
     "output_type": "execute_result"
    }
   ],
   "source": [
    "recent_return_df.shape"
   ]
  },
  {
   "cell_type": "code",
   "execution_count": 26,
   "metadata": {},
   "outputs": [],
   "source": [
    "# recent_return_df.to_pickle('recent252_return_df.pkl')"
   ]
  },
  {
   "cell_type": "markdown",
   "metadata": {},
   "source": [
    "Only Top N00 used\n",
    "\n",
    "- metric: dollarvolume\n",
    "- calculation method: the most recent @@ days average"
   ]
  },
  {
   "cell_type": "code",
   "execution_count": 617,
   "metadata": {},
   "outputs": [],
   "source": [
    "TOP = 200"
   ]
  },
  {
   "cell_type": "code",
   "execution_count": 618,
   "metadata": {},
   "outputs": [],
   "source": [
    "recent_dv_df = dollarvolume_df.iloc[-howmanydays:, :].copy()\n",
    "mean_dv_s = recent_dv_df.mean(axis=0)\n",
    "mean_dv_s.dropna(inplace=True)\n",
    "top_sid_list = list(mean_dv_s.sort_values()[-TOP:].index)"
   ]
  },
  {
   "cell_type": "code",
   "execution_count": 619,
   "metadata": {},
   "outputs": [],
   "source": [
    "recent_return_df = recent_return_df[recent_return_df.columns.intersection(top_sid_list)].copy()"
   ]
  },
  {
   "cell_type": "markdown",
   "metadata": {},
   "source": [
    "### Calculate correlation matrix"
   ]
  },
  {
   "cell_type": "code",
   "execution_count": 20,
   "metadata": {},
   "outputs": [
    {
     "data": {
      "text/html": [
       "<div>\n",
       "<style scoped>\n",
       "    .dataframe tbody tr th:only-of-type {\n",
       "        vertical-align: middle;\n",
       "    }\n",
       "\n",
       "    .dataframe tbody tr th {\n",
       "        vertical-align: top;\n",
       "    }\n",
       "\n",
       "    .dataframe thead th {\n",
       "        text-align: right;\n",
       "    }\n",
       "</style>\n",
       "<table border=\"1\" class=\"dataframe\">\n",
       "  <thead>\n",
       "    <tr style=\"text-align: right;\">\n",
       "      <th>ISU_SRT_CD</th>\n",
       "      <th>000020</th>\n",
       "      <th>000040</th>\n",
       "      <th>000050</th>\n",
       "      <th>000060</th>\n",
       "      <th>000070</th>\n",
       "      <th>000075</th>\n",
       "      <th>000080</th>\n",
       "      <th>000087</th>\n",
       "      <th>000100</th>\n",
       "      <th>000105</th>\n",
       "      <th>...</th>\n",
       "      <th>378850</th>\n",
       "      <th>950220</th>\n",
       "      <th>059270</th>\n",
       "      <th>294570</th>\n",
       "      <th>333620</th>\n",
       "      <th>351330</th>\n",
       "      <th>367480</th>\n",
       "      <th>373340</th>\n",
       "      <th>361610</th>\n",
       "      <th>377400</th>\n",
       "    </tr>\n",
       "    <tr>\n",
       "      <th>ISU_SRT_CD</th>\n",
       "      <th></th>\n",
       "      <th></th>\n",
       "      <th></th>\n",
       "      <th></th>\n",
       "      <th></th>\n",
       "      <th></th>\n",
       "      <th></th>\n",
       "      <th></th>\n",
       "      <th></th>\n",
       "      <th></th>\n",
       "      <th></th>\n",
       "      <th></th>\n",
       "      <th></th>\n",
       "      <th></th>\n",
       "      <th></th>\n",
       "      <th></th>\n",
       "      <th></th>\n",
       "      <th></th>\n",
       "      <th></th>\n",
       "      <th></th>\n",
       "      <th></th>\n",
       "    </tr>\n",
       "  </thead>\n",
       "  <tbody>\n",
       "    <tr>\n",
       "      <th>000020</th>\n",
       "      <td>1.000000</td>\n",
       "      <td>0.176975</td>\n",
       "      <td>0.067970</td>\n",
       "      <td>-0.061092</td>\n",
       "      <td>0.065096</td>\n",
       "      <td>0.065429</td>\n",
       "      <td>0.088100</td>\n",
       "      <td>0.059320</td>\n",
       "      <td>0.234996</td>\n",
       "      <td>0.245992</td>\n",
       "      <td>...</td>\n",
       "      <td>0.113706</td>\n",
       "      <td>0.190060</td>\n",
       "      <td>0.387558</td>\n",
       "      <td>0.202113</td>\n",
       "      <td>0.149201</td>\n",
       "      <td>0.259301</td>\n",
       "      <td>0.018944</td>\n",
       "      <td>-0.002990</td>\n",
       "      <td>0.088787</td>\n",
       "      <td>0.053572</td>\n",
       "    </tr>\n",
       "    <tr>\n",
       "      <th>000040</th>\n",
       "      <td>0.176975</td>\n",
       "      <td>1.000000</td>\n",
       "      <td>0.305702</td>\n",
       "      <td>0.057206</td>\n",
       "      <td>0.291463</td>\n",
       "      <td>0.289151</td>\n",
       "      <td>0.348878</td>\n",
       "      <td>0.239266</td>\n",
       "      <td>0.282387</td>\n",
       "      <td>0.344444</td>\n",
       "      <td>...</td>\n",
       "      <td>0.251704</td>\n",
       "      <td>0.214052</td>\n",
       "      <td>0.126283</td>\n",
       "      <td>0.146537</td>\n",
       "      <td>0.321289</td>\n",
       "      <td>0.262753</td>\n",
       "      <td>0.028516</td>\n",
       "      <td>0.080077</td>\n",
       "      <td>0.174766</td>\n",
       "      <td>0.024963</td>\n",
       "    </tr>\n",
       "    <tr>\n",
       "      <th>000050</th>\n",
       "      <td>0.067970</td>\n",
       "      <td>0.305702</td>\n",
       "      <td>1.000000</td>\n",
       "      <td>0.103863</td>\n",
       "      <td>0.147829</td>\n",
       "      <td>0.187276</td>\n",
       "      <td>0.181420</td>\n",
       "      <td>0.189016</td>\n",
       "      <td>0.127331</td>\n",
       "      <td>0.183388</td>\n",
       "      <td>...</td>\n",
       "      <td>0.225200</td>\n",
       "      <td>0.130399</td>\n",
       "      <td>0.220922</td>\n",
       "      <td>0.186181</td>\n",
       "      <td>0.199186</td>\n",
       "      <td>0.151240</td>\n",
       "      <td>-0.029986</td>\n",
       "      <td>0.018479</td>\n",
       "      <td>0.145210</td>\n",
       "      <td>-0.037371</td>\n",
       "    </tr>\n",
       "    <tr>\n",
       "      <th>000060</th>\n",
       "      <td>-0.061092</td>\n",
       "      <td>0.057206</td>\n",
       "      <td>0.103863</td>\n",
       "      <td>1.000000</td>\n",
       "      <td>0.206322</td>\n",
       "      <td>0.182085</td>\n",
       "      <td>0.064822</td>\n",
       "      <td>0.061655</td>\n",
       "      <td>0.091872</td>\n",
       "      <td>0.084379</td>\n",
       "      <td>...</td>\n",
       "      <td>0.085146</td>\n",
       "      <td>-0.064838</td>\n",
       "      <td>0.072264</td>\n",
       "      <td>0.089808</td>\n",
       "      <td>0.048641</td>\n",
       "      <td>0.106697</td>\n",
       "      <td>0.008310</td>\n",
       "      <td>0.013131</td>\n",
       "      <td>0.143957</td>\n",
       "      <td>-0.026710</td>\n",
       "    </tr>\n",
       "    <tr>\n",
       "      <th>000070</th>\n",
       "      <td>0.065096</td>\n",
       "      <td>0.291463</td>\n",
       "      <td>0.147829</td>\n",
       "      <td>0.206322</td>\n",
       "      <td>1.000000</td>\n",
       "      <td>0.692895</td>\n",
       "      <td>0.302850</td>\n",
       "      <td>0.291966</td>\n",
       "      <td>0.347349</td>\n",
       "      <td>0.320762</td>\n",
       "      <td>...</td>\n",
       "      <td>0.225644</td>\n",
       "      <td>0.268488</td>\n",
       "      <td>0.087510</td>\n",
       "      <td>0.269600</td>\n",
       "      <td>0.230988</td>\n",
       "      <td>0.337842</td>\n",
       "      <td>-0.067337</td>\n",
       "      <td>0.016798</td>\n",
       "      <td>0.159134</td>\n",
       "      <td>-0.099578</td>\n",
       "    </tr>\n",
       "    <tr>\n",
       "      <th>...</th>\n",
       "      <td>...</td>\n",
       "      <td>...</td>\n",
       "      <td>...</td>\n",
       "      <td>...</td>\n",
       "      <td>...</td>\n",
       "      <td>...</td>\n",
       "      <td>...</td>\n",
       "      <td>...</td>\n",
       "      <td>...</td>\n",
       "      <td>...</td>\n",
       "      <td>...</td>\n",
       "      <td>...</td>\n",
       "      <td>...</td>\n",
       "      <td>...</td>\n",
       "      <td>...</td>\n",
       "      <td>...</td>\n",
       "      <td>...</td>\n",
       "      <td>...</td>\n",
       "      <td>...</td>\n",
       "      <td>...</td>\n",
       "      <td>...</td>\n",
       "    </tr>\n",
       "    <tr>\n",
       "      <th>351330</th>\n",
       "      <td>0.259301</td>\n",
       "      <td>0.262753</td>\n",
       "      <td>0.151240</td>\n",
       "      <td>0.106697</td>\n",
       "      <td>0.337842</td>\n",
       "      <td>0.217872</td>\n",
       "      <td>0.219619</td>\n",
       "      <td>0.068630</td>\n",
       "      <td>0.294359</td>\n",
       "      <td>0.357279</td>\n",
       "      <td>...</td>\n",
       "      <td>0.296278</td>\n",
       "      <td>0.268716</td>\n",
       "      <td>0.226408</td>\n",
       "      <td>0.278992</td>\n",
       "      <td>0.346724</td>\n",
       "      <td>1.000000</td>\n",
       "      <td>0.085025</td>\n",
       "      <td>0.060551</td>\n",
       "      <td>0.191163</td>\n",
       "      <td>0.097515</td>\n",
       "    </tr>\n",
       "    <tr>\n",
       "      <th>367480</th>\n",
       "      <td>0.018944</td>\n",
       "      <td>0.028516</td>\n",
       "      <td>-0.029986</td>\n",
       "      <td>0.008310</td>\n",
       "      <td>-0.067337</td>\n",
       "      <td>-0.072044</td>\n",
       "      <td>0.153634</td>\n",
       "      <td>0.045628</td>\n",
       "      <td>0.080323</td>\n",
       "      <td>0.048637</td>\n",
       "      <td>...</td>\n",
       "      <td>0.089146</td>\n",
       "      <td>0.070406</td>\n",
       "      <td>-0.002748</td>\n",
       "      <td>-0.007907</td>\n",
       "      <td>-0.032707</td>\n",
       "      <td>0.085025</td>\n",
       "      <td>1.000000</td>\n",
       "      <td>0.420906</td>\n",
       "      <td>0.037742</td>\n",
       "      <td>0.580578</td>\n",
       "    </tr>\n",
       "    <tr>\n",
       "      <th>373340</th>\n",
       "      <td>-0.002990</td>\n",
       "      <td>0.080077</td>\n",
       "      <td>0.018479</td>\n",
       "      <td>0.013131</td>\n",
       "      <td>0.016798</td>\n",
       "      <td>0.049500</td>\n",
       "      <td>0.065630</td>\n",
       "      <td>0.089725</td>\n",
       "      <td>0.123946</td>\n",
       "      <td>0.112921</td>\n",
       "      <td>...</td>\n",
       "      <td>0.170741</td>\n",
       "      <td>0.153805</td>\n",
       "      <td>0.045512</td>\n",
       "      <td>0.025768</td>\n",
       "      <td>-0.035332</td>\n",
       "      <td>0.060551</td>\n",
       "      <td>0.420906</td>\n",
       "      <td>1.000000</td>\n",
       "      <td>-0.011285</td>\n",
       "      <td>0.756228</td>\n",
       "    </tr>\n",
       "    <tr>\n",
       "      <th>361610</th>\n",
       "      <td>0.088787</td>\n",
       "      <td>0.174766</td>\n",
       "      <td>0.145210</td>\n",
       "      <td>0.143957</td>\n",
       "      <td>0.159134</td>\n",
       "      <td>0.143745</td>\n",
       "      <td>0.121087</td>\n",
       "      <td>0.120054</td>\n",
       "      <td>0.250797</td>\n",
       "      <td>0.240627</td>\n",
       "      <td>...</td>\n",
       "      <td>0.125564</td>\n",
       "      <td>0.265800</td>\n",
       "      <td>0.045281</td>\n",
       "      <td>0.225969</td>\n",
       "      <td>0.151837</td>\n",
       "      <td>0.191163</td>\n",
       "      <td>0.037742</td>\n",
       "      <td>-0.011285</td>\n",
       "      <td>1.000000</td>\n",
       "      <td>0.008454</td>\n",
       "    </tr>\n",
       "    <tr>\n",
       "      <th>377400</th>\n",
       "      <td>0.053572</td>\n",
       "      <td>0.024963</td>\n",
       "      <td>-0.037371</td>\n",
       "      <td>-0.026710</td>\n",
       "      <td>-0.099578</td>\n",
       "      <td>-0.002175</td>\n",
       "      <td>0.055082</td>\n",
       "      <td>0.050384</td>\n",
       "      <td>0.130848</td>\n",
       "      <td>0.126498</td>\n",
       "      <td>...</td>\n",
       "      <td>0.071155</td>\n",
       "      <td>0.107304</td>\n",
       "      <td>0.051116</td>\n",
       "      <td>-0.003923</td>\n",
       "      <td>-0.002968</td>\n",
       "      <td>0.097515</td>\n",
       "      <td>0.580578</td>\n",
       "      <td>0.756228</td>\n",
       "      <td>0.008454</td>\n",
       "      <td>1.000000</td>\n",
       "    </tr>\n",
       "  </tbody>\n",
       "</table>\n",
       "<p>2446 rows × 2446 columns</p>\n",
       "</div>"
      ],
      "text/plain": [
       "ISU_SRT_CD    000020    000040    000050    000060    000070    000075  \\\n",
       "ISU_SRT_CD                                                               \n",
       "000020      1.000000  0.176975  0.067970 -0.061092  0.065096  0.065429   \n",
       "000040      0.176975  1.000000  0.305702  0.057206  0.291463  0.289151   \n",
       "000050      0.067970  0.305702  1.000000  0.103863  0.147829  0.187276   \n",
       "000060     -0.061092  0.057206  0.103863  1.000000  0.206322  0.182085   \n",
       "000070      0.065096  0.291463  0.147829  0.206322  1.000000  0.692895   \n",
       "...              ...       ...       ...       ...       ...       ...   \n",
       "351330      0.259301  0.262753  0.151240  0.106697  0.337842  0.217872   \n",
       "367480      0.018944  0.028516 -0.029986  0.008310 -0.067337 -0.072044   \n",
       "373340     -0.002990  0.080077  0.018479  0.013131  0.016798  0.049500   \n",
       "361610      0.088787  0.174766  0.145210  0.143957  0.159134  0.143745   \n",
       "377400      0.053572  0.024963 -0.037371 -0.026710 -0.099578 -0.002175   \n",
       "\n",
       "ISU_SRT_CD    000080    000087    000100    000105  ...    378850    950220  \\\n",
       "ISU_SRT_CD                                          ...                       \n",
       "000020      0.088100  0.059320  0.234996  0.245992  ...  0.113706  0.190060   \n",
       "000040      0.348878  0.239266  0.282387  0.344444  ...  0.251704  0.214052   \n",
       "000050      0.181420  0.189016  0.127331  0.183388  ...  0.225200  0.130399   \n",
       "000060      0.064822  0.061655  0.091872  0.084379  ...  0.085146 -0.064838   \n",
       "000070      0.302850  0.291966  0.347349  0.320762  ...  0.225644  0.268488   \n",
       "...              ...       ...       ...       ...  ...       ...       ...   \n",
       "351330      0.219619  0.068630  0.294359  0.357279  ...  0.296278  0.268716   \n",
       "367480      0.153634  0.045628  0.080323  0.048637  ...  0.089146  0.070406   \n",
       "373340      0.065630  0.089725  0.123946  0.112921  ...  0.170741  0.153805   \n",
       "361610      0.121087  0.120054  0.250797  0.240627  ...  0.125564  0.265800   \n",
       "377400      0.055082  0.050384  0.130848  0.126498  ...  0.071155  0.107304   \n",
       "\n",
       "ISU_SRT_CD    059270    294570    333620    351330    367480    373340  \\\n",
       "ISU_SRT_CD                                                               \n",
       "000020      0.387558  0.202113  0.149201  0.259301  0.018944 -0.002990   \n",
       "000040      0.126283  0.146537  0.321289  0.262753  0.028516  0.080077   \n",
       "000050      0.220922  0.186181  0.199186  0.151240 -0.029986  0.018479   \n",
       "000060      0.072264  0.089808  0.048641  0.106697  0.008310  0.013131   \n",
       "000070      0.087510  0.269600  0.230988  0.337842 -0.067337  0.016798   \n",
       "...              ...       ...       ...       ...       ...       ...   \n",
       "351330      0.226408  0.278992  0.346724  1.000000  0.085025  0.060551   \n",
       "367480     -0.002748 -0.007907 -0.032707  0.085025  1.000000  0.420906   \n",
       "373340      0.045512  0.025768 -0.035332  0.060551  0.420906  1.000000   \n",
       "361610      0.045281  0.225969  0.151837  0.191163  0.037742 -0.011285   \n",
       "377400      0.051116 -0.003923 -0.002968  0.097515  0.580578  0.756228   \n",
       "\n",
       "ISU_SRT_CD    361610    377400  \n",
       "ISU_SRT_CD                      \n",
       "000020      0.088787  0.053572  \n",
       "000040      0.174766  0.024963  \n",
       "000050      0.145210 -0.037371  \n",
       "000060      0.143957 -0.026710  \n",
       "000070      0.159134 -0.099578  \n",
       "...              ...       ...  \n",
       "351330      0.191163  0.097515  \n",
       "367480      0.037742  0.580578  \n",
       "373340     -0.011285  0.756228  \n",
       "361610      1.000000  0.008454  \n",
       "377400      0.008454  1.000000  \n",
       "\n",
       "[2446 rows x 2446 columns]"
      ]
     },
     "execution_count": 20,
     "metadata": {},
     "output_type": "execute_result"
    }
   ],
   "source": [
    "return_corr_df = recent_return_df.corr(method='pearson')\n",
    "return_corr_df"
   ]
  },
  {
   "cell_type": "code",
   "execution_count": 21,
   "metadata": {},
   "outputs": [],
   "source": [
    "return_corr_df.to_pickle('return_corr_df.pkl')"
   ]
  },
  {
   "cell_type": "code",
   "execution_count": 621,
   "metadata": {},
   "outputs": [],
   "source": [
    "corr_sid_list = list(return_corr_df.columns)"
   ]
  },
  {
   "cell_type": "code",
   "execution_count": 622,
   "metadata": {},
   "outputs": [],
   "source": [
    "return_corr_arr = return_corr_df.values.tolist()\n",
    "return_corr_arr = return_corr_arr"
   ]
  },
  {
   "cell_type": "markdown",
   "metadata": {},
   "source": [
    "## Clustering with various algorithms"
   ]
  },
  {
   "cell_type": "code",
   "execution_count": 623,
   "metadata": {},
   "outputs": [],
   "source": [
    "n_clusters = 21 # daum 금융 업종별 시세 업종 갯수 # https://finance.daum.net/domestic/sectors\n",
    "random_seed = 123\n"
   ]
  },
  {
   "cell_type": "code",
   "execution_count": 624,
   "metadata": {},
   "outputs": [],
   "source": [
    "\n",
    "# kmeans++\n",
    "kmeans = KMeans(\n",
    "    n_clusters=n_clusters,\n",
    "    init='k-means++',\n",
    "    random_state=random_seed,\n",
    "    )\n",
    "\n",
    "# agllomerative (hierarchial) \n",
    "agglomerative = AgglomerativeClustering(\n",
    "    n_clusters=n_clusters,\n",
    "    )\n",
    "\n",
    "# DBSCAN\n",
    "dbscan = DBSCAN()"
   ]
  },
  {
   "cell_type": "markdown",
   "metadata": {},
   "source": [
    "### Test metric\n",
    "\n",
    "다음 금융의 업종별 주식들에서 거래량순으로 정렬하여 가져온 종목들"
   ]
  },
  {
   "cell_type": "code",
   "execution_count": 625,
   "metadata": {},
   "outputs": [
    {
     "data": {
      "text/plain": [
       "WindowsPath('E:/VSCodeProjects/korquanttools/notebooks')"
      ]
     },
     "execution_count": 625,
     "metadata": {},
     "output_type": "execute_result"
    }
   ],
   "source": [
    "curdir = Path('.').resolve()\n",
    "curdir"
   ]
  },
  {
   "cell_type": "code",
   "execution_count": 626,
   "metadata": {},
   "outputs": [],
   "source": [
    "sector_pickle_files = list(curdir.glob('D*.pkl'))\n",
    "\n",
    "sector_count = len(sector_pickle_files)"
   ]
  },
  {
   "cell_type": "code",
   "execution_count": 627,
   "metadata": {},
   "outputs": [
    {
     "name": "stdout",
     "output_type": "stream",
     "text": [
      "skipped 은행\n"
     ]
    }
   ],
   "source": [
    "sectorname2sidlist = {}\n",
    "\n",
    "for sector_pkl in sector_pickle_files:\n",
    "    sector_name = sector_pkl.stem\n",
    "    sector_name = sector_name[9:]\n",
    "\n",
    "    df = pd.read_pickle(sector_pkl)\n",
    "    try:\n",
    "        sid_list = list(df['symbolCode'])\n",
    "        sid_list = [sid[1:] for sid in sid_list]\n",
    "        sectorname2sidlist[sector_name] = sid_list\n",
    "    except:\n",
    "        print(f'skipped {sector_name}')\n",
    "\n",
    "\n"
   ]
  },
  {
   "cell_type": "code",
   "execution_count": 628,
   "metadata": {},
   "outputs": [
    {
     "data": {
      "text/plain": [
       "dict_keys(['음식료품', '섬유의복', '종이목재', '화학', '의약품', '비금속광물', '철강및금속', '기계', '전기전자', '의료정밀', '운수장비', '유통업', '전기가스업', '건설업', '운수창고', '통신업', '금융업', '증권', '보험', '서비스업'])"
      ]
     },
     "execution_count": 628,
     "metadata": {},
     "output_type": "execute_result"
    }
   ],
   "source": [
    "sectorname2sidlist.keys()"
   ]
  },
  {
   "cell_type": "code",
   "execution_count": 629,
   "metadata": {},
   "outputs": [
    {
     "name": "stdout",
     "output_type": "stream",
     "text": [
      "음식료품: 47\n",
      "섬유의복: 25\n",
      "종이목재: 19\n",
      "화학: 100\n",
      "의약품: 53\n",
      "비금속광물: 26\n",
      "철강및금속: 52\n",
      "기계: 42\n",
      "전기전자: 75\n",
      "의료정밀: 8\n",
      "운수장비: 65\n",
      "유통업: 66\n",
      "전기가스업: 10\n",
      "건설업: 37\n",
      "운수창고: 28\n",
      "통신업: 5\n",
      "금융업: 100\n",
      "증권: 31\n",
      "보험: 15\n",
      "서비스업: 97\n"
     ]
    }
   ],
   "source": [
    "for sectorname, sector_sid_list in sectorname2sidlist.items():\n",
    "    print(f'{sectorname}: {len(sector_sid_list)}')"
   ]
  },
  {
   "cell_type": "markdown",
   "metadata": {},
   "source": [
    "### KMeans++"
   ]
  },
  {
   "cell_type": "code",
   "execution_count": 630,
   "metadata": {},
   "outputs": [
    {
     "data": {
      "text/html": [
       "<style>#sk-container-id-34 {color: black;background-color: white;}#sk-container-id-34 pre{padding: 0;}#sk-container-id-34 div.sk-toggleable {background-color: white;}#sk-container-id-34 label.sk-toggleable__label {cursor: pointer;display: block;width: 100%;margin-bottom: 0;padding: 0.3em;box-sizing: border-box;text-align: center;}#sk-container-id-34 label.sk-toggleable__label-arrow:before {content: \"▸\";float: left;margin-right: 0.25em;color: #696969;}#sk-container-id-34 label.sk-toggleable__label-arrow:hover:before {color: black;}#sk-container-id-34 div.sk-estimator:hover label.sk-toggleable__label-arrow:before {color: black;}#sk-container-id-34 div.sk-toggleable__content {max-height: 0;max-width: 0;overflow: hidden;text-align: left;background-color: #f0f8ff;}#sk-container-id-34 div.sk-toggleable__content pre {margin: 0.2em;color: black;border-radius: 0.25em;background-color: #f0f8ff;}#sk-container-id-34 input.sk-toggleable__control:checked~div.sk-toggleable__content {max-height: 200px;max-width: 100%;overflow: auto;}#sk-container-id-34 input.sk-toggleable__control:checked~label.sk-toggleable__label-arrow:before {content: \"▾\";}#sk-container-id-34 div.sk-estimator input.sk-toggleable__control:checked~label.sk-toggleable__label {background-color: #d4ebff;}#sk-container-id-34 div.sk-label input.sk-toggleable__control:checked~label.sk-toggleable__label {background-color: #d4ebff;}#sk-container-id-34 input.sk-hidden--visually {border: 0;clip: rect(1px 1px 1px 1px);clip: rect(1px, 1px, 1px, 1px);height: 1px;margin: -1px;overflow: hidden;padding: 0;position: absolute;width: 1px;}#sk-container-id-34 div.sk-estimator {font-family: monospace;background-color: #f0f8ff;border: 1px dotted black;border-radius: 0.25em;box-sizing: border-box;margin-bottom: 0.5em;}#sk-container-id-34 div.sk-estimator:hover {background-color: #d4ebff;}#sk-container-id-34 div.sk-parallel-item::after {content: \"\";width: 100%;border-bottom: 1px solid gray;flex-grow: 1;}#sk-container-id-34 div.sk-label:hover label.sk-toggleable__label {background-color: #d4ebff;}#sk-container-id-34 div.sk-serial::before {content: \"\";position: absolute;border-left: 1px solid gray;box-sizing: border-box;top: 0;bottom: 0;left: 50%;z-index: 0;}#sk-container-id-34 div.sk-serial {display: flex;flex-direction: column;align-items: center;background-color: white;padding-right: 0.2em;padding-left: 0.2em;position: relative;}#sk-container-id-34 div.sk-item {position: relative;z-index: 1;}#sk-container-id-34 div.sk-parallel {display: flex;align-items: stretch;justify-content: center;background-color: white;position: relative;}#sk-container-id-34 div.sk-item::before, #sk-container-id-34 div.sk-parallel-item::before {content: \"\";position: absolute;border-left: 1px solid gray;box-sizing: border-box;top: 0;bottom: 0;left: 50%;z-index: -1;}#sk-container-id-34 div.sk-parallel-item {display: flex;flex-direction: column;z-index: 1;position: relative;background-color: white;}#sk-container-id-34 div.sk-parallel-item:first-child::after {align-self: flex-end;width: 50%;}#sk-container-id-34 div.sk-parallel-item:last-child::after {align-self: flex-start;width: 50%;}#sk-container-id-34 div.sk-parallel-item:only-child::after {width: 0;}#sk-container-id-34 div.sk-dashed-wrapped {border: 1px dashed gray;margin: 0 0.4em 0.5em 0.4em;box-sizing: border-box;padding-bottom: 0.4em;background-color: white;}#sk-container-id-34 div.sk-label label {font-family: monospace;font-weight: bold;display: inline-block;line-height: 1.2em;}#sk-container-id-34 div.sk-label-container {text-align: center;}#sk-container-id-34 div.sk-container {/* jupyter's `normalize.less` sets `[hidden] { display: none; }` but bootstrap.min.css set `[hidden] { display: none !important; }` so we also need the `!important` here to be able to override the default hidden behavior on the sphinx rendered scikit-learn.org. See: https://github.com/scikit-learn/scikit-learn/issues/21755 */display: inline-block !important;position: relative;}#sk-container-id-34 div.sk-text-repr-fallback {display: none;}</style><div id=\"sk-container-id-34\" class=\"sk-top-container\"><div class=\"sk-text-repr-fallback\"><pre>KMeans(n_clusters=21, random_state=123)</pre><b>In a Jupyter environment, please rerun this cell to show the HTML representation or trust the notebook. <br />On GitHub, the HTML representation is unable to render, please try loading this page with nbviewer.org.</b></div><div class=\"sk-container\" hidden><div class=\"sk-item\"><div class=\"sk-estimator sk-toggleable\"><input class=\"sk-toggleable__control sk-hidden--visually\" id=\"sk-estimator-id-34\" type=\"checkbox\" checked><label for=\"sk-estimator-id-34\" class=\"sk-toggleable__label sk-toggleable__label-arrow\">KMeans</label><div class=\"sk-toggleable__content\"><pre>KMeans(n_clusters=21, random_state=123)</pre></div></div></div></div></div>"
      ],
      "text/plain": [
       "KMeans(n_clusters=21, random_state=123)"
      ]
     },
     "execution_count": 630,
     "metadata": {},
     "output_type": "execute_result"
    }
   ],
   "source": [
    "kmeans.fit(return_corr_arr)"
   ]
  },
  {
   "cell_type": "code",
   "execution_count": 631,
   "metadata": {},
   "outputs": [
    {
     "data": {
      "text/plain": [
       "array([14, 13, 19, 13, 17, 13, 16, 16,  5, 10,  2,  1,  2,  9,  2, 15, 11,\n",
       "       17, 19, 10, 10,  1, 11,  3, 13, 17,  4, 13, 13, 17, 11,  5,  4, 10,\n",
       "        2, 13,  1, 17,  9,  9, 16,  2,  2, 10, 16, 18,  3,  2,  0,  5,  2,\n",
       "       11, 13,  2,  1, 14,  2, 16,  0, 18, 11,  9,  4,  9,  4,  2,  1,  0,\n",
       "        0,  3,  0,  5,  3,  2, 10, 12, 12, 12,  3,  5,  6, 13, 16,  8, 12,\n",
       "        6,  2, 20, 15,  1,  1,  5, 19, 16,  7, 15, 20,  6,  6,  8, 15, 20,\n",
       "       13, 11,  6, 18, 18,  8, 11,  5, 18,  2, 11,  7, 20,  1, 10,  1, 11,\n",
       "        8,  5,  6, 18,  2,  6, 14,  3,  7,  5,  3,  6, 19, 11,  8, 12,  5,\n",
       "       14, 10, 16,  6, 17,  6, 18,  8, 10,  4,  3, 10,  6, 10, 20, 14, 18,\n",
       "       15,  8, 18,  6,  1, 15,  4,  2,  2, 20, 10,  1, 20, 15, 11,  7, 11,\n",
       "        9, 11,  3,  8,  1, 12, 20, 15,  1])"
      ]
     },
     "execution_count": 631,
     "metadata": {},
     "output_type": "execute_result"
    }
   ],
   "source": [
    "kmeans.labels_"
   ]
  },
  {
   "cell_type": "code",
   "execution_count": 632,
   "metadata": {},
   "outputs": [
    {
     "data": {
      "text/plain": [
       "array([[ 0.04690687,  0.16337888,  0.00127276, ...,  0.06487384,\n",
       "        -0.01913044,  0.13085249],\n",
       "       [ 0.07046294,  0.185173  , -0.01695385, ...,  0.12528891,\n",
       "         0.10246934,  0.20530808],\n",
       "       [ 0.05784338,  0.28232827,  0.01483411, ...,  0.11172948,\n",
       "         0.02144846,  0.1704861 ],\n",
       "       ...,\n",
       "       [ 0.0212189 ,  0.13368946, -0.06487292, ...,  0.15753721,\n",
       "         0.19506831,  0.15035165],\n",
       "       [-0.06740809, -0.15059825,  0.73603369, ..., -0.0852758 ,\n",
       "        -0.01163947, -0.01283959],\n",
       "       [-0.01150862,  0.12822159, -0.04023092, ...,  0.42611388,\n",
       "         0.03184884,  0.1450911 ]])"
      ]
     },
     "execution_count": 632,
     "metadata": {},
     "output_type": "execute_result"
    }
   ],
   "source": [
    "kmeans.cluster_centers_"
   ]
  },
  {
   "cell_type": "markdown",
   "metadata": {},
   "source": [
    "### Agglomerative Clustering"
   ]
  },
  {
   "cell_type": "code",
   "execution_count": 633,
   "metadata": {},
   "outputs": [
    {
     "data": {
      "text/html": [
       "<style>#sk-container-id-35 {color: black;background-color: white;}#sk-container-id-35 pre{padding: 0;}#sk-container-id-35 div.sk-toggleable {background-color: white;}#sk-container-id-35 label.sk-toggleable__label {cursor: pointer;display: block;width: 100%;margin-bottom: 0;padding: 0.3em;box-sizing: border-box;text-align: center;}#sk-container-id-35 label.sk-toggleable__label-arrow:before {content: \"▸\";float: left;margin-right: 0.25em;color: #696969;}#sk-container-id-35 label.sk-toggleable__label-arrow:hover:before {color: black;}#sk-container-id-35 div.sk-estimator:hover label.sk-toggleable__label-arrow:before {color: black;}#sk-container-id-35 div.sk-toggleable__content {max-height: 0;max-width: 0;overflow: hidden;text-align: left;background-color: #f0f8ff;}#sk-container-id-35 div.sk-toggleable__content pre {margin: 0.2em;color: black;border-radius: 0.25em;background-color: #f0f8ff;}#sk-container-id-35 input.sk-toggleable__control:checked~div.sk-toggleable__content {max-height: 200px;max-width: 100%;overflow: auto;}#sk-container-id-35 input.sk-toggleable__control:checked~label.sk-toggleable__label-arrow:before {content: \"▾\";}#sk-container-id-35 div.sk-estimator input.sk-toggleable__control:checked~label.sk-toggleable__label {background-color: #d4ebff;}#sk-container-id-35 div.sk-label input.sk-toggleable__control:checked~label.sk-toggleable__label {background-color: #d4ebff;}#sk-container-id-35 input.sk-hidden--visually {border: 0;clip: rect(1px 1px 1px 1px);clip: rect(1px, 1px, 1px, 1px);height: 1px;margin: -1px;overflow: hidden;padding: 0;position: absolute;width: 1px;}#sk-container-id-35 div.sk-estimator {font-family: monospace;background-color: #f0f8ff;border: 1px dotted black;border-radius: 0.25em;box-sizing: border-box;margin-bottom: 0.5em;}#sk-container-id-35 div.sk-estimator:hover {background-color: #d4ebff;}#sk-container-id-35 div.sk-parallel-item::after {content: \"\";width: 100%;border-bottom: 1px solid gray;flex-grow: 1;}#sk-container-id-35 div.sk-label:hover label.sk-toggleable__label {background-color: #d4ebff;}#sk-container-id-35 div.sk-serial::before {content: \"\";position: absolute;border-left: 1px solid gray;box-sizing: border-box;top: 0;bottom: 0;left: 50%;z-index: 0;}#sk-container-id-35 div.sk-serial {display: flex;flex-direction: column;align-items: center;background-color: white;padding-right: 0.2em;padding-left: 0.2em;position: relative;}#sk-container-id-35 div.sk-item {position: relative;z-index: 1;}#sk-container-id-35 div.sk-parallel {display: flex;align-items: stretch;justify-content: center;background-color: white;position: relative;}#sk-container-id-35 div.sk-item::before, #sk-container-id-35 div.sk-parallel-item::before {content: \"\";position: absolute;border-left: 1px solid gray;box-sizing: border-box;top: 0;bottom: 0;left: 50%;z-index: -1;}#sk-container-id-35 div.sk-parallel-item {display: flex;flex-direction: column;z-index: 1;position: relative;background-color: white;}#sk-container-id-35 div.sk-parallel-item:first-child::after {align-self: flex-end;width: 50%;}#sk-container-id-35 div.sk-parallel-item:last-child::after {align-self: flex-start;width: 50%;}#sk-container-id-35 div.sk-parallel-item:only-child::after {width: 0;}#sk-container-id-35 div.sk-dashed-wrapped {border: 1px dashed gray;margin: 0 0.4em 0.5em 0.4em;box-sizing: border-box;padding-bottom: 0.4em;background-color: white;}#sk-container-id-35 div.sk-label label {font-family: monospace;font-weight: bold;display: inline-block;line-height: 1.2em;}#sk-container-id-35 div.sk-label-container {text-align: center;}#sk-container-id-35 div.sk-container {/* jupyter's `normalize.less` sets `[hidden] { display: none; }` but bootstrap.min.css set `[hidden] { display: none !important; }` so we also need the `!important` here to be able to override the default hidden behavior on the sphinx rendered scikit-learn.org. See: https://github.com/scikit-learn/scikit-learn/issues/21755 */display: inline-block !important;position: relative;}#sk-container-id-35 div.sk-text-repr-fallback {display: none;}</style><div id=\"sk-container-id-35\" class=\"sk-top-container\"><div class=\"sk-text-repr-fallback\"><pre>AgglomerativeClustering(n_clusters=21)</pre><b>In a Jupyter environment, please rerun this cell to show the HTML representation or trust the notebook. <br />On GitHub, the HTML representation is unable to render, please try loading this page with nbviewer.org.</b></div><div class=\"sk-container\" hidden><div class=\"sk-item\"><div class=\"sk-estimator sk-toggleable\"><input class=\"sk-toggleable__control sk-hidden--visually\" id=\"sk-estimator-id-35\" type=\"checkbox\" checked><label for=\"sk-estimator-id-35\" class=\"sk-toggleable__label sk-toggleable__label-arrow\">AgglomerativeClustering</label><div class=\"sk-toggleable__content\"><pre>AgglomerativeClustering(n_clusters=21)</pre></div></div></div></div></div>"
      ],
      "text/plain": [
       "AgglomerativeClustering(n_clusters=21)"
      ]
     },
     "execution_count": 633,
     "metadata": {},
     "output_type": "execute_result"
    }
   ],
   "source": [
    "agglomerative.fit(return_corr_arr)"
   ]
  },
  {
   "cell_type": "code",
   "execution_count": 634,
   "metadata": {},
   "outputs": [
    {
     "data": {
      "text/plain": [
       "array([ 9, 20, 17, 13,  7, 13,  1, 15, 16,  3,  1,  2,  8,  4,  8,  6,  0,\n",
       "        7, 17,  2, 19,  2, 12,  0, 20,  7, 14, 13, 13,  7,  0, 16, 14,  3,\n",
       "        8, 13,  2,  7,  8,  8,  2,  7,  7,  2,  1,  6,  0,  8,  1, 16,  8,\n",
       "       12, 20,  3,  2,  9,  8, 15,  1,  6, 12, 19, 14,  2, 14,  1,  2,  1,\n",
       "        1, 18,  1, 16, 13,  8,  2,  4,  4,  4, 18,  1,  5,  0, 19,  4,  4,\n",
       "        5,  3, 18,  6,  2,  0, 16, 17, 19, 11,  6,  5,  5,  5, 18,  6, 18,\n",
       "        8, 12,  5, 10, 10,  5, 12, 16,  6, 20, 12, 11, 18,  2,  3,  0, 12,\n",
       "        5, 16,  5,  6,  8,  5,  9, 18, 11, 16,  0,  5, 17, 12, 18,  4, 16,\n",
       "        9,  2, 15,  5,  7,  5,  6,  5,  3, 14,  0,  2,  5,  3,  5,  9, 10,\n",
       "        6,  5, 10,  5,  0,  6, 14,  8,  8,  5,  3,  0,  5,  6, 12, 11, 12,\n",
       "        8, 12,  0,  5,  2,  4,  5,  6,  0], dtype=int64)"
      ]
     },
     "execution_count": 634,
     "metadata": {},
     "output_type": "execute_result"
    }
   ],
   "source": [
    "agglomerative.labels_"
   ]
  },
  {
   "cell_type": "markdown",
   "metadata": {},
   "source": [
    "### DBSCAN"
   ]
  },
  {
   "cell_type": "code",
   "execution_count": 635,
   "metadata": {},
   "outputs": [
    {
     "data": {
      "text/html": [
       "<style>#sk-container-id-36 {color: black;background-color: white;}#sk-container-id-36 pre{padding: 0;}#sk-container-id-36 div.sk-toggleable {background-color: white;}#sk-container-id-36 label.sk-toggleable__label {cursor: pointer;display: block;width: 100%;margin-bottom: 0;padding: 0.3em;box-sizing: border-box;text-align: center;}#sk-container-id-36 label.sk-toggleable__label-arrow:before {content: \"▸\";float: left;margin-right: 0.25em;color: #696969;}#sk-container-id-36 label.sk-toggleable__label-arrow:hover:before {color: black;}#sk-container-id-36 div.sk-estimator:hover label.sk-toggleable__label-arrow:before {color: black;}#sk-container-id-36 div.sk-toggleable__content {max-height: 0;max-width: 0;overflow: hidden;text-align: left;background-color: #f0f8ff;}#sk-container-id-36 div.sk-toggleable__content pre {margin: 0.2em;color: black;border-radius: 0.25em;background-color: #f0f8ff;}#sk-container-id-36 input.sk-toggleable__control:checked~div.sk-toggleable__content {max-height: 200px;max-width: 100%;overflow: auto;}#sk-container-id-36 input.sk-toggleable__control:checked~label.sk-toggleable__label-arrow:before {content: \"▾\";}#sk-container-id-36 div.sk-estimator input.sk-toggleable__control:checked~label.sk-toggleable__label {background-color: #d4ebff;}#sk-container-id-36 div.sk-label input.sk-toggleable__control:checked~label.sk-toggleable__label {background-color: #d4ebff;}#sk-container-id-36 input.sk-hidden--visually {border: 0;clip: rect(1px 1px 1px 1px);clip: rect(1px, 1px, 1px, 1px);height: 1px;margin: -1px;overflow: hidden;padding: 0;position: absolute;width: 1px;}#sk-container-id-36 div.sk-estimator {font-family: monospace;background-color: #f0f8ff;border: 1px dotted black;border-radius: 0.25em;box-sizing: border-box;margin-bottom: 0.5em;}#sk-container-id-36 div.sk-estimator:hover {background-color: #d4ebff;}#sk-container-id-36 div.sk-parallel-item::after {content: \"\";width: 100%;border-bottom: 1px solid gray;flex-grow: 1;}#sk-container-id-36 div.sk-label:hover label.sk-toggleable__label {background-color: #d4ebff;}#sk-container-id-36 div.sk-serial::before {content: \"\";position: absolute;border-left: 1px solid gray;box-sizing: border-box;top: 0;bottom: 0;left: 50%;z-index: 0;}#sk-container-id-36 div.sk-serial {display: flex;flex-direction: column;align-items: center;background-color: white;padding-right: 0.2em;padding-left: 0.2em;position: relative;}#sk-container-id-36 div.sk-item {position: relative;z-index: 1;}#sk-container-id-36 div.sk-parallel {display: flex;align-items: stretch;justify-content: center;background-color: white;position: relative;}#sk-container-id-36 div.sk-item::before, #sk-container-id-36 div.sk-parallel-item::before {content: \"\";position: absolute;border-left: 1px solid gray;box-sizing: border-box;top: 0;bottom: 0;left: 50%;z-index: -1;}#sk-container-id-36 div.sk-parallel-item {display: flex;flex-direction: column;z-index: 1;position: relative;background-color: white;}#sk-container-id-36 div.sk-parallel-item:first-child::after {align-self: flex-end;width: 50%;}#sk-container-id-36 div.sk-parallel-item:last-child::after {align-self: flex-start;width: 50%;}#sk-container-id-36 div.sk-parallel-item:only-child::after {width: 0;}#sk-container-id-36 div.sk-dashed-wrapped {border: 1px dashed gray;margin: 0 0.4em 0.5em 0.4em;box-sizing: border-box;padding-bottom: 0.4em;background-color: white;}#sk-container-id-36 div.sk-label label {font-family: monospace;font-weight: bold;display: inline-block;line-height: 1.2em;}#sk-container-id-36 div.sk-label-container {text-align: center;}#sk-container-id-36 div.sk-container {/* jupyter's `normalize.less` sets `[hidden] { display: none; }` but bootstrap.min.css set `[hidden] { display: none !important; }` so we also need the `!important` here to be able to override the default hidden behavior on the sphinx rendered scikit-learn.org. See: https://github.com/scikit-learn/scikit-learn/issues/21755 */display: inline-block !important;position: relative;}#sk-container-id-36 div.sk-text-repr-fallback {display: none;}</style><div id=\"sk-container-id-36\" class=\"sk-top-container\"><div class=\"sk-text-repr-fallback\"><pre>DBSCAN()</pre><b>In a Jupyter environment, please rerun this cell to show the HTML representation or trust the notebook. <br />On GitHub, the HTML representation is unable to render, please try loading this page with nbviewer.org.</b></div><div class=\"sk-container\" hidden><div class=\"sk-item\"><div class=\"sk-estimator sk-toggleable\"><input class=\"sk-toggleable__control sk-hidden--visually\" id=\"sk-estimator-id-36\" type=\"checkbox\" checked><label for=\"sk-estimator-id-36\" class=\"sk-toggleable__label sk-toggleable__label-arrow\">DBSCAN</label><div class=\"sk-toggleable__content\"><pre>DBSCAN()</pre></div></div></div></div></div>"
      ],
      "text/plain": [
       "DBSCAN()"
      ]
     },
     "execution_count": 635,
     "metadata": {},
     "output_type": "execute_result"
    }
   ],
   "source": [
    "dbscan.fit(return_corr_arr)"
   ]
  },
  {
   "cell_type": "code",
   "execution_count": 636,
   "metadata": {},
   "outputs": [
    {
     "data": {
      "text/plain": [
       "array([-1, -1, -1, -1, -1, -1, -1, -1, -1, -1, -1, -1, -1, -1, -1, -1, -1,\n",
       "       -1, -1, -1, -1, -1, -1, -1, -1, -1, -1, -1, -1, -1, -1, -1, -1, -1,\n",
       "       -1, -1, -1, -1, -1, -1, -1, -1, -1, -1, -1, -1, -1, -1, -1, -1, -1,\n",
       "       -1, -1, -1, -1, -1, -1, -1, -1, -1, -1, -1, -1, -1, -1, -1, -1, -1,\n",
       "       -1, -1, -1, -1, -1, -1, -1, -1, -1, -1, -1, -1, -1, -1, -1, -1, -1,\n",
       "       -1, -1, -1, -1, -1, -1, -1, -1, -1, -1, -1, -1, -1, -1, -1, -1, -1,\n",
       "       -1, -1, -1, -1, -1, -1, -1, -1, -1, -1, -1, -1, -1, -1, -1, -1, -1,\n",
       "       -1, -1, -1, -1, -1, -1, -1, -1, -1, -1, -1, -1, -1, -1, -1, -1, -1,\n",
       "       -1, -1, -1, -1, -1, -1, -1, -1, -1, -1, -1, -1, -1, -1, -1, -1, -1,\n",
       "       -1, -1, -1, -1, -1, -1, -1, -1, -1, -1, -1, -1, -1, -1, -1, -1, -1,\n",
       "       -1, -1, -1, -1, -1, -1, -1, -1, -1], dtype=int64)"
      ]
     },
     "execution_count": 636,
     "metadata": {},
     "output_type": "execute_result"
    }
   ],
   "source": [
    "dbscan.labels_"
   ]
  },
  {
   "cell_type": "markdown",
   "metadata": {},
   "source": [
    "## Test performance"
   ]
  },
  {
   "cell_type": "markdown",
   "metadata": {},
   "source": [
    "### KMeans++"
   ]
  },
  {
   "cell_type": "code",
   "execution_count": 637,
   "metadata": {},
   "outputs": [],
   "source": [
    "sid2group = {}\n",
    "\n",
    "for sid, group in zip(corr_sid_list, kmeans.labels_):\n",
    "    sid2group[sid] = group\n"
   ]
  },
  {
   "cell_type": "code",
   "execution_count": 638,
   "metadata": {},
   "outputs": [],
   "source": [
    "sector2group = {}\n",
    "sector2sidlist = {}\n",
    "\n",
    "for sectorname, sector_sid_list in sectorname2sidlist.items():\n",
    "    sector2group[sectorname] = [sid2group[sid] for sid in sector_sid_list if sid in sid2group]\n",
    "    sector2sidlist[sectorname] = [sid for sid in sector_sid_list if sid in sid2group]"
   ]
  },
  {
   "cell_type": "code",
   "execution_count": 639,
   "metadata": {},
   "outputs": [
    {
     "name": "stdout",
     "output_type": "stream",
     "text": [
      "음식료품, Rank#1: 1.0, Rank#N: 1.0, Total: 1\n",
      "섬유의복, Rank#1: 0.5, Rank#N: 1.0, Total: 2\n",
      "종이목재 most_common: []\n",
      "화학, Rank#1: 0.2857142857142857, Rank#N: 0.6666666666666666, Total: 21\n",
      "의약품, Rank#1: 0.5, Rank#N: 0.875, Total: 8\n",
      "비금속광물, Rank#1: 0.5, Rank#N: 1.0, Total: 2\n",
      "철강및금속, Rank#1: 0.4, Rank#N: 1.0, Total: 5\n",
      "기계, Rank#1: 0.5, Rank#N: 1.0, Total: 4\n",
      "전기전자, Rank#1: 0.35294117647058826, Rank#N: 0.7058823529411765, Total: 17\n",
      "의료정밀, Rank#1: 1.0, Rank#N: 1.0, Total: 1\n",
      "운수장비, Rank#1: 0.5, Rank#N: 1.0, Total: 8\n",
      "유통업, Rank#1: 0.3333333333333333, Rank#N: 1.0, Total: 3\n",
      "전기가스업, Rank#1: 0.3333333333333333, Rank#N: 1.0, Total: 3\n",
      "건설업, Rank#1: 0.5, Rank#N: 1.0, Total: 4\n",
      "운수창고, Rank#1: 0.5, Rank#N: 1.0, Total: 4\n",
      "통신업, Rank#1: 1.0, Rank#N: 1.0, Total: 2\n",
      "금융업, Rank#1: 0.5714285714285714, Rank#N: 1.0, Total: 7\n",
      "증권, Rank#1: 1.0, Rank#N: 1.0, Total: 1\n",
      "보험 most_common: []\n",
      "서비스업, Rank#1: 0.3333333333333333, Rank#N: 0.6666666666666666, Total: 9\n",
      "Rank#1 avg: 0.5616713352007471, Rank#N avg: 0.9396786492374728\n"
     ]
    }
   ],
   "source": [
    "rank1_ratios = []\n",
    "rankn_ratios = []\n",
    "\n",
    "for i, (sectorname, sector_group_list) in enumerate(sector2group.items()):\n",
    "    # plt.figure(i)\n",
    "    # sns.histplot(sector_group_list,).set(title=sectorname)\n",
    "\n",
    "    counter = Counter(sector_group_list)\n",
    "    most_common = counter.most_common(n=3)\n",
    "    total_count = len(sector_group_list)\n",
    "\n",
    "    if not most_common:\n",
    "        print(f'{sectorname} most_common: {most_common}')\n",
    "        continue\n",
    "\n",
    "    rank1_count = most_common[0][1]\n",
    "    rankn_count = sum([x[1] for x in most_common])\n",
    "\n",
    "    rank1_ratio = rank1_count / total_count\n",
    "    rankn_ratio = rankn_count / total_count\n",
    "\n",
    "    rank1_ratios.append(rank1_ratio)\n",
    "    rankn_ratios.append(rankn_ratio)\n",
    "\n",
    "    print(f'{sectorname}, Rank#1: {rank1_ratio}, Rank#N: {rankn_ratio}, Total: {total_count}')\n",
    "\n",
    "print(f'Rank#1 avg: {np.mean(rank1_ratios)}, Rank#N avg: {np.mean(rankn_ratios)}')"
   ]
  },
  {
   "cell_type": "markdown",
   "metadata": {},
   "source": [
    "### Agglomerative"
   ]
  },
  {
   "cell_type": "code",
   "execution_count": 640,
   "metadata": {},
   "outputs": [],
   "source": [
    "sid2group = {}\n",
    "\n",
    "for sid, group in zip(corr_sid_list, agglomerative.labels_):\n",
    "    sid2group[sid] = group\n"
   ]
  },
  {
   "cell_type": "code",
   "execution_count": 641,
   "metadata": {},
   "outputs": [],
   "source": [
    "sector2group = {}\n",
    "sector2sidlist = {}\n",
    "\n",
    "for sectorname, sector_sid_list in sectorname2sidlist.items():\n",
    "    sector2group[sectorname] = [sid2group[sid] for sid in sector_sid_list if sid in sid2group]\n",
    "    sector2sidlist[sectorname] = [sid for sid in sector_sid_list if sid in sid2group]"
   ]
  },
  {
   "cell_type": "code",
   "execution_count": 642,
   "metadata": {},
   "outputs": [
    {
     "name": "stdout",
     "output_type": "stream",
     "text": [
      "음식료품, Rank#1: 1.0, Rank#N: 1.0, Total: 1\n",
      "섬유의복, Rank#1: 0.5, Rank#N: 1.0, Total: 2\n",
      "종이목재 most_common: []\n",
      "화학, Rank#1: 0.3333333333333333, Rank#N: 0.7142857142857143, Total: 21\n",
      "의약품, Rank#1: 0.375, Rank#N: 0.875, Total: 8\n",
      "비금속광물, Rank#1: 0.5, Rank#N: 1.0, Total: 2\n",
      "철강및금속, Rank#1: 0.4, Rank#N: 0.8, Total: 5\n",
      "기계, Rank#1: 0.5, Rank#N: 1.0, Total: 4\n",
      "전기전자, Rank#1: 0.35294117647058826, Rank#N: 0.7647058823529411, Total: 17\n",
      "의료정밀, Rank#1: 1.0, Rank#N: 1.0, Total: 1\n",
      "운수장비, Rank#1: 0.375, Rank#N: 1.0, Total: 8\n",
      "유통업, Rank#1: 0.3333333333333333, Rank#N: 1.0, Total: 3\n",
      "전기가스업, Rank#1: 0.3333333333333333, Rank#N: 1.0, Total: 3\n",
      "건설업, Rank#1: 0.5, Rank#N: 1.0, Total: 4\n",
      "운수창고, Rank#1: 0.5, Rank#N: 1.0, Total: 4\n",
      "통신업, Rank#1: 1.0, Rank#N: 1.0, Total: 2\n",
      "금융업, Rank#1: 0.5714285714285714, Rank#N: 1.0, Total: 7\n",
      "증권, Rank#1: 1.0, Rank#N: 1.0, Total: 1\n",
      "보험 most_common: []\n",
      "서비스업, Rank#1: 0.3333333333333333, Rank#N: 0.7777777777777778, Total: 9\n",
      "Rank#1 avg: 0.5504279489573608, Rank#N avg: 0.9406538541342463\n"
     ]
    }
   ],
   "source": [
    "rank1_ratios = []\n",
    "rankn_ratios = []\n",
    "\n",
    "for i, (sectorname, sector_group_list) in enumerate(sector2group.items()):\n",
    "    # plt.figure(i)\n",
    "    # sns.histplot(sector_group_list,).set(title=sectorname)\n",
    "\n",
    "    counter = Counter(sector_group_list)\n",
    "    most_common = counter.most_common(n=3)\n",
    "    total_count = len(sector_group_list)\n",
    "\n",
    "    if not most_common:\n",
    "        print(f'{sectorname} most_common: {most_common}')\n",
    "        continue\n",
    "\n",
    "    rank1_count = most_common[0][1]\n",
    "    rankn_count = sum([x[1] for x in most_common])\n",
    "\n",
    "    rank1_ratio = rank1_count / total_count\n",
    "    rankn_ratio = rankn_count / total_count\n",
    "\n",
    "    rank1_ratios.append(rank1_ratio)\n",
    "    rankn_ratios.append(rankn_ratio)\n",
    "\n",
    "    print(f'{sectorname}, Rank#1: {rank1_ratio}, Rank#N: {rankn_ratio}, Total: {total_count}')\n",
    "\n",
    "print(f'Rank#1 avg: {np.mean(rank1_ratios)}, Rank#N avg: {np.mean(rankn_ratios)}')"
   ]
  },
  {
   "cell_type": "code",
   "execution_count": 659,
   "metadata": {},
   "outputs": [],
   "source": [
    "sectorname = '서비스업'\n",
    "result = []\n",
    "\n",
    "for sid, group in zip(sector2sidlist[sectorname], sector2group[sectorname]):\n",
    "    result.append({\n",
    "        'sectorname': sectorname,\n",
    "        'sid': sid,\n",
    "        'name': sid2name[sid],\n",
    "        'group_id': group,\n",
    "    })"
   ]
  },
  {
   "cell_type": "code",
   "execution_count": 660,
   "metadata": {},
   "outputs": [
    {
     "data": {
      "text/html": [
       "<div>\n",
       "<style scoped>\n",
       "    .dataframe tbody tr th:only-of-type {\n",
       "        vertical-align: middle;\n",
       "    }\n",
       "\n",
       "    .dataframe tbody tr th {\n",
       "        vertical-align: top;\n",
       "    }\n",
       "\n",
       "    .dataframe thead th {\n",
       "        text-align: right;\n",
       "    }\n",
       "</style>\n",
       "<table border=\"1\" class=\"dataframe\">\n",
       "  <thead>\n",
       "    <tr style=\"text-align: right;\">\n",
       "      <th></th>\n",
       "      <th>sectorname</th>\n",
       "      <th>sid</th>\n",
       "      <th>name</th>\n",
       "      <th>group_id</th>\n",
       "      <th>count</th>\n",
       "    </tr>\n",
       "  </thead>\n",
       "  <tbody>\n",
       "    <tr>\n",
       "      <th>0</th>\n",
       "      <td>서비스업</td>\n",
       "      <td>035420</td>\n",
       "      <td>NAVER</td>\n",
       "      <td>4</td>\n",
       "      <td>3</td>\n",
       "    </tr>\n",
       "    <tr>\n",
       "      <th>1</th>\n",
       "      <td>서비스업</td>\n",
       "      <td>035720</td>\n",
       "      <td>카카오</td>\n",
       "      <td>4</td>\n",
       "      <td>3</td>\n",
       "    </tr>\n",
       "    <tr>\n",
       "      <th>2</th>\n",
       "      <td>서비스업</td>\n",
       "      <td>352820</td>\n",
       "      <td>하이브</td>\n",
       "      <td>4</td>\n",
       "      <td>3</td>\n",
       "    </tr>\n",
       "    <tr>\n",
       "      <th>3</th>\n",
       "      <td>서비스업</td>\n",
       "      <td>036570</td>\n",
       "      <td>엔씨소프트</td>\n",
       "      <td>5</td>\n",
       "      <td>2</td>\n",
       "    </tr>\n",
       "    <tr>\n",
       "      <th>5</th>\n",
       "      <td>서비스업</td>\n",
       "      <td>052690</td>\n",
       "      <td>한전기술</td>\n",
       "      <td>16</td>\n",
       "      <td>2</td>\n",
       "    </tr>\n",
       "    <tr>\n",
       "      <th>6</th>\n",
       "      <td>서비스업</td>\n",
       "      <td>251270</td>\n",
       "      <td>넷마블</td>\n",
       "      <td>5</td>\n",
       "      <td>2</td>\n",
       "    </tr>\n",
       "    <tr>\n",
       "      <th>8</th>\n",
       "      <td>서비스업</td>\n",
       "      <td>130660</td>\n",
       "      <td>한전산업</td>\n",
       "      <td>16</td>\n",
       "      <td>2</td>\n",
       "    </tr>\n",
       "    <tr>\n",
       "      <th>4</th>\n",
       "      <td>서비스업</td>\n",
       "      <td>028050</td>\n",
       "      <td>삼성엔지니어링</td>\n",
       "      <td>1</td>\n",
       "      <td>1</td>\n",
       "    </tr>\n",
       "    <tr>\n",
       "      <th>7</th>\n",
       "      <td>서비스업</td>\n",
       "      <td>036420</td>\n",
       "      <td>제이콘텐트리</td>\n",
       "      <td>18</td>\n",
       "      <td>1</td>\n",
       "    </tr>\n",
       "  </tbody>\n",
       "</table>\n",
       "</div>"
      ],
      "text/plain": [
       "  sectorname     sid     name  group_id  count\n",
       "0       서비스업  035420    NAVER         4      3\n",
       "1       서비스업  035720      카카오         4      3\n",
       "2       서비스업  352820      하이브         4      3\n",
       "3       서비스업  036570    엔씨소프트         5      2\n",
       "5       서비스업  052690     한전기술        16      2\n",
       "6       서비스업  251270      넷마블         5      2\n",
       "8       서비스업  130660     한전산업        16      2\n",
       "4       서비스업  028050  삼성엔지니어링         1      1\n",
       "7       서비스업  036420   제이콘텐트리        18      1"
      ]
     },
     "execution_count": 660,
     "metadata": {},
     "output_type": "execute_result"
    }
   ],
   "source": [
    "df = pd.DataFrame(result)\n",
    "df['count'] = df.groupby('group_id')['group_id'].transform('count')\n",
    "df = df.sort_values('count', ascending=False)\n",
    "df"
   ]
  },
  {
   "cell_type": "code",
   "execution_count": null,
   "metadata": {},
   "outputs": [],
   "source": []
  }
 ],
 "metadata": {
  "kernelspec": {
   "display_name": "Python 3.8.6 ('.venv': poetry)",
   "language": "python",
   "name": "python3"
  },
  "language_info": {
   "codemirror_mode": {
    "name": "ipython",
    "version": 3
   },
   "file_extension": ".py",
   "mimetype": "text/x-python",
   "name": "python",
   "nbconvert_exporter": "python",
   "pygments_lexer": "ipython3",
   "version": "3.8.6"
  },
  "orig_nbformat": 4,
  "vscode": {
   "interpreter": {
    "hash": "b653a6991a0150363b7c7df033ded56ed180846b604af9b857a996de5a460eb0"
   }
  }
 },
 "nbformat": 4,
 "nbformat_minor": 2
}
