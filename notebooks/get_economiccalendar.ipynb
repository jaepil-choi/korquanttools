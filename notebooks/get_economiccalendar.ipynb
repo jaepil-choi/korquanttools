{
 "cells": [
  {
   "cell_type": "code",
   "execution_count": 9,
   "metadata": {},
   "outputs": [],
   "source": [
    "from typing import Any, Dict, List, Optional, Union\n",
    "\n",
    "import requests\n",
    "from requests.adapters import HTTPAdapter\n",
    "from requests.packages.urllib3.util.retry import Retry\n",
    "from bs4 import BeautifulSoup as bs\n",
    "\n",
    "import pandas as pd\n",
    "import numpy as np\n",
    "\n",
    "import re\n",
    "\n",
    "from copy import deepcopy\n",
    "\n",
    "## custom libs\n",
    "\n",
    "from korquanttools.pricevolume.config import PathConfig, ScraperConfig\n",
    "from korquanttools.pricevolume.processor import Preprocessor, Lv2Converter\n",
    "from korquanttools.pricevolume.utils import DateUtil"
   ]
  },
  {
   "cell_type": "code",
   "execution_count": null,
   "metadata": {},
   "outputs": [],
   "source": [
    "country[]: 11\n",
    "dateFrom: 2014-01-01\n",
    "dateTo: 2022-05-30\n",
    "currentTab: custom\n",
    "limit_from: 2\n",
    "submitFilters: 0\n",
    "last_time_scope: 1401408000\n",
    "byHandler: true"
   ]
  },
  {
   "cell_type": "code",
   "execution_count": 7,
   "metadata": {},
   "outputs": [
    {
     "data": {
      "text/plain": [
       "-20822400"
      ]
     },
     "execution_count": 7,
     "metadata": {},
     "output_type": "execute_result"
    }
   ],
   "source": [
    "1401408000 - 1422230400"
   ]
  },
  {
   "cell_type": "code",
   "execution_count": null,
   "metadata": {},
   "outputs": [],
   "source": [
    "country[]: 11\n",
    "dateFrom: 2014-01-01\n",
    "dateTo: 2022-05-30\n",
    "currentTab: custom\n",
    "limit_from: 4\n",
    "submitFilters: 0\n",
    "last_time_scope: 1422230400\n",
    "byHandler: true"
   ]
  },
  {
   "cell_type": "code",
   "execution_count": 8,
   "metadata": {},
   "outputs": [
    {
     "data": {
      "text/plain": [
       "-15292800"
      ]
     },
     "execution_count": 8,
     "metadata": {},
     "output_type": "execute_result"
    }
   ],
   "source": [
    "1422230400 - 1437523200"
   ]
  },
  {
   "cell_type": "code",
   "execution_count": null,
   "metadata": {},
   "outputs": [],
   "source": [
    "country[]: 11\n",
    "dateFrom: 2014-01-01\n",
    "dateTo: 2022-05-30\n",
    "currentTab: custom\n",
    "limit_from: 6\n",
    "submitFilters: 0\n",
    "last_time_scope: 1437523200\n",
    "byHandler: true"
   ]
  },
  {
   "cell_type": "code",
   "execution_count": null,
   "metadata": {},
   "outputs": [],
   "source": [
    ":authority: www.investing.com\n",
    ":method: POST\n",
    ":path: /earnings-calendar/Service/getCalendarFilteredData\n",
    ":scheme: https\n",
    "accept: */*\n",
    "accept-encoding: gzip, deflate, br\n",
    "accept-language: ko-KR,ko;q=0.9,en-US;q=0.8,en;q=0.7\n",
    "content-length: 143\n",
    "content-type: application/x-www-form-urlencoded\n",
    "cookie: G_AUTHUSER_H=0; adBlockerNewUserDomains=1650517385; udid=9394c83cb3a8d070682b2d5edc53669a; protectedMedia=2; __gads=ID=0865bf1f3e2bb49e:T=1650517388:S=ALNI_Ma4raFYzG2L2lw_8tJ3yNyajRWPuA; OB-USER-TOKEN=5f371e8f-325b-444e-b2b6-8a292f91f457; _fbp=fb.1.1650517390800.68171534; G_ENABLED_IDPS=google; _pbjs_userid_consent_data=3524755945110770; _cc_id=78e7e0b15246c01526d960a0cf347797; r_p_s_n=1; pms={\"f\":2,\"s\":2}; _gaexp=GAX1.2.HHsGkqhgQ5WRQQdiTFpBgw.19224.x99; pm_score=clear; SideBlockUser=a%3A2%3A%7Bs%3A10%3A%22stack_size%22%3Ba%3A1%3A%7Bs%3A11%3A%22last_quotes%22%3Bi%3A8%3B%7Ds%3A6%3A%22stacks%22%3Ba%3A1%3A%7Bs%3A11%3A%22last_quotes%22%3Ba%3A3%3A%7Bi%3A0%3Ba%3A3%3A%7Bs%3A7%3A%22pair_ID%22%3Bi%3A37426%3Bs%3A10%3A%22pair_title%22%3Bs%3A0%3A%22%22%3Bs%3A9%3A%22pair_link%22%3Bs%3A14%3A%22%2Findices%2Fkospi%22%3B%7Di%3A1%3Ba%3A3%3A%7Bs%3A7%3A%22pair_ID%22%3Bs%3A3%3A%22651%22%3Bs%3A10%3A%22pair_title%22%3Bs%3A0%3A%22%22%3Bs%3A9%3A%22pair_link%22%3Bs%3A22%3A%22%2Fetfs%2Fpowershares-qqqq%22%3B%7Di%3A2%3Ba%3A3%3A%7Bs%3A7%3A%22pair_ID%22%3Bs%3A4%3A%226408%22%3Bs%3A10%3A%22pair_title%22%3Bs%3A0%3A%22%22%3Bs%3A9%3A%22pair_link%22%3Bs%3A28%3A%22%2Fequities%2Fapple-computer-inc%22%3B%7D%7D%7D%7D; _hjid=5d23b95b-2257-4cf8-a7fd-4c1a59770e86; _hjSessionUser_174945=eyJpZCI6ImE3YjliY2ExLTExMzYtNWE5My1iMzc3LTE2NjkxYWY5NjU5MyIsImNyZWF0ZWQiOjE2NTQxNTIwNTQyMzIsImV4aXN0aW5nIjp0cnVlfQ==; pbjs-unifiedid=%7B%22TDID%22%3A%22a37e8e9f-d67d-4e59-8dc2-a1de6b65da93%22%2C%22TDID_LOOKUP%22%3A%22TRUE%22%2C%22TDID_CREATED_AT%22%3A%222022-05-02T06%3A40%3A57%22%7D; pbjs-unifiedid_last=Thu%2C%2002%20Jun%202022%2006%3A40%3A58%20GMT; _ga=GA1.2.1602484959.1650517388; _ga_H1WYEJQ780=GS1.1.1654245175.3.1.1654245232.3; upa=eyJpbnZfcHJvX2Z1bm5lbCI6IiIsIm1haW5fYWMiOiIxMCIsIm1haW5fc2VnbWVudCI6IjIiLCJkaXNwbGF5X3JmbSI6IjExMSIsImFmZmluaXR5X3Njb3JlX2FjX2VxdWl0aWVzIjoiNyIsImFmZmluaXR5X3Njb3JlX2FjX2NyeXB0b2N1cnJlbmNpZXMiOiI3IiwiYWZmaW5pdHlfc2NvcmVfYWNfY3VycmVuY2llcyI6IjgiLCJhY3RpdmVfb25faW9zX2FwcCI6IjAiLCJhY3RpdmVfb25fYW5kcm9pZF9hcHAiOiIxIiwiYWN0aXZlX29uX3dlYiI6IjEiLCJpbnZfcHJvX3VzZXJfc2NvcmUiOiIwIn0%3D; PHPSESSID=kejmkl5pkco0ot8ajl9ovgjkat; comment_notification_204038958=1; geoC=KR; Adsfree_conversion_score=3; adsFreeSalePopUp45de2d17cd929a1f194bdc45442bfef6=1; smd=9394c83cb3a8d070682b2d5edc53669a-1654753078; __cflb=02DiuGRugds2TUWHMkkNMgjqaR4Ws13aW2hCoLgryA5at; outbrain_cid_fetch=true; _gid=GA1.2.1896047687.1654753082; __cf_bm=R349pRIaJxhRjkW4Xnuylh.yQnxcVyJXtAQeK42Uguk-1654753084-0-AebuZnzYnD6Zi/GYz0Ax/Z/1epo+vEVk+XQEwou6r1481sALNoDGfWXoGuV0OBaCefIOhb9eajP+yVAi0oj0kZjGdFkLXDSDTnK8tx1DJanJXe54E9HfqGE8QHoMHYnwvNRLAk1hoUeQYBbIkupdEBrGsFvAHdwHfQ2ascmgfEaG; __gpi=UID=000004f4205a7e2a:T=1650517388:RT=1654753082:S=ALNI_Ma55hRzANInyzlSoLoaxwWadefUYg; G_AUTHUSER_H=0; gtmFired=OK; nyxDorf=ZWI%2FbWcwNnQ1YW5mYzkyLjJiZD42OWZ6PT5gZzY5; invpc=3; panoramaId_expiry=1654839506699; cto_bundle=kuRkYV9XWnlHeFc5d2kyVGFqRXdncWg5YVdvSzI0ZWElMkZqJTJCTXJLJTJGTEZ1cEEwbVNnczZXem9LdnRCcllUTzk1Tk9zc0hEVTc4aCUyRmtFMG95QnJ3V2loN1pXUTg5WVQlMkZRS3U4MnVPcmFMM2F0QVdlM2wycTk2ZFVlbmJncFRCaXFLZ3daOEh6MXBUYk1HYUNoYmtoYWJzVFA2R1JBJTNEJTNE; cto_bidid=wA0QFV96ZDEzYm1aWkV5QW5WTjMwNlRQWWN3SndCOVBITGtjdnBJcU1ad0h5b1BjYUxzODFtbWdoN0dkdVVsaTkwUVdjOGY0d0VZWDRIVHpuVVo0VHQzNUFyNEdrbyUyQlluM3BWOVBFOHlHTmtodjFVJTNE; _parrable_id=tpc%253A0%252CtpcUntil%253A1654839508%252CfilteredUntil%253A1654839508%252CfilterHits%253A0; ses_id=YC40dWRrNz9hJWFnMGFlZ2UwZD80MDsxPDQ1M2doYHY2ImFvbzgwdmVqaCZvbDgkMzUyMzNlOzo0ZTU8Y2RlZWBsNGVkMjc%2FYWRhbDAxZTZlNGRsNDU7Ozw1NWRnYWBuNjNhYW9tMGRlN2hibzU4PzMhMi4zdzsqNGY1ZWMiZSJgbzR1ZDQ3aWFmYWwwa2VgZTxkbTQ0O2o8NTUxZ2RgeDZ9; _dd_s=logs=1&id=6974b336-92a6-4a1a-be48-7282f3622e43&created=1654753084176&expire=1654754071583\n",
    "origin: https://www.investing.com\n",
    "referer: https://www.investing.com/earnings-calendar/\n",
    "sec-ch-ua: \" Not A;Brand\";v=\"99\", \"Chromium\";v=\"102\", \"Google Chrome\";v=\"102\"\n",
    "sec-ch-ua-mobile: ?0\n",
    "sec-ch-ua-platform: \"Windows\"\n",
    "sec-fetch-dest: empty\n",
    "sec-fetch-mode: cors\n",
    "sec-fetch-site: same-origin\n",
    "user-agent: Mozilla/5.0 (Windows NT 10.0; Win64; x64) AppleWebKit/537.36 (KHTML, like Gecko) Chrome/102.0.0.0 Safari/537.36\n"
   ]
  },
  {
   "cell_type": "code",
   "execution_count": 81,
   "metadata": {},
   "outputs": [],
   "source": [
    "request_url = 'https://www.investing.com/earnings-calendar/Service/getCalendarFilteredData'\n",
    "\n",
    "request_headers = {\n",
    "\"accept\": \"*/*\",\n",
    "# \"accept-encoding\": \"gzip, deflate, br\",\n",
    "# \"accept-language\": \"ko-KR,ko;q=0.9,en-US;q=0.8,en;q=0.7\",\n",
    "\"content-length\": \"143\",\n",
    "# \"content-type\": \"application/x-www-form-urlencoded\",\n",
    "\n",
    "\n",
    "    \"origin\": \"https://www.investing.com\",\n",
    "    \"referer\": \"https://www.investing.com/earnings-calendar/\",\n",
    "    \"user-agent\": \"Mozilla/5.0 (Windows NT 10.0; Win64; x64) AppleWebKit/537.36 (KHTML, like Gecko) Chrome/102.0.0.0 Safari/537.36\",\n",
    "\n",
    "\"sec-ch-ua\": '\" Not A;Brand\";v=\"99\", \"Chromium\";v=\"102\", \"Google Chrome\";v=\"102\"\"',\n",
    "\"sec-ch-ua-mobile\": \"?0\",\n",
    "\"sec-ch-ua-platform\": \"Windows\",\n",
    "\"sec-fetch-dest\": \"empty\",\n",
    "\"sec-fetch-mode\": \"cors\",\n",
    "\"sec-fetch-site\": \"same-origin\",\n",
    "\n",
    "# \"x-requested-with\": \"XMLHttpRequest\",\n",
    "}\n",
    "\n",
    "POST_data = {\n",
    "    \"country[]\": \"11\",\n",
    "    \"dateFrom\": \"2014-01-01\",\n",
    "    \"dateTo\": \"2022-05-30\",\n",
    "    \"currentTab\": \"custom\",\n",
    "    \"limit_from\": \"6\",\n",
    "    \"submitFilters\": \"0\",\n",
    "    \"last_time_scope\": \"1437523200\",\n",
    "    \"byHandler\": \"true\",\n",
    "}"
   ]
  },
  {
   "cell_type": "code",
   "execution_count": 82,
   "metadata": {},
   "outputs": [],
   "source": [
    "class DataFetcher:\n",
    "    def __init__(self) -> None:\n",
    "        ## Init config\n",
    "        self.scraper_config = ScraperConfig()\n",
    "\n",
    "        ## Init session\n",
    "        self.session = requests.session()\n",
    "\n",
    "        assert_status_hook = lambda response, *args, **kwargs: response.raise_for_status()\n",
    "        self.session.hooks[\"response\"] = [assert_status_hook]\n",
    "\n",
    "        retry_strategy = Retry(**self.scraper_config.retry_strategy)\n",
    "        adapter = HTTPAdapter(max_retries=retry_strategy)\n",
    "\n",
    "        self.session.mount(\"http://\", adapter)\n",
    "        self.session.mount(\"https://\", adapter)\n",
    "        \n",
    "        ## POST data\n",
    "        self.request_url = request_url\n",
    "        self.request_headers = request_headers\n",
    "        self.POST_data = POST_data\n",
    "\n",
    "    def get_response(self, ):\n",
    "        res = self.session.post(self.request_url, data=self.POST_data, headers=self.request_headers)\n",
    "\n",
    "        return res\n",
    "        \n",
    "    def parse_response(self,):\n",
    "        pass"
   ]
  },
  {
   "cell_type": "code",
   "execution_count": 83,
   "metadata": {},
   "outputs": [],
   "source": [
    "fetcher = DataFetcher()"
   ]
  },
  {
   "cell_type": "code",
   "execution_count": 84,
   "metadata": {},
   "outputs": [
    {
     "data": {
      "text/plain": [
       "<Response [200]>"
      ]
     },
     "execution_count": 84,
     "metadata": {},
     "output_type": "execute_result"
    }
   ],
   "source": [
    "r = fetcher.get_response()\n",
    "r"
   ]
  },
  {
   "cell_type": "code",
   "execution_count": 85,
   "metadata": {},
   "outputs": [],
   "source": [
    "r_bs = bs(r.content, 'html.parser')"
   ]
  },
  {
   "cell_type": "code",
   "execution_count": 86,
   "metadata": {},
   "outputs": [
    {
     "data": {
      "text/plain": [
       "[]"
      ]
     },
     "execution_count": 86,
     "metadata": {},
     "output_type": "execute_result"
    }
   ],
   "source": [
    "r_bs.find_all('span', {'class': 'earnCalCompanyName'})"
   ]
  },
  {
   "cell_type": "code",
   "execution_count": 87,
   "metadata": {},
   "outputs": [
    {
     "data": {
      "text/plain": [
       "[]"
      ]
     },
     "execution_count": 87,
     "metadata": {},
     "output_type": "execute_result"
    }
   ],
   "source": [
    "r_bs.body.findAll(text=re.compile('Hana'))"
   ]
  },
  {
   "cell_type": "code",
   "execution_count": null,
   "metadata": {},
   "outputs": [],
   "source": []
  }
 ],
 "metadata": {
  "interpreter": {
   "hash": "c80c18762abe42d7c75e3daf788625ca4953c83467b1e6b8619a9401f6163468"
  },
  "kernelspec": {
   "display_name": "Python 3.8.10 ('.venv': poetry)",
   "language": "python",
   "name": "python3"
  },
  "language_info": {
   "codemirror_mode": {
    "name": "ipython",
    "version": 3
   },
   "file_extension": ".py",
   "mimetype": "text/x-python",
   "name": "python",
   "nbconvert_exporter": "python",
   "pygments_lexer": "ipython3",
   "version": "3.8.10"
  },
  "orig_nbformat": 4
 },
 "nbformat": 4,
 "nbformat_minor": 2
}
