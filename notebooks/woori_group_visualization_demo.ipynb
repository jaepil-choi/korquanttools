{
 "cells": [
  {
   "attachments": {},
   "cell_type": "markdown",
   "metadata": {},
   "source": [
    "# 마이데이터 투자탭 데모 "
   ]
  },
  {
   "attachments": {},
   "cell_type": "markdown",
   "metadata": {},
   "source": [
    "## Import libraries"
   ]
  },
  {
   "cell_type": "code",
   "execution_count": 1,
   "metadata": {},
   "outputs": [],
   "source": [
    "from pathlib import Path\n",
    "\n",
    "import matplotlib.pyplot as plt\n",
    "import seaborn as sns\n",
    "import plotly.express as px\n",
    "import plotly\n",
    "\n",
    "import pandas as pd\n",
    "import numpy as np\n",
    "\n",
    "import scipy\n",
    "import statsmodels.api as sm\n",
    "import statsmodels.formula.api as smf\n",
    "from statsmodels.regression.rolling import RollingOLS\n",
    "\n",
    "import pickle"
   ]
  },
  {
   "cell_type": "code",
   "execution_count": null,
   "metadata": {},
   "outputs": [],
   "source": [
    "import FinanceDataReader as fdr\n",
    "import quantstats as qs"
   ]
  },
  {
   "cell_type": "code",
   "execution_count": null,
   "metadata": {},
   "outputs": [],
   "source": [
    "## custom libs\n",
    "\n",
    "from korquanttools.pricevolume.loader import KRXPriceDM\n",
    "from korquanttools.pricevolume.utils import DateUtil\n",
    "from korquanttools.pricevolume.config import PathConfig"
   ]
  },
  {
   "attachments": {},
   "cell_type": "markdown",
   "metadata": {},
   "source": [
    "## Import dataset"
   ]
  },
  {
   "cell_type": "code",
   "execution_count": null,
   "metadata": {},
   "outputs": [],
   "source": [
    "# Global parameters\n",
    "\n",
    "START = 20140101\n",
    "END = 20221202\n",
    "\n",
    "WINDOW = 252 # trading day 기준\n",
    "# WINDOW = 60 # trading day 기준\n",
    "# WINDOW = 20 # trading day 기준"
   ]
  },
  {
   "cell_type": "code",
   "execution_count": null,
   "metadata": {},
   "outputs": [
    {
     "name": "stdout",
     "output_type": "stream",
     "text": [
      "\n",
      "        * DM name: KRX_pricevolume\n",
      "        * DM description: Basic price-volume data imported from KRX website & NAVER finance. Has KOSPI, KOSDAQ, KONEX stocks.\n",
      "        * birthday: 20211203\n",
      "        * DM period: 19990101 ~ \n",
      "        * Available data: ['lv1', 'open', 'high', 'low', 'close', 'volume', 'dollarvolume', 'marketcap']\n",
      "        \n"
     ]
    }
   ],
   "source": [
    "# Init data module\n",
    "pricevolume = KRXPriceDM(START, END)\n",
    "pricevolume.get_info()"
   ]
  },
  {
   "attachments": {},
   "cell_type": "markdown",
   "metadata": {},
   "source": [
    "### 수익률"
   ]
  },
  {
   "cell_type": "code",
   "execution_count": null,
   "metadata": {},
   "outputs": [],
   "source": [
    "## stock return\n",
    "return_df = pd.read_pickle(PathConfig.cache_path / f\"temp_return_{START}_{END}\")"
   ]
  },
  {
   "cell_type": "code",
   "execution_count": null,
   "metadata": {},
   "outputs": [
    {
     "data": {
      "text/plain": [
       "DatetimeIndex(['2014-01-02', '2014-01-03', '2014-01-06', '2014-01-07',\n",
       "               '2014-01-08', '2014-01-09', '2014-01-10', '2014-01-13',\n",
       "               '2014-01-14', '2014-01-15',\n",
       "               ...\n",
       "               '2022-11-21', '2022-11-22', '2022-11-23', '2022-11-24',\n",
       "               '2022-11-25', '2022-11-28', '2022-11-29', '2022-11-30',\n",
       "               '2022-12-01', '2022-12-02'],\n",
       "              dtype='datetime64[ns]', name='trdDd', length=2190, freq=None)"
      ]
     },
     "execution_count": 7,
     "metadata": {},
     "output_type": "execute_result"
    }
   ],
   "source": [
    "holidays = return_df.isnull().all(axis=1)\n",
    "tradingdays = ~holidays\n",
    "\n",
    "holidays = holidays.index[holidays]\n",
    "tradingdays = tradingdays.index[tradingdays]\n",
    "\n",
    "tradingdays"
   ]
  },
  {
   "cell_type": "code",
   "execution_count": null,
   "metadata": {},
   "outputs": [],
   "source": [
    "return_df = return_df.loc[tradingdays, :].copy()"
   ]
  },
  {
   "attachments": {},
   "cell_type": "markdown",
   "metadata": {},
   "source": [
    "### 시가총액"
   ]
  },
  {
   "cell_type": "code",
   "execution_count": null,
   "metadata": {},
   "outputs": [],
   "source": [
    "# Data for 2nd Factor: SMB (Small Minus Big)\n",
    "\n",
    "marcap_df = pricevolume.get_data(\"marketcap\")"
   ]
  },
  {
   "cell_type": "code",
   "execution_count": null,
   "metadata": {},
   "outputs": [],
   "source": [
    "marcap_df = marcap_df.astype(float) # object로 되어있었음"
   ]
  },
  {
   "cell_type": "code",
   "execution_count": null,
   "metadata": {},
   "outputs": [],
   "source": [
    "marcap_df = marcap_df.loc[tradingdays, :].copy()"
   ]
  },
  {
   "attachments": {},
   "cell_type": "markdown",
   "metadata": {},
   "source": [
    "### Grouping"
   ]
  },
  {
   "cell_type": "code",
   "execution_count": null,
   "metadata": {},
   "outputs": [],
   "source": [
    "with open('INDUSTRY_NAME2CODE.pickle', 'rb') as handle:\n",
    "    INDUSTRY_NAME2CODE = pickle.load(handle)"
   ]
  },
  {
   "cell_type": "code",
   "execution_count": null,
   "metadata": {},
   "outputs": [],
   "source": [
    "INDUSTRY_CODE2NAME = {v:k for k,v in INDUSTRY_NAME2CODE.items()}"
   ]
  },
  {
   "cell_type": "code",
   "execution_count": null,
   "metadata": {},
   "outputs": [],
   "source": [
    "industry_df = pd.read_pickle('krx_industry_df_20140101_20221202.pickle')"
   ]
  },
  {
   "cell_type": "code",
   "execution_count": null,
   "metadata": {},
   "outputs": [],
   "source": [
    "with open('sid2name.pkl', 'rb') as p:\n",
    "    sid2name = pickle.load(p)"
   ]
  },
  {
   "attachments": {},
   "cell_type": "markdown",
   "metadata": {},
   "source": [
    "## 업종별 수익률"
   ]
  },
  {
   "cell_type": "code",
   "execution_count": null,
   "metadata": {},
   "outputs": [],
   "source": [
    "DATE_BEFORE = -1"
   ]
  },
  {
   "cell_type": "code",
   "execution_count": null,
   "metadata": {},
   "outputs": [],
   "source": [
    "last_return_v = return_df.iloc[DATE_BEFORE]\n",
    "\n",
    "last_marcap_v = marcap_df.iloc[DATE_BEFORE]\n",
    "last_group_v = industry_df.iloc[DATE_BEFORE]"
   ]
  },
  {
   "cell_type": "code",
   "execution_count": 81,
   "metadata": {},
   "outputs": [],
   "source": [
    "last_weight_v = marcap_df.iloc[DATE_BEFORE] / np.nansum(marcap_df.iloc[DATE_BEFORE])"
   ]
  },
  {
   "cell_type": "code",
   "execution_count": 82,
   "metadata": {},
   "outputs": [],
   "source": [
    "last_weighted_return_v = last_return_v * last_weight_v"
   ]
  },
  {
   "cell_type": "code",
   "execution_count": 83,
   "metadata": {},
   "outputs": [],
   "source": [
    "last_lv1_df = pd.DataFrame(data={\n",
    "    'ret': last_return_v,\n",
    "    'marcap': last_marcap_v,\n",
    "    'weight': last_weight_v,\n",
    "    'weighted_return': last_weighted_return_v,\n",
    "    'group_idx': last_group_v,\n",
    "})"
   ]
  },
  {
   "cell_type": "code",
   "execution_count": 84,
   "metadata": {},
   "outputs": [],
   "source": [
    "group_tree_df = last_lv1_df[['group_idx', 'weighted_return', 'marcap']].groupby(by='group_idx').sum()"
   ]
  },
  {
   "cell_type": "code",
   "execution_count": 85,
   "metadata": {},
   "outputs": [],
   "source": [
    "group_tree_df.reset_index(drop=False, inplace=True)"
   ]
  },
  {
   "cell_type": "code",
   "execution_count": 86,
   "metadata": {},
   "outputs": [],
   "source": [
    "group_tree_df['group_name'] = group_tree_df['group_idx'].apply(lambda g_idx: INDUSTRY_CODE2NAME[g_idx])"
   ]
  },
  {
   "cell_type": "code",
   "execution_count": 87,
   "metadata": {},
   "outputs": [
    {
     "data": {
      "text/plain": [
       "Index(['group_idx', 'weighted_return', 'marcap', 'group_name'], dtype='object')"
      ]
     },
     "execution_count": 87,
     "metadata": {},
     "output_type": "execute_result"
    }
   ],
   "source": [
    "group_tree_df.columns"
   ]
  },
  {
   "cell_type": "code",
   "execution_count": 88,
   "metadata": {},
   "outputs": [
    {
     "data": {
      "application/vnd.plotly.v1+json": {
       "config": {
        "plotlyServerURL": "https://plot.ly"
       },
       "data": [
        {
         "branchvalues": "total",
         "customdata": [
          [
           -0.005096319049464972
          ],
          [
           0.001136564071856665
          ],
          [
           0.022743532186715185
          ],
          [
           0.00014649239204034433
          ],
          [
           -0.0006019664005256321
          ],
          [
           0.008362044735448337
          ],
          [
           0.01628220230555666
          ],
          [
           0.007581018806896743
          ],
          [
           0.08628828355215645
          ],
          [
           0.012191652717613636
          ],
          [
           0.002876225534423105
          ],
          [
           -0.002662500549391844
          ],
          [
           -0.0007120444171376853
          ],
          [
           0.014610630682245372
          ],
          [
           0.04358005425547774
          ],
          [
           0.0010679431531751885
          ],
          [
           -0.008100416538227457
          ],
          [
           0.002734677278036542
          ],
          [
           0.01918924797446577
          ],
          [
           -0.009095344441632121
          ],
          [
           0.0004245641855600457
          ],
          [
           -0.006227863274181563
          ],
          [
           0.010397665889165473
          ],
          [
           0.0002983749049619293
          ],
          [
           0.00574333179323984
          ],
          [
           0.00030106024329765066
          ],
          [
           0.002646862040429258
          ],
          [
           0.08710840702058693
          ],
          [
           0.04419144404711918
          ],
          [
           0.002547844882289494
          ],
          [
           -0.0004299799469376544
          ],
          [
           -0.006383616071821396
          ],
          [
           0.002858978078299107
          ],
          [
           -0.011584853368665904
          ],
          [
           0.005491459056824094
          ],
          [
           0.00569532957282976
          ],
          [
           0.054272481561136274
          ],
          [
           0.00043794885273230216
          ],
          [
           -0.0077057082968096805
          ],
          [
           0.00004528594363261887
          ],
          [
           0.0022055330399262736
          ],
          [
           0.3238447805839093
          ],
          [
           -0.0004992127572761022
          ],
          [
           0.02612597310874203
          ],
          [
           -0.0007624069270054097
          ],
          [
           0.0006231855162309289
          ],
          [
           0.02019353607522559
          ],
          [
           0.11925879444988727
          ],
          [
           0.0027801106651974402
          ],
          [
           0.001530288647529865
          ],
          [
           0.0011293296574566639
          ],
          [
           -0.005331979275109504
          ],
          [
           0.0048555161783030674
          ],
          [
           0.1503276924810546
          ],
          [
           0.13994268866163811
          ]
         ],
         "domain": {
          "x": [
           0,
           1
          ],
          "y": [
           0,
           1
          ]
         },
         "hovertemplate": "labels=%{label}<br>marcap=%{value}<br>parent=%{parent}<br>id=%{id}<br>weighted_return=%{color}<extra></extra>",
         "ids": [
          "KOSPI & KOSDAQ/IT부품",
          "KOSPI & KOSDAQ/건설",
          "KOSPI & KOSDAQ/건설업",
          "KOSPI & KOSDAQ/광업",
          "KOSPI & KOSDAQ/금속",
          "KOSPI & KOSDAQ/금융",
          "KOSPI & KOSDAQ/기계",
          "KOSPI & KOSDAQ/기계·장비",
          "KOSPI & KOSDAQ/기타금융",
          "KOSPI & KOSDAQ/기타서비스",
          "KOSPI & KOSDAQ/기타제조",
          "KOSPI & KOSDAQ/기타제조업",
          "KOSPI & KOSDAQ/농업, 임업 및 어업",
          "KOSPI & KOSDAQ/디지털컨텐츠",
          "KOSPI & KOSDAQ/반도체",
          "KOSPI & KOSDAQ/방송서비스",
          "KOSPI & KOSDAQ/보험",
          "KOSPI & KOSDAQ/비금속",
          "KOSPI & KOSDAQ/비금속광물",
          "KOSPI & KOSDAQ/서비스업",
          "KOSPI & KOSDAQ/섬유·의류",
          "KOSPI & KOSDAQ/섬유의복",
          "KOSPI & KOSDAQ/소프트웨어",
          "KOSPI & KOSDAQ/숙박·음식",
          "KOSPI & KOSDAQ/오락·문화",
          "KOSPI & KOSDAQ/운송",
          "KOSPI & KOSDAQ/운송장비·부품",
          "KOSPI & KOSDAQ/운수장비",
          "KOSPI & KOSDAQ/운수창고업",
          "KOSPI & KOSDAQ/유통",
          "KOSPI & KOSDAQ/유통업",
          "KOSPI & KOSDAQ/은행",
          "KOSPI & KOSDAQ/음식료·담배",
          "KOSPI & KOSDAQ/음식료품",
          "KOSPI & KOSDAQ/의료·정밀기기",
          "KOSPI & KOSDAQ/의료정밀",
          "KOSPI & KOSDAQ/의약품",
          "KOSPI & KOSDAQ/인터넷",
          "KOSPI & KOSDAQ/일반전기전자",
          "KOSPI & KOSDAQ/전기·가스·수도",
          "KOSPI & KOSDAQ/전기가스업",
          "KOSPI & KOSDAQ/전기전자",
          "KOSPI & KOSDAQ/정보기기",
          "KOSPI & KOSDAQ/제약",
          "KOSPI & KOSDAQ/종이·목재",
          "KOSPI & KOSDAQ/종이목재",
          "KOSPI & KOSDAQ/증권",
          "KOSPI & KOSDAQ/철강금속",
          "KOSPI & KOSDAQ/출판·매체복제",
          "KOSPI & KOSDAQ/컴퓨터서비스",
          "KOSPI & KOSDAQ/통신서비스",
          "KOSPI & KOSDAQ/통신업",
          "KOSPI & KOSDAQ/통신장비",
          "KOSPI & KOSDAQ/화학",
          "KOSPI & KOSDAQ"
         ],
         "labels": [
          "IT부품",
          "건설",
          "건설업",
          "광업",
          "금속",
          "금융",
          "기계",
          "기계·장비",
          "기타금융",
          "기타서비스",
          "기타제조",
          "기타제조업",
          "농업, 임업 및 어업",
          "디지털컨텐츠",
          "반도체",
          "방송서비스",
          "보험",
          "비금속",
          "비금속광물",
          "서비스업",
          "섬유·의류",
          "섬유의복",
          "소프트웨어",
          "숙박·음식",
          "오락·문화",
          "운송",
          "운송장비·부품",
          "운수장비",
          "운수창고업",
          "유통",
          "유통업",
          "은행",
          "음식료·담배",
          "음식료품",
          "의료·정밀기기",
          "의료정밀",
          "의약품",
          "인터넷",
          "일반전기전자",
          "전기·가스·수도",
          "전기가스업",
          "전기전자",
          "정보기기",
          "제약",
          "종이·목재",
          "종이목재",
          "증권",
          "철강금속",
          "출판·매체복제",
          "컴퓨터서비스",
          "통신서비스",
          "통신업",
          "통신장비",
          "화학",
          "KOSPI & KOSDAQ"
         ],
         "marker": {
          "coloraxis": "coloraxis",
          "colors": [
           -0.005096319049464972,
           0.001136564071856665,
           0.022743532186715185,
           0.00014649239204034433,
           -0.0006019664005256321,
           0.008362044735448337,
           0.01628220230555666,
           0.007581018806896743,
           0.08628828355215645,
           0.012191652717613636,
           0.002876225534423105,
           -0.002662500549391844,
           -0.0007120444171376853,
           0.014610630682245372,
           0.04358005425547774,
           0.0010679431531751885,
           -0.008100416538227457,
           0.002734677278036542,
           0.01918924797446577,
           -0.009095344441632121,
           0.0004245641855600457,
           -0.006227863274181563,
           0.010397665889165473,
           0.0002983749049619293,
           0.00574333179323984,
           0.00030106024329765066,
           0.002646862040429258,
           0.08710840702058693,
           0.04419144404711918,
           0.002547844882289494,
           -0.0004299799469376544,
           -0.006383616071821396,
           0.002858978078299107,
           -0.011584853368665904,
           0.005491459056824094,
           0.00569532957282976,
           0.054272481561136274,
           0.00043794885273230216,
           -0.0077057082968096805,
           0.00004528594363261887,
           0.0022055330399262736,
           0.3238447805839093,
           -0.0004992127572761022,
           0.02612597310874203,
           -0.0007624069270054097,
           0.0006231855162309289,
           0.02019353607522559,
           0.11925879444988727,
           0.0027801106651974402,
           0.001530288647529865,
           0.0011293296574566639,
           -0.005331979275109504,
           0.0048555161783030674,
           0.1503276924810546,
           0.13994268866163811
          ]
         },
         "name": "",
         "parents": [
          "KOSPI & KOSDAQ",
          "KOSPI & KOSDAQ",
          "KOSPI & KOSDAQ",
          "KOSPI & KOSDAQ",
          "KOSPI & KOSDAQ",
          "KOSPI & KOSDAQ",
          "KOSPI & KOSDAQ",
          "KOSPI & KOSDAQ",
          "KOSPI & KOSDAQ",
          "KOSPI & KOSDAQ",
          "KOSPI & KOSDAQ",
          "KOSPI & KOSDAQ",
          "KOSPI & KOSDAQ",
          "KOSPI & KOSDAQ",
          "KOSPI & KOSDAQ",
          "KOSPI & KOSDAQ",
          "KOSPI & KOSDAQ",
          "KOSPI & KOSDAQ",
          "KOSPI & KOSDAQ",
          "KOSPI & KOSDAQ",
          "KOSPI & KOSDAQ",
          "KOSPI & KOSDAQ",
          "KOSPI & KOSDAQ",
          "KOSPI & KOSDAQ",
          "KOSPI & KOSDAQ",
          "KOSPI & KOSDAQ",
          "KOSPI & KOSDAQ",
          "KOSPI & KOSDAQ",
          "KOSPI & KOSDAQ",
          "KOSPI & KOSDAQ",
          "KOSPI & KOSDAQ",
          "KOSPI & KOSDAQ",
          "KOSPI & KOSDAQ",
          "KOSPI & KOSDAQ",
          "KOSPI & KOSDAQ",
          "KOSPI & KOSDAQ",
          "KOSPI & KOSDAQ",
          "KOSPI & KOSDAQ",
          "KOSPI & KOSDAQ",
          "KOSPI & KOSDAQ",
          "KOSPI & KOSDAQ",
          "KOSPI & KOSDAQ",
          "KOSPI & KOSDAQ",
          "KOSPI & KOSDAQ",
          "KOSPI & KOSDAQ",
          "KOSPI & KOSDAQ",
          "KOSPI & KOSDAQ",
          "KOSPI & KOSDAQ",
          "KOSPI & KOSDAQ",
          "KOSPI & KOSDAQ",
          "KOSPI & KOSDAQ",
          "KOSPI & KOSDAQ",
          "KOSPI & KOSDAQ",
          "KOSPI & KOSDAQ",
          ""
         ],
         "type": "treemap",
         "values": [
          26057672798796,
          3510258568021,
          16221666318390,
          370808134896,
          8175681855190,
          10728493268801,
          32534333378545,
          19476591955166,
          153572618879104,
          26076333740011,
          1690098386117,
          15991397622936,
          1409433360490,
          17277898308030,
          31820985296624,
          2882467392040,
          39468339623750,
          2186340026380,
          25005816123329,
          145734227375154,
          1594931723218,
          9785326693535,
          13832337150103,
          940265912565,
          11237347855575,
          1234115912090,
          10475348334003,
          140172331852722,
          37627507544637,
          21198324111871,
          62714138401954,
          17920182424620,
          5374407020907,
          25381650168297,
          13352538706102,
          5179269315450,
          120626981291537,
          1682521589907,
          21367640169009,
          275896686052,
          18392709013060,
          725962705690160,
          1590729175130,
          34207433443545,
          2353911323435,
          2768427201365,
          20804876345538,
          51475005512777,
          3130180068162,
          1778800359901,
          1515607780886,
          26079963985755,
          6627030968470,
          196609573644152,
          2195461479788260
         ]
        }
       ],
       "layout": {
        "coloraxis": {
         "cmid": 0,
         "colorbar": {
          "title": {
           "text": "weighted_return"
          }
         },
         "colorscale": [
          [
           0,
           "rgb(5,48,97)"
          ],
          [
           0.1,
           "rgb(33,102,172)"
          ],
          [
           0.2,
           "rgb(67,147,195)"
          ],
          [
           0.3,
           "rgb(146,197,222)"
          ],
          [
           0.4,
           "rgb(209,229,240)"
          ],
          [
           0.5,
           "rgb(247,247,247)"
          ],
          [
           0.6,
           "rgb(253,219,199)"
          ],
          [
           0.7,
           "rgb(244,165,130)"
          ],
          [
           0.8,
           "rgb(214,96,77)"
          ],
          [
           0.9,
           "rgb(178,24,43)"
          ],
          [
           1,
           "rgb(103,0,31)"
          ]
         ]
        },
        "legend": {
         "tracegroupgap": 0
        },
        "margin": {
         "b": 25,
         "l": 25,
         "t": 50
        },
        "template": {
         "data": {
          "bar": [
           {
            "error_x": {
             "color": "#2a3f5f"
            },
            "error_y": {
             "color": "#2a3f5f"
            },
            "marker": {
             "line": {
              "color": "#E5ECF6",
              "width": 0.5
             },
             "pattern": {
              "fillmode": "overlay",
              "size": 10,
              "solidity": 0.2
             }
            },
            "type": "bar"
           }
          ],
          "barpolar": [
           {
            "marker": {
             "line": {
              "color": "#E5ECF6",
              "width": 0.5
             },
             "pattern": {
              "fillmode": "overlay",
              "size": 10,
              "solidity": 0.2
             }
            },
            "type": "barpolar"
           }
          ],
          "carpet": [
           {
            "aaxis": {
             "endlinecolor": "#2a3f5f",
             "gridcolor": "white",
             "linecolor": "white",
             "minorgridcolor": "white",
             "startlinecolor": "#2a3f5f"
            },
            "baxis": {
             "endlinecolor": "#2a3f5f",
             "gridcolor": "white",
             "linecolor": "white",
             "minorgridcolor": "white",
             "startlinecolor": "#2a3f5f"
            },
            "type": "carpet"
           }
          ],
          "choropleth": [
           {
            "colorbar": {
             "outlinewidth": 0,
             "ticks": ""
            },
            "type": "choropleth"
           }
          ],
          "contour": [
           {
            "colorbar": {
             "outlinewidth": 0,
             "ticks": ""
            },
            "colorscale": [
             [
              0,
              "#0d0887"
             ],
             [
              0.1111111111111111,
              "#46039f"
             ],
             [
              0.2222222222222222,
              "#7201a8"
             ],
             [
              0.3333333333333333,
              "#9c179e"
             ],
             [
              0.4444444444444444,
              "#bd3786"
             ],
             [
              0.5555555555555556,
              "#d8576b"
             ],
             [
              0.6666666666666666,
              "#ed7953"
             ],
             [
              0.7777777777777778,
              "#fb9f3a"
             ],
             [
              0.8888888888888888,
              "#fdca26"
             ],
             [
              1,
              "#f0f921"
             ]
            ],
            "type": "contour"
           }
          ],
          "contourcarpet": [
           {
            "colorbar": {
             "outlinewidth": 0,
             "ticks": ""
            },
            "type": "contourcarpet"
           }
          ],
          "heatmap": [
           {
            "colorbar": {
             "outlinewidth": 0,
             "ticks": ""
            },
            "colorscale": [
             [
              0,
              "#0d0887"
             ],
             [
              0.1111111111111111,
              "#46039f"
             ],
             [
              0.2222222222222222,
              "#7201a8"
             ],
             [
              0.3333333333333333,
              "#9c179e"
             ],
             [
              0.4444444444444444,
              "#bd3786"
             ],
             [
              0.5555555555555556,
              "#d8576b"
             ],
             [
              0.6666666666666666,
              "#ed7953"
             ],
             [
              0.7777777777777778,
              "#fb9f3a"
             ],
             [
              0.8888888888888888,
              "#fdca26"
             ],
             [
              1,
              "#f0f921"
             ]
            ],
            "type": "heatmap"
           }
          ],
          "heatmapgl": [
           {
            "colorbar": {
             "outlinewidth": 0,
             "ticks": ""
            },
            "colorscale": [
             [
              0,
              "#0d0887"
             ],
             [
              0.1111111111111111,
              "#46039f"
             ],
             [
              0.2222222222222222,
              "#7201a8"
             ],
             [
              0.3333333333333333,
              "#9c179e"
             ],
             [
              0.4444444444444444,
              "#bd3786"
             ],
             [
              0.5555555555555556,
              "#d8576b"
             ],
             [
              0.6666666666666666,
              "#ed7953"
             ],
             [
              0.7777777777777778,
              "#fb9f3a"
             ],
             [
              0.8888888888888888,
              "#fdca26"
             ],
             [
              1,
              "#f0f921"
             ]
            ],
            "type": "heatmapgl"
           }
          ],
          "histogram": [
           {
            "marker": {
             "pattern": {
              "fillmode": "overlay",
              "size": 10,
              "solidity": 0.2
             }
            },
            "type": "histogram"
           }
          ],
          "histogram2d": [
           {
            "colorbar": {
             "outlinewidth": 0,
             "ticks": ""
            },
            "colorscale": [
             [
              0,
              "#0d0887"
             ],
             [
              0.1111111111111111,
              "#46039f"
             ],
             [
              0.2222222222222222,
              "#7201a8"
             ],
             [
              0.3333333333333333,
              "#9c179e"
             ],
             [
              0.4444444444444444,
              "#bd3786"
             ],
             [
              0.5555555555555556,
              "#d8576b"
             ],
             [
              0.6666666666666666,
              "#ed7953"
             ],
             [
              0.7777777777777778,
              "#fb9f3a"
             ],
             [
              0.8888888888888888,
              "#fdca26"
             ],
             [
              1,
              "#f0f921"
             ]
            ],
            "type": "histogram2d"
           }
          ],
          "histogram2dcontour": [
           {
            "colorbar": {
             "outlinewidth": 0,
             "ticks": ""
            },
            "colorscale": [
             [
              0,
              "#0d0887"
             ],
             [
              0.1111111111111111,
              "#46039f"
             ],
             [
              0.2222222222222222,
              "#7201a8"
             ],
             [
              0.3333333333333333,
              "#9c179e"
             ],
             [
              0.4444444444444444,
              "#bd3786"
             ],
             [
              0.5555555555555556,
              "#d8576b"
             ],
             [
              0.6666666666666666,
              "#ed7953"
             ],
             [
              0.7777777777777778,
              "#fb9f3a"
             ],
             [
              0.8888888888888888,
              "#fdca26"
             ],
             [
              1,
              "#f0f921"
             ]
            ],
            "type": "histogram2dcontour"
           }
          ],
          "mesh3d": [
           {
            "colorbar": {
             "outlinewidth": 0,
             "ticks": ""
            },
            "type": "mesh3d"
           }
          ],
          "parcoords": [
           {
            "line": {
             "colorbar": {
              "outlinewidth": 0,
              "ticks": ""
             }
            },
            "type": "parcoords"
           }
          ],
          "pie": [
           {
            "automargin": true,
            "type": "pie"
           }
          ],
          "scatter": [
           {
            "fillpattern": {
             "fillmode": "overlay",
             "size": 10,
             "solidity": 0.2
            },
            "type": "scatter"
           }
          ],
          "scatter3d": [
           {
            "line": {
             "colorbar": {
              "outlinewidth": 0,
              "ticks": ""
             }
            },
            "marker": {
             "colorbar": {
              "outlinewidth": 0,
              "ticks": ""
             }
            },
            "type": "scatter3d"
           }
          ],
          "scattercarpet": [
           {
            "marker": {
             "colorbar": {
              "outlinewidth": 0,
              "ticks": ""
             }
            },
            "type": "scattercarpet"
           }
          ],
          "scattergeo": [
           {
            "marker": {
             "colorbar": {
              "outlinewidth": 0,
              "ticks": ""
             }
            },
            "type": "scattergeo"
           }
          ],
          "scattergl": [
           {
            "marker": {
             "colorbar": {
              "outlinewidth": 0,
              "ticks": ""
             }
            },
            "type": "scattergl"
           }
          ],
          "scattermapbox": [
           {
            "marker": {
             "colorbar": {
              "outlinewidth": 0,
              "ticks": ""
             }
            },
            "type": "scattermapbox"
           }
          ],
          "scatterpolar": [
           {
            "marker": {
             "colorbar": {
              "outlinewidth": 0,
              "ticks": ""
             }
            },
            "type": "scatterpolar"
           }
          ],
          "scatterpolargl": [
           {
            "marker": {
             "colorbar": {
              "outlinewidth": 0,
              "ticks": ""
             }
            },
            "type": "scatterpolargl"
           }
          ],
          "scatterternary": [
           {
            "marker": {
             "colorbar": {
              "outlinewidth": 0,
              "ticks": ""
             }
            },
            "type": "scatterternary"
           }
          ],
          "surface": [
           {
            "colorbar": {
             "outlinewidth": 0,
             "ticks": ""
            },
            "colorscale": [
             [
              0,
              "#0d0887"
             ],
             [
              0.1111111111111111,
              "#46039f"
             ],
             [
              0.2222222222222222,
              "#7201a8"
             ],
             [
              0.3333333333333333,
              "#9c179e"
             ],
             [
              0.4444444444444444,
              "#bd3786"
             ],
             [
              0.5555555555555556,
              "#d8576b"
             ],
             [
              0.6666666666666666,
              "#ed7953"
             ],
             [
              0.7777777777777778,
              "#fb9f3a"
             ],
             [
              0.8888888888888888,
              "#fdca26"
             ],
             [
              1,
              "#f0f921"
             ]
            ],
            "type": "surface"
           }
          ],
          "table": [
           {
            "cells": {
             "fill": {
              "color": "#EBF0F8"
             },
             "line": {
              "color": "white"
             }
            },
            "header": {
             "fill": {
              "color": "#C8D4E3"
             },
             "line": {
              "color": "white"
             }
            },
            "type": "table"
           }
          ]
         },
         "layout": {
          "annotationdefaults": {
           "arrowcolor": "#2a3f5f",
           "arrowhead": 0,
           "arrowwidth": 1
          },
          "autotypenumbers": "strict",
          "coloraxis": {
           "colorbar": {
            "outlinewidth": 0,
            "ticks": ""
           }
          },
          "colorscale": {
           "diverging": [
            [
             0,
             "#8e0152"
            ],
            [
             0.1,
             "#c51b7d"
            ],
            [
             0.2,
             "#de77ae"
            ],
            [
             0.3,
             "#f1b6da"
            ],
            [
             0.4,
             "#fde0ef"
            ],
            [
             0.5,
             "#f7f7f7"
            ],
            [
             0.6,
             "#e6f5d0"
            ],
            [
             0.7,
             "#b8e186"
            ],
            [
             0.8,
             "#7fbc41"
            ],
            [
             0.9,
             "#4d9221"
            ],
            [
             1,
             "#276419"
            ]
           ],
           "sequential": [
            [
             0,
             "#0d0887"
            ],
            [
             0.1111111111111111,
             "#46039f"
            ],
            [
             0.2222222222222222,
             "#7201a8"
            ],
            [
             0.3333333333333333,
             "#9c179e"
            ],
            [
             0.4444444444444444,
             "#bd3786"
            ],
            [
             0.5555555555555556,
             "#d8576b"
            ],
            [
             0.6666666666666666,
             "#ed7953"
            ],
            [
             0.7777777777777778,
             "#fb9f3a"
            ],
            [
             0.8888888888888888,
             "#fdca26"
            ],
            [
             1,
             "#f0f921"
            ]
           ],
           "sequentialminus": [
            [
             0,
             "#0d0887"
            ],
            [
             0.1111111111111111,
             "#46039f"
            ],
            [
             0.2222222222222222,
             "#7201a8"
            ],
            [
             0.3333333333333333,
             "#9c179e"
            ],
            [
             0.4444444444444444,
             "#bd3786"
            ],
            [
             0.5555555555555556,
             "#d8576b"
            ],
            [
             0.6666666666666666,
             "#ed7953"
            ],
            [
             0.7777777777777778,
             "#fb9f3a"
            ],
            [
             0.8888888888888888,
             "#fdca26"
            ],
            [
             1,
             "#f0f921"
            ]
           ]
          },
          "colorway": [
           "#636efa",
           "#EF553B",
           "#00cc96",
           "#ab63fa",
           "#FFA15A",
           "#19d3f3",
           "#FF6692",
           "#B6E880",
           "#FF97FF",
           "#FECB52"
          ],
          "font": {
           "color": "#2a3f5f"
          },
          "geo": {
           "bgcolor": "white",
           "lakecolor": "white",
           "landcolor": "#E5ECF6",
           "showlakes": true,
           "showland": true,
           "subunitcolor": "white"
          },
          "hoverlabel": {
           "align": "left"
          },
          "hovermode": "closest",
          "mapbox": {
           "style": "light"
          },
          "paper_bgcolor": "white",
          "plot_bgcolor": "#E5ECF6",
          "polar": {
           "angularaxis": {
            "gridcolor": "white",
            "linecolor": "white",
            "ticks": ""
           },
           "bgcolor": "#E5ECF6",
           "radialaxis": {
            "gridcolor": "white",
            "linecolor": "white",
            "ticks": ""
           }
          },
          "scene": {
           "xaxis": {
            "backgroundcolor": "#E5ECF6",
            "gridcolor": "white",
            "gridwidth": 2,
            "linecolor": "white",
            "showbackground": true,
            "ticks": "",
            "zerolinecolor": "white"
           },
           "yaxis": {
            "backgroundcolor": "#E5ECF6",
            "gridcolor": "white",
            "gridwidth": 2,
            "linecolor": "white",
            "showbackground": true,
            "ticks": "",
            "zerolinecolor": "white"
           },
           "zaxis": {
            "backgroundcolor": "#E5ECF6",
            "gridcolor": "white",
            "gridwidth": 2,
            "linecolor": "white",
            "showbackground": true,
            "ticks": "",
            "zerolinecolor": "white"
           }
          },
          "shapedefaults": {
           "line": {
            "color": "#2a3f5f"
           }
          },
          "ternary": {
           "aaxis": {
            "gridcolor": "white",
            "linecolor": "white",
            "ticks": ""
           },
           "baxis": {
            "gridcolor": "white",
            "linecolor": "white",
            "ticks": ""
           },
           "bgcolor": "#E5ECF6",
           "caxis": {
            "gridcolor": "white",
            "linecolor": "white",
            "ticks": ""
           }
          },
          "title": {
           "x": 0.05
          },
          "xaxis": {
           "automargin": true,
           "gridcolor": "white",
           "linecolor": "white",
           "ticks": "",
           "title": {
            "standoff": 15
           },
           "zerolinecolor": "white",
           "zerolinewidth": 2
          },
          "yaxis": {
           "automargin": true,
           "gridcolor": "white",
           "linecolor": "white",
           "ticks": "",
           "title": {
            "standoff": 15
           },
           "zerolinecolor": "white",
           "zerolinewidth": 2
          }
         }
        },
        "title": {
         "text": "chart_name"
        }
       }
      }
     },
     "metadata": {},
     "output_type": "display_data"
    }
   ],
   "source": [
    "chart_name = '업종별 수익률 현황'\n",
    "\n",
    "treemap_fig = px.treemap(\n",
    "    group_tree_df, \n",
    "    title='chart_name',\n",
    "    path=[\n",
    "        px.Constant('KOSPI & KOSDAQ'),\n",
    "        'group_name',\n",
    "    ],\n",
    "    values='marcap',\n",
    "    color='weighted_return',\n",
    "    # hover_data=[],\n",
    "    color_discrete_sequence=,\n",
    "    # color_continuous_scale='RdBu_r',\n",
    "    # color_continuous_midpoint=0,\n",
    ")\n",
    "\n",
    "treemap_fig.update_layout(margin=dict(t=50, l=25, b=25))\n",
    "treemap_fig.show()\n"
   ]
  },
  {
   "cell_type": "code",
   "execution_count": null,
   "metadata": {},
   "outputs": [],
   "source": []
  }
 ],
 "metadata": {
  "kernelspec": {
   "display_name": ".venv",
   "language": "python",
   "name": "python3"
  },
  "language_info": {
   "codemirror_mode": {
    "name": "ipython",
    "version": 3
   },
   "file_extension": ".py",
   "mimetype": "text/x-python",
   "name": "python",
   "nbconvert_exporter": "python",
   "pygments_lexer": "ipython3",
   "version": "3.9.13"
  },
  "orig_nbformat": 4,
  "vscode": {
   "interpreter": {
    "hash": "f3ef76525381b5480a07d40e52db7841ea51c6c85efb36acd7a69e9dc2905440"
   }
  }
 },
 "nbformat": 4,
 "nbformat_minor": 2
}
