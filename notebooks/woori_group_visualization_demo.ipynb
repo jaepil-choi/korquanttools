{
 "cells": [
  {
   "attachments": {},
   "cell_type": "markdown",
   "metadata": {},
   "source": [
    "# 마이데이터 투자탭 데모 "
   ]
  },
  {
   "attachments": {},
   "cell_type": "markdown",
   "metadata": {},
   "source": [
    "## Import libraries"
   ]
  },
  {
   "cell_type": "code",
   "execution_count": 36,
   "metadata": {},
   "outputs": [],
   "source": [
    "from pathlib import Path\n",
    "\n",
    "import matplotlib.pyplot as plt\n",
    "import seaborn as sns\n",
    "import plotly.express as px\n",
    "import plotly\n",
    "\n",
    "import pandas as pd\n",
    "import numpy as np\n",
    "\n",
    "from sklearn.preprocessing import RobustScaler, PowerTransformer\n",
    "\n",
    "import scipy\n",
    "import statsmodels.api as sm\n",
    "import statsmodels.formula.api as smf\n",
    "from statsmodels.regression.rolling import RollingOLS\n",
    "\n",
    "import pickle"
   ]
  },
  {
   "cell_type": "code",
   "execution_count": 2,
   "metadata": {},
   "outputs": [],
   "source": [
    "import FinanceDataReader as fdr\n",
    "import quantstats as qs"
   ]
  },
  {
   "cell_type": "code",
   "execution_count": 3,
   "metadata": {},
   "outputs": [],
   "source": [
    "## custom libs\n",
    "\n",
    "from korquanttools.pricevolume.loader import KRXPriceDM\n",
    "from korquanttools.pricevolume.utils import DateUtil\n",
    "from korquanttools.pricevolume.config import PathConfig"
   ]
  },
  {
   "attachments": {},
   "cell_type": "markdown",
   "metadata": {},
   "source": [
    "## Import dataset"
   ]
  },
  {
   "cell_type": "code",
   "execution_count": 4,
   "metadata": {},
   "outputs": [],
   "source": [
    "# Global parameters\n",
    "\n",
    "START = 20140101\n",
    "END = 20221202\n",
    "\n",
    "WINDOW = 252 # trading day 기준\n",
    "# WINDOW = 60 # trading day 기준\n",
    "# WINDOW = 20 # trading day 기준"
   ]
  },
  {
   "cell_type": "code",
   "execution_count": 5,
   "metadata": {},
   "outputs": [
    {
     "name": "stdout",
     "output_type": "stream",
     "text": [
      "\n",
      "        * DM name: KRX_pricevolume\n",
      "        * DM description: Basic price-volume data imported from KRX website & NAVER finance. Has KOSPI, KOSDAQ, KONEX stocks.\n",
      "        * birthday: 20211203\n",
      "        * DM period: 19990101 ~ \n",
      "        * Available data: ['lv1', 'open', 'high', 'low', 'close', 'volume', 'dollarvolume', 'marketcap']\n",
      "        \n"
     ]
    }
   ],
   "source": [
    "# Init data module\n",
    "pricevolume = KRXPriceDM(START, END)\n",
    "pricevolume.get_info()"
   ]
  },
  {
   "attachments": {},
   "cell_type": "markdown",
   "metadata": {},
   "source": [
    "### 수익률"
   ]
  },
  {
   "cell_type": "code",
   "execution_count": 6,
   "metadata": {},
   "outputs": [],
   "source": [
    "## stock return\n",
    "return_df = pd.read_pickle(PathConfig.cache_path / f\"temp_return_{START}_{END}\")"
   ]
  },
  {
   "cell_type": "code",
   "execution_count": 7,
   "metadata": {},
   "outputs": [
    {
     "data": {
      "text/plain": [
       "DatetimeIndex(['2014-01-02', '2014-01-03', '2014-01-06', '2014-01-07',\n",
       "               '2014-01-08', '2014-01-09', '2014-01-10', '2014-01-13',\n",
       "               '2014-01-14', '2014-01-15',\n",
       "               ...\n",
       "               '2022-11-21', '2022-11-22', '2022-11-23', '2022-11-24',\n",
       "               '2022-11-25', '2022-11-28', '2022-11-29', '2022-11-30',\n",
       "               '2022-12-01', '2022-12-02'],\n",
       "              dtype='datetime64[ns]', name='trdDd', length=2190, freq=None)"
      ]
     },
     "execution_count": 7,
     "metadata": {},
     "output_type": "execute_result"
    }
   ],
   "source": [
    "holidays = return_df.isnull().all(axis=1)\n",
    "tradingdays = ~holidays\n",
    "\n",
    "holidays = holidays.index[holidays]\n",
    "tradingdays = tradingdays.index[tradingdays]\n",
    "\n",
    "tradingdays"
   ]
  },
  {
   "cell_type": "code",
   "execution_count": 8,
   "metadata": {},
   "outputs": [],
   "source": [
    "return_df = return_df.loc[tradingdays, :].copy()"
   ]
  },
  {
   "attachments": {},
   "cell_type": "markdown",
   "metadata": {},
   "source": [
    "### 시가총액"
   ]
  },
  {
   "cell_type": "code",
   "execution_count": 9,
   "metadata": {},
   "outputs": [],
   "source": [
    "# Data for 2nd Factor: SMB (Small Minus Big)\n",
    "\n",
    "marcap_df = pricevolume.get_data(\"marketcap\")"
   ]
  },
  {
   "cell_type": "code",
   "execution_count": 10,
   "metadata": {},
   "outputs": [],
   "source": [
    "marcap_df = marcap_df.astype(float) # object로 되어있었음"
   ]
  },
  {
   "cell_type": "code",
   "execution_count": 11,
   "metadata": {},
   "outputs": [],
   "source": [
    "marcap_df = marcap_df.loc[tradingdays, :].copy()"
   ]
  },
  {
   "attachments": {},
   "cell_type": "markdown",
   "metadata": {},
   "source": [
    "### Grouping"
   ]
  },
  {
   "cell_type": "code",
   "execution_count": 12,
   "metadata": {},
   "outputs": [],
   "source": [
    "with open('INDUSTRY_NAME2CODE.pickle', 'rb') as handle:\n",
    "    INDUSTRY_NAME2CODE = pickle.load(handle)"
   ]
  },
  {
   "cell_type": "code",
   "execution_count": 13,
   "metadata": {},
   "outputs": [],
   "source": [
    "INDUSTRY_CODE2NAME = {v:k for k,v in INDUSTRY_NAME2CODE.items()}"
   ]
  },
  {
   "cell_type": "code",
   "execution_count": 14,
   "metadata": {},
   "outputs": [],
   "source": [
    "industry_df = pd.read_pickle('krx_industry_df_20140101_20221202.pickle')"
   ]
  },
  {
   "cell_type": "code",
   "execution_count": 15,
   "metadata": {},
   "outputs": [],
   "source": [
    "with open('sid2name.pkl', 'rb') as p:\n",
    "    sid2name = pickle.load(p)"
   ]
  },
  {
   "attachments": {},
   "cell_type": "markdown",
   "metadata": {},
   "source": [
    "## 업종별 수익률"
   ]
  },
  {
   "cell_type": "code",
   "execution_count": 16,
   "metadata": {},
   "outputs": [],
   "source": [
    "DATE_BEFORE = -1"
   ]
  },
  {
   "cell_type": "code",
   "execution_count": 17,
   "metadata": {},
   "outputs": [],
   "source": [
    "last_return_v = return_df.iloc[DATE_BEFORE]\n",
    "\n",
    "last_marcap_v = marcap_df.iloc[DATE_BEFORE]\n",
    "last_group_v = industry_df.iloc[DATE_BEFORE]"
   ]
  },
  {
   "cell_type": "code",
   "execution_count": 18,
   "metadata": {},
   "outputs": [],
   "source": [
    "last_lv1_df = pd.DataFrame(data={\n",
    "    'ret': last_return_v,\n",
    "    'marcap': last_marcap_v,\n",
    "    'group_idx': last_group_v,\n",
    "})"
   ]
  },
  {
   "cell_type": "code",
   "execution_count": 19,
   "metadata": {},
   "outputs": [],
   "source": [
    "group_marcap_weight_df = last_lv1_df[['group_idx', 'marcap']].groupby(by='group_idx').sum()\n",
    "group_marcap_weight_df.reset_index(drop=False, inplace=True)\n",
    "\n",
    "group_marcap_weight_df.rename(columns={'marcap': 'group_marcap_sum'}, inplace=True)"
   ]
  },
  {
   "cell_type": "code",
   "execution_count": 20,
   "metadata": {},
   "outputs": [],
   "source": [
    "last_lv1_df = last_lv1_df.join(group_marcap_weight_df, on='group_idx', lsuffix='', rsuffix='_right')\n",
    "last_lv1_df.drop(columns=['group_idx_right'], inplace=True)\n",
    "\n",
    "last_lv1_df['group_marcap_weight'] = last_lv1_df['marcap'] / last_lv1_df['group_marcap_sum']\n",
    "last_lv1_df['group_weighted_ret'] = last_lv1_df['ret'] * last_lv1_df['group_marcap_weight']\n"
   ]
  },
  {
   "cell_type": "code",
   "execution_count": 21,
   "metadata": {},
   "outputs": [],
   "source": [
    "group_tree_df = last_lv1_df[['group_idx', 'group_weighted_ret', 'marcap']].groupby(by='group_idx').sum()\n",
    "group_tree_df.reset_index(drop=False, inplace=True)\n",
    "group_tree_df['group_name'] = group_tree_df['group_idx'].apply(lambda g_idx: INDUSTRY_CODE2NAME[g_idx])"
   ]
  },
  {
   "cell_type": "code",
   "execution_count": 22,
   "metadata": {},
   "outputs": [],
   "source": [
    "group_tree_df['group_weighted_ret'] = 100 * group_tree_df['group_weighted_ret']"
   ]
  },
  {
   "cell_type": "code",
   "execution_count": 23,
   "metadata": {},
   "outputs": [
    {
     "data": {
      "text/plain": [
       "Index(['group_idx', 'group_weighted_ret', 'marcap', 'group_name'], dtype='object')"
      ]
     },
     "execution_count": 23,
     "metadata": {},
     "output_type": "execute_result"
    }
   ],
   "source": [
    "group_tree_df.columns"
   ]
  },
  {
   "cell_type": "code",
   "execution_count": 25,
   "metadata": {},
   "outputs": [],
   "source": [
    "group_tree_df['log_marcap'] = group_tree_df['marcap'].apply(np.log)"
   ]
  },
  {
   "cell_type": "code",
   "execution_count": 34,
   "metadata": {},
   "outputs": [],
   "source": [
    "scaler = RobustScaler()\n",
    "\n",
    "group_tree_df['robust_marcap'] = scaler.fit_transform(group_tree_df['marcap'].to_frame())\n",
    "# group_tree_df['robust_marcap'] = group_tree_df['robust_marcap'] + abs(group_tree_df['robust_marcap'].min())"
   ]
  },
  {
   "cell_type": "code",
   "execution_count": 37,
   "metadata": {},
   "outputs": [],
   "source": [
    "scaler = PowerTransformer(method='yeo-johnson')\n",
    "\n",
    "group_tree_df['power_marcap'] = scaler.fit_transform(group_tree_df['marcap'].to_frame())"
   ]
  },
  {
   "cell_type": "code",
   "execution_count": 40,
   "metadata": {},
   "outputs": [],
   "source": [
    "group_tree_df['sqrt_marcap'] = group_tree_df['marcap'].apply(np.sqrt)"
   ]
  },
  {
   "cell_type": "code",
   "execution_count": 47,
   "metadata": {},
   "outputs": [
    {
     "data": {
      "application/vnd.plotly.v1+json": {
       "config": {
        "plotlyServerURL": "https://plot.ly"
       },
       "data": [
        {
         "branchvalues": "total",
         "customdata": [
          [
           -1.1197070027228806
          ],
          [
           -1.3351829056678053
          ],
          [
           -3.324101264933419
          ],
          [
           -2.5652078649699632
          ],
          [
           -2.4446244329812723
          ],
          [
           -1.5024116056428383
          ],
          [
           -2.0792332487049805
          ],
          [
           -1.2914701911500828
          ],
          [
           -1.5538764190587986
          ],
          [
           -1.4155936016584465
          ],
          [
           -0.8616655291921169
          ],
          [
           -0.27782410084829745
          ],
          [
           0.4197326065965956
          ],
          [
           -0.7258302950858432
          ],
          [
           -1.6074761526742956
          ],
          [
           -1.5082128924297284
          ],
          [
           -2.674768629700052
          ],
          [
           -1.848804999797266
          ],
          [
           -2.173295782695722
          ],
          [
           -1.0522815669478143
          ],
          [
           -0.6096575293806601
          ],
          [
           -1.3463962332524853
          ],
          [
           0.5995296596303336
          ],
          [
           -0.41063175812052105
          ],
          [
           0.7664401327960759
          ],
          [
           -0.06095613459586786
          ],
          [
           -1.3888527637056063
          ],
          [
           -1.8930466274153135
          ],
          [
           -1.551431451210548
          ],
          [
           -1.0210963951994203
          ],
          [
           -1.4883024056898857
          ],
          [
           -0.6009892981113406
          ],
          [
           -0.8480852309976249
          ],
          [
           -1.0947644636526281
          ],
          [
           1.2933949379741578
          ],
          [
           0.5302601028578977
          ],
          [
           -1.6822380164535455
          ],
          [
           -0.5832651028280607
          ],
          [
           -2.4461694231792985
          ],
          [
           -0.6313449671088293
          ],
          [
           -2.5308259095826955
          ],
          [
           -2.282572925111841
          ],
          [
           -0.2521809971689558
          ],
          [
           -0.56544929477112
          ],
          [
           -2.202126299306123
          ],
          [
           0.8138295819800204
          ],
          [
           -1.4296945061350046
          ],
          [
           -2.0006480821338246
          ],
          [
           0.08455326101627665
          ],
          [
           -1.08770215930696
          ],
          [
           -1.2338872494722728
          ],
          [
           -0.10006437618797323
          ],
          [
           0.14935026724843184
          ],
          [
           -0.8750735606712144
          ],
          [
           -1.6488923389975327
          ]
         ],
         "domain": {
          "x": [
           0,
           1
          ],
          "y": [
           0,
           1
          ]
         },
         "hovertemplate": "labels=%{label}<br>marcap=%{value}<br>parent=%{parent}<br>id=%{id}<br>group_weighted_ret=%{color}<extra></extra>",
         "ids": [
          "KOSPI & KOSDAQ/IT부품",
          "KOSPI & KOSDAQ/건설",
          "KOSPI & KOSDAQ/건설업",
          "KOSPI & KOSDAQ/광업",
          "KOSPI & KOSDAQ/금속",
          "KOSPI & KOSDAQ/금융",
          "KOSPI & KOSDAQ/기계",
          "KOSPI & KOSDAQ/기계·장비",
          "KOSPI & KOSDAQ/기타금융",
          "KOSPI & KOSDAQ/기타서비스",
          "KOSPI & KOSDAQ/기타제조",
          "KOSPI & KOSDAQ/기타제조업",
          "KOSPI & KOSDAQ/농업, 임업 및 어업",
          "KOSPI & KOSDAQ/디지털컨텐츠",
          "KOSPI & KOSDAQ/반도체",
          "KOSPI & KOSDAQ/방송서비스",
          "KOSPI & KOSDAQ/보험",
          "KOSPI & KOSDAQ/비금속",
          "KOSPI & KOSDAQ/비금속광물",
          "KOSPI & KOSDAQ/서비스업",
          "KOSPI & KOSDAQ/섬유·의류",
          "KOSPI & KOSDAQ/섬유의복",
          "KOSPI & KOSDAQ/소프트웨어",
          "KOSPI & KOSDAQ/숙박·음식",
          "KOSPI & KOSDAQ/오락·문화",
          "KOSPI & KOSDAQ/운송",
          "KOSPI & KOSDAQ/운송장비·부품",
          "KOSPI & KOSDAQ/운수장비",
          "KOSPI & KOSDAQ/운수창고업",
          "KOSPI & KOSDAQ/유통",
          "KOSPI & KOSDAQ/유통업",
          "KOSPI & KOSDAQ/은행",
          "KOSPI & KOSDAQ/음식료·담배",
          "KOSPI & KOSDAQ/음식료품",
          "KOSPI & KOSDAQ/의료·정밀기기",
          "KOSPI & KOSDAQ/의료정밀",
          "KOSPI & KOSDAQ/의약품",
          "KOSPI & KOSDAQ/인터넷",
          "KOSPI & KOSDAQ/일반전기전자",
          "KOSPI & KOSDAQ/전기·가스·수도",
          "KOSPI & KOSDAQ/전기가스업",
          "KOSPI & KOSDAQ/전기전자",
          "KOSPI & KOSDAQ/정보기기",
          "KOSPI & KOSDAQ/제약",
          "KOSPI & KOSDAQ/종이·목재",
          "KOSPI & KOSDAQ/종이목재",
          "KOSPI & KOSDAQ/증권",
          "KOSPI & KOSDAQ/철강금속",
          "KOSPI & KOSDAQ/출판·매체복제",
          "KOSPI & KOSDAQ/컴퓨터서비스",
          "KOSPI & KOSDAQ/통신서비스",
          "KOSPI & KOSDAQ/통신업",
          "KOSPI & KOSDAQ/통신장비",
          "KOSPI & KOSDAQ/화학",
          "KOSPI & KOSDAQ"
         ],
         "labels": [
          "IT부품",
          "건설",
          "건설업",
          "광업",
          "금속",
          "금융",
          "기계",
          "기계·장비",
          "기타금융",
          "기타서비스",
          "기타제조",
          "기타제조업",
          "농업, 임업 및 어업",
          "디지털컨텐츠",
          "반도체",
          "방송서비스",
          "보험",
          "비금속",
          "비금속광물",
          "서비스업",
          "섬유·의류",
          "섬유의복",
          "소프트웨어",
          "숙박·음식",
          "오락·문화",
          "운송",
          "운송장비·부품",
          "운수장비",
          "운수창고업",
          "유통",
          "유통업",
          "은행",
          "음식료·담배",
          "음식료품",
          "의료·정밀기기",
          "의료정밀",
          "의약품",
          "인터넷",
          "일반전기전자",
          "전기·가스·수도",
          "전기가스업",
          "전기전자",
          "정보기기",
          "제약",
          "종이·목재",
          "종이목재",
          "증권",
          "철강금속",
          "출판·매체복제",
          "컴퓨터서비스",
          "통신서비스",
          "통신업",
          "통신장비",
          "화학",
          "KOSPI & KOSDAQ"
         ],
         "marker": {
          "coloraxis": "coloraxis",
          "colors": [
           -1.1197070027228806,
           -1.3351829056678053,
           -3.324101264933419,
           -2.5652078649699632,
           -2.4446244329812723,
           -1.5024116056428383,
           -2.0792332487049805,
           -1.2914701911500828,
           -1.5538764190587986,
           -1.4155936016584465,
           -0.8616655291921169,
           -0.27782410084829745,
           0.4197326065965956,
           -0.7258302950858432,
           -1.6074761526742956,
           -1.5082128924297284,
           -2.674768629700052,
           -1.848804999797266,
           -2.173295782695722,
           -1.0522815669478143,
           -0.6096575293806601,
           -1.3463962332524853,
           0.5995296596303336,
           -0.41063175812052105,
           0.7664401327960759,
           -0.06095613459586786,
           -1.3888527637056063,
           -1.8930466274153135,
           -1.551431451210548,
           -1.0210963951994203,
           -1.4883024056898857,
           -0.6009892981113406,
           -0.8480852309976249,
           -1.0947644636526281,
           1.2933949379741578,
           0.5302601028578977,
           -1.6822380164535455,
           -0.5832651028280607,
           -2.4461694231792985,
           -0.6313449671088293,
           -2.5308259095826955,
           -2.282572925111841,
           -0.2521809971689558,
           -0.56544929477112,
           -2.202126299306123,
           0.8138295819800204,
           -1.4296945061350046,
           -2.0006480821338246,
           0.08455326101627665,
           -1.08770215930696,
           -1.2338872494722728,
           -0.10006437618797323,
           0.14935026724843184,
           -0.8750735606712144,
           -1.6488923389975327
          ]
         },
         "name": "",
         "parents": [
          "KOSPI & KOSDAQ",
          "KOSPI & KOSDAQ",
          "KOSPI & KOSDAQ",
          "KOSPI & KOSDAQ",
          "KOSPI & KOSDAQ",
          "KOSPI & KOSDAQ",
          "KOSPI & KOSDAQ",
          "KOSPI & KOSDAQ",
          "KOSPI & KOSDAQ",
          "KOSPI & KOSDAQ",
          "KOSPI & KOSDAQ",
          "KOSPI & KOSDAQ",
          "KOSPI & KOSDAQ",
          "KOSPI & KOSDAQ",
          "KOSPI & KOSDAQ",
          "KOSPI & KOSDAQ",
          "KOSPI & KOSDAQ",
          "KOSPI & KOSDAQ",
          "KOSPI & KOSDAQ",
          "KOSPI & KOSDAQ",
          "KOSPI & KOSDAQ",
          "KOSPI & KOSDAQ",
          "KOSPI & KOSDAQ",
          "KOSPI & KOSDAQ",
          "KOSPI & KOSDAQ",
          "KOSPI & KOSDAQ",
          "KOSPI & KOSDAQ",
          "KOSPI & KOSDAQ",
          "KOSPI & KOSDAQ",
          "KOSPI & KOSDAQ",
          "KOSPI & KOSDAQ",
          "KOSPI & KOSDAQ",
          "KOSPI & KOSDAQ",
          "KOSPI & KOSDAQ",
          "KOSPI & KOSDAQ",
          "KOSPI & KOSDAQ",
          "KOSPI & KOSDAQ",
          "KOSPI & KOSDAQ",
          "KOSPI & KOSDAQ",
          "KOSPI & KOSDAQ",
          "KOSPI & KOSDAQ",
          "KOSPI & KOSDAQ",
          "KOSPI & KOSDAQ",
          "KOSPI & KOSDAQ",
          "KOSPI & KOSDAQ",
          "KOSPI & KOSDAQ",
          "KOSPI & KOSDAQ",
          "KOSPI & KOSDAQ",
          "KOSPI & KOSDAQ",
          "KOSPI & KOSDAQ",
          "KOSPI & KOSDAQ",
          "KOSPI & KOSDAQ",
          "KOSPI & KOSDAQ",
          "KOSPI & KOSDAQ",
          ""
         ],
         "type": "treemap",
         "values": [
          26923768271397,
          3809755661031,
          17217878770460,
          324213146394,
          9257625389477,
          10964900131025,
          34538215750814,
          20904243014782,
          164592651252580,
          27070825938031,
          1924396099781,
          16431493407721,
          2976764654660,
          16918319549455,
          34017256287365,
          3072157157224,
          41818049770650,
          2299044447670,
          25473212609087,
          158198997548753,
          1860335221109,
          10040650836274,
          15072305029977,
          1066387502950,
          13735455946433,
          1303915054410,
          10184606657333,
          139670727168315,
          39843677910610,
          21813676662159,
          63700918008596,
          21201223934650,
          5642890391905,
          25945179088898,
          14397691724798,
          5480427158320,
          118930562586871,
          1748889359830,
          21788583873894,
          263907560440,
          21099461811200,
          727225206295130,
          1617520515517,
          35634407628430,
          2325121198285,
          3155187834075,
          23018652115962,
          54857429811566,
          3333605974897,
          1835282594781,
          1553864814670,
          26515220223750,
          7292861139385,
          201958150016354,
          2263847752510131
         ]
        }
       ],
       "layout": {
        "coloraxis": {
         "cmid": 0,
         "colorbar": {
          "title": {
           "text": "group_weighted_ret"
          }
         },
         "colorscale": [
          [
           0,
           "rgb(5,48,97)"
          ],
          [
           0.1,
           "rgb(33,102,172)"
          ],
          [
           0.2,
           "rgb(67,147,195)"
          ],
          [
           0.3,
           "rgb(146,197,222)"
          ],
          [
           0.4,
           "rgb(209,229,240)"
          ],
          [
           0.5,
           "rgb(247,247,247)"
          ],
          [
           0.6,
           "rgb(253,219,199)"
          ],
          [
           0.7,
           "rgb(244,165,130)"
          ],
          [
           0.8,
           "rgb(214,96,77)"
          ],
          [
           0.9,
           "rgb(178,24,43)"
          ],
          [
           1,
           "rgb(103,0,31)"
          ]
         ]
        },
        "legend": {
         "tracegroupgap": 0
        },
        "margin": {
         "b": 25,
         "l": 25,
         "t": 50
        },
        "template": {
         "data": {
          "bar": [
           {
            "error_x": {
             "color": "#2a3f5f"
            },
            "error_y": {
             "color": "#2a3f5f"
            },
            "marker": {
             "line": {
              "color": "#E5ECF6",
              "width": 0.5
             },
             "pattern": {
              "fillmode": "overlay",
              "size": 10,
              "solidity": 0.2
             }
            },
            "type": "bar"
           }
          ],
          "barpolar": [
           {
            "marker": {
             "line": {
              "color": "#E5ECF6",
              "width": 0.5
             },
             "pattern": {
              "fillmode": "overlay",
              "size": 10,
              "solidity": 0.2
             }
            },
            "type": "barpolar"
           }
          ],
          "carpet": [
           {
            "aaxis": {
             "endlinecolor": "#2a3f5f",
             "gridcolor": "white",
             "linecolor": "white",
             "minorgridcolor": "white",
             "startlinecolor": "#2a3f5f"
            },
            "baxis": {
             "endlinecolor": "#2a3f5f",
             "gridcolor": "white",
             "linecolor": "white",
             "minorgridcolor": "white",
             "startlinecolor": "#2a3f5f"
            },
            "type": "carpet"
           }
          ],
          "choropleth": [
           {
            "colorbar": {
             "outlinewidth": 0,
             "ticks": ""
            },
            "type": "choropleth"
           }
          ],
          "contour": [
           {
            "colorbar": {
             "outlinewidth": 0,
             "ticks": ""
            },
            "colorscale": [
             [
              0,
              "#0d0887"
             ],
             [
              0.1111111111111111,
              "#46039f"
             ],
             [
              0.2222222222222222,
              "#7201a8"
             ],
             [
              0.3333333333333333,
              "#9c179e"
             ],
             [
              0.4444444444444444,
              "#bd3786"
             ],
             [
              0.5555555555555556,
              "#d8576b"
             ],
             [
              0.6666666666666666,
              "#ed7953"
             ],
             [
              0.7777777777777778,
              "#fb9f3a"
             ],
             [
              0.8888888888888888,
              "#fdca26"
             ],
             [
              1,
              "#f0f921"
             ]
            ],
            "type": "contour"
           }
          ],
          "contourcarpet": [
           {
            "colorbar": {
             "outlinewidth": 0,
             "ticks": ""
            },
            "type": "contourcarpet"
           }
          ],
          "heatmap": [
           {
            "colorbar": {
             "outlinewidth": 0,
             "ticks": ""
            },
            "colorscale": [
             [
              0,
              "#0d0887"
             ],
             [
              0.1111111111111111,
              "#46039f"
             ],
             [
              0.2222222222222222,
              "#7201a8"
             ],
             [
              0.3333333333333333,
              "#9c179e"
             ],
             [
              0.4444444444444444,
              "#bd3786"
             ],
             [
              0.5555555555555556,
              "#d8576b"
             ],
             [
              0.6666666666666666,
              "#ed7953"
             ],
             [
              0.7777777777777778,
              "#fb9f3a"
             ],
             [
              0.8888888888888888,
              "#fdca26"
             ],
             [
              1,
              "#f0f921"
             ]
            ],
            "type": "heatmap"
           }
          ],
          "heatmapgl": [
           {
            "colorbar": {
             "outlinewidth": 0,
             "ticks": ""
            },
            "colorscale": [
             [
              0,
              "#0d0887"
             ],
             [
              0.1111111111111111,
              "#46039f"
             ],
             [
              0.2222222222222222,
              "#7201a8"
             ],
             [
              0.3333333333333333,
              "#9c179e"
             ],
             [
              0.4444444444444444,
              "#bd3786"
             ],
             [
              0.5555555555555556,
              "#d8576b"
             ],
             [
              0.6666666666666666,
              "#ed7953"
             ],
             [
              0.7777777777777778,
              "#fb9f3a"
             ],
             [
              0.8888888888888888,
              "#fdca26"
             ],
             [
              1,
              "#f0f921"
             ]
            ],
            "type": "heatmapgl"
           }
          ],
          "histogram": [
           {
            "marker": {
             "pattern": {
              "fillmode": "overlay",
              "size": 10,
              "solidity": 0.2
             }
            },
            "type": "histogram"
           }
          ],
          "histogram2d": [
           {
            "colorbar": {
             "outlinewidth": 0,
             "ticks": ""
            },
            "colorscale": [
             [
              0,
              "#0d0887"
             ],
             [
              0.1111111111111111,
              "#46039f"
             ],
             [
              0.2222222222222222,
              "#7201a8"
             ],
             [
              0.3333333333333333,
              "#9c179e"
             ],
             [
              0.4444444444444444,
              "#bd3786"
             ],
             [
              0.5555555555555556,
              "#d8576b"
             ],
             [
              0.6666666666666666,
              "#ed7953"
             ],
             [
              0.7777777777777778,
              "#fb9f3a"
             ],
             [
              0.8888888888888888,
              "#fdca26"
             ],
             [
              1,
              "#f0f921"
             ]
            ],
            "type": "histogram2d"
           }
          ],
          "histogram2dcontour": [
           {
            "colorbar": {
             "outlinewidth": 0,
             "ticks": ""
            },
            "colorscale": [
             [
              0,
              "#0d0887"
             ],
             [
              0.1111111111111111,
              "#46039f"
             ],
             [
              0.2222222222222222,
              "#7201a8"
             ],
             [
              0.3333333333333333,
              "#9c179e"
             ],
             [
              0.4444444444444444,
              "#bd3786"
             ],
             [
              0.5555555555555556,
              "#d8576b"
             ],
             [
              0.6666666666666666,
              "#ed7953"
             ],
             [
              0.7777777777777778,
              "#fb9f3a"
             ],
             [
              0.8888888888888888,
              "#fdca26"
             ],
             [
              1,
              "#f0f921"
             ]
            ],
            "type": "histogram2dcontour"
           }
          ],
          "mesh3d": [
           {
            "colorbar": {
             "outlinewidth": 0,
             "ticks": ""
            },
            "type": "mesh3d"
           }
          ],
          "parcoords": [
           {
            "line": {
             "colorbar": {
              "outlinewidth": 0,
              "ticks": ""
             }
            },
            "type": "parcoords"
           }
          ],
          "pie": [
           {
            "automargin": true,
            "type": "pie"
           }
          ],
          "scatter": [
           {
            "fillpattern": {
             "fillmode": "overlay",
             "size": 10,
             "solidity": 0.2
            },
            "type": "scatter"
           }
          ],
          "scatter3d": [
           {
            "line": {
             "colorbar": {
              "outlinewidth": 0,
              "ticks": ""
             }
            },
            "marker": {
             "colorbar": {
              "outlinewidth": 0,
              "ticks": ""
             }
            },
            "type": "scatter3d"
           }
          ],
          "scattercarpet": [
           {
            "marker": {
             "colorbar": {
              "outlinewidth": 0,
              "ticks": ""
             }
            },
            "type": "scattercarpet"
           }
          ],
          "scattergeo": [
           {
            "marker": {
             "colorbar": {
              "outlinewidth": 0,
              "ticks": ""
             }
            },
            "type": "scattergeo"
           }
          ],
          "scattergl": [
           {
            "marker": {
             "colorbar": {
              "outlinewidth": 0,
              "ticks": ""
             }
            },
            "type": "scattergl"
           }
          ],
          "scattermapbox": [
           {
            "marker": {
             "colorbar": {
              "outlinewidth": 0,
              "ticks": ""
             }
            },
            "type": "scattermapbox"
           }
          ],
          "scatterpolar": [
           {
            "marker": {
             "colorbar": {
              "outlinewidth": 0,
              "ticks": ""
             }
            },
            "type": "scatterpolar"
           }
          ],
          "scatterpolargl": [
           {
            "marker": {
             "colorbar": {
              "outlinewidth": 0,
              "ticks": ""
             }
            },
            "type": "scatterpolargl"
           }
          ],
          "scatterternary": [
           {
            "marker": {
             "colorbar": {
              "outlinewidth": 0,
              "ticks": ""
             }
            },
            "type": "scatterternary"
           }
          ],
          "surface": [
           {
            "colorbar": {
             "outlinewidth": 0,
             "ticks": ""
            },
            "colorscale": [
             [
              0,
              "#0d0887"
             ],
             [
              0.1111111111111111,
              "#46039f"
             ],
             [
              0.2222222222222222,
              "#7201a8"
             ],
             [
              0.3333333333333333,
              "#9c179e"
             ],
             [
              0.4444444444444444,
              "#bd3786"
             ],
             [
              0.5555555555555556,
              "#d8576b"
             ],
             [
              0.6666666666666666,
              "#ed7953"
             ],
             [
              0.7777777777777778,
              "#fb9f3a"
             ],
             [
              0.8888888888888888,
              "#fdca26"
             ],
             [
              1,
              "#f0f921"
             ]
            ],
            "type": "surface"
           }
          ],
          "table": [
           {
            "cells": {
             "fill": {
              "color": "#EBF0F8"
             },
             "line": {
              "color": "white"
             }
            },
            "header": {
             "fill": {
              "color": "#C8D4E3"
             },
             "line": {
              "color": "white"
             }
            },
            "type": "table"
           }
          ]
         },
         "layout": {
          "annotationdefaults": {
           "arrowcolor": "#2a3f5f",
           "arrowhead": 0,
           "arrowwidth": 1
          },
          "autotypenumbers": "strict",
          "coloraxis": {
           "colorbar": {
            "outlinewidth": 0,
            "ticks": ""
           }
          },
          "colorscale": {
           "diverging": [
            [
             0,
             "#8e0152"
            ],
            [
             0.1,
             "#c51b7d"
            ],
            [
             0.2,
             "#de77ae"
            ],
            [
             0.3,
             "#f1b6da"
            ],
            [
             0.4,
             "#fde0ef"
            ],
            [
             0.5,
             "#f7f7f7"
            ],
            [
             0.6,
             "#e6f5d0"
            ],
            [
             0.7,
             "#b8e186"
            ],
            [
             0.8,
             "#7fbc41"
            ],
            [
             0.9,
             "#4d9221"
            ],
            [
             1,
             "#276419"
            ]
           ],
           "sequential": [
            [
             0,
             "#0d0887"
            ],
            [
             0.1111111111111111,
             "#46039f"
            ],
            [
             0.2222222222222222,
             "#7201a8"
            ],
            [
             0.3333333333333333,
             "#9c179e"
            ],
            [
             0.4444444444444444,
             "#bd3786"
            ],
            [
             0.5555555555555556,
             "#d8576b"
            ],
            [
             0.6666666666666666,
             "#ed7953"
            ],
            [
             0.7777777777777778,
             "#fb9f3a"
            ],
            [
             0.8888888888888888,
             "#fdca26"
            ],
            [
             1,
             "#f0f921"
            ]
           ],
           "sequentialminus": [
            [
             0,
             "#0d0887"
            ],
            [
             0.1111111111111111,
             "#46039f"
            ],
            [
             0.2222222222222222,
             "#7201a8"
            ],
            [
             0.3333333333333333,
             "#9c179e"
            ],
            [
             0.4444444444444444,
             "#bd3786"
            ],
            [
             0.5555555555555556,
             "#d8576b"
            ],
            [
             0.6666666666666666,
             "#ed7953"
            ],
            [
             0.7777777777777778,
             "#fb9f3a"
            ],
            [
             0.8888888888888888,
             "#fdca26"
            ],
            [
             1,
             "#f0f921"
            ]
           ]
          },
          "colorway": [
           "#636efa",
           "#EF553B",
           "#00cc96",
           "#ab63fa",
           "#FFA15A",
           "#19d3f3",
           "#FF6692",
           "#B6E880",
           "#FF97FF",
           "#FECB52"
          ],
          "font": {
           "color": "#2a3f5f"
          },
          "geo": {
           "bgcolor": "white",
           "lakecolor": "white",
           "landcolor": "#E5ECF6",
           "showlakes": true,
           "showland": true,
           "subunitcolor": "white"
          },
          "hoverlabel": {
           "align": "left"
          },
          "hovermode": "closest",
          "mapbox": {
           "style": "light"
          },
          "paper_bgcolor": "white",
          "plot_bgcolor": "#E5ECF6",
          "polar": {
           "angularaxis": {
            "gridcolor": "white",
            "linecolor": "white",
            "ticks": ""
           },
           "bgcolor": "#E5ECF6",
           "radialaxis": {
            "gridcolor": "white",
            "linecolor": "white",
            "ticks": ""
           }
          },
          "scene": {
           "xaxis": {
            "backgroundcolor": "#E5ECF6",
            "gridcolor": "white",
            "gridwidth": 2,
            "linecolor": "white",
            "showbackground": true,
            "ticks": "",
            "zerolinecolor": "white"
           },
           "yaxis": {
            "backgroundcolor": "#E5ECF6",
            "gridcolor": "white",
            "gridwidth": 2,
            "linecolor": "white",
            "showbackground": true,
            "ticks": "",
            "zerolinecolor": "white"
           },
           "zaxis": {
            "backgroundcolor": "#E5ECF6",
            "gridcolor": "white",
            "gridwidth": 2,
            "linecolor": "white",
            "showbackground": true,
            "ticks": "",
            "zerolinecolor": "white"
           }
          },
          "shapedefaults": {
           "line": {
            "color": "#2a3f5f"
           }
          },
          "ternary": {
           "aaxis": {
            "gridcolor": "white",
            "linecolor": "white",
            "ticks": ""
           },
           "baxis": {
            "gridcolor": "white",
            "linecolor": "white",
            "ticks": ""
           },
           "bgcolor": "#E5ECF6",
           "caxis": {
            "gridcolor": "white",
            "linecolor": "white",
            "ticks": ""
           }
          },
          "title": {
           "x": 0.05
          },
          "xaxis": {
           "automargin": true,
           "gridcolor": "white",
           "linecolor": "white",
           "ticks": "",
           "title": {
            "standoff": 15
           },
           "zerolinecolor": "white",
           "zerolinewidth": 2
          },
          "yaxis": {
           "automargin": true,
           "gridcolor": "white",
           "linecolor": "white",
           "ticks": "",
           "title": {
            "standoff": 15
           },
           "zerolinecolor": "white",
           "zerolinewidth": 2
          }
         }
        },
        "title": {
         "text": "업종별 수익률 현황"
        }
       }
      }
     },
     "metadata": {},
     "output_type": "display_data"
    }
   ],
   "source": [
    "chart_name = '업종별 수익률 현황'\n",
    "\n",
    "treemap_fig = px.treemap(\n",
    "    group_tree_df, \n",
    "    title=chart_name,\n",
    "    path=[\n",
    "        px.Constant('KOSPI & KOSDAQ'),\n",
    "        'group_name',\n",
    "    ],\n",
    "    # values='power_marcap',\n",
    "    values='marcap',\n",
    "    color='group_weighted_ret',\n",
    "    # hover_data=[],\n",
    "    # color_discrete_sequence=,\n",
    "    color_continuous_scale='RdBu_r',\n",
    "    color_continuous_midpoint=0,\n",
    ")\n",
    "\n",
    "treemap_fig.update_layout(margin=dict(t=50, l=25, b=25))\n",
    "treemap_fig.show()\n"
   ]
  },
  {
   "cell_type": "code",
   "execution_count": null,
   "metadata": {},
   "outputs": [],
   "source": []
  }
 ],
 "metadata": {
  "kernelspec": {
   "display_name": ".venv",
   "language": "python",
   "name": "python3"
  },
  "language_info": {
   "codemirror_mode": {
    "name": "ipython",
    "version": 3
   },
   "file_extension": ".py",
   "mimetype": "text/x-python",
   "name": "python",
   "nbconvert_exporter": "python",
   "pygments_lexer": "ipython3",
   "version": "3.9.13"
  },
  "orig_nbformat": 4,
  "vscode": {
   "interpreter": {
    "hash": "f3ef76525381b5480a07d40e52db7841ea51c6c85efb36acd7a69e9dc2905440"
   }
  }
 },
 "nbformat": 4,
 "nbformat_minor": 2
}
