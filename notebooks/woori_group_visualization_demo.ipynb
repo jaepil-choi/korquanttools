{
 "cells": [
  {
   "attachments": {},
   "cell_type": "markdown",
   "metadata": {},
   "source": [
    "# 마이데이터 투자탭 데모 "
   ]
  },
  {
   "attachments": {},
   "cell_type": "markdown",
   "metadata": {},
   "source": [
    "## Import libraries"
   ]
  },
  {
   "cell_type": "code",
   "execution_count": 70,
   "metadata": {},
   "outputs": [],
   "source": [
    "from pathlib import Path\n",
    "\n",
    "import matplotlib.pyplot as plt\n",
    "import seaborn as sns\n",
    "import plotly.express as px\n",
    "import plotly\n",
    "\n",
    "import pandas as pd\n",
    "import numpy as np\n",
    "\n",
    "from sklearn.preprocessing import RobustScaler, PowerTransformer\n",
    "\n",
    "import scipy\n",
    "import statsmodels.api as sm\n",
    "import statsmodels.formula.api as smf\n",
    "from statsmodels.regression.rolling import RollingOLS\n",
    "\n",
    "import pickle\n",
    "\n",
    "import re"
   ]
  },
  {
   "cell_type": "code",
   "execution_count": 2,
   "metadata": {},
   "outputs": [],
   "source": [
    "import FinanceDataReader as fdr\n",
    "import quantstats as qs"
   ]
  },
  {
   "cell_type": "code",
   "execution_count": 3,
   "metadata": {},
   "outputs": [],
   "source": [
    "## custom libs\n",
    "\n",
    "from korquanttools.pricevolume.loader import KRXPriceDM\n",
    "from korquanttools.pricevolume.utils import DateUtil\n",
    "from korquanttools.pricevolume.config import PathConfig"
   ]
  },
  {
   "cell_type": "code",
   "execution_count": 4,
   "metadata": {},
   "outputs": [],
   "source": [
    "CWD = Path('.').resolve()\n",
    "WOORI_DATA_PATH = CWD / 'woori_data'"
   ]
  },
  {
   "attachments": {},
   "cell_type": "markdown",
   "metadata": {},
   "source": [
    "## Import dataset"
   ]
  },
  {
   "cell_type": "code",
   "execution_count": 5,
   "metadata": {},
   "outputs": [],
   "source": [
    "# Global parameters\n",
    "\n",
    "START = 20140101\n",
    "END = 20221202\n",
    "\n",
    "WINDOW = 252 # trading day 기준\n",
    "# WINDOW = 60 # trading day 기준\n",
    "# WINDOW = 20 # trading day 기준"
   ]
  },
  {
   "cell_type": "code",
   "execution_count": 6,
   "metadata": {},
   "outputs": [
    {
     "name": "stdout",
     "output_type": "stream",
     "text": [
      "\n",
      "        * DM name: KRX_pricevolume\n",
      "        * DM description: Basic price-volume data imported from KRX website & NAVER finance. Has KOSPI, KOSDAQ, KONEX stocks.\n",
      "        * birthday: 20211203\n",
      "        * DM period: 19990101 ~ \n",
      "        * Available data: ['lv1', 'open', 'high', 'low', 'close', 'volume', 'dollarvolume', 'marketcap']\n",
      "        \n"
     ]
    }
   ],
   "source": [
    "# Init data module\n",
    "pricevolume = KRXPriceDM(START, END)\n",
    "pricevolume.get_info()"
   ]
  },
  {
   "attachments": {},
   "cell_type": "markdown",
   "metadata": {},
   "source": [
    "### 수익률"
   ]
  },
  {
   "cell_type": "code",
   "execution_count": 7,
   "metadata": {},
   "outputs": [],
   "source": [
    "## stock return\n",
    "return_df = pd.read_pickle(PathConfig.cache_path / f\"temp_return_{START}_{END}\")"
   ]
  },
  {
   "cell_type": "code",
   "execution_count": 8,
   "metadata": {},
   "outputs": [
    {
     "data": {
      "text/plain": [
       "DatetimeIndex(['2014-01-02', '2014-01-03', '2014-01-06', '2014-01-07',\n",
       "               '2014-01-08', '2014-01-09', '2014-01-10', '2014-01-13',\n",
       "               '2014-01-14', '2014-01-15',\n",
       "               ...\n",
       "               '2022-11-21', '2022-11-22', '2022-11-23', '2022-11-24',\n",
       "               '2022-11-25', '2022-11-28', '2022-11-29', '2022-11-30',\n",
       "               '2022-12-01', '2022-12-02'],\n",
       "              dtype='datetime64[ns]', name='trdDd', length=2190, freq=None)"
      ]
     },
     "execution_count": 8,
     "metadata": {},
     "output_type": "execute_result"
    }
   ],
   "source": [
    "holidays = return_df.isnull().all(axis=1)\n",
    "tradingdays = ~holidays\n",
    "\n",
    "holidays = holidays.index[holidays]\n",
    "tradingdays = tradingdays.index[tradingdays]\n",
    "\n",
    "tradingdays"
   ]
  },
  {
   "cell_type": "code",
   "execution_count": 9,
   "metadata": {},
   "outputs": [],
   "source": [
    "return_df = return_df.loc[tradingdays, :].copy()"
   ]
  },
  {
   "attachments": {},
   "cell_type": "markdown",
   "metadata": {},
   "source": [
    "### 수익률 통계량 확인 \n",
    "\n",
    "- 업종 서브페이지에서 어느 정도를 '보합'으로 잡을지 판단하기 위해 확인"
   ]
  },
  {
   "cell_type": "code",
   "execution_count": 10,
   "metadata": {},
   "outputs": [
    {
     "data": {
      "text/html": [
       "<div>\n",
       "<style scoped>\n",
       "    .dataframe tbody tr th:only-of-type {\n",
       "        vertical-align: middle;\n",
       "    }\n",
       "\n",
       "    .dataframe tbody tr th {\n",
       "        vertical-align: top;\n",
       "    }\n",
       "\n",
       "    .dataframe thead th {\n",
       "        text-align: right;\n",
       "    }\n",
       "</style>\n",
       "<table border=\"1\" class=\"dataframe\">\n",
       "  <thead>\n",
       "    <tr style=\"text-align: right;\">\n",
       "      <th></th>\n",
       "      <th>0</th>\n",
       "    </tr>\n",
       "  </thead>\n",
       "  <tbody>\n",
       "    <tr>\n",
       "      <th>count</th>\n",
       "      <td>5.081375e+06</td>\n",
       "    </tr>\n",
       "    <tr>\n",
       "      <th>mean</th>\n",
       "      <td>5.401327e-02</td>\n",
       "    </tr>\n",
       "    <tr>\n",
       "      <th>std</th>\n",
       "      <td>3.832073e+00</td>\n",
       "    </tr>\n",
       "    <tr>\n",
       "      <th>min</th>\n",
       "      <td>-9.969191e+01</td>\n",
       "    </tr>\n",
       "    <tr>\n",
       "      <th>25%</th>\n",
       "      <td>-1.330377e+00</td>\n",
       "    </tr>\n",
       "    <tr>\n",
       "      <th>50%</th>\n",
       "      <td>0.000000e+00</td>\n",
       "    </tr>\n",
       "    <tr>\n",
       "      <th>75%</th>\n",
       "      <td>1.129235e+00</td>\n",
       "    </tr>\n",
       "    <tr>\n",
       "      <th>max</th>\n",
       "      <td>1.605686e+03</td>\n",
       "    </tr>\n",
       "  </tbody>\n",
       "</table>\n",
       "</div>"
      ],
      "text/plain": [
       "                  0\n",
       "count  5.081375e+06\n",
       "mean   5.401327e-02\n",
       "std    3.832073e+00\n",
       "min   -9.969191e+01\n",
       "25%   -1.330377e+00\n",
       "50%    0.000000e+00\n",
       "75%    1.129235e+00\n",
       "max    1.605686e+03"
      ]
     },
     "execution_count": 10,
     "metadata": {},
     "output_type": "execute_result"
    }
   ],
   "source": [
    "pd.DataFrame(return_df.to_numpy().flatten() * 100).describe()"
   ]
  },
  {
   "attachments": {},
   "cell_type": "markdown",
   "metadata": {},
   "source": [
    "### 시가총액"
   ]
  },
  {
   "cell_type": "code",
   "execution_count": 11,
   "metadata": {},
   "outputs": [],
   "source": [
    "# Data for 2nd Factor: SMB (Small Minus Big)\n",
    "\n",
    "marcap_df = pricevolume.get_data(\"marketcap\")"
   ]
  },
  {
   "cell_type": "code",
   "execution_count": 12,
   "metadata": {},
   "outputs": [],
   "source": [
    "marcap_df = marcap_df.astype(float) # object로 되어있었음"
   ]
  },
  {
   "cell_type": "code",
   "execution_count": 13,
   "metadata": {},
   "outputs": [],
   "source": [
    "marcap_df = marcap_df.loc[tradingdays, :].copy()"
   ]
  },
  {
   "attachments": {},
   "cell_type": "markdown",
   "metadata": {},
   "source": [
    "### Grouping"
   ]
  },
  {
   "cell_type": "code",
   "execution_count": 14,
   "metadata": {},
   "outputs": [],
   "source": [
    "with open('INDUSTRY_NAME2CODE.pickle', 'rb') as handle:\n",
    "    INDUSTRY_NAME2CODE = pickle.load(handle)"
   ]
  },
  {
   "cell_type": "code",
   "execution_count": 15,
   "metadata": {},
   "outputs": [],
   "source": [
    "INDUSTRY_CODE2NAME = {v:k for k,v in INDUSTRY_NAME2CODE.items()}"
   ]
  },
  {
   "cell_type": "code",
   "execution_count": 16,
   "metadata": {},
   "outputs": [],
   "source": [
    "ksic_df = pd.read_excel(WOORI_DATA_PATH / 'ksic_lv1lv2.xlsx', skiprows=2)\n",
    "ksic_df = ksic_df.ffill()\n",
    "ksic_df = ksic_df.drop_duplicates()\n",
    "# ksic_df.to_excel('ksic.xlsx')"
   ]
  },
  {
   "attachments": {},
   "cell_type": "markdown",
   "metadata": {},
   "source": [
    "KRX 산업분류는 표준산업분류를 기초로 했다고는 하나 굉장히 근본없이 한거같다. 제대로 된 업종 분류로 보이지 않음. \n",
    "\n",
    "대분류와 중분류가 섞여있는 모습을 보이고, 서비스업 등은 무엇을 지칭하는 것인지 불분명하다. \n",
    "\n",
    "KRX에 설명을 적어놓지도 않았다. 이런... \n",
    "\n",
    "그래서 아래와 같이 일단 내가 직접 노가다로 대분류 표준산업분류와 매핑을 시켜봤다. "
   ]
  },
  {
   "attachments": {},
   "cell_type": "markdown",
   "metadata": {},
   "source": [
    " 0: '서비스업', -->  전문, 과학 및 기술 서비스업(70~73)\n",
    "\n",
    " 1: '기타금융', --> 금융 및 보험업(64~66)\n",
    "\n",
    " 2: '섬유의복', --> 제조업(10~34)\n",
    "\n",
    " 3: '운수창고업', --> 운수 및 창고업(49~52)\n",
    "\n",
    " 4: '음식료품', --> 제조업(10~34)\n",
    "\n",
    " 5: '화학', --> 제조업(10~34)\n",
    "\n",
    " 6: '철강금속', --> 제조업(10~34)\n",
    "\n",
    " 7: '유통업', --> 운수 및 창고업(49~52)\n",
    "\n",
    " 8: '건설업', --> 건설업(41~42)\n",
    "\n",
    " 9: '증권', --> 금융 및 보험업(64~66)\n",
    "\n",
    " 10: '전기전자', --> 제조업(10~34)\n",
    "\n",
    " 11: '의약품', --> 제조업(10~34)\n",
    "\n",
    " 12: '기계', --> 제조업(10~34)\n",
    "\n",
    " 13: '종이목재', --> 제조업(10~34)\n",
    "\n",
    " 14: '통신업', --> 정보통신업(58~63)\n",
    "\n",
    " 15: '기타제조업', --> 제조업(10~34)\n",
    "\n",
    " 16: '보험', --> 금융 및 보험업(64~66)\n",
    "\n",
    " 17: '운수장비', --> 제조업(10~34)\n",
    "\n",
    " 18: '전기가스업', --> 전기, 가스, 증기 및 공기 조절 공급업(35)\n",
    "\n",
    " 19: '비금속광물', --> 광업(05~08)\n",
    "\n",
    " 20: '은행', --> 금융 및 보험업(64~66)\n",
    "\n",
    " 21: '광업', --> 광업(05~08)\n",
    "\n",
    " 22: '농업, 임업 및 어업', --> 농업, 임업 및 어업(01~03)\n",
    "\n",
    " 23: '의료정밀', --> 제조업(10~34)\n",
    "\n",
    " 24: '반도체', --> 제조업(10~34)\n",
    "\n",
    " 25: '금속', --> 제조업(10~34)\n",
    "\n",
    " 26: '기타서비스', --> 전문, 과학 및 기술 서비스업(70~73)\n",
    "\n",
    " 27: '방송서비스', --> 정보통신업(58~63)\n",
    "\n",
    " 28: '유통', --> 운수 및 창고업(49~52)\n",
    "\n",
    " 29: '제약', --> 제조업(10~34)\n",
    "\n",
    " 30: '통신장비', --> 제조업(10~34)\n",
    "\n",
    " 31: 'IT부품', --> 제조업(10~34)\n",
    "\n",
    " 32: '기계·장비', --> 제조업(10~34)\n",
    "\n",
    " 33: '오락·문화', --> 예술, 스포츠 및 여가관련 서비스업(90~91)\n",
    "\n",
    " 34: '운송장비·부품', --> 제조업(10~34)\n",
    "\n",
    " 35: '건설', --> 건설업(41~42)\n",
    "\n",
    " 36: '전기·가스·수도', --> 전기, 가스, 증기 및 공기 조절 공급업(35)\n",
    "\n",
    " 37: '소프트웨어', --> 정보통신업(58~63)\n",
    "\n",
    " 38: '인터넷', --> 정보통신업(58~63)\n",
    "\n",
    " 39: '디지털컨텐츠', --> 정보통신업(58~63)\n",
    "\n",
    " 40: '출판·매체복제', --> 정보통신업(58~63)\n",
    "\n",
    " 41: '금융', --> 금융 및 보험업(64~66)\n",
    "\n",
    " 42: '운송', --> 운수 및 창고업(49~52)\n",
    "\n",
    " 43: '통신서비스', --> 정보통신업(58~63)\n",
    "\n",
    " 44: '일반전기전자', --> 제조업(10~34)\n",
    "\n",
    " 45: '섬유·의류', --> 제조업(10~34)\n",
    "\n",
    " 46: '컴퓨터서비스', --> 정보통신업(58~63)\n",
    "\n",
    " 47: '음식료·담배', --> 제조업(10~34)\n",
    "\n",
    " 48: '비금속', --> 제조업(10~34)\n",
    "\n",
    " 49: '종이·목재', --> 제조업(10~34)\n",
    "\n",
    " 50: '의료·정밀기기', --> 제조업(10~34)\n",
    "\n",
    " 51: '기타제조', --> 제조업(10~34)\n",
    "\n",
    " 52: '정보기기', --> 제조업(10~34)\n",
    "\n",
    " 53: '숙박·음식' --> 숙박 및 음식점업(55~56)"
   ]
  },
  {
   "cell_type": "code",
   "execution_count": 17,
   "metadata": {},
   "outputs": [],
   "source": [
    "CODE2KSIC_MAPPING = {\n",
    "    0: '전문, 과학 및 기술 서비스업(70~73)',\n",
    "    1: '금융 및 보험업(64~66)',\n",
    "    2: '제조업(10~34)',\n",
    "    3: '운수 및 창고업(49~52)',\n",
    "    4: '제조업(10~34)',\n",
    "    5: '제조업(10~34)',\n",
    "    6: '제조업(10~34)',\n",
    "    7: '운수 및 창고업(49~52)',\n",
    "    8: '건설업(41~42)',\n",
    "    9: '금융 및 보험업(64~66)',\n",
    "    10: '제조업(10~34)',\n",
    "    11: '제조업(10~34)',\n",
    "    12: '제조업(10~34)',\n",
    "    13: '제조업(10~34)',\n",
    "    14: '정보통신업(58~63)',\n",
    "    15: '제조업(10~34)',\n",
    "    16: '금융 및 보험업(64~66)',\n",
    "    17: '제조업(10~34)',\n",
    "    18: '전기, 가스, 증기 및 공기 조절 공급업(35)',\n",
    "    19: '광업(05~08)',\n",
    "    20: '금융 및 보험업(64~66)',\n",
    "    21: '광업(05~08)',\n",
    "    22: '농업, 임업 및 어업(01~03)',\n",
    "    23: '제조업(10~34)',\n",
    "    24: '제조업(10~34)',\n",
    "    25: '제조업(10~34)',\n",
    "    26: '전문, 과학 및 기술 서비스업(70~73)',\n",
    "    27: '정보통신업(58~63)',\n",
    "    28: '운수 및 창고업(49~52)',\n",
    "    29: '제조업(10~34)',\n",
    "    30: '제조업(10~34)',\n",
    "    31: '제조업(10~34)',\n",
    "    32: '제조업(10~34)',\n",
    "    33: '예술, 스포츠 및 여가관련 서비스업(90~91)',\n",
    "    34: '제조업(10~34)',\n",
    "    35: '건설업(41~42)',\n",
    "    36: '전기, 가스, 증기 및 공기 조절 공급업(35)',\n",
    "    37: '정보통신업(58~63)',\n",
    "    38: '정보통신업(58~63)',\n",
    "    39: '정보통신업(58~63)',\n",
    "    40: '정보통신업(58~63)',\n",
    "    41: '금융 및 보험업(64~66)',\n",
    "    42: '운수 및 창고업(49~52)',\n",
    "    43: '정보통신업(58~63)',\n",
    "    44: '제조업(10~34)',\n",
    "    45: '제조업(10~34)',\n",
    "    46: '정보통신업(58~63)',\n",
    "    47: '제조업(10~34)',\n",
    "    48: '제조업(10~34)',\n",
    "    49: '제조업(10~34)',\n",
    "    50: '제조업(10~34)',\n",
    "    51: '제조업(10~34)',\n",
    "    52: '제조업(10~34)',\n",
    "    53: '숙박 및 음식점업(55~56)',\n",
    "    }"
   ]
  },
  {
   "cell_type": "code",
   "execution_count": 18,
   "metadata": {},
   "outputs": [],
   "source": [
    "industry_df = pd.read_pickle('krx_industry_df_20140101_20221202.pickle')"
   ]
  },
  {
   "cell_type": "code",
   "execution_count": 19,
   "metadata": {},
   "outputs": [],
   "source": [
    "with open('sid2name.pkl', 'rb') as p:\n",
    "    sid2name = pickle.load(p)"
   ]
  },
  {
   "attachments": {},
   "cell_type": "markdown",
   "metadata": {},
   "source": [
    "## 업종별 수익률"
   ]
  },
  {
   "cell_type": "code",
   "execution_count": 20,
   "metadata": {},
   "outputs": [
    {
     "data": {
      "text/plain": [
       "ISU_SRT_CD\n",
       "000020    0.006508\n",
       "000040    0.000000\n",
       "000050    0.009009\n",
       "000060   -0.018672\n",
       "000070    0.014620\n",
       "            ...   \n",
       "440200    0.005063\n",
       "440790   -0.002513\n",
       "446070   -0.007899\n",
       "439410   -0.002525\n",
       "442130    0.007557\n",
       "Name: 2022-12-02 00:00:00, Length: 3110, dtype: float64"
      ]
     },
     "execution_count": 20,
     "metadata": {},
     "output_type": "execute_result"
    }
   ],
   "source": [
    "return_df.iloc[-1, :]"
   ]
  },
  {
   "cell_type": "markdown",
   "metadata": {},
   "source": [
    "마지막날은 2022-12-02"
   ]
  },
  {
   "cell_type": "code",
   "execution_count": 21,
   "metadata": {},
   "outputs": [],
   "source": [
    "# DATE_BEFORE = -1\n",
    "\n",
    "DATE = '2022-01-27'"
   ]
  },
  {
   "cell_type": "code",
   "execution_count": 22,
   "metadata": {},
   "outputs": [],
   "source": [
    "last_return_v = return_df.loc[DATE, :]\n",
    "\n",
    "last_marcap_v = marcap_df.loc[DATE, :]\n",
    "last_group_v = industry_df.loc[DATE, :]"
   ]
  },
  {
   "cell_type": "code",
   "execution_count": 23,
   "metadata": {},
   "outputs": [
    {
     "data": {
      "text/plain": [
       "630"
      ]
     },
     "execution_count": 23,
     "metadata": {},
     "output_type": "execute_result"
    }
   ],
   "source": [
    "last_group_v.isna().sum()"
   ]
  },
  {
   "cell_type": "code",
   "execution_count": 24,
   "metadata": {},
   "outputs": [],
   "source": [
    "last_lv1_df = pd.DataFrame(data={\n",
    "    'ret': last_return_v,\n",
    "    'marcap': last_marcap_v,\n",
    "    'group_idx': last_group_v,\n",
    "})"
   ]
  },
  {
   "cell_type": "code",
   "execution_count": 25,
   "metadata": {},
   "outputs": [
    {
     "data": {
      "text/plain": [
       "3110"
      ]
     },
     "execution_count": 25,
     "metadata": {},
     "output_type": "execute_result"
    }
   ],
   "source": [
    "len(last_lv1_df)"
   ]
  },
  {
   "cell_type": "code",
   "execution_count": 26,
   "metadata": {},
   "outputs": [
    {
     "data": {
      "text/html": [
       "<div>\n",
       "<style scoped>\n",
       "    .dataframe tbody tr th:only-of-type {\n",
       "        vertical-align: middle;\n",
       "    }\n",
       "\n",
       "    .dataframe tbody tr th {\n",
       "        vertical-align: top;\n",
       "    }\n",
       "\n",
       "    .dataframe thead th {\n",
       "        text-align: right;\n",
       "    }\n",
       "</style>\n",
       "<table border=\"1\" class=\"dataframe\">\n",
       "  <thead>\n",
       "    <tr style=\"text-align: right;\">\n",
       "      <th></th>\n",
       "      <th>ISU_SRT_CD</th>\n",
       "      <th>ret</th>\n",
       "      <th>marcap</th>\n",
       "      <th>group_idx</th>\n",
       "    </tr>\n",
       "  </thead>\n",
       "  <tbody>\n",
       "    <tr>\n",
       "      <th>0</th>\n",
       "      <td>000020</td>\n",
       "      <td>-0.054622</td>\n",
       "      <td>3.142290e+11</td>\n",
       "      <td>11.0</td>\n",
       "    </tr>\n",
       "    <tr>\n",
       "      <th>1</th>\n",
       "      <td>000040</td>\n",
       "      <td>-0.035387</td>\n",
       "      <td>7.075710e+10</td>\n",
       "      <td>17.0</td>\n",
       "    </tr>\n",
       "    <tr>\n",
       "      <th>2</th>\n",
       "      <td>000050</td>\n",
       "      <td>-0.035211</td>\n",
       "      <td>3.755892e+11</td>\n",
       "      <td>7.0</td>\n",
       "    </tr>\n",
       "    <tr>\n",
       "      <th>3</th>\n",
       "      <td>000060</td>\n",
       "      <td>-0.011881</td>\n",
       "      <td>6.019188e+12</td>\n",
       "      <td>16.0</td>\n",
       "    </tr>\n",
       "    <tr>\n",
       "      <th>4</th>\n",
       "      <td>000070</td>\n",
       "      <td>-0.039954</td>\n",
       "      <td>7.202552e+11</td>\n",
       "      <td>1.0</td>\n",
       "    </tr>\n",
       "    <tr>\n",
       "      <th>...</th>\n",
       "      <td>...</td>\n",
       "      <td>...</td>\n",
       "      <td>...</td>\n",
       "      <td>...</td>\n",
       "    </tr>\n",
       "    <tr>\n",
       "      <th>2474</th>\n",
       "      <td>400840</td>\n",
       "      <td>-0.002375</td>\n",
       "      <td>1.075200e+10</td>\n",
       "      <td>41.0</td>\n",
       "    </tr>\n",
       "    <tr>\n",
       "      <th>2475</th>\n",
       "      <td>404990</td>\n",
       "      <td>-0.011555</td>\n",
       "      <td>2.632724e+11</td>\n",
       "      <td>0.0</td>\n",
       "    </tr>\n",
       "    <tr>\n",
       "      <th>2476</th>\n",
       "      <td>102370</td>\n",
       "      <td>-0.077673</td>\n",
       "      <td>3.439036e+11</td>\n",
       "      <td>28.0</td>\n",
       "    </tr>\n",
       "    <tr>\n",
       "      <th>2477</th>\n",
       "      <td>353590</td>\n",
       "      <td>0.041237</td>\n",
       "      <td>2.600865e+11</td>\n",
       "      <td>28.0</td>\n",
       "    </tr>\n",
       "    <tr>\n",
       "      <th>2478</th>\n",
       "      <td>404950</td>\n",
       "      <td>-0.011765</td>\n",
       "      <td>1.226400e+10</td>\n",
       "      <td>41.0</td>\n",
       "    </tr>\n",
       "  </tbody>\n",
       "</table>\n",
       "<p>2479 rows × 4 columns</p>\n",
       "</div>"
      ],
      "text/plain": [
       "     ISU_SRT_CD       ret        marcap  group_idx\n",
       "0        000020 -0.054622  3.142290e+11       11.0\n",
       "1        000040 -0.035387  7.075710e+10       17.0\n",
       "2        000050 -0.035211  3.755892e+11        7.0\n",
       "3        000060 -0.011881  6.019188e+12       16.0\n",
       "4        000070 -0.039954  7.202552e+11        1.0\n",
       "...         ...       ...           ...        ...\n",
       "2474     400840 -0.002375  1.075200e+10       41.0\n",
       "2475     404990 -0.011555  2.632724e+11        0.0\n",
       "2476     102370 -0.077673  3.439036e+11       28.0\n",
       "2477     353590  0.041237  2.600865e+11       28.0\n",
       "2478     404950 -0.011765  1.226400e+10       41.0\n",
       "\n",
       "[2479 rows x 4 columns]"
      ]
     },
     "execution_count": 26,
     "metadata": {},
     "output_type": "execute_result"
    }
   ],
   "source": [
    "last_lv1_df = last_lv1_df.dropna()\n",
    "last_lv1_df = last_lv1_df.reset_index()\n",
    "last_lv1_df"
   ]
  },
  {
   "cell_type": "code",
   "execution_count": 27,
   "metadata": {},
   "outputs": [],
   "source": [
    "## 표준산업분류로 mapping, 더 이상 idx가 아님. string(object) 임.\n",
    "\n",
    "last_lv1_df['group_idx'] = last_lv1_df['group_idx'].apply(lambda g: CODE2KSIC_MAPPING[g])"
   ]
  },
  {
   "cell_type": "code",
   "execution_count": 28,
   "metadata": {},
   "outputs": [],
   "source": [
    "group_marcap_weight_df = last_lv1_df[['group_idx', 'marcap']].groupby(by='group_idx').sum()\n",
    "group_marcap_weight_df.reset_index(drop=False, inplace=True)\n",
    "\n",
    "group_marcap_weight_df.rename(columns={'marcap': 'group_marcap_sum'}, inplace=True)"
   ]
  },
  {
   "cell_type": "code",
   "execution_count": 29,
   "metadata": {},
   "outputs": [
    {
     "data": {
      "text/plain": [
       "{'건설업(41~42)': 23159049428417.0,\n",
       " '광업(05~08)': 20109542164633.0,\n",
       " '금융 및 보험업(64~66)': 281814023199434.0,\n",
       " '농업, 임업 및 어업(01~03)': 1425805903280.0,\n",
       " '숙박 및 음식점업(55~56)': 1266333636366.0,\n",
       " '예술, 스포츠 및 여가관련 서비스업(90~91)': 13211576550390.0,\n",
       " '운수 및 창고업(49~52)': 124859511645838.0,\n",
       " '전기, 가스, 증기 및 공기 조절 공급업(35)': 19017086774385.0,\n",
       " '전문, 과학 및 기술 서비스업(70~73)': 239402944996600.0,\n",
       " '정보통신업(58~63)': 87424152265288.0,\n",
       " '제조업(10~34)': 1496756266307020.0}"
      ]
     },
     "execution_count": 29,
     "metadata": {},
     "output_type": "execute_result"
    }
   ],
   "source": [
    "KSIC2GRPMARCAP = {k:v for k, v in group_marcap_weight_df.values}\n",
    "KSIC2GRPMARCAP"
   ]
  },
  {
   "cell_type": "code",
   "execution_count": 30,
   "metadata": {},
   "outputs": [],
   "source": [
    "last_lv1_df.loc[:, 'group_marcap_sum'] = last_lv1_df['group_idx'].apply(lambda g_nm: KSIC2GRPMARCAP[g_nm])"
   ]
  },
  {
   "cell_type": "code",
   "execution_count": 31,
   "metadata": {},
   "outputs": [],
   "source": [
    "\n",
    "last_lv1_df['group_marcap_weight'] = last_lv1_df['marcap'] / last_lv1_df['group_marcap_sum']\n",
    "last_lv1_df['group_weighted_ret'] = last_lv1_df['ret'] * last_lv1_df['group_marcap_weight']\n"
   ]
  },
  {
   "cell_type": "code",
   "execution_count": 32,
   "metadata": {},
   "outputs": [],
   "source": [
    "group_tree_df = last_lv1_df[['group_idx', 'group_weighted_ret', 'marcap']].groupby(by='group_idx').sum()\n",
    "group_tree_df.reset_index(drop=False, inplace=True)"
   ]
  },
  {
   "cell_type": "code",
   "execution_count": 33,
   "metadata": {},
   "outputs": [],
   "source": [
    "group_tree_df['group_weighted_ret'] = 100 * group_tree_df['group_weighted_ret']"
   ]
  },
  {
   "cell_type": "code",
   "execution_count": 34,
   "metadata": {},
   "outputs": [
    {
     "data": {
      "text/plain": [
       "Index(['group_idx', 'group_weighted_ret', 'marcap'], dtype='object')"
      ]
     },
     "execution_count": 34,
     "metadata": {},
     "output_type": "execute_result"
    }
   ],
   "source": [
    "group_tree_df.columns"
   ]
  },
  {
   "cell_type": "code",
   "execution_count": 35,
   "metadata": {},
   "outputs": [],
   "source": [
    "group_tree_df['log_marcap'] = group_tree_df['marcap'].apply(np.log)"
   ]
  },
  {
   "cell_type": "code",
   "execution_count": 36,
   "metadata": {},
   "outputs": [],
   "source": [
    "scaler = RobustScaler()\n",
    "\n",
    "group_tree_df['robust_marcap'] = scaler.fit_transform(group_tree_df['marcap'].to_frame())\n",
    "# group_tree_df['robust_marcap'] = group_tree_df['robust_marcap'] + abs(group_tree_df['robust_marcap'].min())"
   ]
  },
  {
   "cell_type": "code",
   "execution_count": 37,
   "metadata": {},
   "outputs": [],
   "source": [
    "scaler = PowerTransformer(method='yeo-johnson')\n",
    "\n",
    "group_tree_df['power_marcap'] = scaler.fit_transform(group_tree_df['marcap'].to_frame())"
   ]
  },
  {
   "cell_type": "code",
   "execution_count": 38,
   "metadata": {},
   "outputs": [],
   "source": [
    "group_tree_df['sqrt_marcap'] = group_tree_df['marcap'].apply(np.sqrt)"
   ]
  },
  {
   "cell_type": "code",
   "execution_count": 39,
   "metadata": {},
   "outputs": [
    {
     "data": {
      "application/vnd.plotly.v1+json": {
       "config": {
        "plotlyServerURL": "https://plot.ly"
       },
       "data": [
        {
         "branchvalues": "total",
         "customdata": [
          [
           -3.4416807818230173
          ],
          [
           -5.014365313603306
          ],
          [
           -2.7896886155684526
          ],
          [
           -3.807105642231621
          ],
          [
           -3.933498494367958
          ],
          [
           -4.245507207861071
          ],
          [
           -3.5885415213563663
          ],
          [
           -3.261752499513295
          ],
          [
           -4.0502218160840275
          ],
          [
           -3.7893153151644383
          ],
          [
           -3.3807344000960766
          ],
          [
           -3.4241021250175327
          ]
         ],
         "domain": {
          "x": [
           0,
           1
          ],
          "y": [
           0,
           1
          ]
         },
         "hovertemplate": "labels=%{label}<br>marcap=%{value}<br>parent=%{parent}<br>id=%{id}<br>group_weighted_ret=%{color}<extra></extra>",
         "ids": [
          "KOSPI & KOSDAQ/건설업(41~42)",
          "KOSPI & KOSDAQ/광업(05~08)",
          "KOSPI & KOSDAQ/금융 및 보험업(64~66)",
          "KOSPI & KOSDAQ/농업, 임업 및 어업(01~03)",
          "KOSPI & KOSDAQ/숙박 및 음식점업(55~56)",
          "KOSPI & KOSDAQ/예술, 스포츠 및 여가관련 서비스업(90~91)",
          "KOSPI & KOSDAQ/운수 및 창고업(49~52)",
          "KOSPI & KOSDAQ/전기, 가스, 증기 및 공기 조절 공급업(35)",
          "KOSPI & KOSDAQ/전문, 과학 및 기술 서비스업(70~73)",
          "KOSPI & KOSDAQ/정보통신업(58~63)",
          "KOSPI & KOSDAQ/제조업(10~34)",
          "KOSPI & KOSDAQ"
         ],
         "labels": [
          "건설업(41~42)",
          "광업(05~08)",
          "금융 및 보험업(64~66)",
          "농업, 임업 및 어업(01~03)",
          "숙박 및 음식점업(55~56)",
          "예술, 스포츠 및 여가관련 서비스업(90~91)",
          "운수 및 창고업(49~52)",
          "전기, 가스, 증기 및 공기 조절 공급업(35)",
          "전문, 과학 및 기술 서비스업(70~73)",
          "정보통신업(58~63)",
          "제조업(10~34)",
          "KOSPI & KOSDAQ"
         ],
         "marker": {
          "coloraxis": "coloraxis",
          "colors": [
           -3.4416807818230173,
           -5.014365313603306,
           -2.7896886155684526,
           -3.807105642231621,
           -3.933498494367958,
           -4.245507207861071,
           -3.5885415213563663,
           -3.261752499513295,
           -4.0502218160840275,
           -3.7893153151644383,
           -3.3807344000960766,
           -3.4241021250175327
          ]
         },
         "name": "",
         "parents": [
          "KOSPI & KOSDAQ",
          "KOSPI & KOSDAQ",
          "KOSPI & KOSDAQ",
          "KOSPI & KOSDAQ",
          "KOSPI & KOSDAQ",
          "KOSPI & KOSDAQ",
          "KOSPI & KOSDAQ",
          "KOSPI & KOSDAQ",
          "KOSPI & KOSDAQ",
          "KOSPI & KOSDAQ",
          "KOSPI & KOSDAQ",
          ""
         ],
         "type": "treemap",
         "values": [
          23159049428417,
          20109542164633,
          281814023199434,
          1425805903280,
          1266333636366,
          13211576550390,
          124859511645838,
          19017086774385,
          239402944996600,
          87424152265288,
          1496756266307020,
          2308446292871651
         ]
        }
       ],
       "layout": {
        "coloraxis": {
         "cmid": 0,
         "colorbar": {
          "title": {
           "text": "group_weighted_ret"
          }
         },
         "colorscale": [
          [
           0,
           "rgb(5,48,97)"
          ],
          [
           0.1,
           "rgb(33,102,172)"
          ],
          [
           0.2,
           "rgb(67,147,195)"
          ],
          [
           0.3,
           "rgb(146,197,222)"
          ],
          [
           0.4,
           "rgb(209,229,240)"
          ],
          [
           0.5,
           "rgb(247,247,247)"
          ],
          [
           0.6,
           "rgb(253,219,199)"
          ],
          [
           0.7,
           "rgb(244,165,130)"
          ],
          [
           0.8,
           "rgb(214,96,77)"
          ],
          [
           0.9,
           "rgb(178,24,43)"
          ],
          [
           1,
           "rgb(103,0,31)"
          ]
         ]
        },
        "height": 400,
        "legend": {
         "orientation": "h",
         "tracegroupgap": 0
        },
        "margin": {
         "b": 25,
         "l": 25,
         "t": 50
        },
        "template": {
         "data": {
          "bar": [
           {
            "error_x": {
             "color": "#2a3f5f"
            },
            "error_y": {
             "color": "#2a3f5f"
            },
            "marker": {
             "line": {
              "color": "#E5ECF6",
              "width": 0.5
             },
             "pattern": {
              "fillmode": "overlay",
              "size": 10,
              "solidity": 0.2
             }
            },
            "type": "bar"
           }
          ],
          "barpolar": [
           {
            "marker": {
             "line": {
              "color": "#E5ECF6",
              "width": 0.5
             },
             "pattern": {
              "fillmode": "overlay",
              "size": 10,
              "solidity": 0.2
             }
            },
            "type": "barpolar"
           }
          ],
          "carpet": [
           {
            "aaxis": {
             "endlinecolor": "#2a3f5f",
             "gridcolor": "white",
             "linecolor": "white",
             "minorgridcolor": "white",
             "startlinecolor": "#2a3f5f"
            },
            "baxis": {
             "endlinecolor": "#2a3f5f",
             "gridcolor": "white",
             "linecolor": "white",
             "minorgridcolor": "white",
             "startlinecolor": "#2a3f5f"
            },
            "type": "carpet"
           }
          ],
          "choropleth": [
           {
            "colorbar": {
             "outlinewidth": 0,
             "ticks": ""
            },
            "type": "choropleth"
           }
          ],
          "contour": [
           {
            "colorbar": {
             "outlinewidth": 0,
             "ticks": ""
            },
            "colorscale": [
             [
              0,
              "#0d0887"
             ],
             [
              0.1111111111111111,
              "#46039f"
             ],
             [
              0.2222222222222222,
              "#7201a8"
             ],
             [
              0.3333333333333333,
              "#9c179e"
             ],
             [
              0.4444444444444444,
              "#bd3786"
             ],
             [
              0.5555555555555556,
              "#d8576b"
             ],
             [
              0.6666666666666666,
              "#ed7953"
             ],
             [
              0.7777777777777778,
              "#fb9f3a"
             ],
             [
              0.8888888888888888,
              "#fdca26"
             ],
             [
              1,
              "#f0f921"
             ]
            ],
            "type": "contour"
           }
          ],
          "contourcarpet": [
           {
            "colorbar": {
             "outlinewidth": 0,
             "ticks": ""
            },
            "type": "contourcarpet"
           }
          ],
          "heatmap": [
           {
            "colorbar": {
             "outlinewidth": 0,
             "ticks": ""
            },
            "colorscale": [
             [
              0,
              "#0d0887"
             ],
             [
              0.1111111111111111,
              "#46039f"
             ],
             [
              0.2222222222222222,
              "#7201a8"
             ],
             [
              0.3333333333333333,
              "#9c179e"
             ],
             [
              0.4444444444444444,
              "#bd3786"
             ],
             [
              0.5555555555555556,
              "#d8576b"
             ],
             [
              0.6666666666666666,
              "#ed7953"
             ],
             [
              0.7777777777777778,
              "#fb9f3a"
             ],
             [
              0.8888888888888888,
              "#fdca26"
             ],
             [
              1,
              "#f0f921"
             ]
            ],
            "type": "heatmap"
           }
          ],
          "heatmapgl": [
           {
            "colorbar": {
             "outlinewidth": 0,
             "ticks": ""
            },
            "colorscale": [
             [
              0,
              "#0d0887"
             ],
             [
              0.1111111111111111,
              "#46039f"
             ],
             [
              0.2222222222222222,
              "#7201a8"
             ],
             [
              0.3333333333333333,
              "#9c179e"
             ],
             [
              0.4444444444444444,
              "#bd3786"
             ],
             [
              0.5555555555555556,
              "#d8576b"
             ],
             [
              0.6666666666666666,
              "#ed7953"
             ],
             [
              0.7777777777777778,
              "#fb9f3a"
             ],
             [
              0.8888888888888888,
              "#fdca26"
             ],
             [
              1,
              "#f0f921"
             ]
            ],
            "type": "heatmapgl"
           }
          ],
          "histogram": [
           {
            "marker": {
             "pattern": {
              "fillmode": "overlay",
              "size": 10,
              "solidity": 0.2
             }
            },
            "type": "histogram"
           }
          ],
          "histogram2d": [
           {
            "colorbar": {
             "outlinewidth": 0,
             "ticks": ""
            },
            "colorscale": [
             [
              0,
              "#0d0887"
             ],
             [
              0.1111111111111111,
              "#46039f"
             ],
             [
              0.2222222222222222,
              "#7201a8"
             ],
             [
              0.3333333333333333,
              "#9c179e"
             ],
             [
              0.4444444444444444,
              "#bd3786"
             ],
             [
              0.5555555555555556,
              "#d8576b"
             ],
             [
              0.6666666666666666,
              "#ed7953"
             ],
             [
              0.7777777777777778,
              "#fb9f3a"
             ],
             [
              0.8888888888888888,
              "#fdca26"
             ],
             [
              1,
              "#f0f921"
             ]
            ],
            "type": "histogram2d"
           }
          ],
          "histogram2dcontour": [
           {
            "colorbar": {
             "outlinewidth": 0,
             "ticks": ""
            },
            "colorscale": [
             [
              0,
              "#0d0887"
             ],
             [
              0.1111111111111111,
              "#46039f"
             ],
             [
              0.2222222222222222,
              "#7201a8"
             ],
             [
              0.3333333333333333,
              "#9c179e"
             ],
             [
              0.4444444444444444,
              "#bd3786"
             ],
             [
              0.5555555555555556,
              "#d8576b"
             ],
             [
              0.6666666666666666,
              "#ed7953"
             ],
             [
              0.7777777777777778,
              "#fb9f3a"
             ],
             [
              0.8888888888888888,
              "#fdca26"
             ],
             [
              1,
              "#f0f921"
             ]
            ],
            "type": "histogram2dcontour"
           }
          ],
          "mesh3d": [
           {
            "colorbar": {
             "outlinewidth": 0,
             "ticks": ""
            },
            "type": "mesh3d"
           }
          ],
          "parcoords": [
           {
            "line": {
             "colorbar": {
              "outlinewidth": 0,
              "ticks": ""
             }
            },
            "type": "parcoords"
           }
          ],
          "pie": [
           {
            "automargin": true,
            "type": "pie"
           }
          ],
          "scatter": [
           {
            "fillpattern": {
             "fillmode": "overlay",
             "size": 10,
             "solidity": 0.2
            },
            "type": "scatter"
           }
          ],
          "scatter3d": [
           {
            "line": {
             "colorbar": {
              "outlinewidth": 0,
              "ticks": ""
             }
            },
            "marker": {
             "colorbar": {
              "outlinewidth": 0,
              "ticks": ""
             }
            },
            "type": "scatter3d"
           }
          ],
          "scattercarpet": [
           {
            "marker": {
             "colorbar": {
              "outlinewidth": 0,
              "ticks": ""
             }
            },
            "type": "scattercarpet"
           }
          ],
          "scattergeo": [
           {
            "marker": {
             "colorbar": {
              "outlinewidth": 0,
              "ticks": ""
             }
            },
            "type": "scattergeo"
           }
          ],
          "scattergl": [
           {
            "marker": {
             "colorbar": {
              "outlinewidth": 0,
              "ticks": ""
             }
            },
            "type": "scattergl"
           }
          ],
          "scattermapbox": [
           {
            "marker": {
             "colorbar": {
              "outlinewidth": 0,
              "ticks": ""
             }
            },
            "type": "scattermapbox"
           }
          ],
          "scatterpolar": [
           {
            "marker": {
             "colorbar": {
              "outlinewidth": 0,
              "ticks": ""
             }
            },
            "type": "scatterpolar"
           }
          ],
          "scatterpolargl": [
           {
            "marker": {
             "colorbar": {
              "outlinewidth": 0,
              "ticks": ""
             }
            },
            "type": "scatterpolargl"
           }
          ],
          "scatterternary": [
           {
            "marker": {
             "colorbar": {
              "outlinewidth": 0,
              "ticks": ""
             }
            },
            "type": "scatterternary"
           }
          ],
          "surface": [
           {
            "colorbar": {
             "outlinewidth": 0,
             "ticks": ""
            },
            "colorscale": [
             [
              0,
              "#0d0887"
             ],
             [
              0.1111111111111111,
              "#46039f"
             ],
             [
              0.2222222222222222,
              "#7201a8"
             ],
             [
              0.3333333333333333,
              "#9c179e"
             ],
             [
              0.4444444444444444,
              "#bd3786"
             ],
             [
              0.5555555555555556,
              "#d8576b"
             ],
             [
              0.6666666666666666,
              "#ed7953"
             ],
             [
              0.7777777777777778,
              "#fb9f3a"
             ],
             [
              0.8888888888888888,
              "#fdca26"
             ],
             [
              1,
              "#f0f921"
             ]
            ],
            "type": "surface"
           }
          ],
          "table": [
           {
            "cells": {
             "fill": {
              "color": "#EBF0F8"
             },
             "line": {
              "color": "white"
             }
            },
            "header": {
             "fill": {
              "color": "#C8D4E3"
             },
             "line": {
              "color": "white"
             }
            },
            "type": "table"
           }
          ]
         },
         "layout": {
          "annotationdefaults": {
           "arrowcolor": "#2a3f5f",
           "arrowhead": 0,
           "arrowwidth": 1
          },
          "autotypenumbers": "strict",
          "coloraxis": {
           "colorbar": {
            "outlinewidth": 0,
            "ticks": ""
           }
          },
          "colorscale": {
           "diverging": [
            [
             0,
             "#8e0152"
            ],
            [
             0.1,
             "#c51b7d"
            ],
            [
             0.2,
             "#de77ae"
            ],
            [
             0.3,
             "#f1b6da"
            ],
            [
             0.4,
             "#fde0ef"
            ],
            [
             0.5,
             "#f7f7f7"
            ],
            [
             0.6,
             "#e6f5d0"
            ],
            [
             0.7,
             "#b8e186"
            ],
            [
             0.8,
             "#7fbc41"
            ],
            [
             0.9,
             "#4d9221"
            ],
            [
             1,
             "#276419"
            ]
           ],
           "sequential": [
            [
             0,
             "#0d0887"
            ],
            [
             0.1111111111111111,
             "#46039f"
            ],
            [
             0.2222222222222222,
             "#7201a8"
            ],
            [
             0.3333333333333333,
             "#9c179e"
            ],
            [
             0.4444444444444444,
             "#bd3786"
            ],
            [
             0.5555555555555556,
             "#d8576b"
            ],
            [
             0.6666666666666666,
             "#ed7953"
            ],
            [
             0.7777777777777778,
             "#fb9f3a"
            ],
            [
             0.8888888888888888,
             "#fdca26"
            ],
            [
             1,
             "#f0f921"
            ]
           ],
           "sequentialminus": [
            [
             0,
             "#0d0887"
            ],
            [
             0.1111111111111111,
             "#46039f"
            ],
            [
             0.2222222222222222,
             "#7201a8"
            ],
            [
             0.3333333333333333,
             "#9c179e"
            ],
            [
             0.4444444444444444,
             "#bd3786"
            ],
            [
             0.5555555555555556,
             "#d8576b"
            ],
            [
             0.6666666666666666,
             "#ed7953"
            ],
            [
             0.7777777777777778,
             "#fb9f3a"
            ],
            [
             0.8888888888888888,
             "#fdca26"
            ],
            [
             1,
             "#f0f921"
            ]
           ]
          },
          "colorway": [
           "#636efa",
           "#EF553B",
           "#00cc96",
           "#ab63fa",
           "#FFA15A",
           "#19d3f3",
           "#FF6692",
           "#B6E880",
           "#FF97FF",
           "#FECB52"
          ],
          "font": {
           "color": "#2a3f5f"
          },
          "geo": {
           "bgcolor": "white",
           "lakecolor": "white",
           "landcolor": "#E5ECF6",
           "showlakes": true,
           "showland": true,
           "subunitcolor": "white"
          },
          "hoverlabel": {
           "align": "left"
          },
          "hovermode": "closest",
          "mapbox": {
           "style": "light"
          },
          "paper_bgcolor": "white",
          "plot_bgcolor": "#E5ECF6",
          "polar": {
           "angularaxis": {
            "gridcolor": "white",
            "linecolor": "white",
            "ticks": ""
           },
           "bgcolor": "#E5ECF6",
           "radialaxis": {
            "gridcolor": "white",
            "linecolor": "white",
            "ticks": ""
           }
          },
          "scene": {
           "xaxis": {
            "backgroundcolor": "#E5ECF6",
            "gridcolor": "white",
            "gridwidth": 2,
            "linecolor": "white",
            "showbackground": true,
            "ticks": "",
            "zerolinecolor": "white"
           },
           "yaxis": {
            "backgroundcolor": "#E5ECF6",
            "gridcolor": "white",
            "gridwidth": 2,
            "linecolor": "white",
            "showbackground": true,
            "ticks": "",
            "zerolinecolor": "white"
           },
           "zaxis": {
            "backgroundcolor": "#E5ECF6",
            "gridcolor": "white",
            "gridwidth": 2,
            "linecolor": "white",
            "showbackground": true,
            "ticks": "",
            "zerolinecolor": "white"
           }
          },
          "shapedefaults": {
           "line": {
            "color": "#2a3f5f"
           }
          },
          "ternary": {
           "aaxis": {
            "gridcolor": "white",
            "linecolor": "white",
            "ticks": ""
           },
           "baxis": {
            "gridcolor": "white",
            "linecolor": "white",
            "ticks": ""
           },
           "bgcolor": "#E5ECF6",
           "caxis": {
            "gridcolor": "white",
            "linecolor": "white",
            "ticks": ""
           }
          },
          "title": {
           "x": 0.05
          },
          "xaxis": {
           "automargin": true,
           "gridcolor": "white",
           "linecolor": "white",
           "ticks": "",
           "title": {
            "standoff": 15
           },
           "zerolinecolor": "white",
           "zerolinewidth": 2
          },
          "yaxis": {
           "automargin": true,
           "gridcolor": "white",
           "linecolor": "white",
           "ticks": "",
           "title": {
            "standoff": 15
           },
           "zerolinecolor": "white",
           "zerolinewidth": 2
          }
         }
        },
        "title": {
         "text": "업종별 수익률 현황"
        },
        "width": 450
       }
      }
     },
     "metadata": {},
     "output_type": "display_data"
    }
   ],
   "source": [
    "chart_name = '업종별 수익률 현황'\n",
    "\n",
    "treemap_fig = px.treemap(\n",
    "    group_tree_df, \n",
    "    title=chart_name,\n",
    "    path=[\n",
    "        px.Constant('KOSPI & KOSDAQ'),\n",
    "        'group_idx',\n",
    "    ],\n",
    "    # values='sqrt_marcap',\n",
    "    values='marcap',\n",
    "    color='group_weighted_ret',\n",
    "    # hover_data=[],\n",
    "    # color_discrete_sequence=,\n",
    "    color_continuous_scale='RdBu_r',\n",
    "    color_continuous_midpoint=0,\n",
    ")\n",
    "\n",
    "treemap_fig.update_layout(\n",
    "    margin=dict(t=50, l=25, b=25),\n",
    "    width=300+150,\n",
    "    height=400,\n",
    "    legend=dict(orientation='h'),\n",
    "    )\n",
    "treemap_fig.show()\n"
   ]
  },
  {
   "attachments": {},
   "cell_type": "markdown",
   "metadata": {},
   "source": [
    "### 피드백 1: 차라리 네모 크기를 주가 상승률로 하는 것은 어떤지? \n",
    "\n",
    "1월 27일 글로벌 '패닉 셀링'...亞증시·美선물 폭락\n",
    "\n",
    "https://www.wowtv.co.kr/NewsCenter/News/Read?articleId=A202201270178&t=NN\n",
    "\n",
    "시장이 크게 대 폭락 할 때는 수익률 상위 기준? 아예 그리지도 못한다. \n",
    "\n",
    "즉, 주식시장 오올-블루 일 때 네모를 시가총액 아닌 수익률 기준으로 그려버리면 +일 떄는 아예 못그린다. "
   ]
  },
  {
   "cell_type": "code",
   "execution_count": 40,
   "metadata": {},
   "outputs": [
    {
     "data": {
      "application/vnd.plotly.v1+json": {
       "config": {
        "plotlyServerURL": "https://plot.ly"
       },
       "data": [
        {
         "branchvalues": "total",
         "customdata": [
          [
           3.4416807818230177
          ],
          [
           5.014365313603306
          ],
          [
           2.7896886155684526
          ],
          [
           3.8071056422316216
          ],
          [
           3.9334984943679583
          ],
          [
           4.245507207861071
          ],
          [
           3.5885415213563663
          ],
          [
           3.261752499513295
          ],
          [
           4.0502218160840275
          ],
          [
           3.7893153151644383
          ],
          [
           3.380734400096077
          ],
          [
           3.8368562452838866
          ]
         ],
         "domain": {
          "x": [
           0,
           1
          ],
          "y": [
           0,
           1
          ]
         },
         "hovertemplate": "labels=%{label}<br>group_weighted_ret_sum=%{value}<br>parent=%{parent}<br>id=%{id}<br>group_weighted_ret=%{color}<extra></extra>",
         "ids": [
          "KOSPI & KOSDAQ/건설업(41~42)",
          "KOSPI & KOSDAQ/광업(05~08)",
          "KOSPI & KOSDAQ/금융 및 보험업(64~66)",
          "KOSPI & KOSDAQ/농업, 임업 및 어업(01~03)",
          "KOSPI & KOSDAQ/숙박 및 음식점업(55~56)",
          "KOSPI & KOSDAQ/예술, 스포츠 및 여가관련 서비스업(90~91)",
          "KOSPI & KOSDAQ/운수 및 창고업(49~52)",
          "KOSPI & KOSDAQ/전기, 가스, 증기 및 공기 조절 공급업(35)",
          "KOSPI & KOSDAQ/전문, 과학 및 기술 서비스업(70~73)",
          "KOSPI & KOSDAQ/정보통신업(58~63)",
          "KOSPI & KOSDAQ/제조업(10~34)",
          "KOSPI & KOSDAQ"
         ],
         "labels": [
          "건설업(41~42)",
          "광업(05~08)",
          "금융 및 보험업(64~66)",
          "농업, 임업 및 어업(01~03)",
          "숙박 및 음식점업(55~56)",
          "예술, 스포츠 및 여가관련 서비스업(90~91)",
          "운수 및 창고업(49~52)",
          "전기, 가스, 증기 및 공기 조절 공급업(35)",
          "전문, 과학 및 기술 서비스업(70~73)",
          "정보통신업(58~63)",
          "제조업(10~34)",
          "KOSPI & KOSDAQ"
         ],
         "marker": {
          "coloraxis": "coloraxis",
          "colors": [
           3.4416807818230177,
           5.014365313603306,
           2.7896886155684526,
           3.8071056422316216,
           3.9334984943679583,
           4.245507207861071,
           3.5885415213563663,
           3.261752499513295,
           4.0502218160840275,
           3.7893153151644383,
           3.380734400096077,
           3.8368562452838866
          ]
         },
         "name": "",
         "parents": [
          "KOSPI & KOSDAQ",
          "KOSPI & KOSDAQ",
          "KOSPI & KOSDAQ",
          "KOSPI & KOSDAQ",
          "KOSPI & KOSDAQ",
          "KOSPI & KOSDAQ",
          "KOSPI & KOSDAQ",
          "KOSPI & KOSDAQ",
          "KOSPI & KOSDAQ",
          "KOSPI & KOSDAQ",
          "KOSPI & KOSDAQ",
          ""
         ],
         "type": "treemap",
         "values": [
          3.4416807818230177,
          5.014365313603306,
          2.7896886155684526,
          3.8071056422316216,
          3.9334984943679583,
          4.245507207861071,
          3.5885415213563663,
          3.261752499513295,
          4.0502218160840275,
          3.7893153151644383,
          3.380734400096077,
          41.30241160766963
         ]
        }
       ],
       "layout": {
        "coloraxis": {
         "cmid": 0,
         "colorbar": {
          "title": {
           "text": "group_weighted_ret"
          }
         },
         "colorscale": [
          [
           0,
           "rgb(103,0,31)"
          ],
          [
           0.1,
           "rgb(178,24,43)"
          ],
          [
           0.2,
           "rgb(214,96,77)"
          ],
          [
           0.3,
           "rgb(244,165,130)"
          ],
          [
           0.4,
           "rgb(253,219,199)"
          ],
          [
           0.5,
           "rgb(247,247,247)"
          ],
          [
           0.6,
           "rgb(209,229,240)"
          ],
          [
           0.7,
           "rgb(146,197,222)"
          ],
          [
           0.8,
           "rgb(67,147,195)"
          ],
          [
           0.9,
           "rgb(33,102,172)"
          ],
          [
           1,
           "rgb(5,48,97)"
          ]
         ]
        },
        "height": 400,
        "legend": {
         "orientation": "h",
         "tracegroupgap": 0
        },
        "margin": {
         "b": 25,
         "l": 25,
         "t": 50
        },
        "template": {
         "data": {
          "bar": [
           {
            "error_x": {
             "color": "#2a3f5f"
            },
            "error_y": {
             "color": "#2a3f5f"
            },
            "marker": {
             "line": {
              "color": "#E5ECF6",
              "width": 0.5
             },
             "pattern": {
              "fillmode": "overlay",
              "size": 10,
              "solidity": 0.2
             }
            },
            "type": "bar"
           }
          ],
          "barpolar": [
           {
            "marker": {
             "line": {
              "color": "#E5ECF6",
              "width": 0.5
             },
             "pattern": {
              "fillmode": "overlay",
              "size": 10,
              "solidity": 0.2
             }
            },
            "type": "barpolar"
           }
          ],
          "carpet": [
           {
            "aaxis": {
             "endlinecolor": "#2a3f5f",
             "gridcolor": "white",
             "linecolor": "white",
             "minorgridcolor": "white",
             "startlinecolor": "#2a3f5f"
            },
            "baxis": {
             "endlinecolor": "#2a3f5f",
             "gridcolor": "white",
             "linecolor": "white",
             "minorgridcolor": "white",
             "startlinecolor": "#2a3f5f"
            },
            "type": "carpet"
           }
          ],
          "choropleth": [
           {
            "colorbar": {
             "outlinewidth": 0,
             "ticks": ""
            },
            "type": "choropleth"
           }
          ],
          "contour": [
           {
            "colorbar": {
             "outlinewidth": 0,
             "ticks": ""
            },
            "colorscale": [
             [
              0,
              "#0d0887"
             ],
             [
              0.1111111111111111,
              "#46039f"
             ],
             [
              0.2222222222222222,
              "#7201a8"
             ],
             [
              0.3333333333333333,
              "#9c179e"
             ],
             [
              0.4444444444444444,
              "#bd3786"
             ],
             [
              0.5555555555555556,
              "#d8576b"
             ],
             [
              0.6666666666666666,
              "#ed7953"
             ],
             [
              0.7777777777777778,
              "#fb9f3a"
             ],
             [
              0.8888888888888888,
              "#fdca26"
             ],
             [
              1,
              "#f0f921"
             ]
            ],
            "type": "contour"
           }
          ],
          "contourcarpet": [
           {
            "colorbar": {
             "outlinewidth": 0,
             "ticks": ""
            },
            "type": "contourcarpet"
           }
          ],
          "heatmap": [
           {
            "colorbar": {
             "outlinewidth": 0,
             "ticks": ""
            },
            "colorscale": [
             [
              0,
              "#0d0887"
             ],
             [
              0.1111111111111111,
              "#46039f"
             ],
             [
              0.2222222222222222,
              "#7201a8"
             ],
             [
              0.3333333333333333,
              "#9c179e"
             ],
             [
              0.4444444444444444,
              "#bd3786"
             ],
             [
              0.5555555555555556,
              "#d8576b"
             ],
             [
              0.6666666666666666,
              "#ed7953"
             ],
             [
              0.7777777777777778,
              "#fb9f3a"
             ],
             [
              0.8888888888888888,
              "#fdca26"
             ],
             [
              1,
              "#f0f921"
             ]
            ],
            "type": "heatmap"
           }
          ],
          "heatmapgl": [
           {
            "colorbar": {
             "outlinewidth": 0,
             "ticks": ""
            },
            "colorscale": [
             [
              0,
              "#0d0887"
             ],
             [
              0.1111111111111111,
              "#46039f"
             ],
             [
              0.2222222222222222,
              "#7201a8"
             ],
             [
              0.3333333333333333,
              "#9c179e"
             ],
             [
              0.4444444444444444,
              "#bd3786"
             ],
             [
              0.5555555555555556,
              "#d8576b"
             ],
             [
              0.6666666666666666,
              "#ed7953"
             ],
             [
              0.7777777777777778,
              "#fb9f3a"
             ],
             [
              0.8888888888888888,
              "#fdca26"
             ],
             [
              1,
              "#f0f921"
             ]
            ],
            "type": "heatmapgl"
           }
          ],
          "histogram": [
           {
            "marker": {
             "pattern": {
              "fillmode": "overlay",
              "size": 10,
              "solidity": 0.2
             }
            },
            "type": "histogram"
           }
          ],
          "histogram2d": [
           {
            "colorbar": {
             "outlinewidth": 0,
             "ticks": ""
            },
            "colorscale": [
             [
              0,
              "#0d0887"
             ],
             [
              0.1111111111111111,
              "#46039f"
             ],
             [
              0.2222222222222222,
              "#7201a8"
             ],
             [
              0.3333333333333333,
              "#9c179e"
             ],
             [
              0.4444444444444444,
              "#bd3786"
             ],
             [
              0.5555555555555556,
              "#d8576b"
             ],
             [
              0.6666666666666666,
              "#ed7953"
             ],
             [
              0.7777777777777778,
              "#fb9f3a"
             ],
             [
              0.8888888888888888,
              "#fdca26"
             ],
             [
              1,
              "#f0f921"
             ]
            ],
            "type": "histogram2d"
           }
          ],
          "histogram2dcontour": [
           {
            "colorbar": {
             "outlinewidth": 0,
             "ticks": ""
            },
            "colorscale": [
             [
              0,
              "#0d0887"
             ],
             [
              0.1111111111111111,
              "#46039f"
             ],
             [
              0.2222222222222222,
              "#7201a8"
             ],
             [
              0.3333333333333333,
              "#9c179e"
             ],
             [
              0.4444444444444444,
              "#bd3786"
             ],
             [
              0.5555555555555556,
              "#d8576b"
             ],
             [
              0.6666666666666666,
              "#ed7953"
             ],
             [
              0.7777777777777778,
              "#fb9f3a"
             ],
             [
              0.8888888888888888,
              "#fdca26"
             ],
             [
              1,
              "#f0f921"
             ]
            ],
            "type": "histogram2dcontour"
           }
          ],
          "mesh3d": [
           {
            "colorbar": {
             "outlinewidth": 0,
             "ticks": ""
            },
            "type": "mesh3d"
           }
          ],
          "parcoords": [
           {
            "line": {
             "colorbar": {
              "outlinewidth": 0,
              "ticks": ""
             }
            },
            "type": "parcoords"
           }
          ],
          "pie": [
           {
            "automargin": true,
            "type": "pie"
           }
          ],
          "scatter": [
           {
            "fillpattern": {
             "fillmode": "overlay",
             "size": 10,
             "solidity": 0.2
            },
            "type": "scatter"
           }
          ],
          "scatter3d": [
           {
            "line": {
             "colorbar": {
              "outlinewidth": 0,
              "ticks": ""
             }
            },
            "marker": {
             "colorbar": {
              "outlinewidth": 0,
              "ticks": ""
             }
            },
            "type": "scatter3d"
           }
          ],
          "scattercarpet": [
           {
            "marker": {
             "colorbar": {
              "outlinewidth": 0,
              "ticks": ""
             }
            },
            "type": "scattercarpet"
           }
          ],
          "scattergeo": [
           {
            "marker": {
             "colorbar": {
              "outlinewidth": 0,
              "ticks": ""
             }
            },
            "type": "scattergeo"
           }
          ],
          "scattergl": [
           {
            "marker": {
             "colorbar": {
              "outlinewidth": 0,
              "ticks": ""
             }
            },
            "type": "scattergl"
           }
          ],
          "scattermapbox": [
           {
            "marker": {
             "colorbar": {
              "outlinewidth": 0,
              "ticks": ""
             }
            },
            "type": "scattermapbox"
           }
          ],
          "scatterpolar": [
           {
            "marker": {
             "colorbar": {
              "outlinewidth": 0,
              "ticks": ""
             }
            },
            "type": "scatterpolar"
           }
          ],
          "scatterpolargl": [
           {
            "marker": {
             "colorbar": {
              "outlinewidth": 0,
              "ticks": ""
             }
            },
            "type": "scatterpolargl"
           }
          ],
          "scatterternary": [
           {
            "marker": {
             "colorbar": {
              "outlinewidth": 0,
              "ticks": ""
             }
            },
            "type": "scatterternary"
           }
          ],
          "surface": [
           {
            "colorbar": {
             "outlinewidth": 0,
             "ticks": ""
            },
            "colorscale": [
             [
              0,
              "#0d0887"
             ],
             [
              0.1111111111111111,
              "#46039f"
             ],
             [
              0.2222222222222222,
              "#7201a8"
             ],
             [
              0.3333333333333333,
              "#9c179e"
             ],
             [
              0.4444444444444444,
              "#bd3786"
             ],
             [
              0.5555555555555556,
              "#d8576b"
             ],
             [
              0.6666666666666666,
              "#ed7953"
             ],
             [
              0.7777777777777778,
              "#fb9f3a"
             ],
             [
              0.8888888888888888,
              "#fdca26"
             ],
             [
              1,
              "#f0f921"
             ]
            ],
            "type": "surface"
           }
          ],
          "table": [
           {
            "cells": {
             "fill": {
              "color": "#EBF0F8"
             },
             "line": {
              "color": "white"
             }
            },
            "header": {
             "fill": {
              "color": "#C8D4E3"
             },
             "line": {
              "color": "white"
             }
            },
            "type": "table"
           }
          ]
         },
         "layout": {
          "annotationdefaults": {
           "arrowcolor": "#2a3f5f",
           "arrowhead": 0,
           "arrowwidth": 1
          },
          "autotypenumbers": "strict",
          "coloraxis": {
           "colorbar": {
            "outlinewidth": 0,
            "ticks": ""
           }
          },
          "colorscale": {
           "diverging": [
            [
             0,
             "#8e0152"
            ],
            [
             0.1,
             "#c51b7d"
            ],
            [
             0.2,
             "#de77ae"
            ],
            [
             0.3,
             "#f1b6da"
            ],
            [
             0.4,
             "#fde0ef"
            ],
            [
             0.5,
             "#f7f7f7"
            ],
            [
             0.6,
             "#e6f5d0"
            ],
            [
             0.7,
             "#b8e186"
            ],
            [
             0.8,
             "#7fbc41"
            ],
            [
             0.9,
             "#4d9221"
            ],
            [
             1,
             "#276419"
            ]
           ],
           "sequential": [
            [
             0,
             "#0d0887"
            ],
            [
             0.1111111111111111,
             "#46039f"
            ],
            [
             0.2222222222222222,
             "#7201a8"
            ],
            [
             0.3333333333333333,
             "#9c179e"
            ],
            [
             0.4444444444444444,
             "#bd3786"
            ],
            [
             0.5555555555555556,
             "#d8576b"
            ],
            [
             0.6666666666666666,
             "#ed7953"
            ],
            [
             0.7777777777777778,
             "#fb9f3a"
            ],
            [
             0.8888888888888888,
             "#fdca26"
            ],
            [
             1,
             "#f0f921"
            ]
           ],
           "sequentialminus": [
            [
             0,
             "#0d0887"
            ],
            [
             0.1111111111111111,
             "#46039f"
            ],
            [
             0.2222222222222222,
             "#7201a8"
            ],
            [
             0.3333333333333333,
             "#9c179e"
            ],
            [
             0.4444444444444444,
             "#bd3786"
            ],
            [
             0.5555555555555556,
             "#d8576b"
            ],
            [
             0.6666666666666666,
             "#ed7953"
            ],
            [
             0.7777777777777778,
             "#fb9f3a"
            ],
            [
             0.8888888888888888,
             "#fdca26"
            ],
            [
             1,
             "#f0f921"
            ]
           ]
          },
          "colorway": [
           "#636efa",
           "#EF553B",
           "#00cc96",
           "#ab63fa",
           "#FFA15A",
           "#19d3f3",
           "#FF6692",
           "#B6E880",
           "#FF97FF",
           "#FECB52"
          ],
          "font": {
           "color": "#2a3f5f"
          },
          "geo": {
           "bgcolor": "white",
           "lakecolor": "white",
           "landcolor": "#E5ECF6",
           "showlakes": true,
           "showland": true,
           "subunitcolor": "white"
          },
          "hoverlabel": {
           "align": "left"
          },
          "hovermode": "closest",
          "mapbox": {
           "style": "light"
          },
          "paper_bgcolor": "white",
          "plot_bgcolor": "#E5ECF6",
          "polar": {
           "angularaxis": {
            "gridcolor": "white",
            "linecolor": "white",
            "ticks": ""
           },
           "bgcolor": "#E5ECF6",
           "radialaxis": {
            "gridcolor": "white",
            "linecolor": "white",
            "ticks": ""
           }
          },
          "scene": {
           "xaxis": {
            "backgroundcolor": "#E5ECF6",
            "gridcolor": "white",
            "gridwidth": 2,
            "linecolor": "white",
            "showbackground": true,
            "ticks": "",
            "zerolinecolor": "white"
           },
           "yaxis": {
            "backgroundcolor": "#E5ECF6",
            "gridcolor": "white",
            "gridwidth": 2,
            "linecolor": "white",
            "showbackground": true,
            "ticks": "",
            "zerolinecolor": "white"
           },
           "zaxis": {
            "backgroundcolor": "#E5ECF6",
            "gridcolor": "white",
            "gridwidth": 2,
            "linecolor": "white",
            "showbackground": true,
            "ticks": "",
            "zerolinecolor": "white"
           }
          },
          "shapedefaults": {
           "line": {
            "color": "#2a3f5f"
           }
          },
          "ternary": {
           "aaxis": {
            "gridcolor": "white",
            "linecolor": "white",
            "ticks": ""
           },
           "baxis": {
            "gridcolor": "white",
            "linecolor": "white",
            "ticks": ""
           },
           "bgcolor": "#E5ECF6",
           "caxis": {
            "gridcolor": "white",
            "linecolor": "white",
            "ticks": ""
           }
          },
          "title": {
           "x": 0.05
          },
          "xaxis": {
           "automargin": true,
           "gridcolor": "white",
           "linecolor": "white",
           "ticks": "",
           "title": {
            "standoff": 15
           },
           "zerolinecolor": "white",
           "zerolinewidth": 2
          },
          "yaxis": {
           "automargin": true,
           "gridcolor": "white",
           "linecolor": "white",
           "ticks": "",
           "title": {
            "standoff": 15
           },
           "zerolinecolor": "white",
           "zerolinewidth": 2
          }
         }
        },
        "title": {
         "text": "업종별 수익률 현황"
        },
        "width": 450
       }
      }
     },
     "metadata": {},
     "output_type": "display_data"
    }
   ],
   "source": [
    "chart_name = '업종별 수익률 현황'\n",
    "\n",
    "group_tree_df_abs = group_tree_df.copy()\n",
    "group_tree_df_abs['group_weighted_ret'] = group_tree_df_abs['group_weighted_ret'].abs()\n",
    "\n",
    "treemap_fig = px.treemap(\n",
    "    group_tree_df_abs, \n",
    "    title=chart_name,\n",
    "    path=[\n",
    "        px.Constant('KOSPI & KOSDAQ'),\n",
    "        'group_idx',\n",
    "    ],\n",
    "    # values='power_marcap',\n",
    "    values='group_weighted_ret',\n",
    "    color='group_weighted_ret',\n",
    "    # hover_data=[],\n",
    "    # color_discrete_sequence=,\n",
    "    color_continuous_scale='RdBu',\n",
    "    color_continuous_midpoint=0,\n",
    ")\n",
    "\n",
    "treemap_fig.update_layout(\n",
    "    margin=dict(t=50, l=25, b=25),\n",
    "    width=300+150,\n",
    "    height=400,\n",
    "    legend=dict(orientation='h'),\n",
    "    )\n",
    "treemap_fig.show()\n"
   ]
  },
  {
   "attachments": {},
   "cell_type": "markdown",
   "metadata": {},
   "source": [
    "### 피드백 2: 차라리 네모 크기를 보유 종목 비중으로 하는 것은 어떤지? \n",
    "\n",
    "이 경우 애초에 업종이라는 2D 위치 정보가 필요하기 때문에 트리맵 자체가 어울리지 않는다. \n",
    "\n",
    "보유 비중이라면 단순히 막대/원 그래프로 표현하는 것이 더 깔끔하고 간결. \n",
    "\n",
    "만약 트리맵으로 한다면 유저 개개인의 보유 종목 수/비율에 따라 UI가 가변적으로 변할 수밖에 없다. "
   ]
  },
  {
   "cell_type": "code",
   "execution_count": 41,
   "metadata": {},
   "outputs": [
    {
     "data": {
      "text/plain": [
       "11"
      ]
     },
     "execution_count": 41,
     "metadata": {},
     "output_type": "execute_result"
    }
   ],
   "source": [
    "len(group_tree_df['group_idx'].unique())"
   ]
  },
  {
   "cell_type": "code",
   "execution_count": 42,
   "metadata": {},
   "outputs": [
    {
     "data": {
      "text/plain": [
       "array([0.3626943 , 0.41450777, 0.05181347, 0.01554404, 0.01036269,\n",
       "       0.03108808, 0.00259067, 0.00518135, 0.02590674, 0.01554404,\n",
       "       0.01036269, 0.00518135, 0.02072539, 0.01813472, 0.01036269])"
      ]
     },
     "execution_count": 42,
     "metadata": {},
     "output_type": "execute_result"
    }
   ],
   "source": [
    "edgecase_stocknames = [\n",
    "    '삼성전자',\n",
    "    '우리은행',\n",
    "    'LG CNS',\n",
    "    '한화에어로스페이스',\n",
    "    '현대로템',\n",
    "    '셀트리온',\n",
    "    '포스코 ICT',\n",
    "    '롯데렌탈',\n",
    "    '원티드랩',\n",
    "    '두산',\n",
    "    '대한방직',\n",
    "    '하이트진로2우B',\n",
    "    '오리온홀딩스',\n",
    "    '원풍물산',\n",
    "    'LX세미콘',\n",
    "]\n",
    "\n",
    "edgecase_stockreturns = [\n",
    "    -0.02,\n",
    "    0.05,\n",
    "    -0.07,\n",
    "    0.15,\n",
    "    0.1,\n",
    "    -0.13,\n",
    "    -0.01,\n",
    "    0.01,\n",
    "    0.00,\n",
    "    0.11,\n",
    "    0.03,\n",
    "    -0.05,\n",
    "    0.11,\n",
    "    0.03,\n",
    "    -0.05,\n",
    "]\n",
    "\n",
    "edgecase_stockweights = np.array([\n",
    "    700,\n",
    "    800,\n",
    "    100,\n",
    "    30,\n",
    "    20,\n",
    "    60,\n",
    "    5,\n",
    "    10,\n",
    "    50,\n",
    "    30,\n",
    "    20,\n",
    "    10,\n",
    "    40,\n",
    "    35,\n",
    "    20,\n",
    "])\n",
    "\n",
    "edgecase_stockweights = edgecase_stockweights / sum(edgecase_stockweights)\n",
    "edgecase_stockweights"
   ]
  },
  {
   "cell_type": "code",
   "execution_count": 43,
   "metadata": {},
   "outputs": [],
   "source": [
    "edgecase_df = pd.DataFrame(\n",
    "    {\n",
    "        'stocknames': edgecase_stocknames,\n",
    "        'stockreturns': edgecase_stockreturns,\n",
    "        'stockweights': edgecase_stockweights,\n",
    "    }\n",
    ")"
   ]
  },
  {
   "cell_type": "code",
   "execution_count": 44,
   "metadata": {},
   "outputs": [
    {
     "data": {
      "application/vnd.plotly.v1+json": {
       "config": {
        "plotlyServerURL": "https://plot.ly"
       },
       "data": [
        {
         "branchvalues": "total",
         "customdata": [
          [
           -0.07
          ],
          [
           -0.05000000000000001
          ],
          [
           0.029999999999999995
          ],
          [
           0.11
          ],
          [
           0.01
          ],
          [
           -0.02
          ],
          [
           -0.13
          ],
          [
           0.11
          ],
          [
           0.05
          ],
          [
           0
          ],
          [
           0.03
          ],
          [
           -0.01
          ],
          [
           -0.05000000000000001
          ],
          [
           0.15
          ],
          [
           0.10000000000000002
          ],
          [
           0.013264248704663213
          ]
         ],
         "domain": {
          "x": [
           0,
           1
          ],
          "y": [
           0,
           1
          ]
         },
         "hovertemplate": "labels=%{label}<br>stockweights=%{value}<br>parent=%{parent}<br>id=%{id}<br>stockreturns=%{color}<extra></extra>",
         "ids": [
          "KOSPI & KOSDAQ/LG CNS",
          "KOSPI & KOSDAQ/LX세미콘",
          "KOSPI & KOSDAQ/대한방직",
          "KOSPI & KOSDAQ/두산",
          "KOSPI & KOSDAQ/롯데렌탈",
          "KOSPI & KOSDAQ/삼성전자",
          "KOSPI & KOSDAQ/셀트리온",
          "KOSPI & KOSDAQ/오리온홀딩스",
          "KOSPI & KOSDAQ/우리은행",
          "KOSPI & KOSDAQ/원티드랩",
          "KOSPI & KOSDAQ/원풍물산",
          "KOSPI & KOSDAQ/포스코 ICT",
          "KOSPI & KOSDAQ/하이트진로2우B",
          "KOSPI & KOSDAQ/한화에어로스페이스",
          "KOSPI & KOSDAQ/현대로템",
          "KOSPI & KOSDAQ"
         ],
         "labels": [
          "LG CNS",
          "LX세미콘",
          "대한방직",
          "두산",
          "롯데렌탈",
          "삼성전자",
          "셀트리온",
          "오리온홀딩스",
          "우리은행",
          "원티드랩",
          "원풍물산",
          "포스코 ICT",
          "하이트진로2우B",
          "한화에어로스페이스",
          "현대로템",
          "KOSPI & KOSDAQ"
         ],
         "marker": {
          "coloraxis": "coloraxis",
          "colors": [
           -0.07,
           -0.05000000000000001,
           0.029999999999999995,
           0.11,
           0.01,
           -0.02,
           -0.13,
           0.11,
           0.05,
           0,
           0.03,
           -0.01,
           -0.05000000000000001,
           0.15,
           0.10000000000000002,
           0.013264248704663213
          ]
         },
         "name": "",
         "parents": [
          "KOSPI & KOSDAQ",
          "KOSPI & KOSDAQ",
          "KOSPI & KOSDAQ",
          "KOSPI & KOSDAQ",
          "KOSPI & KOSDAQ",
          "KOSPI & KOSDAQ",
          "KOSPI & KOSDAQ",
          "KOSPI & KOSDAQ",
          "KOSPI & KOSDAQ",
          "KOSPI & KOSDAQ",
          "KOSPI & KOSDAQ",
          "KOSPI & KOSDAQ",
          "KOSPI & KOSDAQ",
          "KOSPI & KOSDAQ",
          "KOSPI & KOSDAQ",
          ""
         ],
         "type": "treemap",
         "values": [
          0.05181347150259067,
          0.010362694300518135,
          0.010362694300518135,
          0.015544041450777202,
          0.0051813471502590676,
          0.3626943005181347,
          0.031088082901554404,
          0.02072538860103627,
          0.41450777202072536,
          0.025906735751295335,
          0.018134715025906734,
          0.0025906735751295338,
          0.0051813471502590676,
          0.015544041450777202,
          0.010362694300518135,
          1
         ]
        }
       ],
       "layout": {
        "coloraxis": {
         "cmid": 0,
         "colorbar": {
          "title": {
           "text": "stockreturns"
          }
         },
         "colorscale": [
          [
           0,
           "rgb(5,48,97)"
          ],
          [
           0.1,
           "rgb(33,102,172)"
          ],
          [
           0.2,
           "rgb(67,147,195)"
          ],
          [
           0.3,
           "rgb(146,197,222)"
          ],
          [
           0.4,
           "rgb(209,229,240)"
          ],
          [
           0.5,
           "rgb(247,247,247)"
          ],
          [
           0.6,
           "rgb(253,219,199)"
          ],
          [
           0.7,
           "rgb(244,165,130)"
          ],
          [
           0.8,
           "rgb(214,96,77)"
          ],
          [
           0.9,
           "rgb(178,24,43)"
          ],
          [
           1,
           "rgb(103,0,31)"
          ]
         ]
        },
        "height": 400,
        "legend": {
         "orientation": "h",
         "tracegroupgap": 0
        },
        "margin": {
         "b": 25,
         "l": 25,
         "t": 50
        },
        "template": {
         "data": {
          "bar": [
           {
            "error_x": {
             "color": "#2a3f5f"
            },
            "error_y": {
             "color": "#2a3f5f"
            },
            "marker": {
             "line": {
              "color": "#E5ECF6",
              "width": 0.5
             },
             "pattern": {
              "fillmode": "overlay",
              "size": 10,
              "solidity": 0.2
             }
            },
            "type": "bar"
           }
          ],
          "barpolar": [
           {
            "marker": {
             "line": {
              "color": "#E5ECF6",
              "width": 0.5
             },
             "pattern": {
              "fillmode": "overlay",
              "size": 10,
              "solidity": 0.2
             }
            },
            "type": "barpolar"
           }
          ],
          "carpet": [
           {
            "aaxis": {
             "endlinecolor": "#2a3f5f",
             "gridcolor": "white",
             "linecolor": "white",
             "minorgridcolor": "white",
             "startlinecolor": "#2a3f5f"
            },
            "baxis": {
             "endlinecolor": "#2a3f5f",
             "gridcolor": "white",
             "linecolor": "white",
             "minorgridcolor": "white",
             "startlinecolor": "#2a3f5f"
            },
            "type": "carpet"
           }
          ],
          "choropleth": [
           {
            "colorbar": {
             "outlinewidth": 0,
             "ticks": ""
            },
            "type": "choropleth"
           }
          ],
          "contour": [
           {
            "colorbar": {
             "outlinewidth": 0,
             "ticks": ""
            },
            "colorscale": [
             [
              0,
              "#0d0887"
             ],
             [
              0.1111111111111111,
              "#46039f"
             ],
             [
              0.2222222222222222,
              "#7201a8"
             ],
             [
              0.3333333333333333,
              "#9c179e"
             ],
             [
              0.4444444444444444,
              "#bd3786"
             ],
             [
              0.5555555555555556,
              "#d8576b"
             ],
             [
              0.6666666666666666,
              "#ed7953"
             ],
             [
              0.7777777777777778,
              "#fb9f3a"
             ],
             [
              0.8888888888888888,
              "#fdca26"
             ],
             [
              1,
              "#f0f921"
             ]
            ],
            "type": "contour"
           }
          ],
          "contourcarpet": [
           {
            "colorbar": {
             "outlinewidth": 0,
             "ticks": ""
            },
            "type": "contourcarpet"
           }
          ],
          "heatmap": [
           {
            "colorbar": {
             "outlinewidth": 0,
             "ticks": ""
            },
            "colorscale": [
             [
              0,
              "#0d0887"
             ],
             [
              0.1111111111111111,
              "#46039f"
             ],
             [
              0.2222222222222222,
              "#7201a8"
             ],
             [
              0.3333333333333333,
              "#9c179e"
             ],
             [
              0.4444444444444444,
              "#bd3786"
             ],
             [
              0.5555555555555556,
              "#d8576b"
             ],
             [
              0.6666666666666666,
              "#ed7953"
             ],
             [
              0.7777777777777778,
              "#fb9f3a"
             ],
             [
              0.8888888888888888,
              "#fdca26"
             ],
             [
              1,
              "#f0f921"
             ]
            ],
            "type": "heatmap"
           }
          ],
          "heatmapgl": [
           {
            "colorbar": {
             "outlinewidth": 0,
             "ticks": ""
            },
            "colorscale": [
             [
              0,
              "#0d0887"
             ],
             [
              0.1111111111111111,
              "#46039f"
             ],
             [
              0.2222222222222222,
              "#7201a8"
             ],
             [
              0.3333333333333333,
              "#9c179e"
             ],
             [
              0.4444444444444444,
              "#bd3786"
             ],
             [
              0.5555555555555556,
              "#d8576b"
             ],
             [
              0.6666666666666666,
              "#ed7953"
             ],
             [
              0.7777777777777778,
              "#fb9f3a"
             ],
             [
              0.8888888888888888,
              "#fdca26"
             ],
             [
              1,
              "#f0f921"
             ]
            ],
            "type": "heatmapgl"
           }
          ],
          "histogram": [
           {
            "marker": {
             "pattern": {
              "fillmode": "overlay",
              "size": 10,
              "solidity": 0.2
             }
            },
            "type": "histogram"
           }
          ],
          "histogram2d": [
           {
            "colorbar": {
             "outlinewidth": 0,
             "ticks": ""
            },
            "colorscale": [
             [
              0,
              "#0d0887"
             ],
             [
              0.1111111111111111,
              "#46039f"
             ],
             [
              0.2222222222222222,
              "#7201a8"
             ],
             [
              0.3333333333333333,
              "#9c179e"
             ],
             [
              0.4444444444444444,
              "#bd3786"
             ],
             [
              0.5555555555555556,
              "#d8576b"
             ],
             [
              0.6666666666666666,
              "#ed7953"
             ],
             [
              0.7777777777777778,
              "#fb9f3a"
             ],
             [
              0.8888888888888888,
              "#fdca26"
             ],
             [
              1,
              "#f0f921"
             ]
            ],
            "type": "histogram2d"
           }
          ],
          "histogram2dcontour": [
           {
            "colorbar": {
             "outlinewidth": 0,
             "ticks": ""
            },
            "colorscale": [
             [
              0,
              "#0d0887"
             ],
             [
              0.1111111111111111,
              "#46039f"
             ],
             [
              0.2222222222222222,
              "#7201a8"
             ],
             [
              0.3333333333333333,
              "#9c179e"
             ],
             [
              0.4444444444444444,
              "#bd3786"
             ],
             [
              0.5555555555555556,
              "#d8576b"
             ],
             [
              0.6666666666666666,
              "#ed7953"
             ],
             [
              0.7777777777777778,
              "#fb9f3a"
             ],
             [
              0.8888888888888888,
              "#fdca26"
             ],
             [
              1,
              "#f0f921"
             ]
            ],
            "type": "histogram2dcontour"
           }
          ],
          "mesh3d": [
           {
            "colorbar": {
             "outlinewidth": 0,
             "ticks": ""
            },
            "type": "mesh3d"
           }
          ],
          "parcoords": [
           {
            "line": {
             "colorbar": {
              "outlinewidth": 0,
              "ticks": ""
             }
            },
            "type": "parcoords"
           }
          ],
          "pie": [
           {
            "automargin": true,
            "type": "pie"
           }
          ],
          "scatter": [
           {
            "fillpattern": {
             "fillmode": "overlay",
             "size": 10,
             "solidity": 0.2
            },
            "type": "scatter"
           }
          ],
          "scatter3d": [
           {
            "line": {
             "colorbar": {
              "outlinewidth": 0,
              "ticks": ""
             }
            },
            "marker": {
             "colorbar": {
              "outlinewidth": 0,
              "ticks": ""
             }
            },
            "type": "scatter3d"
           }
          ],
          "scattercarpet": [
           {
            "marker": {
             "colorbar": {
              "outlinewidth": 0,
              "ticks": ""
             }
            },
            "type": "scattercarpet"
           }
          ],
          "scattergeo": [
           {
            "marker": {
             "colorbar": {
              "outlinewidth": 0,
              "ticks": ""
             }
            },
            "type": "scattergeo"
           }
          ],
          "scattergl": [
           {
            "marker": {
             "colorbar": {
              "outlinewidth": 0,
              "ticks": ""
             }
            },
            "type": "scattergl"
           }
          ],
          "scattermapbox": [
           {
            "marker": {
             "colorbar": {
              "outlinewidth": 0,
              "ticks": ""
             }
            },
            "type": "scattermapbox"
           }
          ],
          "scatterpolar": [
           {
            "marker": {
             "colorbar": {
              "outlinewidth": 0,
              "ticks": ""
             }
            },
            "type": "scatterpolar"
           }
          ],
          "scatterpolargl": [
           {
            "marker": {
             "colorbar": {
              "outlinewidth": 0,
              "ticks": ""
             }
            },
            "type": "scatterpolargl"
           }
          ],
          "scatterternary": [
           {
            "marker": {
             "colorbar": {
              "outlinewidth": 0,
              "ticks": ""
             }
            },
            "type": "scatterternary"
           }
          ],
          "surface": [
           {
            "colorbar": {
             "outlinewidth": 0,
             "ticks": ""
            },
            "colorscale": [
             [
              0,
              "#0d0887"
             ],
             [
              0.1111111111111111,
              "#46039f"
             ],
             [
              0.2222222222222222,
              "#7201a8"
             ],
             [
              0.3333333333333333,
              "#9c179e"
             ],
             [
              0.4444444444444444,
              "#bd3786"
             ],
             [
              0.5555555555555556,
              "#d8576b"
             ],
             [
              0.6666666666666666,
              "#ed7953"
             ],
             [
              0.7777777777777778,
              "#fb9f3a"
             ],
             [
              0.8888888888888888,
              "#fdca26"
             ],
             [
              1,
              "#f0f921"
             ]
            ],
            "type": "surface"
           }
          ],
          "table": [
           {
            "cells": {
             "fill": {
              "color": "#EBF0F8"
             },
             "line": {
              "color": "white"
             }
            },
            "header": {
             "fill": {
              "color": "#C8D4E3"
             },
             "line": {
              "color": "white"
             }
            },
            "type": "table"
           }
          ]
         },
         "layout": {
          "annotationdefaults": {
           "arrowcolor": "#2a3f5f",
           "arrowhead": 0,
           "arrowwidth": 1
          },
          "autotypenumbers": "strict",
          "coloraxis": {
           "colorbar": {
            "outlinewidth": 0,
            "ticks": ""
           }
          },
          "colorscale": {
           "diverging": [
            [
             0,
             "#8e0152"
            ],
            [
             0.1,
             "#c51b7d"
            ],
            [
             0.2,
             "#de77ae"
            ],
            [
             0.3,
             "#f1b6da"
            ],
            [
             0.4,
             "#fde0ef"
            ],
            [
             0.5,
             "#f7f7f7"
            ],
            [
             0.6,
             "#e6f5d0"
            ],
            [
             0.7,
             "#b8e186"
            ],
            [
             0.8,
             "#7fbc41"
            ],
            [
             0.9,
             "#4d9221"
            ],
            [
             1,
             "#276419"
            ]
           ],
           "sequential": [
            [
             0,
             "#0d0887"
            ],
            [
             0.1111111111111111,
             "#46039f"
            ],
            [
             0.2222222222222222,
             "#7201a8"
            ],
            [
             0.3333333333333333,
             "#9c179e"
            ],
            [
             0.4444444444444444,
             "#bd3786"
            ],
            [
             0.5555555555555556,
             "#d8576b"
            ],
            [
             0.6666666666666666,
             "#ed7953"
            ],
            [
             0.7777777777777778,
             "#fb9f3a"
            ],
            [
             0.8888888888888888,
             "#fdca26"
            ],
            [
             1,
             "#f0f921"
            ]
           ],
           "sequentialminus": [
            [
             0,
             "#0d0887"
            ],
            [
             0.1111111111111111,
             "#46039f"
            ],
            [
             0.2222222222222222,
             "#7201a8"
            ],
            [
             0.3333333333333333,
             "#9c179e"
            ],
            [
             0.4444444444444444,
             "#bd3786"
            ],
            [
             0.5555555555555556,
             "#d8576b"
            ],
            [
             0.6666666666666666,
             "#ed7953"
            ],
            [
             0.7777777777777778,
             "#fb9f3a"
            ],
            [
             0.8888888888888888,
             "#fdca26"
            ],
            [
             1,
             "#f0f921"
            ]
           ]
          },
          "colorway": [
           "#636efa",
           "#EF553B",
           "#00cc96",
           "#ab63fa",
           "#FFA15A",
           "#19d3f3",
           "#FF6692",
           "#B6E880",
           "#FF97FF",
           "#FECB52"
          ],
          "font": {
           "color": "#2a3f5f"
          },
          "geo": {
           "bgcolor": "white",
           "lakecolor": "white",
           "landcolor": "#E5ECF6",
           "showlakes": true,
           "showland": true,
           "subunitcolor": "white"
          },
          "hoverlabel": {
           "align": "left"
          },
          "hovermode": "closest",
          "mapbox": {
           "style": "light"
          },
          "paper_bgcolor": "white",
          "plot_bgcolor": "#E5ECF6",
          "polar": {
           "angularaxis": {
            "gridcolor": "white",
            "linecolor": "white",
            "ticks": ""
           },
           "bgcolor": "#E5ECF6",
           "radialaxis": {
            "gridcolor": "white",
            "linecolor": "white",
            "ticks": ""
           }
          },
          "scene": {
           "xaxis": {
            "backgroundcolor": "#E5ECF6",
            "gridcolor": "white",
            "gridwidth": 2,
            "linecolor": "white",
            "showbackground": true,
            "ticks": "",
            "zerolinecolor": "white"
           },
           "yaxis": {
            "backgroundcolor": "#E5ECF6",
            "gridcolor": "white",
            "gridwidth": 2,
            "linecolor": "white",
            "showbackground": true,
            "ticks": "",
            "zerolinecolor": "white"
           },
           "zaxis": {
            "backgroundcolor": "#E5ECF6",
            "gridcolor": "white",
            "gridwidth": 2,
            "linecolor": "white",
            "showbackground": true,
            "ticks": "",
            "zerolinecolor": "white"
           }
          },
          "shapedefaults": {
           "line": {
            "color": "#2a3f5f"
           }
          },
          "ternary": {
           "aaxis": {
            "gridcolor": "white",
            "linecolor": "white",
            "ticks": ""
           },
           "baxis": {
            "gridcolor": "white",
            "linecolor": "white",
            "ticks": ""
           },
           "bgcolor": "#E5ECF6",
           "caxis": {
            "gridcolor": "white",
            "linecolor": "white",
            "ticks": ""
           }
          },
          "title": {
           "x": 0.05
          },
          "xaxis": {
           "automargin": true,
           "gridcolor": "white",
           "linecolor": "white",
           "ticks": "",
           "title": {
            "standoff": 15
           },
           "zerolinecolor": "white",
           "zerolinewidth": 2
          },
          "yaxis": {
           "automargin": true,
           "gridcolor": "white",
           "linecolor": "white",
           "ticks": "",
           "title": {
            "standoff": 15
           },
           "zerolinecolor": "white",
           "zerolinewidth": 2
          }
         }
        },
        "title": {
         "text": "종목별 수익률 현황"
        },
        "width": 450
       }
      }
     },
     "metadata": {},
     "output_type": "display_data"
    }
   ],
   "source": [
    "chart_name = '종목별 수익률 현황'\n",
    "\n",
    "treemap_fig = px.treemap(\n",
    "    edgecase_df, \n",
    "    title=chart_name,\n",
    "    path=[\n",
    "        px.Constant('KOSPI & KOSDAQ'),\n",
    "        'stocknames',\n",
    "    ],\n",
    "    # values='sqrt_marcap',\n",
    "    values='stockweights',\n",
    "    color='stockreturns',\n",
    "    # hover_data=[],\n",
    "    # color_discrete_sequence=,\n",
    "    color_continuous_scale='RdBu_r',\n",
    "    color_continuous_midpoint=0,\n",
    ")\n",
    "\n",
    "treemap_fig.update_layout(\n",
    "    margin=dict(t=50, l=25, b=25),\n",
    "    width=300+150,\n",
    "    height=400,\n",
    "    legend=dict(orientation='h'),\n",
    "    )\n",
    "treemap_fig.show()\n"
   ]
  },
  {
   "attachments": {},
   "cell_type": "markdown",
   "metadata": {},
   "source": [
    "## FnGuide WICS 기준 grouping \n",
    "\n",
    "KRX 산업분류는 통계청의 표준산업분류를 기반으로 하기 때문에 제대로 업종 분류를 보여주지 못한다. \n",
    "\n",
    "FnGuide의 WICS 는 GICS를 벤치마킹하여 한국 상황에 잘 맞게 grouping을 잘 나눠놨다.\n",
    "- Industrial, Consumer Cyclical, Consumer Staples 등과 같이 business/retail, cyclicatl/non-cyclical 등의 기준으로 나눈 것들이 좋다. \n",
    "- 한국표준산업분류(10차, 2017년)에선 제조업에 너무 많은 항목이 들어간다. (의료제조업, 식음료제조업, 화학제조업 등등)\n",
    "- KRX 산업분류는 이걸 기준으로 하면서 대분류와 중분류를 적당히 섞기도 하는 등 \n",
    "\n",
    "https://www.newspim.com/news/view/20190104000248"
   ]
  },
  {
   "attachments": {},
   "cell_type": "markdown",
   "metadata": {},
   "source": [
    "### Load & Merge WICS mapping table"
   ]
  },
  {
   "cell_type": "code",
   "execution_count": 45,
   "metadata": {},
   "outputs": [
    {
     "data": {
      "text/plain": [
       "2427"
      ]
     },
     "execution_count": 45,
     "metadata": {},
     "output_type": "execute_result"
    }
   ],
   "source": [
    "# 2023-03-28 현재 listed 된 종목들의 FnGuide WICS 업종분류와 KRX 업종분류와 표준산업분류 업종분류 mapping \n",
    "\n",
    "wics_ksic_mapping_df = pd.read_excel(WOORI_DATA_PATH / 'FnGuide_WICS_and_KRX_KSIC.xlsx', skiprows=5)\n",
    "len(wics_ksic_mapping_df)"
   ]
  },
  {
   "cell_type": "code",
   "execution_count": 46,
   "metadata": {},
   "outputs": [
    {
     "data": {
      "text/plain": [
       "Index(['Symbol', 'Name', 'FnGuide Sector Code', 'FnGuide Sector',\n",
       "       'FnGuide Industry Group Code', 'FnGuide Industry Group',\n",
       "       'FnGuide Industry Code', 'FnGuide Industry', '거래소 업종코드', '거래소 업종',\n",
       "       '거래소 업종코드(세부분류)', '거래소 업종 (세부분류)', '한국표준산업분류10차(대분류)',\n",
       "       '한국표준산업분류코드10차(대분류)', '한국표준산업분류10차(중분류)', '한국표준산업분류코드10차(중분류)',\n",
       "       '한국표준산업분류10차(소분류)', '한국표준산업분류코드10차(소분류)', '거래소 업종구분'],\n",
       "      dtype='object')"
      ]
     },
     "execution_count": 46,
     "metadata": {},
     "output_type": "execute_result"
    }
   ],
   "source": [
    "wics_ksic_mapping_df.columns"
   ]
  },
  {
   "cell_type": "code",
   "execution_count": null,
   "metadata": {},
   "outputs": [
    {
     "data": {
      "text/plain": [
       "array(['코스피 전기,전자', '코스피 의약품', '코스피 화학', '코스피 운수장비', '코스피 서비스업',\n",
       "       '코스피 철강및금속', '코스닥 일반전기,전자', '코스피 비금속광물', '코스피 유통업', '코스피 금융업',\n",
       "       '코스피 보험', '코스피 제조업', '코스피 전기가스업', '금융', '코스피 은행', '도매', '코스닥 IT부품',\n",
       "       '코스피 통신업', '코스피 기계', '코스피 운수창고', '코스피 음식료품', '코스피 섬유,의복', '코스닥 제약',\n",
       "       '코스피 건설업', '코스피 증권', '코스닥 디지탈컨텐츠', '코스닥 의료,정밀기기', '코스닥 기계,장비',\n",
       "       '코스닥 150 선물', '코스닥 화학', nan, '코스피 의료정밀', '코스닥 반도체', '코스닥 방송서비스',\n",
       "       '코스닥 음식료,담배', '코스닥 종이,목재', '코스닥 소프트웨어', '여행·운송서비스', '코스닥 금속',\n",
       "       '코스닥 통신장비', '코스닥 150 레버리지 0.5', '코스닥 150 선물 인버스', '코스닥 기타 제조',\n",
       "       '코스닥 비금속', '코스닥 인터넷', '코스닥 운송장비,부품', '소매', '코스닥 통신서비스',\n",
       "       '코스닥 출판,매체복제', '코스피 종이,목재', '종합건설', '코스닥 섬유,의류', '전문건설',\n",
       "       '코스닥 컴퓨터서비스', '금융서비스', '코스닥 정보기기', '자동차판매', '육상운송', '코스닥 150'],\n",
       "      dtype=object)"
      ]
     },
     "metadata": {},
     "output_type": "display_data"
    }
   ],
   "source": [
    "wics_ksic_mapping_df['거래소 업종 (세부분류)'].unique() # nan도 존재"
   ]
  },
  {
   "cell_type": "code",
   "execution_count": 110,
   "metadata": {},
   "outputs": [
    {
     "data": {
      "text/plain": [
       "array(['000020', '000040', '000050', ..., '102370', '353590', '404950'],\n",
       "      dtype=object)"
      ]
     },
     "execution_count": 110,
     "metadata": {},
     "output_type": "execute_result"
    }
   ],
   "source": [
    "sid_list = last_lv1_df['ISU_SRT_CD'].values\n",
    "sid_list"
   ]
  },
  {
   "cell_type": "code",
   "execution_count": 116,
   "metadata": {},
   "outputs": [],
   "source": [
    "wics_ksic_mapping_df['Symbol'] = wics_ksic_mapping_df['Symbol'].apply(lambda s: s[1:])"
   ]
  },
  {
   "cell_type": "code",
   "execution_count": 151,
   "metadata": {},
   "outputs": [
    {
     "data": {
      "text/html": [
       "<div>\n",
       "<style scoped>\n",
       "    .dataframe tbody tr th:only-of-type {\n",
       "        vertical-align: middle;\n",
       "    }\n",
       "\n",
       "    .dataframe tbody tr th {\n",
       "        vertical-align: top;\n",
       "    }\n",
       "\n",
       "    .dataframe thead th {\n",
       "        text-align: right;\n",
       "    }\n",
       "</style>\n",
       "<table border=\"1\" class=\"dataframe\">\n",
       "  <thead>\n",
       "    <tr style=\"text-align: right;\">\n",
       "      <th></th>\n",
       "      <th>ISU_SRT_CD</th>\n",
       "      <th>ret</th>\n",
       "      <th>marcap</th>\n",
       "      <th>group_idx</th>\n",
       "      <th>group_marcap_sum</th>\n",
       "      <th>group_marcap_weight</th>\n",
       "      <th>group_weighted_ret</th>\n",
       "      <th>Symbol</th>\n",
       "      <th>Name</th>\n",
       "      <th>FnGuide Sector Code</th>\n",
       "      <th>...</th>\n",
       "      <th>거래소 업종</th>\n",
       "      <th>거래소 업종코드(세부분류)</th>\n",
       "      <th>거래소 업종 (세부분류)</th>\n",
       "      <th>한국표준산업분류10차(대분류)</th>\n",
       "      <th>한국표준산업분류코드10차(대분류)</th>\n",
       "      <th>한국표준산업분류10차(중분류)</th>\n",
       "      <th>한국표준산업분류코드10차(중분류)</th>\n",
       "      <th>한국표준산업분류10차(소분류)</th>\n",
       "      <th>한국표준산업분류코드10차(소분류)</th>\n",
       "      <th>거래소 업종구분</th>\n",
       "    </tr>\n",
       "  </thead>\n",
       "  <tbody>\n",
       "    <tr>\n",
       "      <th>2474</th>\n",
       "      <td>400840</td>\n",
       "      <td>-0.002375</td>\n",
       "      <td>1.075200e+10</td>\n",
       "      <td>금융 및 보험업(64~66)</td>\n",
       "      <td>2.818140e+14</td>\n",
       "      <td>0.000038</td>\n",
       "      <td>-9.062428e-08</td>\n",
       "      <td>400840</td>\n",
       "      <td>하이제7호스팩</td>\n",
       "      <td>FGSC.40</td>\n",
       "      <td>...</td>\n",
       "      <td>코스닥 금융</td>\n",
       "      <td>I.294</td>\n",
       "      <td>금융서비스</td>\n",
       "      <td>금융 및 보험업</td>\n",
       "      <td>K</td>\n",
       "      <td>금융 및 보험 관련 서비스업</td>\n",
       "      <td>66.0</td>\n",
       "      <td>금융 지원 서비스업</td>\n",
       "      <td>661.0</td>\n",
       "      <td>기타금융업</td>\n",
       "    </tr>\n",
       "    <tr>\n",
       "      <th>2475</th>\n",
       "      <td>404990</td>\n",
       "      <td>-0.011555</td>\n",
       "      <td>2.632724e+11</td>\n",
       "      <td>전문, 과학 및 기술 서비스업(70~73)</td>\n",
       "      <td>2.394029e+14</td>\n",
       "      <td>0.001100</td>\n",
       "      <td>-1.270667e-05</td>\n",
       "      <td>NaN</td>\n",
       "      <td>NaN</td>\n",
       "      <td>NaN</td>\n",
       "      <td>...</td>\n",
       "      <td>NaN</td>\n",
       "      <td>NaN</td>\n",
       "      <td>NaN</td>\n",
       "      <td>NaN</td>\n",
       "      <td>NaN</td>\n",
       "      <td>NaN</td>\n",
       "      <td>NaN</td>\n",
       "      <td>NaN</td>\n",
       "      <td>NaN</td>\n",
       "      <td>NaN</td>\n",
       "    </tr>\n",
       "    <tr>\n",
       "      <th>2476</th>\n",
       "      <td>102370</td>\n",
       "      <td>-0.077673</td>\n",
       "      <td>3.439036e+11</td>\n",
       "      <td>운수 및 창고업(49~52)</td>\n",
       "      <td>1.248595e+14</td>\n",
       "      <td>0.002754</td>\n",
       "      <td>-2.139358e-04</td>\n",
       "      <td>102370</td>\n",
       "      <td>케이옥션</td>\n",
       "      <td>FGSC.25</td>\n",
       "      <td>...</td>\n",
       "      <td>코스닥 유통</td>\n",
       "      <td>I.284</td>\n",
       "      <td>도매</td>\n",
       "      <td>도매 및 소매업</td>\n",
       "      <td>G</td>\n",
       "      <td>도매 및 상품 중개업</td>\n",
       "      <td>46.0</td>\n",
       "      <td>상품 중개업</td>\n",
       "      <td>461.0</td>\n",
       "      <td>제조업</td>\n",
       "    </tr>\n",
       "    <tr>\n",
       "      <th>2477</th>\n",
       "      <td>353590</td>\n",
       "      <td>0.041237</td>\n",
       "      <td>2.600865e+11</td>\n",
       "      <td>운수 및 창고업(49~52)</td>\n",
       "      <td>1.248595e+14</td>\n",
       "      <td>0.002083</td>\n",
       "      <td>8.589828e-05</td>\n",
       "      <td>353590</td>\n",
       "      <td>오토앤</td>\n",
       "      <td>FGSC.25</td>\n",
       "      <td>...</td>\n",
       "      <td>코스닥 유통</td>\n",
       "      <td>I.283</td>\n",
       "      <td>자동차판매</td>\n",
       "      <td>도매 및 소매업</td>\n",
       "      <td>G</td>\n",
       "      <td>자동차 및 부품 판매업</td>\n",
       "      <td>45.0</td>\n",
       "      <td>자동차 부품 및 내장품 판매업</td>\n",
       "      <td>452.0</td>\n",
       "      <td>제조업</td>\n",
       "    </tr>\n",
       "    <tr>\n",
       "      <th>2478</th>\n",
       "      <td>404950</td>\n",
       "      <td>-0.011765</td>\n",
       "      <td>1.226400e+10</td>\n",
       "      <td>금융 및 보험업(64~66)</td>\n",
       "      <td>2.818140e+14</td>\n",
       "      <td>0.000044</td>\n",
       "      <td>-5.119772e-07</td>\n",
       "      <td>404950</td>\n",
       "      <td>DB금융스팩10호</td>\n",
       "      <td>FGSC.40</td>\n",
       "      <td>...</td>\n",
       "      <td>코스닥 금융</td>\n",
       "      <td>I.294</td>\n",
       "      <td>금융서비스</td>\n",
       "      <td>금융 및 보험업</td>\n",
       "      <td>K</td>\n",
       "      <td>금융업</td>\n",
       "      <td>64.0</td>\n",
       "      <td>기타 금융업</td>\n",
       "      <td>649.0</td>\n",
       "      <td>기타금융업</td>\n",
       "    </tr>\n",
       "  </tbody>\n",
       "</table>\n",
       "<p>5 rows × 26 columns</p>\n",
       "</div>"
      ],
      "text/plain": [
       "     ISU_SRT_CD       ret        marcap                group_idx  \\\n",
       "2474     400840 -0.002375  1.075200e+10          금융 및 보험업(64~66)   \n",
       "2475     404990 -0.011555  2.632724e+11  전문, 과학 및 기술 서비스업(70~73)   \n",
       "2476     102370 -0.077673  3.439036e+11          운수 및 창고업(49~52)   \n",
       "2477     353590  0.041237  2.600865e+11          운수 및 창고업(49~52)   \n",
       "2478     404950 -0.011765  1.226400e+10          금융 및 보험업(64~66)   \n",
       "\n",
       "      group_marcap_sum  group_marcap_weight  group_weighted_ret  Symbol  \\\n",
       "2474      2.818140e+14             0.000038       -9.062428e-08  400840   \n",
       "2475      2.394029e+14             0.001100       -1.270667e-05     NaN   \n",
       "2476      1.248595e+14             0.002754       -2.139358e-04  102370   \n",
       "2477      1.248595e+14             0.002083        8.589828e-05  353590   \n",
       "2478      2.818140e+14             0.000044       -5.119772e-07  404950   \n",
       "\n",
       "           Name FnGuide Sector Code  ...  거래소 업종 거래소 업종코드(세부분류) 거래소 업종 (세부분류)  \\\n",
       "2474    하이제7호스팩             FGSC.40  ...  코스닥 금융          I.294         금융서비스   \n",
       "2475        NaN                 NaN  ...     NaN            NaN           NaN   \n",
       "2476       케이옥션             FGSC.25  ...  코스닥 유통          I.284            도매   \n",
       "2477        오토앤             FGSC.25  ...  코스닥 유통          I.283         자동차판매   \n",
       "2478  DB금융스팩10호             FGSC.40  ...  코스닥 금융          I.294         금융서비스   \n",
       "\n",
       "     한국표준산업분류10차(대분류) 한국표준산업분류코드10차(대분류) 한국표준산업분류10차(중분류) 한국표준산업분류코드10차(중분류)  \\\n",
       "2474         금융 및 보험업                  K  금융 및 보험 관련 서비스업               66.0   \n",
       "2475              NaN                NaN              NaN                NaN   \n",
       "2476         도매 및 소매업                  G      도매 및 상품 중개업               46.0   \n",
       "2477         도매 및 소매업                  G     자동차 및 부품 판매업               45.0   \n",
       "2478         금융 및 보험업                  K              금융업               64.0   \n",
       "\n",
       "      한국표준산업분류10차(소분류) 한국표준산업분류코드10차(소분류) 거래소 업종구분  \n",
       "2474        금융 지원 서비스업              661.0    기타금융업  \n",
       "2475               NaN                NaN      NaN  \n",
       "2476            상품 중개업              461.0      제조업  \n",
       "2477  자동차 부품 및 내장품 판매업              452.0      제조업  \n",
       "2478            기타 금융업              649.0    기타금융업  \n",
       "\n",
       "[5 rows x 26 columns]"
      ]
     },
     "execution_count": 151,
     "metadata": {},
     "output_type": "execute_result"
    }
   ],
   "source": [
    "WICS_last_lv1_df = pd.merge(last_lv1_df, wics_ksic_mapping_df, how='left', left_on='ISU_SRT_CD', right_on='Symbol',)\n",
    "WICS_last_lv1_df.tail()"
   ]
  },
  {
   "attachments": {},
   "cell_type": "markdown",
   "metadata": {},
   "source": [
    "### WICS grouping treemap"
   ]
  },
  {
   "cell_type": "code",
   "execution_count": 152,
   "metadata": {},
   "outputs": [
    {
     "data": {
      "text/plain": [
       "Index(['ISU_SRT_CD', 'ret', 'marcap', 'group_idx', 'group_marcap_sum',\n",
       "       'group_marcap_weight', 'group_weighted_ret', 'Symbol', 'Name',\n",
       "       'FnGuide Sector Code', 'FnGuide Sector', 'FnGuide Industry Group Code',\n",
       "       'FnGuide Industry Group', 'FnGuide Industry Code', 'FnGuide Industry',\n",
       "       '거래소 업종코드', '거래소 업종', '거래소 업종코드(세부분류)', '거래소 업종 (세부분류)',\n",
       "       '한국표준산업분류10차(대분류)', '한국표준산업분류코드10차(대분류)', '한국표준산업분류10차(중분류)',\n",
       "       '한국표준산업분류코드10차(중분류)', '한국표준산업분류10차(소분류)', '한국표준산업분류코드10차(소분류)',\n",
       "       '거래소 업종구분'],\n",
       "      dtype='object')"
      ]
     },
     "execution_count": 152,
     "metadata": {},
     "output_type": "execute_result"
    }
   ],
   "source": [
    "WICS_last_lv1_df.columns"
   ]
  },
  {
   "cell_type": "code",
   "execution_count": 255,
   "metadata": {},
   "outputs": [],
   "source": [
    "# DATE_BEFORE = -1\n",
    "\n",
    "DATE = '2022-05-17'"
   ]
  },
  {
   "cell_type": "code",
   "execution_count": 256,
   "metadata": {},
   "outputs": [],
   "source": [
    "last_return_v = return_df.loc[DATE, :]\n",
    "\n",
    "last_marcap_v = marcap_df.loc[DATE, :]\n",
    "last_group_v = industry_df.loc[DATE, :]"
   ]
  },
  {
   "cell_type": "code",
   "execution_count": 257,
   "metadata": {},
   "outputs": [
    {
     "data": {
      "text/plain": [
       "612"
      ]
     },
     "execution_count": 257,
     "metadata": {},
     "output_type": "execute_result"
    }
   ],
   "source": [
    "last_group_v.isna().sum()"
   ]
  },
  {
   "cell_type": "code",
   "execution_count": 258,
   "metadata": {},
   "outputs": [],
   "source": [
    "last_lv1_df = pd.DataFrame(data={\n",
    "    'ret': last_return_v,\n",
    "    'marcap': last_marcap_v,\n",
    "    'group_idx': last_group_v,\n",
    "})"
   ]
  },
  {
   "cell_type": "code",
   "execution_count": 259,
   "metadata": {},
   "outputs": [
    {
     "data": {
      "text/plain": [
       "3110"
      ]
     },
     "execution_count": 259,
     "metadata": {},
     "output_type": "execute_result"
    }
   ],
   "source": [
    "len(last_lv1_df)"
   ]
  },
  {
   "cell_type": "code",
   "execution_count": 260,
   "metadata": {},
   "outputs": [],
   "source": [
    "last_lv1_df = last_lv1_df.dropna()\n",
    "last_lv1_df = last_lv1_df.reset_index()"
   ]
  },
  {
   "cell_type": "code",
   "execution_count": 261,
   "metadata": {},
   "outputs": [],
   "source": [
    "WICS_last_lv1_df = pd.merge(last_lv1_df, wics_ksic_mapping_df, how='left', left_on='ISU_SRT_CD', right_on='Symbol',)"
   ]
  },
  {
   "attachments": {},
   "cell_type": "markdown",
   "metadata": {},
   "source": [
    "#### WICS grouping"
   ]
  },
  {
   "cell_type": "code",
   "execution_count": 262,
   "metadata": {},
   "outputs": [],
   "source": [
    "WICS_last_lv1_df = WICS_last_lv1_df.dropna()"
   ]
  },
  {
   "cell_type": "code",
   "execution_count": 263,
   "metadata": {},
   "outputs": [],
   "source": [
    "grouping_colname = 'FnGuide Sector'"
   ]
  },
  {
   "cell_type": "code",
   "execution_count": 264,
   "metadata": {},
   "outputs": [],
   "source": [
    "group_marcap_weight_df = WICS_last_lv1_df[[grouping_colname, 'marcap']].groupby(by=grouping_colname).sum()\n",
    "group_marcap_weight_df.reset_index(drop=False, inplace=True)\n",
    "\n",
    "group_marcap_weight_df.rename(columns={'marcap': 'group_marcap_sum'}, inplace=True)"
   ]
  },
  {
   "cell_type": "code",
   "execution_count": 265,
   "metadata": {},
   "outputs": [
    {
     "data": {
      "text/plain": [
       "{'IT': 988308188040426.0,\n",
       " '경기소비재': 278176952312022.0,\n",
       " '금융': 198116507401157.0,\n",
       " '산업재': 247013350910306.0,\n",
       " '소재': 191115561956980.0,\n",
       " '에너지': 72484803283560.0,\n",
       " '유틸리티': 24356205237850.0,\n",
       " '의료': 201498947115805.0,\n",
       " '통신서비스': 29345532796820.0,\n",
       " '필수소비재': 89535917004064.0}"
      ]
     },
     "execution_count": 265,
     "metadata": {},
     "output_type": "execute_result"
    }
   ],
   "source": [
    "GRPNAME2GRPMARCAP = {k:v for k, v in group_marcap_weight_df.values}\n",
    "GRPNAME2GRPMARCAP"
   ]
  },
  {
   "cell_type": "code",
   "execution_count": 266,
   "metadata": {},
   "outputs": [],
   "source": [
    "WICS_last_lv1_df.loc[:, 'group_marcap_sum'] = WICS_last_lv1_df[grouping_colname].apply(lambda g_nm: GRPNAME2GRPMARCAP[g_nm])"
   ]
  },
  {
   "cell_type": "code",
   "execution_count": 267,
   "metadata": {},
   "outputs": [],
   "source": [
    "\n",
    "WICS_last_lv1_df['group_marcap_weight'] = WICS_last_lv1_df['marcap'] / WICS_last_lv1_df['group_marcap_sum']\n",
    "WICS_last_lv1_df['group_weighted_ret'] = WICS_last_lv1_df['ret'] * WICS_last_lv1_df['group_marcap_weight']\n"
   ]
  },
  {
   "cell_type": "code",
   "execution_count": 268,
   "metadata": {},
   "outputs": [],
   "source": [
    "group_tree_df = WICS_last_lv1_df[[grouping_colname, 'group_weighted_ret', 'marcap']].groupby(by=grouping_colname).sum()\n",
    "group_tree_df.reset_index(drop=False, inplace=True)"
   ]
  },
  {
   "cell_type": "code",
   "execution_count": 269,
   "metadata": {},
   "outputs": [],
   "source": [
    "group_tree_df['group_weighted_ret'] = 100 * group_tree_df['group_weighted_ret']"
   ]
  },
  {
   "cell_type": "code",
   "execution_count": 270,
   "metadata": {},
   "outputs": [
    {
     "data": {
      "text/plain": [
       "Index(['FnGuide Sector', 'group_weighted_ret', 'marcap'], dtype='object')"
      ]
     },
     "execution_count": 270,
     "metadata": {},
     "output_type": "execute_result"
    }
   ],
   "source": [
    "group_tree_df.columns"
   ]
  },
  {
   "cell_type": "code",
   "execution_count": 271,
   "metadata": {},
   "outputs": [],
   "source": [
    "group_tree_df['sqrt_marcap'] = group_tree_df['marcap'].apply(np.sqrt)"
   ]
  },
  {
   "cell_type": "code",
   "execution_count": 272,
   "metadata": {},
   "outputs": [
    {
     "data": {
      "application/vnd.plotly.v1+json": {
       "config": {
        "plotlyServerURL": "https://plot.ly"
       },
       "data": [
        {
         "branchvalues": "total",
         "customdata": [
          [
           1.6488266733073713
          ],
          [
           0.3642295869774977
          ],
          [
           0.6449981459968033
          ],
          [
           0.2108205864456284
          ],
          [
           1.158523383278683
          ],
          [
           1.8580699314709483
          ],
          [
           0.9402770938558622
          ],
          [
           0.6464973924661932
          ],
          [
           0.6229420194121715
          ],
          [
           -1.2864754188310163
          ],
          [
           1.001351798485052
          ]
         ],
         "domain": {
          "x": [
           0,
           1
          ],
          "y": [
           0,
           1
          ]
         },
         "hovertemplate": "labels=%{label}<br>marcap=%{value}<br>parent=%{parent}<br>id=%{id}<br>group_weighted_ret=%{color}<extra></extra>",
         "ids": [
          "KOSPI & KOSDAQ/IT",
          "KOSPI & KOSDAQ/경기소비재",
          "KOSPI & KOSDAQ/금융",
          "KOSPI & KOSDAQ/산업재",
          "KOSPI & KOSDAQ/소재",
          "KOSPI & KOSDAQ/에너지",
          "KOSPI & KOSDAQ/유틸리티",
          "KOSPI & KOSDAQ/의료",
          "KOSPI & KOSDAQ/통신서비스",
          "KOSPI & KOSDAQ/필수소비재",
          "KOSPI & KOSDAQ"
         ],
         "labels": [
          "IT",
          "경기소비재",
          "금융",
          "산업재",
          "소재",
          "에너지",
          "유틸리티",
          "의료",
          "통신서비스",
          "필수소비재",
          "KOSPI & KOSDAQ"
         ],
         "marker": {
          "coloraxis": "coloraxis",
          "colors": [
           1.6488266733073713,
           0.3642295869774977,
           0.6449981459968033,
           0.2108205864456284,
           1.158523383278683,
           1.8580699314709483,
           0.9402770938558622,
           0.6464973924661932,
           0.6229420194121715,
           -1.2864754188310163,
           1.001351798485052
          ]
         },
         "name": "",
         "parents": [
          "KOSPI & KOSDAQ",
          "KOSPI & KOSDAQ",
          "KOSPI & KOSDAQ",
          "KOSPI & KOSDAQ",
          "KOSPI & KOSDAQ",
          "KOSPI & KOSDAQ",
          "KOSPI & KOSDAQ",
          "KOSPI & KOSDAQ",
          "KOSPI & KOSDAQ",
          "KOSPI & KOSDAQ",
          ""
         ],
         "type": "treemap",
         "values": [
          988308188040426,
          278176952312022,
          198116507401157,
          247013350910306,
          191115561956980,
          72484803283560,
          24356205237850,
          201498947115805,
          29345532796820,
          89535917004064,
          2319951966058990
         ]
        }
       ],
       "layout": {
        "coloraxis": {
         "cmid": 0,
         "colorbar": {
          "title": {
           "text": "group_weighted_ret"
          }
         },
         "colorscale": [
          [
           0,
           "rgb(5,48,97)"
          ],
          [
           0.1,
           "rgb(33,102,172)"
          ],
          [
           0.2,
           "rgb(67,147,195)"
          ],
          [
           0.3,
           "rgb(146,197,222)"
          ],
          [
           0.4,
           "rgb(209,229,240)"
          ],
          [
           0.5,
           "rgb(247,247,247)"
          ],
          [
           0.6,
           "rgb(253,219,199)"
          ],
          [
           0.7,
           "rgb(244,165,130)"
          ],
          [
           0.8,
           "rgb(214,96,77)"
          ],
          [
           0.9,
           "rgb(178,24,43)"
          ],
          [
           1,
           "rgb(103,0,31)"
          ]
         ]
        },
        "height": 400,
        "legend": {
         "orientation": "h",
         "tracegroupgap": 0
        },
        "margin": {
         "b": 25,
         "l": 25,
         "t": 50
        },
        "template": {
         "data": {
          "bar": [
           {
            "error_x": {
             "color": "#2a3f5f"
            },
            "error_y": {
             "color": "#2a3f5f"
            },
            "marker": {
             "line": {
              "color": "#E5ECF6",
              "width": 0.5
             },
             "pattern": {
              "fillmode": "overlay",
              "size": 10,
              "solidity": 0.2
             }
            },
            "type": "bar"
           }
          ],
          "barpolar": [
           {
            "marker": {
             "line": {
              "color": "#E5ECF6",
              "width": 0.5
             },
             "pattern": {
              "fillmode": "overlay",
              "size": 10,
              "solidity": 0.2
             }
            },
            "type": "barpolar"
           }
          ],
          "carpet": [
           {
            "aaxis": {
             "endlinecolor": "#2a3f5f",
             "gridcolor": "white",
             "linecolor": "white",
             "minorgridcolor": "white",
             "startlinecolor": "#2a3f5f"
            },
            "baxis": {
             "endlinecolor": "#2a3f5f",
             "gridcolor": "white",
             "linecolor": "white",
             "minorgridcolor": "white",
             "startlinecolor": "#2a3f5f"
            },
            "type": "carpet"
           }
          ],
          "choropleth": [
           {
            "colorbar": {
             "outlinewidth": 0,
             "ticks": ""
            },
            "type": "choropleth"
           }
          ],
          "contour": [
           {
            "colorbar": {
             "outlinewidth": 0,
             "ticks": ""
            },
            "colorscale": [
             [
              0,
              "#0d0887"
             ],
             [
              0.1111111111111111,
              "#46039f"
             ],
             [
              0.2222222222222222,
              "#7201a8"
             ],
             [
              0.3333333333333333,
              "#9c179e"
             ],
             [
              0.4444444444444444,
              "#bd3786"
             ],
             [
              0.5555555555555556,
              "#d8576b"
             ],
             [
              0.6666666666666666,
              "#ed7953"
             ],
             [
              0.7777777777777778,
              "#fb9f3a"
             ],
             [
              0.8888888888888888,
              "#fdca26"
             ],
             [
              1,
              "#f0f921"
             ]
            ],
            "type": "contour"
           }
          ],
          "contourcarpet": [
           {
            "colorbar": {
             "outlinewidth": 0,
             "ticks": ""
            },
            "type": "contourcarpet"
           }
          ],
          "heatmap": [
           {
            "colorbar": {
             "outlinewidth": 0,
             "ticks": ""
            },
            "colorscale": [
             [
              0,
              "#0d0887"
             ],
             [
              0.1111111111111111,
              "#46039f"
             ],
             [
              0.2222222222222222,
              "#7201a8"
             ],
             [
              0.3333333333333333,
              "#9c179e"
             ],
             [
              0.4444444444444444,
              "#bd3786"
             ],
             [
              0.5555555555555556,
              "#d8576b"
             ],
             [
              0.6666666666666666,
              "#ed7953"
             ],
             [
              0.7777777777777778,
              "#fb9f3a"
             ],
             [
              0.8888888888888888,
              "#fdca26"
             ],
             [
              1,
              "#f0f921"
             ]
            ],
            "type": "heatmap"
           }
          ],
          "heatmapgl": [
           {
            "colorbar": {
             "outlinewidth": 0,
             "ticks": ""
            },
            "colorscale": [
             [
              0,
              "#0d0887"
             ],
             [
              0.1111111111111111,
              "#46039f"
             ],
             [
              0.2222222222222222,
              "#7201a8"
             ],
             [
              0.3333333333333333,
              "#9c179e"
             ],
             [
              0.4444444444444444,
              "#bd3786"
             ],
             [
              0.5555555555555556,
              "#d8576b"
             ],
             [
              0.6666666666666666,
              "#ed7953"
             ],
             [
              0.7777777777777778,
              "#fb9f3a"
             ],
             [
              0.8888888888888888,
              "#fdca26"
             ],
             [
              1,
              "#f0f921"
             ]
            ],
            "type": "heatmapgl"
           }
          ],
          "histogram": [
           {
            "marker": {
             "pattern": {
              "fillmode": "overlay",
              "size": 10,
              "solidity": 0.2
             }
            },
            "type": "histogram"
           }
          ],
          "histogram2d": [
           {
            "colorbar": {
             "outlinewidth": 0,
             "ticks": ""
            },
            "colorscale": [
             [
              0,
              "#0d0887"
             ],
             [
              0.1111111111111111,
              "#46039f"
             ],
             [
              0.2222222222222222,
              "#7201a8"
             ],
             [
              0.3333333333333333,
              "#9c179e"
             ],
             [
              0.4444444444444444,
              "#bd3786"
             ],
             [
              0.5555555555555556,
              "#d8576b"
             ],
             [
              0.6666666666666666,
              "#ed7953"
             ],
             [
              0.7777777777777778,
              "#fb9f3a"
             ],
             [
              0.8888888888888888,
              "#fdca26"
             ],
             [
              1,
              "#f0f921"
             ]
            ],
            "type": "histogram2d"
           }
          ],
          "histogram2dcontour": [
           {
            "colorbar": {
             "outlinewidth": 0,
             "ticks": ""
            },
            "colorscale": [
             [
              0,
              "#0d0887"
             ],
             [
              0.1111111111111111,
              "#46039f"
             ],
             [
              0.2222222222222222,
              "#7201a8"
             ],
             [
              0.3333333333333333,
              "#9c179e"
             ],
             [
              0.4444444444444444,
              "#bd3786"
             ],
             [
              0.5555555555555556,
              "#d8576b"
             ],
             [
              0.6666666666666666,
              "#ed7953"
             ],
             [
              0.7777777777777778,
              "#fb9f3a"
             ],
             [
              0.8888888888888888,
              "#fdca26"
             ],
             [
              1,
              "#f0f921"
             ]
            ],
            "type": "histogram2dcontour"
           }
          ],
          "mesh3d": [
           {
            "colorbar": {
             "outlinewidth": 0,
             "ticks": ""
            },
            "type": "mesh3d"
           }
          ],
          "parcoords": [
           {
            "line": {
             "colorbar": {
              "outlinewidth": 0,
              "ticks": ""
             }
            },
            "type": "parcoords"
           }
          ],
          "pie": [
           {
            "automargin": true,
            "type": "pie"
           }
          ],
          "scatter": [
           {
            "fillpattern": {
             "fillmode": "overlay",
             "size": 10,
             "solidity": 0.2
            },
            "type": "scatter"
           }
          ],
          "scatter3d": [
           {
            "line": {
             "colorbar": {
              "outlinewidth": 0,
              "ticks": ""
             }
            },
            "marker": {
             "colorbar": {
              "outlinewidth": 0,
              "ticks": ""
             }
            },
            "type": "scatter3d"
           }
          ],
          "scattercarpet": [
           {
            "marker": {
             "colorbar": {
              "outlinewidth": 0,
              "ticks": ""
             }
            },
            "type": "scattercarpet"
           }
          ],
          "scattergeo": [
           {
            "marker": {
             "colorbar": {
              "outlinewidth": 0,
              "ticks": ""
             }
            },
            "type": "scattergeo"
           }
          ],
          "scattergl": [
           {
            "marker": {
             "colorbar": {
              "outlinewidth": 0,
              "ticks": ""
             }
            },
            "type": "scattergl"
           }
          ],
          "scattermapbox": [
           {
            "marker": {
             "colorbar": {
              "outlinewidth": 0,
              "ticks": ""
             }
            },
            "type": "scattermapbox"
           }
          ],
          "scatterpolar": [
           {
            "marker": {
             "colorbar": {
              "outlinewidth": 0,
              "ticks": ""
             }
            },
            "type": "scatterpolar"
           }
          ],
          "scatterpolargl": [
           {
            "marker": {
             "colorbar": {
              "outlinewidth": 0,
              "ticks": ""
             }
            },
            "type": "scatterpolargl"
           }
          ],
          "scatterternary": [
           {
            "marker": {
             "colorbar": {
              "outlinewidth": 0,
              "ticks": ""
             }
            },
            "type": "scatterternary"
           }
          ],
          "surface": [
           {
            "colorbar": {
             "outlinewidth": 0,
             "ticks": ""
            },
            "colorscale": [
             [
              0,
              "#0d0887"
             ],
             [
              0.1111111111111111,
              "#46039f"
             ],
             [
              0.2222222222222222,
              "#7201a8"
             ],
             [
              0.3333333333333333,
              "#9c179e"
             ],
             [
              0.4444444444444444,
              "#bd3786"
             ],
             [
              0.5555555555555556,
              "#d8576b"
             ],
             [
              0.6666666666666666,
              "#ed7953"
             ],
             [
              0.7777777777777778,
              "#fb9f3a"
             ],
             [
              0.8888888888888888,
              "#fdca26"
             ],
             [
              1,
              "#f0f921"
             ]
            ],
            "type": "surface"
           }
          ],
          "table": [
           {
            "cells": {
             "fill": {
              "color": "#EBF0F8"
             },
             "line": {
              "color": "white"
             }
            },
            "header": {
             "fill": {
              "color": "#C8D4E3"
             },
             "line": {
              "color": "white"
             }
            },
            "type": "table"
           }
          ]
         },
         "layout": {
          "annotationdefaults": {
           "arrowcolor": "#2a3f5f",
           "arrowhead": 0,
           "arrowwidth": 1
          },
          "autotypenumbers": "strict",
          "coloraxis": {
           "colorbar": {
            "outlinewidth": 0,
            "ticks": ""
           }
          },
          "colorscale": {
           "diverging": [
            [
             0,
             "#8e0152"
            ],
            [
             0.1,
             "#c51b7d"
            ],
            [
             0.2,
             "#de77ae"
            ],
            [
             0.3,
             "#f1b6da"
            ],
            [
             0.4,
             "#fde0ef"
            ],
            [
             0.5,
             "#f7f7f7"
            ],
            [
             0.6,
             "#e6f5d0"
            ],
            [
             0.7,
             "#b8e186"
            ],
            [
             0.8,
             "#7fbc41"
            ],
            [
             0.9,
             "#4d9221"
            ],
            [
             1,
             "#276419"
            ]
           ],
           "sequential": [
            [
             0,
             "#0d0887"
            ],
            [
             0.1111111111111111,
             "#46039f"
            ],
            [
             0.2222222222222222,
             "#7201a8"
            ],
            [
             0.3333333333333333,
             "#9c179e"
            ],
            [
             0.4444444444444444,
             "#bd3786"
            ],
            [
             0.5555555555555556,
             "#d8576b"
            ],
            [
             0.6666666666666666,
             "#ed7953"
            ],
            [
             0.7777777777777778,
             "#fb9f3a"
            ],
            [
             0.8888888888888888,
             "#fdca26"
            ],
            [
             1,
             "#f0f921"
            ]
           ],
           "sequentialminus": [
            [
             0,
             "#0d0887"
            ],
            [
             0.1111111111111111,
             "#46039f"
            ],
            [
             0.2222222222222222,
             "#7201a8"
            ],
            [
             0.3333333333333333,
             "#9c179e"
            ],
            [
             0.4444444444444444,
             "#bd3786"
            ],
            [
             0.5555555555555556,
             "#d8576b"
            ],
            [
             0.6666666666666666,
             "#ed7953"
            ],
            [
             0.7777777777777778,
             "#fb9f3a"
            ],
            [
             0.8888888888888888,
             "#fdca26"
            ],
            [
             1,
             "#f0f921"
            ]
           ]
          },
          "colorway": [
           "#636efa",
           "#EF553B",
           "#00cc96",
           "#ab63fa",
           "#FFA15A",
           "#19d3f3",
           "#FF6692",
           "#B6E880",
           "#FF97FF",
           "#FECB52"
          ],
          "font": {
           "color": "#2a3f5f"
          },
          "geo": {
           "bgcolor": "white",
           "lakecolor": "white",
           "landcolor": "#E5ECF6",
           "showlakes": true,
           "showland": true,
           "subunitcolor": "white"
          },
          "hoverlabel": {
           "align": "left"
          },
          "hovermode": "closest",
          "mapbox": {
           "style": "light"
          },
          "paper_bgcolor": "white",
          "plot_bgcolor": "#E5ECF6",
          "polar": {
           "angularaxis": {
            "gridcolor": "white",
            "linecolor": "white",
            "ticks": ""
           },
           "bgcolor": "#E5ECF6",
           "radialaxis": {
            "gridcolor": "white",
            "linecolor": "white",
            "ticks": ""
           }
          },
          "scene": {
           "xaxis": {
            "backgroundcolor": "#E5ECF6",
            "gridcolor": "white",
            "gridwidth": 2,
            "linecolor": "white",
            "showbackground": true,
            "ticks": "",
            "zerolinecolor": "white"
           },
           "yaxis": {
            "backgroundcolor": "#E5ECF6",
            "gridcolor": "white",
            "gridwidth": 2,
            "linecolor": "white",
            "showbackground": true,
            "ticks": "",
            "zerolinecolor": "white"
           },
           "zaxis": {
            "backgroundcolor": "#E5ECF6",
            "gridcolor": "white",
            "gridwidth": 2,
            "linecolor": "white",
            "showbackground": true,
            "ticks": "",
            "zerolinecolor": "white"
           }
          },
          "shapedefaults": {
           "line": {
            "color": "#2a3f5f"
           }
          },
          "ternary": {
           "aaxis": {
            "gridcolor": "white",
            "linecolor": "white",
            "ticks": ""
           },
           "baxis": {
            "gridcolor": "white",
            "linecolor": "white",
            "ticks": ""
           },
           "bgcolor": "#E5ECF6",
           "caxis": {
            "gridcolor": "white",
            "linecolor": "white",
            "ticks": ""
           }
          },
          "title": {
           "x": 0.05
          },
          "xaxis": {
           "automargin": true,
           "gridcolor": "white",
           "linecolor": "white",
           "ticks": "",
           "title": {
            "standoff": 15
           },
           "zerolinecolor": "white",
           "zerolinewidth": 2
          },
          "yaxis": {
           "automargin": true,
           "gridcolor": "white",
           "linecolor": "white",
           "ticks": "",
           "title": {
            "standoff": 15
           },
           "zerolinecolor": "white",
           "zerolinewidth": 2
          }
         }
        },
        "title": {
         "text": "업종별 수익률 현황"
        },
        "width": 450
       }
      }
     },
     "metadata": {},
     "output_type": "display_data"
    }
   ],
   "source": [
    "chart_name = '업종별 수익률 현황'\n",
    "\n",
    "# Without sqrt scaling\n",
    "treemap_fig = px.treemap(\n",
    "    group_tree_df, \n",
    "    title=chart_name,\n",
    "    path=[\n",
    "        px.Constant('KOSPI & KOSDAQ'),\n",
    "        grouping_colname,\n",
    "    ],\n",
    "    # values='sqrt_marcap',\n",
    "    values='marcap',\n",
    "    color='group_weighted_ret',\n",
    "    # hover_data=[],\n",
    "    # color_discrete_sequence=,\n",
    "    color_continuous_scale='RdBu_r',\n",
    "    color_continuous_midpoint=0,\n",
    ")\n",
    "\n",
    "treemap_fig.update_layout(\n",
    "    margin=dict(t=50, l=25, b=25),\n",
    "    width=300+150,\n",
    "    height=400,\n",
    "    legend=dict(orientation='h'),\n",
    "    )\n",
    "treemap_fig.show()\n"
   ]
  },
  {
   "cell_type": "code",
   "execution_count": 273,
   "metadata": {},
   "outputs": [
    {
     "data": {
      "application/vnd.plotly.v1+json": {
       "config": {
        "plotlyServerURL": "https://plot.ly"
       },
       "data": [
        {
         "branchvalues": "total",
         "customdata": [
          [
           1.6488266733073713
          ],
          [
           0.3642295869774977
          ],
          [
           0.6449981459968033
          ],
          [
           0.2108205864456284
          ],
          [
           1.158523383278683
          ],
          [
           1.8580699314709483
          ],
          [
           0.9402770938558621
          ],
          [
           0.6464973924661932
          ],
          [
           0.6229420194121715
          ],
          [
           -1.2864754188310163
          ],
          [
           0.7981452775412059
          ]
         ],
         "domain": {
          "x": [
           0,
           1
          ],
          "y": [
           0,
           1
          ]
         },
         "hovertemplate": "labels=%{label}<br>sqrt_marcap=%{value}<br>parent=%{parent}<br>id=%{id}<br>group_weighted_ret=%{color}<extra></extra>",
         "ids": [
          "KOSPI & KOSDAQ/IT",
          "KOSPI & KOSDAQ/경기소비재",
          "KOSPI & KOSDAQ/금융",
          "KOSPI & KOSDAQ/산업재",
          "KOSPI & KOSDAQ/소재",
          "KOSPI & KOSDAQ/에너지",
          "KOSPI & KOSDAQ/유틸리티",
          "KOSPI & KOSDAQ/의료",
          "KOSPI & KOSDAQ/통신서비스",
          "KOSPI & KOSDAQ/필수소비재",
          "KOSPI & KOSDAQ"
         ],
         "labels": [
          "IT",
          "경기소비재",
          "금융",
          "산업재",
          "소재",
          "에너지",
          "유틸리티",
          "의료",
          "통신서비스",
          "필수소비재",
          "KOSPI & KOSDAQ"
         ],
         "marker": {
          "coloraxis": "coloraxis",
          "colors": [
           1.6488266733073713,
           0.3642295869774977,
           0.6449981459968033,
           0.2108205864456284,
           1.158523383278683,
           1.8580699314709483,
           0.9402770938558621,
           0.6464973924661932,
           0.6229420194121715,
           -1.2864754188310163,
           0.7981452775412059
          ]
         },
         "name": "",
         "parents": [
          "KOSPI & KOSDAQ",
          "KOSPI & KOSDAQ",
          "KOSPI & KOSDAQ",
          "KOSPI & KOSDAQ",
          "KOSPI & KOSDAQ",
          "KOSPI & KOSDAQ",
          "KOSPI & KOSDAQ",
          "KOSPI & KOSDAQ",
          "KOSPI & KOSDAQ",
          "KOSPI & KOSDAQ",
          ""
         ],
         "type": "treemap",
         "values": [
          31437369.292617757,
          16678637.603594067,
          14075386.580877876,
          15716658.388802182,
          13824455.213750016,
          8513800.754278902,
          4935200.62792284,
          14195032.48026594,
          5417151.72362931,
          9462342.04645256,
          134256034.71219146
         ]
        }
       ],
       "layout": {
        "coloraxis": {
         "cmid": 0,
         "colorbar": {
          "title": {
           "text": "group_weighted_ret"
          }
         },
         "colorscale": [
          [
           0,
           "rgb(5,48,97)"
          ],
          [
           0.1,
           "rgb(33,102,172)"
          ],
          [
           0.2,
           "rgb(67,147,195)"
          ],
          [
           0.3,
           "rgb(146,197,222)"
          ],
          [
           0.4,
           "rgb(209,229,240)"
          ],
          [
           0.5,
           "rgb(247,247,247)"
          ],
          [
           0.6,
           "rgb(253,219,199)"
          ],
          [
           0.7,
           "rgb(244,165,130)"
          ],
          [
           0.8,
           "rgb(214,96,77)"
          ],
          [
           0.9,
           "rgb(178,24,43)"
          ],
          [
           1,
           "rgb(103,0,31)"
          ]
         ]
        },
        "height": 400,
        "legend": {
         "orientation": "h",
         "tracegroupgap": 0
        },
        "margin": {
         "b": 25,
         "l": 25,
         "t": 50
        },
        "template": {
         "data": {
          "bar": [
           {
            "error_x": {
             "color": "#2a3f5f"
            },
            "error_y": {
             "color": "#2a3f5f"
            },
            "marker": {
             "line": {
              "color": "#E5ECF6",
              "width": 0.5
             },
             "pattern": {
              "fillmode": "overlay",
              "size": 10,
              "solidity": 0.2
             }
            },
            "type": "bar"
           }
          ],
          "barpolar": [
           {
            "marker": {
             "line": {
              "color": "#E5ECF6",
              "width": 0.5
             },
             "pattern": {
              "fillmode": "overlay",
              "size": 10,
              "solidity": 0.2
             }
            },
            "type": "barpolar"
           }
          ],
          "carpet": [
           {
            "aaxis": {
             "endlinecolor": "#2a3f5f",
             "gridcolor": "white",
             "linecolor": "white",
             "minorgridcolor": "white",
             "startlinecolor": "#2a3f5f"
            },
            "baxis": {
             "endlinecolor": "#2a3f5f",
             "gridcolor": "white",
             "linecolor": "white",
             "minorgridcolor": "white",
             "startlinecolor": "#2a3f5f"
            },
            "type": "carpet"
           }
          ],
          "choropleth": [
           {
            "colorbar": {
             "outlinewidth": 0,
             "ticks": ""
            },
            "type": "choropleth"
           }
          ],
          "contour": [
           {
            "colorbar": {
             "outlinewidth": 0,
             "ticks": ""
            },
            "colorscale": [
             [
              0,
              "#0d0887"
             ],
             [
              0.1111111111111111,
              "#46039f"
             ],
             [
              0.2222222222222222,
              "#7201a8"
             ],
             [
              0.3333333333333333,
              "#9c179e"
             ],
             [
              0.4444444444444444,
              "#bd3786"
             ],
             [
              0.5555555555555556,
              "#d8576b"
             ],
             [
              0.6666666666666666,
              "#ed7953"
             ],
             [
              0.7777777777777778,
              "#fb9f3a"
             ],
             [
              0.8888888888888888,
              "#fdca26"
             ],
             [
              1,
              "#f0f921"
             ]
            ],
            "type": "contour"
           }
          ],
          "contourcarpet": [
           {
            "colorbar": {
             "outlinewidth": 0,
             "ticks": ""
            },
            "type": "contourcarpet"
           }
          ],
          "heatmap": [
           {
            "colorbar": {
             "outlinewidth": 0,
             "ticks": ""
            },
            "colorscale": [
             [
              0,
              "#0d0887"
             ],
             [
              0.1111111111111111,
              "#46039f"
             ],
             [
              0.2222222222222222,
              "#7201a8"
             ],
             [
              0.3333333333333333,
              "#9c179e"
             ],
             [
              0.4444444444444444,
              "#bd3786"
             ],
             [
              0.5555555555555556,
              "#d8576b"
             ],
             [
              0.6666666666666666,
              "#ed7953"
             ],
             [
              0.7777777777777778,
              "#fb9f3a"
             ],
             [
              0.8888888888888888,
              "#fdca26"
             ],
             [
              1,
              "#f0f921"
             ]
            ],
            "type": "heatmap"
           }
          ],
          "heatmapgl": [
           {
            "colorbar": {
             "outlinewidth": 0,
             "ticks": ""
            },
            "colorscale": [
             [
              0,
              "#0d0887"
             ],
             [
              0.1111111111111111,
              "#46039f"
             ],
             [
              0.2222222222222222,
              "#7201a8"
             ],
             [
              0.3333333333333333,
              "#9c179e"
             ],
             [
              0.4444444444444444,
              "#bd3786"
             ],
             [
              0.5555555555555556,
              "#d8576b"
             ],
             [
              0.6666666666666666,
              "#ed7953"
             ],
             [
              0.7777777777777778,
              "#fb9f3a"
             ],
             [
              0.8888888888888888,
              "#fdca26"
             ],
             [
              1,
              "#f0f921"
             ]
            ],
            "type": "heatmapgl"
           }
          ],
          "histogram": [
           {
            "marker": {
             "pattern": {
              "fillmode": "overlay",
              "size": 10,
              "solidity": 0.2
             }
            },
            "type": "histogram"
           }
          ],
          "histogram2d": [
           {
            "colorbar": {
             "outlinewidth": 0,
             "ticks": ""
            },
            "colorscale": [
             [
              0,
              "#0d0887"
             ],
             [
              0.1111111111111111,
              "#46039f"
             ],
             [
              0.2222222222222222,
              "#7201a8"
             ],
             [
              0.3333333333333333,
              "#9c179e"
             ],
             [
              0.4444444444444444,
              "#bd3786"
             ],
             [
              0.5555555555555556,
              "#d8576b"
             ],
             [
              0.6666666666666666,
              "#ed7953"
             ],
             [
              0.7777777777777778,
              "#fb9f3a"
             ],
             [
              0.8888888888888888,
              "#fdca26"
             ],
             [
              1,
              "#f0f921"
             ]
            ],
            "type": "histogram2d"
           }
          ],
          "histogram2dcontour": [
           {
            "colorbar": {
             "outlinewidth": 0,
             "ticks": ""
            },
            "colorscale": [
             [
              0,
              "#0d0887"
             ],
             [
              0.1111111111111111,
              "#46039f"
             ],
             [
              0.2222222222222222,
              "#7201a8"
             ],
             [
              0.3333333333333333,
              "#9c179e"
             ],
             [
              0.4444444444444444,
              "#bd3786"
             ],
             [
              0.5555555555555556,
              "#d8576b"
             ],
             [
              0.6666666666666666,
              "#ed7953"
             ],
             [
              0.7777777777777778,
              "#fb9f3a"
             ],
             [
              0.8888888888888888,
              "#fdca26"
             ],
             [
              1,
              "#f0f921"
             ]
            ],
            "type": "histogram2dcontour"
           }
          ],
          "mesh3d": [
           {
            "colorbar": {
             "outlinewidth": 0,
             "ticks": ""
            },
            "type": "mesh3d"
           }
          ],
          "parcoords": [
           {
            "line": {
             "colorbar": {
              "outlinewidth": 0,
              "ticks": ""
             }
            },
            "type": "parcoords"
           }
          ],
          "pie": [
           {
            "automargin": true,
            "type": "pie"
           }
          ],
          "scatter": [
           {
            "fillpattern": {
             "fillmode": "overlay",
             "size": 10,
             "solidity": 0.2
            },
            "type": "scatter"
           }
          ],
          "scatter3d": [
           {
            "line": {
             "colorbar": {
              "outlinewidth": 0,
              "ticks": ""
             }
            },
            "marker": {
             "colorbar": {
              "outlinewidth": 0,
              "ticks": ""
             }
            },
            "type": "scatter3d"
           }
          ],
          "scattercarpet": [
           {
            "marker": {
             "colorbar": {
              "outlinewidth": 0,
              "ticks": ""
             }
            },
            "type": "scattercarpet"
           }
          ],
          "scattergeo": [
           {
            "marker": {
             "colorbar": {
              "outlinewidth": 0,
              "ticks": ""
             }
            },
            "type": "scattergeo"
           }
          ],
          "scattergl": [
           {
            "marker": {
             "colorbar": {
              "outlinewidth": 0,
              "ticks": ""
             }
            },
            "type": "scattergl"
           }
          ],
          "scattermapbox": [
           {
            "marker": {
             "colorbar": {
              "outlinewidth": 0,
              "ticks": ""
             }
            },
            "type": "scattermapbox"
           }
          ],
          "scatterpolar": [
           {
            "marker": {
             "colorbar": {
              "outlinewidth": 0,
              "ticks": ""
             }
            },
            "type": "scatterpolar"
           }
          ],
          "scatterpolargl": [
           {
            "marker": {
             "colorbar": {
              "outlinewidth": 0,
              "ticks": ""
             }
            },
            "type": "scatterpolargl"
           }
          ],
          "scatterternary": [
           {
            "marker": {
             "colorbar": {
              "outlinewidth": 0,
              "ticks": ""
             }
            },
            "type": "scatterternary"
           }
          ],
          "surface": [
           {
            "colorbar": {
             "outlinewidth": 0,
             "ticks": ""
            },
            "colorscale": [
             [
              0,
              "#0d0887"
             ],
             [
              0.1111111111111111,
              "#46039f"
             ],
             [
              0.2222222222222222,
              "#7201a8"
             ],
             [
              0.3333333333333333,
              "#9c179e"
             ],
             [
              0.4444444444444444,
              "#bd3786"
             ],
             [
              0.5555555555555556,
              "#d8576b"
             ],
             [
              0.6666666666666666,
              "#ed7953"
             ],
             [
              0.7777777777777778,
              "#fb9f3a"
             ],
             [
              0.8888888888888888,
              "#fdca26"
             ],
             [
              1,
              "#f0f921"
             ]
            ],
            "type": "surface"
           }
          ],
          "table": [
           {
            "cells": {
             "fill": {
              "color": "#EBF0F8"
             },
             "line": {
              "color": "white"
             }
            },
            "header": {
             "fill": {
              "color": "#C8D4E3"
             },
             "line": {
              "color": "white"
             }
            },
            "type": "table"
           }
          ]
         },
         "layout": {
          "annotationdefaults": {
           "arrowcolor": "#2a3f5f",
           "arrowhead": 0,
           "arrowwidth": 1
          },
          "autotypenumbers": "strict",
          "coloraxis": {
           "colorbar": {
            "outlinewidth": 0,
            "ticks": ""
           }
          },
          "colorscale": {
           "diverging": [
            [
             0,
             "#8e0152"
            ],
            [
             0.1,
             "#c51b7d"
            ],
            [
             0.2,
             "#de77ae"
            ],
            [
             0.3,
             "#f1b6da"
            ],
            [
             0.4,
             "#fde0ef"
            ],
            [
             0.5,
             "#f7f7f7"
            ],
            [
             0.6,
             "#e6f5d0"
            ],
            [
             0.7,
             "#b8e186"
            ],
            [
             0.8,
             "#7fbc41"
            ],
            [
             0.9,
             "#4d9221"
            ],
            [
             1,
             "#276419"
            ]
           ],
           "sequential": [
            [
             0,
             "#0d0887"
            ],
            [
             0.1111111111111111,
             "#46039f"
            ],
            [
             0.2222222222222222,
             "#7201a8"
            ],
            [
             0.3333333333333333,
             "#9c179e"
            ],
            [
             0.4444444444444444,
             "#bd3786"
            ],
            [
             0.5555555555555556,
             "#d8576b"
            ],
            [
             0.6666666666666666,
             "#ed7953"
            ],
            [
             0.7777777777777778,
             "#fb9f3a"
            ],
            [
             0.8888888888888888,
             "#fdca26"
            ],
            [
             1,
             "#f0f921"
            ]
           ],
           "sequentialminus": [
            [
             0,
             "#0d0887"
            ],
            [
             0.1111111111111111,
             "#46039f"
            ],
            [
             0.2222222222222222,
             "#7201a8"
            ],
            [
             0.3333333333333333,
             "#9c179e"
            ],
            [
             0.4444444444444444,
             "#bd3786"
            ],
            [
             0.5555555555555556,
             "#d8576b"
            ],
            [
             0.6666666666666666,
             "#ed7953"
            ],
            [
             0.7777777777777778,
             "#fb9f3a"
            ],
            [
             0.8888888888888888,
             "#fdca26"
            ],
            [
             1,
             "#f0f921"
            ]
           ]
          },
          "colorway": [
           "#636efa",
           "#EF553B",
           "#00cc96",
           "#ab63fa",
           "#FFA15A",
           "#19d3f3",
           "#FF6692",
           "#B6E880",
           "#FF97FF",
           "#FECB52"
          ],
          "font": {
           "color": "#2a3f5f"
          },
          "geo": {
           "bgcolor": "white",
           "lakecolor": "white",
           "landcolor": "#E5ECF6",
           "showlakes": true,
           "showland": true,
           "subunitcolor": "white"
          },
          "hoverlabel": {
           "align": "left"
          },
          "hovermode": "closest",
          "mapbox": {
           "style": "light"
          },
          "paper_bgcolor": "white",
          "plot_bgcolor": "#E5ECF6",
          "polar": {
           "angularaxis": {
            "gridcolor": "white",
            "linecolor": "white",
            "ticks": ""
           },
           "bgcolor": "#E5ECF6",
           "radialaxis": {
            "gridcolor": "white",
            "linecolor": "white",
            "ticks": ""
           }
          },
          "scene": {
           "xaxis": {
            "backgroundcolor": "#E5ECF6",
            "gridcolor": "white",
            "gridwidth": 2,
            "linecolor": "white",
            "showbackground": true,
            "ticks": "",
            "zerolinecolor": "white"
           },
           "yaxis": {
            "backgroundcolor": "#E5ECF6",
            "gridcolor": "white",
            "gridwidth": 2,
            "linecolor": "white",
            "showbackground": true,
            "ticks": "",
            "zerolinecolor": "white"
           },
           "zaxis": {
            "backgroundcolor": "#E5ECF6",
            "gridcolor": "white",
            "gridwidth": 2,
            "linecolor": "white",
            "showbackground": true,
            "ticks": "",
            "zerolinecolor": "white"
           }
          },
          "shapedefaults": {
           "line": {
            "color": "#2a3f5f"
           }
          },
          "ternary": {
           "aaxis": {
            "gridcolor": "white",
            "linecolor": "white",
            "ticks": ""
           },
           "baxis": {
            "gridcolor": "white",
            "linecolor": "white",
            "ticks": ""
           },
           "bgcolor": "#E5ECF6",
           "caxis": {
            "gridcolor": "white",
            "linecolor": "white",
            "ticks": ""
           }
          },
          "title": {
           "x": 0.05
          },
          "xaxis": {
           "automargin": true,
           "gridcolor": "white",
           "linecolor": "white",
           "ticks": "",
           "title": {
            "standoff": 15
           },
           "zerolinecolor": "white",
           "zerolinewidth": 2
          },
          "yaxis": {
           "automargin": true,
           "gridcolor": "white",
           "linecolor": "white",
           "ticks": "",
           "title": {
            "standoff": 15
           },
           "zerolinecolor": "white",
           "zerolinewidth": 2
          }
         }
        },
        "title": {
         "text": "업종별 수익률 현황"
        },
        "width": 450
       }
      }
     },
     "metadata": {},
     "output_type": "display_data"
    }
   ],
   "source": [
    "chart_name = '업종별 수익률 현황'\n",
    "\n",
    "# With sqrt scaling\n",
    "treemap_fig = px.treemap(\n",
    "    group_tree_df, \n",
    "    title=chart_name,\n",
    "    path=[\n",
    "        px.Constant('KOSPI & KOSDAQ'),\n",
    "        grouping_colname,\n",
    "    ],\n",
    "    values='sqrt_marcap',\n",
    "    # values='marcap',\n",
    "    color='group_weighted_ret',\n",
    "    # hover_data=[],\n",
    "    # color_discrete_sequence=,\n",
    "    color_continuous_scale='RdBu_r',\n",
    "    color_continuous_midpoint=0,\n",
    ")\n",
    "\n",
    "treemap_fig.update_layout(\n",
    "    margin=dict(t=50, l=25, b=25),\n",
    "    width=300+150,\n",
    "    height=400,\n",
    "    legend=dict(orientation='h'),\n",
    "    )\n",
    "treemap_fig.show()\n"
   ]
  },
  {
   "cell_type": "code",
   "execution_count": null,
   "metadata": {},
   "outputs": [],
   "source": []
  },
  {
   "cell_type": "code",
   "execution_count": null,
   "metadata": {},
   "outputs": [],
   "source": []
  }
 ],
 "metadata": {
  "kernelspec": {
   "display_name": ".venv",
   "language": "python",
   "name": "python3"
  },
  "language_info": {
   "codemirror_mode": {
    "name": "ipython",
    "version": 3
   },
   "file_extension": ".py",
   "mimetype": "text/x-python",
   "name": "python",
   "nbconvert_exporter": "python",
   "pygments_lexer": "ipython3",
   "version": "3.9.13"
  },
  "orig_nbformat": 4,
  "vscode": {
   "interpreter": {
    "hash": "f3ef76525381b5480a07d40e52db7841ea51c6c85efb36acd7a69e9dc2905440"
   }
  }
 },
 "nbformat": 4,
 "nbformat_minor": 2
}
