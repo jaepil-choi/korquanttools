{
 "cells": [
  {
   "attachments": {},
   "cell_type": "markdown",
   "metadata": {},
   "source": [
    "# 마이데이터 투자탭 데모 "
   ]
  },
  {
   "attachments": {},
   "cell_type": "markdown",
   "metadata": {},
   "source": [
    "## Import libraries"
   ]
  },
  {
   "cell_type": "code",
   "execution_count": 1,
   "metadata": {},
   "outputs": [],
   "source": [
    "from pathlib import Path\n",
    "\n",
    "import matplotlib.pyplot as plt\n",
    "import seaborn as sns\n",
    "import plotly.express as px\n",
    "import plotly\n",
    "\n",
    "import pandas as pd\n",
    "import numpy as np\n",
    "\n",
    "from sklearn.preprocessing import RobustScaler, PowerTransformer\n",
    "\n",
    "import scipy\n",
    "import statsmodels.api as sm\n",
    "import statsmodels.formula.api as smf\n",
    "from statsmodels.regression.rolling import RollingOLS\n",
    "\n",
    "import pickle"
   ]
  },
  {
   "cell_type": "code",
   "execution_count": 2,
   "metadata": {},
   "outputs": [],
   "source": [
    "import FinanceDataReader as fdr\n",
    "import quantstats as qs"
   ]
  },
  {
   "cell_type": "code",
   "execution_count": 3,
   "metadata": {},
   "outputs": [],
   "source": [
    "## custom libs\n",
    "\n",
    "from korquanttools.pricevolume.loader import KRXPriceDM\n",
    "from korquanttools.pricevolume.utils import DateUtil\n",
    "from korquanttools.pricevolume.config import PathConfig"
   ]
  },
  {
   "cell_type": "code",
   "execution_count": 31,
   "metadata": {},
   "outputs": [],
   "source": [
    "CWD = Path('.').resolve()\n",
    "WOORI_DATA_PATH = CWD / 'woori_data'"
   ]
  },
  {
   "attachments": {},
   "cell_type": "markdown",
   "metadata": {},
   "source": [
    "## Import dataset"
   ]
  },
  {
   "cell_type": "code",
   "execution_count": 56,
   "metadata": {},
   "outputs": [],
   "source": [
    "# Global parameters\n",
    "\n",
    "START = 20140101\n",
    "END = 20221202\n",
    "\n",
    "WINDOW = 252 # trading day 기준\n",
    "# WINDOW = 60 # trading day 기준\n",
    "# WINDOW = 20 # trading day 기준"
   ]
  },
  {
   "cell_type": "code",
   "execution_count": 57,
   "metadata": {},
   "outputs": [
    {
     "name": "stdout",
     "output_type": "stream",
     "text": [
      "\n",
      "        * DM name: KRX_pricevolume\n",
      "        * DM description: Basic price-volume data imported from KRX website & NAVER finance. Has KOSPI, KOSDAQ, KONEX stocks.\n",
      "        * birthday: 20211203\n",
      "        * DM period: 19990101 ~ \n",
      "        * Available data: ['lv1', 'open', 'high', 'low', 'close', 'volume', 'dollarvolume', 'marketcap']\n",
      "        \n"
     ]
    }
   ],
   "source": [
    "# Init data module\n",
    "pricevolume = KRXPriceDM(START, END)\n",
    "pricevolume.get_info()"
   ]
  },
  {
   "attachments": {},
   "cell_type": "markdown",
   "metadata": {},
   "source": [
    "### 수익률"
   ]
  },
  {
   "cell_type": "code",
   "execution_count": 58,
   "metadata": {},
   "outputs": [],
   "source": [
    "## stock return\n",
    "return_df = pd.read_pickle(PathConfig.cache_path / f\"temp_return_{START}_{END}\")"
   ]
  },
  {
   "cell_type": "code",
   "execution_count": 59,
   "metadata": {},
   "outputs": [
    {
     "data": {
      "text/plain": [
       "DatetimeIndex(['2014-01-02', '2014-01-03', '2014-01-06', '2014-01-07',\n",
       "               '2014-01-08', '2014-01-09', '2014-01-10', '2014-01-13',\n",
       "               '2014-01-14', '2014-01-15',\n",
       "               ...\n",
       "               '2022-11-21', '2022-11-22', '2022-11-23', '2022-11-24',\n",
       "               '2022-11-25', '2022-11-28', '2022-11-29', '2022-11-30',\n",
       "               '2022-12-01', '2022-12-02'],\n",
       "              dtype='datetime64[ns]', name='trdDd', length=2190, freq=None)"
      ]
     },
     "execution_count": 59,
     "metadata": {},
     "output_type": "execute_result"
    }
   ],
   "source": [
    "holidays = return_df.isnull().all(axis=1)\n",
    "tradingdays = ~holidays\n",
    "\n",
    "holidays = holidays.index[holidays]\n",
    "tradingdays = tradingdays.index[tradingdays]\n",
    "\n",
    "tradingdays"
   ]
  },
  {
   "cell_type": "code",
   "execution_count": 60,
   "metadata": {},
   "outputs": [],
   "source": [
    "return_df = return_df.loc[tradingdays, :].copy()"
   ]
  },
  {
   "attachments": {},
   "cell_type": "markdown",
   "metadata": {},
   "source": [
    "### 수익률 통계량 확인 \n",
    "\n",
    "- 업종 서브페이지에서 어느 정도를 '보합'으로 잡을지 판단하기 위해 확인"
   ]
  },
  {
   "cell_type": "code",
   "execution_count": 61,
   "metadata": {},
   "outputs": [
    {
     "data": {
      "text/html": [
       "<div>\n",
       "<style scoped>\n",
       "    .dataframe tbody tr th:only-of-type {\n",
       "        vertical-align: middle;\n",
       "    }\n",
       "\n",
       "    .dataframe tbody tr th {\n",
       "        vertical-align: top;\n",
       "    }\n",
       "\n",
       "    .dataframe thead th {\n",
       "        text-align: right;\n",
       "    }\n",
       "</style>\n",
       "<table border=\"1\" class=\"dataframe\">\n",
       "  <thead>\n",
       "    <tr style=\"text-align: right;\">\n",
       "      <th></th>\n",
       "      <th>0</th>\n",
       "    </tr>\n",
       "  </thead>\n",
       "  <tbody>\n",
       "    <tr>\n",
       "      <th>count</th>\n",
       "      <td>5.081375e+06</td>\n",
       "    </tr>\n",
       "    <tr>\n",
       "      <th>mean</th>\n",
       "      <td>5.401327e-02</td>\n",
       "    </tr>\n",
       "    <tr>\n",
       "      <th>std</th>\n",
       "      <td>3.832073e+00</td>\n",
       "    </tr>\n",
       "    <tr>\n",
       "      <th>min</th>\n",
       "      <td>-9.969191e+01</td>\n",
       "    </tr>\n",
       "    <tr>\n",
       "      <th>25%</th>\n",
       "      <td>-1.330377e+00</td>\n",
       "    </tr>\n",
       "    <tr>\n",
       "      <th>50%</th>\n",
       "      <td>0.000000e+00</td>\n",
       "    </tr>\n",
       "    <tr>\n",
       "      <th>75%</th>\n",
       "      <td>1.129235e+00</td>\n",
       "    </tr>\n",
       "    <tr>\n",
       "      <th>max</th>\n",
       "      <td>1.605686e+03</td>\n",
       "    </tr>\n",
       "  </tbody>\n",
       "</table>\n",
       "</div>"
      ],
      "text/plain": [
       "                  0\n",
       "count  5.081375e+06\n",
       "mean   5.401327e-02\n",
       "std    3.832073e+00\n",
       "min   -9.969191e+01\n",
       "25%   -1.330377e+00\n",
       "50%    0.000000e+00\n",
       "75%    1.129235e+00\n",
       "max    1.605686e+03"
      ]
     },
     "execution_count": 61,
     "metadata": {},
     "output_type": "execute_result"
    }
   ],
   "source": [
    "pd.DataFrame(return_df.to_numpy().flatten() * 100).describe()"
   ]
  },
  {
   "attachments": {},
   "cell_type": "markdown",
   "metadata": {},
   "source": [
    "### 시가총액"
   ]
  },
  {
   "cell_type": "code",
   "execution_count": 62,
   "metadata": {},
   "outputs": [],
   "source": [
    "# Data for 2nd Factor: SMB (Small Minus Big)\n",
    "\n",
    "marcap_df = pricevolume.get_data(\"marketcap\")"
   ]
  },
  {
   "cell_type": "code",
   "execution_count": 63,
   "metadata": {},
   "outputs": [],
   "source": [
    "marcap_df = marcap_df.astype(float) # object로 되어있었음"
   ]
  },
  {
   "cell_type": "code",
   "execution_count": 64,
   "metadata": {},
   "outputs": [],
   "source": [
    "marcap_df = marcap_df.loc[tradingdays, :].copy()"
   ]
  },
  {
   "attachments": {},
   "cell_type": "markdown",
   "metadata": {},
   "source": [
    "### Grouping"
   ]
  },
  {
   "cell_type": "code",
   "execution_count": 65,
   "metadata": {},
   "outputs": [],
   "source": [
    "with open('INDUSTRY_NAME2CODE.pickle', 'rb') as handle:\n",
    "    INDUSTRY_NAME2CODE = pickle.load(handle)"
   ]
  },
  {
   "cell_type": "code",
   "execution_count": 66,
   "metadata": {},
   "outputs": [],
   "source": [
    "INDUSTRY_CODE2NAME = {v:k for k,v in INDUSTRY_NAME2CODE.items()}"
   ]
  },
  {
   "cell_type": "code",
   "execution_count": 68,
   "metadata": {},
   "outputs": [],
   "source": [
    "ksic_df = pd.read_excel(WOORI_DATA_PATH / 'ksic_lv1lv2.xlsx', skiprows=2)\n",
    "ksic_df = ksic_df.ffill()\n",
    "ksic_df = ksic_df.drop_duplicates()\n",
    "# ksic_df.to_excel('ksic.xlsx')"
   ]
  },
  {
   "attachments": {},
   "cell_type": "markdown",
   "metadata": {},
   "source": [
    "KRX 산업분류는 표준산업분류를 기초로 했다고는 하나 굉장히 근본없이 한거같다. 제대로 된 업종 분류로 보이지 않음. \n",
    "\n",
    "대분류와 중분류가 섞여있는 모습을 보이고, 서비스업 등은 무엇을 지칭하는 것인지 불분명하다. \n",
    "\n",
    "KRX에 설명을 적어놓지도 않았다. 이런... \n",
    "\n",
    "그래서 아래와 같이 일단 내가 직접 노가다로 대분류 표준산업분류와 매핑을 시켜봤다. "
   ]
  },
  {
   "attachments": {},
   "cell_type": "markdown",
   "metadata": {},
   "source": [
    " 0: '서비스업', -->  전문, 과학 및 기술 서비스업(70~73)\n",
    "\n",
    " 1: '기타금융', --> 금융 및 보험업(64~66)\n",
    "\n",
    " 2: '섬유의복', --> 제조업(10~34)\n",
    "\n",
    " 3: '운수창고업', --> 운수 및 창고업(49~52)\n",
    "\n",
    " 4: '음식료품', --> 제조업(10~34)\n",
    "\n",
    " 5: '화학', --> 제조업(10~34)\n",
    "\n",
    " 6: '철강금속', --> 제조업(10~34)\n",
    "\n",
    " 7: '유통업', --> 운수 및 창고업(49~52)\n",
    "\n",
    " 8: '건설업', --> 건설업(41~42)\n",
    "\n",
    " 9: '증권', --> 금융 및 보험업(64~66)\n",
    "\n",
    " 10: '전기전자', --> 제조업(10~34)\n",
    "\n",
    " 11: '의약품', --> 제조업(10~34)\n",
    "\n",
    " 12: '기계', --> 제조업(10~34)\n",
    "\n",
    " 13: '종이목재', --> 제조업(10~34)\n",
    "\n",
    " 14: '통신업', --> 정보통신업(58~63)\n",
    "\n",
    " 15: '기타제조업', --> 제조업(10~34)\n",
    "\n",
    " 16: '보험', --> 금융 및 보험업(64~66)\n",
    "\n",
    " 17: '운수장비', --> 제조업(10~34)\n",
    "\n",
    " 18: '전기가스업', --> 전기, 가스, 증기 및 공기 조절 공급업(35)\n",
    "\n",
    " 19: '비금속광물', --> 광업(05~08)\n",
    "\n",
    " 20: '은행', --> 금융 및 보험업(64~66)\n",
    "\n",
    " 21: '광업', --> 광업(05~08)\n",
    "\n",
    " 22: '농업, 임업 및 어업', --> 농업, 임업 및 어업(01~03)\n",
    "\n",
    " 23: '의료정밀', --> 제조업(10~34)\n",
    "\n",
    " 24: '반도체', --> 제조업(10~34)\n",
    "\n",
    " 25: '금속', --> 제조업(10~34)\n",
    "\n",
    " 26: '기타서비스', --> 전문, 과학 및 기술 서비스업(70~73)\n",
    "\n",
    " 27: '방송서비스', --> 정보통신업(58~63)\n",
    "\n",
    " 28: '유통', --> 운수 및 창고업(49~52)\n",
    "\n",
    " 29: '제약', --> 제조업(10~34)\n",
    "\n",
    " 30: '통신장비', --> 제조업(10~34)\n",
    "\n",
    " 31: 'IT부품', --> 제조업(10~34)\n",
    "\n",
    " 32: '기계·장비', --> 제조업(10~34)\n",
    "\n",
    " 33: '오락·문화', --> 예술, 스포츠 및 여가관련 서비스업(90~91)\n",
    "\n",
    " 34: '운송장비·부품', --> 제조업(10~34)\n",
    "\n",
    " 35: '건설', --> 건설업(41~42)\n",
    "\n",
    " 36: '전기·가스·수도', --> 전기, 가스, 증기 및 공기 조절 공급업(35)\n",
    "\n",
    " 37: '소프트웨어', --> 정보통신업(58~63)\n",
    "\n",
    " 38: '인터넷', --> 정보통신업(58~63)\n",
    "\n",
    " 39: '디지털컨텐츠', --> 정보통신업(58~63)\n",
    "\n",
    " 40: '출판·매체복제', --> 정보통신업(58~63)\n",
    "\n",
    " 41: '금융', --> 금융 및 보험업(64~66)\n",
    "\n",
    " 42: '운송', --> 운수 및 창고업(49~52)\n",
    "\n",
    " 43: '통신서비스', --> 정보통신업(58~63)\n",
    "\n",
    " 44: '일반전기전자', --> 제조업(10~34)\n",
    "\n",
    " 45: '섬유·의류', --> 제조업(10~34)\n",
    "\n",
    " 46: '컴퓨터서비스', --> 정보통신업(58~63)\n",
    "\n",
    " 47: '음식료·담배', --> 제조업(10~34)\n",
    "\n",
    " 48: '비금속', --> 제조업(10~34)\n",
    "\n",
    " 49: '종이·목재', --> 제조업(10~34)\n",
    "\n",
    " 50: '의료·정밀기기', --> 제조업(10~34)\n",
    "\n",
    " 51: '기타제조', --> 제조업(10~34)\n",
    "\n",
    " 52: '정보기기', --> 제조업(10~34)\n",
    "\n",
    " 53: '숙박·음식' --> 숙박 및 음식점업(55~56)"
   ]
  },
  {
   "cell_type": "code",
   "execution_count": 69,
   "metadata": {},
   "outputs": [],
   "source": [
    "CODE2KSIC_MAPPING = {\n",
    "    0: '전문, 과학 및 기술 서비스업(70~73)',\n",
    "    1: '금융 및 보험업(64~66)',\n",
    "    2: '제조업(10~34)',\n",
    "    3: '운수 및 창고업(49~52)',\n",
    "    4: '제조업(10~34)',\n",
    "    5: '제조업(10~34)',\n",
    "    6: '제조업(10~34)',\n",
    "    7: '운수 및 창고업(49~52)',\n",
    "    8: '건설업(41~42)',\n",
    "    9: '금융 및 보험업(64~66)',\n",
    "    10: '제조업(10~34)',\n",
    "    11: '제조업(10~34)',\n",
    "    12: '제조업(10~34)',\n",
    "    13: '제조업(10~34)',\n",
    "    14: '정보통신업(58~63)',\n",
    "    15: '제조업(10~34)',\n",
    "    16: '금융 및 보험업(64~66)',\n",
    "    17: '제조업(10~34)',\n",
    "    18: '전기, 가스, 증기 및 공기 조절 공급업(35)',\n",
    "    19: '광업(05~08)',\n",
    "    20: '금융 및 보험업(64~66)',\n",
    "    21: '광업(05~08)',\n",
    "    22: '농업, 임업 및 어업(01~03)',\n",
    "    23: '제조업(10~34)',\n",
    "    24: '제조업(10~34)',\n",
    "    25: '제조업(10~34)',\n",
    "    26: '전문, 과학 및 기술 서비스업(70~73)',\n",
    "    27: '정보통신업(58~63)',\n",
    "    28: '운수 및 창고업(49~52)',\n",
    "    29: '제조업(10~34)',\n",
    "    30: '제조업(10~34)',\n",
    "    31: '제조업(10~34)',\n",
    "    32: '제조업(10~34)',\n",
    "    33: '예술, 스포츠 및 여가관련 서비스업(90~91)',\n",
    "    34: '제조업(10~34)',\n",
    "    35: '건설업(41~42)',\n",
    "    36: '전기, 가스, 증기 및 공기 조절 공급업(35)',\n",
    "    37: '정보통신업(58~63)',\n",
    "    38: '정보통신업(58~63)',\n",
    "    39: '정보통신업(58~63)',\n",
    "    40: '정보통신업(58~63)',\n",
    "    41: '금융 및 보험업(64~66)',\n",
    "    42: '운수 및 창고업(49~52)',\n",
    "    43: '정보통신업(58~63)',\n",
    "    44: '제조업(10~34)',\n",
    "    45: '제조업(10~34)',\n",
    "    46: '정보통신업(58~63)',\n",
    "    47: '제조업(10~34)',\n",
    "    48: '제조업(10~34)',\n",
    "    49: '제조업(10~34)',\n",
    "    50: '제조업(10~34)',\n",
    "    51: '제조업(10~34)',\n",
    "    52: '제조업(10~34)',\n",
    "    53: '숙박 및 음식점업(55~56)',\n",
    "    }"
   ]
  },
  {
   "cell_type": "code",
   "execution_count": 70,
   "metadata": {},
   "outputs": [],
   "source": [
    "industry_df = pd.read_pickle('krx_industry_df_20140101_20221202.pickle')"
   ]
  },
  {
   "cell_type": "code",
   "execution_count": 71,
   "metadata": {},
   "outputs": [],
   "source": [
    "with open('sid2name.pkl', 'rb') as p:\n",
    "    sid2name = pickle.load(p)"
   ]
  },
  {
   "attachments": {},
   "cell_type": "markdown",
   "metadata": {},
   "source": [
    "## 업종별 수익률"
   ]
  },
  {
   "cell_type": "code",
   "execution_count": 109,
   "metadata": {},
   "outputs": [],
   "source": [
    "# DATE_BEFORE = -1\n",
    "\n",
    "DATE = '2022-05-10'"
   ]
  },
  {
   "cell_type": "code",
   "execution_count": 110,
   "metadata": {},
   "outputs": [],
   "source": [
    "last_return_v = return_df.loc[DATE, :]\n",
    "\n",
    "last_marcap_v = marcap_df.loc[DATE, :]\n",
    "last_group_v = industry_df.loc[DATE, :]"
   ]
  },
  {
   "cell_type": "code",
   "execution_count": 111,
   "metadata": {},
   "outputs": [
    {
     "data": {
      "text/plain": [
       "613"
      ]
     },
     "execution_count": 111,
     "metadata": {},
     "output_type": "execute_result"
    }
   ],
   "source": [
    "last_group_v.isna().sum()"
   ]
  },
  {
   "cell_type": "code",
   "execution_count": 112,
   "metadata": {},
   "outputs": [],
   "source": [
    "last_lv1_df = pd.DataFrame(data={\n",
    "    'ret': last_return_v,\n",
    "    'marcap': last_marcap_v,\n",
    "    'group_idx': last_group_v,\n",
    "})"
   ]
  },
  {
   "cell_type": "code",
   "execution_count": 113,
   "metadata": {},
   "outputs": [
    {
     "data": {
      "text/plain": [
       "3110"
      ]
     },
     "execution_count": 113,
     "metadata": {},
     "output_type": "execute_result"
    }
   ],
   "source": [
    "len(last_lv1_df)"
   ]
  },
  {
   "cell_type": "code",
   "execution_count": 114,
   "metadata": {},
   "outputs": [
    {
     "data": {
      "text/html": [
       "<div>\n",
       "<style scoped>\n",
       "    .dataframe tbody tr th:only-of-type {\n",
       "        vertical-align: middle;\n",
       "    }\n",
       "\n",
       "    .dataframe tbody tr th {\n",
       "        vertical-align: top;\n",
       "    }\n",
       "\n",
       "    .dataframe thead th {\n",
       "        text-align: right;\n",
       "    }\n",
       "</style>\n",
       "<table border=\"1\" class=\"dataframe\">\n",
       "  <thead>\n",
       "    <tr style=\"text-align: right;\">\n",
       "      <th></th>\n",
       "      <th>ISU_SRT_CD</th>\n",
       "      <th>ret</th>\n",
       "      <th>marcap</th>\n",
       "      <th>group_idx</th>\n",
       "    </tr>\n",
       "  </thead>\n",
       "  <tbody>\n",
       "    <tr>\n",
       "      <th>0</th>\n",
       "      <td>000020</td>\n",
       "      <td>-0.004255</td>\n",
       "      <td>3.267982e+11</td>\n",
       "      <td>11.0</td>\n",
       "    </tr>\n",
       "    <tr>\n",
       "      <th>1</th>\n",
       "      <td>000040</td>\n",
       "      <td>-0.009756</td>\n",
       "      <td>7.806376e+10</td>\n",
       "      <td>17.0</td>\n",
       "    </tr>\n",
       "    <tr>\n",
       "      <th>2</th>\n",
       "      <td>000050</td>\n",
       "      <td>-0.009646</td>\n",
       "      <td>4.221952e+11</td>\n",
       "      <td>7.0</td>\n",
       "    </tr>\n",
       "    <tr>\n",
       "      <th>3</th>\n",
       "      <td>000060</td>\n",
       "      <td>-0.032941</td>\n",
       "      <td>4.957688e+12</td>\n",
       "      <td>16.0</td>\n",
       "    </tr>\n",
       "    <tr>\n",
       "      <th>4</th>\n",
       "      <td>000070</td>\n",
       "      <td>-0.022864</td>\n",
       "      <td>6.954188e+11</td>\n",
       "      <td>1.0</td>\n",
       "    </tr>\n",
       "    <tr>\n",
       "      <th>...</th>\n",
       "      <td>...</td>\n",
       "      <td>...</td>\n",
       "      <td>...</td>\n",
       "      <td>...</td>\n",
       "    </tr>\n",
       "    <tr>\n",
       "      <th>2492</th>\n",
       "      <td>405640</td>\n",
       "      <td>-0.002268</td>\n",
       "      <td>9.977000e+09</td>\n",
       "      <td>41.0</td>\n",
       "    </tr>\n",
       "    <tr>\n",
       "      <th>2493</th>\n",
       "      <td>412930</td>\n",
       "      <td>0.002278</td>\n",
       "      <td>1.358720e+10</td>\n",
       "      <td>41.0</td>\n",
       "    </tr>\n",
       "    <tr>\n",
       "      <th>2494</th>\n",
       "      <td>413600</td>\n",
       "      <td>-0.009259</td>\n",
       "      <td>9.175250e+09</td>\n",
       "      <td>41.0</td>\n",
       "    </tr>\n",
       "    <tr>\n",
       "      <th>2495</th>\n",
       "      <td>415580</td>\n",
       "      <td>-0.004608</td>\n",
       "      <td>1.146960e+10</td>\n",
       "      <td>41.0</td>\n",
       "    </tr>\n",
       "    <tr>\n",
       "      <th>2496</th>\n",
       "      <td>419270</td>\n",
       "      <td>0.002212</td>\n",
       "      <td>9.750825e+09</td>\n",
       "      <td>41.0</td>\n",
       "    </tr>\n",
       "  </tbody>\n",
       "</table>\n",
       "<p>2497 rows × 4 columns</p>\n",
       "</div>"
      ],
      "text/plain": [
       "     ISU_SRT_CD       ret        marcap  group_idx\n",
       "0        000020 -0.004255  3.267982e+11       11.0\n",
       "1        000040 -0.009756  7.806376e+10       17.0\n",
       "2        000050 -0.009646  4.221952e+11        7.0\n",
       "3        000060 -0.032941  4.957688e+12       16.0\n",
       "4        000070 -0.022864  6.954188e+11        1.0\n",
       "...         ...       ...           ...        ...\n",
       "2492     405640 -0.002268  9.977000e+09       41.0\n",
       "2493     412930  0.002278  1.358720e+10       41.0\n",
       "2494     413600 -0.009259  9.175250e+09       41.0\n",
       "2495     415580 -0.004608  1.146960e+10       41.0\n",
       "2496     419270  0.002212  9.750825e+09       41.0\n",
       "\n",
       "[2497 rows x 4 columns]"
      ]
     },
     "execution_count": 114,
     "metadata": {},
     "output_type": "execute_result"
    }
   ],
   "source": [
    "last_lv1_df = last_lv1_df.dropna()\n",
    "last_lv1_df = last_lv1_df.reset_index()\n",
    "last_lv1_df"
   ]
  },
  {
   "cell_type": "code",
   "execution_count": 115,
   "metadata": {},
   "outputs": [],
   "source": [
    "## 표준산업분류로 mapping, 더 이상 idx가 아님. string(object) 임.\n",
    "\n",
    "last_lv1_df['group_idx'] = last_lv1_df['group_idx'].apply(lambda g: CODE2KSIC_MAPPING[g])"
   ]
  },
  {
   "cell_type": "code",
   "execution_count": 116,
   "metadata": {},
   "outputs": [],
   "source": [
    "group_marcap_weight_df = last_lv1_df[['group_idx', 'marcap']].groupby(by='group_idx').sum()\n",
    "group_marcap_weight_df.reset_index(drop=False, inplace=True)\n",
    "\n",
    "group_marcap_weight_df.rename(columns={'marcap': 'group_marcap_sum'}, inplace=True)"
   ]
  },
  {
   "cell_type": "code",
   "execution_count": 117,
   "metadata": {},
   "outputs": [
    {
     "data": {
      "text/plain": [
       "{'건설업(41~42)': 26198153562911.0,\n",
       " '광업(05~08)': 22016484273354.0,\n",
       " '금융 및 보험업(64~66)': 286160436212795.0,\n",
       " '농업, 임업 및 어업(01~03)': 1646800025400.0,\n",
       " '숙박 및 음식점업(55~56)': 1332430883950.0,\n",
       " '예술, 스포츠 및 여가관련 서비스업(90~91)': 14035161673064.0,\n",
       " '운수 및 창고업(49~52)': 140819542641616.0,\n",
       " '전기, 가스, 증기 및 공기 조절 공급업(35)': 22190285003505.0,\n",
       " '전문, 과학 및 기술 서비스업(70~73)': 233379486585672.0,\n",
       " '정보통신업(58~63)': 83672094817526.0,\n",
       " '제조업(10~34)': 1592704830290189.0}"
      ]
     },
     "execution_count": 117,
     "metadata": {},
     "output_type": "execute_result"
    }
   ],
   "source": [
    "KSIC2GRPMARCAP = {k:v for k, v in group_marcap_weight_df.values}\n",
    "KSIC2GRPMARCAP"
   ]
  },
  {
   "cell_type": "code",
   "execution_count": 118,
   "metadata": {},
   "outputs": [],
   "source": [
    "last_lv1_df.loc[:, 'group_marcap_sum'] = last_lv1_df['group_idx'].apply(lambda g_nm: KSIC2GRPMARCAP[g_nm])"
   ]
  },
  {
   "cell_type": "code",
   "execution_count": 119,
   "metadata": {},
   "outputs": [],
   "source": [
    "\n",
    "last_lv1_df['group_marcap_weight'] = last_lv1_df['marcap'] / last_lv1_df['group_marcap_sum']\n",
    "last_lv1_df['group_weighted_ret'] = last_lv1_df['ret'] * last_lv1_df['group_marcap_weight']\n"
   ]
  },
  {
   "cell_type": "code",
   "execution_count": 120,
   "metadata": {},
   "outputs": [],
   "source": [
    "group_tree_df = last_lv1_df[['group_idx', 'group_weighted_ret', 'marcap']].groupby(by='group_idx').sum()\n",
    "group_tree_df.reset_index(drop=False, inplace=True)"
   ]
  },
  {
   "cell_type": "code",
   "execution_count": 121,
   "metadata": {},
   "outputs": [],
   "source": [
    "group_tree_df['group_weighted_ret'] = 100 * group_tree_df['group_weighted_ret']"
   ]
  },
  {
   "cell_type": "code",
   "execution_count": 122,
   "metadata": {},
   "outputs": [
    {
     "data": {
      "text/plain": [
       "Index(['group_idx', 'group_weighted_ret', 'marcap'], dtype='object')"
      ]
     },
     "execution_count": 122,
     "metadata": {},
     "output_type": "execute_result"
    }
   ],
   "source": [
    "group_tree_df.columns"
   ]
  },
  {
   "cell_type": "code",
   "execution_count": 123,
   "metadata": {},
   "outputs": [],
   "source": [
    "group_tree_df['log_marcap'] = group_tree_df['marcap'].apply(np.log)"
   ]
  },
  {
   "cell_type": "code",
   "execution_count": 124,
   "metadata": {},
   "outputs": [],
   "source": [
    "scaler = RobustScaler()\n",
    "\n",
    "group_tree_df['robust_marcap'] = scaler.fit_transform(group_tree_df['marcap'].to_frame())\n",
    "# group_tree_df['robust_marcap'] = group_tree_df['robust_marcap'] + abs(group_tree_df['robust_marcap'].min())"
   ]
  },
  {
   "cell_type": "code",
   "execution_count": 125,
   "metadata": {},
   "outputs": [],
   "source": [
    "scaler = PowerTransformer(method='yeo-johnson')\n",
    "\n",
    "group_tree_df['power_marcap'] = scaler.fit_transform(group_tree_df['marcap'].to_frame())"
   ]
  },
  {
   "cell_type": "code",
   "execution_count": 126,
   "metadata": {},
   "outputs": [],
   "source": [
    "group_tree_df['sqrt_marcap'] = group_tree_df['marcap'].apply(np.sqrt)"
   ]
  },
  {
   "cell_type": "code",
   "execution_count": 134,
   "metadata": {},
   "outputs": [
    {
     "data": {
      "application/vnd.plotly.v1+json": {
       "config": {
        "plotlyServerURL": "https://plot.ly"
       },
       "data": [
        {
         "branchvalues": "total",
         "customdata": [
          [
           -0.9744357528379726
          ],
          [
           -0.6106160810193961
          ],
          [
           -1.493100293049812
          ],
          [
           0.8680288727509955
          ],
          [
           -1.1961425822313227
          ],
          [
           -0.8405491250958677
          ],
          [
           -0.7868532438827607
          ],
          [
           -0.29696673051147315
          ],
          [
           -0.8062396751410221
          ],
          [
           -0.09372210630476345
          ],
          [
           -0.3034073346444692
          ],
          [
           -0.5258878211667127
          ]
         ],
         "domain": {
          "x": [
           0,
           1
          ],
          "y": [
           0,
           1
          ]
         },
         "hovertemplate": "labels=%{label}<br>marcap=%{value}<br>parent=%{parent}<br>id=%{id}<br>group_weighted_ret=%{color}<extra></extra>",
         "ids": [
          "KOSPI & KOSDAQ/건설업(41~42)",
          "KOSPI & KOSDAQ/광업(05~08)",
          "KOSPI & KOSDAQ/금융 및 보험업(64~66)",
          "KOSPI & KOSDAQ/농업, 임업 및 어업(01~03)",
          "KOSPI & KOSDAQ/숙박 및 음식점업(55~56)",
          "KOSPI & KOSDAQ/예술, 스포츠 및 여가관련 서비스업(90~91)",
          "KOSPI & KOSDAQ/운수 및 창고업(49~52)",
          "KOSPI & KOSDAQ/전기, 가스, 증기 및 공기 조절 공급업(35)",
          "KOSPI & KOSDAQ/전문, 과학 및 기술 서비스업(70~73)",
          "KOSPI & KOSDAQ/정보통신업(58~63)",
          "KOSPI & KOSDAQ/제조업(10~34)",
          "KOSPI & KOSDAQ"
         ],
         "labels": [
          "건설업(41~42)",
          "광업(05~08)",
          "금융 및 보험업(64~66)",
          "농업, 임업 및 어업(01~03)",
          "숙박 및 음식점업(55~56)",
          "예술, 스포츠 및 여가관련 서비스업(90~91)",
          "운수 및 창고업(49~52)",
          "전기, 가스, 증기 및 공기 조절 공급업(35)",
          "전문, 과학 및 기술 서비스업(70~73)",
          "정보통신업(58~63)",
          "제조업(10~34)",
          "KOSPI & KOSDAQ"
         ],
         "marker": {
          "coloraxis": "coloraxis",
          "colors": [
           -0.9744357528379726,
           -0.6106160810193961,
           -1.493100293049812,
           0.8680288727509955,
           -1.1961425822313227,
           -0.8405491250958677,
           -0.7868532438827607,
           -0.29696673051147315,
           -0.8062396751410221,
           -0.09372210630476345,
           -0.3034073346444692,
           -0.5258878211667127
          ]
         },
         "name": "",
         "parents": [
          "KOSPI & KOSDAQ",
          "KOSPI & KOSDAQ",
          "KOSPI & KOSDAQ",
          "KOSPI & KOSDAQ",
          "KOSPI & KOSDAQ",
          "KOSPI & KOSDAQ",
          "KOSPI & KOSDAQ",
          "KOSPI & KOSDAQ",
          "KOSPI & KOSDAQ",
          "KOSPI & KOSDAQ",
          "KOSPI & KOSDAQ",
          ""
         ],
         "type": "treemap",
         "values": [
          26198153562911,
          22016484273354,
          286160436212795,
          1646800025400,
          1332430883950,
          14035161673064,
          140819542641616,
          22190285003505,
          233379486585672,
          83672094817526,
          1592704830290189,
          2424155705969982
         ]
        }
       ],
       "layout": {
        "coloraxis": {
         "cmid": 0,
         "colorbar": {
          "title": {
           "text": "group_weighted_ret"
          }
         },
         "colorscale": [
          [
           0,
           "rgb(5,48,97)"
          ],
          [
           0.1,
           "rgb(33,102,172)"
          ],
          [
           0.2,
           "rgb(67,147,195)"
          ],
          [
           0.3,
           "rgb(146,197,222)"
          ],
          [
           0.4,
           "rgb(209,229,240)"
          ],
          [
           0.5,
           "rgb(247,247,247)"
          ],
          [
           0.6,
           "rgb(253,219,199)"
          ],
          [
           0.7,
           "rgb(244,165,130)"
          ],
          [
           0.8,
           "rgb(214,96,77)"
          ],
          [
           0.9,
           "rgb(178,24,43)"
          ],
          [
           1,
           "rgb(103,0,31)"
          ]
         ]
        },
        "height": 400,
        "legend": {
         "orientation": "h",
         "tracegroupgap": 0
        },
        "margin": {
         "b": 25,
         "l": 25,
         "t": 50
        },
        "template": {
         "data": {
          "bar": [
           {
            "error_x": {
             "color": "#2a3f5f"
            },
            "error_y": {
             "color": "#2a3f5f"
            },
            "marker": {
             "line": {
              "color": "#E5ECF6",
              "width": 0.5
             },
             "pattern": {
              "fillmode": "overlay",
              "size": 10,
              "solidity": 0.2
             }
            },
            "type": "bar"
           }
          ],
          "barpolar": [
           {
            "marker": {
             "line": {
              "color": "#E5ECF6",
              "width": 0.5
             },
             "pattern": {
              "fillmode": "overlay",
              "size": 10,
              "solidity": 0.2
             }
            },
            "type": "barpolar"
           }
          ],
          "carpet": [
           {
            "aaxis": {
             "endlinecolor": "#2a3f5f",
             "gridcolor": "white",
             "linecolor": "white",
             "minorgridcolor": "white",
             "startlinecolor": "#2a3f5f"
            },
            "baxis": {
             "endlinecolor": "#2a3f5f",
             "gridcolor": "white",
             "linecolor": "white",
             "minorgridcolor": "white",
             "startlinecolor": "#2a3f5f"
            },
            "type": "carpet"
           }
          ],
          "choropleth": [
           {
            "colorbar": {
             "outlinewidth": 0,
             "ticks": ""
            },
            "type": "choropleth"
           }
          ],
          "contour": [
           {
            "colorbar": {
             "outlinewidth": 0,
             "ticks": ""
            },
            "colorscale": [
             [
              0,
              "#0d0887"
             ],
             [
              0.1111111111111111,
              "#46039f"
             ],
             [
              0.2222222222222222,
              "#7201a8"
             ],
             [
              0.3333333333333333,
              "#9c179e"
             ],
             [
              0.4444444444444444,
              "#bd3786"
             ],
             [
              0.5555555555555556,
              "#d8576b"
             ],
             [
              0.6666666666666666,
              "#ed7953"
             ],
             [
              0.7777777777777778,
              "#fb9f3a"
             ],
             [
              0.8888888888888888,
              "#fdca26"
             ],
             [
              1,
              "#f0f921"
             ]
            ],
            "type": "contour"
           }
          ],
          "contourcarpet": [
           {
            "colorbar": {
             "outlinewidth": 0,
             "ticks": ""
            },
            "type": "contourcarpet"
           }
          ],
          "heatmap": [
           {
            "colorbar": {
             "outlinewidth": 0,
             "ticks": ""
            },
            "colorscale": [
             [
              0,
              "#0d0887"
             ],
             [
              0.1111111111111111,
              "#46039f"
             ],
             [
              0.2222222222222222,
              "#7201a8"
             ],
             [
              0.3333333333333333,
              "#9c179e"
             ],
             [
              0.4444444444444444,
              "#bd3786"
             ],
             [
              0.5555555555555556,
              "#d8576b"
             ],
             [
              0.6666666666666666,
              "#ed7953"
             ],
             [
              0.7777777777777778,
              "#fb9f3a"
             ],
             [
              0.8888888888888888,
              "#fdca26"
             ],
             [
              1,
              "#f0f921"
             ]
            ],
            "type": "heatmap"
           }
          ],
          "heatmapgl": [
           {
            "colorbar": {
             "outlinewidth": 0,
             "ticks": ""
            },
            "colorscale": [
             [
              0,
              "#0d0887"
             ],
             [
              0.1111111111111111,
              "#46039f"
             ],
             [
              0.2222222222222222,
              "#7201a8"
             ],
             [
              0.3333333333333333,
              "#9c179e"
             ],
             [
              0.4444444444444444,
              "#bd3786"
             ],
             [
              0.5555555555555556,
              "#d8576b"
             ],
             [
              0.6666666666666666,
              "#ed7953"
             ],
             [
              0.7777777777777778,
              "#fb9f3a"
             ],
             [
              0.8888888888888888,
              "#fdca26"
             ],
             [
              1,
              "#f0f921"
             ]
            ],
            "type": "heatmapgl"
           }
          ],
          "histogram": [
           {
            "marker": {
             "pattern": {
              "fillmode": "overlay",
              "size": 10,
              "solidity": 0.2
             }
            },
            "type": "histogram"
           }
          ],
          "histogram2d": [
           {
            "colorbar": {
             "outlinewidth": 0,
             "ticks": ""
            },
            "colorscale": [
             [
              0,
              "#0d0887"
             ],
             [
              0.1111111111111111,
              "#46039f"
             ],
             [
              0.2222222222222222,
              "#7201a8"
             ],
             [
              0.3333333333333333,
              "#9c179e"
             ],
             [
              0.4444444444444444,
              "#bd3786"
             ],
             [
              0.5555555555555556,
              "#d8576b"
             ],
             [
              0.6666666666666666,
              "#ed7953"
             ],
             [
              0.7777777777777778,
              "#fb9f3a"
             ],
             [
              0.8888888888888888,
              "#fdca26"
             ],
             [
              1,
              "#f0f921"
             ]
            ],
            "type": "histogram2d"
           }
          ],
          "histogram2dcontour": [
           {
            "colorbar": {
             "outlinewidth": 0,
             "ticks": ""
            },
            "colorscale": [
             [
              0,
              "#0d0887"
             ],
             [
              0.1111111111111111,
              "#46039f"
             ],
             [
              0.2222222222222222,
              "#7201a8"
             ],
             [
              0.3333333333333333,
              "#9c179e"
             ],
             [
              0.4444444444444444,
              "#bd3786"
             ],
             [
              0.5555555555555556,
              "#d8576b"
             ],
             [
              0.6666666666666666,
              "#ed7953"
             ],
             [
              0.7777777777777778,
              "#fb9f3a"
             ],
             [
              0.8888888888888888,
              "#fdca26"
             ],
             [
              1,
              "#f0f921"
             ]
            ],
            "type": "histogram2dcontour"
           }
          ],
          "mesh3d": [
           {
            "colorbar": {
             "outlinewidth": 0,
             "ticks": ""
            },
            "type": "mesh3d"
           }
          ],
          "parcoords": [
           {
            "line": {
             "colorbar": {
              "outlinewidth": 0,
              "ticks": ""
             }
            },
            "type": "parcoords"
           }
          ],
          "pie": [
           {
            "automargin": true,
            "type": "pie"
           }
          ],
          "scatter": [
           {
            "fillpattern": {
             "fillmode": "overlay",
             "size": 10,
             "solidity": 0.2
            },
            "type": "scatter"
           }
          ],
          "scatter3d": [
           {
            "line": {
             "colorbar": {
              "outlinewidth": 0,
              "ticks": ""
             }
            },
            "marker": {
             "colorbar": {
              "outlinewidth": 0,
              "ticks": ""
             }
            },
            "type": "scatter3d"
           }
          ],
          "scattercarpet": [
           {
            "marker": {
             "colorbar": {
              "outlinewidth": 0,
              "ticks": ""
             }
            },
            "type": "scattercarpet"
           }
          ],
          "scattergeo": [
           {
            "marker": {
             "colorbar": {
              "outlinewidth": 0,
              "ticks": ""
             }
            },
            "type": "scattergeo"
           }
          ],
          "scattergl": [
           {
            "marker": {
             "colorbar": {
              "outlinewidth": 0,
              "ticks": ""
             }
            },
            "type": "scattergl"
           }
          ],
          "scattermapbox": [
           {
            "marker": {
             "colorbar": {
              "outlinewidth": 0,
              "ticks": ""
             }
            },
            "type": "scattermapbox"
           }
          ],
          "scatterpolar": [
           {
            "marker": {
             "colorbar": {
              "outlinewidth": 0,
              "ticks": ""
             }
            },
            "type": "scatterpolar"
           }
          ],
          "scatterpolargl": [
           {
            "marker": {
             "colorbar": {
              "outlinewidth": 0,
              "ticks": ""
             }
            },
            "type": "scatterpolargl"
           }
          ],
          "scatterternary": [
           {
            "marker": {
             "colorbar": {
              "outlinewidth": 0,
              "ticks": ""
             }
            },
            "type": "scatterternary"
           }
          ],
          "surface": [
           {
            "colorbar": {
             "outlinewidth": 0,
             "ticks": ""
            },
            "colorscale": [
             [
              0,
              "#0d0887"
             ],
             [
              0.1111111111111111,
              "#46039f"
             ],
             [
              0.2222222222222222,
              "#7201a8"
             ],
             [
              0.3333333333333333,
              "#9c179e"
             ],
             [
              0.4444444444444444,
              "#bd3786"
             ],
             [
              0.5555555555555556,
              "#d8576b"
             ],
             [
              0.6666666666666666,
              "#ed7953"
             ],
             [
              0.7777777777777778,
              "#fb9f3a"
             ],
             [
              0.8888888888888888,
              "#fdca26"
             ],
             [
              1,
              "#f0f921"
             ]
            ],
            "type": "surface"
           }
          ],
          "table": [
           {
            "cells": {
             "fill": {
              "color": "#EBF0F8"
             },
             "line": {
              "color": "white"
             }
            },
            "header": {
             "fill": {
              "color": "#C8D4E3"
             },
             "line": {
              "color": "white"
             }
            },
            "type": "table"
           }
          ]
         },
         "layout": {
          "annotationdefaults": {
           "arrowcolor": "#2a3f5f",
           "arrowhead": 0,
           "arrowwidth": 1
          },
          "autotypenumbers": "strict",
          "coloraxis": {
           "colorbar": {
            "outlinewidth": 0,
            "ticks": ""
           }
          },
          "colorscale": {
           "diverging": [
            [
             0,
             "#8e0152"
            ],
            [
             0.1,
             "#c51b7d"
            ],
            [
             0.2,
             "#de77ae"
            ],
            [
             0.3,
             "#f1b6da"
            ],
            [
             0.4,
             "#fde0ef"
            ],
            [
             0.5,
             "#f7f7f7"
            ],
            [
             0.6,
             "#e6f5d0"
            ],
            [
             0.7,
             "#b8e186"
            ],
            [
             0.8,
             "#7fbc41"
            ],
            [
             0.9,
             "#4d9221"
            ],
            [
             1,
             "#276419"
            ]
           ],
           "sequential": [
            [
             0,
             "#0d0887"
            ],
            [
             0.1111111111111111,
             "#46039f"
            ],
            [
             0.2222222222222222,
             "#7201a8"
            ],
            [
             0.3333333333333333,
             "#9c179e"
            ],
            [
             0.4444444444444444,
             "#bd3786"
            ],
            [
             0.5555555555555556,
             "#d8576b"
            ],
            [
             0.6666666666666666,
             "#ed7953"
            ],
            [
             0.7777777777777778,
             "#fb9f3a"
            ],
            [
             0.8888888888888888,
             "#fdca26"
            ],
            [
             1,
             "#f0f921"
            ]
           ],
           "sequentialminus": [
            [
             0,
             "#0d0887"
            ],
            [
             0.1111111111111111,
             "#46039f"
            ],
            [
             0.2222222222222222,
             "#7201a8"
            ],
            [
             0.3333333333333333,
             "#9c179e"
            ],
            [
             0.4444444444444444,
             "#bd3786"
            ],
            [
             0.5555555555555556,
             "#d8576b"
            ],
            [
             0.6666666666666666,
             "#ed7953"
            ],
            [
             0.7777777777777778,
             "#fb9f3a"
            ],
            [
             0.8888888888888888,
             "#fdca26"
            ],
            [
             1,
             "#f0f921"
            ]
           ]
          },
          "colorway": [
           "#636efa",
           "#EF553B",
           "#00cc96",
           "#ab63fa",
           "#FFA15A",
           "#19d3f3",
           "#FF6692",
           "#B6E880",
           "#FF97FF",
           "#FECB52"
          ],
          "font": {
           "color": "#2a3f5f"
          },
          "geo": {
           "bgcolor": "white",
           "lakecolor": "white",
           "landcolor": "#E5ECF6",
           "showlakes": true,
           "showland": true,
           "subunitcolor": "white"
          },
          "hoverlabel": {
           "align": "left"
          },
          "hovermode": "closest",
          "mapbox": {
           "style": "light"
          },
          "paper_bgcolor": "white",
          "plot_bgcolor": "#E5ECF6",
          "polar": {
           "angularaxis": {
            "gridcolor": "white",
            "linecolor": "white",
            "ticks": ""
           },
           "bgcolor": "#E5ECF6",
           "radialaxis": {
            "gridcolor": "white",
            "linecolor": "white",
            "ticks": ""
           }
          },
          "scene": {
           "xaxis": {
            "backgroundcolor": "#E5ECF6",
            "gridcolor": "white",
            "gridwidth": 2,
            "linecolor": "white",
            "showbackground": true,
            "ticks": "",
            "zerolinecolor": "white"
           },
           "yaxis": {
            "backgroundcolor": "#E5ECF6",
            "gridcolor": "white",
            "gridwidth": 2,
            "linecolor": "white",
            "showbackground": true,
            "ticks": "",
            "zerolinecolor": "white"
           },
           "zaxis": {
            "backgroundcolor": "#E5ECF6",
            "gridcolor": "white",
            "gridwidth": 2,
            "linecolor": "white",
            "showbackground": true,
            "ticks": "",
            "zerolinecolor": "white"
           }
          },
          "shapedefaults": {
           "line": {
            "color": "#2a3f5f"
           }
          },
          "ternary": {
           "aaxis": {
            "gridcolor": "white",
            "linecolor": "white",
            "ticks": ""
           },
           "baxis": {
            "gridcolor": "white",
            "linecolor": "white",
            "ticks": ""
           },
           "bgcolor": "#E5ECF6",
           "caxis": {
            "gridcolor": "white",
            "linecolor": "white",
            "ticks": ""
           }
          },
          "title": {
           "x": 0.05
          },
          "xaxis": {
           "automargin": true,
           "gridcolor": "white",
           "linecolor": "white",
           "ticks": "",
           "title": {
            "standoff": 15
           },
           "zerolinecolor": "white",
           "zerolinewidth": 2
          },
          "yaxis": {
           "automargin": true,
           "gridcolor": "white",
           "linecolor": "white",
           "ticks": "",
           "title": {
            "standoff": 15
           },
           "zerolinecolor": "white",
           "zerolinewidth": 2
          }
         }
        },
        "title": {
         "text": "업종별 수익률 현황"
        },
        "width": 450
       }
      }
     },
     "metadata": {},
     "output_type": "display_data"
    }
   ],
   "source": [
    "chart_name = '업종별 수익률 현황'\n",
    "\n",
    "treemap_fig = px.treemap(\n",
    "    group_tree_df, \n",
    "    title=chart_name,\n",
    "    path=[\n",
    "        px.Constant('KOSPI & KOSDAQ'),\n",
    "        'group_idx',\n",
    "    ],\n",
    "    # values='power_marcap',\n",
    "    values='marcap',\n",
    "    color='group_weighted_ret',\n",
    "    # hover_data=[],\n",
    "    # color_discrete_sequence=,\n",
    "    color_continuous_scale='RdBu_r',\n",
    "    color_continuous_midpoint=0,\n",
    ")\n",
    "\n",
    "treemap_fig.update_layout(\n",
    "    margin=dict(t=50, l=25, b=25),\n",
    "    width=300+150,\n",
    "    height=400,\n",
    "    legend=dict(orientation='h'),\n",
    "    )\n",
    "treemap_fig.show()\n"
   ]
  },
  {
   "cell_type": "code",
   "execution_count": null,
   "metadata": {},
   "outputs": [],
   "source": []
  }
 ],
 "metadata": {
  "kernelspec": {
   "display_name": ".venv",
   "language": "python",
   "name": "python3"
  },
  "language_info": {
   "codemirror_mode": {
    "name": "ipython",
    "version": 3
   },
   "file_extension": ".py",
   "mimetype": "text/x-python",
   "name": "python",
   "nbconvert_exporter": "python",
   "pygments_lexer": "ipython3",
   "version": "3.8.6"
  },
  "orig_nbformat": 4,
  "vscode": {
   "interpreter": {
    "hash": "f3ef76525381b5480a07d40e52db7841ea51c6c85efb36acd7a69e9dc2905440"
   }
  }
 },
 "nbformat": 4,
 "nbformat_minor": 2
}
