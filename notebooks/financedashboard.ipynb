{
 "cells": [
  {
   "cell_type": "markdown",
   "metadata": {},
   "source": [
    "# Finance Dashboard "
   ]
  },
  {
   "cell_type": "markdown",
   "metadata": {},
   "source": [
    "## 0. Import libraries"
   ]
  },
  {
   "cell_type": "code",
   "execution_count": null,
   "metadata": {},
   "outputs": [],
   "source": [
    "import pandas as pd\n",
    "import numpy as np\n",
    "\n",
    "import matplotlib.pyplot as plt\n",
    "import seaborn as sns\n",
    "# import streamlit as st"
   ]
  },
  {
   "cell_type": "code",
   "execution_count": null,
   "metadata": {},
   "outputs": [],
   "source": [
    "import FinanceDataReader as fdr\n",
    "import quantstats as qs"
   ]
  },
  {
   "cell_type": "code",
   "execution_count": null,
   "metadata": {},
   "outputs": [],
   "source": [
    "## custom libs\n",
    "\n",
    "from korquanttools.pricevolume.loader import KRXPriceDM\n",
    "from korquanttools.pricevolume.utils import DateUtil\n",
    "from korquanttools.pricevolume.config import PathConfig"
   ]
  },
  {
   "cell_type": "code",
   "execution_count": null,
   "metadata": {},
   "outputs": [],
   "source": [
    "import json\n",
    "import pickle"
   ]
  },
  {
   "cell_type": "code",
   "execution_count": null,
   "metadata": {},
   "outputs": [],
   "source": [
    "from tqdm import tqdm"
   ]
  },
  {
   "cell_type": "markdown",
   "metadata": {},
   "source": [
    "## 1. Import data\n",
    "\n",
    "- Import price-volume data from KRX using custom lib `korquanttools.pricevolume`"
   ]
  },
  {
   "cell_type": "code",
   "execution_count": null,
   "metadata": {},
   "outputs": [],
   "source": [
    "# Global parameters\n",
    "\n",
    "START = 20140101\n",
    "# START = 20210101\n",
    "END = 20220520"
   ]
  },
  {
   "cell_type": "code",
   "execution_count": null,
   "metadata": {},
   "outputs": [],
   "source": [
    "pricevolume = KRXPriceDM(START, END)"
   ]
  },
  {
   "cell_type": "code",
   "execution_count": null,
   "metadata": {},
   "outputs": [],
   "source": [
    "pricevolume.get_info()"
   ]
  },
  {
   "cell_type": "code",
   "execution_count": null,
   "metadata": {},
   "outputs": [],
   "source": [
    "# Download price-volume data from KRX.\n",
    "# Also, build cache for faster access. (Both lv1 and lv2)\n",
    "\n",
    "close_df = pricevolume.get_data(\"close\")"
   ]
  },
  {
   "cell_type": "code",
   "execution_count": null,
   "metadata": {},
   "outputs": [],
   "source": [
    "close_df"
   ]
  },
  {
   "cell_type": "code",
   "execution_count": null,
   "metadata": {},
   "outputs": [],
   "source": [
    "close_df.loc[:, '005930'] # 삼성전자. \n",
    "# 분할했었기 때문에 가격이 100만원 대에서 6만원 대로 변한다. "
   ]
  },
  {
   "cell_type": "code",
   "execution_count": null,
   "metadata": {},
   "outputs": [],
   "source": [
    "volume_df = pricevolume.get_data('volume')\n",
    "dollarvolume_df = pricevolume.get_data('dollarvolume')\n",
    "marketcap_df = pricevolume.get_data('marketcap') # TODO: 현재 object로 불러와져 직접 astype(float) 해줘야 함. fix it. "
   ]
  },
  {
   "cell_type": "code",
   "execution_count": null,
   "metadata": {},
   "outputs": [],
   "source": [
    "volume_df"
   ]
  },
  {
   "cell_type": "code",
   "execution_count": null,
   "metadata": {},
   "outputs": [],
   "source": [
    "volume_df.loc[:, '005930'] # 삼성전자\n",
    "# volume 역시 unadjusted volume이다. "
   ]
  },
  {
   "cell_type": "markdown",
   "metadata": {},
   "source": [
    "## 2. Create additional DMs\n"
   ]
  },
  {
   "cell_type": "markdown",
   "metadata": {},
   "source": [
    "- KOSPI, KOSDAQ"
   ]
  },
  {
   "cell_type": "code",
   "execution_count": null,
   "metadata": {},
   "outputs": [],
   "source": [
    "lv1_df = pricevolume.get_data('lv1')"
   ]
  },
  {
   "cell_type": "code",
   "execution_count": null,
   "metadata": {},
   "outputs": [],
   "source": [
    "market_cat_df = lv1_df[['ISU_SRT_CD', 'MKT_NM', 'trdDd']].copy()"
   ]
  },
  {
   "cell_type": "code",
   "execution_count": null,
   "metadata": {},
   "outputs": [],
   "source": [
    "market_cat_df['MKT_NM'].unique()"
   ]
  },
  {
   "cell_type": "code",
   "execution_count": null,
   "metadata": {},
   "outputs": [],
   "source": [
    "market_cat_df.loc[:, 'is_KOSPI'] = (market_cat_df['MKT_NM'] == 'KOSPI')\n",
    "market_cat_df.loc[:, 'is_KOSDAQ'] = (market_cat_df['MKT_NM'] == 'KOSDAQ')\n",
    "market_cat_df.loc[:, 'is_KONEX'] = (market_cat_df['MKT_NM'] == 'KONEX')"
   ]
  },
  {
   "cell_type": "code",
   "execution_count": null,
   "metadata": {},
   "outputs": [],
   "source": [
    "kospi_univ_df = pd.pivot(market_cat_df, index='trdDd', columns='ISU_SRT_CD', values='is_KOSPI')\n",
    "kosdaq_univ_df = pd.pivot(market_cat_df, index='trdDd', columns='ISU_SRT_CD', values='is_KOSDAQ')\n",
    "konex_univ_df = pd.pivot(market_cat_df, index='trdDd', columns='ISU_SRT_CD', values='is_KONEX')"
   ]
  },
  {
   "cell_type": "code",
   "execution_count": null,
   "metadata": {},
   "outputs": [],
   "source": [
    "kosdaq_univ_df.loc[:, '221610'] # 자안바이오 상폐일: 2022-01-05\t"
   ]
  },
  {
   "cell_type": "markdown",
   "metadata": {},
   "source": [
    "\n",
    "- tradingday DM by processing `pricevolume`\n"
   ]
  },
  {
   "cell_type": "code",
   "execution_count": null,
   "metadata": {},
   "outputs": [],
   "source": [
    "holidays = close_df.isnull().all(axis=1)\n",
    "tradingdays = ~holidays\n",
    "\n",
    "holidays = holidays.index[holidays]\n",
    "tradingdays = tradingdays.index[tradingdays]\n",
    "\n",
    "tradingdays"
   ]
  },
  {
   "cell_type": "markdown",
   "metadata": {},
   "source": [
    "\n",
    "- return & adj.open/high/low/close/volume DM by mixing `pricevolume` and `FinanceDataReader`\n"
   ]
  },
  {
   "cell_type": "code",
   "execution_count": null,
   "metadata": {},
   "outputs": [],
   "source": [
    "universe_df = close_df.notnull()\n",
    "universe_df"
   ]
  },
  {
   "cell_type": "code",
   "execution_count": null,
   "metadata": {},
   "outputs": [],
   "source": [
    "# # Takes about 20 mins\n",
    "\n",
    "# adjOpen_df = close_df.copy()\n",
    "# adjHigh_df = close_df.copy()\n",
    "# adjLow_df = close_df.copy()\n",
    "# adjClose_df = close_df.copy()\n",
    "# adjVolume_df = close_df.copy()\n",
    "# return_df = close_df.copy()\n",
    "\n",
    "# for ii in tqdm(close_df.columns):\n",
    "#     ii_df = fdr.DataReader(ii, DateUtil.numdate2stddate(START), DateUtil.numdate2stddate(END))\n",
    "\n",
    "#     adjOpen_df.loc[:, ii] = ii_df['Open']\n",
    "#     adjHigh_df.loc[:, ii] = ii_df['High']\n",
    "#     adjLow_df.loc[:, ii] = ii_df['Low']\n",
    "#     adjClose_df.loc[:, ii] = ii_df['Close']\n",
    "#     adjVolume_df.loc[:, ii] = ii_df['Volume']\n",
    "#     return_df.loc[:, ii] = ii_df['Change']\n",
    "    "
   ]
  },
  {
   "cell_type": "code",
   "execution_count": null,
   "metadata": {},
   "outputs": [],
   "source": [
    "# adjOpen_df.to_pickle(PathConfig.cache_path / f\"temp_adjOpen_{START}_{END}\")\n",
    "# adjHigh_df.to_pickle(PathConfig.cache_path / f\"temp_adjHigh_{START}_{END}\")\n",
    "# adjLow_df.to_pickle(PathConfig.cache_path / f\"temp_adjLow_{START}_{END}\")\n",
    "# adjClose_df.to_pickle(PathConfig.cache_path / f\"temp_adjClose_{START}_{END}\")\n",
    "# adjVolume_df.to_pickle(PathConfig.cache_path / f\"temp_adjVolume_{START}_{END}\")\n",
    "# return_df.to_pickle(PathConfig.cache_path / f\"temp_return_{START}_{END}\")"
   ]
  },
  {
   "cell_type": "code",
   "execution_count": null,
   "metadata": {},
   "outputs": [],
   "source": [
    "PathConfig.cache_path"
   ]
  },
  {
   "cell_type": "code",
   "execution_count": null,
   "metadata": {},
   "outputs": [],
   "source": [
    "adjOpen_df = pd.read_pickle(PathConfig.cache_path / f\"temp_adjOpen_{START}_{END}\")\n",
    "adjHigh_df = pd.read_pickle(PathConfig.cache_path / f\"temp_adjHigh_{START}_{END}\")\n",
    "adjLow_df = pd.read_pickle(PathConfig.cache_path / f\"temp_adjLow_{START}_{END}\")\n",
    "adjClose_df = pd.read_pickle(PathConfig.cache_path / f\"temp_adjClose_{START}_{END}\")\n",
    "adjVolume_df = pd.read_pickle(PathConfig.cache_path / f\"temp_adjVolume_{START}_{END}\")\n",
    "return_df = pd.read_pickle(PathConfig.cache_path / f\"temp_return_{START}_{END}\")"
   ]
  },
  {
   "cell_type": "markdown",
   "metadata": {},
   "source": [
    "\n",
    "### (Skip for now) Download additional data for new DMs \n",
    "\n",
    "- KRX sector DM downloaded from KRX\n",
    "    - NOT PIT(Point-In-Time)\n",
    "- Corporate finance fundamental analysis data from DART (using 3rd party libraries)\n",
    "    - Later on, when I need it"
   ]
  },
  {
   "cell_type": "code",
   "execution_count": 101,
   "metadata": {},
   "outputs": [
    {
     "data": {
      "text/plain": [
       "'0.9.33'"
      ]
     },
     "execution_count": 101,
     "metadata": {},
     "output_type": "execute_result"
    }
   ],
   "source": [
    "fdr.__version__"
   ]
  },
  {
   "cell_type": "code",
   "execution_count": null,
   "metadata": {},
   "outputs": [],
   "source": [
    "kospi_index_df = fdr.DataReader('KS11', DateUtil.numdate2stddate(START), DateUtil.numdate2stddate(END))"
   ]
  },
  {
   "cell_type": "code",
   "execution_count": null,
   "metadata": {},
   "outputs": [],
   "source": [
    "kospi_index_df"
   ]
  },
  {
   "cell_type": "code",
   "execution_count": null,
   "metadata": {},
   "outputs": [],
   "source": [
    "kospi_firstday_value = kospi_index_df['Close'].iloc[0]\n",
    "kospi_firstday_value"
   ]
  },
  {
   "cell_type": "code",
   "execution_count": 117,
   "metadata": {},
   "outputs": [
    {
     "data": {
      "text/plain": [
       "<AxesSubplot:xlabel='Date'>"
      ]
     },
     "execution_count": 117,
     "metadata": {},
     "output_type": "execute_result"
    },
    {
     "data": {
      "image/png": "[encoded data removed]",
      "text/plain": [
       "<Figure size 432x288 with 1 Axes>"
      ]
     },
     "metadata": {
      "needs_background": "light"
     },
     "output_type": "display_data"
    }
   ],
   "source": [
    "kospi_index_df['Close'].plot()"
   ]
  },
  {
   "cell_type": "code",
   "execution_count": null,
   "metadata": {},
   "outputs": [],
   "source": [
    "kospi_adjClose_df = adjClose_df[kospi_univ_df]\n",
    "kospi_marketcap_df = marketcap_df[kospi_univ_df]"
   ]
  },
  {
   "cell_type": "code",
   "execution_count": null,
   "metadata": {},
   "outputs": [],
   "source": [
    "kospi_adjClose_df = kospi_adjClose_df.loc[tradingdays, :]\n",
    "kospi_marketcap_df = kospi_marketcap_df.loc[tradingdays, :]"
   ]
  },
  {
   "cell_type": "code",
   "execution_count": 111,
   "metadata": {},
   "outputs": [],
   "source": [
    "kospi_marketcap_df = kospi_marketcap_df.astype(float)"
   ]
  },
  {
   "cell_type": "code",
   "execution_count": 112,
   "metadata": {},
   "outputs": [
    {
     "data": {
      "text/html": [
       "<div>\n",
       "<style scoped>\n",
       "    .dataframe tbody tr th:only-of-type {\n",
       "        vertical-align: middle;\n",
       "    }\n",
       "\n",
       "    .dataframe tbody tr th {\n",
       "        vertical-align: top;\n",
       "    }\n",
       "\n",
       "    .dataframe thead th {\n",
       "        text-align: right;\n",
       "    }\n",
       "</style>\n",
       "<table border=\"1\" class=\"dataframe\">\n",
       "  <thead>\n",
       "    <tr style=\"text-align: right;\">\n",
       "      <th>ISU_SRT_CD</th>\n",
       "      <th>000020</th>\n",
       "      <th>000040</th>\n",
       "      <th>000050</th>\n",
       "      <th>000060</th>\n",
       "      <th>000070</th>\n",
       "      <th>000075</th>\n",
       "      <th>000080</th>\n",
       "      <th>000087</th>\n",
       "      <th>000100</th>\n",
       "      <th>000105</th>\n",
       "      <th>...</th>\n",
       "      <th>37550L</th>\n",
       "      <th>388050</th>\n",
       "      <th>389140</th>\n",
       "      <th>405640</th>\n",
       "      <th>412930</th>\n",
       "      <th>413600</th>\n",
       "      <th>415580</th>\n",
       "      <th>419270</th>\n",
       "      <th>389260</th>\n",
       "      <th>399720</th>\n",
       "    </tr>\n",
       "    <tr>\n",
       "      <th>trdDd</th>\n",
       "      <th></th>\n",
       "      <th></th>\n",
       "      <th></th>\n",
       "      <th></th>\n",
       "      <th></th>\n",
       "      <th></th>\n",
       "      <th></th>\n",
       "      <th></th>\n",
       "      <th></th>\n",
       "      <th></th>\n",
       "      <th></th>\n",
       "      <th></th>\n",
       "      <th></th>\n",
       "      <th></th>\n",
       "      <th></th>\n",
       "      <th></th>\n",
       "      <th></th>\n",
       "      <th></th>\n",
       "      <th></th>\n",
       "      <th></th>\n",
       "      <th></th>\n",
       "    </tr>\n",
       "  </thead>\n",
       "  <tbody>\n",
       "    <tr>\n",
       "      <th>2014-01-02</th>\n",
       "      <td>1.240157e+11</td>\n",
       "      <td>5.227152e+10</td>\n",
       "      <td>2.778912e+11</td>\n",
       "      <td>1.570596e+12</td>\n",
       "      <td>6.005292e+11</td>\n",
       "      <td>9.912291e+09</td>\n",
       "      <td>1.525406e+12</td>\n",
       "      <td>1.904283e+10</td>\n",
       "      <td>2.035340e+12</td>\n",
       "      <td>2.203634e+10</td>\n",
       "      <td>...</td>\n",
       "      <td>NaN</td>\n",
       "      <td>NaN</td>\n",
       "      <td>NaN</td>\n",
       "      <td>NaN</td>\n",
       "      <td>NaN</td>\n",
       "      <td>NaN</td>\n",
       "      <td>NaN</td>\n",
       "      <td>NaN</td>\n",
       "      <td>NaN</td>\n",
       "      <td>NaN</td>\n",
       "    </tr>\n",
       "    <tr>\n",
       "      <th>2014-01-03</th>\n",
       "      <td>1.268089e+11</td>\n",
       "      <td>5.251021e+10</td>\n",
       "      <td>2.841220e+11</td>\n",
       "      <td>1.560464e+12</td>\n",
       "      <td>5.866394e+11</td>\n",
       "      <td>1.015554e+10</td>\n",
       "      <td>1.504366e+12</td>\n",
       "      <td>1.904283e+10</td>\n",
       "      <td>2.013035e+12</td>\n",
       "      <td>2.196548e+10</td>\n",
       "      <td>...</td>\n",
       "      <td>NaN</td>\n",
       "      <td>NaN</td>\n",
       "      <td>NaN</td>\n",
       "      <td>NaN</td>\n",
       "      <td>NaN</td>\n",
       "      <td>NaN</td>\n",
       "      <td>NaN</td>\n",
       "      <td>NaN</td>\n",
       "      <td>NaN</td>\n",
       "      <td>NaN</td>\n",
       "    </tr>\n",
       "    <tr>\n",
       "      <th>2014-01-06</th>\n",
       "      <td>1.272278e+11</td>\n",
       "      <td>5.251021e+10</td>\n",
       "      <td>2.903527e+11</td>\n",
       "      <td>1.555397e+12</td>\n",
       "      <td>5.939928e+11</td>\n",
       "      <td>1.015554e+10</td>\n",
       "      <td>1.521899e+12</td>\n",
       "      <td>1.853426e+10</td>\n",
       "      <td>2.096679e+12</td>\n",
       "      <td>2.201272e+10</td>\n",
       "      <td>...</td>\n",
       "      <td>NaN</td>\n",
       "      <td>NaN</td>\n",
       "      <td>NaN</td>\n",
       "      <td>NaN</td>\n",
       "      <td>NaN</td>\n",
       "      <td>NaN</td>\n",
       "      <td>NaN</td>\n",
       "      <td>NaN</td>\n",
       "      <td>NaN</td>\n",
       "      <td>NaN</td>\n",
       "    </tr>\n",
       "    <tr>\n",
       "      <th>2014-01-07</th>\n",
       "      <td>1.279261e+11</td>\n",
       "      <td>5.239087e+10</td>\n",
       "      <td>2.903527e+11</td>\n",
       "      <td>1.560464e+12</td>\n",
       "      <td>6.037974e+11</td>\n",
       "      <td>1.010993e+10</td>\n",
       "      <td>1.521899e+12</td>\n",
       "      <td>1.870378e+10</td>\n",
       "      <td>2.197052e+12</td>\n",
       "      <td>2.236700e+10</td>\n",
       "      <td>...</td>\n",
       "      <td>NaN</td>\n",
       "      <td>NaN</td>\n",
       "      <td>NaN</td>\n",
       "      <td>NaN</td>\n",
       "      <td>NaN</td>\n",
       "      <td>NaN</td>\n",
       "      <td>NaN</td>\n",
       "      <td>NaN</td>\n",
       "      <td>NaN</td>\n",
       "      <td>NaN</td>\n",
       "    </tr>\n",
       "    <tr>\n",
       "      <th>2014-01-08</th>\n",
       "      <td>1.321159e+11</td>\n",
       "      <td>5.298757e+10</td>\n",
       "      <td>2.841220e+11</td>\n",
       "      <td>1.560464e+12</td>\n",
       "      <td>6.013462e+11</td>\n",
       "      <td>9.881885e+09</td>\n",
       "      <td>1.511379e+12</td>\n",
       "      <td>1.853426e+10</td>\n",
       "      <td>2.230509e+12</td>\n",
       "      <td>2.231977e+10</td>\n",
       "      <td>...</td>\n",
       "      <td>NaN</td>\n",
       "      <td>NaN</td>\n",
       "      <td>NaN</td>\n",
       "      <td>NaN</td>\n",
       "      <td>NaN</td>\n",
       "      <td>NaN</td>\n",
       "      <td>NaN</td>\n",
       "      <td>NaN</td>\n",
       "      <td>NaN</td>\n",
       "      <td>NaN</td>\n",
       "    </tr>\n",
       "    <tr>\n",
       "      <th>...</th>\n",
       "      <td>...</td>\n",
       "      <td>...</td>\n",
       "      <td>...</td>\n",
       "      <td>...</td>\n",
       "      <td>...</td>\n",
       "      <td>...</td>\n",
       "      <td>...</td>\n",
       "      <td>...</td>\n",
       "      <td>...</td>\n",
       "      <td>...</td>\n",
       "      <td>...</td>\n",
       "      <td>...</td>\n",
       "      <td>...</td>\n",
       "      <td>...</td>\n",
       "      <td>...</td>\n",
       "      <td>...</td>\n",
       "      <td>...</td>\n",
       "      <td>...</td>\n",
       "      <td>...</td>\n",
       "      <td>...</td>\n",
       "      <td>...</td>\n",
       "    </tr>\n",
       "    <tr>\n",
       "      <th>2022-05-16</th>\n",
       "      <td>3.309879e+11</td>\n",
       "      <td>7.604487e+10</td>\n",
       "      <td>4.263074e+11</td>\n",
       "      <td>4.505344e+12</td>\n",
       "      <td>6.997009e+11</td>\n",
       "      <td>1.912525e+10</td>\n",
       "      <td>2.514290e+12</td>\n",
       "      <td>2.373290e+10</td>\n",
       "      <td>4.232779e+12</td>\n",
       "      <td>6.707739e+10</td>\n",
       "      <td>...</td>\n",
       "      <td>8.490043e+10</td>\n",
       "      <td>NaN</td>\n",
       "      <td>NaN</td>\n",
       "      <td>NaN</td>\n",
       "      <td>NaN</td>\n",
       "      <td>NaN</td>\n",
       "      <td>NaN</td>\n",
       "      <td>NaN</td>\n",
       "      <td>NaN</td>\n",
       "      <td>NaN</td>\n",
       "    </tr>\n",
       "    <tr>\n",
       "      <th>2022-05-17</th>\n",
       "      <td>3.323845e+11</td>\n",
       "      <td>7.575645e+10</td>\n",
       "      <td>4.235659e+11</td>\n",
       "      <td>4.613906e+12</td>\n",
       "      <td>7.005574e+11</td>\n",
       "      <td>1.912525e+10</td>\n",
       "      <td>2.591437e+12</td>\n",
       "      <td>2.395893e+10</td>\n",
       "      <td>4.232779e+12</td>\n",
       "      <td>6.695930e+10</td>\n",
       "      <td>...</td>\n",
       "      <td>8.490043e+10</td>\n",
       "      <td>NaN</td>\n",
       "      <td>NaN</td>\n",
       "      <td>NaN</td>\n",
       "      <td>NaN</td>\n",
       "      <td>NaN</td>\n",
       "      <td>NaN</td>\n",
       "      <td>NaN</td>\n",
       "      <td>NaN</td>\n",
       "      <td>NaN</td>\n",
       "    </tr>\n",
       "    <tr>\n",
       "      <th>2022-05-18</th>\n",
       "      <td>3.351776e+11</td>\n",
       "      <td>7.527577e+10</td>\n",
       "      <td>4.167121e+11</td>\n",
       "      <td>4.794844e+12</td>\n",
       "      <td>6.954188e+11</td>\n",
       "      <td>1.915565e+10</td>\n",
       "      <td>2.580917e+12</td>\n",
       "      <td>2.390242e+10</td>\n",
       "      <td>4.291364e+12</td>\n",
       "      <td>6.743167e+10</td>\n",
       "      <td>...</td>\n",
       "      <td>8.373886e+10</td>\n",
       "      <td>NaN</td>\n",
       "      <td>NaN</td>\n",
       "      <td>NaN</td>\n",
       "      <td>NaN</td>\n",
       "      <td>NaN</td>\n",
       "      <td>NaN</td>\n",
       "      <td>NaN</td>\n",
       "      <td>NaN</td>\n",
       "      <td>NaN</td>\n",
       "    </tr>\n",
       "    <tr>\n",
       "      <th>2022-05-19</th>\n",
       "      <td>3.323845e+11</td>\n",
       "      <td>7.498735e+10</td>\n",
       "      <td>4.180829e+11</td>\n",
       "      <td>4.704375e+12</td>\n",
       "      <td>6.842853e+11</td>\n",
       "      <td>1.894281e+10</td>\n",
       "      <td>2.531823e+12</td>\n",
       "      <td>2.345036e+10</td>\n",
       "      <td>4.262072e+12</td>\n",
       "      <td>6.684120e+10</td>\n",
       "      <td>...</td>\n",
       "      <td>8.120452e+10</td>\n",
       "      <td>NaN</td>\n",
       "      <td>NaN</td>\n",
       "      <td>NaN</td>\n",
       "      <td>NaN</td>\n",
       "      <td>NaN</td>\n",
       "      <td>NaN</td>\n",
       "      <td>NaN</td>\n",
       "      <td>NaN</td>\n",
       "      <td>NaN</td>\n",
       "    </tr>\n",
       "    <tr>\n",
       "      <th>2022-05-20</th>\n",
       "      <td>NaN</td>\n",
       "      <td>NaN</td>\n",
       "      <td>NaN</td>\n",
       "      <td>NaN</td>\n",
       "      <td>NaN</td>\n",
       "      <td>NaN</td>\n",
       "      <td>NaN</td>\n",
       "      <td>NaN</td>\n",
       "      <td>NaN</td>\n",
       "      <td>NaN</td>\n",
       "      <td>...</td>\n",
       "      <td>NaN</td>\n",
       "      <td>NaN</td>\n",
       "      <td>NaN</td>\n",
       "      <td>NaN</td>\n",
       "      <td>NaN</td>\n",
       "      <td>NaN</td>\n",
       "      <td>NaN</td>\n",
       "      <td>NaN</td>\n",
       "      <td>NaN</td>\n",
       "      <td>NaN</td>\n",
       "    </tr>\n",
       "  </tbody>\n",
       "</table>\n",
       "<p>2062 rows × 3028 columns</p>\n",
       "</div>"
      ],
      "text/plain": [
       "ISU_SRT_CD        000020        000040        000050        000060  \\\n",
       "trdDd                                                                \n",
       "2014-01-02  1.240157e+11  5.227152e+10  2.778912e+11  1.570596e+12   \n",
       "2014-01-03  1.268089e+11  5.251021e+10  2.841220e+11  1.560464e+12   \n",
       "2014-01-06  1.272278e+11  5.251021e+10  2.903527e+11  1.555397e+12   \n",
       "2014-01-07  1.279261e+11  5.239087e+10  2.903527e+11  1.560464e+12   \n",
       "2014-01-08  1.321159e+11  5.298757e+10  2.841220e+11  1.560464e+12   \n",
       "...                  ...           ...           ...           ...   \n",
       "2022-05-16  3.309879e+11  7.604487e+10  4.263074e+11  4.505344e+12   \n",
       "2022-05-17  3.323845e+11  7.575645e+10  4.235659e+11  4.613906e+12   \n",
       "2022-05-18  3.351776e+11  7.527577e+10  4.167121e+11  4.794844e+12   \n",
       "2022-05-19  3.323845e+11  7.498735e+10  4.180829e+11  4.704375e+12   \n",
       "2022-05-20           NaN           NaN           NaN           NaN   \n",
       "\n",
       "ISU_SRT_CD        000070        000075        000080        000087  \\\n",
       "trdDd                                                                \n",
       "2014-01-02  6.005292e+11  9.912291e+09  1.525406e+12  1.904283e+10   \n",
       "2014-01-03  5.866394e+11  1.015554e+10  1.504366e+12  1.904283e+10   \n",
       "2014-01-06  5.939928e+11  1.015554e+10  1.521899e+12  1.853426e+10   \n",
       "2014-01-07  6.037974e+11  1.010993e+10  1.521899e+12  1.870378e+10   \n",
       "2014-01-08  6.013462e+11  9.881885e+09  1.511379e+12  1.853426e+10   \n",
       "...                  ...           ...           ...           ...   \n",
       "2022-05-16  6.997009e+11  1.912525e+10  2.514290e+12  2.373290e+10   \n",
       "2022-05-17  7.005574e+11  1.912525e+10  2.591437e+12  2.395893e+10   \n",
       "2022-05-18  6.954188e+11  1.915565e+10  2.580917e+12  2.390242e+10   \n",
       "2022-05-19  6.842853e+11  1.894281e+10  2.531823e+12  2.345036e+10   \n",
       "2022-05-20           NaN           NaN           NaN           NaN   \n",
       "\n",
       "ISU_SRT_CD        000100        000105  ...        37550L  388050  389140  \\\n",
       "trdDd                                   ...                                 \n",
       "2014-01-02  2.035340e+12  2.203634e+10  ...           NaN     NaN     NaN   \n",
       "2014-01-03  2.013035e+12  2.196548e+10  ...           NaN     NaN     NaN   \n",
       "2014-01-06  2.096679e+12  2.201272e+10  ...           NaN     NaN     NaN   \n",
       "2014-01-07  2.197052e+12  2.236700e+10  ...           NaN     NaN     NaN   \n",
       "2014-01-08  2.230509e+12  2.231977e+10  ...           NaN     NaN     NaN   \n",
       "...                  ...           ...  ...           ...     ...     ...   \n",
       "2022-05-16  4.232779e+12  6.707739e+10  ...  8.490043e+10     NaN     NaN   \n",
       "2022-05-17  4.232779e+12  6.695930e+10  ...  8.490043e+10     NaN     NaN   \n",
       "2022-05-18  4.291364e+12  6.743167e+10  ...  8.373886e+10     NaN     NaN   \n",
       "2022-05-19  4.262072e+12  6.684120e+10  ...  8.120452e+10     NaN     NaN   \n",
       "2022-05-20           NaN           NaN  ...           NaN     NaN     NaN   \n",
       "\n",
       "ISU_SRT_CD  405640  412930  413600  415580  419270  389260  399720  \n",
       "trdDd                                                               \n",
       "2014-01-02     NaN     NaN     NaN     NaN     NaN     NaN     NaN  \n",
       "2014-01-03     NaN     NaN     NaN     NaN     NaN     NaN     NaN  \n",
       "2014-01-06     NaN     NaN     NaN     NaN     NaN     NaN     NaN  \n",
       "2014-01-07     NaN     NaN     NaN     NaN     NaN     NaN     NaN  \n",
       "2014-01-08     NaN     NaN     NaN     NaN     NaN     NaN     NaN  \n",
       "...            ...     ...     ...     ...     ...     ...     ...  \n",
       "2022-05-16     NaN     NaN     NaN     NaN     NaN     NaN     NaN  \n",
       "2022-05-17     NaN     NaN     NaN     NaN     NaN     NaN     NaN  \n",
       "2022-05-18     NaN     NaN     NaN     NaN     NaN     NaN     NaN  \n",
       "2022-05-19     NaN     NaN     NaN     NaN     NaN     NaN     NaN  \n",
       "2022-05-20     NaN     NaN     NaN     NaN     NaN     NaN     NaN  \n",
       "\n",
       "[2062 rows x 3028 columns]"
      ]
     },
     "execution_count": 112,
     "metadata": {},
     "output_type": "execute_result"
    }
   ],
   "source": [
    "kospi_marketcap_df\n"
   ]
  },
  {
   "cell_type": "code",
   "execution_count": 115,
   "metadata": {},
   "outputs": [
    {
     "data": {
      "text/plain": [
       "trdDd\n",
       "2014-01-02    1967.190000\n",
       "2014-01-03    1921.005495\n",
       "2014-01-06    1936.754471\n",
       "2014-01-07    1945.329104\n",
       "2014-01-08    1939.517307\n",
       "                 ...     \n",
       "2022-05-16    5010.947855\n",
       "2022-05-17    5082.646497\n",
       "2022-05-18    5178.122050\n",
       "2022-05-19    5084.969102\n",
       "2022-05-20       0.000000\n",
       "Length: 2062, dtype: float64"
      ]
     },
     "execution_count": 115,
     "metadata": {},
     "output_type": "execute_result"
    }
   ],
   "source": [
    "kospi_calculated = (kospi_adjClose_df * kospi_marketcap_df).sum(axis=1)\n",
    "normalize_coef = kospi_firstday_value / kospi_calculated.iloc[0]\n",
    "kospi_calculated = kospi_calculated * normalize_coef\n",
    "kospi_calculated"
   ]
  },
  {
   "cell_type": "code",
   "execution_count": 116,
   "metadata": {},
   "outputs": [
    {
     "data": {
      "text/plain": [
       "<AxesSubplot:xlabel='trdDd'>"
      ]
     },
     "execution_count": 116,
     "metadata": {},
     "output_type": "execute_result"
    },
    {
     "data": {
      "image/png": "[encoded data removed]",
      "text/plain": [
       "<Figure size 432x288 with 1 Axes>"
      ]
     },
     "metadata": {
      "needs_background": "light"
     },
     "output_type": "display_data"
    }
   ],
   "source": [
    "kospi_calculated.plot()"
   ]
  },
  {
   "cell_type": "code",
   "execution_count": null,
   "metadata": {},
   "outputs": [
    {
     "data": {
      "text/plain": [
       "<AxesSubplot:xlabel='Date'>"
      ]
     },
     "metadata": {},
     "output_type": "display_data"
    },
    {
     "data": {
      "image/png": "[encoded data removed]",
      "text/plain": [
       "<Figure size 432x288 with 1 Axes>"
      ]
     },
     "metadata": {},
     "output_type": "display_data"
    }
   ],
   "source": [
    "kospi_index_df['Close'].plot()"
   ]
  },
  {
   "cell_type": "markdown",
   "metadata": {},
   "source": [
    "아래는 잠시 우리은행꺼. "
   ]
  },
  {
   "cell_type": "code",
   "execution_count": null,
   "metadata": {},
   "outputs": [],
   "source": [
    "# kospi_ii_l = kospi_univ_df.columns\n",
    "# kospi_ii2dates = {}\n",
    "\n",
    "# for ii in kospi_ii_l:\n",
    "#     dates = kospi_univ_df[ii].index[kospi_univ_df[ii].fillna(False)]\n",
    "#     if len(dates) > 0:\n",
    "#         kospi_ii2dates[ii] = dates"
   ]
  },
  {
   "cell_type": "code",
   "execution_count": null,
   "metadata": {},
   "outputs": [],
   "source": [
    "# kosdaq_ii_l = kosdaq_univ_df.columns\n",
    "# kosdaq_ii2dates = {}\n",
    "\n",
    "# for ii in kosdaq_ii_l:\n",
    "#     dates = kosdaq_univ_df[ii].index[kosdaq_univ_df[ii].fillna(False)]\n",
    "#     if len(dates) > 0:\n",
    "#         kosdaq_ii2dates[ii] = dates"
   ]
  },
  {
   "cell_type": "code",
   "execution_count": null,
   "metadata": {},
   "outputs": [],
   "source": [
    "# pickle.dump(kospi_ii2dates, open('kospi_ii2dates.pickle','wb'))\n",
    "# pickle.dump(kosdaq_ii2dates, open('kosdaq_ii2dates.pickle', 'wb'))"
   ]
  },
  {
   "cell_type": "markdown",
   "metadata": {},
   "source": [
    "## 3. Make price-volume chart graph\n",
    "\n",
    "- Simple price-volume chart using both `seaborn`/`streamlit`\n",
    "- Show biggest winners/losers on mouse hover\n",
    "    - Make pseudo-KOSPI portfolio mimicking KOSPI index\n",
    "    - Show Top 3 winners/losers on the graph "
   ]
  },
  {
   "cell_type": "code",
   "execution_count": null,
   "metadata": {},
   "outputs": [],
   "source": [
    "sns."
   ]
  },
  {
   "cell_type": "markdown",
   "metadata": {},
   "source": [
    "## 4. Make Finviz-style stock tree map"
   ]
  },
  {
   "cell_type": "markdown",
   "metadata": {},
   "source": [
    "## 5. Make return correlation clustering DM \n",
    "\n",
    "- Also, visualize the result"
   ]
  },
  {
   "cell_type": "markdown",
   "metadata": {},
   "source": [
    "## 6. Create NLP news DM"
   ]
  },
  {
   "cell_type": "markdown",
   "metadata": {},
   "source": []
  }
 ],
 "metadata": {
  "interpreter": {
   "hash": "c80c18762abe42d7c75e3daf788625ca4953c83467b1e6b8619a9401f6163468"
  },
  "kernelspec": {
   "display_name": "Python 3.8.10 ('.venv': poetry)",
   "language": "python",
   "name": "python3"
  },
  "language_info": {
   "codemirror_mode": {
    "name": "ipython",
    "version": 3
   },
   "file_extension": ".py",
   "mimetype": "text/x-python",
   "name": "python",
   "nbconvert_exporter": "python",
   "pygments_lexer": "ipython3",
   "version": "3.8.10"
  },
  "orig_nbformat": 4
 },
 "nbformat": 4,
 "nbformat_minor": 2
}
