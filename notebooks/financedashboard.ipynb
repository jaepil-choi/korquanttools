{
 "cells": [
  {
   "cell_type": "markdown",
   "metadata": {},
   "source": [
    "# Finance Dashboard "
   ]
  },
  {
   "cell_type": "markdown",
   "metadata": {},
   "source": [
    "## 0. Import libraries"
   ]
  },
  {
   "cell_type": "code",
   "execution_count": 1,
   "metadata": {},
   "outputs": [],
   "source": [
    "import pandas as pd\n",
    "import numpy as np\n",
    "\n",
    "import matplotlib.pyplot as plt\n",
    "import seaborn as sns\n",
    "# import streamlit as st"
   ]
  },
  {
   "cell_type": "code",
   "execution_count": 2,
   "metadata": {},
   "outputs": [],
   "source": [
    "import FinanceDataReader as fdr\n",
    "import quantstats as qs"
   ]
  },
  {
   "cell_type": "code",
   "execution_count": 3,
   "metadata": {},
   "outputs": [],
   "source": [
    "## custom libs\n",
    "\n",
    "from korquanttools.pricevolume.loader import KRXPriceDM\n",
    "from korquanttools.pricevolume.utils import DateUtil\n",
    "from korquanttools.pricevolume.config import PathConfig"
   ]
  },
  {
   "cell_type": "code",
   "execution_count": 4,
   "metadata": {},
   "outputs": [],
   "source": [
    "import json\n",
    "import pickle"
   ]
  },
  {
   "cell_type": "code",
   "execution_count": 5,
   "metadata": {},
   "outputs": [],
   "source": [
    "from tqdm import tqdm"
   ]
  },
  {
   "cell_type": "markdown",
   "metadata": {},
   "source": [
    "## 1. Import data\n",
    "\n",
    "- Import price-volume data from KRX using custom lib `korquanttools.pricevolume`"
   ]
  },
  {
   "cell_type": "code",
   "execution_count": 6,
   "metadata": {},
   "outputs": [],
   "source": [
    "# Global parameters\n",
    "\n",
    "START = 20140101\n",
    "# START = 20210101\n",
    "END = 20220520"
   ]
  },
  {
   "cell_type": "code",
   "execution_count": 7,
   "metadata": {},
   "outputs": [],
   "source": [
    "pricevolume = KRXPriceDM(START, END)"
   ]
  },
  {
   "cell_type": "code",
   "execution_count": 8,
   "metadata": {},
   "outputs": [
    {
     "name": "stdout",
     "output_type": "stream",
     "text": [
      "\n",
      "        * DM name: KRX_pricevolume\n",
      "        * DM description: Basic price-volume data imported from KRX website & NAVER finance. Has KOSPI, KOSDAQ, KONEX stocks.\n",
      "        * birthday: 20211203\n",
      "        * DM period: 19990101 ~ \n",
      "        * Available data: ['lv1', 'open', 'high', 'low', 'close', 'volume', 'dollarvolume', 'marketcap']\n",
      "        \n"
     ]
    }
   ],
   "source": [
    "pricevolume.get_info()"
   ]
  },
  {
   "cell_type": "code",
   "execution_count": 9,
   "metadata": {},
   "outputs": [],
   "source": [
    "# Download price-volume data from KRX.\n",
    "# Also, build cache for faster access. (Both lv1 and lv2)\n",
    "\n",
    "close_df = pricevolume.get_data(\"close\")"
   ]
  },
  {
   "cell_type": "code",
   "execution_count": 10,
   "metadata": {},
   "outputs": [
    {
     "data": {
      "text/html": [
       "<div>\n",
       "<style scoped>\n",
       "    .dataframe tbody tr th:only-of-type {\n",
       "        vertical-align: middle;\n",
       "    }\n",
       "\n",
       "    .dataframe tbody tr th {\n",
       "        vertical-align: top;\n",
       "    }\n",
       "\n",
       "    .dataframe thead th {\n",
       "        text-align: right;\n",
       "    }\n",
       "</style>\n",
       "<table border=\"1\" class=\"dataframe\">\n",
       "  <thead>\n",
       "    <tr style=\"text-align: right;\">\n",
       "      <th>ISU_SRT_CD</th>\n",
       "      <th>000020</th>\n",
       "      <th>000040</th>\n",
       "      <th>000050</th>\n",
       "      <th>000060</th>\n",
       "      <th>000070</th>\n",
       "      <th>000075</th>\n",
       "      <th>000080</th>\n",
       "      <th>000087</th>\n",
       "      <th>000100</th>\n",
       "      <th>000105</th>\n",
       "      <th>...</th>\n",
       "      <th>37550L</th>\n",
       "      <th>388050</th>\n",
       "      <th>389140</th>\n",
       "      <th>405640</th>\n",
       "      <th>412930</th>\n",
       "      <th>413600</th>\n",
       "      <th>415580</th>\n",
       "      <th>419270</th>\n",
       "      <th>389260</th>\n",
       "      <th>399720</th>\n",
       "    </tr>\n",
       "    <tr>\n",
       "      <th>trdDd</th>\n",
       "      <th></th>\n",
       "      <th></th>\n",
       "      <th></th>\n",
       "      <th></th>\n",
       "      <th></th>\n",
       "      <th></th>\n",
       "      <th></th>\n",
       "      <th></th>\n",
       "      <th></th>\n",
       "      <th></th>\n",
       "      <th></th>\n",
       "      <th></th>\n",
       "      <th></th>\n",
       "      <th></th>\n",
       "      <th></th>\n",
       "      <th></th>\n",
       "      <th></th>\n",
       "      <th></th>\n",
       "      <th></th>\n",
       "      <th></th>\n",
       "      <th></th>\n",
       "    </tr>\n",
       "  </thead>\n",
       "  <tbody>\n",
       "    <tr>\n",
       "      <th>2014-01-01</th>\n",
       "      <td>NaN</td>\n",
       "      <td>NaN</td>\n",
       "      <td>NaN</td>\n",
       "      <td>NaN</td>\n",
       "      <td>NaN</td>\n",
       "      <td>NaN</td>\n",
       "      <td>NaN</td>\n",
       "      <td>NaN</td>\n",
       "      <td>NaN</td>\n",
       "      <td>NaN</td>\n",
       "      <td>...</td>\n",
       "      <td>NaN</td>\n",
       "      <td>NaN</td>\n",
       "      <td>NaN</td>\n",
       "      <td>NaN</td>\n",
       "      <td>NaN</td>\n",
       "      <td>NaN</td>\n",
       "      <td>NaN</td>\n",
       "      <td>NaN</td>\n",
       "      <td>NaN</td>\n",
       "      <td>NaN</td>\n",
       "    </tr>\n",
       "    <tr>\n",
       "      <th>2014-01-02</th>\n",
       "      <td>4440</td>\n",
       "      <td>438</td>\n",
       "      <td>111500</td>\n",
       "      <td>15500</td>\n",
       "      <td>73500</td>\n",
       "      <td>32600</td>\n",
       "      <td>21750</td>\n",
       "      <td>16850</td>\n",
       "      <td>182500</td>\n",
       "      <td>93300</td>\n",
       "      <td>...</td>\n",
       "      <td>NaN</td>\n",
       "      <td>NaN</td>\n",
       "      <td>NaN</td>\n",
       "      <td>NaN</td>\n",
       "      <td>NaN</td>\n",
       "      <td>NaN</td>\n",
       "      <td>NaN</td>\n",
       "      <td>NaN</td>\n",
       "      <td>NaN</td>\n",
       "      <td>NaN</td>\n",
       "    </tr>\n",
       "    <tr>\n",
       "      <th>2014-01-03</th>\n",
       "      <td>4540</td>\n",
       "      <td>440</td>\n",
       "      <td>114000</td>\n",
       "      <td>15400</td>\n",
       "      <td>71800</td>\n",
       "      <td>33400</td>\n",
       "      <td>21450</td>\n",
       "      <td>16850</td>\n",
       "      <td>180500</td>\n",
       "      <td>93000</td>\n",
       "      <td>...</td>\n",
       "      <td>NaN</td>\n",
       "      <td>NaN</td>\n",
       "      <td>NaN</td>\n",
       "      <td>NaN</td>\n",
       "      <td>NaN</td>\n",
       "      <td>NaN</td>\n",
       "      <td>NaN</td>\n",
       "      <td>NaN</td>\n",
       "      <td>NaN</td>\n",
       "      <td>NaN</td>\n",
       "    </tr>\n",
       "    <tr>\n",
       "      <th>2014-01-04</th>\n",
       "      <td>NaN</td>\n",
       "      <td>NaN</td>\n",
       "      <td>NaN</td>\n",
       "      <td>NaN</td>\n",
       "      <td>NaN</td>\n",
       "      <td>NaN</td>\n",
       "      <td>NaN</td>\n",
       "      <td>NaN</td>\n",
       "      <td>NaN</td>\n",
       "      <td>NaN</td>\n",
       "      <td>...</td>\n",
       "      <td>NaN</td>\n",
       "      <td>NaN</td>\n",
       "      <td>NaN</td>\n",
       "      <td>NaN</td>\n",
       "      <td>NaN</td>\n",
       "      <td>NaN</td>\n",
       "      <td>NaN</td>\n",
       "      <td>NaN</td>\n",
       "      <td>NaN</td>\n",
       "      <td>NaN</td>\n",
       "    </tr>\n",
       "    <tr>\n",
       "      <th>2014-01-05</th>\n",
       "      <td>NaN</td>\n",
       "      <td>NaN</td>\n",
       "      <td>NaN</td>\n",
       "      <td>NaN</td>\n",
       "      <td>NaN</td>\n",
       "      <td>NaN</td>\n",
       "      <td>NaN</td>\n",
       "      <td>NaN</td>\n",
       "      <td>NaN</td>\n",
       "      <td>NaN</td>\n",
       "      <td>...</td>\n",
       "      <td>NaN</td>\n",
       "      <td>NaN</td>\n",
       "      <td>NaN</td>\n",
       "      <td>NaN</td>\n",
       "      <td>NaN</td>\n",
       "      <td>NaN</td>\n",
       "      <td>NaN</td>\n",
       "      <td>NaN</td>\n",
       "      <td>NaN</td>\n",
       "      <td>NaN</td>\n",
       "    </tr>\n",
       "    <tr>\n",
       "      <th>...</th>\n",
       "      <td>...</td>\n",
       "      <td>...</td>\n",
       "      <td>...</td>\n",
       "      <td>...</td>\n",
       "      <td>...</td>\n",
       "      <td>...</td>\n",
       "      <td>...</td>\n",
       "      <td>...</td>\n",
       "      <td>...</td>\n",
       "      <td>...</td>\n",
       "      <td>...</td>\n",
       "      <td>...</td>\n",
       "      <td>...</td>\n",
       "      <td>...</td>\n",
       "      <td>...</td>\n",
       "      <td>...</td>\n",
       "      <td>...</td>\n",
       "      <td>...</td>\n",
       "      <td>...</td>\n",
       "      <td>...</td>\n",
       "      <td>...</td>\n",
       "    </tr>\n",
       "    <tr>\n",
       "      <th>2022-05-16</th>\n",
       "      <td>11850</td>\n",
       "      <td>791</td>\n",
       "      <td>15550</td>\n",
       "      <td>37350</td>\n",
       "      <td>81700</td>\n",
       "      <td>62900</td>\n",
       "      <td>35850</td>\n",
       "      <td>21000</td>\n",
       "      <td>57800</td>\n",
       "      <td>56800</td>\n",
       "      <td>...</td>\n",
       "      <td>40200</td>\n",
       "      <td>17250</td>\n",
       "      <td>25200</td>\n",
       "      <td>2185</td>\n",
       "      <td>2195</td>\n",
       "      <td>2460</td>\n",
       "      <td>2160</td>\n",
       "      <td>2205</td>\n",
       "      <td>13950</td>\n",
       "      <td>NaN</td>\n",
       "    </tr>\n",
       "    <tr>\n",
       "      <th>2022-05-17</th>\n",
       "      <td>11900</td>\n",
       "      <td>788</td>\n",
       "      <td>15450</td>\n",
       "      <td>38250</td>\n",
       "      <td>81800</td>\n",
       "      <td>62900</td>\n",
       "      <td>36950</td>\n",
       "      <td>21200</td>\n",
       "      <td>57800</td>\n",
       "      <td>56700</td>\n",
       "      <td>...</td>\n",
       "      <td>40200</td>\n",
       "      <td>17450</td>\n",
       "      <td>25400</td>\n",
       "      <td>2185</td>\n",
       "      <td>2205</td>\n",
       "      <td>2535</td>\n",
       "      <td>2155</td>\n",
       "      <td>2215</td>\n",
       "      <td>14350</td>\n",
       "      <td>NaN</td>\n",
       "    </tr>\n",
       "    <tr>\n",
       "      <th>2022-05-18</th>\n",
       "      <td>12000</td>\n",
       "      <td>783</td>\n",
       "      <td>15200</td>\n",
       "      <td>39750</td>\n",
       "      <td>81200</td>\n",
       "      <td>63000</td>\n",
       "      <td>36800</td>\n",
       "      <td>21150</td>\n",
       "      <td>58600</td>\n",
       "      <td>57100</td>\n",
       "      <td>...</td>\n",
       "      <td>39650</td>\n",
       "      <td>17650</td>\n",
       "      <td>25450</td>\n",
       "      <td>2190</td>\n",
       "      <td>2200</td>\n",
       "      <td>2540</td>\n",
       "      <td>2160</td>\n",
       "      <td>2210</td>\n",
       "      <td>13700</td>\n",
       "      <td>NaN</td>\n",
       "    </tr>\n",
       "    <tr>\n",
       "      <th>2022-05-19</th>\n",
       "      <td>11900</td>\n",
       "      <td>780</td>\n",
       "      <td>15250</td>\n",
       "      <td>39000</td>\n",
       "      <td>79900</td>\n",
       "      <td>62300</td>\n",
       "      <td>36100</td>\n",
       "      <td>20750</td>\n",
       "      <td>58200</td>\n",
       "      <td>56600</td>\n",
       "      <td>...</td>\n",
       "      <td>38450</td>\n",
       "      <td>17650</td>\n",
       "      <td>24750</td>\n",
       "      <td>2185</td>\n",
       "      <td>2185</td>\n",
       "      <td>2490</td>\n",
       "      <td>2160</td>\n",
       "      <td>2215</td>\n",
       "      <td>17800</td>\n",
       "      <td>NaN</td>\n",
       "    </tr>\n",
       "    <tr>\n",
       "      <th>2022-05-20</th>\n",
       "      <td>11850</td>\n",
       "      <td>780</td>\n",
       "      <td>15050</td>\n",
       "      <td>39100</td>\n",
       "      <td>80800</td>\n",
       "      <td>62800</td>\n",
       "      <td>35550</td>\n",
       "      <td>20900</td>\n",
       "      <td>58500</td>\n",
       "      <td>56900</td>\n",
       "      <td>...</td>\n",
       "      <td>38200</td>\n",
       "      <td>22900</td>\n",
       "      <td>27000</td>\n",
       "      <td>2185</td>\n",
       "      <td>2195</td>\n",
       "      <td>2445</td>\n",
       "      <td>2165</td>\n",
       "      <td>2215</td>\n",
       "      <td>20100</td>\n",
       "      <td>27100</td>\n",
       "    </tr>\n",
       "  </tbody>\n",
       "</table>\n",
       "<p>3062 rows × 3028 columns</p>\n",
       "</div>"
      ],
      "text/plain": [
       "ISU_SRT_CD 000020 000040  000050 000060 000070 000075 000080 000087  000100  \\\n",
       "trdDd                                                                         \n",
       "2014-01-01    NaN    NaN     NaN    NaN    NaN    NaN    NaN    NaN     NaN   \n",
       "2014-01-02   4440    438  111500  15500  73500  32600  21750  16850  182500   \n",
       "2014-01-03   4540    440  114000  15400  71800  33400  21450  16850  180500   \n",
       "2014-01-04    NaN    NaN     NaN    NaN    NaN    NaN    NaN    NaN     NaN   \n",
       "2014-01-05    NaN    NaN     NaN    NaN    NaN    NaN    NaN    NaN     NaN   \n",
       "...           ...    ...     ...    ...    ...    ...    ...    ...     ...   \n",
       "2022-05-16  11850    791   15550  37350  81700  62900  35850  21000   57800   \n",
       "2022-05-17  11900    788   15450  38250  81800  62900  36950  21200   57800   \n",
       "2022-05-18  12000    783   15200  39750  81200  63000  36800  21150   58600   \n",
       "2022-05-19  11900    780   15250  39000  79900  62300  36100  20750   58200   \n",
       "2022-05-20  11850    780   15050  39100  80800  62800  35550  20900   58500   \n",
       "\n",
       "ISU_SRT_CD 000105  ... 37550L 388050 389140 405640 412930 413600 415580  \\\n",
       "trdDd              ...                                                    \n",
       "2014-01-01    NaN  ...    NaN    NaN    NaN    NaN    NaN    NaN    NaN   \n",
       "2014-01-02  93300  ...    NaN    NaN    NaN    NaN    NaN    NaN    NaN   \n",
       "2014-01-03  93000  ...    NaN    NaN    NaN    NaN    NaN    NaN    NaN   \n",
       "2014-01-04    NaN  ...    NaN    NaN    NaN    NaN    NaN    NaN    NaN   \n",
       "2014-01-05    NaN  ...    NaN    NaN    NaN    NaN    NaN    NaN    NaN   \n",
       "...           ...  ...    ...    ...    ...    ...    ...    ...    ...   \n",
       "2022-05-16  56800  ...  40200  17250  25200   2185   2195   2460   2160   \n",
       "2022-05-17  56700  ...  40200  17450  25400   2185   2205   2535   2155   \n",
       "2022-05-18  57100  ...  39650  17650  25450   2190   2200   2540   2160   \n",
       "2022-05-19  56600  ...  38450  17650  24750   2185   2185   2490   2160   \n",
       "2022-05-20  56900  ...  38200  22900  27000   2185   2195   2445   2165   \n",
       "\n",
       "ISU_SRT_CD 419270 389260 399720  \n",
       "trdDd                            \n",
       "2014-01-01    NaN    NaN    NaN  \n",
       "2014-01-02    NaN    NaN    NaN  \n",
       "2014-01-03    NaN    NaN    NaN  \n",
       "2014-01-04    NaN    NaN    NaN  \n",
       "2014-01-05    NaN    NaN    NaN  \n",
       "...           ...    ...    ...  \n",
       "2022-05-16   2205  13950    NaN  \n",
       "2022-05-17   2215  14350    NaN  \n",
       "2022-05-18   2210  13700    NaN  \n",
       "2022-05-19   2215  17800    NaN  \n",
       "2022-05-20   2215  20100  27100  \n",
       "\n",
       "[3062 rows x 3028 columns]"
      ]
     },
     "execution_count": 10,
     "metadata": {},
     "output_type": "execute_result"
    }
   ],
   "source": [
    "close_df"
   ]
  },
  {
   "cell_type": "code",
   "execution_count": 11,
   "metadata": {},
   "outputs": [
    {
     "data": {
      "text/plain": [
       "trdDd\n",
       "2014-01-01        NaN\n",
       "2014-01-02    1309000\n",
       "2014-01-03    1296000\n",
       "2014-01-04        NaN\n",
       "2014-01-05        NaN\n",
       "               ...   \n",
       "2022-05-16      66300\n",
       "2022-05-17      67600\n",
       "2022-05-18      68100\n",
       "2022-05-19      67500\n",
       "2022-05-20      68000\n",
       "Name: 005930, Length: 3062, dtype: object"
      ]
     },
     "execution_count": 11,
     "metadata": {},
     "output_type": "execute_result"
    }
   ],
   "source": [
    "close_df.loc[:, '005930'] # 삼성전자. \n",
    "# 분할했었기 때문에 가격이 100만원 대에서 6만원 대로 변한다. "
   ]
  },
  {
   "cell_type": "code",
   "execution_count": 12,
   "metadata": {},
   "outputs": [],
   "source": [
    "volume_df = pricevolume.get_data('volume')\n",
    "volume_df = volume_df.astype(float)\n",
    "\n",
    "dollarvolume_df = pricevolume.get_data('dollarvolume')\n",
    "dollarvolume_df = dollarvolume_df.astype(float)\n",
    "\n",
    "marketcap_df = pricevolume.get_data('marketcap') # TODO: 현재 object로 불러와져 직접 astype(float) 해줘야 함. fix it. \n",
    "marketcap_df = marketcap_df.astype(float)"
   ]
  },
  {
   "cell_type": "code",
   "execution_count": 13,
   "metadata": {},
   "outputs": [
    {
     "data": {
      "text/html": [
       "<div>\n",
       "<style scoped>\n",
       "    .dataframe tbody tr th:only-of-type {\n",
       "        vertical-align: middle;\n",
       "    }\n",
       "\n",
       "    .dataframe tbody tr th {\n",
       "        vertical-align: top;\n",
       "    }\n",
       "\n",
       "    .dataframe thead th {\n",
       "        text-align: right;\n",
       "    }\n",
       "</style>\n",
       "<table border=\"1\" class=\"dataframe\">\n",
       "  <thead>\n",
       "    <tr style=\"text-align: right;\">\n",
       "      <th>ISU_SRT_CD</th>\n",
       "      <th>000020</th>\n",
       "      <th>000040</th>\n",
       "      <th>000050</th>\n",
       "      <th>000060</th>\n",
       "      <th>000070</th>\n",
       "      <th>000075</th>\n",
       "      <th>000080</th>\n",
       "      <th>000087</th>\n",
       "      <th>000100</th>\n",
       "      <th>000105</th>\n",
       "      <th>...</th>\n",
       "      <th>37550L</th>\n",
       "      <th>388050</th>\n",
       "      <th>389140</th>\n",
       "      <th>405640</th>\n",
       "      <th>412930</th>\n",
       "      <th>413600</th>\n",
       "      <th>415580</th>\n",
       "      <th>419270</th>\n",
       "      <th>389260</th>\n",
       "      <th>399720</th>\n",
       "    </tr>\n",
       "    <tr>\n",
       "      <th>trdDd</th>\n",
       "      <th></th>\n",
       "      <th></th>\n",
       "      <th></th>\n",
       "      <th></th>\n",
       "      <th></th>\n",
       "      <th></th>\n",
       "      <th></th>\n",
       "      <th></th>\n",
       "      <th></th>\n",
       "      <th></th>\n",
       "      <th></th>\n",
       "      <th></th>\n",
       "      <th></th>\n",
       "      <th></th>\n",
       "      <th></th>\n",
       "      <th></th>\n",
       "      <th></th>\n",
       "      <th></th>\n",
       "      <th></th>\n",
       "      <th></th>\n",
       "      <th></th>\n",
       "    </tr>\n",
       "  </thead>\n",
       "  <tbody>\n",
       "    <tr>\n",
       "      <th>2014-01-01</th>\n",
       "      <td>NaN</td>\n",
       "      <td>NaN</td>\n",
       "      <td>NaN</td>\n",
       "      <td>NaN</td>\n",
       "      <td>NaN</td>\n",
       "      <td>NaN</td>\n",
       "      <td>NaN</td>\n",
       "      <td>NaN</td>\n",
       "      <td>NaN</td>\n",
       "      <td>NaN</td>\n",
       "      <td>...</td>\n",
       "      <td>NaN</td>\n",
       "      <td>NaN</td>\n",
       "      <td>NaN</td>\n",
       "      <td>NaN</td>\n",
       "      <td>NaN</td>\n",
       "      <td>NaN</td>\n",
       "      <td>NaN</td>\n",
       "      <td>NaN</td>\n",
       "      <td>NaN</td>\n",
       "      <td>NaN</td>\n",
       "    </tr>\n",
       "    <tr>\n",
       "      <th>2014-01-02</th>\n",
       "      <td>99452.0</td>\n",
       "      <td>68243.0</td>\n",
       "      <td>335.0</td>\n",
       "      <td>115508.0</td>\n",
       "      <td>12328.0</td>\n",
       "      <td>63.0</td>\n",
       "      <td>276618.0</td>\n",
       "      <td>2400.0</td>\n",
       "      <td>21453.0</td>\n",
       "      <td>3.0</td>\n",
       "      <td>...</td>\n",
       "      <td>NaN</td>\n",
       "      <td>NaN</td>\n",
       "      <td>NaN</td>\n",
       "      <td>NaN</td>\n",
       "      <td>NaN</td>\n",
       "      <td>NaN</td>\n",
       "      <td>NaN</td>\n",
       "      <td>NaN</td>\n",
       "      <td>NaN</td>\n",
       "      <td>NaN</td>\n",
       "    </tr>\n",
       "    <tr>\n",
       "      <th>2014-01-03</th>\n",
       "      <td>107190.0</td>\n",
       "      <td>65432.0</td>\n",
       "      <td>853.0</td>\n",
       "      <td>128224.0</td>\n",
       "      <td>12650.0</td>\n",
       "      <td>60.0</td>\n",
       "      <td>253501.0</td>\n",
       "      <td>255.0</td>\n",
       "      <td>21211.0</td>\n",
       "      <td>0.0</td>\n",
       "      <td>...</td>\n",
       "      <td>NaN</td>\n",
       "      <td>NaN</td>\n",
       "      <td>NaN</td>\n",
       "      <td>NaN</td>\n",
       "      <td>NaN</td>\n",
       "      <td>NaN</td>\n",
       "      <td>NaN</td>\n",
       "      <td>NaN</td>\n",
       "      <td>NaN</td>\n",
       "      <td>NaN</td>\n",
       "    </tr>\n",
       "    <tr>\n",
       "      <th>2014-01-04</th>\n",
       "      <td>NaN</td>\n",
       "      <td>NaN</td>\n",
       "      <td>NaN</td>\n",
       "      <td>NaN</td>\n",
       "      <td>NaN</td>\n",
       "      <td>NaN</td>\n",
       "      <td>NaN</td>\n",
       "      <td>NaN</td>\n",
       "      <td>NaN</td>\n",
       "      <td>NaN</td>\n",
       "      <td>...</td>\n",
       "      <td>NaN</td>\n",
       "      <td>NaN</td>\n",
       "      <td>NaN</td>\n",
       "      <td>NaN</td>\n",
       "      <td>NaN</td>\n",
       "      <td>NaN</td>\n",
       "      <td>NaN</td>\n",
       "      <td>NaN</td>\n",
       "      <td>NaN</td>\n",
       "      <td>NaN</td>\n",
       "    </tr>\n",
       "    <tr>\n",
       "      <th>2014-01-05</th>\n",
       "      <td>NaN</td>\n",
       "      <td>NaN</td>\n",
       "      <td>NaN</td>\n",
       "      <td>NaN</td>\n",
       "      <td>NaN</td>\n",
       "      <td>NaN</td>\n",
       "      <td>NaN</td>\n",
       "      <td>NaN</td>\n",
       "      <td>NaN</td>\n",
       "      <td>NaN</td>\n",
       "      <td>...</td>\n",
       "      <td>NaN</td>\n",
       "      <td>NaN</td>\n",
       "      <td>NaN</td>\n",
       "      <td>NaN</td>\n",
       "      <td>NaN</td>\n",
       "      <td>NaN</td>\n",
       "      <td>NaN</td>\n",
       "      <td>NaN</td>\n",
       "      <td>NaN</td>\n",
       "      <td>NaN</td>\n",
       "    </tr>\n",
       "    <tr>\n",
       "      <th>...</th>\n",
       "      <td>...</td>\n",
       "      <td>...</td>\n",
       "      <td>...</td>\n",
       "      <td>...</td>\n",
       "      <td>...</td>\n",
       "      <td>...</td>\n",
       "      <td>...</td>\n",
       "      <td>...</td>\n",
       "      <td>...</td>\n",
       "      <td>...</td>\n",
       "      <td>...</td>\n",
       "      <td>...</td>\n",
       "      <td>...</td>\n",
       "      <td>...</td>\n",
       "      <td>...</td>\n",
       "      <td>...</td>\n",
       "      <td>...</td>\n",
       "      <td>...</td>\n",
       "      <td>...</td>\n",
       "      <td>...</td>\n",
       "      <td>...</td>\n",
       "    </tr>\n",
       "    <tr>\n",
       "      <th>2022-05-16</th>\n",
       "      <td>76716.0</td>\n",
       "      <td>132729.0</td>\n",
       "      <td>62916.0</td>\n",
       "      <td>237055.0</td>\n",
       "      <td>9259.0</td>\n",
       "      <td>85.0</td>\n",
       "      <td>269050.0</td>\n",
       "      <td>1011.0</td>\n",
       "      <td>118147.0</td>\n",
       "      <td>255.0</td>\n",
       "      <td>...</td>\n",
       "      <td>2428.0</td>\n",
       "      <td>69811.0</td>\n",
       "      <td>338419.0</td>\n",
       "      <td>36188.0</td>\n",
       "      <td>46794.0</td>\n",
       "      <td>107402.0</td>\n",
       "      <td>68433.0</td>\n",
       "      <td>25522.0</td>\n",
       "      <td>4096958.0</td>\n",
       "      <td>NaN</td>\n",
       "    </tr>\n",
       "    <tr>\n",
       "      <th>2022-05-17</th>\n",
       "      <td>69867.0</td>\n",
       "      <td>143751.0</td>\n",
       "      <td>4967.0</td>\n",
       "      <td>263953.0</td>\n",
       "      <td>9363.0</td>\n",
       "      <td>122.0</td>\n",
       "      <td>336620.0</td>\n",
       "      <td>1305.0</td>\n",
       "      <td>120933.0</td>\n",
       "      <td>289.0</td>\n",
       "      <td>...</td>\n",
       "      <td>2929.0</td>\n",
       "      <td>78778.0</td>\n",
       "      <td>133388.0</td>\n",
       "      <td>5079.0</td>\n",
       "      <td>33892.0</td>\n",
       "      <td>115312.0</td>\n",
       "      <td>12787.0</td>\n",
       "      <td>14057.0</td>\n",
       "      <td>1304034.0</td>\n",
       "      <td>NaN</td>\n",
       "    </tr>\n",
       "    <tr>\n",
       "      <th>2022-05-18</th>\n",
       "      <td>207503.0</td>\n",
       "      <td>109346.0</td>\n",
       "      <td>28341.0</td>\n",
       "      <td>305594.0</td>\n",
       "      <td>11524.0</td>\n",
       "      <td>40.0</td>\n",
       "      <td>266185.0</td>\n",
       "      <td>998.0</td>\n",
       "      <td>170379.0</td>\n",
       "      <td>554.0</td>\n",
       "      <td>...</td>\n",
       "      <td>8399.0</td>\n",
       "      <td>119741.0</td>\n",
       "      <td>180316.0</td>\n",
       "      <td>11873.0</td>\n",
       "      <td>34581.0</td>\n",
       "      <td>101786.0</td>\n",
       "      <td>18582.0</td>\n",
       "      <td>9863.0</td>\n",
       "      <td>958821.0</td>\n",
       "      <td>NaN</td>\n",
       "    </tr>\n",
       "    <tr>\n",
       "      <th>2022-05-19</th>\n",
       "      <td>93821.0</td>\n",
       "      <td>128965.0</td>\n",
       "      <td>9042.0</td>\n",
       "      <td>243638.0</td>\n",
       "      <td>20911.0</td>\n",
       "      <td>164.0</td>\n",
       "      <td>238902.0</td>\n",
       "      <td>861.0</td>\n",
       "      <td>161514.0</td>\n",
       "      <td>371.0</td>\n",
       "      <td>...</td>\n",
       "      <td>8710.0</td>\n",
       "      <td>710241.0</td>\n",
       "      <td>96169.0</td>\n",
       "      <td>13601.0</td>\n",
       "      <td>57053.0</td>\n",
       "      <td>111114.0</td>\n",
       "      <td>14619.0</td>\n",
       "      <td>4996.0</td>\n",
       "      <td>5131559.0</td>\n",
       "      <td>NaN</td>\n",
       "    </tr>\n",
       "    <tr>\n",
       "      <th>2022-05-20</th>\n",
       "      <td>93735.0</td>\n",
       "      <td>153506.0</td>\n",
       "      <td>3559.0</td>\n",
       "      <td>211429.0</td>\n",
       "      <td>8204.0</td>\n",
       "      <td>294.0</td>\n",
       "      <td>266249.0</td>\n",
       "      <td>731.0</td>\n",
       "      <td>168303.0</td>\n",
       "      <td>494.0</td>\n",
       "      <td>...</td>\n",
       "      <td>12130.0</td>\n",
       "      <td>2662358.0</td>\n",
       "      <td>554572.0</td>\n",
       "      <td>13196.0</td>\n",
       "      <td>33628.0</td>\n",
       "      <td>139847.0</td>\n",
       "      <td>20756.0</td>\n",
       "      <td>5271.0</td>\n",
       "      <td>15772956.0</td>\n",
       "      <td>19492306.0</td>\n",
       "    </tr>\n",
       "  </tbody>\n",
       "</table>\n",
       "<p>3062 rows × 3028 columns</p>\n",
       "</div>"
      ],
      "text/plain": [
       "ISU_SRT_CD    000020    000040   000050    000060   000070  000075    000080  \\\n",
       "trdDd                                                                          \n",
       "2014-01-01       NaN       NaN      NaN       NaN      NaN     NaN       NaN   \n",
       "2014-01-02   99452.0   68243.0    335.0  115508.0  12328.0    63.0  276618.0   \n",
       "2014-01-03  107190.0   65432.0    853.0  128224.0  12650.0    60.0  253501.0   \n",
       "2014-01-04       NaN       NaN      NaN       NaN      NaN     NaN       NaN   \n",
       "2014-01-05       NaN       NaN      NaN       NaN      NaN     NaN       NaN   \n",
       "...              ...       ...      ...       ...      ...     ...       ...   \n",
       "2022-05-16   76716.0  132729.0  62916.0  237055.0   9259.0    85.0  269050.0   \n",
       "2022-05-17   69867.0  143751.0   4967.0  263953.0   9363.0   122.0  336620.0   \n",
       "2022-05-18  207503.0  109346.0  28341.0  305594.0  11524.0    40.0  266185.0   \n",
       "2022-05-19   93821.0  128965.0   9042.0  243638.0  20911.0   164.0  238902.0   \n",
       "2022-05-20   93735.0  153506.0   3559.0  211429.0   8204.0   294.0  266249.0   \n",
       "\n",
       "ISU_SRT_CD  000087    000100  000105  ...   37550L     388050    389140  \\\n",
       "trdDd                                 ...                                 \n",
       "2014-01-01     NaN       NaN     NaN  ...      NaN        NaN       NaN   \n",
       "2014-01-02  2400.0   21453.0     3.0  ...      NaN        NaN       NaN   \n",
       "2014-01-03   255.0   21211.0     0.0  ...      NaN        NaN       NaN   \n",
       "2014-01-04     NaN       NaN     NaN  ...      NaN        NaN       NaN   \n",
       "2014-01-05     NaN       NaN     NaN  ...      NaN        NaN       NaN   \n",
       "...            ...       ...     ...  ...      ...        ...       ...   \n",
       "2022-05-16  1011.0  118147.0   255.0  ...   2428.0    69811.0  338419.0   \n",
       "2022-05-17  1305.0  120933.0   289.0  ...   2929.0    78778.0  133388.0   \n",
       "2022-05-18   998.0  170379.0   554.0  ...   8399.0   119741.0  180316.0   \n",
       "2022-05-19   861.0  161514.0   371.0  ...   8710.0   710241.0   96169.0   \n",
       "2022-05-20   731.0  168303.0   494.0  ...  12130.0  2662358.0  554572.0   \n",
       "\n",
       "ISU_SRT_CD   405640   412930    413600   415580   419270      389260  \\\n",
       "trdDd                                                                  \n",
       "2014-01-01      NaN      NaN       NaN      NaN      NaN         NaN   \n",
       "2014-01-02      NaN      NaN       NaN      NaN      NaN         NaN   \n",
       "2014-01-03      NaN      NaN       NaN      NaN      NaN         NaN   \n",
       "2014-01-04      NaN      NaN       NaN      NaN      NaN         NaN   \n",
       "2014-01-05      NaN      NaN       NaN      NaN      NaN         NaN   \n",
       "...             ...      ...       ...      ...      ...         ...   \n",
       "2022-05-16  36188.0  46794.0  107402.0  68433.0  25522.0   4096958.0   \n",
       "2022-05-17   5079.0  33892.0  115312.0  12787.0  14057.0   1304034.0   \n",
       "2022-05-18  11873.0  34581.0  101786.0  18582.0   9863.0    958821.0   \n",
       "2022-05-19  13601.0  57053.0  111114.0  14619.0   4996.0   5131559.0   \n",
       "2022-05-20  13196.0  33628.0  139847.0  20756.0   5271.0  15772956.0   \n",
       "\n",
       "ISU_SRT_CD      399720  \n",
       "trdDd                   \n",
       "2014-01-01         NaN  \n",
       "2014-01-02         NaN  \n",
       "2014-01-03         NaN  \n",
       "2014-01-04         NaN  \n",
       "2014-01-05         NaN  \n",
       "...                ...  \n",
       "2022-05-16         NaN  \n",
       "2022-05-17         NaN  \n",
       "2022-05-18         NaN  \n",
       "2022-05-19         NaN  \n",
       "2022-05-20  19492306.0  \n",
       "\n",
       "[3062 rows x 3028 columns]"
      ]
     },
     "execution_count": 13,
     "metadata": {},
     "output_type": "execute_result"
    }
   ],
   "source": [
    "volume_df"
   ]
  },
  {
   "cell_type": "code",
   "execution_count": 14,
   "metadata": {},
   "outputs": [
    {
     "data": {
      "text/plain": [
       "trdDd\n",
       "2014-01-01           NaN\n",
       "2014-01-02      620500.0\n",
       "2014-01-03      529932.0\n",
       "2014-01-04           NaN\n",
       "2014-01-05           NaN\n",
       "                 ...    \n",
       "2022-05-16    11937555.0\n",
       "2022-05-17    15680447.0\n",
       "2022-05-18    16486319.0\n",
       "2022-05-19    17073727.0\n",
       "2022-05-20    12109671.0\n",
       "Name: 005930, Length: 3062, dtype: float64"
      ]
     },
     "execution_count": 14,
     "metadata": {},
     "output_type": "execute_result"
    }
   ],
   "source": [
    "volume_df.loc[:, '005930'] # 삼성전자\n",
    "# volume 역시 unadjusted volume이다. "
   ]
  },
  {
   "cell_type": "markdown",
   "metadata": {},
   "source": [
    "## 2. Create additional DMs\n"
   ]
  },
  {
   "cell_type": "markdown",
   "metadata": {},
   "source": [
    "- KOSPI, KOSDAQ"
   ]
  },
  {
   "cell_type": "code",
   "execution_count": 15,
   "metadata": {},
   "outputs": [],
   "source": [
    "lv1_df = pricevolume.get_data('lv1')"
   ]
  },
  {
   "cell_type": "code",
   "execution_count": 16,
   "metadata": {},
   "outputs": [],
   "source": [
    "market_cat_df = lv1_df[['ISU_SRT_CD', 'MKT_NM', 'trdDd']].copy()"
   ]
  },
  {
   "cell_type": "code",
   "execution_count": 17,
   "metadata": {},
   "outputs": [
    {
     "data": {
      "text/plain": [
       "array(['KOSDAQ', 'KOSPI', 'KONEX'], dtype=object)"
      ]
     },
     "execution_count": 17,
     "metadata": {},
     "output_type": "execute_result"
    }
   ],
   "source": [
    "market_cat_df['MKT_NM'].unique()"
   ]
  },
  {
   "cell_type": "code",
   "execution_count": 18,
   "metadata": {},
   "outputs": [],
   "source": [
    "market_cat_df.loc[:, 'is_KOSPI'] = (market_cat_df['MKT_NM'] == 'KOSPI')\n",
    "market_cat_df.loc[:, 'is_KOSDAQ'] = (market_cat_df['MKT_NM'] == 'KOSDAQ')\n",
    "market_cat_df.loc[:, 'is_KONEX'] = (market_cat_df['MKT_NM'] == 'KONEX')"
   ]
  },
  {
   "cell_type": "code",
   "execution_count": 19,
   "metadata": {},
   "outputs": [],
   "source": [
    "kospi_univ_df = pd.pivot(market_cat_df, index='trdDd', columns='ISU_SRT_CD', values='is_KOSPI')\n",
    "kosdaq_univ_df = pd.pivot(market_cat_df, index='trdDd', columns='ISU_SRT_CD', values='is_KOSDAQ')\n",
    "konex_univ_df = pd.pivot(market_cat_df, index='trdDd', columns='ISU_SRT_CD', values='is_KONEX')"
   ]
  },
  {
   "cell_type": "code",
   "execution_count": 20,
   "metadata": {},
   "outputs": [
    {
     "data": {
      "text/plain": [
       "trdDd\n",
       "2014-01-02    NaN\n",
       "2014-01-03    NaN\n",
       "2014-01-04    NaN\n",
       "2014-01-05    NaN\n",
       "2014-01-06    NaN\n",
       "             ... \n",
       "2022-05-15    NaN\n",
       "2022-05-16    NaN\n",
       "2022-05-17    NaN\n",
       "2022-05-18    NaN\n",
       "2022-05-19    NaN\n",
       "Name: 221610, Length: 3060, dtype: object"
      ]
     },
     "execution_count": 20,
     "metadata": {},
     "output_type": "execute_result"
    }
   ],
   "source": [
    "kosdaq_univ_df.loc[:, '221610'] # 자안바이오 상폐일: 2022-01-05\t"
   ]
  },
  {
   "cell_type": "markdown",
   "metadata": {},
   "source": [
    "\n",
    "- tradingday DM by processing `pricevolume`\n"
   ]
  },
  {
   "cell_type": "code",
   "execution_count": 21,
   "metadata": {},
   "outputs": [
    {
     "data": {
      "text/plain": [
       "DatetimeIndex(['2014-01-02', '2014-01-03', '2014-01-06', '2014-01-07',\n",
       "               '2014-01-08', '2014-01-09', '2014-01-10', '2014-01-13',\n",
       "               '2014-01-14', '2014-01-15',\n",
       "               ...\n",
       "               '2022-05-09', '2022-05-10', '2022-05-11', '2022-05-12',\n",
       "               '2022-05-13', '2022-05-16', '2022-05-17', '2022-05-18',\n",
       "               '2022-05-19', '2022-05-20'],\n",
       "              dtype='datetime64[ns]', name='trdDd', length=2062, freq=None)"
      ]
     },
     "execution_count": 21,
     "metadata": {},
     "output_type": "execute_result"
    }
   ],
   "source": [
    "holidays = close_df.isnull().all(axis=1)\n",
    "tradingdays = ~holidays\n",
    "\n",
    "holidays = holidays.index[holidays]\n",
    "tradingdays = tradingdays.index[tradingdays]\n",
    "\n",
    "tradingdays"
   ]
  },
  {
   "cell_type": "markdown",
   "metadata": {},
   "source": [
    "\n",
    "- return & adj.open/high/low/close/volume DM by mixing `pricevolume` and `FinanceDataReader`\n"
   ]
  },
  {
   "cell_type": "code",
   "execution_count": 22,
   "metadata": {},
   "outputs": [
    {
     "data": {
      "text/html": [
       "<div>\n",
       "<style scoped>\n",
       "    .dataframe tbody tr th:only-of-type {\n",
       "        vertical-align: middle;\n",
       "    }\n",
       "\n",
       "    .dataframe tbody tr th {\n",
       "        vertical-align: top;\n",
       "    }\n",
       "\n",
       "    .dataframe thead th {\n",
       "        text-align: right;\n",
       "    }\n",
       "</style>\n",
       "<table border=\"1\" class=\"dataframe\">\n",
       "  <thead>\n",
       "    <tr style=\"text-align: right;\">\n",
       "      <th>ISU_SRT_CD</th>\n",
       "      <th>000020</th>\n",
       "      <th>000040</th>\n",
       "      <th>000050</th>\n",
       "      <th>000060</th>\n",
       "      <th>000070</th>\n",
       "      <th>000075</th>\n",
       "      <th>000080</th>\n",
       "      <th>000087</th>\n",
       "      <th>000100</th>\n",
       "      <th>000105</th>\n",
       "      <th>...</th>\n",
       "      <th>37550L</th>\n",
       "      <th>388050</th>\n",
       "      <th>389140</th>\n",
       "      <th>405640</th>\n",
       "      <th>412930</th>\n",
       "      <th>413600</th>\n",
       "      <th>415580</th>\n",
       "      <th>419270</th>\n",
       "      <th>389260</th>\n",
       "      <th>399720</th>\n",
       "    </tr>\n",
       "    <tr>\n",
       "      <th>trdDd</th>\n",
       "      <th></th>\n",
       "      <th></th>\n",
       "      <th></th>\n",
       "      <th></th>\n",
       "      <th></th>\n",
       "      <th></th>\n",
       "      <th></th>\n",
       "      <th></th>\n",
       "      <th></th>\n",
       "      <th></th>\n",
       "      <th></th>\n",
       "      <th></th>\n",
       "      <th></th>\n",
       "      <th></th>\n",
       "      <th></th>\n",
       "      <th></th>\n",
       "      <th></th>\n",
       "      <th></th>\n",
       "      <th></th>\n",
       "      <th></th>\n",
       "      <th></th>\n",
       "    </tr>\n",
       "  </thead>\n",
       "  <tbody>\n",
       "    <tr>\n",
       "      <th>2014-01-01</th>\n",
       "      <td>False</td>\n",
       "      <td>False</td>\n",
       "      <td>False</td>\n",
       "      <td>False</td>\n",
       "      <td>False</td>\n",
       "      <td>False</td>\n",
       "      <td>False</td>\n",
       "      <td>False</td>\n",
       "      <td>False</td>\n",
       "      <td>False</td>\n",
       "      <td>...</td>\n",
       "      <td>False</td>\n",
       "      <td>False</td>\n",
       "      <td>False</td>\n",
       "      <td>False</td>\n",
       "      <td>False</td>\n",
       "      <td>False</td>\n",
       "      <td>False</td>\n",
       "      <td>False</td>\n",
       "      <td>False</td>\n",
       "      <td>False</td>\n",
       "    </tr>\n",
       "    <tr>\n",
       "      <th>2014-01-02</th>\n",
       "      <td>True</td>\n",
       "      <td>True</td>\n",
       "      <td>True</td>\n",
       "      <td>True</td>\n",
       "      <td>True</td>\n",
       "      <td>True</td>\n",
       "      <td>True</td>\n",
       "      <td>True</td>\n",
       "      <td>True</td>\n",
       "      <td>True</td>\n",
       "      <td>...</td>\n",
       "      <td>False</td>\n",
       "      <td>False</td>\n",
       "      <td>False</td>\n",
       "      <td>False</td>\n",
       "      <td>False</td>\n",
       "      <td>False</td>\n",
       "      <td>False</td>\n",
       "      <td>False</td>\n",
       "      <td>False</td>\n",
       "      <td>False</td>\n",
       "    </tr>\n",
       "    <tr>\n",
       "      <th>2014-01-03</th>\n",
       "      <td>True</td>\n",
       "      <td>True</td>\n",
       "      <td>True</td>\n",
       "      <td>True</td>\n",
       "      <td>True</td>\n",
       "      <td>True</td>\n",
       "      <td>True</td>\n",
       "      <td>True</td>\n",
       "      <td>True</td>\n",
       "      <td>True</td>\n",
       "      <td>...</td>\n",
       "      <td>False</td>\n",
       "      <td>False</td>\n",
       "      <td>False</td>\n",
       "      <td>False</td>\n",
       "      <td>False</td>\n",
       "      <td>False</td>\n",
       "      <td>False</td>\n",
       "      <td>False</td>\n",
       "      <td>False</td>\n",
       "      <td>False</td>\n",
       "    </tr>\n",
       "    <tr>\n",
       "      <th>2014-01-04</th>\n",
       "      <td>False</td>\n",
       "      <td>False</td>\n",
       "      <td>False</td>\n",
       "      <td>False</td>\n",
       "      <td>False</td>\n",
       "      <td>False</td>\n",
       "      <td>False</td>\n",
       "      <td>False</td>\n",
       "      <td>False</td>\n",
       "      <td>False</td>\n",
       "      <td>...</td>\n",
       "      <td>False</td>\n",
       "      <td>False</td>\n",
       "      <td>False</td>\n",
       "      <td>False</td>\n",
       "      <td>False</td>\n",
       "      <td>False</td>\n",
       "      <td>False</td>\n",
       "      <td>False</td>\n",
       "      <td>False</td>\n",
       "      <td>False</td>\n",
       "    </tr>\n",
       "    <tr>\n",
       "      <th>2014-01-05</th>\n",
       "      <td>False</td>\n",
       "      <td>False</td>\n",
       "      <td>False</td>\n",
       "      <td>False</td>\n",
       "      <td>False</td>\n",
       "      <td>False</td>\n",
       "      <td>False</td>\n",
       "      <td>False</td>\n",
       "      <td>False</td>\n",
       "      <td>False</td>\n",
       "      <td>...</td>\n",
       "      <td>False</td>\n",
       "      <td>False</td>\n",
       "      <td>False</td>\n",
       "      <td>False</td>\n",
       "      <td>False</td>\n",
       "      <td>False</td>\n",
       "      <td>False</td>\n",
       "      <td>False</td>\n",
       "      <td>False</td>\n",
       "      <td>False</td>\n",
       "    </tr>\n",
       "    <tr>\n",
       "      <th>...</th>\n",
       "      <td>...</td>\n",
       "      <td>...</td>\n",
       "      <td>...</td>\n",
       "      <td>...</td>\n",
       "      <td>...</td>\n",
       "      <td>...</td>\n",
       "      <td>...</td>\n",
       "      <td>...</td>\n",
       "      <td>...</td>\n",
       "      <td>...</td>\n",
       "      <td>...</td>\n",
       "      <td>...</td>\n",
       "      <td>...</td>\n",
       "      <td>...</td>\n",
       "      <td>...</td>\n",
       "      <td>...</td>\n",
       "      <td>...</td>\n",
       "      <td>...</td>\n",
       "      <td>...</td>\n",
       "      <td>...</td>\n",
       "      <td>...</td>\n",
       "    </tr>\n",
       "    <tr>\n",
       "      <th>2022-05-16</th>\n",
       "      <td>True</td>\n",
       "      <td>True</td>\n",
       "      <td>True</td>\n",
       "      <td>True</td>\n",
       "      <td>True</td>\n",
       "      <td>True</td>\n",
       "      <td>True</td>\n",
       "      <td>True</td>\n",
       "      <td>True</td>\n",
       "      <td>True</td>\n",
       "      <td>...</td>\n",
       "      <td>True</td>\n",
       "      <td>True</td>\n",
       "      <td>True</td>\n",
       "      <td>True</td>\n",
       "      <td>True</td>\n",
       "      <td>True</td>\n",
       "      <td>True</td>\n",
       "      <td>True</td>\n",
       "      <td>True</td>\n",
       "      <td>False</td>\n",
       "    </tr>\n",
       "    <tr>\n",
       "      <th>2022-05-17</th>\n",
       "      <td>True</td>\n",
       "      <td>True</td>\n",
       "      <td>True</td>\n",
       "      <td>True</td>\n",
       "      <td>True</td>\n",
       "      <td>True</td>\n",
       "      <td>True</td>\n",
       "      <td>True</td>\n",
       "      <td>True</td>\n",
       "      <td>True</td>\n",
       "      <td>...</td>\n",
       "      <td>True</td>\n",
       "      <td>True</td>\n",
       "      <td>True</td>\n",
       "      <td>True</td>\n",
       "      <td>True</td>\n",
       "      <td>True</td>\n",
       "      <td>True</td>\n",
       "      <td>True</td>\n",
       "      <td>True</td>\n",
       "      <td>False</td>\n",
       "    </tr>\n",
       "    <tr>\n",
       "      <th>2022-05-18</th>\n",
       "      <td>True</td>\n",
       "      <td>True</td>\n",
       "      <td>True</td>\n",
       "      <td>True</td>\n",
       "      <td>True</td>\n",
       "      <td>True</td>\n",
       "      <td>True</td>\n",
       "      <td>True</td>\n",
       "      <td>True</td>\n",
       "      <td>True</td>\n",
       "      <td>...</td>\n",
       "      <td>True</td>\n",
       "      <td>True</td>\n",
       "      <td>True</td>\n",
       "      <td>True</td>\n",
       "      <td>True</td>\n",
       "      <td>True</td>\n",
       "      <td>True</td>\n",
       "      <td>True</td>\n",
       "      <td>True</td>\n",
       "      <td>False</td>\n",
       "    </tr>\n",
       "    <tr>\n",
       "      <th>2022-05-19</th>\n",
       "      <td>True</td>\n",
       "      <td>True</td>\n",
       "      <td>True</td>\n",
       "      <td>True</td>\n",
       "      <td>True</td>\n",
       "      <td>True</td>\n",
       "      <td>True</td>\n",
       "      <td>True</td>\n",
       "      <td>True</td>\n",
       "      <td>True</td>\n",
       "      <td>...</td>\n",
       "      <td>True</td>\n",
       "      <td>True</td>\n",
       "      <td>True</td>\n",
       "      <td>True</td>\n",
       "      <td>True</td>\n",
       "      <td>True</td>\n",
       "      <td>True</td>\n",
       "      <td>True</td>\n",
       "      <td>True</td>\n",
       "      <td>False</td>\n",
       "    </tr>\n",
       "    <tr>\n",
       "      <th>2022-05-20</th>\n",
       "      <td>True</td>\n",
       "      <td>True</td>\n",
       "      <td>True</td>\n",
       "      <td>True</td>\n",
       "      <td>True</td>\n",
       "      <td>True</td>\n",
       "      <td>True</td>\n",
       "      <td>True</td>\n",
       "      <td>True</td>\n",
       "      <td>True</td>\n",
       "      <td>...</td>\n",
       "      <td>True</td>\n",
       "      <td>True</td>\n",
       "      <td>True</td>\n",
       "      <td>True</td>\n",
       "      <td>True</td>\n",
       "      <td>True</td>\n",
       "      <td>True</td>\n",
       "      <td>True</td>\n",
       "      <td>True</td>\n",
       "      <td>True</td>\n",
       "    </tr>\n",
       "  </tbody>\n",
       "</table>\n",
       "<p>3062 rows × 3028 columns</p>\n",
       "</div>"
      ],
      "text/plain": [
       "ISU_SRT_CD  000020  000040  000050  000060  000070  000075  000080  000087  \\\n",
       "trdDd                                                                        \n",
       "2014-01-01   False   False   False   False   False   False   False   False   \n",
       "2014-01-02    True    True    True    True    True    True    True    True   \n",
       "2014-01-03    True    True    True    True    True    True    True    True   \n",
       "2014-01-04   False   False   False   False   False   False   False   False   \n",
       "2014-01-05   False   False   False   False   False   False   False   False   \n",
       "...            ...     ...     ...     ...     ...     ...     ...     ...   \n",
       "2022-05-16    True    True    True    True    True    True    True    True   \n",
       "2022-05-17    True    True    True    True    True    True    True    True   \n",
       "2022-05-18    True    True    True    True    True    True    True    True   \n",
       "2022-05-19    True    True    True    True    True    True    True    True   \n",
       "2022-05-20    True    True    True    True    True    True    True    True   \n",
       "\n",
       "ISU_SRT_CD  000100  000105  ...  37550L  388050  389140  405640  412930  \\\n",
       "trdDd                       ...                                           \n",
       "2014-01-01   False   False  ...   False   False   False   False   False   \n",
       "2014-01-02    True    True  ...   False   False   False   False   False   \n",
       "2014-01-03    True    True  ...   False   False   False   False   False   \n",
       "2014-01-04   False   False  ...   False   False   False   False   False   \n",
       "2014-01-05   False   False  ...   False   False   False   False   False   \n",
       "...            ...     ...  ...     ...     ...     ...     ...     ...   \n",
       "2022-05-16    True    True  ...    True    True    True    True    True   \n",
       "2022-05-17    True    True  ...    True    True    True    True    True   \n",
       "2022-05-18    True    True  ...    True    True    True    True    True   \n",
       "2022-05-19    True    True  ...    True    True    True    True    True   \n",
       "2022-05-20    True    True  ...    True    True    True    True    True   \n",
       "\n",
       "ISU_SRT_CD  413600  415580  419270  389260  399720  \n",
       "trdDd                                               \n",
       "2014-01-01   False   False   False   False   False  \n",
       "2014-01-02   False   False   False   False   False  \n",
       "2014-01-03   False   False   False   False   False  \n",
       "2014-01-04   False   False   False   False   False  \n",
       "2014-01-05   False   False   False   False   False  \n",
       "...            ...     ...     ...     ...     ...  \n",
       "2022-05-16    True    True    True    True   False  \n",
       "2022-05-17    True    True    True    True   False  \n",
       "2022-05-18    True    True    True    True   False  \n",
       "2022-05-19    True    True    True    True   False  \n",
       "2022-05-20    True    True    True    True    True  \n",
       "\n",
       "[3062 rows x 3028 columns]"
      ]
     },
     "execution_count": 22,
     "metadata": {},
     "output_type": "execute_result"
    }
   ],
   "source": [
    "universe_df = close_df.notnull()\n",
    "universe_df"
   ]
  },
  {
   "cell_type": "code",
   "execution_count": 23,
   "metadata": {},
   "outputs": [],
   "source": [
    "# # Takes about 20 mins\n",
    "\n",
    "# adjOpen_df = close_df.copy()\n",
    "# adjHigh_df = close_df.copy()\n",
    "# adjLow_df = close_df.copy()\n",
    "# adjClose_df = close_df.copy()\n",
    "# adjVolume_df = close_df.copy()\n",
    "# return_df = close_df.copy()\n",
    "\n",
    "# for ii in tqdm(close_df.columns):\n",
    "#     ii_df = fdr.DataReader(ii, DateUtil.numdate2stddate(START), DateUtil.numdate2stddate(END))\n",
    "\n",
    "#     adjOpen_df.loc[:, ii] = ii_df['Open']\n",
    "#     adjHigh_df.loc[:, ii] = ii_df['High']\n",
    "#     adjLow_df.loc[:, ii] = ii_df['Low']\n",
    "#     adjClose_df.loc[:, ii] = ii_df['Close']\n",
    "#     adjVolume_df.loc[:, ii] = ii_df['Volume']\n",
    "#     return_df.loc[:, ii] = ii_df['Change']\n",
    "    "
   ]
  },
  {
   "cell_type": "code",
   "execution_count": 24,
   "metadata": {},
   "outputs": [],
   "source": [
    "# adjOpen_df.to_pickle(PathConfig.cache_path / f\"temp_adjOpen_{START}_{END}\")\n",
    "# adjHigh_df.to_pickle(PathConfig.cache_path / f\"temp_adjHigh_{START}_{END}\")\n",
    "# adjLow_df.to_pickle(PathConfig.cache_path / f\"temp_adjLow_{START}_{END}\")\n",
    "# adjClose_df.to_pickle(PathConfig.cache_path / f\"temp_adjClose_{START}_{END}\")\n",
    "# adjVolume_df.to_pickle(PathConfig.cache_path / f\"temp_adjVolume_{START}_{END}\")\n",
    "# return_df.to_pickle(PathConfig.cache_path / f\"temp_return_{START}_{END}\")"
   ]
  },
  {
   "cell_type": "code",
   "execution_count": 25,
   "metadata": {},
   "outputs": [
    {
     "data": {
      "text/plain": [
       "WindowsPath('E:/VSCodeProjects/korquanttools/korquanttools/pricevolume/cache')"
      ]
     },
     "execution_count": 25,
     "metadata": {},
     "output_type": "execute_result"
    }
   ],
   "source": [
    "PathConfig.cache_path"
   ]
  },
  {
   "cell_type": "code",
   "execution_count": 26,
   "metadata": {},
   "outputs": [],
   "source": [
    "adjOpen_df = pd.read_pickle(PathConfig.cache_path / f\"temp_adjOpen_{START}_{END}\")\n",
    "adjHigh_df = pd.read_pickle(PathConfig.cache_path / f\"temp_adjHigh_{START}_{END}\")\n",
    "adjLow_df = pd.read_pickle(PathConfig.cache_path / f\"temp_adjLow_{START}_{END}\")\n",
    "adjClose_df = pd.read_pickle(PathConfig.cache_path / f\"temp_adjClose_{START}_{END}\")\n",
    "adjVolume_df = pd.read_pickle(PathConfig.cache_path / f\"temp_adjVolume_{START}_{END}\")\n",
    "return_df = pd.read_pickle(PathConfig.cache_path / f\"temp_return_{START}_{END}\")"
   ]
  },
  {
   "cell_type": "markdown",
   "metadata": {},
   "source": [
    "\n",
    "### (Skip for now) Download additional data for new DMs \n",
    "\n",
    "- KRX sector DM downloaded from KRX\n",
    "    - NOT PIT(Point-In-Time)\n",
    "- Corporate finance fundamental analysis data from DART (using 3rd party libraries)\n",
    "    - Later on, when I need it"
   ]
  },
  {
   "cell_type": "code",
   "execution_count": 27,
   "metadata": {},
   "outputs": [],
   "source": [
    "kospi_index_df = fdr.DataReader('KS11', DateUtil.numdate2stddate(START), DateUtil.numdate2stddate(END))"
   ]
  },
  {
   "cell_type": "code",
   "execution_count": 28,
   "metadata": {},
   "outputs": [
    {
     "data": {
      "text/html": [
       "<div>\n",
       "<style scoped>\n",
       "    .dataframe tbody tr th:only-of-type {\n",
       "        vertical-align: middle;\n",
       "    }\n",
       "\n",
       "    .dataframe tbody tr th {\n",
       "        vertical-align: top;\n",
       "    }\n",
       "\n",
       "    .dataframe thead th {\n",
       "        text-align: right;\n",
       "    }\n",
       "</style>\n",
       "<table border=\"1\" class=\"dataframe\">\n",
       "  <thead>\n",
       "    <tr style=\"text-align: right;\">\n",
       "      <th></th>\n",
       "      <th>Close</th>\n",
       "      <th>Open</th>\n",
       "      <th>High</th>\n",
       "      <th>Low</th>\n",
       "      <th>Volume</th>\n",
       "      <th>Change</th>\n",
       "    </tr>\n",
       "    <tr>\n",
       "      <th>Date</th>\n",
       "      <th></th>\n",
       "      <th></th>\n",
       "      <th></th>\n",
       "      <th></th>\n",
       "      <th></th>\n",
       "      <th></th>\n",
       "    </tr>\n",
       "  </thead>\n",
       "  <tbody>\n",
       "    <tr>\n",
       "      <th>2014-01-02</th>\n",
       "      <td>1967.19</td>\n",
       "      <td>2013.11</td>\n",
       "      <td>2013.89</td>\n",
       "      <td>1967.19</td>\n",
       "      <td>207770000.0</td>\n",
       "      <td>-0.0220</td>\n",
       "    </tr>\n",
       "    <tr>\n",
       "      <th>2014-01-03</th>\n",
       "      <td>1946.14</td>\n",
       "      <td>1963.72</td>\n",
       "      <td>1964.63</td>\n",
       "      <td>1936.15</td>\n",
       "      <td>188530000.0</td>\n",
       "      <td>-0.0107</td>\n",
       "    </tr>\n",
       "    <tr>\n",
       "      <th>2014-01-06</th>\n",
       "      <td>1953.28</td>\n",
       "      <td>1947.62</td>\n",
       "      <td>1961.85</td>\n",
       "      <td>1943.74</td>\n",
       "      <td>193630000.0</td>\n",
       "      <td>0.0037</td>\n",
       "    </tr>\n",
       "    <tr>\n",
       "      <th>2014-01-07</th>\n",
       "      <td>1959.44</td>\n",
       "      <td>1947.65</td>\n",
       "      <td>1965.74</td>\n",
       "      <td>1947.08</td>\n",
       "      <td>193030000.0</td>\n",
       "      <td>0.0032</td>\n",
       "    </tr>\n",
       "    <tr>\n",
       "      <th>2014-01-08</th>\n",
       "      <td>1958.96</td>\n",
       "      <td>1965.50</td>\n",
       "      <td>1966.95</td>\n",
       "      <td>1950.02</td>\n",
       "      <td>217070000.0</td>\n",
       "      <td>-0.0002</td>\n",
       "    </tr>\n",
       "    <tr>\n",
       "      <th>...</th>\n",
       "      <td>...</td>\n",
       "      <td>...</td>\n",
       "      <td>...</td>\n",
       "      <td>...</td>\n",
       "      <td>...</td>\n",
       "      <td>...</td>\n",
       "    </tr>\n",
       "    <tr>\n",
       "      <th>2022-05-16</th>\n",
       "      <td>2596.58</td>\n",
       "      <td>2624.69</td>\n",
       "      <td>2629.20</td>\n",
       "      <td>2593.61</td>\n",
       "      <td>780200000.0</td>\n",
       "      <td>-0.0029</td>\n",
       "    </tr>\n",
       "    <tr>\n",
       "      <th>2022-05-17</th>\n",
       "      <td>2620.44</td>\n",
       "      <td>2603.58</td>\n",
       "      <td>2621.84</td>\n",
       "      <td>2603.58</td>\n",
       "      <td>873520000.0</td>\n",
       "      <td>0.0092</td>\n",
       "    </tr>\n",
       "    <tr>\n",
       "      <th>2022-05-18</th>\n",
       "      <td>2625.98</td>\n",
       "      <td>2634.75</td>\n",
       "      <td>2644.13</td>\n",
       "      <td>2618.00</td>\n",
       "      <td>870270000.0</td>\n",
       "      <td>0.0021</td>\n",
       "    </tr>\n",
       "    <tr>\n",
       "      <th>2022-05-19</th>\n",
       "      <td>2592.34</td>\n",
       "      <td>2576.24</td>\n",
       "      <td>2597.79</td>\n",
       "      <td>2568.54</td>\n",
       "      <td>677600000.0</td>\n",
       "      <td>-0.0128</td>\n",
       "    </tr>\n",
       "    <tr>\n",
       "      <th>2022-05-20</th>\n",
       "      <td>2639.29</td>\n",
       "      <td>2605.78</td>\n",
       "      <td>2641.68</td>\n",
       "      <td>2605.38</td>\n",
       "      <td>755650000.0</td>\n",
       "      <td>0.0181</td>\n",
       "    </tr>\n",
       "  </tbody>\n",
       "</table>\n",
       "<p>2062 rows × 6 columns</p>\n",
       "</div>"
      ],
      "text/plain": [
       "              Close     Open     High      Low       Volume  Change\n",
       "Date                                                               \n",
       "2014-01-02  1967.19  2013.11  2013.89  1967.19  207770000.0 -0.0220\n",
       "2014-01-03  1946.14  1963.72  1964.63  1936.15  188530000.0 -0.0107\n",
       "2014-01-06  1953.28  1947.62  1961.85  1943.74  193630000.0  0.0037\n",
       "2014-01-07  1959.44  1947.65  1965.74  1947.08  193030000.0  0.0032\n",
       "2014-01-08  1958.96  1965.50  1966.95  1950.02  217070000.0 -0.0002\n",
       "...             ...      ...      ...      ...          ...     ...\n",
       "2022-05-16  2596.58  2624.69  2629.20  2593.61  780200000.0 -0.0029\n",
       "2022-05-17  2620.44  2603.58  2621.84  2603.58  873520000.0  0.0092\n",
       "2022-05-18  2625.98  2634.75  2644.13  2618.00  870270000.0  0.0021\n",
       "2022-05-19  2592.34  2576.24  2597.79  2568.54  677600000.0 -0.0128\n",
       "2022-05-20  2639.29  2605.78  2641.68  2605.38  755650000.0  0.0181\n",
       "\n",
       "[2062 rows x 6 columns]"
      ]
     },
     "execution_count": 28,
     "metadata": {},
     "output_type": "execute_result"
    }
   ],
   "source": [
    "kospi_index_df"
   ]
  },
  {
   "cell_type": "markdown",
   "metadata": {},
   "source": [
    "## 3. Make price-volume chart graph\n",
    "\n",
    "- Simple price-volume chart using both `seaborn`/`streamlit`\n",
    "- Show biggest winners/losers on mouse hover\n",
    "    - Make pseudo-KOSPI portfolio mimicking KOSPI index\n",
    "    - Show Top 3 winners/losers on the graph "
   ]
  },
  {
   "cell_type": "code",
   "execution_count": 29,
   "metadata": {},
   "outputs": [],
   "source": [
    "### Make KOSPI index from scratch"
   ]
  },
  {
   "cell_type": "code",
   "execution_count": 30,
   "metadata": {},
   "outputs": [
    {
     "data": {
      "text/plain": [
       "1967.19"
      ]
     },
     "execution_count": 30,
     "metadata": {},
     "output_type": "execute_result"
    }
   ],
   "source": [
    "kospi_firstday_value = kospi_index_df['Close'].iloc[0]\n",
    "kospi_firstday_value"
   ]
  },
  {
   "cell_type": "code",
   "execution_count": 31,
   "metadata": {},
   "outputs": [
    {
     "data": {
      "text/plain": [
       "<AxesSubplot:xlabel='Date'>"
      ]
     },
     "execution_count": 31,
     "metadata": {},
     "output_type": "execute_result"
    },
    {
     "data": {
      "image/png": "[encoded data removed]",
      "text/plain": [
       "<Figure size 432x288 with 1 Axes>"
      ]
     },
     "metadata": {
      "needs_background": "light"
     },
     "output_type": "display_data"
    }
   ],
   "source": [
    "kospi_index_df['Close'].plot() # 목표 plot. 개별 종목 시총 데이터로 이렇게 만들어야 한다. "
   ]
  },
  {
   "cell_type": "code",
   "execution_count": 32,
   "metadata": {},
   "outputs": [],
   "source": [
    "kospi_adjClose_df = adjClose_df[kospi_univ_df]\n",
    "kospi_marketcap_df = marketcap_df[kospi_univ_df]"
   ]
  },
  {
   "cell_type": "code",
   "execution_count": 33,
   "metadata": {},
   "outputs": [],
   "source": [
    "kospi_adjClose_df = kospi_adjClose_df.loc[tradingdays, :]\n",
    "kospi_marketcap_df = kospi_marketcap_df.loc[tradingdays, :]"
   ]
  },
  {
   "cell_type": "code",
   "execution_count": 34,
   "metadata": {},
   "outputs": [],
   "source": [
    "kospi_marketcap_df = kospi_marketcap_df.astype(float)"
   ]
  },
  {
   "cell_type": "code",
   "execution_count": 35,
   "metadata": {},
   "outputs": [
    {
     "data": {
      "text/html": [
       "<div>\n",
       "<style scoped>\n",
       "    .dataframe tbody tr th:only-of-type {\n",
       "        vertical-align: middle;\n",
       "    }\n",
       "\n",
       "    .dataframe tbody tr th {\n",
       "        vertical-align: top;\n",
       "    }\n",
       "\n",
       "    .dataframe thead th {\n",
       "        text-align: right;\n",
       "    }\n",
       "</style>\n",
       "<table border=\"1\" class=\"dataframe\">\n",
       "  <thead>\n",
       "    <tr style=\"text-align: right;\">\n",
       "      <th>ISU_SRT_CD</th>\n",
       "      <th>000020</th>\n",
       "      <th>000040</th>\n",
       "      <th>000050</th>\n",
       "      <th>000060</th>\n",
       "      <th>000070</th>\n",
       "      <th>000075</th>\n",
       "      <th>000080</th>\n",
       "      <th>000087</th>\n",
       "      <th>000100</th>\n",
       "      <th>000105</th>\n",
       "      <th>...</th>\n",
       "      <th>37550L</th>\n",
       "      <th>388050</th>\n",
       "      <th>389140</th>\n",
       "      <th>405640</th>\n",
       "      <th>412930</th>\n",
       "      <th>413600</th>\n",
       "      <th>415580</th>\n",
       "      <th>419270</th>\n",
       "      <th>389260</th>\n",
       "      <th>399720</th>\n",
       "    </tr>\n",
       "    <tr>\n",
       "      <th>trdDd</th>\n",
       "      <th></th>\n",
       "      <th></th>\n",
       "      <th></th>\n",
       "      <th></th>\n",
       "      <th></th>\n",
       "      <th></th>\n",
       "      <th></th>\n",
       "      <th></th>\n",
       "      <th></th>\n",
       "      <th></th>\n",
       "      <th></th>\n",
       "      <th></th>\n",
       "      <th></th>\n",
       "      <th></th>\n",
       "      <th></th>\n",
       "      <th></th>\n",
       "      <th></th>\n",
       "      <th></th>\n",
       "      <th></th>\n",
       "      <th></th>\n",
       "      <th></th>\n",
       "    </tr>\n",
       "  </thead>\n",
       "  <tbody>\n",
       "    <tr>\n",
       "      <th>2014-01-02</th>\n",
       "      <td>1.240157e+11</td>\n",
       "      <td>5.227152e+10</td>\n",
       "      <td>2.778912e+11</td>\n",
       "      <td>1.570596e+12</td>\n",
       "      <td>6.005292e+11</td>\n",
       "      <td>9.912291e+09</td>\n",
       "      <td>1.525406e+12</td>\n",
       "      <td>1.904283e+10</td>\n",
       "      <td>2.035340e+12</td>\n",
       "      <td>2.203634e+10</td>\n",
       "      <td>...</td>\n",
       "      <td>NaN</td>\n",
       "      <td>NaN</td>\n",
       "      <td>NaN</td>\n",
       "      <td>NaN</td>\n",
       "      <td>NaN</td>\n",
       "      <td>NaN</td>\n",
       "      <td>NaN</td>\n",
       "      <td>NaN</td>\n",
       "      <td>NaN</td>\n",
       "      <td>NaN</td>\n",
       "    </tr>\n",
       "    <tr>\n",
       "      <th>2014-01-03</th>\n",
       "      <td>1.268089e+11</td>\n",
       "      <td>5.251021e+10</td>\n",
       "      <td>2.841220e+11</td>\n",
       "      <td>1.560464e+12</td>\n",
       "      <td>5.866394e+11</td>\n",
       "      <td>1.015554e+10</td>\n",
       "      <td>1.504366e+12</td>\n",
       "      <td>1.904283e+10</td>\n",
       "      <td>2.013035e+12</td>\n",
       "      <td>2.196548e+10</td>\n",
       "      <td>...</td>\n",
       "      <td>NaN</td>\n",
       "      <td>NaN</td>\n",
       "      <td>NaN</td>\n",
       "      <td>NaN</td>\n",
       "      <td>NaN</td>\n",
       "      <td>NaN</td>\n",
       "      <td>NaN</td>\n",
       "      <td>NaN</td>\n",
       "      <td>NaN</td>\n",
       "      <td>NaN</td>\n",
       "    </tr>\n",
       "    <tr>\n",
       "      <th>2014-01-06</th>\n",
       "      <td>1.272278e+11</td>\n",
       "      <td>5.251021e+10</td>\n",
       "      <td>2.903527e+11</td>\n",
       "      <td>1.555397e+12</td>\n",
       "      <td>5.939928e+11</td>\n",
       "      <td>1.015554e+10</td>\n",
       "      <td>1.521899e+12</td>\n",
       "      <td>1.853426e+10</td>\n",
       "      <td>2.096679e+12</td>\n",
       "      <td>2.201272e+10</td>\n",
       "      <td>...</td>\n",
       "      <td>NaN</td>\n",
       "      <td>NaN</td>\n",
       "      <td>NaN</td>\n",
       "      <td>NaN</td>\n",
       "      <td>NaN</td>\n",
       "      <td>NaN</td>\n",
       "      <td>NaN</td>\n",
       "      <td>NaN</td>\n",
       "      <td>NaN</td>\n",
       "      <td>NaN</td>\n",
       "    </tr>\n",
       "    <tr>\n",
       "      <th>2014-01-07</th>\n",
       "      <td>1.279261e+11</td>\n",
       "      <td>5.239087e+10</td>\n",
       "      <td>2.903527e+11</td>\n",
       "      <td>1.560464e+12</td>\n",
       "      <td>6.037974e+11</td>\n",
       "      <td>1.010993e+10</td>\n",
       "      <td>1.521899e+12</td>\n",
       "      <td>1.870378e+10</td>\n",
       "      <td>2.197052e+12</td>\n",
       "      <td>2.236700e+10</td>\n",
       "      <td>...</td>\n",
       "      <td>NaN</td>\n",
       "      <td>NaN</td>\n",
       "      <td>NaN</td>\n",
       "      <td>NaN</td>\n",
       "      <td>NaN</td>\n",
       "      <td>NaN</td>\n",
       "      <td>NaN</td>\n",
       "      <td>NaN</td>\n",
       "      <td>NaN</td>\n",
       "      <td>NaN</td>\n",
       "    </tr>\n",
       "    <tr>\n",
       "      <th>2014-01-08</th>\n",
       "      <td>1.321159e+11</td>\n",
       "      <td>5.298757e+10</td>\n",
       "      <td>2.841220e+11</td>\n",
       "      <td>1.560464e+12</td>\n",
       "      <td>6.013462e+11</td>\n",
       "      <td>9.881885e+09</td>\n",
       "      <td>1.511379e+12</td>\n",
       "      <td>1.853426e+10</td>\n",
       "      <td>2.230509e+12</td>\n",
       "      <td>2.231977e+10</td>\n",
       "      <td>...</td>\n",
       "      <td>NaN</td>\n",
       "      <td>NaN</td>\n",
       "      <td>NaN</td>\n",
       "      <td>NaN</td>\n",
       "      <td>NaN</td>\n",
       "      <td>NaN</td>\n",
       "      <td>NaN</td>\n",
       "      <td>NaN</td>\n",
       "      <td>NaN</td>\n",
       "      <td>NaN</td>\n",
       "    </tr>\n",
       "    <tr>\n",
       "      <th>...</th>\n",
       "      <td>...</td>\n",
       "      <td>...</td>\n",
       "      <td>...</td>\n",
       "      <td>...</td>\n",
       "      <td>...</td>\n",
       "      <td>...</td>\n",
       "      <td>...</td>\n",
       "      <td>...</td>\n",
       "      <td>...</td>\n",
       "      <td>...</td>\n",
       "      <td>...</td>\n",
       "      <td>...</td>\n",
       "      <td>...</td>\n",
       "      <td>...</td>\n",
       "      <td>...</td>\n",
       "      <td>...</td>\n",
       "      <td>...</td>\n",
       "      <td>...</td>\n",
       "      <td>...</td>\n",
       "      <td>...</td>\n",
       "      <td>...</td>\n",
       "    </tr>\n",
       "    <tr>\n",
       "      <th>2022-05-16</th>\n",
       "      <td>3.309879e+11</td>\n",
       "      <td>7.604487e+10</td>\n",
       "      <td>4.263074e+11</td>\n",
       "      <td>4.505344e+12</td>\n",
       "      <td>6.997009e+11</td>\n",
       "      <td>1.912525e+10</td>\n",
       "      <td>2.514290e+12</td>\n",
       "      <td>2.373290e+10</td>\n",
       "      <td>4.232779e+12</td>\n",
       "      <td>6.707739e+10</td>\n",
       "      <td>...</td>\n",
       "      <td>8.490043e+10</td>\n",
       "      <td>NaN</td>\n",
       "      <td>NaN</td>\n",
       "      <td>NaN</td>\n",
       "      <td>NaN</td>\n",
       "      <td>NaN</td>\n",
       "      <td>NaN</td>\n",
       "      <td>NaN</td>\n",
       "      <td>NaN</td>\n",
       "      <td>NaN</td>\n",
       "    </tr>\n",
       "    <tr>\n",
       "      <th>2022-05-17</th>\n",
       "      <td>3.323845e+11</td>\n",
       "      <td>7.575645e+10</td>\n",
       "      <td>4.235659e+11</td>\n",
       "      <td>4.613906e+12</td>\n",
       "      <td>7.005574e+11</td>\n",
       "      <td>1.912525e+10</td>\n",
       "      <td>2.591437e+12</td>\n",
       "      <td>2.395893e+10</td>\n",
       "      <td>4.232779e+12</td>\n",
       "      <td>6.695930e+10</td>\n",
       "      <td>...</td>\n",
       "      <td>8.490043e+10</td>\n",
       "      <td>NaN</td>\n",
       "      <td>NaN</td>\n",
       "      <td>NaN</td>\n",
       "      <td>NaN</td>\n",
       "      <td>NaN</td>\n",
       "      <td>NaN</td>\n",
       "      <td>NaN</td>\n",
       "      <td>NaN</td>\n",
       "      <td>NaN</td>\n",
       "    </tr>\n",
       "    <tr>\n",
       "      <th>2022-05-18</th>\n",
       "      <td>3.351776e+11</td>\n",
       "      <td>7.527577e+10</td>\n",
       "      <td>4.167121e+11</td>\n",
       "      <td>4.794844e+12</td>\n",
       "      <td>6.954188e+11</td>\n",
       "      <td>1.915565e+10</td>\n",
       "      <td>2.580917e+12</td>\n",
       "      <td>2.390242e+10</td>\n",
       "      <td>4.291364e+12</td>\n",
       "      <td>6.743167e+10</td>\n",
       "      <td>...</td>\n",
       "      <td>8.373886e+10</td>\n",
       "      <td>NaN</td>\n",
       "      <td>NaN</td>\n",
       "      <td>NaN</td>\n",
       "      <td>NaN</td>\n",
       "      <td>NaN</td>\n",
       "      <td>NaN</td>\n",
       "      <td>NaN</td>\n",
       "      <td>NaN</td>\n",
       "      <td>NaN</td>\n",
       "    </tr>\n",
       "    <tr>\n",
       "      <th>2022-05-19</th>\n",
       "      <td>3.323845e+11</td>\n",
       "      <td>7.498735e+10</td>\n",
       "      <td>4.180829e+11</td>\n",
       "      <td>4.704375e+12</td>\n",
       "      <td>6.842853e+11</td>\n",
       "      <td>1.894281e+10</td>\n",
       "      <td>2.531823e+12</td>\n",
       "      <td>2.345036e+10</td>\n",
       "      <td>4.262072e+12</td>\n",
       "      <td>6.684120e+10</td>\n",
       "      <td>...</td>\n",
       "      <td>8.120452e+10</td>\n",
       "      <td>NaN</td>\n",
       "      <td>NaN</td>\n",
       "      <td>NaN</td>\n",
       "      <td>NaN</td>\n",
       "      <td>NaN</td>\n",
       "      <td>NaN</td>\n",
       "      <td>NaN</td>\n",
       "      <td>NaN</td>\n",
       "      <td>NaN</td>\n",
       "    </tr>\n",
       "    <tr>\n",
       "      <th>2022-05-20</th>\n",
       "      <td>NaN</td>\n",
       "      <td>NaN</td>\n",
       "      <td>NaN</td>\n",
       "      <td>NaN</td>\n",
       "      <td>NaN</td>\n",
       "      <td>NaN</td>\n",
       "      <td>NaN</td>\n",
       "      <td>NaN</td>\n",
       "      <td>NaN</td>\n",
       "      <td>NaN</td>\n",
       "      <td>...</td>\n",
       "      <td>NaN</td>\n",
       "      <td>NaN</td>\n",
       "      <td>NaN</td>\n",
       "      <td>NaN</td>\n",
       "      <td>NaN</td>\n",
       "      <td>NaN</td>\n",
       "      <td>NaN</td>\n",
       "      <td>NaN</td>\n",
       "      <td>NaN</td>\n",
       "      <td>NaN</td>\n",
       "    </tr>\n",
       "  </tbody>\n",
       "</table>\n",
       "<p>2062 rows × 3028 columns</p>\n",
       "</div>"
      ],
      "text/plain": [
       "ISU_SRT_CD        000020        000040        000050        000060  \\\n",
       "trdDd                                                                \n",
       "2014-01-02  1.240157e+11  5.227152e+10  2.778912e+11  1.570596e+12   \n",
       "2014-01-03  1.268089e+11  5.251021e+10  2.841220e+11  1.560464e+12   \n",
       "2014-01-06  1.272278e+11  5.251021e+10  2.903527e+11  1.555397e+12   \n",
       "2014-01-07  1.279261e+11  5.239087e+10  2.903527e+11  1.560464e+12   \n",
       "2014-01-08  1.321159e+11  5.298757e+10  2.841220e+11  1.560464e+12   \n",
       "...                  ...           ...           ...           ...   \n",
       "2022-05-16  3.309879e+11  7.604487e+10  4.263074e+11  4.505344e+12   \n",
       "2022-05-17  3.323845e+11  7.575645e+10  4.235659e+11  4.613906e+12   \n",
       "2022-05-18  3.351776e+11  7.527577e+10  4.167121e+11  4.794844e+12   \n",
       "2022-05-19  3.323845e+11  7.498735e+10  4.180829e+11  4.704375e+12   \n",
       "2022-05-20           NaN           NaN           NaN           NaN   \n",
       "\n",
       "ISU_SRT_CD        000070        000075        000080        000087  \\\n",
       "trdDd                                                                \n",
       "2014-01-02  6.005292e+11  9.912291e+09  1.525406e+12  1.904283e+10   \n",
       "2014-01-03  5.866394e+11  1.015554e+10  1.504366e+12  1.904283e+10   \n",
       "2014-01-06  5.939928e+11  1.015554e+10  1.521899e+12  1.853426e+10   \n",
       "2014-01-07  6.037974e+11  1.010993e+10  1.521899e+12  1.870378e+10   \n",
       "2014-01-08  6.013462e+11  9.881885e+09  1.511379e+12  1.853426e+10   \n",
       "...                  ...           ...           ...           ...   \n",
       "2022-05-16  6.997009e+11  1.912525e+10  2.514290e+12  2.373290e+10   \n",
       "2022-05-17  7.005574e+11  1.912525e+10  2.591437e+12  2.395893e+10   \n",
       "2022-05-18  6.954188e+11  1.915565e+10  2.580917e+12  2.390242e+10   \n",
       "2022-05-19  6.842853e+11  1.894281e+10  2.531823e+12  2.345036e+10   \n",
       "2022-05-20           NaN           NaN           NaN           NaN   \n",
       "\n",
       "ISU_SRT_CD        000100        000105  ...        37550L  388050  389140  \\\n",
       "trdDd                                   ...                                 \n",
       "2014-01-02  2.035340e+12  2.203634e+10  ...           NaN     NaN     NaN   \n",
       "2014-01-03  2.013035e+12  2.196548e+10  ...           NaN     NaN     NaN   \n",
       "2014-01-06  2.096679e+12  2.201272e+10  ...           NaN     NaN     NaN   \n",
       "2014-01-07  2.197052e+12  2.236700e+10  ...           NaN     NaN     NaN   \n",
       "2014-01-08  2.230509e+12  2.231977e+10  ...           NaN     NaN     NaN   \n",
       "...                  ...           ...  ...           ...     ...     ...   \n",
       "2022-05-16  4.232779e+12  6.707739e+10  ...  8.490043e+10     NaN     NaN   \n",
       "2022-05-17  4.232779e+12  6.695930e+10  ...  8.490043e+10     NaN     NaN   \n",
       "2022-05-18  4.291364e+12  6.743167e+10  ...  8.373886e+10     NaN     NaN   \n",
       "2022-05-19  4.262072e+12  6.684120e+10  ...  8.120452e+10     NaN     NaN   \n",
       "2022-05-20           NaN           NaN  ...           NaN     NaN     NaN   \n",
       "\n",
       "ISU_SRT_CD  405640  412930  413600  415580  419270  389260  399720  \n",
       "trdDd                                                               \n",
       "2014-01-02     NaN     NaN     NaN     NaN     NaN     NaN     NaN  \n",
       "2014-01-03     NaN     NaN     NaN     NaN     NaN     NaN     NaN  \n",
       "2014-01-06     NaN     NaN     NaN     NaN     NaN     NaN     NaN  \n",
       "2014-01-07     NaN     NaN     NaN     NaN     NaN     NaN     NaN  \n",
       "2014-01-08     NaN     NaN     NaN     NaN     NaN     NaN     NaN  \n",
       "...            ...     ...     ...     ...     ...     ...     ...  \n",
       "2022-05-16     NaN     NaN     NaN     NaN     NaN     NaN     NaN  \n",
       "2022-05-17     NaN     NaN     NaN     NaN     NaN     NaN     NaN  \n",
       "2022-05-18     NaN     NaN     NaN     NaN     NaN     NaN     NaN  \n",
       "2022-05-19     NaN     NaN     NaN     NaN     NaN     NaN     NaN  \n",
       "2022-05-20     NaN     NaN     NaN     NaN     NaN     NaN     NaN  \n",
       "\n",
       "[2062 rows x 3028 columns]"
      ]
     },
     "execution_count": 35,
     "metadata": {},
     "output_type": "execute_result"
    }
   ],
   "source": [
    "kospi_marketcap_df\n"
   ]
  },
  {
   "cell_type": "code",
   "execution_count": 36,
   "metadata": {},
   "outputs": [
    {
     "data": {
      "text/plain": [
       "trdDd\n",
       "2014-01-02    1967.190000\n",
       "2014-01-03    1945.638220\n",
       "2014-01-06    1953.500875\n",
       "2014-01-07    1959.143372\n",
       "2014-01-08    1959.462409\n",
       "                 ...     \n",
       "2022-05-16    3465.845534\n",
       "2022-05-17    3498.326030\n",
       "2022-05-18    3506.628419\n",
       "2022-05-19    3462.195259\n",
       "2022-05-20       0.000000\n",
       "Length: 2062, dtype: float64"
      ]
     },
     "execution_count": 36,
     "metadata": {},
     "output_type": "execute_result"
    }
   ],
   "source": [
    "kospi_calculated = kospi_marketcap_df.sum(axis=1)\n",
    "normalize_coef = kospi_firstday_value / kospi_calculated.iloc[0]\n",
    "kospi_calculated = kospi_calculated * normalize_coef\n",
    "kospi_calculated"
   ]
  },
  {
   "cell_type": "code",
   "execution_count": 37,
   "metadata": {},
   "outputs": [
    {
     "data": {
      "text/plain": [
       "<AxesSubplot:xlabel='trdDd'>"
      ]
     },
     "execution_count": 37,
     "metadata": {},
     "output_type": "execute_result"
    },
    {
     "data": {
      "image/png": "[encoded data removed]",
      "text/plain": [
       "<Figure size 432x288 with 1 Axes>"
      ]
     },
     "metadata": {
      "needs_background": "light"
     },
     "output_type": "display_data"
    }
   ],
   "source": [
    "kospi_calculated.plot()"
   ]
  },
  {
   "cell_type": "code",
   "execution_count": 38,
   "metadata": {},
   "outputs": [
    {
     "data": {
      "text/plain": [
       "<AxesSubplot:xlabel='Date'>"
      ]
     },
     "execution_count": 38,
     "metadata": {},
     "output_type": "execute_result"
    },
    {
     "data": {
      "image/png": "[encoded data removed]",
      "text/plain": [
       "<Figure size 432x288 with 1 Axes>"
      ]
     },
     "metadata": {
      "needs_background": "light"
     },
     "output_type": "display_data"
    }
   ],
   "source": [
    "kospi_index_df['Close'].plot()"
   ]
  },
  {
   "cell_type": "markdown",
   "metadata": {},
   "source": [
    "KOSPI 지수와 직접 계산한 시가총액 기준 지수가 너무 다른 것을 알 수 있다. \n",
    "\n",
    "이는 신규종목상장과 상장폐지종목을 고려하지 않았기 때문이다. \n",
    "\n",
    "단순 시가총액 합산방식을 쓰는데 중간에 신규종목상장/상장폐지가 발생하면 지수가 불연속적으로 jump 하기 때문에 KRX에서는 이를 고려하여 보정을 하기 때문. \n",
    "\n",
    "기준시가총액의 수정이 필요하다. \n",
    "\n",
    "산식은 다음과 같다. "
   ]
  },
  {
   "cell_type": "code",
   "execution_count": 39,
   "metadata": {},
   "outputs": [
    {
     "data": {
      "text/plain": [
       "23.0"
      ]
     },
     "execution_count": 39,
     "metadata": {},
     "output_type": "execute_result"
    }
   ],
   "source": [
    "# row에 대해 count 해주며 상장종목 수가 변한 횟수를 확인. \n",
    "# 하지만 count로만 확인할 경우 +1 -1 되면 offset 될 가능성이 있다. \n",
    "\n",
    "kospi_marketcap_df.count(axis=1).diff()[:-1].sum() # Probably not accruate"
   ]
  },
  {
   "cell_type": "code",
   "execution_count": 40,
   "metadata": {},
   "outputs": [
    {
     "data": {
      "text/plain": [
       "array([0., 0., 0., ..., 0., 0., 0.])"
      ]
     },
     "execution_count": 40,
     "metadata": {},
     "output_type": "execute_result"
    }
   ],
   "source": [
    "existance_arr = np.array(kospi_marketcap_df.isna())\n",
    "\n",
    "adjustment_days = np.zeros(existance_arr.shape[0])\n",
    "adjustment_days"
   ]
  },
  {
   "cell_type": "code",
   "execution_count": 41,
   "metadata": {},
   "outputs": [],
   "source": [
    "for idx in range(len(existance_arr[:-1])):\n",
    "    if not (existance_arr[idx] == existance_arr[idx+1]).all():\n",
    "        adjustment_days[idx+1] = 1\n",
    "\n",
    "adjustment_days = adjustment_days.astype(bool)\n",
    "adjustment_days = kospi_marketcap_df.index[adjustment_days]"
   ]
  },
  {
   "cell_type": "code",
   "execution_count": null,
   "metadata": {},
   "outputs": [],
   "source": []
  },
  {
   "cell_type": "markdown",
   "metadata": {},
   "source": [
    "## Get earnings calendar data"
   ]
  },
  {
   "cell_type": "code",
   "execution_count": 56,
   "metadata": {},
   "outputs": [],
   "source": [
    "earnings_calendar_df = pd.read_pickle('earnings_calendar_20140101-20220530.pickle')"
   ]
  },
  {
   "cell_type": "code",
   "execution_count": 57,
   "metadata": {},
   "outputs": [
    {
     "data": {
      "text/html": [
       "<div>\n",
       "<style scoped>\n",
       "    .dataframe tbody tr th:only-of-type {\n",
       "        vertical-align: middle;\n",
       "    }\n",
       "\n",
       "    .dataframe tbody tr th {\n",
       "        vertical-align: top;\n",
       "    }\n",
       "\n",
       "    .dataframe thead th {\n",
       "        text-align: right;\n",
       "    }\n",
       "</style>\n",
       "<table border=\"1\" class=\"dataframe\">\n",
       "  <thead>\n",
       "    <tr style=\"text-align: right;\">\n",
       "      <th></th>\n",
       "      <th>date</th>\n",
       "      <th>EPS</th>\n",
       "      <th>EPS_forecast</th>\n",
       "      <th>revenue</th>\n",
       "      <th>revenue_forecast</th>\n",
       "      <th>codename</th>\n",
       "      <th>sid</th>\n",
       "    </tr>\n",
       "  </thead>\n",
       "  <tbody>\n",
       "    <tr>\n",
       "      <th>0</th>\n",
       "      <td>2014-01-16</td>\n",
       "      <td>NaN</td>\n",
       "      <td>972.88</td>\n",
       "      <td>NaN</td>\n",
       "      <td>9.403600e+11</td>\n",
       "      <td>KT&amp;G Corp</td>\n",
       "      <td>033780</td>\n",
       "    </tr>\n",
       "    <tr>\n",
       "      <th>1</th>\n",
       "      <td>2014-01-20</td>\n",
       "      <td>-37.00</td>\n",
       "      <td>NaN</td>\n",
       "      <td>NaN</td>\n",
       "      <td>6.091100e+11</td>\n",
       "      <td>Hotel Shilla</td>\n",
       "      <td>008770</td>\n",
       "    </tr>\n",
       "    <tr>\n",
       "      <th>2</th>\n",
       "      <td>2014-01-21</td>\n",
       "      <td>NaN</td>\n",
       "      <td>1224.00</td>\n",
       "      <td>NaN</td>\n",
       "      <td>4.110000e+12</td>\n",
       "      <td>Hyundai Engineering &amp; Const</td>\n",
       "      <td>000720</td>\n",
       "    </tr>\n",
       "    <tr>\n",
       "      <th>3</th>\n",
       "      <td>2014-01-23</td>\n",
       "      <td>NaN</td>\n",
       "      <td>3033.00</td>\n",
       "      <td>NaN</td>\n",
       "      <td>2.285800e+13</td>\n",
       "      <td>Hyundai Motor</td>\n",
       "      <td>005380</td>\n",
       "    </tr>\n",
       "    <tr>\n",
       "      <th>4</th>\n",
       "      <td>2014-01-24</td>\n",
       "      <td>-4574.00</td>\n",
       "      <td>1785.00</td>\n",
       "      <td>NaN</td>\n",
       "      <td>1.295000e+12</td>\n",
       "      <td>Samsung SDI</td>\n",
       "      <td>006400</td>\n",
       "    </tr>\n",
       "    <tr>\n",
       "      <th>...</th>\n",
       "      <td>...</td>\n",
       "      <td>...</td>\n",
       "      <td>...</td>\n",
       "      <td>...</td>\n",
       "      <td>...</td>\n",
       "      <td>...</td>\n",
       "      <td>...</td>\n",
       "    </tr>\n",
       "    <tr>\n",
       "      <th>238</th>\n",
       "      <td>2022-02-02</td>\n",
       "      <td>285.47</td>\n",
       "      <td>55.28</td>\n",
       "      <td>5.890000e+11</td>\n",
       "      <td>5.915000e+11</td>\n",
       "      <td>Mirae Asset Daewoo Co</td>\n",
       "      <td>006805</td>\n",
       "    </tr>\n",
       "    <tr>\n",
       "      <th>239</th>\n",
       "      <td>2022-02-03</td>\n",
       "      <td>298.93</td>\n",
       "      <td>NaN</td>\n",
       "      <td>2.170800e+12</td>\n",
       "      <td>NaN</td>\n",
       "      <td>Doosan Heavy Ind. &amp; Const.</td>\n",
       "      <td>034020</td>\n",
       "    </tr>\n",
       "    <tr>\n",
       "      <th>240</th>\n",
       "      <td>2022-02-04</td>\n",
       "      <td>749.68</td>\n",
       "      <td>748.94</td>\n",
       "      <td>1.705630e+12</td>\n",
       "      <td>1.677880e+12</td>\n",
       "      <td>Industrial Bank Of Korea</td>\n",
       "      <td>024110</td>\n",
       "    </tr>\n",
       "    <tr>\n",
       "      <th>241</th>\n",
       "      <td>2022-02-07</td>\n",
       "      <td>-5849.66</td>\n",
       "      <td>-212.00</td>\n",
       "      <td>2.476000e+12</td>\n",
       "      <td>2.178250e+12</td>\n",
       "      <td>Hyundai Heavy Industries</td>\n",
       "      <td>329180</td>\n",
       "    </tr>\n",
       "    <tr>\n",
       "      <th>242</th>\n",
       "      <td>2022-02-08</td>\n",
       "      <td>173.11</td>\n",
       "      <td>141.76</td>\n",
       "      <td>4.439000e+12</td>\n",
       "      <td>4.439140e+12</td>\n",
       "      <td>LG Energy Solution</td>\n",
       "      <td>373220</td>\n",
       "    </tr>\n",
       "  </tbody>\n",
       "</table>\n",
       "<p>243 rows × 7 columns</p>\n",
       "</div>"
      ],
      "text/plain": [
       "          date      EPS  EPS_forecast       revenue  revenue_forecast  \\\n",
       "0   2014-01-16      NaN        972.88           NaN      9.403600e+11   \n",
       "1   2014-01-20   -37.00           NaN           NaN      6.091100e+11   \n",
       "2   2014-01-21      NaN       1224.00           NaN      4.110000e+12   \n",
       "3   2014-01-23      NaN       3033.00           NaN      2.285800e+13   \n",
       "4   2014-01-24 -4574.00       1785.00           NaN      1.295000e+12   \n",
       "..         ...      ...           ...           ...               ...   \n",
       "238 2022-02-02   285.47         55.28  5.890000e+11      5.915000e+11   \n",
       "239 2022-02-03   298.93           NaN  2.170800e+12               NaN   \n",
       "240 2022-02-04   749.68        748.94  1.705630e+12      1.677880e+12   \n",
       "241 2022-02-07 -5849.66       -212.00  2.476000e+12      2.178250e+12   \n",
       "242 2022-02-08   173.11        141.76  4.439000e+12      4.439140e+12   \n",
       "\n",
       "                         codename     sid  \n",
       "0                      KT&G Corp   033780  \n",
       "1                   Hotel Shilla   008770  \n",
       "2    Hyundai Engineering & Const   000720  \n",
       "3                  Hyundai Motor   005380  \n",
       "4                    Samsung SDI   006400  \n",
       "..                            ...     ...  \n",
       "238        Mirae Asset Daewoo Co   006805  \n",
       "239   Doosan Heavy Ind. & Const.   034020  \n",
       "240     Industrial Bank Of Korea   024110  \n",
       "241     Hyundai Heavy Industries   329180  \n",
       "242           LG Energy Solution   373220  \n",
       "\n",
       "[243 rows x 7 columns]"
      ]
     },
     "execution_count": 57,
     "metadata": {},
     "output_type": "execute_result"
    }
   ],
   "source": [
    "earnings_calendar_df"
   ]
  },
  {
   "cell_type": "code",
   "execution_count": 130,
   "metadata": {},
   "outputs": [
    {
     "data": {
      "text/plain": [
       "138"
      ]
     },
     "execution_count": 130,
     "metadata": {},
     "output_type": "execute_result"
    }
   ],
   "source": [
    "len(earnings_calendar_df['sid'].unique())"
   ]
  },
  {
   "cell_type": "code",
   "execution_count": 60,
   "metadata": {},
   "outputs": [],
   "source": [
    "earnings_calendar_df['is_announced'] = True"
   ]
  },
  {
   "cell_type": "code",
   "execution_count": 139,
   "metadata": {},
   "outputs": [],
   "source": [
    "earnings_announcement_df = earnings_calendar_df.pivot(index='date', columns='sid', values='is_announced')"
   ]
  },
  {
   "cell_type": "code",
   "execution_count": 140,
   "metadata": {},
   "outputs": [],
   "source": [
    "earnings_announcement_df = earnings_announcement_df.fillna(False)"
   ]
  },
  {
   "cell_type": "code",
   "execution_count": 141,
   "metadata": {},
   "outputs": [],
   "source": [
    "earnings_announcement_df = earnings_announcement_df.reindex(index=close_df.index, columns=close_df.columns)"
   ]
  },
  {
   "cell_type": "markdown",
   "metadata": {},
   "source": []
  },
  {
   "cell_type": "code",
   "execution_count": null,
   "metadata": {},
   "outputs": [],
   "source": []
  },
  {
   "cell_type": "code",
   "execution_count": null,
   "metadata": {},
   "outputs": [],
   "source": []
  },
  {
   "cell_type": "code",
   "execution_count": null,
   "metadata": {},
   "outputs": [],
   "source": []
  },
  {
   "cell_type": "code",
   "execution_count": 151,
   "metadata": {},
   "outputs": [
    {
     "data": {
      "text/plain": [
       "891"
      ]
     },
     "execution_count": 151,
     "metadata": {},
     "output_type": "execute_result"
    }
   ],
   "source": [
    "list(earnings_announcement_df.columns).index('033780')"
   ]
  },
  {
   "cell_type": "code",
   "execution_count": 143,
   "metadata": {},
   "outputs": [
    {
     "data": {
      "text/plain": [
       "243"
      ]
     },
     "execution_count": 143,
     "metadata": {},
     "output_type": "execute_result"
    }
   ],
   "source": [
    "a = np.array(earnings_announcement_df)\n",
    "\n",
    "np.nansum(a)"
   ]
  },
  {
   "cell_type": "code",
   "execution_count": 147,
   "metadata": {},
   "outputs": [],
   "source": [
    "b = np.where(a == True, a, False)"
   ]
  },
  {
   "cell_type": "code",
   "execution_count": 152,
   "metadata": {},
   "outputs": [],
   "source": [
    "x = b[:, 891]\n",
    "    "
   ]
  },
  {
   "cell_type": "code",
   "execution_count": 160,
   "metadata": {},
   "outputs": [
    {
     "data": {
      "text/plain": [
       "array([  15,  379,  750, 1114, 1478, 1842, 2206, 2577, 2941], dtype=int64)"
      ]
     },
     "execution_count": 160,
     "metadata": {},
     "output_type": "execute_result"
    }
   ],
   "source": [
    "np.where(x == True)[0]"
   ]
  },
  {
   "cell_type": "code",
   "execution_count": null,
   "metadata": {},
   "outputs": [],
   "source": []
  },
  {
   "cell_type": "code",
   "execution_count": 168,
   "metadata": {},
   "outputs": [],
   "source": [
    "dollarvolume_tradingdays_df = dollarvolume_df.loc[tradingdays, :]\n",
    "earnings_announcement_tradingdays_df = earnings_announcement_df.loc[tradingdays, :]"
   ]
  },
  {
   "cell_type": "code",
   "execution_count": 243,
   "metadata": {},
   "outputs": [],
   "source": [
    "def event_by_sid(dollarvolume_df, earnings_announcement_df, d_minus=5, d_plus=20):\n",
    "    assert dollarvolume_df.shape == earnings_announcement_df.shape\n",
    "    assert (dollarvolume_df.index == earnings_announcement_df.index).all()\n",
    "    assert (dollarvolume_df.columns == earnings_announcement_df.columns).all()\n",
    "\n",
    "    sid_list = dollarvolume_df.columns\n",
    "    date_list = np.array(dollarvolume_df.index)\n",
    "\n",
    "    dollarvolume_2d = np.array(dollarvolume_df)\n",
    "    event_2d = np.array(earnings_announcement_df)\n",
    "    event_2d = np.where(event_2d == True, event_2d, False)\n",
    "    \n",
    "    dollarvolume_data = []\n",
    "    for col_idx in range(event_2d.shape[1]):\n",
    "        sid = sid_list[col_idx]\n",
    "\n",
    "        dollar_col = dollarvolume_2d[:, col_idx]\n",
    "        col = event_2d[:, col_idx]\n",
    "        event_indices = np.where(col == True)[0]\n",
    "        dates = date_list[event_indices]\n",
    "\n",
    "        for event_idx, date in zip(event_indices, dates):\n",
    "            start_idx = event_idx - d_minus\n",
    "            if start_idx < 0:\n",
    "                start_idx = 0\n",
    "            \n",
    "            end_idx = event_idx + d_plus\n",
    "            if end_idx > len(col):\n",
    "                end_idx = len(col) - 1\n",
    "            \n",
    "            event_period_data = dollar_col[start_idx:end_idx]\n",
    "            dollarvolume_data.append({\n",
    "                'sid': sid,\n",
    "                'd_zero_date': date,\n",
    "                'data': event_period_data, # TODO: Somewhere, data is becoming object!! \n",
    "            })\n",
    "    \n",
    "    return dollarvolume_data"
   ]
  },
  {
   "cell_type": "code",
   "execution_count": 244,
   "metadata": {},
   "outputs": [],
   "source": [
    "dollarvolume_data = event_by_sid(dollarvolume_tradingdays_df, earnings_announcement_tradingdays_df)"
   ]
  },
  {
   "cell_type": "code",
   "execution_count": 292,
   "metadata": {},
   "outputs": [],
   "source": [
    "def normalize_before_eventstudy(dollarvolume_data): # TODO: 시총 가중 할 수 있도록. \n",
    "    # normalize\n",
    "    exploded_df = pd.DataFrame(dollarvolume_data).explode('data')\n",
    "    exploded_df.reset_index(inplace=True, drop=True)\n",
    "    exploded_df['data'] = exploded_df['data'].astype(float) # TODO: Somewhere before data has become object!!\n",
    "\n",
    "    mean_by_sid = exploded_df[['sid', 'data']].groupby('sid').mean()\n",
    "    mean_by_sid['sid'] = mean_by_sid.index\n",
    "    mean_by_sid['sid'] = mean_by_sid['sid'].astype(str).apply(lambda x: str(x).zfill(6))\n",
    "    mean_by_sid.reset_index(inplace=True, drop=True)\n",
    "    mean_by_sid.rename({'data': 'mean'}, axis=1, inplace=True)\n",
    "    \n",
    "    std_by_sid = exploded_df[['sid', 'data']].groupby('sid').std()\n",
    "    std_by_sid['sid'] = std_by_sid.index\n",
    "    std_by_sid['sid'] = std_by_sid['sid'].astype(str).apply(lambda x: str(x).zfill(6))\n",
    "    std_by_sid.reset_index(inplace=True, drop=True)\n",
    "    std_by_sid.rename({'data': 'std'}, axis=1, inplace=True)\n",
    "    std_by_sid['std'] += 1e-7\n",
    "\n",
    "    df = exploded_df.merge(mean_by_sid, on='sid', how='left') # .join DOES NOT WORK! Quirky behavior. Might be an error in pandas. (from Stackoverflow)\n",
    "    df = df.merge(std_by_sid, on='sid', how='left')\n",
    "\n",
    "    df['z_score'] = (df['data'] - df['mean']) / df['std']\n",
    "\n",
    "    return df\n",
    "    "
   ]
  },
  {
   "cell_type": "code",
   "execution_count": 293,
   "metadata": {},
   "outputs": [],
   "source": [
    "df = normalize_before_eventstudy(dollarvolume_data)"
   ]
  },
  {
   "cell_type": "code",
   "execution_count": 294,
   "metadata": {},
   "outputs": [
    {
     "data": {
      "text/html": [
       "<div>\n",
       "<style scoped>\n",
       "    .dataframe tbody tr th:only-of-type {\n",
       "        vertical-align: middle;\n",
       "    }\n",
       "\n",
       "    .dataframe tbody tr th {\n",
       "        vertical-align: top;\n",
       "    }\n",
       "\n",
       "    .dataframe thead th {\n",
       "        text-align: right;\n",
       "    }\n",
       "</style>\n",
       "<table border=\"1\" class=\"dataframe\">\n",
       "  <thead>\n",
       "    <tr style=\"text-align: right;\">\n",
       "      <th></th>\n",
       "      <th>sid</th>\n",
       "      <th>d_zero_date</th>\n",
       "      <th>data</th>\n",
       "      <th>mean</th>\n",
       "      <th>std</th>\n",
       "      <th>z_score</th>\n",
       "    </tr>\n",
       "  </thead>\n",
       "  <tbody>\n",
       "    <tr>\n",
       "      <th>0</th>\n",
       "      <td>000100</td>\n",
       "      <td>2015-02-25</td>\n",
       "      <td>5.294055e+09</td>\n",
       "      <td>1.312313e+10</td>\n",
       "      <td>1.000141e+10</td>\n",
       "      <td>-0.782797</td>\n",
       "    </tr>\n",
       "    <tr>\n",
       "      <th>1</th>\n",
       "      <td>000100</td>\n",
       "      <td>2015-02-25</td>\n",
       "      <td>5.686146e+09</td>\n",
       "      <td>1.312313e+10</td>\n",
       "      <td>1.000141e+10</td>\n",
       "      <td>-0.743594</td>\n",
       "    </tr>\n",
       "    <tr>\n",
       "      <th>2</th>\n",
       "      <td>000100</td>\n",
       "      <td>2015-02-25</td>\n",
       "      <td>3.783897e+09</td>\n",
       "      <td>1.312313e+10</td>\n",
       "      <td>1.000141e+10</td>\n",
       "      <td>-0.933792</td>\n",
       "    </tr>\n",
       "    <tr>\n",
       "      <th>3</th>\n",
       "      <td>000100</td>\n",
       "      <td>2015-02-25</td>\n",
       "      <td>3.121820e+09</td>\n",
       "      <td>1.312313e+10</td>\n",
       "      <td>1.000141e+10</td>\n",
       "      <td>-0.999990</td>\n",
       "    </tr>\n",
       "    <tr>\n",
       "      <th>4</th>\n",
       "      <td>000100</td>\n",
       "      <td>2015-02-25</td>\n",
       "      <td>3.899854e+09</td>\n",
       "      <td>1.312313e+10</td>\n",
       "      <td>1.000141e+10</td>\n",
       "      <td>-0.922198</td>\n",
       "    </tr>\n",
       "    <tr>\n",
       "      <th>...</th>\n",
       "      <td>...</td>\n",
       "      <td>...</td>\n",
       "      <td>...</td>\n",
       "      <td>...</td>\n",
       "      <td>...</td>\n",
       "      <td>...</td>\n",
       "    </tr>\n",
       "    <tr>\n",
       "      <th>5645</th>\n",
       "      <td>377330</td>\n",
       "      <td>2022-01-05</td>\n",
       "      <td>NaN</td>\n",
       "      <td>5.123408e+11</td>\n",
       "      <td>NaN</td>\n",
       "      <td>NaN</td>\n",
       "    </tr>\n",
       "    <tr>\n",
       "      <th>5646</th>\n",
       "      <td>377330</td>\n",
       "      <td>2022-01-05</td>\n",
       "      <td>NaN</td>\n",
       "      <td>5.123408e+11</td>\n",
       "      <td>NaN</td>\n",
       "      <td>NaN</td>\n",
       "    </tr>\n",
       "    <tr>\n",
       "      <th>5647</th>\n",
       "      <td>377330</td>\n",
       "      <td>2022-01-05</td>\n",
       "      <td>NaN</td>\n",
       "      <td>5.123408e+11</td>\n",
       "      <td>NaN</td>\n",
       "      <td>NaN</td>\n",
       "    </tr>\n",
       "    <tr>\n",
       "      <th>5648</th>\n",
       "      <td>377330</td>\n",
       "      <td>2022-01-05</td>\n",
       "      <td>NaN</td>\n",
       "      <td>5.123408e+11</td>\n",
       "      <td>NaN</td>\n",
       "      <td>NaN</td>\n",
       "    </tr>\n",
       "    <tr>\n",
       "      <th>5649</th>\n",
       "      <td>377330</td>\n",
       "      <td>2022-01-05</td>\n",
       "      <td>5.123408e+11</td>\n",
       "      <td>5.123408e+11</td>\n",
       "      <td>NaN</td>\n",
       "      <td>NaN</td>\n",
       "    </tr>\n",
       "  </tbody>\n",
       "</table>\n",
       "<p>5650 rows × 6 columns</p>\n",
       "</div>"
      ],
      "text/plain": [
       "         sid d_zero_date          data          mean           std   z_score\n",
       "0     000100  2015-02-25  5.294055e+09  1.312313e+10  1.000141e+10 -0.782797\n",
       "1     000100  2015-02-25  5.686146e+09  1.312313e+10  1.000141e+10 -0.743594\n",
       "2     000100  2015-02-25  3.783897e+09  1.312313e+10  1.000141e+10 -0.933792\n",
       "3     000100  2015-02-25  3.121820e+09  1.312313e+10  1.000141e+10 -0.999990\n",
       "4     000100  2015-02-25  3.899854e+09  1.312313e+10  1.000141e+10 -0.922198\n",
       "...      ...         ...           ...           ...           ...       ...\n",
       "5645  377330  2022-01-05           NaN  5.123408e+11           NaN       NaN\n",
       "5646  377330  2022-01-05           NaN  5.123408e+11           NaN       NaN\n",
       "5647  377330  2022-01-05           NaN  5.123408e+11           NaN       NaN\n",
       "5648  377330  2022-01-05           NaN  5.123408e+11           NaN       NaN\n",
       "5649  377330  2022-01-05  5.123408e+11  5.123408e+11           NaN       NaN\n",
       "\n",
       "[5650 rows x 6 columns]"
      ]
     },
     "execution_count": 294,
     "metadata": {},
     "output_type": "execute_result"
    }
   ],
   "source": [
    "df"
   ]
  },
  {
   "cell_type": "code",
   "execution_count": 295,
   "metadata": {},
   "outputs": [
    {
     "name": "stdout",
     "output_type": "stream",
     "text": [
      "<class 'pandas.core.frame.DataFrame'>\n",
      "Int64Index: 5650 entries, 0 to 5649\n",
      "Data columns (total 6 columns):\n",
      " #   Column       Non-Null Count  Dtype         \n",
      "---  ------       --------------  -----         \n",
      " 0   sid          5650 non-null   object        \n",
      " 1   d_zero_date  5650 non-null   datetime64[ns]\n",
      " 2   data         5211 non-null   float64       \n",
      " 3   mean         5500 non-null   float64       \n",
      " 4   std          5475 non-null   float64       \n",
      " 5   z_score      5210 non-null   float64       \n",
      "dtypes: datetime64[ns](1), float64(4), object(1)\n",
      "memory usage: 309.0+ KB\n"
     ]
    }
   ],
   "source": [
    "df.info()"
   ]
  },
  {
   "cell_type": "code",
   "execution_count": 296,
   "metadata": {},
   "outputs": [],
   "source": [
    "df['d_date_num'] = df.groupby(['sid', 'd_zero_date']).cumcount()"
   ]
  },
  {
   "cell_type": "code",
   "execution_count": 300,
   "metadata": {},
   "outputs": [],
   "source": [
    "final_event_period_data = df.groupby('d_date_num').mean()['z_score']"
   ]
  },
  {
   "cell_type": "code",
   "execution_count": 303,
   "metadata": {},
   "outputs": [
    {
     "data": {
      "text/plain": [
       "d_date_num\n",
       "0     0.040167\n",
       "1     0.024499\n",
       "2    -0.124203\n",
       "3    -0.110151\n",
       "4    -0.036288\n",
       "5     0.226539\n",
       "6     0.644793\n",
       "7     0.176462\n",
       "8     0.078398\n",
       "9    -0.001187\n",
       "10    0.024442\n",
       "11   -0.002233\n",
       "12   -0.072015\n",
       "13   -0.123089\n",
       "14   -0.033486\n",
       "15   -0.090085\n",
       "16   -0.154515\n",
       "17   -0.043097\n",
       "18   -0.120702\n",
       "19   -0.136416\n",
       "20   -0.089115\n",
       "21    0.023719\n",
       "22   -0.007987\n",
       "23   -0.090803\n",
       "24    0.025016\n",
       "Name: z_score, dtype: float64"
      ]
     },
     "execution_count": 303,
     "metadata": {},
     "output_type": "execute_result"
    }
   ],
   "source": [
    "final_event_period_data"
   ]
  },
  {
   "cell_type": "code",
   "execution_count": 308,
   "metadata": {},
   "outputs": [
    {
     "data": {
      "text/plain": [
       "<matplotlib.lines.Line2D at 0x24f1a99ba90>"
      ]
     },
     "execution_count": 308,
     "metadata": {},
     "output_type": "execute_result"
    },
    {
     "data": {
      "image/png": "[encoded data removed]",
      "text/plain": [
       "<Figure size 432x288 with 1 Axes>"
      ]
     },
     "metadata": {
      "needs_background": "light"
     },
     "output_type": "display_data"
    }
   ],
   "source": [
    "sns.lineplot(x=final_event_period_data.index, y=final_event_period_data)\n",
    "plt.axvline(x=5, ymin=0, ymax=1, color='red')"
   ]
  },
  {
   "cell_type": "code",
   "execution_count": null,
   "metadata": {},
   "outputs": [],
   "source": []
  },
  {
   "cell_type": "code",
   "execution_count": null,
   "metadata": {},
   "outputs": [],
   "source": []
  },
  {
   "cell_type": "code",
   "execution_count": null,
   "metadata": {},
   "outputs": [],
   "source": []
  },
  {
   "cell_type": "code",
   "execution_count": null,
   "metadata": {},
   "outputs": [],
   "source": []
  },
  {
   "cell_type": "code",
   "execution_count": null,
   "metadata": {},
   "outputs": [],
   "source": []
  },
  {
   "cell_type": "code",
   "execution_count": null,
   "metadata": {},
   "outputs": [],
   "source": []
  },
  {
   "cell_type": "code",
   "execution_count": null,
   "metadata": {},
   "outputs": [],
   "source": []
  },
  {
   "cell_type": "code",
   "execution_count": null,
   "metadata": {},
   "outputs": [],
   "source": []
  },
  {
   "cell_type": "code",
   "execution_count": null,
   "metadata": {},
   "outputs": [],
   "source": []
  },
  {
   "cell_type": "code",
   "execution_count": null,
   "metadata": {},
   "outputs": [],
   "source": []
  },
  {
   "cell_type": "code",
   "execution_count": 42,
   "metadata": {},
   "outputs": [
    {
     "data": {
      "text/plain": [
       "<AxesSubplot:xlabel='2022-05-20 00:00:00', ylabel='Count'>"
      ]
     },
     "execution_count": 42,
     "metadata": {},
     "output_type": "execute_result"
    },
    {
     "data": {
      "image/png": "[encoded data removed]",
      "text/plain": [
       "<Figure size 432x288 with 1 Axes>"
      ]
     },
     "metadata": {
      "needs_background": "light"
     },
     "output_type": "display_data"
    }
   ],
   "source": [
    "latest_marketcap = marketcap_df.iloc[-1]\n",
    "latest_marketcap = latest_marketcap[~latest_marketcap.isnull()]\n",
    "\n",
    "sns.histplot(latest_marketcap)"
   ]
  },
  {
   "cell_type": "code",
   "execution_count": 43,
   "metadata": {},
   "outputs": [
    {
     "data": {
      "text/plain": [
       "ISU_SRT_CD\n",
       "005930    4.059452e+14\n",
       "Name: 2022-05-20 00:00:00, dtype: float64"
      ]
     },
     "execution_count": 43,
     "metadata": {},
     "output_type": "execute_result"
    }
   ],
   "source": [
    "latest_marketcap[latest_marketcap == latest_marketcap.max()] # 삼성전자(005930)가 지나친 outlier"
   ]
  },
  {
   "cell_type": "markdown",
   "metadata": {},
   "source": [
    "- 2022-06-11 기준 시가총액\n",
    "    1. 삼성전자: 3,808,721억원\n",
    "    2. LG 에너지솔루션: 994,500억원\n",
    "    3. SK 하이닉스: 753,482억원\n",
    "\n",
    "최소 시총 금액도 정해서 해야 할 듯. \n",
    "\n",
    "일단 가볍게 90% quantile"
   ]
  },
  {
   "cell_type": "code",
   "execution_count": 44,
   "metadata": {},
   "outputs": [],
   "source": [
    "FLOOR_MARKETCAP_QUANTILE = 0.2\n",
    "CEILING_MARKETCAP_QUANTILE = 0.01\n"
   ]
  },
  {
   "cell_type": "code",
   "execution_count": 45,
   "metadata": {},
   "outputs": [
    {
     "data": {
      "text/plain": [
       "62335416187.99999"
      ]
     },
     "execution_count": 45,
     "metadata": {},
     "output_type": "execute_result"
    }
   ],
   "source": [
    "floor_quantile_value = np.quantile(latest_marketcap, FLOOR_MARKETCAP_QUANTILE)\n",
    "floor_quantile_value"
   ]
  },
  {
   "cell_type": "code",
   "execution_count": 46,
   "metadata": {},
   "outputs": [
    {
     "data": {
      "text/plain": [
       "12697886979424.035"
      ]
     },
     "execution_count": 46,
     "metadata": {},
     "output_type": "execute_result"
    }
   ],
   "source": [
    "ceiling_quantile_value = np.quantile(latest_marketcap, 1 - CEILING_MARKETCAP_QUANTILE)\n",
    "ceiling_quantile_value"
   ]
  },
  {
   "cell_type": "code",
   "execution_count": 47,
   "metadata": {},
   "outputs": [
    {
     "data": {
      "text/plain": [
       "<AxesSubplot:xlabel='2022-05-20 00:00:00', ylabel='Count'>"
      ]
     },
     "execution_count": 47,
     "metadata": {},
     "output_type": "execute_result"
    },
    {
     "data": {
      "image/png": "[encoded data removed]",
      "text/plain": [
       "<Figure size 432x288 with 1 Axes>"
      ]
     },
     "metadata": {
      "needs_background": "light"
     },
     "output_type": "display_data"
    }
   ],
   "source": [
    "latest_marketcap_hist = latest_marketcap[(floor_quantile_value <= latest_marketcap) & (latest_marketcap <= ceiling_quantile_value)]\n",
    "sns.histplot(latest_marketcap_hist)"
   ]
  },
  {
   "cell_type": "markdown",
   "metadata": {},
   "source": [
    "Let's try `log()` transformation"
   ]
  },
  {
   "cell_type": "code",
   "execution_count": 48,
   "metadata": {},
   "outputs": [
    {
     "data": {
      "text/plain": [
       "<AxesSubplot:xlabel='2022-05-20 00:00:00', ylabel='Count'>"
      ]
     },
     "execution_count": 48,
     "metadata": {},
     "output_type": "execute_result"
    },
    {
     "data": {
      "image/png": "[encoded data removed]",
      "text/plain": [
       "<Figure size 432x288 with 1 Axes>"
      ]
     },
     "metadata": {
      "needs_background": "light"
     },
     "output_type": "display_data"
    }
   ],
   "source": [
    "latest_marketcap_log = np.log(latest_marketcap)\n",
    "sns.histplot(latest_marketcap_log)"
   ]
  },
  {
   "cell_type": "code",
   "execution_count": 49,
   "metadata": {},
   "outputs": [
    {
     "data": {
      "text/html": [
       "<div>\n",
       "<style scoped>\n",
       "    .dataframe tbody tr th:only-of-type {\n",
       "        vertical-align: middle;\n",
       "    }\n",
       "\n",
       "    .dataframe tbody tr th {\n",
       "        vertical-align: top;\n",
       "    }\n",
       "\n",
       "    .dataframe thead th {\n",
       "        text-align: right;\n",
       "    }\n",
       "</style>\n",
       "<table border=\"1\" class=\"dataframe\">\n",
       "  <thead>\n",
       "    <tr style=\"text-align: right;\">\n",
       "      <th></th>\n",
       "      <th>marketcap</th>\n",
       "      <th>sid</th>\n",
       "    </tr>\n",
       "  </thead>\n",
       "  <tbody>\n",
       "    <tr>\n",
       "      <th>0</th>\n",
       "      <td>4.059452e+14</td>\n",
       "      <td>005930</td>\n",
       "    </tr>\n",
       "    <tr>\n",
       "      <th>1</th>\n",
       "      <td>1.015560e+14</td>\n",
       "      <td>373220</td>\n",
       "    </tr>\n",
       "    <tr>\n",
       "      <th>2</th>\n",
       "      <td>8.190027e+13</td>\n",
       "      <td>000660</td>\n",
       "    </tr>\n",
       "    <tr>\n",
       "      <th>3</th>\n",
       "      <td>5.750859e+13</td>\n",
       "      <td>207940</td>\n",
       "    </tr>\n",
       "    <tr>\n",
       "      <th>4</th>\n",
       "      <td>4.994922e+13</td>\n",
       "      <td>005935</td>\n",
       "    </tr>\n",
       "    <tr>\n",
       "      <th>...</th>\n",
       "      <td>...</td>\n",
       "      <td>...</td>\n",
       "    </tr>\n",
       "    <tr>\n",
       "      <th>600</th>\n",
       "      <td>3.711285e+11</td>\n",
       "      <td>030530</td>\n",
       "    </tr>\n",
       "    <tr>\n",
       "      <th>601</th>\n",
       "      <td>3.700000e+11</td>\n",
       "      <td>037070</td>\n",
       "    </tr>\n",
       "    <tr>\n",
       "      <th>602</th>\n",
       "      <td>3.697404e+11</td>\n",
       "      <td>051370</td>\n",
       "    </tr>\n",
       "    <tr>\n",
       "      <th>603</th>\n",
       "      <td>3.697395e+11</td>\n",
       "      <td>104700</td>\n",
       "    </tr>\n",
       "    <tr>\n",
       "      <th>604</th>\n",
       "      <td>3.696556e+11</td>\n",
       "      <td>071055</td>\n",
       "    </tr>\n",
       "  </tbody>\n",
       "</table>\n",
       "<p>605 rows × 2 columns</p>\n",
       "</div>"
      ],
      "text/plain": [
       "        marketcap     sid\n",
       "0    4.059452e+14  005930\n",
       "1    1.015560e+14  373220\n",
       "2    8.190027e+13  000660\n",
       "3    5.750859e+13  207940\n",
       "4    4.994922e+13  005935\n",
       "..            ...     ...\n",
       "600  3.711285e+11  030530\n",
       "601  3.700000e+11  037070\n",
       "602  3.697404e+11  051370\n",
       "603  3.697395e+11  104700\n",
       "604  3.696556e+11  071055\n",
       "\n",
       "[605 rows x 2 columns]"
      ]
     },
     "execution_count": 49,
     "metadata": {},
     "output_type": "execute_result"
    }
   ],
   "source": [
    "marketcap_top20p = marketcap_df.iloc[-1].copy()\n",
    "marketcap_top20p = marketcap_top20p.astype(float)\n",
    "marketcap_top20p = pd.DataFrame({'marketcap': marketcap_top20p, 'sid': marketcap_top20p.index})\n",
    "marketcap_top20p.sort_values(inplace=True, by='marketcap', ascending=False)\n",
    "marketcap_top20p.reset_index(inplace=True, drop=True)\n",
    "\n",
    "p20 = int(len(marketcap_top20p) * 0.2)\n",
    "\n",
    "marketcap_top20p = marketcap_top20p.iloc[:p20]\n",
    "marketcap_top20p"
   ]
  },
  {
   "cell_type": "code",
   "execution_count": 50,
   "metadata": {},
   "outputs": [],
   "source": [
    "marketcap_top20p_list = list(marketcap_top20p['sid'])\n",
    "\n",
    "with open('sid_list_top20p.pickle', 'wb') as p:\n",
    "    pickle.dump(marketcap_top20p_list, p)"
   ]
  },
  {
   "cell_type": "code",
   "execution_count": null,
   "metadata": {},
   "outputs": [],
   "source": []
  },
  {
   "cell_type": "code",
   "execution_count": 51,
   "metadata": {},
   "outputs": [],
   "source": [
    "sid2codename = lv1_df[['ISU_SRT_CD', 'ISU_ABBRV', 'MKT_NM']].copy().drop_duplicates()"
   ]
  },
  {
   "cell_type": "code",
   "execution_count": 52,
   "metadata": {},
   "outputs": [],
   "source": [
    "sid2codename['MKT_NM'] = sid2codename['MKT_NM'].str.lower()"
   ]
  },
  {
   "cell_type": "code",
   "execution_count": 53,
   "metadata": {},
   "outputs": [],
   "source": [
    "kospi_sid2codename = sid2codename[sid2codename['MKT_NM'] == 'kospi']\n",
    "kosdaq_sid2codename = sid2codename[sid2codename['MKT_NM'] == 'kosdaq']"
   ]
  },
  {
   "cell_type": "code",
   "execution_count": 54,
   "metadata": {},
   "outputs": [],
   "source": [
    "kospi_sid2codename = {sid: codename for sid, codename in zip(kospi_sid2codename['ISU_SRT_CD'], kospi_sid2codename['ISU_ABBRV'])}\n",
    "kosdaq_sid2codename = {sid: codename for sid, codename in zip(kosdaq_sid2codename['ISU_SRT_CD'], kosdaq_sid2codename['ISU_ABBRV'])}"
   ]
  },
  {
   "cell_type": "code",
   "execution_count": 55,
   "metadata": {},
   "outputs": [],
   "source": [
    "with open('kospi_ii2codename_combined.pickle', 'wb') as p:\n",
    "    pickle.dump(kospi_sid2codename, p)\n",
    "\n",
    "with open('kosdaq_ii2codename_combined.pickle', 'wb') as p:\n",
    "    pickle.dump(kosdaq_sid2codename, p)"
   ]
  },
  {
   "cell_type": "code",
   "execution_count": null,
   "metadata": {},
   "outputs": [],
   "source": []
  },
  {
   "cell_type": "markdown",
   "metadata": {},
   "source": [
    "아래는 잠시 우리은행꺼. "
   ]
  },
  {
   "cell_type": "code",
   "execution_count": 42,
   "metadata": {},
   "outputs": [],
   "source": [
    "# kospi_ii_l = kospi_univ_df.columns\n",
    "# kospi_ii2dates = {}\n",
    "\n",
    "# for ii in kospi_ii_l:\n",
    "#     dates = kospi_univ_df[ii].index[kospi_univ_df[ii].fillna(False)]\n",
    "#     if len(dates) > 0:\n",
    "#         kospi_ii2dates[ii] = dates"
   ]
  },
  {
   "cell_type": "code",
   "execution_count": 43,
   "metadata": {},
   "outputs": [],
   "source": [
    "# kosdaq_ii_l = kosdaq_univ_df.columns\n",
    "# kosdaq_ii2dates = {}\n",
    "\n",
    "# for ii in kosdaq_ii_l:\n",
    "#     dates = kosdaq_univ_df[ii].index[kosdaq_univ_df[ii].fillna(False)]\n",
    "#     if len(dates) > 0:\n",
    "#         kosdaq_ii2dates[ii] = dates"
   ]
  },
  {
   "cell_type": "code",
   "execution_count": 44,
   "metadata": {},
   "outputs": [],
   "source": [
    "# pickle.dump(kospi_ii2dates, open('kospi_ii2dates.pickle','wb'))\n",
    "# pickle.dump(kosdaq_ii2dates, open('kosdaq_ii2dates.pickle', 'wb'))"
   ]
  },
  {
   "cell_type": "markdown",
   "metadata": {},
   "source": [
    "Finding: \n",
    "\n",
    "- 우리은행(000030) -> 우리금융지주(316140) 으로 바뀌었던 적이 있다. 즉, KRX의 sid는 가변적이다. \n",
    "- 게다가 KRX에서는 이렇게 지나간 sid에 대해 검색되지 않도록 해놨다. "
   ]
  },
  {
   "cell_type": "markdown",
   "metadata": {},
   "source": [
    "## 3. Make price-volume chart graph\n",
    "\n",
    "- Simple price-volume chart using both `seaborn`/`streamlit`\n",
    "- Show biggest winners/losers on mouse hover\n",
    "    - Make pseudo-KOSPI portfolio mimicking KOSPI index\n",
    "    - Show Top 3 winners/losers on the graph "
   ]
  },
  {
   "cell_type": "markdown",
   "metadata": {},
   "source": [
    "## 4. Make Finviz-style stock tree map"
   ]
  },
  {
   "cell_type": "markdown",
   "metadata": {},
   "source": [
    "## 5. Make return correlation clustering DM \n",
    "\n",
    "- Also, visualize the result"
   ]
  },
  {
   "cell_type": "markdown",
   "metadata": {},
   "source": [
    "## 6. Create NLP news DM"
   ]
  },
  {
   "cell_type": "markdown",
   "metadata": {},
   "source": []
  }
 ],
 "metadata": {
  "interpreter": {
   "hash": "b653a6991a0150363b7c7df033ded56ed180846b604af9b857a996de5a460eb0"
  },
  "kernelspec": {
   "display_name": "Python 3.8.6 ('.venv': poetry)",
   "language": "python",
   "name": "python3"
  },
  "language_info": {
   "codemirror_mode": {
    "name": "ipython",
    "version": 3
   },
   "file_extension": ".py",
   "mimetype": "text/x-python",
   "name": "python",
   "nbconvert_exporter": "python",
   "pygments_lexer": "ipython3",
   "version": "3.8.6"
  },
  "orig_nbformat": 4
 },
 "nbformat": 4,
 "nbformat_minor": 2
}
