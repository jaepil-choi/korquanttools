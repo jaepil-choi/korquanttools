{
 "cells": [
  {
   "attachments": {},
   "cell_type": "markdown",
   "metadata": {},
   "source": [
    "# Get KRX fundamental data\n",
    "\n",
    "KRX에 있는 funda 데이터 가져옴. \n",
    "\n",
    "PER, PBR 있음. "
   ]
  },
  {
   "cell_type": "code",
   "execution_count": 11,
   "metadata": {},
   "outputs": [],
   "source": [
    "from pathlib import Path\n",
    "from tqdm import tqdm\n",
    "\n",
    "import matplotlib.pyplot as plt\n",
    "import seaborn as sns\n",
    "\n",
    "import pandas as pd\n",
    "import numpy as np\n",
    "\n",
    "import pickle"
   ]
  },
  {
   "cell_type": "code",
   "execution_count": 2,
   "metadata": {},
   "outputs": [],
   "source": [
    "import FinanceDataReader as fdr\n",
    "import quantstats as qs"
   ]
  },
  {
   "cell_type": "code",
   "execution_count": 10,
   "metadata": {},
   "outputs": [],
   "source": [
    "import requests\n",
    "from requests.adapters import HTTPAdapter\n",
    "from requests.packages.urllib3.util.retry import Retry"
   ]
  },
  {
   "cell_type": "code",
   "execution_count": 5,
   "metadata": {},
   "outputs": [],
   "source": [
    "## custom libs\n",
    "\n",
    "from korquanttools.pricevolume.loader import KRXPriceDM\n",
    "from korquanttools.pricevolume.utils import DateUtil\n",
    "from korquanttools.pricevolume.config import PathConfig"
   ]
  },
  {
   "cell_type": "code",
   "execution_count": 158,
   "metadata": {},
   "outputs": [],
   "source": [
    "# Global parameters\n",
    "\n",
    "START = 20140101\n",
    "END = 20221202\n",
    "\n",
    "WINDOW = 60 # trading day 기준"
   ]
  },
  {
   "cell_type": "code",
   "execution_count": 159,
   "metadata": {},
   "outputs": [],
   "source": [
    "## stock return\n",
    "return_df = pd.read_pickle(PathConfig.cache_path / f\"temp_return_{START}_{END}\")"
   ]
  },
  {
   "cell_type": "code",
   "execution_count": 160,
   "metadata": {},
   "outputs": [
    {
     "data": {
      "text/plain": [
       "DatetimeIndex(['2014-01-02', '2014-01-03', '2014-01-06', '2014-01-07',\n",
       "               '2014-01-08', '2014-01-09', '2014-01-10', '2014-01-13',\n",
       "               '2014-01-14', '2014-01-15',\n",
       "               ...\n",
       "               '2022-11-21', '2022-11-22', '2022-11-23', '2022-11-24',\n",
       "               '2022-11-25', '2022-11-28', '2022-11-29', '2022-11-30',\n",
       "               '2022-12-01', '2022-12-02'],\n",
       "              dtype='datetime64[ns]', name='trdDd', length=2190, freq=None)"
      ]
     },
     "execution_count": 160,
     "metadata": {},
     "output_type": "execute_result"
    }
   ],
   "source": [
    "holidays = return_df.isnull().all(axis=1)\n",
    "tradingdays = ~holidays\n",
    "\n",
    "holidays = holidays.index[holidays]\n",
    "tradingdays = tradingdays.index[tradingdays]\n",
    "\n",
    "tradingdays"
   ]
  },
  {
   "cell_type": "code",
   "execution_count": 161,
   "metadata": {},
   "outputs": [],
   "source": [
    "return_df = return_df.loc[tradingdays, :].copy()"
   ]
  },
  {
   "cell_type": "code",
   "execution_count": 162,
   "metadata": {},
   "outputs": [],
   "source": [
    "request_url=\"http://data.krx.co.kr/comm/bldAttendant/getJsonData.cmd\""
   ]
  },
  {
   "cell_type": "code",
   "execution_count": 163,
   "metadata": {},
   "outputs": [],
   "source": [
    "# Get funda data\n",
    "request_headers={\n",
    "    \"Accept\": \"application/json, text/javascript, */*; q=0.01\",\n",
    "    \"Accept-Encoding\": \"gzip, deflate\",\n",
    "    \"Accept-Language\": \"en-US,en;q=0.9,ko-KR;q=0.8,ko;q=0.7,ja;q=0.6\",\n",
    "    \"Connection\": \"keep-alive\",\n",
    "    \"Content-Length\": \"98\",\n",
    "    \"Content-Type\": \"application/x-www-form-urlencoded; charset=UTF-8\",\n",
    "    # \"Cookie\": \"__smVisitorID=MOg5nSVvce5; JSESSIONID=Zm2tghqTUaVeWZwBoqGf5XDEl5p1ay0OKwMa1bMRQnDGQJ8xpyLTaXTZyGHWcjVY.bWRjX2RvbWFpbi9tZGNvd2FwMi1tZGNhcHAxMQ==\",\n",
    "    \"Host\": \"data.krx.co.kr\",\n",
    "    \"Origin\": \"http://data.krx.co.kr\",\n",
    "    \"Referer\": \"http://data.krx.co.kr/contents/MDC/MDI/mdiLoader/index.cmd?menuId=MDC0201020101\",\n",
    "    \"User-Agent\": \"Mozilla/5.0 (Windows NT 10.0; Win64; x64) AppleWebKit/537.36 (KHTML, like Gecko) Chrome/95.0.4638.54 Safari/537.36\",\n",
    "    \"X-Requested-With\": \"XMLHttpRequest\",\n",
    "    }"
   ]
  },
  {
   "cell_type": "code",
   "execution_count": 164,
   "metadata": {},
   "outputs": [],
   "source": [
    "retry_strategy={\n",
    "    \"total\": 10,\n",
    "    \"status_forcelist\": [413, 429, 500, 502, 503, 504],\n",
    "    \"allowed_methods\": [\"GET\", \"POST\"],\n",
    "    \"backoff_factor\": 2,\n",
    "    }"
   ]
  },
  {
   "cell_type": "code",
   "execution_count": 165,
   "metadata": {},
   "outputs": [],
   "source": [
    "POST_data={\n",
    "    \"bld\": \"dbms/MDC/STAT/standard/MDCSTAT03502\",\n",
    "    \"mktId\": \"ALL\", # KOSPI: \"STK\", KOSDAQ: \"KSQ\", KONEX: \"KNX\"\n",
    "    # \"trdDd\": None, # format like: \"20211029\"\n",
    "    \"isuCd\": None,\n",
    "    \"strtDd\": f\"{START}\",\n",
    "    \"endDd\": f\"{END}\",\n",
    "    }"
   ]
  },
  {
   "cell_type": "code",
   "execution_count": 166,
   "metadata": {},
   "outputs": [],
   "source": [
    "session = requests.session()\n",
    "assert_status_hook = lambda response, *args, **kwargs: response.raise_for_status()\n",
    "session.hooks[\"response\"] = [assert_status_hook]\n",
    "retry_strategy = Retry(**retry_strategy)\n",
    "adapter = HTTPAdapter(max_retries=retry_strategy)\n",
    "session.mount(\"http://\", adapter)\n",
    "session.mount(\"https://\", adapter)"
   ]
  },
  {
   "cell_type": "code",
   "execution_count": 167,
   "metadata": {},
   "outputs": [],
   "source": [
    "POST_data[\"isuCd\"] = \"KR7060310000\" # 060310 3S"
   ]
  },
  {
   "cell_type": "code",
   "execution_count": 168,
   "metadata": {},
   "outputs": [],
   "source": [
    "POST_data[\"isuCd\"] = \"KR7005930003\" # 005930 삼성전자"
   ]
  },
  {
   "attachments": {},
   "cell_type": "markdown",
   "metadata": {},
   "source": [
    "데이터를 가져오려면 주식의 short code가 아닌 full code가 필요함. "
   ]
  },
  {
   "cell_type": "code",
   "execution_count": 169,
   "metadata": {},
   "outputs": [],
   "source": [
    "response = session.post(\n",
    "    request_url,\n",
    "    data=POST_data,\n",
    "    headers=request_headers\n",
    ")"
   ]
  },
  {
   "cell_type": "code",
   "execution_count": 170,
   "metadata": {},
   "outputs": [
    {
     "data": {
      "text/html": [
       "<div>\n",
       "<style scoped>\n",
       "    .dataframe tbody tr th:only-of-type {\n",
       "        vertical-align: middle;\n",
       "    }\n",
       "\n",
       "    .dataframe tbody tr th {\n",
       "        vertical-align: top;\n",
       "    }\n",
       "\n",
       "    .dataframe thead th {\n",
       "        text-align: right;\n",
       "    }\n",
       "</style>\n",
       "<table border=\"1\" class=\"dataframe\">\n",
       "  <thead>\n",
       "    <tr style=\"text-align: right;\">\n",
       "      <th></th>\n",
       "      <th>TRD_DD</th>\n",
       "      <th>TDD_CLSPRC</th>\n",
       "      <th>FLUC_TP_CD</th>\n",
       "      <th>CMPPREVDD_PRC</th>\n",
       "      <th>FLUC_RT</th>\n",
       "      <th>EPS</th>\n",
       "      <th>PER</th>\n",
       "      <th>FWD_EPS</th>\n",
       "      <th>FWD_PER</th>\n",
       "      <th>BPS</th>\n",
       "      <th>PBR</th>\n",
       "      <th>DPS</th>\n",
       "      <th>DVD_YLD</th>\n",
       "    </tr>\n",
       "  </thead>\n",
       "  <tbody>\n",
       "    <tr>\n",
       "      <th>0</th>\n",
       "      <td>2022/12/02</td>\n",
       "      <td>60,400</td>\n",
       "      <td>2</td>\n",
       "      <td>-2,200</td>\n",
       "      <td>-3.51</td>\n",
       "      <td>5,777</td>\n",
       "      <td>10.46</td>\n",
       "      <td>3,935</td>\n",
       "      <td>15.35</td>\n",
       "      <td>43,611</td>\n",
       "      <td>1.38</td>\n",
       "      <td>1,444</td>\n",
       "      <td>2.39</td>\n",
       "    </tr>\n",
       "    <tr>\n",
       "      <th>1</th>\n",
       "      <td>2022/12/01</td>\n",
       "      <td>62,600</td>\n",
       "      <td>1</td>\n",
       "      <td>400</td>\n",
       "      <td>0.64</td>\n",
       "      <td>5,777</td>\n",
       "      <td>10.84</td>\n",
       "      <td>4,064</td>\n",
       "      <td>15.40</td>\n",
       "      <td>43,611</td>\n",
       "      <td>1.44</td>\n",
       "      <td>1,444</td>\n",
       "      <td>2.31</td>\n",
       "    </tr>\n",
       "    <tr>\n",
       "      <th>2</th>\n",
       "      <td>2022/11/30</td>\n",
       "      <td>62,200</td>\n",
       "      <td>1</td>\n",
       "      <td>1,600</td>\n",
       "      <td>2.64</td>\n",
       "      <td>5,777</td>\n",
       "      <td>10.77</td>\n",
       "      <td>4,064</td>\n",
       "      <td>15.30</td>\n",
       "      <td>43,611</td>\n",
       "      <td>1.43</td>\n",
       "      <td>1,444</td>\n",
       "      <td>2.32</td>\n",
       "    </tr>\n",
       "    <tr>\n",
       "      <th>3</th>\n",
       "      <td>2022/11/29</td>\n",
       "      <td>60,600</td>\n",
       "      <td>1</td>\n",
       "      <td>500</td>\n",
       "      <td>0.83</td>\n",
       "      <td>5,777</td>\n",
       "      <td>10.49</td>\n",
       "      <td>4,080</td>\n",
       "      <td>14.85</td>\n",
       "      <td>43,611</td>\n",
       "      <td>1.39</td>\n",
       "      <td>1,444</td>\n",
       "      <td>2.38</td>\n",
       "    </tr>\n",
       "    <tr>\n",
       "      <th>4</th>\n",
       "      <td>2022/11/28</td>\n",
       "      <td>60,100</td>\n",
       "      <td>2</td>\n",
       "      <td>-900</td>\n",
       "      <td>-1.48</td>\n",
       "      <td>5,777</td>\n",
       "      <td>10.40</td>\n",
       "      <td>4,080</td>\n",
       "      <td>14.73</td>\n",
       "      <td>43,611</td>\n",
       "      <td>1.38</td>\n",
       "      <td>1,444</td>\n",
       "      <td>2.40</td>\n",
       "    </tr>\n",
       "    <tr>\n",
       "      <th>...</th>\n",
       "      <td>...</td>\n",
       "      <td>...</td>\n",
       "      <td>...</td>\n",
       "      <td>...</td>\n",
       "      <td>...</td>\n",
       "      <td>...</td>\n",
       "      <td>...</td>\n",
       "      <td>...</td>\n",
       "      <td>...</td>\n",
       "      <td>...</td>\n",
       "      <td>...</td>\n",
       "      <td>...</td>\n",
       "      <td>...</td>\n",
       "    </tr>\n",
       "    <tr>\n",
       "      <th>2190</th>\n",
       "      <td>2014/01/08</td>\n",
       "      <td>1,291,000</td>\n",
       "      <td>2</td>\n",
       "      <td>-13,000</td>\n",
       "      <td>-1.00</td>\n",
       "      <td>154,020</td>\n",
       "      <td>8.38</td>\n",
       "      <td>-</td>\n",
       "      <td>-</td>\n",
       "      <td>688,251</td>\n",
       "      <td>1.88</td>\n",
       "      <td>8,000</td>\n",
       "      <td>0.62</td>\n",
       "    </tr>\n",
       "    <tr>\n",
       "      <th>2191</th>\n",
       "      <td>2014/01/07</td>\n",
       "      <td>1,304,000</td>\n",
       "      <td>2</td>\n",
       "      <td>-3,000</td>\n",
       "      <td>-0.23</td>\n",
       "      <td>154,020</td>\n",
       "      <td>8.47</td>\n",
       "      <td>-</td>\n",
       "      <td>-</td>\n",
       "      <td>688,251</td>\n",
       "      <td>1.89</td>\n",
       "      <td>8,000</td>\n",
       "      <td>0.61</td>\n",
       "    </tr>\n",
       "    <tr>\n",
       "      <th>2192</th>\n",
       "      <td>2014/01/06</td>\n",
       "      <td>1,307,000</td>\n",
       "      <td>1</td>\n",
       "      <td>11,000</td>\n",
       "      <td>0.85</td>\n",
       "      <td>154,020</td>\n",
       "      <td>8.49</td>\n",
       "      <td>-</td>\n",
       "      <td>-</td>\n",
       "      <td>688,251</td>\n",
       "      <td>1.90</td>\n",
       "      <td>8,000</td>\n",
       "      <td>0.61</td>\n",
       "    </tr>\n",
       "    <tr>\n",
       "      <th>2193</th>\n",
       "      <td>2014/01/03</td>\n",
       "      <td>1,296,000</td>\n",
       "      <td>2</td>\n",
       "      <td>-13,000</td>\n",
       "      <td>-0.99</td>\n",
       "      <td>154,020</td>\n",
       "      <td>8.41</td>\n",
       "      <td>-</td>\n",
       "      <td>-</td>\n",
       "      <td>688,251</td>\n",
       "      <td>1.88</td>\n",
       "      <td>8,000</td>\n",
       "      <td>0.62</td>\n",
       "    </tr>\n",
       "    <tr>\n",
       "      <th>2194</th>\n",
       "      <td>2014/01/02</td>\n",
       "      <td>1,309,000</td>\n",
       "      <td>2</td>\n",
       "      <td>-63,000</td>\n",
       "      <td>-4.59</td>\n",
       "      <td>154,020</td>\n",
       "      <td>8.50</td>\n",
       "      <td>-</td>\n",
       "      <td>-</td>\n",
       "      <td>688,251</td>\n",
       "      <td>1.90</td>\n",
       "      <td>8,000</td>\n",
       "      <td>0.61</td>\n",
       "    </tr>\n",
       "  </tbody>\n",
       "</table>\n",
       "<p>2195 rows × 13 columns</p>\n",
       "</div>"
      ],
      "text/plain": [
       "          TRD_DD TDD_CLSPRC FLUC_TP_CD CMPPREVDD_PRC FLUC_RT      EPS    PER  \\\n",
       "0     2022/12/02     60,400          2        -2,200   -3.51    5,777  10.46   \n",
       "1     2022/12/01     62,600          1           400    0.64    5,777  10.84   \n",
       "2     2022/11/30     62,200          1         1,600    2.64    5,777  10.77   \n",
       "3     2022/11/29     60,600          1           500    0.83    5,777  10.49   \n",
       "4     2022/11/28     60,100          2          -900   -1.48    5,777  10.40   \n",
       "...          ...        ...        ...           ...     ...      ...    ...   \n",
       "2190  2014/01/08  1,291,000          2       -13,000   -1.00  154,020   8.38   \n",
       "2191  2014/01/07  1,304,000          2        -3,000   -0.23  154,020   8.47   \n",
       "2192  2014/01/06  1,307,000          1        11,000    0.85  154,020   8.49   \n",
       "2193  2014/01/03  1,296,000          2       -13,000   -0.99  154,020   8.41   \n",
       "2194  2014/01/02  1,309,000          2       -63,000   -4.59  154,020   8.50   \n",
       "\n",
       "     FWD_EPS FWD_PER      BPS   PBR    DPS DVD_YLD  \n",
       "0      3,935   15.35   43,611  1.38  1,444    2.39  \n",
       "1      4,064   15.40   43,611  1.44  1,444    2.31  \n",
       "2      4,064   15.30   43,611  1.43  1,444    2.32  \n",
       "3      4,080   14.85   43,611  1.39  1,444    2.38  \n",
       "4      4,080   14.73   43,611  1.38  1,444    2.40  \n",
       "...      ...     ...      ...   ...    ...     ...  \n",
       "2190       -       -  688,251  1.88  8,000    0.62  \n",
       "2191       -       -  688,251  1.89  8,000    0.61  \n",
       "2192       -       -  688,251  1.90  8,000    0.61  \n",
       "2193       -       -  688,251  1.88  8,000    0.62  \n",
       "2194       -       -  688,251  1.90  8,000    0.61  \n",
       "\n",
       "[2195 rows x 13 columns]"
      ]
     },
     "execution_count": 170,
     "metadata": {},
     "output_type": "execute_result"
    }
   ],
   "source": [
    "funda_df = pd.DataFrame(response.json()['output'])\n",
    "funda_df"
   ]
  },
  {
   "attachments": {},
   "cell_type": "markdown",
   "metadata": {},
   "source": [
    "주식의 full code부터 short code와 mapping 시키고 불러오는 것이 가능. "
   ]
  },
  {
   "cell_type": "code",
   "execution_count": 171,
   "metadata": {},
   "outputs": [],
   "source": [
    "# full code를 얻기 위한 POST 데이터\n",
    "list_POST_data = {\n",
    "    'bld': 'dbms/comm/finder/finder_stkisu',\n",
    "    'locale': 'ko_KR',\n",
    "    'mktsel': 'ALL',\n",
    "}"
   ]
  },
  {
   "cell_type": "code",
   "execution_count": 172,
   "metadata": {},
   "outputs": [],
   "source": [
    "response = session.post(\n",
    "    request_url,\n",
    "    data=list_POST_data,\n",
    "    headers=request_headers\n",
    ")"
   ]
  },
  {
   "cell_type": "code",
   "execution_count": 173,
   "metadata": {},
   "outputs": [],
   "source": [
    "code_info_df = pd.DataFrame(response.json()['block1'])"
   ]
  },
  {
   "cell_type": "code",
   "execution_count": 174,
   "metadata": {},
   "outputs": [
    {
     "data": {
      "text/html": [
       "<div>\n",
       "<style scoped>\n",
       "    .dataframe tbody tr th:only-of-type {\n",
       "        vertical-align: middle;\n",
       "    }\n",
       "\n",
       "    .dataframe tbody tr th {\n",
       "        vertical-align: top;\n",
       "    }\n",
       "\n",
       "    .dataframe thead th {\n",
       "        text-align: right;\n",
       "    }\n",
       "</style>\n",
       "<table border=\"1\" class=\"dataframe\">\n",
       "  <thead>\n",
       "    <tr style=\"text-align: right;\">\n",
       "      <th></th>\n",
       "      <th>full_code</th>\n",
       "      <th>short_code</th>\n",
       "      <th>codeName</th>\n",
       "      <th>marketCode</th>\n",
       "      <th>marketName</th>\n",
       "      <th>marketEngName</th>\n",
       "      <th>ord1</th>\n",
       "      <th>ord2</th>\n",
       "    </tr>\n",
       "  </thead>\n",
       "  <tbody>\n",
       "    <tr>\n",
       "      <th>0</th>\n",
       "      <td>KR7060310000</td>\n",
       "      <td>060310</td>\n",
       "      <td>3S</td>\n",
       "      <td>KSQ</td>\n",
       "      <td>코스닥</td>\n",
       "      <td>KOSDAQ</td>\n",
       "      <td></td>\n",
       "      <td>16</td>\n",
       "    </tr>\n",
       "    <tr>\n",
       "      <th>1</th>\n",
       "      <td>KR7095570008</td>\n",
       "      <td>095570</td>\n",
       "      <td>AJ네트웍스</td>\n",
       "      <td>STK</td>\n",
       "      <td>유가증권</td>\n",
       "      <td>KOSPI</td>\n",
       "      <td></td>\n",
       "      <td>16</td>\n",
       "    </tr>\n",
       "    <tr>\n",
       "      <th>2</th>\n",
       "      <td>KR7006840003</td>\n",
       "      <td>006840</td>\n",
       "      <td>AK홀딩스</td>\n",
       "      <td>STK</td>\n",
       "      <td>유가증권</td>\n",
       "      <td>KOSPI</td>\n",
       "      <td></td>\n",
       "      <td>16</td>\n",
       "    </tr>\n",
       "    <tr>\n",
       "      <th>3</th>\n",
       "      <td>KR7054620000</td>\n",
       "      <td>054620</td>\n",
       "      <td>APS홀딩스</td>\n",
       "      <td>KSQ</td>\n",
       "      <td>코스닥</td>\n",
       "      <td>KOSDAQ</td>\n",
       "      <td></td>\n",
       "      <td>16</td>\n",
       "    </tr>\n",
       "    <tr>\n",
       "      <th>4</th>\n",
       "      <td>KR7265520007</td>\n",
       "      <td>265520</td>\n",
       "      <td>AP시스템</td>\n",
       "      <td>KSQ</td>\n",
       "      <td>코스닥</td>\n",
       "      <td>KOSDAQ</td>\n",
       "      <td></td>\n",
       "      <td>16</td>\n",
       "    </tr>\n",
       "    <tr>\n",
       "      <th>...</th>\n",
       "      <td>...</td>\n",
       "      <td>...</td>\n",
       "      <td>...</td>\n",
       "      <td>...</td>\n",
       "      <td>...</td>\n",
       "      <td>...</td>\n",
       "      <td>...</td>\n",
       "      <td>...</td>\n",
       "    </tr>\n",
       "    <tr>\n",
       "      <th>2676</th>\n",
       "      <td>KR7000542001</td>\n",
       "      <td>000547</td>\n",
       "      <td>흥국화재2우B</td>\n",
       "      <td>STK</td>\n",
       "      <td>유가증권</td>\n",
       "      <td>KOSPI</td>\n",
       "      <td></td>\n",
       "      <td>16</td>\n",
       "    </tr>\n",
       "    <tr>\n",
       "      <th>2677</th>\n",
       "      <td>KR7000541003</td>\n",
       "      <td>000545</td>\n",
       "      <td>흥국화재우</td>\n",
       "      <td>STK</td>\n",
       "      <td>유가증권</td>\n",
       "      <td>KOSPI</td>\n",
       "      <td></td>\n",
       "      <td>16</td>\n",
       "    </tr>\n",
       "    <tr>\n",
       "      <th>2678</th>\n",
       "      <td>KR7003280005</td>\n",
       "      <td>003280</td>\n",
       "      <td>흥아해운</td>\n",
       "      <td>STK</td>\n",
       "      <td>유가증권</td>\n",
       "      <td>KOSPI</td>\n",
       "      <td></td>\n",
       "      <td>16</td>\n",
       "    </tr>\n",
       "    <tr>\n",
       "      <th>2679</th>\n",
       "      <td>KR7037440005</td>\n",
       "      <td>037440</td>\n",
       "      <td>희림</td>\n",
       "      <td>KSQ</td>\n",
       "      <td>코스닥</td>\n",
       "      <td>KOSDAQ</td>\n",
       "      <td></td>\n",
       "      <td>16</td>\n",
       "    </tr>\n",
       "    <tr>\n",
       "      <th>2680</th>\n",
       "      <td>KR7238490007</td>\n",
       "      <td>238490</td>\n",
       "      <td>힘스</td>\n",
       "      <td>KSQ</td>\n",
       "      <td>코스닥</td>\n",
       "      <td>KOSDAQ</td>\n",
       "      <td></td>\n",
       "      <td>16</td>\n",
       "    </tr>\n",
       "  </tbody>\n",
       "</table>\n",
       "<p>2681 rows × 8 columns</p>\n",
       "</div>"
      ],
      "text/plain": [
       "         full_code short_code codeName marketCode marketName marketEngName  \\\n",
       "0     KR7060310000     060310       3S        KSQ        코스닥        KOSDAQ   \n",
       "1     KR7095570008     095570   AJ네트웍스        STK       유가증권         KOSPI   \n",
       "2     KR7006840003     006840    AK홀딩스        STK       유가증권         KOSPI   \n",
       "3     KR7054620000     054620   APS홀딩스        KSQ        코스닥        KOSDAQ   \n",
       "4     KR7265520007     265520    AP시스템        KSQ        코스닥        KOSDAQ   \n",
       "...            ...        ...      ...        ...        ...           ...   \n",
       "2676  KR7000542001     000547  흥국화재2우B        STK       유가증권         KOSPI   \n",
       "2677  KR7000541003     000545    흥국화재우        STK       유가증권         KOSPI   \n",
       "2678  KR7003280005     003280     흥아해운        STK       유가증권         KOSPI   \n",
       "2679  KR7037440005     037440       희림        KSQ        코스닥        KOSDAQ   \n",
       "2680  KR7238490007     238490       힘스        KSQ        코스닥        KOSDAQ   \n",
       "\n",
       "     ord1 ord2  \n",
       "0           16  \n",
       "1           16  \n",
       "2           16  \n",
       "3           16  \n",
       "4           16  \n",
       "...   ...  ...  \n",
       "2676        16  \n",
       "2677        16  \n",
       "2678        16  \n",
       "2679        16  \n",
       "2680        16  \n",
       "\n",
       "[2681 rows x 8 columns]"
      ]
     },
     "execution_count": 174,
     "metadata": {},
     "output_type": "execute_result"
    }
   ],
   "source": [
    "code_info_df"
   ]
  },
  {
   "cell_type": "code",
   "execution_count": 175,
   "metadata": {},
   "outputs": [],
   "source": [
    "short2full_mapper = dict(zip(code_info_df['short_code'], code_info_df['full_code']))"
   ]
  },
  {
   "cell_type": "code",
   "execution_count": 176,
   "metadata": {},
   "outputs": [
    {
     "data": {
      "text/plain": [
       "'KR7005930003'"
      ]
     },
     "execution_count": 176,
     "metadata": {},
     "output_type": "execute_result"
    }
   ],
   "source": [
    "samsung_electronics_sid = '005930'\n",
    "short2full_mapper[samsung_electronics_sid]"
   ]
  },
  {
   "attachments": {},
   "cell_type": "markdown",
   "metadata": {},
   "source": [
    "http://data.krx.co.kr/contents/MDC/MDI/mdiLoader/index.cmd?menuId=MDC0201010105\n",
    "\n",
    "`FLUC_TP_CD` 는 상승/하락/동일 나타내기 위한 flag로 보임. (색깔 표시를 위해)\n",
    "\n",
    "`FWD_` 들은 어떤 종목의 경우 존재하나 어떤 종목의 경우 존재하지 않음. \n",
    "\n",
    "커버리지에서 차이가 날 것임. \n"
   ]
  },
  {
   "cell_type": "code",
   "execution_count": 177,
   "metadata": {},
   "outputs": [
    {
     "data": {
      "text/plain": [
       "Index(['TRD_DD', 'TDD_CLSPRC', 'FLUC_TP_CD', 'CMPPREVDD_PRC', 'FLUC_RT', 'EPS',\n",
       "       'PER', 'FWD_EPS', 'FWD_PER', 'BPS', 'PBR', 'DPS', 'DVD_YLD'],\n",
       "      dtype='object')"
      ]
     },
     "execution_count": 177,
     "metadata": {},
     "output_type": "execute_result"
    }
   ],
   "source": [
    "funda_df.columns"
   ]
  },
  {
   "cell_type": "code",
   "execution_count": 178,
   "metadata": {},
   "outputs": [],
   "source": [
    "def get_KRX_funda(sid, funda_name, start, end):\n",
    "    funda_name = funda_name.upper()\n",
    "    assert funda_name in [\n",
    "        'EPS', \n",
    "        'PER', \n",
    "        'FWD_EPS', # 선행\n",
    "        'FWD_PER', # 선행\n",
    "        'BPS', \n",
    "        'PBR', \n",
    "        'DPS', # 주당 배당금\n",
    "        'DVD_YLD', # 배당 수익률\n",
    "        ]\n",
    "\n",
    "    start = str(start)\n",
    "    end = str(end)\n",
    "\n",
    "    full_sid = short2full_mapper[sid]\n",
    "\n",
    "    POST_data={\n",
    "        \"bld\": \"dbms/MDC/STAT/standard/MDCSTAT03502\",\n",
    "        \"mktId\": \"ALL\", # KOSPI: \"STK\", KOSDAQ: \"KSQ\", KONEX: \"KNX\"\n",
    "        # \"trdDd\": None, # format like: \"20211029\"\n",
    "        \"isuCd\": full_sid,\n",
    "        \"strtDd\": start,\n",
    "        \"endDd\": end,\n",
    "        }\n",
    "\n",
    "    response = session.post(\n",
    "        request_url, # global param\n",
    "        data=POST_data,\n",
    "        headers=request_headers # global param\n",
    "        )\n",
    "\n",
    "    funda_df = pd.DataFrame(response.json()['output'])\n",
    "    funda_df['TRD_DD'] = pd.to_datetime(funda_df['TRD_DD'], format='%Y/%m/%d')\n",
    "    funda_df.set_index('TRD_DD', inplace=True)\n",
    "    funda_df.sort_index(ascending=True, inplace=True)\n",
    "\n",
    "    return funda_df[funda_name].copy()\n",
    "    \n",
    "    "
   ]
  },
  {
   "cell_type": "code",
   "execution_count": 179,
   "metadata": {},
   "outputs": [],
   "source": [
    "funda_df = return_df.copy()\n",
    "for col in funda_df.columns:\n",
    "    funda_df[col].values[:] = None\n",
    "\n",
    "## Above is much faster than:\n",
    "# funda_df[:] = None"
   ]
  },
  {
   "cell_type": "code",
   "execution_count": 181,
   "metadata": {},
   "outputs": [
    {
     "data": {
      "text/plain": [
       "TRD_DD\n",
       "2014-01-02    1.90\n",
       "2014-01-03    1.88\n",
       "2014-01-06    1.90\n",
       "2014-01-07    1.89\n",
       "2014-01-08    1.88\n",
       "              ... \n",
       "2022-11-28    1.38\n",
       "2022-11-29    1.39\n",
       "2022-11-30    1.43\n",
       "2022-12-01    1.44\n",
       "2022-12-02    1.38\n",
       "Name: PBR, Length: 2195, dtype: object"
      ]
     },
     "execution_count": 181,
     "metadata": {},
     "output_type": "execute_result"
    }
   ],
   "source": [
    "get_KRX_funda(samsung_electronics_sid, 'PBR', START, END)"
   ]
  },
  {
   "cell_type": "code",
   "execution_count": 182,
   "metadata": {},
   "outputs": [
    {
     "data": {
      "text/plain": [
       "TRD_DD\n",
       "2014-01-02    0.55\n",
       "2014-01-03    0.56\n",
       "2014-01-06    0.56\n",
       "2014-01-07    0.56\n",
       "2014-01-08    0.58\n",
       "              ... \n",
       "2022-11-28    0.70\n",
       "2022-11-29    0.71\n",
       "2022-11-30    0.72\n",
       "2022-12-01    0.74\n",
       "2022-12-02    0.74\n",
       "Name: PBR, Length: 2195, dtype: object"
      ]
     },
     "execution_count": 182,
     "metadata": {},
     "output_type": "execute_result"
    }
   ],
   "source": [
    "get_KRX_funda('000020', 'PBR', START, END)"
   ]
  },
  {
   "attachments": {},
   "cell_type": "markdown",
   "metadata": {},
   "source": [
    "Mapping 되지 않는 종목들은 모두 NaN 처리"
   ]
  },
  {
   "cell_type": "code",
   "execution_count": 188,
   "metadata": {},
   "outputs": [
    {
     "name": "stderr",
     "output_type": "stream",
     "text": [
      "100%|██████████| 3110/3110 [1:30:49<00:00,  1.75s/it]  \n"
     ]
    }
   ],
   "source": [
    "# 1시간 30분 걸림\n",
    "\n",
    "for ii in tqdm(funda_df.columns):\n",
    "    try:\n",
    "        temp_s = get_KRX_funda(ii, 'PBR', START, END)\n",
    "        funda_df.loc[:, ii] = temp_s\n",
    "    except:\n",
    "        funda_df.loc[:, ii] = None"
   ]
  },
  {
   "cell_type": "code",
   "execution_count": 207,
   "metadata": {},
   "outputs": [],
   "source": [
    "funda_df = funda_df.apply((lambda column: pd.to_numeric(column, errors='coerce')), axis=1)"
   ]
  },
  {
   "cell_type": "code",
   "execution_count": 209,
   "metadata": {},
   "outputs": [],
   "source": [
    "funda_df.to_pickle(f'temp_KRX_PBR_{START}_{END}.pkl')"
   ]
  },
  {
   "cell_type": "code",
   "execution_count": 210,
   "metadata": {},
   "outputs": [],
   "source": [
    "funda_df = pd.read_pickle(f'temp_KRX_PBR_{START}_{END}.pkl')"
   ]
  },
  {
   "cell_type": "code",
   "execution_count": 211,
   "metadata": {},
   "outputs": [
    {
     "data": {
      "text/plain": [
       "<AxesSubplot:>"
      ]
     },
     "execution_count": 211,
     "metadata": {},
     "output_type": "execute_result"
    },
    {
     "data": {
      "image/png": "[encoded data removed]",
      "text/plain": [
       "<Figure size 432x288 with 1 Axes>"
      ]
     },
     "metadata": {
      "needs_background": "light"
     },
     "output_type": "display_data"
    }
   ],
   "source": [
    "funda_df.isnull().sum(axis=0).hist()"
   ]
  },
  {
   "cell_type": "code",
   "execution_count": 212,
   "metadata": {},
   "outputs": [
    {
     "data": {
      "text/plain": [
       "812"
      ]
     },
     "execution_count": 212,
     "metadata": {},
     "output_type": "execute_result"
    }
   ],
   "source": [
    "funda_df.isnull().all(axis=0).sum()"
   ]
  },
  {
   "cell_type": "code",
   "execution_count": 213,
   "metadata": {},
   "outputs": [
    {
     "data": {
      "text/plain": [
       "3110"
      ]
     },
     "execution_count": 213,
     "metadata": {},
     "output_type": "execute_result"
    }
   ],
   "source": [
    "len(funda_df.columns)"
   ]
  },
  {
   "cell_type": "code",
   "execution_count": null,
   "metadata": {},
   "outputs": [],
   "source": []
  }
 ],
 "metadata": {
  "kernelspec": {
   "display_name": "Python 3.8.6 ('.venv': poetry)",
   "language": "python",
   "name": "python3"
  },
  "language_info": {
   "codemirror_mode": {
    "name": "ipython",
    "version": 3
   },
   "file_extension": ".py",
   "mimetype": "text/x-python",
   "name": "python",
   "nbconvert_exporter": "python",
   "pygments_lexer": "ipython3",
   "version": "3.8.6"
  },
  "orig_nbformat": 4,
  "vscode": {
   "interpreter": {
    "hash": "b653a6991a0150363b7c7df033ded56ed180846b604af9b857a996de5a460eb0"
   }
  }
 },
 "nbformat": 4,
 "nbformat_minor": 2
}
