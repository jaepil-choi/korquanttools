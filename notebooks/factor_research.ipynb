{
 "cells": [
  {
   "attachments": {},
   "cell_type": "markdown",
   "metadata": {},
   "source": [
    "# Factor Research\n",
    "\n",
    "$$\n",
    "R_i - R_f = \\alpha + \\beta_{m, i} * (R_m - R_f) + \\beta_{SMB, i} * f_{SMB} + \\beta_{HML, i} * f_{HML} + \\beta_{Momentum, i} * f_{Momentum} + \\varepsilon\n",
    "$$\n",
    "\n",
    "- FF3~5 팩터 데이터와 grouping 데이터 (DAUM sectors, corr clustering)\n",
    "- 팩터 선형 회귀를 이용한 return decomposition\n",
    "- grouping data로 group neutralization을 한 다음 각 팩터의 demeaned-beta distribution을 확인"
   ]
  },
  {
   "attachments": {},
   "cell_type": "markdown",
   "metadata": {},
   "source": [
    "## 0. Import libraries & Data\n",
    "\n",
    "- KRX 데이터를 바탕으로 생존 편향을 없앤 자체 데이터셋 라이브러리 `korquanttools`를 통해 데이터 생성\n",
    "- 그 외 데이터는 NAVER/DAUM finance 데이터, 한국은행 데이터 등을 활용"
   ]
  },
  {
   "cell_type": "code",
   "execution_count": 1,
   "metadata": {},
   "outputs": [],
   "source": [
    "from pathlib import Path\n",
    "\n",
    "import matplotlib.pyplot as plt\n",
    "import seaborn as sns\n",
    "\n",
    "import pandas as pd\n",
    "import numpy as np\n",
    "\n",
    "import scipy\n",
    "import statsmodels.api as sm\n",
    "import statsmodels.formula.api as smf\n",
    "from statsmodels.regression.rolling import RollingOLS\n",
    "\n",
    "import pickle"
   ]
  },
  {
   "cell_type": "code",
   "execution_count": 2,
   "metadata": {},
   "outputs": [],
   "source": [
    "import FinanceDataReader as fdr\n",
    "import quantstats as qs"
   ]
  },
  {
   "cell_type": "code",
   "execution_count": 3,
   "metadata": {},
   "outputs": [],
   "source": [
    "## custom libs\n",
    "\n",
    "from korquanttools.pricevolume.loader import KRXPriceDM\n",
    "from korquanttools.pricevolume.utils import DateUtil\n",
    "from korquanttools.pricevolume.config import PathConfig"
   ]
  },
  {
   "attachments": {},
   "cell_type": "markdown",
   "metadata": {},
   "source": [
    "Data 기간은 아래와 같이 설정\n",
    "\n",
    "- 추후 beta 계산을 위한 moving window도 설정함"
   ]
  },
  {
   "cell_type": "code",
   "execution_count": 4,
   "metadata": {},
   "outputs": [],
   "source": [
    "# Global parameters\n",
    "\n",
    "START = 20140101\n",
    "END = 20221202\n",
    "\n",
    "WINDOW = 60 # trading day 기준"
   ]
  },
  {
   "cell_type": "code",
   "execution_count": 5,
   "metadata": {},
   "outputs": [
    {
     "name": "stdout",
     "output_type": "stream",
     "text": [
      "\n",
      "        * DM name: KRX_pricevolume\n",
      "        * DM description: Basic price-volume data imported from KRX website & NAVER finance. Has KOSPI, KOSDAQ, KONEX stocks.\n",
      "        * birthday: 20211203\n",
      "        * DM period: 19990101 ~ \n",
      "        * Available data: ['lv1', 'open', 'high', 'low', 'close', 'volume', 'dollarvolume', 'marketcap']\n",
      "        \n"
     ]
    }
   ],
   "source": [
    "# Init data module\n",
    "pricevolume = KRXPriceDM(START, END)\n",
    "pricevolume.get_info()"
   ]
  },
  {
   "attachments": {},
   "cell_type": "markdown",
   "metadata": {},
   "source": [
    "### Factor data"
   ]
  },
  {
   "attachments": {},
   "cell_type": "markdown",
   "metadata": {},
   "source": [
    "#### 팩터 데이터 1: Market Excess Return\n",
    "\n",
    "사용 데이터:\n",
    "- 주가 수익률\n",
    "    - 시가총액 가중을 위해 시가총액 데이터도 필요\n",
    "- 무위험 수익률\n",
    "\n",
    "** trading day 기준으로 되어있음"
   ]
  },
  {
   "attachments": {},
   "cell_type": "markdown",
   "metadata": {},
   "source": [
    "주가 수익률"
   ]
  },
  {
   "cell_type": "code",
   "execution_count": 6,
   "metadata": {},
   "outputs": [],
   "source": [
    "## stock return\n",
    "return_df = pd.read_pickle(PathConfig.cache_path / f\"temp_return_{START}_{END}\")"
   ]
  },
  {
   "cell_type": "code",
   "execution_count": 7,
   "metadata": {},
   "outputs": [
    {
     "data": {
      "text/plain": [
       "DatetimeIndex(['2014-01-02', '2014-01-03', '2014-01-06', '2014-01-07',\n",
       "               '2014-01-08', '2014-01-09', '2014-01-10', '2014-01-13',\n",
       "               '2014-01-14', '2014-01-15',\n",
       "               ...\n",
       "               '2022-11-21', '2022-11-22', '2022-11-23', '2022-11-24',\n",
       "               '2022-11-25', '2022-11-28', '2022-11-29', '2022-11-30',\n",
       "               '2022-12-01', '2022-12-02'],\n",
       "              dtype='datetime64[ns]', name='trdDd', length=2190, freq=None)"
      ]
     },
     "execution_count": 7,
     "metadata": {},
     "output_type": "execute_result"
    }
   ],
   "source": [
    "holidays = return_df.isnull().all(axis=1)\n",
    "tradingdays = ~holidays\n",
    "\n",
    "holidays = holidays.index[holidays]\n",
    "tradingdays = tradingdays.index[tradingdays]\n",
    "\n",
    "tradingdays"
   ]
  },
  {
   "cell_type": "code",
   "execution_count": 8,
   "metadata": {},
   "outputs": [],
   "source": [
    "return_df = return_df.loc[tradingdays, :].copy()"
   ]
  },
  {
   "cell_type": "code",
   "execution_count": 9,
   "metadata": {},
   "outputs": [
    {
     "data": {
      "text/html": [
       "<div>\n",
       "<style scoped>\n",
       "    .dataframe tbody tr th:only-of-type {\n",
       "        vertical-align: middle;\n",
       "    }\n",
       "\n",
       "    .dataframe tbody tr th {\n",
       "        vertical-align: top;\n",
       "    }\n",
       "\n",
       "    .dataframe thead th {\n",
       "        text-align: right;\n",
       "    }\n",
       "</style>\n",
       "<table border=\"1\" class=\"dataframe\">\n",
       "  <thead>\n",
       "    <tr style=\"text-align: right;\">\n",
       "      <th>ISU_SRT_CD</th>\n",
       "      <th>000020</th>\n",
       "      <th>000040</th>\n",
       "      <th>000050</th>\n",
       "      <th>000060</th>\n",
       "      <th>000070</th>\n",
       "      <th>000075</th>\n",
       "      <th>000080</th>\n",
       "      <th>000087</th>\n",
       "      <th>000100</th>\n",
       "      <th>000105</th>\n",
       "      <th>...</th>\n",
       "      <th>417500</th>\n",
       "      <th>419080</th>\n",
       "      <th>425420</th>\n",
       "      <th>438220</th>\n",
       "      <th>438580</th>\n",
       "      <th>440200</th>\n",
       "      <th>440790</th>\n",
       "      <th>446070</th>\n",
       "      <th>439410</th>\n",
       "      <th>442130</th>\n",
       "    </tr>\n",
       "    <tr>\n",
       "      <th>trdDd</th>\n",
       "      <th></th>\n",
       "      <th></th>\n",
       "      <th></th>\n",
       "      <th></th>\n",
       "      <th></th>\n",
       "      <th></th>\n",
       "      <th></th>\n",
       "      <th></th>\n",
       "      <th></th>\n",
       "      <th></th>\n",
       "      <th></th>\n",
       "      <th></th>\n",
       "      <th></th>\n",
       "      <th></th>\n",
       "      <th></th>\n",
       "      <th></th>\n",
       "      <th></th>\n",
       "      <th></th>\n",
       "      <th></th>\n",
       "      <th></th>\n",
       "      <th></th>\n",
       "    </tr>\n",
       "  </thead>\n",
       "  <tbody>\n",
       "    <tr>\n",
       "      <th>2014-01-02</th>\n",
       "      <td>0.011390</td>\n",
       "      <td>0.000000</td>\n",
       "      <td>0.022936</td>\n",
       "      <td>0.023102</td>\n",
       "      <td>-0.014745</td>\n",
       "      <td>-0.041176</td>\n",
       "      <td>-0.013605</td>\n",
       "      <td>0.015060</td>\n",
       "      <td>-0.024029</td>\n",
       "      <td>0.011839</td>\n",
       "      <td>...</td>\n",
       "      <td>NaN</td>\n",
       "      <td>NaN</td>\n",
       "      <td>NaN</td>\n",
       "      <td>NaN</td>\n",
       "      <td>NaN</td>\n",
       "      <td>NaN</td>\n",
       "      <td>NaN</td>\n",
       "      <td>NaN</td>\n",
       "      <td>NaN</td>\n",
       "      <td>NaN</td>\n",
       "    </tr>\n",
       "    <tr>\n",
       "      <th>2014-01-03</th>\n",
       "      <td>0.022523</td>\n",
       "      <td>0.004484</td>\n",
       "      <td>0.022422</td>\n",
       "      <td>-0.006452</td>\n",
       "      <td>-0.023129</td>\n",
       "      <td>0.024540</td>\n",
       "      <td>-0.013793</td>\n",
       "      <td>0.000000</td>\n",
       "      <td>-0.010994</td>\n",
       "      <td>-0.003158</td>\n",
       "      <td>...</td>\n",
       "      <td>NaN</td>\n",
       "      <td>NaN</td>\n",
       "      <td>NaN</td>\n",
       "      <td>NaN</td>\n",
       "      <td>NaN</td>\n",
       "      <td>NaN</td>\n",
       "      <td>NaN</td>\n",
       "      <td>NaN</td>\n",
       "      <td>NaN</td>\n",
       "      <td>NaN</td>\n",
       "    </tr>\n",
       "    <tr>\n",
       "      <th>2014-01-06</th>\n",
       "      <td>0.003304</td>\n",
       "      <td>0.000000</td>\n",
       "      <td>0.021930</td>\n",
       "      <td>-0.003247</td>\n",
       "      <td>0.012535</td>\n",
       "      <td>0.000000</td>\n",
       "      <td>0.011655</td>\n",
       "      <td>-0.026706</td>\n",
       "      <td>0.041587</td>\n",
       "      <td>0.002160</td>\n",
       "      <td>...</td>\n",
       "      <td>NaN</td>\n",
       "      <td>NaN</td>\n",
       "      <td>NaN</td>\n",
       "      <td>NaN</td>\n",
       "      <td>NaN</td>\n",
       "      <td>NaN</td>\n",
       "      <td>NaN</td>\n",
       "      <td>NaN</td>\n",
       "      <td>NaN</td>\n",
       "      <td>NaN</td>\n",
       "    </tr>\n",
       "    <tr>\n",
       "      <th>2014-01-07</th>\n",
       "      <td>0.005488</td>\n",
       "      <td>-0.002232</td>\n",
       "      <td>0.000000</td>\n",
       "      <td>0.003257</td>\n",
       "      <td>0.016506</td>\n",
       "      <td>-0.004491</td>\n",
       "      <td>0.000000</td>\n",
       "      <td>0.009146</td>\n",
       "      <td>0.047871</td>\n",
       "      <td>0.016095</td>\n",
       "      <td>...</td>\n",
       "      <td>NaN</td>\n",
       "      <td>NaN</td>\n",
       "      <td>NaN</td>\n",
       "      <td>NaN</td>\n",
       "      <td>NaN</td>\n",
       "      <td>NaN</td>\n",
       "      <td>NaN</td>\n",
       "      <td>NaN</td>\n",
       "      <td>NaN</td>\n",
       "      <td>NaN</td>\n",
       "    </tr>\n",
       "    <tr>\n",
       "      <th>2014-01-08</th>\n",
       "      <td>0.032751</td>\n",
       "      <td>0.011186</td>\n",
       "      <td>-0.021459</td>\n",
       "      <td>0.000000</td>\n",
       "      <td>-0.004060</td>\n",
       "      <td>-0.022556</td>\n",
       "      <td>-0.006912</td>\n",
       "      <td>-0.009063</td>\n",
       "      <td>0.015195</td>\n",
       "      <td>-0.002121</td>\n",
       "      <td>...</td>\n",
       "      <td>NaN</td>\n",
       "      <td>NaN</td>\n",
       "      <td>NaN</td>\n",
       "      <td>NaN</td>\n",
       "      <td>NaN</td>\n",
       "      <td>NaN</td>\n",
       "      <td>NaN</td>\n",
       "      <td>NaN</td>\n",
       "      <td>NaN</td>\n",
       "      <td>NaN</td>\n",
       "    </tr>\n",
       "    <tr>\n",
       "      <th>...</th>\n",
       "      <td>...</td>\n",
       "      <td>...</td>\n",
       "      <td>...</td>\n",
       "      <td>...</td>\n",
       "      <td>...</td>\n",
       "      <td>...</td>\n",
       "      <td>...</td>\n",
       "      <td>...</td>\n",
       "      <td>...</td>\n",
       "      <td>...</td>\n",
       "      <td>...</td>\n",
       "      <td>...</td>\n",
       "      <td>...</td>\n",
       "      <td>...</td>\n",
       "      <td>...</td>\n",
       "      <td>...</td>\n",
       "      <td>...</td>\n",
       "      <td>...</td>\n",
       "      <td>...</td>\n",
       "      <td>...</td>\n",
       "      <td>...</td>\n",
       "    </tr>\n",
       "    <tr>\n",
       "      <th>2022-11-28</th>\n",
       "      <td>-0.023385</td>\n",
       "      <td>-0.027119</td>\n",
       "      <td>-0.018018</td>\n",
       "      <td>-0.021396</td>\n",
       "      <td>-0.012214</td>\n",
       "      <td>-0.008850</td>\n",
       "      <td>-0.011538</td>\n",
       "      <td>0.000000</td>\n",
       "      <td>-0.013865</td>\n",
       "      <td>-0.005291</td>\n",
       "      <td>...</td>\n",
       "      <td>-0.028302</td>\n",
       "      <td>-0.032258</td>\n",
       "      <td>-0.042697</td>\n",
       "      <td>NaN</td>\n",
       "      <td>0.000000</td>\n",
       "      <td>0.002532</td>\n",
       "      <td>-0.002500</td>\n",
       "      <td>NaN</td>\n",
       "      <td>NaN</td>\n",
       "      <td>NaN</td>\n",
       "    </tr>\n",
       "    <tr>\n",
       "      <th>2022-11-29</th>\n",
       "      <td>0.007982</td>\n",
       "      <td>0.034843</td>\n",
       "      <td>0.000000</td>\n",
       "      <td>0.005754</td>\n",
       "      <td>0.013910</td>\n",
       "      <td>0.000000</td>\n",
       "      <td>0.017510</td>\n",
       "      <td>0.000000</td>\n",
       "      <td>0.008787</td>\n",
       "      <td>0.005319</td>\n",
       "      <td>...</td>\n",
       "      <td>-0.019417</td>\n",
       "      <td>-0.066667</td>\n",
       "      <td>-0.022300</td>\n",
       "      <td>0.000000</td>\n",
       "      <td>-0.011601</td>\n",
       "      <td>-0.002525</td>\n",
       "      <td>-0.002506</td>\n",
       "      <td>-0.070081</td>\n",
       "      <td>NaN</td>\n",
       "      <td>NaN</td>\n",
       "    </tr>\n",
       "    <tr>\n",
       "      <th>2022-11-30</th>\n",
       "      <td>0.020362</td>\n",
       "      <td>-0.003367</td>\n",
       "      <td>0.013761</td>\n",
       "      <td>0.052632</td>\n",
       "      <td>0.015244</td>\n",
       "      <td>0.014286</td>\n",
       "      <td>0.000000</td>\n",
       "      <td>0.000000</td>\n",
       "      <td>0.017422</td>\n",
       "      <td>0.007055</td>\n",
       "      <td>...</td>\n",
       "      <td>0.014851</td>\n",
       "      <td>0.000000</td>\n",
       "      <td>0.020408</td>\n",
       "      <td>0.000000</td>\n",
       "      <td>0.009390</td>\n",
       "      <td>0.000000</td>\n",
       "      <td>-0.002513</td>\n",
       "      <td>-0.078261</td>\n",
       "      <td>NaN</td>\n",
       "      <td>NaN</td>\n",
       "    </tr>\n",
       "    <tr>\n",
       "      <th>2022-12-01</th>\n",
       "      <td>0.022173</td>\n",
       "      <td>-0.006757</td>\n",
       "      <td>0.004525</td>\n",
       "      <td>0.047826</td>\n",
       "      <td>0.027027</td>\n",
       "      <td>0.010563</td>\n",
       "      <td>0.007648</td>\n",
       "      <td>0.021605</td>\n",
       "      <td>0.001712</td>\n",
       "      <td>0.001751</td>\n",
       "      <td>...</td>\n",
       "      <td>0.019512</td>\n",
       "      <td>-0.031746</td>\n",
       "      <td>0.050588</td>\n",
       "      <td>-0.002500</td>\n",
       "      <td>0.002326</td>\n",
       "      <td>0.000000</td>\n",
       "      <td>0.002519</td>\n",
       "      <td>-0.004717</td>\n",
       "      <td>NaN</td>\n",
       "      <td>NaN</td>\n",
       "    </tr>\n",
       "    <tr>\n",
       "      <th>2022-12-02</th>\n",
       "      <td>0.006508</td>\n",
       "      <td>0.000000</td>\n",
       "      <td>0.009009</td>\n",
       "      <td>-0.018672</td>\n",
       "      <td>0.014620</td>\n",
       "      <td>0.015679</td>\n",
       "      <td>-0.007590</td>\n",
       "      <td>-0.009063</td>\n",
       "      <td>-0.003419</td>\n",
       "      <td>0.001748</td>\n",
       "      <td>...</td>\n",
       "      <td>-0.014354</td>\n",
       "      <td>-0.073770</td>\n",
       "      <td>-0.007839</td>\n",
       "      <td>0.002506</td>\n",
       "      <td>0.000000</td>\n",
       "      <td>0.005063</td>\n",
       "      <td>-0.002513</td>\n",
       "      <td>-0.007899</td>\n",
       "      <td>-0.002525</td>\n",
       "      <td>0.007557</td>\n",
       "    </tr>\n",
       "  </tbody>\n",
       "</table>\n",
       "<p>2190 rows × 3110 columns</p>\n",
       "</div>"
      ],
      "text/plain": [
       "ISU_SRT_CD    000020    000040    000050    000060    000070    000075  \\\n",
       "trdDd                                                                    \n",
       "2014-01-02  0.011390  0.000000  0.022936  0.023102 -0.014745 -0.041176   \n",
       "2014-01-03  0.022523  0.004484  0.022422 -0.006452 -0.023129  0.024540   \n",
       "2014-01-06  0.003304  0.000000  0.021930 -0.003247  0.012535  0.000000   \n",
       "2014-01-07  0.005488 -0.002232  0.000000  0.003257  0.016506 -0.004491   \n",
       "2014-01-08  0.032751  0.011186 -0.021459  0.000000 -0.004060 -0.022556   \n",
       "...              ...       ...       ...       ...       ...       ...   \n",
       "2022-11-28 -0.023385 -0.027119 -0.018018 -0.021396 -0.012214 -0.008850   \n",
       "2022-11-29  0.007982  0.034843  0.000000  0.005754  0.013910  0.000000   \n",
       "2022-11-30  0.020362 -0.003367  0.013761  0.052632  0.015244  0.014286   \n",
       "2022-12-01  0.022173 -0.006757  0.004525  0.047826  0.027027  0.010563   \n",
       "2022-12-02  0.006508  0.000000  0.009009 -0.018672  0.014620  0.015679   \n",
       "\n",
       "ISU_SRT_CD    000080    000087    000100    000105  ...    417500    419080  \\\n",
       "trdDd                                               ...                       \n",
       "2014-01-02 -0.013605  0.015060 -0.024029  0.011839  ...       NaN       NaN   \n",
       "2014-01-03 -0.013793  0.000000 -0.010994 -0.003158  ...       NaN       NaN   \n",
       "2014-01-06  0.011655 -0.026706  0.041587  0.002160  ...       NaN       NaN   \n",
       "2014-01-07  0.000000  0.009146  0.047871  0.016095  ...       NaN       NaN   \n",
       "2014-01-08 -0.006912 -0.009063  0.015195 -0.002121  ...       NaN       NaN   \n",
       "...              ...       ...       ...       ...  ...       ...       ...   \n",
       "2022-11-28 -0.011538  0.000000 -0.013865 -0.005291  ... -0.028302 -0.032258   \n",
       "2022-11-29  0.017510  0.000000  0.008787  0.005319  ... -0.019417 -0.066667   \n",
       "2022-11-30  0.000000  0.000000  0.017422  0.007055  ...  0.014851  0.000000   \n",
       "2022-12-01  0.007648  0.021605  0.001712  0.001751  ...  0.019512 -0.031746   \n",
       "2022-12-02 -0.007590 -0.009063 -0.003419  0.001748  ... -0.014354 -0.073770   \n",
       "\n",
       "ISU_SRT_CD    425420    438220    438580    440200    440790    446070  \\\n",
       "trdDd                                                                    \n",
       "2014-01-02       NaN       NaN       NaN       NaN       NaN       NaN   \n",
       "2014-01-03       NaN       NaN       NaN       NaN       NaN       NaN   \n",
       "2014-01-06       NaN       NaN       NaN       NaN       NaN       NaN   \n",
       "2014-01-07       NaN       NaN       NaN       NaN       NaN       NaN   \n",
       "2014-01-08       NaN       NaN       NaN       NaN       NaN       NaN   \n",
       "...              ...       ...       ...       ...       ...       ...   \n",
       "2022-11-28 -0.042697       NaN  0.000000  0.002532 -0.002500       NaN   \n",
       "2022-11-29 -0.022300  0.000000 -0.011601 -0.002525 -0.002506 -0.070081   \n",
       "2022-11-30  0.020408  0.000000  0.009390  0.000000 -0.002513 -0.078261   \n",
       "2022-12-01  0.050588 -0.002500  0.002326  0.000000  0.002519 -0.004717   \n",
       "2022-12-02 -0.007839  0.002506  0.000000  0.005063 -0.002513 -0.007899   \n",
       "\n",
       "ISU_SRT_CD    439410    442130  \n",
       "trdDd                           \n",
       "2014-01-02       NaN       NaN  \n",
       "2014-01-03       NaN       NaN  \n",
       "2014-01-06       NaN       NaN  \n",
       "2014-01-07       NaN       NaN  \n",
       "2014-01-08       NaN       NaN  \n",
       "...              ...       ...  \n",
       "2022-11-28       NaN       NaN  \n",
       "2022-11-29       NaN       NaN  \n",
       "2022-11-30       NaN       NaN  \n",
       "2022-12-01       NaN       NaN  \n",
       "2022-12-02 -0.002525  0.007557  \n",
       "\n",
       "[2190 rows x 3110 columns]"
      ]
     },
     "execution_count": 9,
     "metadata": {},
     "output_type": "execute_result"
    }
   ],
   "source": [
    "return_df"
   ]
  },
  {
   "attachments": {},
   "cell_type": "markdown",
   "metadata": {},
   "source": [
    "무위험 수익률"
   ]
  },
  {
   "cell_type": "code",
   "execution_count": 10,
   "metadata": {},
   "outputs": [],
   "source": [
    "## risk free rate\n",
    "## https://www.index.go.kr/potal/stts/idxMain/selectPoSttsIdxSearch.do?idx_cd=1073\n",
    "\n",
    "rf_df = pd.read_excel('bok_risk_free_rate.xls', skiprows=2, nrows=7)"
   ]
  },
  {
   "cell_type": "code",
   "execution_count": 11,
   "metadata": {},
   "outputs": [],
   "source": [
    "rf_df.set_index(keys=rf_df.columns[0], inplace=True)\n",
    "rf_df.rename_axis(index=None, inplace=True)\n",
    "rf_df = rf_df.T\n",
    "rf_df.index = pd.to_datetime(rf_df.index, format='%Y%m월')\n"
   ]
  },
  {
   "cell_type": "code",
   "execution_count": 12,
   "metadata": {},
   "outputs": [
    {
     "data": {
      "text/plain": [
       "Index(['국고채 3년(평균)', '국고채 5년(평균)', '국고채 10년(평균)', '회사채 3년(평균)', 'CD 91물(평균)',\n",
       "       '콜금리(1일물,평균)', '기준금리'],\n",
       "      dtype='object')"
      ]
     },
     "execution_count": 12,
     "metadata": {},
     "output_type": "execute_result"
    }
   ],
   "source": [
    "rf_df.columns"
   ]
  },
  {
   "attachments": {},
   "cell_type": "markdown",
   "metadata": {},
   "source": [
    "risk-free rate는 한국은행 10년물 연이율을 일별로 환산하여 사용"
   ]
  },
  {
   "cell_type": "code",
   "execution_count": 13,
   "metadata": {},
   "outputs": [],
   "source": [
    "rf_df = pd.DataFrame(rf_df[rf_df.columns[2]])\n",
    "rf_df = rf_df.rename(columns={rf_df.columns[0]: 'bok_10y'})"
   ]
  },
  {
   "cell_type": "code",
   "execution_count": 14,
   "metadata": {},
   "outputs": [
    {
     "data": {
      "text/html": [
       "<div>\n",
       "<style scoped>\n",
       "    .dataframe tbody tr th:only-of-type {\n",
       "        vertical-align: middle;\n",
       "    }\n",
       "\n",
       "    .dataframe tbody tr th {\n",
       "        vertical-align: top;\n",
       "    }\n",
       "\n",
       "    .dataframe thead th {\n",
       "        text-align: right;\n",
       "    }\n",
       "</style>\n",
       "<table border=\"1\" class=\"dataframe\">\n",
       "  <thead>\n",
       "    <tr style=\"text-align: right;\">\n",
       "      <th></th>\n",
       "      <th>bok_10y</th>\n",
       "    </tr>\n",
       "  </thead>\n",
       "  <tbody>\n",
       "    <tr>\n",
       "      <th>2014-01-01</th>\n",
       "      <td>3.65</td>\n",
       "    </tr>\n",
       "    <tr>\n",
       "      <th>2014-02-01</th>\n",
       "      <td>3.52</td>\n",
       "    </tr>\n",
       "    <tr>\n",
       "      <th>2014-03-01</th>\n",
       "      <td>3.54</td>\n",
       "    </tr>\n",
       "    <tr>\n",
       "      <th>2014-04-01</th>\n",
       "      <td>3.54</td>\n",
       "    </tr>\n",
       "    <tr>\n",
       "      <th>2014-05-01</th>\n",
       "      <td>3.40</td>\n",
       "    </tr>\n",
       "    <tr>\n",
       "      <th>...</th>\n",
       "      <td>...</td>\n",
       "    </tr>\n",
       "    <tr>\n",
       "      <th>2022-06-01</th>\n",
       "      <td>3.64</td>\n",
       "    </tr>\n",
       "    <tr>\n",
       "      <th>2022-07-01</th>\n",
       "      <td>3.30</td>\n",
       "    </tr>\n",
       "    <tr>\n",
       "      <th>2022-08-01</th>\n",
       "      <td>3.32</td>\n",
       "    </tr>\n",
       "    <tr>\n",
       "      <th>2022-09-01</th>\n",
       "      <td>3.90</td>\n",
       "    </tr>\n",
       "    <tr>\n",
       "      <th>2022-10-01</th>\n",
       "      <td>4.27</td>\n",
       "    </tr>\n",
       "  </tbody>\n",
       "</table>\n",
       "<p>106 rows × 1 columns</p>\n",
       "</div>"
      ],
      "text/plain": [
       "            bok_10y\n",
       "2014-01-01     3.65\n",
       "2014-02-01     3.52\n",
       "2014-03-01     3.54\n",
       "2014-04-01     3.54\n",
       "2014-05-01     3.40\n",
       "...             ...\n",
       "2022-06-01     3.64\n",
       "2022-07-01     3.30\n",
       "2022-08-01     3.32\n",
       "2022-09-01     3.90\n",
       "2022-10-01     4.27\n",
       "\n",
       "[106 rows x 1 columns]"
      ]
     },
     "execution_count": 14,
     "metadata": {},
     "output_type": "execute_result"
    }
   ],
   "source": [
    "rf_df"
   ]
  },
  {
   "attachments": {},
   "cell_type": "markdown",
   "metadata": {},
   "source": [
    "#### 팩터 데이터 2: SMB (Small Minus Big)\n",
    "\n",
    "사용 데이터:\n",
    "- 시가총액 데이터"
   ]
  },
  {
   "cell_type": "code",
   "execution_count": 15,
   "metadata": {},
   "outputs": [],
   "source": [
    "# Data for 2nd Factor: SMB (Small Minus Big)\n",
    "\n",
    "marcap_df = pricevolume.get_data(\"marketcap\")"
   ]
  },
  {
   "cell_type": "code",
   "execution_count": 16,
   "metadata": {},
   "outputs": [],
   "source": [
    "marcap_df = marcap_df.astype(float) # object로 되어있었음"
   ]
  },
  {
   "cell_type": "code",
   "execution_count": 17,
   "metadata": {},
   "outputs": [
    {
     "data": {
      "text/html": [
       "<div>\n",
       "<style scoped>\n",
       "    .dataframe tbody tr th:only-of-type {\n",
       "        vertical-align: middle;\n",
       "    }\n",
       "\n",
       "    .dataframe tbody tr th {\n",
       "        vertical-align: top;\n",
       "    }\n",
       "\n",
       "    .dataframe thead th {\n",
       "        text-align: right;\n",
       "    }\n",
       "</style>\n",
       "<table border=\"1\" class=\"dataframe\">\n",
       "  <thead>\n",
       "    <tr style=\"text-align: right;\">\n",
       "      <th>ISU_SRT_CD</th>\n",
       "      <th>000020</th>\n",
       "      <th>000040</th>\n",
       "      <th>000050</th>\n",
       "      <th>000060</th>\n",
       "      <th>000070</th>\n",
       "      <th>000075</th>\n",
       "      <th>000080</th>\n",
       "      <th>000087</th>\n",
       "      <th>000100</th>\n",
       "      <th>000105</th>\n",
       "      <th>...</th>\n",
       "      <th>417500</th>\n",
       "      <th>419080</th>\n",
       "      <th>425420</th>\n",
       "      <th>438220</th>\n",
       "      <th>438580</th>\n",
       "      <th>440200</th>\n",
       "      <th>440790</th>\n",
       "      <th>446070</th>\n",
       "      <th>439410</th>\n",
       "      <th>442130</th>\n",
       "    </tr>\n",
       "    <tr>\n",
       "      <th>trdDd</th>\n",
       "      <th></th>\n",
       "      <th></th>\n",
       "      <th></th>\n",
       "      <th></th>\n",
       "      <th></th>\n",
       "      <th></th>\n",
       "      <th></th>\n",
       "      <th></th>\n",
       "      <th></th>\n",
       "      <th></th>\n",
       "      <th></th>\n",
       "      <th></th>\n",
       "      <th></th>\n",
       "      <th></th>\n",
       "      <th></th>\n",
       "      <th></th>\n",
       "      <th></th>\n",
       "      <th></th>\n",
       "      <th></th>\n",
       "      <th></th>\n",
       "      <th></th>\n",
       "    </tr>\n",
       "  </thead>\n",
       "  <tbody>\n",
       "    <tr>\n",
       "      <th>2014-01-02</th>\n",
       "      <td>1.240157e+11</td>\n",
       "      <td>5.227152e+10</td>\n",
       "      <td>2.778912e+11</td>\n",
       "      <td>1.570596e+12</td>\n",
       "      <td>6.005292e+11</td>\n",
       "      <td>9.912291e+09</td>\n",
       "      <td>1.525406e+12</td>\n",
       "      <td>1.904283e+10</td>\n",
       "      <td>2.035340e+12</td>\n",
       "      <td>2.203634e+10</td>\n",
       "      <td>...</td>\n",
       "      <td>NaN</td>\n",
       "      <td>NaN</td>\n",
       "      <td>NaN</td>\n",
       "      <td>NaN</td>\n",
       "      <td>NaN</td>\n",
       "      <td>NaN</td>\n",
       "      <td>NaN</td>\n",
       "      <td>NaN</td>\n",
       "      <td>NaN</td>\n",
       "      <td>NaN</td>\n",
       "    </tr>\n",
       "    <tr>\n",
       "      <th>2014-01-03</th>\n",
       "      <td>1.268089e+11</td>\n",
       "      <td>5.251021e+10</td>\n",
       "      <td>2.841220e+11</td>\n",
       "      <td>1.560464e+12</td>\n",
       "      <td>5.866394e+11</td>\n",
       "      <td>1.015554e+10</td>\n",
       "      <td>1.504366e+12</td>\n",
       "      <td>1.904283e+10</td>\n",
       "      <td>2.013035e+12</td>\n",
       "      <td>2.196548e+10</td>\n",
       "      <td>...</td>\n",
       "      <td>NaN</td>\n",
       "      <td>NaN</td>\n",
       "      <td>NaN</td>\n",
       "      <td>NaN</td>\n",
       "      <td>NaN</td>\n",
       "      <td>NaN</td>\n",
       "      <td>NaN</td>\n",
       "      <td>NaN</td>\n",
       "      <td>NaN</td>\n",
       "      <td>NaN</td>\n",
       "    </tr>\n",
       "    <tr>\n",
       "      <th>2014-01-06</th>\n",
       "      <td>1.272278e+11</td>\n",
       "      <td>5.251021e+10</td>\n",
       "      <td>2.903527e+11</td>\n",
       "      <td>1.555397e+12</td>\n",
       "      <td>5.939928e+11</td>\n",
       "      <td>1.015554e+10</td>\n",
       "      <td>1.521899e+12</td>\n",
       "      <td>1.853426e+10</td>\n",
       "      <td>2.096679e+12</td>\n",
       "      <td>2.201272e+10</td>\n",
       "      <td>...</td>\n",
       "      <td>NaN</td>\n",
       "      <td>NaN</td>\n",
       "      <td>NaN</td>\n",
       "      <td>NaN</td>\n",
       "      <td>NaN</td>\n",
       "      <td>NaN</td>\n",
       "      <td>NaN</td>\n",
       "      <td>NaN</td>\n",
       "      <td>NaN</td>\n",
       "      <td>NaN</td>\n",
       "    </tr>\n",
       "    <tr>\n",
       "      <th>2014-01-07</th>\n",
       "      <td>1.279261e+11</td>\n",
       "      <td>5.239087e+10</td>\n",
       "      <td>2.903527e+11</td>\n",
       "      <td>1.560464e+12</td>\n",
       "      <td>6.037974e+11</td>\n",
       "      <td>1.010993e+10</td>\n",
       "      <td>1.521899e+12</td>\n",
       "      <td>1.870378e+10</td>\n",
       "      <td>2.197052e+12</td>\n",
       "      <td>2.236700e+10</td>\n",
       "      <td>...</td>\n",
       "      <td>NaN</td>\n",
       "      <td>NaN</td>\n",
       "      <td>NaN</td>\n",
       "      <td>NaN</td>\n",
       "      <td>NaN</td>\n",
       "      <td>NaN</td>\n",
       "      <td>NaN</td>\n",
       "      <td>NaN</td>\n",
       "      <td>NaN</td>\n",
       "      <td>NaN</td>\n",
       "    </tr>\n",
       "    <tr>\n",
       "      <th>2014-01-08</th>\n",
       "      <td>1.321159e+11</td>\n",
       "      <td>5.298757e+10</td>\n",
       "      <td>2.841220e+11</td>\n",
       "      <td>1.560464e+12</td>\n",
       "      <td>6.013462e+11</td>\n",
       "      <td>9.881885e+09</td>\n",
       "      <td>1.511379e+12</td>\n",
       "      <td>1.853426e+10</td>\n",
       "      <td>2.230509e+12</td>\n",
       "      <td>2.231977e+10</td>\n",
       "      <td>...</td>\n",
       "      <td>NaN</td>\n",
       "      <td>NaN</td>\n",
       "      <td>NaN</td>\n",
       "      <td>NaN</td>\n",
       "      <td>NaN</td>\n",
       "      <td>NaN</td>\n",
       "      <td>NaN</td>\n",
       "      <td>NaN</td>\n",
       "      <td>NaN</td>\n",
       "      <td>NaN</td>\n",
       "    </tr>\n",
       "    <tr>\n",
       "      <th>...</th>\n",
       "      <td>...</td>\n",
       "      <td>...</td>\n",
       "      <td>...</td>\n",
       "      <td>...</td>\n",
       "      <td>...</td>\n",
       "      <td>...</td>\n",
       "      <td>...</td>\n",
       "      <td>...</td>\n",
       "      <td>...</td>\n",
       "      <td>...</td>\n",
       "      <td>...</td>\n",
       "      <td>...</td>\n",
       "      <td>...</td>\n",
       "      <td>...</td>\n",
       "      <td>...</td>\n",
       "      <td>...</td>\n",
       "      <td>...</td>\n",
       "      <td>...</td>\n",
       "      <td>...</td>\n",
       "      <td>...</td>\n",
       "      <td>...</td>\n",
       "    </tr>\n",
       "    <tr>\n",
       "      <th>2022-11-28</th>\n",
       "      <td>2.449590e+11</td>\n",
       "      <td>5.518348e+10</td>\n",
       "      <td>2.988264e+11</td>\n",
       "      <td>4.943871e+12</td>\n",
       "      <td>5.541083e+11</td>\n",
       "      <td>1.702725e+10</td>\n",
       "      <td>1.802434e+12</td>\n",
       "      <td>1.830824e+10</td>\n",
       "      <td>4.166871e+12</td>\n",
       "      <td>6.660502e+10</td>\n",
       "      <td>...</td>\n",
       "      <td>8.442072e+10</td>\n",
       "      <td>1.419905e+11</td>\n",
       "      <td>9.696612e+10</td>\n",
       "      <td>1.128000e+10</td>\n",
       "      <td>6.508100e+09</td>\n",
       "      <td>1.212750e+10</td>\n",
       "      <td>8.079750e+09</td>\n",
       "      <td>7.873522e+10</td>\n",
       "      <td>NaN</td>\n",
       "      <td>NaN</td>\n",
       "    </tr>\n",
       "    <tr>\n",
       "      <th>2022-11-29</th>\n",
       "      <td>2.469142e+11</td>\n",
       "      <td>5.710625e+10</td>\n",
       "      <td>2.988264e+11</td>\n",
       "      <td>4.972317e+12</td>\n",
       "      <td>5.618162e+11</td>\n",
       "      <td>1.702725e+10</td>\n",
       "      <td>1.833994e+12</td>\n",
       "      <td>1.830824e+10</td>\n",
       "      <td>4.203487e+12</td>\n",
       "      <td>6.695930e+10</td>\n",
       "      <td>...</td>\n",
       "      <td>8.278148e+10</td>\n",
       "      <td>1.325245e+11</td>\n",
       "      <td>9.480373e+10</td>\n",
       "      <td>1.128000e+10</td>\n",
       "      <td>6.432600e+09</td>\n",
       "      <td>1.209688e+10</td>\n",
       "      <td>8.059500e+09</td>\n",
       "      <td>7.321738e+10</td>\n",
       "      <td>NaN</td>\n",
       "      <td>NaN</td>\n",
       "    </tr>\n",
       "    <tr>\n",
       "      <th>2022-11-30</th>\n",
       "      <td>2.519419e+11</td>\n",
       "      <td>5.691397e+10</td>\n",
       "      <td>3.029387e+11</td>\n",
       "      <td>5.234018e+12</td>\n",
       "      <td>5.703804e+11</td>\n",
       "      <td>1.727049e+10</td>\n",
       "      <td>1.833994e+12</td>\n",
       "      <td>1.830824e+10</td>\n",
       "      <td>4.276718e+12</td>\n",
       "      <td>6.743167e+10</td>\n",
       "      <td>...</td>\n",
       "      <td>8.401091e+10</td>\n",
       "      <td>1.325245e+11</td>\n",
       "      <td>9.673850e+10</td>\n",
       "      <td>1.128000e+10</td>\n",
       "      <td>6.493000e+09</td>\n",
       "      <td>1.209688e+10</td>\n",
       "      <td>8.039250e+09</td>\n",
       "      <td>6.748733e+10</td>\n",
       "      <td>NaN</td>\n",
       "      <td>NaN</td>\n",
       "    </tr>\n",
       "    <tr>\n",
       "      <th>2022-12-01</th>\n",
       "      <td>2.575282e+11</td>\n",
       "      <td>5.652942e+10</td>\n",
       "      <td>3.043095e+11</td>\n",
       "      <td>5.484341e+12</td>\n",
       "      <td>5.857961e+11</td>\n",
       "      <td>1.745293e+10</td>\n",
       "      <td>1.848021e+12</td>\n",
       "      <td>1.870378e+10</td>\n",
       "      <td>4.284041e+12</td>\n",
       "      <td>6.754977e+10</td>\n",
       "      <td>...</td>\n",
       "      <td>8.565014e+10</td>\n",
       "      <td>1.283174e+11</td>\n",
       "      <td>1.016323e+11</td>\n",
       "      <td>1.125180e+10</td>\n",
       "      <td>6.508100e+09</td>\n",
       "      <td>1.209688e+10</td>\n",
       "      <td>8.059500e+09</td>\n",
       "      <td>6.716899e+10</td>\n",
       "      <td>1.742400e+10</td>\n",
       "      <td>6.868100e+09</td>\n",
       "    </tr>\n",
       "    <tr>\n",
       "      <th>2022-12-02</th>\n",
       "      <td>2.592040e+11</td>\n",
       "      <td>5.652942e+10</td>\n",
       "      <td>3.070510e+11</td>\n",
       "      <td>5.381936e+12</td>\n",
       "      <td>5.943604e+11</td>\n",
       "      <td>1.772658e+10</td>\n",
       "      <td>1.833994e+12</td>\n",
       "      <td>1.853426e+10</td>\n",
       "      <td>4.269395e+12</td>\n",
       "      <td>6.766786e+10</td>\n",
       "      <td>...</td>\n",
       "      <td>8.442072e+10</td>\n",
       "      <td>1.188513e+11</td>\n",
       "      <td>1.008357e+11</td>\n",
       "      <td>1.128000e+10</td>\n",
       "      <td>6.508100e+09</td>\n",
       "      <td>1.215812e+10</td>\n",
       "      <td>8.039250e+09</td>\n",
       "      <td>6.663843e+10</td>\n",
       "      <td>1.738000e+10</td>\n",
       "      <td>6.920000e+09</td>\n",
       "    </tr>\n",
       "  </tbody>\n",
       "</table>\n",
       "<p>2190 rows × 3110 columns</p>\n",
       "</div>"
      ],
      "text/plain": [
       "ISU_SRT_CD        000020        000040        000050        000060  \\\n",
       "trdDd                                                                \n",
       "2014-01-02  1.240157e+11  5.227152e+10  2.778912e+11  1.570596e+12   \n",
       "2014-01-03  1.268089e+11  5.251021e+10  2.841220e+11  1.560464e+12   \n",
       "2014-01-06  1.272278e+11  5.251021e+10  2.903527e+11  1.555397e+12   \n",
       "2014-01-07  1.279261e+11  5.239087e+10  2.903527e+11  1.560464e+12   \n",
       "2014-01-08  1.321159e+11  5.298757e+10  2.841220e+11  1.560464e+12   \n",
       "...                  ...           ...           ...           ...   \n",
       "2022-11-28  2.449590e+11  5.518348e+10  2.988264e+11  4.943871e+12   \n",
       "2022-11-29  2.469142e+11  5.710625e+10  2.988264e+11  4.972317e+12   \n",
       "2022-11-30  2.519419e+11  5.691397e+10  3.029387e+11  5.234018e+12   \n",
       "2022-12-01  2.575282e+11  5.652942e+10  3.043095e+11  5.484341e+12   \n",
       "2022-12-02  2.592040e+11  5.652942e+10  3.070510e+11  5.381936e+12   \n",
       "\n",
       "ISU_SRT_CD        000070        000075        000080        000087  \\\n",
       "trdDd                                                                \n",
       "2014-01-02  6.005292e+11  9.912291e+09  1.525406e+12  1.904283e+10   \n",
       "2014-01-03  5.866394e+11  1.015554e+10  1.504366e+12  1.904283e+10   \n",
       "2014-01-06  5.939928e+11  1.015554e+10  1.521899e+12  1.853426e+10   \n",
       "2014-01-07  6.037974e+11  1.010993e+10  1.521899e+12  1.870378e+10   \n",
       "2014-01-08  6.013462e+11  9.881885e+09  1.511379e+12  1.853426e+10   \n",
       "...                  ...           ...           ...           ...   \n",
       "2022-11-28  5.541083e+11  1.702725e+10  1.802434e+12  1.830824e+10   \n",
       "2022-11-29  5.618162e+11  1.702725e+10  1.833994e+12  1.830824e+10   \n",
       "2022-11-30  5.703804e+11  1.727049e+10  1.833994e+12  1.830824e+10   \n",
       "2022-12-01  5.857961e+11  1.745293e+10  1.848021e+12  1.870378e+10   \n",
       "2022-12-02  5.943604e+11  1.772658e+10  1.833994e+12  1.853426e+10   \n",
       "\n",
       "ISU_SRT_CD        000100        000105  ...        417500        419080  \\\n",
       "trdDd                                   ...                               \n",
       "2014-01-02  2.035340e+12  2.203634e+10  ...           NaN           NaN   \n",
       "2014-01-03  2.013035e+12  2.196548e+10  ...           NaN           NaN   \n",
       "2014-01-06  2.096679e+12  2.201272e+10  ...           NaN           NaN   \n",
       "2014-01-07  2.197052e+12  2.236700e+10  ...           NaN           NaN   \n",
       "2014-01-08  2.230509e+12  2.231977e+10  ...           NaN           NaN   \n",
       "...                  ...           ...  ...           ...           ...   \n",
       "2022-11-28  4.166871e+12  6.660502e+10  ...  8.442072e+10  1.419905e+11   \n",
       "2022-11-29  4.203487e+12  6.695930e+10  ...  8.278148e+10  1.325245e+11   \n",
       "2022-11-30  4.276718e+12  6.743167e+10  ...  8.401091e+10  1.325245e+11   \n",
       "2022-12-01  4.284041e+12  6.754977e+10  ...  8.565014e+10  1.283174e+11   \n",
       "2022-12-02  4.269395e+12  6.766786e+10  ...  8.442072e+10  1.188513e+11   \n",
       "\n",
       "ISU_SRT_CD        425420        438220        438580        440200  \\\n",
       "trdDd                                                                \n",
       "2014-01-02           NaN           NaN           NaN           NaN   \n",
       "2014-01-03           NaN           NaN           NaN           NaN   \n",
       "2014-01-06           NaN           NaN           NaN           NaN   \n",
       "2014-01-07           NaN           NaN           NaN           NaN   \n",
       "2014-01-08           NaN           NaN           NaN           NaN   \n",
       "...                  ...           ...           ...           ...   \n",
       "2022-11-28  9.696612e+10  1.128000e+10  6.508100e+09  1.212750e+10   \n",
       "2022-11-29  9.480373e+10  1.128000e+10  6.432600e+09  1.209688e+10   \n",
       "2022-11-30  9.673850e+10  1.128000e+10  6.493000e+09  1.209688e+10   \n",
       "2022-12-01  1.016323e+11  1.125180e+10  6.508100e+09  1.209688e+10   \n",
       "2022-12-02  1.008357e+11  1.128000e+10  6.508100e+09  1.215812e+10   \n",
       "\n",
       "ISU_SRT_CD        440790        446070        439410        442130  \n",
       "trdDd                                                               \n",
       "2014-01-02           NaN           NaN           NaN           NaN  \n",
       "2014-01-03           NaN           NaN           NaN           NaN  \n",
       "2014-01-06           NaN           NaN           NaN           NaN  \n",
       "2014-01-07           NaN           NaN           NaN           NaN  \n",
       "2014-01-08           NaN           NaN           NaN           NaN  \n",
       "...                  ...           ...           ...           ...  \n",
       "2022-11-28  8.079750e+09  7.873522e+10           NaN           NaN  \n",
       "2022-11-29  8.059500e+09  7.321738e+10           NaN           NaN  \n",
       "2022-11-30  8.039250e+09  6.748733e+10           NaN           NaN  \n",
       "2022-12-01  8.059500e+09  6.716899e+10  1.742400e+10  6.868100e+09  \n",
       "2022-12-02  8.039250e+09  6.663843e+10  1.738000e+10  6.920000e+09  \n",
       "\n",
       "[2190 rows x 3110 columns]"
      ]
     },
     "execution_count": 17,
     "metadata": {},
     "output_type": "execute_result"
    }
   ],
   "source": [
    "marcap_df = marcap_df.loc[tradingdays, :].copy()\n",
    "marcap_df"
   ]
  },
  {
   "attachments": {},
   "cell_type": "markdown",
   "metadata": {},
   "source": [
    "#### 팩터 데이터 3: HML (High Minus Low)\n",
    "\n",
    "사용 데이터:\n",
    "- KRX Funda 데이터 (그 중 PBR)"
   ]
  },
  {
   "cell_type": "code",
   "execution_count": 18,
   "metadata": {},
   "outputs": [
    {
     "data": {
      "text/html": [
       "<div>\n",
       "<style scoped>\n",
       "    .dataframe tbody tr th:only-of-type {\n",
       "        vertical-align: middle;\n",
       "    }\n",
       "\n",
       "    .dataframe tbody tr th {\n",
       "        vertical-align: top;\n",
       "    }\n",
       "\n",
       "    .dataframe thead th {\n",
       "        text-align: right;\n",
       "    }\n",
       "</style>\n",
       "<table border=\"1\" class=\"dataframe\">\n",
       "  <thead>\n",
       "    <tr style=\"text-align: right;\">\n",
       "      <th>ISU_SRT_CD</th>\n",
       "      <th>000020</th>\n",
       "      <th>000040</th>\n",
       "      <th>000050</th>\n",
       "      <th>000060</th>\n",
       "      <th>000070</th>\n",
       "      <th>000075</th>\n",
       "      <th>000080</th>\n",
       "      <th>000087</th>\n",
       "      <th>000100</th>\n",
       "      <th>000105</th>\n",
       "      <th>...</th>\n",
       "      <th>417500</th>\n",
       "      <th>419080</th>\n",
       "      <th>425420</th>\n",
       "      <th>438220</th>\n",
       "      <th>438580</th>\n",
       "      <th>440200</th>\n",
       "      <th>440790</th>\n",
       "      <th>446070</th>\n",
       "      <th>439410</th>\n",
       "      <th>442130</th>\n",
       "    </tr>\n",
       "    <tr>\n",
       "      <th>trdDd</th>\n",
       "      <th></th>\n",
       "      <th></th>\n",
       "      <th></th>\n",
       "      <th></th>\n",
       "      <th></th>\n",
       "      <th></th>\n",
       "      <th></th>\n",
       "      <th></th>\n",
       "      <th></th>\n",
       "      <th></th>\n",
       "      <th></th>\n",
       "      <th></th>\n",
       "      <th></th>\n",
       "      <th></th>\n",
       "      <th></th>\n",
       "      <th></th>\n",
       "      <th></th>\n",
       "      <th></th>\n",
       "      <th></th>\n",
       "      <th></th>\n",
       "      <th></th>\n",
       "    </tr>\n",
       "  </thead>\n",
       "  <tbody>\n",
       "    <tr>\n",
       "      <th>2014-01-02</th>\n",
       "      <td>0.55</td>\n",
       "      <td>0.82</td>\n",
       "      <td>0.41</td>\n",
       "      <td>1.38</td>\n",
       "      <td>0.48</td>\n",
       "      <td>NaN</td>\n",
       "      <td>1.09</td>\n",
       "      <td>NaN</td>\n",
       "      <td>1.75</td>\n",
       "      <td>NaN</td>\n",
       "      <td>...</td>\n",
       "      <td>NaN</td>\n",
       "      <td>NaN</td>\n",
       "      <td>NaN</td>\n",
       "      <td>NaN</td>\n",
       "      <td>NaN</td>\n",
       "      <td>NaN</td>\n",
       "      <td>NaN</td>\n",
       "      <td>NaN</td>\n",
       "      <td>NaN</td>\n",
       "      <td>NaN</td>\n",
       "    </tr>\n",
       "    <tr>\n",
       "      <th>2014-01-03</th>\n",
       "      <td>0.56</td>\n",
       "      <td>0.83</td>\n",
       "      <td>0.42</td>\n",
       "      <td>1.37</td>\n",
       "      <td>0.47</td>\n",
       "      <td>NaN</td>\n",
       "      <td>1.08</td>\n",
       "      <td>NaN</td>\n",
       "      <td>1.73</td>\n",
       "      <td>NaN</td>\n",
       "      <td>...</td>\n",
       "      <td>NaN</td>\n",
       "      <td>NaN</td>\n",
       "      <td>NaN</td>\n",
       "      <td>NaN</td>\n",
       "      <td>NaN</td>\n",
       "      <td>NaN</td>\n",
       "      <td>NaN</td>\n",
       "      <td>NaN</td>\n",
       "      <td>NaN</td>\n",
       "      <td>NaN</td>\n",
       "    </tr>\n",
       "    <tr>\n",
       "      <th>2014-01-06</th>\n",
       "      <td>0.56</td>\n",
       "      <td>0.83</td>\n",
       "      <td>0.43</td>\n",
       "      <td>1.37</td>\n",
       "      <td>0.47</td>\n",
       "      <td>NaN</td>\n",
       "      <td>1.09</td>\n",
       "      <td>NaN</td>\n",
       "      <td>1.80</td>\n",
       "      <td>NaN</td>\n",
       "      <td>...</td>\n",
       "      <td>NaN</td>\n",
       "      <td>NaN</td>\n",
       "      <td>NaN</td>\n",
       "      <td>NaN</td>\n",
       "      <td>NaN</td>\n",
       "      <td>NaN</td>\n",
       "      <td>NaN</td>\n",
       "      <td>NaN</td>\n",
       "      <td>NaN</td>\n",
       "      <td>NaN</td>\n",
       "    </tr>\n",
       "    <tr>\n",
       "      <th>2014-01-07</th>\n",
       "      <td>0.56</td>\n",
       "      <td>0.82</td>\n",
       "      <td>0.43</td>\n",
       "      <td>1.37</td>\n",
       "      <td>0.48</td>\n",
       "      <td>NaN</td>\n",
       "      <td>1.09</td>\n",
       "      <td>NaN</td>\n",
       "      <td>1.89</td>\n",
       "      <td>NaN</td>\n",
       "      <td>...</td>\n",
       "      <td>NaN</td>\n",
       "      <td>NaN</td>\n",
       "      <td>NaN</td>\n",
       "      <td>NaN</td>\n",
       "      <td>NaN</td>\n",
       "      <td>NaN</td>\n",
       "      <td>NaN</td>\n",
       "      <td>NaN</td>\n",
       "      <td>NaN</td>\n",
       "      <td>NaN</td>\n",
       "    </tr>\n",
       "    <tr>\n",
       "      <th>2014-01-08</th>\n",
       "      <td>0.58</td>\n",
       "      <td>0.83</td>\n",
       "      <td>0.42</td>\n",
       "      <td>1.37</td>\n",
       "      <td>0.48</td>\n",
       "      <td>NaN</td>\n",
       "      <td>1.08</td>\n",
       "      <td>NaN</td>\n",
       "      <td>1.92</td>\n",
       "      <td>NaN</td>\n",
       "      <td>...</td>\n",
       "      <td>NaN</td>\n",
       "      <td>NaN</td>\n",
       "      <td>NaN</td>\n",
       "      <td>NaN</td>\n",
       "      <td>NaN</td>\n",
       "      <td>NaN</td>\n",
       "      <td>NaN</td>\n",
       "      <td>NaN</td>\n",
       "      <td>NaN</td>\n",
       "      <td>NaN</td>\n",
       "    </tr>\n",
       "    <tr>\n",
       "      <th>...</th>\n",
       "      <td>...</td>\n",
       "      <td>...</td>\n",
       "      <td>...</td>\n",
       "      <td>...</td>\n",
       "      <td>...</td>\n",
       "      <td>...</td>\n",
       "      <td>...</td>\n",
       "      <td>...</td>\n",
       "      <td>...</td>\n",
       "      <td>...</td>\n",
       "      <td>...</td>\n",
       "      <td>...</td>\n",
       "      <td>...</td>\n",
       "      <td>...</td>\n",
       "      <td>...</td>\n",
       "      <td>...</td>\n",
       "      <td>...</td>\n",
       "      <td>...</td>\n",
       "      <td>...</td>\n",
       "      <td>...</td>\n",
       "      <td>...</td>\n",
       "    </tr>\n",
       "    <tr>\n",
       "      <th>2022-11-28</th>\n",
       "      <td>0.70</td>\n",
       "      <td>1.49</td>\n",
       "      <td>0.36</td>\n",
       "      <td>1.97</td>\n",
       "      <td>0.29</td>\n",
       "      <td>NaN</td>\n",
       "      <td>1.64</td>\n",
       "      <td>NaN</td>\n",
       "      <td>2.01</td>\n",
       "      <td>NaN</td>\n",
       "      <td>...</td>\n",
       "      <td>2.78</td>\n",
       "      <td>5.34</td>\n",
       "      <td>2.57</td>\n",
       "      <td>NaN</td>\n",
       "      <td>NaN</td>\n",
       "      <td>NaN</td>\n",
       "      <td>NaN</td>\n",
       "      <td>NaN</td>\n",
       "      <td>NaN</td>\n",
       "      <td>NaN</td>\n",
       "    </tr>\n",
       "    <tr>\n",
       "      <th>2022-11-29</th>\n",
       "      <td>0.71</td>\n",
       "      <td>1.54</td>\n",
       "      <td>0.36</td>\n",
       "      <td>1.98</td>\n",
       "      <td>0.29</td>\n",
       "      <td>NaN</td>\n",
       "      <td>1.67</td>\n",
       "      <td>NaN</td>\n",
       "      <td>2.03</td>\n",
       "      <td>NaN</td>\n",
       "      <td>...</td>\n",
       "      <td>2.73</td>\n",
       "      <td>4.99</td>\n",
       "      <td>2.51</td>\n",
       "      <td>NaN</td>\n",
       "      <td>NaN</td>\n",
       "      <td>NaN</td>\n",
       "      <td>NaN</td>\n",
       "      <td>NaN</td>\n",
       "      <td>NaN</td>\n",
       "      <td>NaN</td>\n",
       "    </tr>\n",
       "    <tr>\n",
       "      <th>2022-11-30</th>\n",
       "      <td>0.72</td>\n",
       "      <td>1.54</td>\n",
       "      <td>0.37</td>\n",
       "      <td>2.08</td>\n",
       "      <td>0.29</td>\n",
       "      <td>NaN</td>\n",
       "      <td>1.67</td>\n",
       "      <td>NaN</td>\n",
       "      <td>2.06</td>\n",
       "      <td>NaN</td>\n",
       "      <td>...</td>\n",
       "      <td>2.77</td>\n",
       "      <td>4.99</td>\n",
       "      <td>2.56</td>\n",
       "      <td>NaN</td>\n",
       "      <td>NaN</td>\n",
       "      <td>NaN</td>\n",
       "      <td>NaN</td>\n",
       "      <td>NaN</td>\n",
       "      <td>NaN</td>\n",
       "      <td>NaN</td>\n",
       "    </tr>\n",
       "    <tr>\n",
       "      <th>2022-12-01</th>\n",
       "      <td>0.74</td>\n",
       "      <td>1.53</td>\n",
       "      <td>0.37</td>\n",
       "      <td>2.18</td>\n",
       "      <td>0.30</td>\n",
       "      <td>NaN</td>\n",
       "      <td>1.68</td>\n",
       "      <td>NaN</td>\n",
       "      <td>2.07</td>\n",
       "      <td>NaN</td>\n",
       "      <td>...</td>\n",
       "      <td>2.82</td>\n",
       "      <td>4.83</td>\n",
       "      <td>2.69</td>\n",
       "      <td>NaN</td>\n",
       "      <td>NaN</td>\n",
       "      <td>NaN</td>\n",
       "      <td>NaN</td>\n",
       "      <td>NaN</td>\n",
       "      <td>NaN</td>\n",
       "      <td>NaN</td>\n",
       "    </tr>\n",
       "    <tr>\n",
       "      <th>2022-12-02</th>\n",
       "      <td>0.74</td>\n",
       "      <td>1.53</td>\n",
       "      <td>0.37</td>\n",
       "      <td>2.14</td>\n",
       "      <td>0.31</td>\n",
       "      <td>NaN</td>\n",
       "      <td>1.67</td>\n",
       "      <td>NaN</td>\n",
       "      <td>2.06</td>\n",
       "      <td>NaN</td>\n",
       "      <td>...</td>\n",
       "      <td>2.78</td>\n",
       "      <td>4.47</td>\n",
       "      <td>2.67</td>\n",
       "      <td>NaN</td>\n",
       "      <td>NaN</td>\n",
       "      <td>NaN</td>\n",
       "      <td>NaN</td>\n",
       "      <td>NaN</td>\n",
       "      <td>NaN</td>\n",
       "      <td>NaN</td>\n",
       "    </tr>\n",
       "  </tbody>\n",
       "</table>\n",
       "<p>2190 rows × 3110 columns</p>\n",
       "</div>"
      ],
      "text/plain": [
       "ISU_SRT_CD  000020  000040  000050  000060  000070  000075  000080  000087  \\\n",
       "trdDd                                                                        \n",
       "2014-01-02    0.55    0.82    0.41    1.38    0.48     NaN    1.09     NaN   \n",
       "2014-01-03    0.56    0.83    0.42    1.37    0.47     NaN    1.08     NaN   \n",
       "2014-01-06    0.56    0.83    0.43    1.37    0.47     NaN    1.09     NaN   \n",
       "2014-01-07    0.56    0.82    0.43    1.37    0.48     NaN    1.09     NaN   \n",
       "2014-01-08    0.58    0.83    0.42    1.37    0.48     NaN    1.08     NaN   \n",
       "...            ...     ...     ...     ...     ...     ...     ...     ...   \n",
       "2022-11-28    0.70    1.49    0.36    1.97    0.29     NaN    1.64     NaN   \n",
       "2022-11-29    0.71    1.54    0.36    1.98    0.29     NaN    1.67     NaN   \n",
       "2022-11-30    0.72    1.54    0.37    2.08    0.29     NaN    1.67     NaN   \n",
       "2022-12-01    0.74    1.53    0.37    2.18    0.30     NaN    1.68     NaN   \n",
       "2022-12-02    0.74    1.53    0.37    2.14    0.31     NaN    1.67     NaN   \n",
       "\n",
       "ISU_SRT_CD  000100  000105  ...  417500  419080  425420  438220  438580  \\\n",
       "trdDd                       ...                                           \n",
       "2014-01-02    1.75     NaN  ...     NaN     NaN     NaN     NaN     NaN   \n",
       "2014-01-03    1.73     NaN  ...     NaN     NaN     NaN     NaN     NaN   \n",
       "2014-01-06    1.80     NaN  ...     NaN     NaN     NaN     NaN     NaN   \n",
       "2014-01-07    1.89     NaN  ...     NaN     NaN     NaN     NaN     NaN   \n",
       "2014-01-08    1.92     NaN  ...     NaN     NaN     NaN     NaN     NaN   \n",
       "...            ...     ...  ...     ...     ...     ...     ...     ...   \n",
       "2022-11-28    2.01     NaN  ...    2.78    5.34    2.57     NaN     NaN   \n",
       "2022-11-29    2.03     NaN  ...    2.73    4.99    2.51     NaN     NaN   \n",
       "2022-11-30    2.06     NaN  ...    2.77    4.99    2.56     NaN     NaN   \n",
       "2022-12-01    2.07     NaN  ...    2.82    4.83    2.69     NaN     NaN   \n",
       "2022-12-02    2.06     NaN  ...    2.78    4.47    2.67     NaN     NaN   \n",
       "\n",
       "ISU_SRT_CD  440200  440790  446070  439410  442130  \n",
       "trdDd                                               \n",
       "2014-01-02     NaN     NaN     NaN     NaN     NaN  \n",
       "2014-01-03     NaN     NaN     NaN     NaN     NaN  \n",
       "2014-01-06     NaN     NaN     NaN     NaN     NaN  \n",
       "2014-01-07     NaN     NaN     NaN     NaN     NaN  \n",
       "2014-01-08     NaN     NaN     NaN     NaN     NaN  \n",
       "...            ...     ...     ...     ...     ...  \n",
       "2022-11-28     NaN     NaN     NaN     NaN     NaN  \n",
       "2022-11-29     NaN     NaN     NaN     NaN     NaN  \n",
       "2022-11-30     NaN     NaN     NaN     NaN     NaN  \n",
       "2022-12-01     NaN     NaN     NaN     NaN     NaN  \n",
       "2022-12-02     NaN     NaN     NaN     NaN     NaN  \n",
       "\n",
       "[2190 rows x 3110 columns]"
      ]
     },
     "execution_count": 18,
     "metadata": {},
     "output_type": "execute_result"
    }
   ],
   "source": [
    "# Data for 3rd Factor: HML (High Minus Low)\n",
    "\n",
    "pbr_df = pd.read_pickle('temp_KRX_PBR_20140101_20221202.pkl')\n",
    "pbr_df"
   ]
  },
  {
   "attachments": {},
   "cell_type": "markdown",
   "metadata": {},
   "source": [
    "#### 팩터 데이터 4: Momentum\n",
    "\n",
    "사용 데이터:\n",
    "- 주가 수익률"
   ]
  },
  {
   "cell_type": "code",
   "execution_count": 19,
   "metadata": {},
   "outputs": [
    {
     "data": {
      "text/html": [
       "<div>\n",
       "<style scoped>\n",
       "    .dataframe tbody tr th:only-of-type {\n",
       "        vertical-align: middle;\n",
       "    }\n",
       "\n",
       "    .dataframe tbody tr th {\n",
       "        vertical-align: top;\n",
       "    }\n",
       "\n",
       "    .dataframe thead th {\n",
       "        text-align: right;\n",
       "    }\n",
       "</style>\n",
       "<table border=\"1\" class=\"dataframe\">\n",
       "  <thead>\n",
       "    <tr style=\"text-align: right;\">\n",
       "      <th>ISU_SRT_CD</th>\n",
       "      <th>000020</th>\n",
       "      <th>000040</th>\n",
       "      <th>000050</th>\n",
       "      <th>000060</th>\n",
       "      <th>000070</th>\n",
       "      <th>000075</th>\n",
       "      <th>000080</th>\n",
       "      <th>000087</th>\n",
       "      <th>000100</th>\n",
       "      <th>000105</th>\n",
       "      <th>...</th>\n",
       "      <th>417500</th>\n",
       "      <th>419080</th>\n",
       "      <th>425420</th>\n",
       "      <th>438220</th>\n",
       "      <th>438580</th>\n",
       "      <th>440200</th>\n",
       "      <th>440790</th>\n",
       "      <th>446070</th>\n",
       "      <th>439410</th>\n",
       "      <th>442130</th>\n",
       "    </tr>\n",
       "    <tr>\n",
       "      <th>trdDd</th>\n",
       "      <th></th>\n",
       "      <th></th>\n",
       "      <th></th>\n",
       "      <th></th>\n",
       "      <th></th>\n",
       "      <th></th>\n",
       "      <th></th>\n",
       "      <th></th>\n",
       "      <th></th>\n",
       "      <th></th>\n",
       "      <th></th>\n",
       "      <th></th>\n",
       "      <th></th>\n",
       "      <th></th>\n",
       "      <th></th>\n",
       "      <th></th>\n",
       "      <th></th>\n",
       "      <th></th>\n",
       "      <th></th>\n",
       "      <th></th>\n",
       "      <th></th>\n",
       "    </tr>\n",
       "  </thead>\n",
       "  <tbody>\n",
       "    <tr>\n",
       "      <th>2014-01-02</th>\n",
       "      <td>0.011390</td>\n",
       "      <td>0.000000</td>\n",
       "      <td>0.022936</td>\n",
       "      <td>0.023102</td>\n",
       "      <td>-0.014745</td>\n",
       "      <td>-0.041176</td>\n",
       "      <td>-0.013605</td>\n",
       "      <td>0.015060</td>\n",
       "      <td>-0.024029</td>\n",
       "      <td>0.011839</td>\n",
       "      <td>...</td>\n",
       "      <td>NaN</td>\n",
       "      <td>NaN</td>\n",
       "      <td>NaN</td>\n",
       "      <td>NaN</td>\n",
       "      <td>NaN</td>\n",
       "      <td>NaN</td>\n",
       "      <td>NaN</td>\n",
       "      <td>NaN</td>\n",
       "      <td>NaN</td>\n",
       "      <td>NaN</td>\n",
       "    </tr>\n",
       "    <tr>\n",
       "      <th>2014-01-03</th>\n",
       "      <td>0.022523</td>\n",
       "      <td>0.004484</td>\n",
       "      <td>0.022422</td>\n",
       "      <td>-0.006452</td>\n",
       "      <td>-0.023129</td>\n",
       "      <td>0.024540</td>\n",
       "      <td>-0.013793</td>\n",
       "      <td>0.000000</td>\n",
       "      <td>-0.010994</td>\n",
       "      <td>-0.003158</td>\n",
       "      <td>...</td>\n",
       "      <td>NaN</td>\n",
       "      <td>NaN</td>\n",
       "      <td>NaN</td>\n",
       "      <td>NaN</td>\n",
       "      <td>NaN</td>\n",
       "      <td>NaN</td>\n",
       "      <td>NaN</td>\n",
       "      <td>NaN</td>\n",
       "      <td>NaN</td>\n",
       "      <td>NaN</td>\n",
       "    </tr>\n",
       "    <tr>\n",
       "      <th>2014-01-06</th>\n",
       "      <td>0.003304</td>\n",
       "      <td>0.000000</td>\n",
       "      <td>0.021930</td>\n",
       "      <td>-0.003247</td>\n",
       "      <td>0.012535</td>\n",
       "      <td>0.000000</td>\n",
       "      <td>0.011655</td>\n",
       "      <td>-0.026706</td>\n",
       "      <td>0.041587</td>\n",
       "      <td>0.002160</td>\n",
       "      <td>...</td>\n",
       "      <td>NaN</td>\n",
       "      <td>NaN</td>\n",
       "      <td>NaN</td>\n",
       "      <td>NaN</td>\n",
       "      <td>NaN</td>\n",
       "      <td>NaN</td>\n",
       "      <td>NaN</td>\n",
       "      <td>NaN</td>\n",
       "      <td>NaN</td>\n",
       "      <td>NaN</td>\n",
       "    </tr>\n",
       "    <tr>\n",
       "      <th>2014-01-07</th>\n",
       "      <td>0.005488</td>\n",
       "      <td>-0.002232</td>\n",
       "      <td>0.000000</td>\n",
       "      <td>0.003257</td>\n",
       "      <td>0.016506</td>\n",
       "      <td>-0.004491</td>\n",
       "      <td>0.000000</td>\n",
       "      <td>0.009146</td>\n",
       "      <td>0.047871</td>\n",
       "      <td>0.016095</td>\n",
       "      <td>...</td>\n",
       "      <td>NaN</td>\n",
       "      <td>NaN</td>\n",
       "      <td>NaN</td>\n",
       "      <td>NaN</td>\n",
       "      <td>NaN</td>\n",
       "      <td>NaN</td>\n",
       "      <td>NaN</td>\n",
       "      <td>NaN</td>\n",
       "      <td>NaN</td>\n",
       "      <td>NaN</td>\n",
       "    </tr>\n",
       "    <tr>\n",
       "      <th>2014-01-08</th>\n",
       "      <td>0.032751</td>\n",
       "      <td>0.011186</td>\n",
       "      <td>-0.021459</td>\n",
       "      <td>0.000000</td>\n",
       "      <td>-0.004060</td>\n",
       "      <td>-0.022556</td>\n",
       "      <td>-0.006912</td>\n",
       "      <td>-0.009063</td>\n",
       "      <td>0.015195</td>\n",
       "      <td>-0.002121</td>\n",
       "      <td>...</td>\n",
       "      <td>NaN</td>\n",
       "      <td>NaN</td>\n",
       "      <td>NaN</td>\n",
       "      <td>NaN</td>\n",
       "      <td>NaN</td>\n",
       "      <td>NaN</td>\n",
       "      <td>NaN</td>\n",
       "      <td>NaN</td>\n",
       "      <td>NaN</td>\n",
       "      <td>NaN</td>\n",
       "    </tr>\n",
       "    <tr>\n",
       "      <th>...</th>\n",
       "      <td>...</td>\n",
       "      <td>...</td>\n",
       "      <td>...</td>\n",
       "      <td>...</td>\n",
       "      <td>...</td>\n",
       "      <td>...</td>\n",
       "      <td>...</td>\n",
       "      <td>...</td>\n",
       "      <td>...</td>\n",
       "      <td>...</td>\n",
       "      <td>...</td>\n",
       "      <td>...</td>\n",
       "      <td>...</td>\n",
       "      <td>...</td>\n",
       "      <td>...</td>\n",
       "      <td>...</td>\n",
       "      <td>...</td>\n",
       "      <td>...</td>\n",
       "      <td>...</td>\n",
       "      <td>...</td>\n",
       "      <td>...</td>\n",
       "    </tr>\n",
       "    <tr>\n",
       "      <th>2022-11-28</th>\n",
       "      <td>-0.023385</td>\n",
       "      <td>-0.027119</td>\n",
       "      <td>-0.018018</td>\n",
       "      <td>-0.021396</td>\n",
       "      <td>-0.012214</td>\n",
       "      <td>-0.008850</td>\n",
       "      <td>-0.011538</td>\n",
       "      <td>0.000000</td>\n",
       "      <td>-0.013865</td>\n",
       "      <td>-0.005291</td>\n",
       "      <td>...</td>\n",
       "      <td>-0.028302</td>\n",
       "      <td>-0.032258</td>\n",
       "      <td>-0.042697</td>\n",
       "      <td>NaN</td>\n",
       "      <td>0.000000</td>\n",
       "      <td>0.002532</td>\n",
       "      <td>-0.002500</td>\n",
       "      <td>NaN</td>\n",
       "      <td>NaN</td>\n",
       "      <td>NaN</td>\n",
       "    </tr>\n",
       "    <tr>\n",
       "      <th>2022-11-29</th>\n",
       "      <td>0.007982</td>\n",
       "      <td>0.034843</td>\n",
       "      <td>0.000000</td>\n",
       "      <td>0.005754</td>\n",
       "      <td>0.013910</td>\n",
       "      <td>0.000000</td>\n",
       "      <td>0.017510</td>\n",
       "      <td>0.000000</td>\n",
       "      <td>0.008787</td>\n",
       "      <td>0.005319</td>\n",
       "      <td>...</td>\n",
       "      <td>-0.019417</td>\n",
       "      <td>-0.066667</td>\n",
       "      <td>-0.022300</td>\n",
       "      <td>0.000000</td>\n",
       "      <td>-0.011601</td>\n",
       "      <td>-0.002525</td>\n",
       "      <td>-0.002506</td>\n",
       "      <td>-0.070081</td>\n",
       "      <td>NaN</td>\n",
       "      <td>NaN</td>\n",
       "    </tr>\n",
       "    <tr>\n",
       "      <th>2022-11-30</th>\n",
       "      <td>0.020362</td>\n",
       "      <td>-0.003367</td>\n",
       "      <td>0.013761</td>\n",
       "      <td>0.052632</td>\n",
       "      <td>0.015244</td>\n",
       "      <td>0.014286</td>\n",
       "      <td>0.000000</td>\n",
       "      <td>0.000000</td>\n",
       "      <td>0.017422</td>\n",
       "      <td>0.007055</td>\n",
       "      <td>...</td>\n",
       "      <td>0.014851</td>\n",
       "      <td>0.000000</td>\n",
       "      <td>0.020408</td>\n",
       "      <td>0.000000</td>\n",
       "      <td>0.009390</td>\n",
       "      <td>0.000000</td>\n",
       "      <td>-0.002513</td>\n",
       "      <td>-0.078261</td>\n",
       "      <td>NaN</td>\n",
       "      <td>NaN</td>\n",
       "    </tr>\n",
       "    <tr>\n",
       "      <th>2022-12-01</th>\n",
       "      <td>0.022173</td>\n",
       "      <td>-0.006757</td>\n",
       "      <td>0.004525</td>\n",
       "      <td>0.047826</td>\n",
       "      <td>0.027027</td>\n",
       "      <td>0.010563</td>\n",
       "      <td>0.007648</td>\n",
       "      <td>0.021605</td>\n",
       "      <td>0.001712</td>\n",
       "      <td>0.001751</td>\n",
       "      <td>...</td>\n",
       "      <td>0.019512</td>\n",
       "      <td>-0.031746</td>\n",
       "      <td>0.050588</td>\n",
       "      <td>-0.002500</td>\n",
       "      <td>0.002326</td>\n",
       "      <td>0.000000</td>\n",
       "      <td>0.002519</td>\n",
       "      <td>-0.004717</td>\n",
       "      <td>NaN</td>\n",
       "      <td>NaN</td>\n",
       "    </tr>\n",
       "    <tr>\n",
       "      <th>2022-12-02</th>\n",
       "      <td>0.006508</td>\n",
       "      <td>0.000000</td>\n",
       "      <td>0.009009</td>\n",
       "      <td>-0.018672</td>\n",
       "      <td>0.014620</td>\n",
       "      <td>0.015679</td>\n",
       "      <td>-0.007590</td>\n",
       "      <td>-0.009063</td>\n",
       "      <td>-0.003419</td>\n",
       "      <td>0.001748</td>\n",
       "      <td>...</td>\n",
       "      <td>-0.014354</td>\n",
       "      <td>-0.073770</td>\n",
       "      <td>-0.007839</td>\n",
       "      <td>0.002506</td>\n",
       "      <td>0.000000</td>\n",
       "      <td>0.005063</td>\n",
       "      <td>-0.002513</td>\n",
       "      <td>-0.007899</td>\n",
       "      <td>-0.002525</td>\n",
       "      <td>0.007557</td>\n",
       "    </tr>\n",
       "  </tbody>\n",
       "</table>\n",
       "<p>2190 rows × 3110 columns</p>\n",
       "</div>"
      ],
      "text/plain": [
       "ISU_SRT_CD    000020    000040    000050    000060    000070    000075  \\\n",
       "trdDd                                                                    \n",
       "2014-01-02  0.011390  0.000000  0.022936  0.023102 -0.014745 -0.041176   \n",
       "2014-01-03  0.022523  0.004484  0.022422 -0.006452 -0.023129  0.024540   \n",
       "2014-01-06  0.003304  0.000000  0.021930 -0.003247  0.012535  0.000000   \n",
       "2014-01-07  0.005488 -0.002232  0.000000  0.003257  0.016506 -0.004491   \n",
       "2014-01-08  0.032751  0.011186 -0.021459  0.000000 -0.004060 -0.022556   \n",
       "...              ...       ...       ...       ...       ...       ...   \n",
       "2022-11-28 -0.023385 -0.027119 -0.018018 -0.021396 -0.012214 -0.008850   \n",
       "2022-11-29  0.007982  0.034843  0.000000  0.005754  0.013910  0.000000   \n",
       "2022-11-30  0.020362 -0.003367  0.013761  0.052632  0.015244  0.014286   \n",
       "2022-12-01  0.022173 -0.006757  0.004525  0.047826  0.027027  0.010563   \n",
       "2022-12-02  0.006508  0.000000  0.009009 -0.018672  0.014620  0.015679   \n",
       "\n",
       "ISU_SRT_CD    000080    000087    000100    000105  ...    417500    419080  \\\n",
       "trdDd                                               ...                       \n",
       "2014-01-02 -0.013605  0.015060 -0.024029  0.011839  ...       NaN       NaN   \n",
       "2014-01-03 -0.013793  0.000000 -0.010994 -0.003158  ...       NaN       NaN   \n",
       "2014-01-06  0.011655 -0.026706  0.041587  0.002160  ...       NaN       NaN   \n",
       "2014-01-07  0.000000  0.009146  0.047871  0.016095  ...       NaN       NaN   \n",
       "2014-01-08 -0.006912 -0.009063  0.015195 -0.002121  ...       NaN       NaN   \n",
       "...              ...       ...       ...       ...  ...       ...       ...   \n",
       "2022-11-28 -0.011538  0.000000 -0.013865 -0.005291  ... -0.028302 -0.032258   \n",
       "2022-11-29  0.017510  0.000000  0.008787  0.005319  ... -0.019417 -0.066667   \n",
       "2022-11-30  0.000000  0.000000  0.017422  0.007055  ...  0.014851  0.000000   \n",
       "2022-12-01  0.007648  0.021605  0.001712  0.001751  ...  0.019512 -0.031746   \n",
       "2022-12-02 -0.007590 -0.009063 -0.003419  0.001748  ... -0.014354 -0.073770   \n",
       "\n",
       "ISU_SRT_CD    425420    438220    438580    440200    440790    446070  \\\n",
       "trdDd                                                                    \n",
       "2014-01-02       NaN       NaN       NaN       NaN       NaN       NaN   \n",
       "2014-01-03       NaN       NaN       NaN       NaN       NaN       NaN   \n",
       "2014-01-06       NaN       NaN       NaN       NaN       NaN       NaN   \n",
       "2014-01-07       NaN       NaN       NaN       NaN       NaN       NaN   \n",
       "2014-01-08       NaN       NaN       NaN       NaN       NaN       NaN   \n",
       "...              ...       ...       ...       ...       ...       ...   \n",
       "2022-11-28 -0.042697       NaN  0.000000  0.002532 -0.002500       NaN   \n",
       "2022-11-29 -0.022300  0.000000 -0.011601 -0.002525 -0.002506 -0.070081   \n",
       "2022-11-30  0.020408  0.000000  0.009390  0.000000 -0.002513 -0.078261   \n",
       "2022-12-01  0.050588 -0.002500  0.002326  0.000000  0.002519 -0.004717   \n",
       "2022-12-02 -0.007839  0.002506  0.000000  0.005063 -0.002513 -0.007899   \n",
       "\n",
       "ISU_SRT_CD    439410    442130  \n",
       "trdDd                           \n",
       "2014-01-02       NaN       NaN  \n",
       "2014-01-03       NaN       NaN  \n",
       "2014-01-06       NaN       NaN  \n",
       "2014-01-07       NaN       NaN  \n",
       "2014-01-08       NaN       NaN  \n",
       "...              ...       ...  \n",
       "2022-11-28       NaN       NaN  \n",
       "2022-11-29       NaN       NaN  \n",
       "2022-11-30       NaN       NaN  \n",
       "2022-12-01       NaN       NaN  \n",
       "2022-12-02 -0.002525  0.007557  \n",
       "\n",
       "[2190 rows x 3110 columns]"
      ]
     },
     "execution_count": 19,
     "metadata": {},
     "output_type": "execute_result"
    }
   ],
   "source": [
    "return_df"
   ]
  },
  {
   "attachments": {},
   "cell_type": "markdown",
   "metadata": {},
   "source": [
    "## 1. Make Factor data\n",
    "\n",
    "준비된 데이터들을 재료로 factor data를 만든다. \n",
    "\n",
    "모든 factor는 time series window를 따로 사용하지 않고 횡단면(cross-sectional) 으로 계산하여 구함. "
   ]
  },
  {
   "attachments": {},
   "cell_type": "markdown",
   "metadata": {},
   "source": [
    "### Factor 1: Market Excess Return\n",
    "\n",
    "$$\n",
    "... + \\beta_{m, i} * (R_m - R_f) + ...\n",
    "$$"
   ]
  },
  {
   "cell_type": "code",
   "execution_count": 20,
   "metadata": {},
   "outputs": [],
   "source": [
    "# 시가총액 가중 market return \n",
    "marcap_weights = marcap_df.divide(marcap_df.sum(axis=1), axis=0)\n",
    "Rm = (return_df * marcap_weights).sum(axis=1)"
   ]
  },
  {
   "cell_type": "code",
   "execution_count": 21,
   "metadata": {},
   "outputs": [],
   "source": [
    "# 한국은행 국채 10년물 금리를 daily interest rate으로 환산 (compound rate)\n",
    "Rf = rf_df.reindex(Rm.index, method='ffill').squeeze()\n",
    "Rf = (1 + Rf * 0.01) ** (1/252) - 1"
   ]
  },
  {
   "cell_type": "code",
   "execution_count": 22,
   "metadata": {},
   "outputs": [
    {
     "data": {
      "text/plain": [
       "trdDd\n",
       "2014-01-02   -0.020248\n",
       "2014-01-03   -0.009241\n",
       "2014-01-06    0.004118\n",
       "2014-01-07    0.003524\n",
       "2014-01-08    0.001258\n",
       "                ...   \n",
       "2022-11-28   -0.013256\n",
       "2022-11-29    0.010726\n",
       "2022-11-30    0.014261\n",
       "2022-12-01    0.004928\n",
       "2022-12-02   -0.016618\n",
       "Length: 2190, dtype: float64"
      ]
     },
     "execution_count": 22,
     "metadata": {},
     "output_type": "execute_result"
    }
   ],
   "source": [
    "mkt_excess_R = Rm - Rf\n",
    "mkt_excess_R"
   ]
  },
  {
   "attachments": {},
   "cell_type": "markdown",
   "metadata": {},
   "source": [
    "### Factor 2: SMB\n",
    "\n",
    "$$\n",
    "... + \\beta_{SMB, i} * f_{SMB} + ...\n",
    "$$\n",
    "\n",
    "> SMB(Small minus Big): \n",
    ">\n",
    "> the average return on the three small portfolios minus is the average return on the big portfolios\n",
    "\n",
    "$$\n",
    "SMB = \\dfrac{(Small Value + Small Neutral + Small Growth)}{3} – \\dfrac{(Big Value +\n",
    "Big Neutral + Big Growth)}{3}\n",
    "$$\n",
    "\n",
    "포트폴리오이기 때문에, 마찬가지로 시가총액 가중을 해야한다.\n",
    "\n",
    "이 때, market 시가총액 weight를 재활용하지 않고, small/big 으로 만들어진 포트폴리오에서 따로 시가총액 weight를 구한다. "
   ]
  },
  {
   "cell_type": "code",
   "execution_count": 23,
   "metadata": {},
   "outputs": [],
   "source": [
    "def is_small_size(marcap_row: pd.Series):\n",
    "    rank_threshold = len(marcap_row[~marcap_row.isna()]) * 1/3\n",
    "    value_threshold = marcap_row.nsmallest(int(rank_threshold))\n",
    "    selections = value_threshold.index\n",
    "\n",
    "    return selections # 오직 small 에 해당하는 종목들의 index만 줌. \n",
    "    "
   ]
  },
  {
   "cell_type": "code",
   "execution_count": 24,
   "metadata": {},
   "outputs": [],
   "source": [
    "def is_big_size(marcap_row: pd.Series):\n",
    "    rank_threshold = len(marcap_row[~marcap_row.isna()]) * 1/3\n",
    "    value_threshold = marcap_row.nlargest(int(rank_threshold))\n",
    "    selections = value_threshold.index\n",
    "\n",
    "    return selections\n",
    "    "
   ]
  },
  {
   "cell_type": "code",
   "execution_count": 25,
   "metadata": {},
   "outputs": [],
   "source": [
    "# index를 각 row에 넣어야 안해당 하는 것은 Nan으로 표시된 채로 DataFrame이 완성됨.\n",
    "small_size_marcap_df = marcap_df.apply((lambda row: row[is_small_size(row)]), axis=1) \n",
    "\n",
    "# small 에 해당하는 marcap만 모아 이 포트폴리오에 맞는 weight를 계산\n",
    "small_size_marcap_weights = small_size_marcap_df.divide(small_size_marcap_df.sum(axis=1), axis=0)\n",
    "\n",
    "# 이미 구해놓은 mask를 통해 쉽게 return을 구함. \n",
    "small_size_returns = return_df[~small_size_marcap_df.isnull()]"
   ]
  },
  {
   "cell_type": "code",
   "execution_count": 26,
   "metadata": {},
   "outputs": [
    {
     "data": {
      "text/plain": [
       "trdDd\n",
       "2014-01-02   -0.003392\n",
       "2014-01-03    0.000529\n",
       "2014-01-06    0.005350\n",
       "2014-01-07    0.006058\n",
       "2014-01-08    0.005170\n",
       "                ...   \n",
       "2022-11-28   -0.016115\n",
       "2022-11-29    0.007370\n",
       "2022-11-30    0.006492\n",
       "2022-12-01    0.013234\n",
       "2022-12-02   -0.000158\n",
       "Length: 2190, dtype: float64"
      ]
     },
     "execution_count": 26,
     "metadata": {},
     "output_type": "execute_result"
    }
   ],
   "source": [
    "small_size_portfolio_returns = (small_size_marcap_weights * small_size_returns).sum(axis=1)\n",
    "small_size_portfolio_returns"
   ]
  },
  {
   "cell_type": "code",
   "execution_count": 27,
   "metadata": {},
   "outputs": [
    {
     "data": {
      "text/plain": [
       "<AxesSubplot: >"
      ]
     },
     "execution_count": 27,
     "metadata": {},
     "output_type": "execute_result"
    },
    {
     "data": {
      "image/png": "[encoded data removed]",
      "text/plain": [
       "<Figure size 1000x600 with 1 Axes>"
      ]
     },
     "metadata": {},
     "output_type": "display_data"
    }
   ],
   "source": [
    "small_size_portfolio_returns.hist(bins=50)"
   ]
  },
  {
   "cell_type": "code",
   "execution_count": 28,
   "metadata": {},
   "outputs": [
    {
     "data": {
      "text/plain": [
       "DescribeResult(nobs=2190, minmax=(-0.13716054578840597, 0.06400012942283465), mean=0.00021635438023860466, variance=0.00013191571323908658, skewness=-1.9048937288066528, kurtosis=15.743147398545151)"
      ]
     },
     "execution_count": 28,
     "metadata": {},
     "output_type": "execute_result"
    }
   ],
   "source": [
    "scipy.stats.describe(small_size_portfolio_returns)"
   ]
  },
  {
   "attachments": {},
   "cell_type": "markdown",
   "metadata": {},
   "source": [
    "small cap일수록 negatively skewed 된 모습을 보여, abnormal return을 보여준다. "
   ]
  },
  {
   "cell_type": "code",
   "execution_count": 29,
   "metadata": {},
   "outputs": [
    {
     "data": {
      "text/plain": [
       "count    2190.000000\n",
       "mean        0.000216\n",
       "std         0.011485\n",
       "min        -0.137161\n",
       "25%        -0.003977\n",
       "50%         0.001415\n",
       "75%         0.006204\n",
       "max         0.064000\n",
       "dtype: float64"
      ]
     },
     "execution_count": 29,
     "metadata": {},
     "output_type": "execute_result"
    }
   ],
   "source": [
    "small_size_portfolio_returns.describe()"
   ]
  },
  {
   "cell_type": "code",
   "execution_count": 30,
   "metadata": {},
   "outputs": [],
   "source": [
    "big_size_marcap_df = marcap_df.apply((lambda row: row[is_big_size(row)]), axis=1)\n",
    "big_size_marcap_weights = big_size_marcap_df.divide(big_size_marcap_df.sum(axis=1), axis=0)\n",
    "big_size_returns = return_df[~big_size_marcap_df.isnull()]"
   ]
  },
  {
   "cell_type": "code",
   "execution_count": 31,
   "metadata": {},
   "outputs": [
    {
     "data": {
      "text/plain": [
       "trdDd\n",
       "2014-01-02   -0.020865\n",
       "2014-01-03   -0.009691\n",
       "2014-01-06    0.004223\n",
       "2014-01-07    0.003466\n",
       "2014-01-08    0.001330\n",
       "                ...   \n",
       "2022-11-28   -0.012914\n",
       "2022-11-29    0.010978\n",
       "2022-11-30    0.014983\n",
       "2022-12-01    0.004554\n",
       "2022-12-02   -0.017656\n",
       "Length: 2190, dtype: float64"
      ]
     },
     "execution_count": 31,
     "metadata": {},
     "output_type": "execute_result"
    }
   ],
   "source": [
    "big_size_portfolio_returns = (big_size_marcap_weights * big_size_returns).sum(axis=1)\n",
    "big_size_portfolio_returns"
   ]
  },
  {
   "cell_type": "code",
   "execution_count": 32,
   "metadata": {},
   "outputs": [
    {
     "data": {
      "text/plain": [
       "<AxesSubplot: >"
      ]
     },
     "execution_count": 32,
     "metadata": {},
     "output_type": "execute_result"
    },
    {
     "data": {
      "image/png": "[encoded data removed]",
      "text/plain": [
       "<Figure size 1000x600 with 1 Axes>"
      ]
     },
     "metadata": {},
     "output_type": "display_data"
    }
   ],
   "source": [
    "big_size_portfolio_returns.hist(bins=50)"
   ]
  },
  {
   "cell_type": "code",
   "execution_count": 33,
   "metadata": {},
   "outputs": [
    {
     "data": {
      "text/plain": [
       "DescribeResult(nobs=2190, minmax=(-0.0811453516806436, 0.08858675544586847), mean=0.0006650930213027979, variance=0.00010354533173340495, skewness=-0.03849319537312415, kurtosis=8.398571632681508)"
      ]
     },
     "execution_count": 33,
     "metadata": {},
     "output_type": "execute_result"
    }
   ],
   "source": [
    "scipy.stats.describe(big_size_portfolio_returns)"
   ]
  },
  {
   "cell_type": "code",
   "execution_count": 34,
   "metadata": {},
   "outputs": [
    {
     "data": {
      "text/plain": [
       "count    2190.000000\n",
       "mean        0.000665\n",
       "std         0.010176\n",
       "min        -0.081145\n",
       "25%        -0.004027\n",
       "50%         0.001038\n",
       "75%         0.006006\n",
       "max         0.088587\n",
       "dtype: float64"
      ]
     },
     "execution_count": 34,
     "metadata": {},
     "output_type": "execute_result"
    }
   ],
   "source": [
    "big_size_portfolio_returns.describe()"
   ]
  },
  {
   "cell_type": "code",
   "execution_count": 35,
   "metadata": {},
   "outputs": [
    {
     "data": {
      "text/plain": [
       "trdDd\n",
       "2014-01-02    0.017473\n",
       "2014-01-03    0.010219\n",
       "2014-01-06    0.001127\n",
       "2014-01-07    0.002592\n",
       "2014-01-08    0.003840\n",
       "                ...   \n",
       "2022-11-28   -0.003201\n",
       "2022-11-29   -0.003608\n",
       "2022-11-30   -0.008492\n",
       "2022-12-01    0.008681\n",
       "2022-12-02    0.017498\n",
       "Length: 2190, dtype: float64"
      ]
     },
     "execution_count": 35,
     "metadata": {},
     "output_type": "execute_result"
    }
   ],
   "source": [
    "SMB = small_size_portfolio_returns - big_size_portfolio_returns\n",
    "SMB"
   ]
  },
  {
   "attachments": {},
   "cell_type": "markdown",
   "metadata": {},
   "source": [
    "### Factor 3: HML\n",
    "\n",
    "$$\n",
    "... + \\beta_{HML, i} * f_{HML} + ...\n",
    "$$\n",
    "\n",
    "> HML(High minus Low): \n",
    "> \n",
    "> the average return on the two value portfolios minus is the average return on the two growth portfolios\n",
    "\n",
    "$$\n",
    "SMB = \\dfrac{(Small Value + Big Value)}{2} – \\dfrac{(Small Growth + Big Growth)}{2}\n",
    "$$"
   ]
  },
  {
   "attachments": {},
   "cell_type": "markdown",
   "metadata": {},
   "source": [
    "$Book\\text{-}to\\text{-}Market \\ ratio = \\dfrac{장부가}{시가}$\n",
    "\n",
    "$PBR(Price\\text{-}to\\text{-}Book \\ ratio) = \\dfrac{주가}{1 \\ 주당 \\ 장부가} = \\dfrac{시가}{장부가}$\n",
    "\n",
    "위의 공식에 따라 growth stock 일수록 PBR이 높고, value stock 일수록 PBR이 낮다. \n",
    "\n",
    "원래는 Book-to-Market ratio에 기초하기 때문에 High는 value, Low는 growth를 나타낸다는 점을 참고"
   ]
  },
  {
   "cell_type": "code",
   "execution_count": 36,
   "metadata": {},
   "outputs": [],
   "source": [
    "def is_value(pbr_row: pd.Series): # = High = low PBR\n",
    "    rank_threshold = len(pbr_row[~pbr_row.isna()]) * 1/2\n",
    "    value_threshold = pbr_row.nsmallest(int(rank_threshold))\n",
    "    selections = value_threshold.index\n",
    "\n",
    "    return selections # 오직 high 에 해당하는 종목들의 index만 줌. \n",
    "    "
   ]
  },
  {
   "cell_type": "code",
   "execution_count": 37,
   "metadata": {},
   "outputs": [],
   "source": [
    "def is_growth(pbr_row: pd.Series): # = Low = high PBR\n",
    "    rank_threshold = len(pbr_row[~pbr_row.isna()]) * 1/2\n",
    "    value_threshold = pbr_row.nlargest(int(rank_threshold))\n",
    "    selections = value_threshold.index\n",
    "\n",
    "    return selections\n",
    "    "
   ]
  },
  {
   "cell_type": "code",
   "execution_count": 38,
   "metadata": {},
   "outputs": [],
   "source": [
    "value_df = pbr_df.apply((lambda row: row[is_value(row)]), axis=1) \n",
    "value_marcap_df = marcap_df[~value_df.isnull()]\n",
    "value_marcap_weights = value_marcap_df.divide(value_marcap_df.sum(axis=1), axis=0)\n",
    "value_returns = return_df[~value_df.isnull()]"
   ]
  },
  {
   "cell_type": "code",
   "execution_count": 39,
   "metadata": {},
   "outputs": [
    {
     "data": {
      "text/plain": [
       "trdDd\n",
       "2014-01-02   -0.012004\n",
       "2014-01-03   -0.011556\n",
       "2014-01-06    0.001473\n",
       "2014-01-07    0.002326\n",
       "2014-01-08   -0.000182\n",
       "                ...   \n",
       "2022-11-28   -0.009389\n",
       "2022-11-29    0.013425\n",
       "2022-11-30    0.011539\n",
       "2022-12-01    0.004235\n",
       "2022-12-02   -0.015233\n",
       "Length: 2190, dtype: float64"
      ]
     },
     "execution_count": 39,
     "metadata": {},
     "output_type": "execute_result"
    }
   ],
   "source": [
    "value_portfolio_returns = (value_marcap_weights * value_returns).sum(axis=1)\n",
    "value_portfolio_returns\n"
   ]
  },
  {
   "cell_type": "code",
   "execution_count": 40,
   "metadata": {},
   "outputs": [
    {
     "data": {
      "text/plain": [
       "<AxesSubplot: >"
      ]
     },
     "execution_count": 40,
     "metadata": {},
     "output_type": "execute_result"
    },
    {
     "data": {
      "image/png": "[encoded data removed]",
      "text/plain": [
       "<Figure size 1000x600 with 1 Axes>"
      ]
     },
     "metadata": {},
     "output_type": "display_data"
    }
   ],
   "source": [
    "value_portfolio_returns.hist(bins=50)"
   ]
  },
  {
   "cell_type": "code",
   "execution_count": 41,
   "metadata": {},
   "outputs": [
    {
     "data": {
      "text/plain": [
       "DescribeResult(nobs=2190, minmax=(-0.11067825392216624, 0.09982351657867197), mean=8.323517374165457e-05, variance=0.00012031029201848573, skewness=-0.22489624910452657, kurtosis=12.652415473386855)"
      ]
     },
     "execution_count": 41,
     "metadata": {},
     "output_type": "execute_result"
    }
   ],
   "source": [
    "scipy.stats.describe(value_portfolio_returns)"
   ]
  },
  {
   "cell_type": "code",
   "execution_count": 42,
   "metadata": {},
   "outputs": [
    {
     "data": {
      "text/plain": [
       "count    2190.000000\n",
       "mean        0.000083\n",
       "std         0.010969\n",
       "min        -0.110678\n",
       "25%        -0.005294\n",
       "50%         0.000457\n",
       "75%         0.005637\n",
       "max         0.099824\n",
       "dtype: float64"
      ]
     },
     "execution_count": 42,
     "metadata": {},
     "output_type": "execute_result"
    }
   ],
   "source": [
    "value_portfolio_returns.describe()"
   ]
  },
  {
   "cell_type": "code",
   "execution_count": 43,
   "metadata": {},
   "outputs": [],
   "source": [
    "growth_df = pbr_df.apply((lambda row: row[is_growth(row)]), axis=1) \n",
    "growth_marcap_df = marcap_df[~growth_df.isnull()]\n",
    "growth_marcap_weights = growth_marcap_df.divide(growth_marcap_df.sum(axis=1), axis=0)\n",
    "growth_returns = return_df[~growth_df.isnull()]"
   ]
  },
  {
   "cell_type": "code",
   "execution_count": 44,
   "metadata": {},
   "outputs": [
    {
     "data": {
      "text/plain": [
       "trdDd\n",
       "2014-01-02   -0.024858\n",
       "2014-01-03   -0.007287\n",
       "2014-01-06    0.005926\n",
       "2014-01-07    0.004374\n",
       "2014-01-08    0.001553\n",
       "                ...   \n",
       "2022-11-28   -0.015507\n",
       "2022-11-29    0.009940\n",
       "2022-11-30    0.016157\n",
       "2022-12-01    0.005577\n",
       "2022-12-02   -0.017693\n",
       "Length: 2190, dtype: float64"
      ]
     },
     "execution_count": 44,
     "metadata": {},
     "output_type": "execute_result"
    }
   ],
   "source": [
    "growth_portfolio_returns = (growth_marcap_weights * growth_returns).sum(axis=1)\n",
    "growth_portfolio_returns\n"
   ]
  },
  {
   "cell_type": "code",
   "execution_count": 45,
   "metadata": {},
   "outputs": [
    {
     "data": {
      "text/plain": [
       "<AxesSubplot: >"
      ]
     },
     "execution_count": 45,
     "metadata": {},
     "output_type": "execute_result"
    },
    {
     "data": {
      "image/png": "[encoded data removed]",
      "text/plain": [
       "<Figure size 1000x600 with 1 Axes>"
      ]
     },
     "metadata": {},
     "output_type": "display_data"
    }
   ],
   "source": [
    "growth_portfolio_returns.hist(bins=50)"
   ]
  },
  {
   "cell_type": "code",
   "execution_count": 46,
   "metadata": {},
   "outputs": [
    {
     "data": {
      "text/plain": [
       "DescribeResult(nobs=2190, minmax=(-0.07425890079825653, 0.09268772994147821), mean=0.0010224634969110398, variance=0.0001231043868365219, skewness=-0.04181911669598458, kurtosis=5.466138491432156)"
      ]
     },
     "execution_count": 46,
     "metadata": {},
     "output_type": "execute_result"
    }
   ],
   "source": [
    "scipy.stats.describe(growth_portfolio_returns)"
   ]
  },
  {
   "cell_type": "code",
   "execution_count": 47,
   "metadata": {},
   "outputs": [
    {
     "data": {
      "text/plain": [
       "count    2190.000000\n",
       "mean        0.001022\n",
       "std         0.011095\n",
       "min        -0.074259\n",
       "25%        -0.004622\n",
       "50%         0.001601\n",
       "75%         0.007055\n",
       "max         0.092688\n",
       "dtype: float64"
      ]
     },
     "execution_count": 47,
     "metadata": {},
     "output_type": "execute_result"
    }
   ],
   "source": [
    "growth_portfolio_returns.describe()"
   ]
  },
  {
   "cell_type": "code",
   "execution_count": 48,
   "metadata": {},
   "outputs": [
    {
     "data": {
      "text/plain": [
       "trdDd\n",
       "2014-01-02    0.012854\n",
       "2014-01-03   -0.004269\n",
       "2014-01-06   -0.004453\n",
       "2014-01-07   -0.002049\n",
       "2014-01-08   -0.001736\n",
       "                ...   \n",
       "2022-11-28    0.006118\n",
       "2022-11-29    0.003486\n",
       "2022-11-30   -0.004618\n",
       "2022-12-01   -0.001342\n",
       "2022-12-02    0.002459\n",
       "Length: 2190, dtype: float64"
      ]
     },
     "execution_count": 48,
     "metadata": {},
     "output_type": "execute_result"
    }
   ],
   "source": [
    "HML = value_portfolio_returns - growth_portfolio_returns\n",
    "HML"
   ]
  },
  {
   "attachments": {},
   "cell_type": "markdown",
   "metadata": {},
   "source": [
    "### Factor 4: Momentum\n",
    "\n",
    "$$\n",
    "... + \\beta_{Momentum, i} * f_{Momentum} + ...\n",
    "$$\n"
   ]
  },
  {
   "attachments": {},
   "cell_type": "markdown",
   "metadata": {},
   "source": [
    "** return decomposition 및 factor dashboard 완성하고 추가할 예정 **"
   ]
  },
  {
   "attachments": {},
   "cell_type": "markdown",
   "metadata": {},
   "source": [
    "## 2. Decompose return into factor returns\n",
    "\n",
    "각 security의 수익률을 linear regression을 통해 factor로 분해하고, 각 factor의 계수인 beta를 구한다. \n",
    "\n",
    "선형회귀를 할 때는 위에서 global 변수로 설정한 `WINDOW`의 기간씩 rolling하며 적용한다. \n",
    "\n",
    "따라서 결국 '60일 Beta' 와 같은 계수를 구하게 된다. "
   ]
  },
  {
   "cell_type": "code",
   "execution_count": 49,
   "metadata": {},
   "outputs": [
    {
     "data": {
      "text/plain": [
       "60"
      ]
     },
     "execution_count": 49,
     "metadata": {},
     "output_type": "execute_result"
    }
   ],
   "source": [
    "WINDOW"
   ]
  },
  {
   "cell_type": "code",
   "execution_count": 50,
   "metadata": {},
   "outputs": [
    {
     "data": {
      "text/plain": [
       "(2190, 3110)"
      ]
     },
     "execution_count": 50,
     "metadata": {},
     "output_type": "execute_result"
    }
   ],
   "source": [
    "return_df.shape"
   ]
  },
  {
   "attachments": {},
   "cell_type": "markdown",
   "metadata": {},
   "source": [
    "beta를 dataset처럼 생성하려면 \n",
    "\n",
    "각각의 주식(ii)에 대해 모두 factor decomposition을 위해 linear regression을 하고, \n",
    "\n",
    "moving window에 따라 di(기간) 에 대해서도 여러 번 해줘야 하기 때문에 일단 계산량이 많아진다. \n",
    "\n",
    "그리고 `WINDOW`를 무작정 키우는 것은 linear factor model이 말 그대로 linear한 관계를 가정하기에 좋지 않을 수 있다. \n",
    "\n",
    "그러니까 그냥 최근 `WINDOW`일 만큼만 보자"
   ]
  },
  {
   "cell_type": "code",
   "execution_count": 51,
   "metadata": {},
   "outputs": [],
   "source": [
    "recent_return_df = return_df.iloc[-WINDOW:, :].copy()"
   ]
  },
  {
   "attachments": {},
   "cell_type": "markdown",
   "metadata": {},
   "source": [
    "backtest하려는 것이 아니므로 최근 60일 내 전체 값이 존재하지 않는 (nan이 있는) 종목들은 제외하자. "
   ]
  },
  {
   "cell_type": "code",
   "execution_count": 52,
   "metadata": {},
   "outputs": [],
   "source": [
    "recent_return_df = recent_return_df.dropna(axis=1, how='any')"
   ]
  },
  {
   "cell_type": "code",
   "execution_count": 53,
   "metadata": {},
   "outputs": [
    {
     "data": {
      "text/plain": [
       "(60, 2632)"
      ]
     },
     "execution_count": 53,
     "metadata": {},
     "output_type": "execute_result"
    }
   ],
   "source": [
    "recent_return_df.shape"
   ]
  },
  {
   "cell_type": "code",
   "execution_count": 54,
   "metadata": {},
   "outputs": [],
   "source": [
    "recent_mkt_excess_R = mkt_excess_R.iloc[-WINDOW:].copy()\n",
    "recent_SMB = SMB.iloc[-WINDOW:].copy()\n",
    "recent_HML = HML.iloc[-WINDOW:].copy()\n",
    "recent_Rf = Rf.iloc[-WINDOW:].copy()"
   ]
  },
  {
   "cell_type": "code",
   "execution_count": 55,
   "metadata": {},
   "outputs": [],
   "source": [
    "recent_excess_return_df = recent_return_df.subtract(recent_Rf, axis=0)"
   ]
  },
  {
   "attachments": {},
   "cell_type": "markdown",
   "metadata": {},
   "source": [
    "행렬을 이용해 한 번에 beta 를 구하도록 하자. \n",
    "\n",
    "좌변에서 각 factor의 시계열 series는 행렬 $X$의 각 column이 된다. \n",
    "\n",
    "우리가 구하고자 하는 $\\beta$가 들어있는 행렬 $W$는 $X$와 행렬 곱 되어야 하므로 각 column이 각 종목에 대한 regression 결과이다. \n",
    "\n",
    "마지막으로 우변의 행렬 $b$는 각 종목 return 시계열 series를 모아놓은 것이다. beta 행렬과 같이 각 column에 모아놓은 것이다. \n",
    "\n",
    "subscript의 경우 헷갈리지 않게 \n",
    "\n",
    "- 날짜는 숫자로 (1, 2, 3, ...)\n",
    "- 종목 번호는 알파벳 소문자로 (a, b, c, ...)\n",
    "\n",
    "표기하였다. \n"
   ]
  },
  {
   "attachments": {},
   "cell_type": "markdown",
   "metadata": {},
   "source": [
    "\n",
    "$$\n",
    "XW = b\n",
    "$$\n",
    "\n",
    "$$\n",
    "X = \\begin{bmatrix}\n",
    "f_{mkt, 1} & f_{SMB, 1} & f_{HML, 1} \\\\\n",
    "f_{mkt, 2} & f_{SMB, 2} & f_{HML, 2} \\\\\n",
    "\\vdots & \\vdots & \\vdots & \\\\\n",
    "f_{mkt, n} & f_{SMB, n} & f_{HML, n} \\\\\n",
    "\\end{bmatrix}\n",
    "$$ \n",
    "\n",
    "$$\n",
    "W = \\begin{bmatrix}\n",
    "\\beta_{mkt, a} & \\beta_{mkt, b} & \\dots & \\beta_{mkt, z} \\\\\n",
    "\\beta_{SMB, a} & \\beta_{SMB, b} & \\dots & \\beta_{mkt, z} \\\\\n",
    "\\beta_{HML, a} & \\beta_{HML, b} & \\dots & \\beta_{mkt, z}\n",
    "\\end{bmatrix}\n",
    "$$\n",
    "\n",
    "$$\n",
    "b = \\begin{bmatrix}\n",
    "r_{a, 1} & r_{b, 1} & \\dots & r_{z, 1} \\\\\n",
    "r_{a, 2} & r_{b, 2} & \\dots & r_{z, 2} \\\\\n",
    "\\vdots & \\vdots & \\ & \\vdots & \\\\\n",
    "r_{a, n} & r_{b, n} & \\dots & r_{z, n} \\\\\n",
    "\\end{bmatrix}\n",
    "$$"
   ]
  },
  {
   "attachments": {},
   "cell_type": "markdown",
   "metadata": {},
   "source": [
    "이 행렬에서 $W$를 구하면 우리가 원하는 종목별 factor beta들을 구할 수 있다. "
   ]
  },
  {
   "attachments": {},
   "cell_type": "markdown",
   "metadata": {},
   "source": [
    "$$\n",
    "W = X^{-1}b\n",
    "$$"
   ]
  },
  {
   "cell_type": "code",
   "execution_count": 68,
   "metadata": {},
   "outputs": [
    {
     "data": {
      "text/plain": [
       "(60, 3)"
      ]
     },
     "execution_count": 68,
     "metadata": {},
     "output_type": "execute_result"
    }
   ],
   "source": [
    "X = np.array([np.array(recent_mkt_excess_R), np.array(recent_SMB), np.array(recent_HML)]).T\n",
    "X.shape"
   ]
  },
  {
   "cell_type": "code",
   "execution_count": 69,
   "metadata": {},
   "outputs": [
    {
     "data": {
      "text/plain": [
       "(60, 2632)"
      ]
     },
     "execution_count": 69,
     "metadata": {},
     "output_type": "execute_result"
    }
   ],
   "source": [
    "b = np.array(recent_excess_return_df)\n",
    "b.shape"
   ]
  },
  {
   "cell_type": "code",
   "execution_count": 77,
   "metadata": {},
   "outputs": [],
   "source": [
    "solution = np.linalg.lstsq(X, b, rcond=None)"
   ]
  },
  {
   "cell_type": "code",
   "execution_count": 78,
   "metadata": {},
   "outputs": [],
   "source": [
    "W, residuals, rank_of_W, singular_values_of_W = solution"
   ]
  },
  {
   "cell_type": "code",
   "execution_count": 80,
   "metadata": {},
   "outputs": [
    {
     "data": {
      "text/plain": [
       "(3, 2632)"
      ]
     },
     "execution_count": 80,
     "metadata": {},
     "output_type": "execute_result"
    }
   ],
   "source": [
    "W.shape"
   ]
  },
  {
   "attachments": {},
   "cell_type": "markdown",
   "metadata": {},
   "source": [
    "## 3. Plot demeaned-beta distribution after group neutralization\n",
    "\n",
    "각 종목을 factor 분해 한 선형회귀식으로 표현한 상태에서, \n",
    "\n",
    "종목들을 grouping하는 어떤 기준 (KRX 산업분류라던가, size를 기준으로 10분위 나눈다던가, 종목 수익률의 correlation으로 비지도 clustering해 만든 k개 집단이라던가, 등등 ) 을 하나 골라 \n",
    "\n",
    "같은 group에 속하는 종목들끼리 평균 수익률을 빼주는(=demean) \"group neutralization\" 을 한다면\n",
    "\n",
    "k번째 집단의 평균 수익률 $r_{mean, k}$의 $f_{mkt}$ 는 $\\dfrac{1}{z}\\sum_{i=a}^{z} \\beta_{mkt, i}$, 즉 그룹 내 종목(a, b, c, ... 로 표기)들의 market beta 평균을 계수로 가지게 되고, \n",
    "\n",
    "각 종목의 $\\beta_{mkt, i}$ 에서 이 beta의 평균을 빼주게 되므로, \n",
    "\n",
    "만약 같은 그룹의 종목들이 어떤 팩터에 대해 비슷한 민감도를 가진다면 각 종목들의 beta는 그룹 내 beta의 평균을 빼고나면 거의 0에 가까워지고, 따라서 factor exposure가 거의 사라지게 된다. \n",
    "\n",
    "이것이 WorldQuant의 long-short portfolio 전략(=alpha)에서 다양한 group neutralization (subindustry, industry, sector 등)을 했을 때 일반적으로 Sharpe가 올라가는 결과를 낳는 이유일 것이다. \n",
    "\n",
    "따라서 3번에서는 Fama-French 3 factor 각각의 beta들을 모아 distribution을 plot하여 살펴보고, \n",
    "\n",
    "어떤 임의의 grouping으로 묶어 group neutralization을 했을 때 남은 demeaned-beta의 distribution을 plot하여 살펴봐 어떤 차이가 있는지를 확인해 볼 것이다. "
   ]
  },
  {
   "attachments": {},
   "cell_type": "markdown",
   "metadata": {},
   "source": [
    "### 각 factor beta들의 distribution 살펴보기 \n",
    "\n",
    "demeaned 되지 않은 상태의 전 종목의 beta를 factor별로 histogram을 그려본다. "
   ]
  },
  {
   "cell_type": "code",
   "execution_count": 114,
   "metadata": {},
   "outputs": [],
   "source": [
    "mkt_betas = W[0, :]\n",
    "SMB_betas = W[1, :]\n",
    "HML_betas = W[2, :]"
   ]
  },
  {
   "cell_type": "code",
   "execution_count": 115,
   "metadata": {},
   "outputs": [
    {
     "data": {
      "text/plain": [
       "<AxesSubplot: ylabel='Count'>"
      ]
     },
     "execution_count": 115,
     "metadata": {},
     "output_type": "execute_result"
    },
    {
     "data": {
      "image/png": "[encoded data removed]",
      "text/plain": [
       "<Figure size 1000x600 with 1 Axes>"
      ]
     },
     "metadata": {},
     "output_type": "display_data"
    }
   ],
   "source": [
    "sns.histplot(mkt_betas)"
   ]
  },
  {
   "attachments": {},
   "cell_type": "markdown",
   "metadata": {},
   "source": [
    "시장 움직임에 거의 중립적인 1 정도가 평균으로 위치하고 있다. "
   ]
  },
  {
   "cell_type": "code",
   "execution_count": 116,
   "metadata": {},
   "outputs": [
    {
     "data": {
      "text/plain": [
       "<AxesSubplot: ylabel='Count'>"
      ]
     },
     "execution_count": 116,
     "metadata": {},
     "output_type": "execute_result"
    },
    {
     "data": {
      "image/png": "[encoded data removed]",
      "text/plain": [
       "<Figure size 1000x600 with 1 Axes>"
      ]
     },
     "metadata": {},
     "output_type": "display_data"
    }
   ],
   "source": [
    "sns.histplot(SMB_betas)"
   ]
  },
  {
   "attachments": {},
   "cell_type": "markdown",
   "metadata": {},
   "source": [
    "SMB의 경우 굉장히 skewed 된 결과를 보여준다. "
   ]
  },
  {
   "cell_type": "code",
   "execution_count": 117,
   "metadata": {},
   "outputs": [
    {
     "data": {
      "text/plain": [
       "<AxesSubplot: ylabel='Count'>"
      ]
     },
     "execution_count": 117,
     "metadata": {},
     "output_type": "execute_result"
    },
    {
     "data": {
      "image/png": "[encoded data removed]",
      "text/plain": [
       "<Figure size 1000x600 with 1 Axes>"
      ]
     },
     "metadata": {},
     "output_type": "display_data"
    }
   ],
   "source": [
    "sns.histplot(HML_betas)"
   ]
  },
  {
   "attachments": {},
   "cell_type": "markdown",
   "metadata": {},
   "source": [
    "HML의 경우는 평균이 1이 아닌 0 근처라는 점이 특이하다. "
   ]
  },
  {
   "attachments": {},
   "cell_type": "markdown",
   "metadata": {},
   "source": [
    "### 몇몇 종목의 factor decomposition된 회귀식을 실제로 살펴보기"
   ]
  },
  {
   "attachments": {},
   "cell_type": "markdown",
   "metadata": {},
   "source": [
    "\n",
    "\n",
    "2번의 과정을 통해 이제 각 종목의 수익률은 Fama-French 3 factor에 의해 분해되어 선형회귀식으로 표현될 수 있다. \n",
    "\n",
    "예를 들어 삼성전자(005930)의 경우를 살펴보자"
   ]
  },
  {
   "cell_type": "code",
   "execution_count": 93,
   "metadata": {},
   "outputs": [
    {
     "data": {
      "text/plain": [
       "370"
      ]
     },
     "execution_count": 93,
     "metadata": {},
     "output_type": "execute_result"
    }
   ],
   "source": [
    "sam_elec_sid = '005930'\n",
    "\n",
    "sid_list = list(return_df.columns)\n",
    "sam_elec_idx = sid_list.index(sam_elec_sid)\n",
    "sam_elec_idx"
   ]
  },
  {
   "cell_type": "code",
   "execution_count": 95,
   "metadata": {},
   "outputs": [],
   "source": [
    "sam_elec_residuial = residuals[sam_elec_idx]\n",
    "sam_elec_betas = W[:, sam_elec_idx]"
   ]
  },
  {
   "cell_type": "code",
   "execution_count": 107,
   "metadata": {},
   "outputs": [
    {
     "name": "stdout",
     "output_type": "stream",
     "text": [
      "\n",
      "Samsung Electronics(005930)\n",
      "\n",
      "R = 0.166077 + 0.189573 * f_mkt + 0.775955 * f_SMB + -0.848819 * f_HML\n",
      "\n",
      "\n"
     ]
    }
   ],
   "source": [
    "result = f'''\n",
    "Samsung Electronics(005930)\n",
    "\n",
    "R = {sam_elec_residuial:04f} + {sam_elec_betas[0]:04f} * f_mkt + {sam_elec_betas[1]:04f} * f_SMB + {sam_elec_betas[2]:04f} * f_HML\n",
    "\n",
    "'''\n",
    "\n",
    "print(result)"
   ]
  },
  {
   "attachments": {},
   "cell_type": "markdown",
   "metadata": {},
   "source": [
    "이번엔 유사한 종목으로 평가받는 하이닉스(000660)의 경우를 살펴보자"
   ]
  },
  {
   "cell_type": "code",
   "execution_count": 111,
   "metadata": {},
   "outputs": [
    {
     "name": "stdout",
     "output_type": "stream",
     "text": [
      "\n",
      "SK Hynix(000660)\n",
      "\n",
      "R = 0.014839 + 1.216175 * f_mkt + 0.161529 * f_SMB + 0.450277 * f_HML\n",
      "\n",
      "\n"
     ]
    }
   ],
   "source": [
    "hynx_elec_sid = '000660'\n",
    "hynx_elec_idx = sid_list.index(hynx_elec_sid)\n",
    "\n",
    "hynx_elec_residuial = residuals[hynx_elec_idx]\n",
    "hynx_elec_betas = W[:, hynx_elec_idx]\n",
    "\n",
    "result = f'''\n",
    "SK Hynix(000660)\n",
    "\n",
    "R = {hynx_elec_residuial:04f} + {hynx_elec_betas[0]:04f} * f_mkt + {hynx_elec_betas[1]:04f} * f_SMB + {hynx_elec_betas[2]:04f} * f_HML\n",
    "\n",
    "'''\n",
    "print(result)"
   ]
  },
  {
   "attachments": {},
   "cell_type": "markdown",
   "metadata": {},
   "source": [
    "음... 왜 이렇게 factor beta가 차이가 많이 나는거지? \n",
    "\n",
    "한 번 NAVER(035420) 와 카카오(035720) 의 경우도 살펴보자. "
   ]
  },
  {
   "cell_type": "code",
   "execution_count": 112,
   "metadata": {},
   "outputs": [
    {
     "name": "stdout",
     "output_type": "stream",
     "text": [
      "\n",
      "NAVER(035420)\n",
      "\n",
      "R = 0.013870 + 1.814750 * f_mkt + 1.511071 * f_SMB + 0.405517 * f_HML\n",
      "\n",
      "\n"
     ]
    }
   ],
   "source": [
    "naver_elec_sid = '035420'\n",
    "naver_elec_idx = sid_list.index(naver_elec_sid)\n",
    "\n",
    "naver_elec_residuial = residuals[naver_elec_idx]\n",
    "naver_elec_betas = W[:, naver_elec_idx]\n",
    "\n",
    "result = f'''\n",
    "NAVER(035420)\n",
    "\n",
    "R = {naver_elec_residuial:04f} + {naver_elec_betas[0]:04f} * f_mkt + {naver_elec_betas[1]:04f} * f_SMB + {naver_elec_betas[2]:04f} * f_HML\n",
    "\n",
    "'''\n",
    "print(result)"
   ]
  },
  {
   "cell_type": "code",
   "execution_count": 113,
   "metadata": {},
   "outputs": [
    {
     "name": "stdout",
     "output_type": "stream",
     "text": [
      "\n",
      "카카오(035720)\n",
      "\n",
      "R = 0.134716 + 0.125816 * f_mkt + 0.839089 * f_SMB + -0.520782 * f_HML\n",
      "\n",
      "\n"
     ]
    }
   ],
   "source": [
    "kakao_elec_sid = '035720'\n",
    "kakao_elec_idx = sid_list.index(kakao_elec_sid)\n",
    "\n",
    "kakao_elec_residuial = residuals[kakao_elec_idx]\n",
    "kakao_elec_betas = W[:, kakao_elec_idx]\n",
    "\n",
    "result = f'''\n",
    "카카오(035720)\n",
    "\n",
    "R = {kakao_elec_residuial:04f} + {kakao_elec_betas[0]:04f} * f_mkt + {kakao_elec_betas[1]:04f} * f_SMB + {kakao_elec_betas[2]:04f} * f_HML\n",
    "\n",
    "'''\n",
    "print(result)"
   ]
  },
  {
   "attachments": {},
   "cell_type": "markdown",
   "metadata": {},
   "source": [
    "### 사용할 grouping data 가져오기 "
   ]
  },
  {
   "attachments": {},
   "cell_type": "markdown",
   "metadata": {},
   "source": [
    "### group neutralization 적용하기"
   ]
  },
  {
   "attachments": {},
   "cell_type": "markdown",
   "metadata": {},
   "source": [
    "### group neutralization하여 demeaned된 beta들의 distribution을 group별로 살펴보기"
   ]
  },
  {
   "cell_type": "code",
   "execution_count": null,
   "metadata": {},
   "outputs": [],
   "source": []
  }
 ],
 "metadata": {
  "kernelspec": {
   "display_name": "Python 3.8.6 ('.venv': poetry)",
   "language": "python",
   "name": "python3"
  },
  "language_info": {
   "codemirror_mode": {
    "name": "ipython",
    "version": 3
   },
   "file_extension": ".py",
   "mimetype": "text/x-python",
   "name": "python",
   "nbconvert_exporter": "python",
   "pygments_lexer": "ipython3",
   "version": "3.8.6"
  },
  "orig_nbformat": 4,
  "vscode": {
   "interpreter": {
    "hash": "b653a6991a0150363b7c7df033ded56ed180846b604af9b857a996de5a460eb0"
   }
  }
 },
 "nbformat": 4,
 "nbformat_minor": 2
}
