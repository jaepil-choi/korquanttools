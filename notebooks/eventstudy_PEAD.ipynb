{
 "cells": [
  {
   "cell_type": "markdown",
   "metadata": {},
   "source": [
    "# PEAD - stock market response to events\n",
    "\n",
    "PEAD: Post/Pre Earning Announcement Drift \n",
    "\n"
   ]
  },
  {
   "cell_type": "markdown",
   "metadata": {},
   "source": [
    "## 0. Import libraries"
   ]
  },
  {
   "cell_type": "code",
   "execution_count": 1,
   "metadata": {},
   "outputs": [],
   "source": [
    "import pandas as pd\n",
    "import numpy as np\n",
    "\n",
    "import matplotlib.pyplot as plt\n",
    "import seaborn as sns\n",
    "# import streamlit as st"
   ]
  },
  {
   "cell_type": "code",
   "execution_count": 2,
   "metadata": {},
   "outputs": [],
   "source": [
    "import FinanceDataReader as fdr\n",
    "import quantstats as qs"
   ]
  },
  {
   "cell_type": "code",
   "execution_count": 3,
   "metadata": {},
   "outputs": [],
   "source": [
    "## custom libs\n",
    "\n",
    "from korquanttools.pricevolume.loader import KRXPriceDM\n",
    "from korquanttools.pricevolume.utils import DateUtil\n",
    "from korquanttools.pricevolume.config import PathConfig"
   ]
  },
  {
   "cell_type": "markdown",
   "metadata": {},
   "source": [
    "## 1. Import datasets\n",
    "\n",
    "### Transaction volume & adjusted close data\n",
    "\n",
    "- Import price-volume data module from KRX using custom lib `korquanttools`\n",
    "- Import related datasets"
   ]
  },
  {
   "cell_type": "code",
   "execution_count": 4,
   "metadata": {},
   "outputs": [],
   "source": [
    "# Global parameters\n",
    "\n",
    "START = 20140101\n",
    "END = 20220520"
   ]
  },
  {
   "cell_type": "code",
   "execution_count": 5,
   "metadata": {},
   "outputs": [
    {
     "name": "stdout",
     "output_type": "stream",
     "text": [
      "\n",
      "        * DM name: KRX_pricevolume\n",
      "        * DM description: Basic price-volume data imported from KRX website & NAVER finance. Has KOSPI, KOSDAQ, KONEX stocks.\n",
      "        * birthday: 20211203\n",
      "        * DM period: 19990101 ~ \n",
      "        * Available data: ['lv1', 'open', 'high', 'low', 'close', 'volume', 'dollarvolume', 'marketcap']\n",
      "        \n"
     ]
    }
   ],
   "source": [
    "# Init data module\n",
    "pricevolume = KRXPriceDM(START, END)\n",
    "pricevolume.get_info()"
   ]
  },
  {
   "cell_type": "code",
   "execution_count": 6,
   "metadata": {},
   "outputs": [],
   "source": [
    "dollarvolume_df = pricevolume.get_data('dollarvolume')\n",
    "dollarvolume_df = dollarvolume_df.astype(float)"
   ]
  },
  {
   "cell_type": "code",
   "execution_count": 9,
   "metadata": {},
   "outputs": [],
   "source": [
    "holidays = dollarvolume_df.isnull().all(axis=1)\n",
    "tradingdays = ~holidays\n",
    "\n",
    "holidays = holidays.index[holidays]\n",
    "tradingdays = tradingdays.index[tradingdays]"
   ]
  },
  {
   "cell_type": "code",
   "execution_count": 10,
   "metadata": {},
   "outputs": [],
   "source": [
    "adjClose_df = pd.read_pickle(PathConfig.cache_path / f\"temp_adjClose_{START}_{END}\")"
   ]
  },
  {
   "cell_type": "markdown",
   "metadata": {},
   "source": [
    "### Earnings calendar data\n",
    "\n",
    "- Import earnings calendar data scraped from investing.com\n",
    "    - Check data count / unique company count\n",
    "    - Currently, only small part of calendar data is scraped"
   ]
  },
  {
   "cell_type": "code",
   "execution_count": 11,
   "metadata": {},
   "outputs": [],
   "source": [
    "earnings_calendar_df = pd.read_pickle('earnings_calendar_20140101-20220530.pickle')"
   ]
  },
  {
   "cell_type": "code",
   "execution_count": 12,
   "metadata": {},
   "outputs": [
    {
     "data": {
      "text/plain": [
       "243"
      ]
     },
     "execution_count": 12,
     "metadata": {},
     "output_type": "execute_result"
    }
   ],
   "source": [
    "len(earnings_calendar_df)"
   ]
  },
  {
   "cell_type": "code",
   "execution_count": 13,
   "metadata": {},
   "outputs": [
    {
     "data": {
      "text/plain": [
       "141"
      ]
     },
     "execution_count": 13,
     "metadata": {},
     "output_type": "execute_result"
    }
   ],
   "source": [
    "len(earnings_calendar_df['sid'].unique())"
   ]
  },
  {
   "cell_type": "markdown",
   "metadata": {},
   "source": [
    "## 2. Event analysis \n",
    "\n",
    "- Process earnings calendar data to lv2 format\n",
    "- Mix earnings calendar data & dependent variable (dollarvolume, adj.close, etc...) to plot event response graph\n"
   ]
  },
  {
   "cell_type": "code",
   "execution_count": 14,
   "metadata": {},
   "outputs": [],
   "source": [
    "# Make calendar event df \n",
    "# 1: event day 0: nothing OR does not exist\n",
    "earnings_calendar_df['is_announced'] = True\n",
    "earnings_announcement_df = earnings_calendar_df.pivot(index='date', columns='sid', values='is_announced')\n",
    "earnings_announcement_df = earnings_announcement_df.fillna(False)\n",
    "earnings_announcement_df = earnings_announcement_df.reindex(index=dollarvolume_df.index, columns=dollarvolume_df.columns)\n",
    "\n",
    "# Only use tradingdays data\n",
    "dollarvolume_tradingdays_df = dollarvolume_df.loc[tradingdays, :]\n",
    "earnings_announcement_tradingdays_df = earnings_announcement_df.loc[tradingdays, :]"
   ]
  },
  {
   "cell_type": "code",
   "execution_count": 15,
   "metadata": {},
   "outputs": [],
   "source": [
    "# Return dolloarvolume data back-and-forth for each event day.\n",
    "# (5 days backward) _ _ _ _ _ EventDay _ _ _ _ _ _ _ _ _ _ _ _ _ _ _ (20 days forward) \n",
    "# D-5 dollarvolume data       D-0                                    D+20 dollarvolume data\n",
    "\n",
    "def event_by_sid(dollarvolume_df, earnings_announcement_df, d_minus=5, d_plus=20):\n",
    "    assert dollarvolume_df.shape == earnings_announcement_df.shape\n",
    "    assert (dollarvolume_df.index == earnings_announcement_df.index).all()\n",
    "    assert (dollarvolume_df.columns == earnings_announcement_df.columns).all()\n",
    "\n",
    "    sid_list = dollarvolume_df.columns\n",
    "    date_list = np.array(dollarvolume_df.index)\n",
    "\n",
    "    dollarvolume_2d = np.array(dollarvolume_df)\n",
    "    event_2d = np.array(earnings_announcement_df)\n",
    "    event_2d = np.where(event_2d == True, event_2d, False)\n",
    "    \n",
    "    dollarvolume_data = []\n",
    "    for col_idx in range(event_2d.shape[1]):\n",
    "        sid = sid_list[col_idx]\n",
    "\n",
    "        dollar_col = dollarvolume_2d[:, col_idx]\n",
    "        col = event_2d[:, col_idx]\n",
    "        event_indices = np.where(col == True)[0]\n",
    "        dates = date_list[event_indices]\n",
    "\n",
    "        for event_idx, date in zip(event_indices, dates):\n",
    "            start_idx = event_idx - d_minus\n",
    "            if start_idx < 0:\n",
    "                start_idx = 0\n",
    "            \n",
    "            end_idx = event_idx + d_plus\n",
    "            if end_idx > len(col):\n",
    "                end_idx = len(col) - 1\n",
    "            \n",
    "            event_period_data = dollar_col[start_idx:end_idx]\n",
    "            dollarvolume_data.append({\n",
    "                'sid': sid,\n",
    "                'd_zero_date': date,\n",
    "                'data': event_period_data, # TODO: Somewhere, data is becoming object!! \n",
    "            })\n",
    "    \n",
    "    return dollarvolume_data"
   ]
  },
  {
   "cell_type": "code",
   "execution_count": 16,
   "metadata": {},
   "outputs": [],
   "source": [
    "dollarvolume_data = event_by_sid(dollarvolume_tradingdays_df, earnings_announcement_tradingdays_df)"
   ]
  },
  {
   "cell_type": "code",
   "execution_count": 17,
   "metadata": {},
   "outputs": [],
   "source": [
    "# TODO: 여기서 Normalization을 하는 것은 옳지 않다. \n",
    "# 단절된 기간들의 data point들의 mean을 구하고 std를 구해서 standardization을 할 것이 아니라, 전체 기간에서 rolling z-score를 우선 구해놓고 이걸 event study에 써야 한다. \n",
    "\n",
    "def normalize_before_eventstudy(dollarvolume_data): # TODO: 시총 가중 할 수 있도록. \n",
    "    # normalize\n",
    "    exploded_df = pd.DataFrame(dollarvolume_data).explode('data')\n",
    "    exploded_df.reset_index(inplace=True, drop=True)\n",
    "    exploded_df['data'] = exploded_df['data'].astype(float) # TODO: Somewhere before data has become object!!\n",
    "\n",
    "    mean_by_sid = exploded_df[['sid', 'data']].groupby('sid').mean()\n",
    "    mean_by_sid['sid'] = mean_by_sid.index\n",
    "    mean_by_sid['sid'] = mean_by_sid['sid'].astype(str).apply(lambda x: str(x).zfill(6))\n",
    "    mean_by_sid.reset_index(inplace=True, drop=True)\n",
    "    mean_by_sid.rename({'data': 'mean'}, axis=1, inplace=True)\n",
    "    \n",
    "    std_by_sid = exploded_df[['sid', 'data']].groupby('sid').std()\n",
    "    std_by_sid['sid'] = std_by_sid.index\n",
    "    std_by_sid['sid'] = std_by_sid['sid'].astype(str).apply(lambda x: str(x).zfill(6))\n",
    "    std_by_sid.reset_index(inplace=True, drop=True)\n",
    "    std_by_sid.rename({'data': 'std'}, axis=1, inplace=True)\n",
    "    std_by_sid['std'] += 1e-7\n",
    "\n",
    "    df = exploded_df.merge(mean_by_sid, on='sid', how='left') # .join DOES NOT WORK! Quirky behavior. Might be an error in pandas. (from Stackoverflow)\n",
    "    df = df.merge(std_by_sid, on='sid', how='left')\n",
    "\n",
    "    df['z_score'] = (df['data'] - df['mean']) / df['std']\n",
    "\n",
    "    return df\n",
    "    "
   ]
  },
  {
   "cell_type": "code",
   "execution_count": 18,
   "metadata": {},
   "outputs": [],
   "source": [
    "df = normalize_before_eventstudy(dollarvolume_data)\n",
    "df['d_date_num'] = df.groupby(['sid', 'd_zero_date']).cumcount() # values (D-5 ~ D+20 dollarvolume) grouped by sid for normalization"
   ]
  },
  {
   "cell_type": "code",
   "execution_count": 19,
   "metadata": {},
   "outputs": [],
   "source": [
    "final_event_period_data = df.groupby('d_date_num').mean()['z_score']"
   ]
  },
  {
   "cell_type": "code",
   "execution_count": 20,
   "metadata": {},
   "outputs": [
    {
     "data": {
      "text/plain": [
       "<matplotlib.lines.Line2D at 0x239520b2a30>"
      ]
     },
     "execution_count": 20,
     "metadata": {},
     "output_type": "execute_result"
    },
    {
     "data": {
      "image/png": "[encoded data removed]",
      "text/plain": [
       "<Figure size 432x288 with 1 Axes>"
      ]
     },
     "metadata": {
      "needs_background": "light"
     },
     "output_type": "display_data"
    }
   ],
   "source": [
    "sns.lineplot(x=final_event_period_data.index, y=final_event_period_data)\n",
    "plt.axvline(x=5, ymin=0, ymax=1, color='red')"
   ]
  },
  {
   "cell_type": "code",
   "execution_count": null,
   "metadata": {},
   "outputs": [],
   "source": []
  },
  {
   "cell_type": "code",
   "execution_count": null,
   "metadata": {},
   "outputs": [],
   "source": []
  }
 ],
 "metadata": {
  "kernelspec": {
   "display_name": "Python 3.8.10 ('.venv': poetry)",
   "language": "python",
   "name": "python3"
  },
  "language_info": {
   "codemirror_mode": {
    "name": "ipython",
    "version": 3
   },
   "file_extension": ".py",
   "mimetype": "text/x-python",
   "name": "python",
   "nbconvert_exporter": "python",
   "pygments_lexer": "ipython3",
   "version": "3.8.10"
  },
  "orig_nbformat": 4,
  "vscode": {
   "interpreter": {
    "hash": "c80c18762abe42d7c75e3daf788625ca4953c83467b1e6b8619a9401f6163468"
   }
  }
 },
 "nbformat": 4,
 "nbformat_minor": 2
}
