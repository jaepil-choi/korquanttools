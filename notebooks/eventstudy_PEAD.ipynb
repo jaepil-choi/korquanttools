{
 "cells": [
  {
   "cell_type": "markdown",
   "metadata": {},
   "source": [
    "# PEAD - stock market response to events\n",
    "\n",
    "PEAD: Post/Pre Earning Announcement Drift \n",
    "\n"
   ]
  },
  {
   "cell_type": "markdown",
   "metadata": {},
   "source": [
    "## 0. Import libraries"
   ]
  },
  {
   "cell_type": "code",
   "execution_count": 1,
   "metadata": {},
   "outputs": [],
   "source": [
    "import pandas as pd\n",
    "import numpy as np\n",
    "\n",
    "import matplotlib.pyplot as plt\n",
    "import seaborn as sns\n",
    "# import streamlit as st"
   ]
  },
  {
   "cell_type": "code",
   "execution_count": 2,
   "metadata": {},
   "outputs": [],
   "source": [
    "import FinanceDataReader as fdr\n",
    "import quantstats as qs"
   ]
  },
  {
   "cell_type": "code",
   "execution_count": 3,
   "metadata": {},
   "outputs": [],
   "source": [
    "## custom libs\n",
    "\n",
    "from korquanttools.pricevolume.loader import KRXPriceDM\n",
    "from korquanttools.pricevolume.utils import DateUtil\n",
    "from korquanttools.pricevolume.config import PathConfig"
   ]
  },
  {
   "cell_type": "markdown",
   "metadata": {},
   "source": [
    "## 1. Import datasets\n",
    "\n",
    "### Transaction volume & adjusted close data\n",
    "\n",
    "- Import price-volume data module from KRX using custom lib `korquanttools`\n",
    "- Import related datasets"
   ]
  },
  {
   "cell_type": "code",
   "execution_count": 4,
   "metadata": {},
   "outputs": [],
   "source": [
    "# Global parameters\n",
    "\n",
    "START = 20140101\n",
    "END = 20220520"
   ]
  },
  {
   "cell_type": "code",
   "execution_count": 5,
   "metadata": {},
   "outputs": [
    {
     "name": "stdout",
     "output_type": "stream",
     "text": [
      "\n",
      "        * DM name: KRX_pricevolume\n",
      "        * DM description: Basic price-volume data imported from KRX website & NAVER finance. Has KOSPI, KOSDAQ, KONEX stocks.\n",
      "        * birthday: 20211203\n",
      "        * DM period: 19990101 ~ \n",
      "        * Available data: ['lv1', 'open', 'high', 'low', 'close', 'volume', 'dollarvolume', 'marketcap']\n",
      "        \n"
     ]
    }
   ],
   "source": [
    "# Init data module\n",
    "pricevolume = KRXPriceDM(START, END)\n",
    "pricevolume.get_info()"
   ]
  },
  {
   "cell_type": "code",
   "execution_count": 6,
   "metadata": {},
   "outputs": [],
   "source": [
    "dollarvolume_df = pricevolume.get_data('dollarvolume')\n",
    "dollarvolume_df = dollarvolume_df.astype(float)"
   ]
  },
  {
   "cell_type": "code",
   "execution_count": 7,
   "metadata": {},
   "outputs": [],
   "source": [
    "holidays = dollarvolume_df.isnull().all(axis=1)\n",
    "tradingdays = ~holidays\n",
    "\n",
    "holidays = holidays.index[holidays]\n",
    "tradingdays = tradingdays.index[tradingdays]"
   ]
  },
  {
   "cell_type": "code",
   "execution_count": 8,
   "metadata": {},
   "outputs": [],
   "source": [
    "adjClose_df = pd.read_pickle(PathConfig.cache_path / f\"temp_adjClose_{START}_{END}\")\n",
    "return_df = pd.read_pickle(PathConfig.cache_path / f\"temp_return_{START}_{END}\")"
   ]
  },
  {
   "cell_type": "markdown",
   "metadata": {},
   "source": [
    "### Earnings calendar data\n",
    "\n",
    "- Import earnings calendar data scraped from investing.com\n",
    "    - Check data count / unique company count\n",
    "    - Currently, only small part of calendar data is scraped"
   ]
  },
  {
   "cell_type": "code",
   "execution_count": 9,
   "metadata": {},
   "outputs": [],
   "source": [
    "earnings_calendar_df = pd.read_pickle('earnings_calendar_20140101-20220530.pickle')"
   ]
  },
  {
   "cell_type": "code",
   "execution_count": 10,
   "metadata": {},
   "outputs": [
    {
     "data": {
      "text/plain": [
       "243"
      ]
     },
     "execution_count": 10,
     "metadata": {},
     "output_type": "execute_result"
    }
   ],
   "source": [
    "len(earnings_calendar_df)"
   ]
  },
  {
   "cell_type": "code",
   "execution_count": 11,
   "metadata": {},
   "outputs": [
    {
     "data": {
      "text/plain": [
       "138"
      ]
     },
     "execution_count": 11,
     "metadata": {},
     "output_type": "execute_result"
    }
   ],
   "source": [
    "len(earnings_calendar_df['sid'].unique())"
   ]
  },
  {
   "cell_type": "markdown",
   "metadata": {},
   "source": [
    "## 2. Event analysis \n",
    "\n",
    "- Process earnings calendar data to lv2 format\n",
    "- Mix earnings calendar data & dependent variable (dollarvolume, adj.close, etc...) to plot event response graph\n",
    "    - Normalize response data (dollarvolume, adj.close, etc) by company because they vary a lot between one another. \n"
   ]
  },
  {
   "cell_type": "code",
   "execution_count": 12,
   "metadata": {},
   "outputs": [],
   "source": [
    "# Make calendar event df \n",
    "# 1: event day 0: nothing OR does not exist\n",
    "earnings_calendar_df['is_announced'] = True\n",
    "earnings_announcement_df = earnings_calendar_df.pivot(index='date', columns='sid', values='is_announced')\n",
    "earnings_announcement_df = earnings_announcement_df.fillna(False)\n",
    "earnings_announcement_df = earnings_announcement_df.reindex(index=dollarvolume_df.index, columns=dollarvolume_df.columns)\n",
    "\n",
    "# Only use tradingdays data\n",
    "dollarvolume_tradingdays_df = dollarvolume_df.loc[tradingdays, :]\n",
    "earnings_announcement_tradingdays_df = earnings_announcement_df.loc[tradingdays, :]"
   ]
  },
  {
   "cell_type": "markdown",
   "metadata": {},
   "source": [
    "### Normalization"
   ]
  },
  {
   "cell_type": "code",
   "execution_count": 13,
   "metadata": {},
   "outputs": [],
   "source": [
    "NORMAL_WINDOW = 252 # Trading days in a year"
   ]
  },
  {
   "cell_type": "code",
   "execution_count": 14,
   "metadata": {},
   "outputs": [],
   "source": [
    "dv_movingavg_tradingdays_df = dollarvolume_tradingdays_df.rolling(NORMAL_WINDOW).mean()\n",
    "dv_movingstd_tradingdays_df = dollarvolume_tradingdays_df.rolling(NORMAL_WINDOW).std()\n",
    "\n",
    "dv_stdnormal_tradingdays_df = (dollarvolume_tradingdays_df - dv_movingavg_tradingdays_df) / dv_movingstd_tradingdays_df"
   ]
  },
  {
   "cell_type": "code",
   "execution_count": 15,
   "metadata": {},
   "outputs": [],
   "source": [
    "dv_stdnormal_tradingdays_df = dv_stdnormal_tradingdays_df.iloc[NORMAL_WINDOW:]\n",
    "earnings_announcement_tradingdays_df = earnings_announcement_tradingdays_df.iloc[NORMAL_WINDOW:]"
   ]
  },
  {
   "cell_type": "markdown",
   "metadata": {},
   "source": [
    "### Get near-event period response data"
   ]
  },
  {
   "cell_type": "code",
   "execution_count": 16,
   "metadata": {},
   "outputs": [],
   "source": [
    "# Return dolloarvolume data back-and-forth for each event day.\n",
    "# (5 days backward) _ _ _ _ _ EventDay _ _ _ _ _ _ _ _ _ _ _ _ _ _ _ (20 days forward) \n",
    "# D-5 dollarvolume data       D-0                                    D+20 dollarvolume data\n",
    "\n",
    "def event_by_sid(dollarvolume_df, earnings_announcement_df, d_minus=5, d_plus=20):\n",
    "    assert dollarvolume_df.shape == earnings_announcement_df.shape\n",
    "    assert (dollarvolume_df.index == earnings_announcement_df.index).all()\n",
    "    assert (dollarvolume_df.columns == earnings_announcement_df.columns).all()\n",
    "\n",
    "    sid_list = dollarvolume_df.columns\n",
    "    date_list = np.array(dollarvolume_df.index)\n",
    "\n",
    "    dollarvolume_2d = np.array(dollarvolume_df)\n",
    "    event_2d = np.array(earnings_announcement_df)\n",
    "    event_2d = np.where(event_2d == True, event_2d, False)\n",
    "    \n",
    "    dollarvolume_data = []\n",
    "    for col_idx in range(event_2d.shape[1]):\n",
    "        sid = sid_list[col_idx]\n",
    "\n",
    "        dollar_col = dollarvolume_2d[:, col_idx]\n",
    "        col = event_2d[:, col_idx]\n",
    "        event_indices = np.where(col == True)[0]\n",
    "        dates = date_list[event_indices]\n",
    "\n",
    "        for event_idx, date in zip(event_indices, dates):\n",
    "            start_idx = event_idx - d_minus\n",
    "            if start_idx < 0:\n",
    "                start_idx = 0\n",
    "            \n",
    "            end_idx = event_idx + d_plus\n",
    "            if end_idx > len(col):\n",
    "                end_idx = len(col) - 1\n",
    "            \n",
    "            event_period_data = dollar_col[start_idx:end_idx]\n",
    "            dollarvolume_data.append({\n",
    "                'sid': sid,\n",
    "                'd_zero_date': date,\n",
    "                'data': event_period_data, # TODO: Somewhere, data is becoming object!! \n",
    "            })\n",
    "    \n",
    "    return dollarvolume_data"
   ]
  },
  {
   "cell_type": "code",
   "execution_count": 17,
   "metadata": {},
   "outputs": [],
   "source": [
    "dollarvolume_data = event_by_sid(dv_stdnormal_tradingdays_df, earnings_announcement_tradingdays_df)"
   ]
  },
  {
   "cell_type": "code",
   "execution_count": 18,
   "metadata": {},
   "outputs": [],
   "source": [
    "dv_exploded_df = pd.DataFrame(dollarvolume_data).explode('data')\n",
    "dv_exploded_df.reset_index(inplace=True, drop=True)\n",
    "dv_exploded_df['data'] = dv_exploded_df['data'].astype(float) # TODO: Somewhere before data has become object!!"
   ]
  },
  {
   "cell_type": "code",
   "execution_count": 19,
   "metadata": {},
   "outputs": [],
   "source": [
    "dv_exploded_df['d_date_num'] = dv_exploded_df.groupby(['sid', 'd_zero_date']).cumcount()\n",
    "dv_final_event_period_data = dv_exploded_df.groupby('d_date_num').mean()['data']"
   ]
  },
  {
   "cell_type": "code",
   "execution_count": 20,
   "metadata": {},
   "outputs": [
    {
     "data": {
      "text/plain": [
       "<matplotlib.lines.Line2D at 0x1b35808feb0>"
      ]
     },
     "execution_count": 20,
     "metadata": {},
     "output_type": "execute_result"
    },
    {
     "data": {
      "image/png": "[encoded data removed]",
      "text/plain": [
       "<Figure size 432x288 with 1 Axes>"
      ]
     },
     "metadata": {
      "needs_background": "light"
     },
     "output_type": "display_data"
    }
   ],
   "source": [
    "sns.lineplot(x=dv_final_event_period_data.index, y=dv_final_event_period_data)\n",
    "plt.axvline(x=5, ymin=0, ymax=1, color='red')"
   ]
  },
  {
   "cell_type": "markdown",
   "metadata": {},
   "source": [
    "## 3. Expansion - adj.close / return"
   ]
  },
  {
   "cell_type": "code",
   "execution_count": 21,
   "metadata": {},
   "outputs": [],
   "source": [
    "NORMAL_WINDOW = 60 # 3 months = 1 quarter"
   ]
  },
  {
   "cell_type": "code",
   "execution_count": 22,
   "metadata": {},
   "outputs": [],
   "source": [
    "# Only use tradingdays data\n",
    "adjClose_tradingdays_df = adjClose_df.loc[tradingdays, :]\n",
    "return_tradingdays_df = return_df.loc[tradingdays, :]\n"
   ]
  },
  {
   "cell_type": "code",
   "execution_count": 23,
   "metadata": {},
   "outputs": [],
   "source": [
    "# adj Close\n",
    "adjClose_movingavg_tradingdays_df = adjClose_tradingdays_df.rolling(NORMAL_WINDOW).mean()\n",
    "adjClose_movingstd_tradingdays_df = adjClose_tradingdays_df.rolling(NORMAL_WINDOW).std()\n",
    "\n",
    "adjClose_stdnormal_tradingdays_df = (adjClose_tradingdays_df - adjClose_movingavg_tradingdays_df) / adjClose_movingstd_tradingdays_df\n",
    "\n",
    "# return\n",
    "# return DOES NOT need normalization"
   ]
  },
  {
   "cell_type": "code",
   "execution_count": 24,
   "metadata": {},
   "outputs": [],
   "source": [
    "adjClose_stdnormal_tradingdays_df = adjClose_stdnormal_tradingdays_df.iloc[NORMAL_WINDOW:]\n",
    "return_tradingdays_df = return_tradingdays_df.iloc[NORMAL_WINDOW:]\n",
    "\n",
    "earnings_announcement_tradingdays_df = earnings_announcement_df.loc[tradingdays, :]\n",
    "earnings_announcement_tradingdays_df = earnings_announcement_tradingdays_df.iloc[NORMAL_WINDOW:]"
   ]
  },
  {
   "cell_type": "code",
   "execution_count": 25,
   "metadata": {},
   "outputs": [],
   "source": [
    "adjClose_data = event_by_sid(adjClose_stdnormal_tradingdays_df, earnings_announcement_tradingdays_df)\n",
    "return_data = event_by_sid(return_tradingdays_df, earnings_announcement_tradingdays_df)"
   ]
  },
  {
   "cell_type": "code",
   "execution_count": 26,
   "metadata": {},
   "outputs": [],
   "source": [
    "adjClose_exploded_df = pd.DataFrame(adjClose_data).explode('data')\n",
    "adjClose_exploded_df.reset_index(inplace=True, drop=True)\n",
    "adjClose_exploded_df['data'] = adjClose_exploded_df['data'].astype(float) # TODO: Somewhere before data has become object!!\n",
    "\n",
    "return_exploded_df = pd.DataFrame(return_data).explode('data')\n",
    "return_exploded_df.reset_index(inplace=True, drop=True)\n",
    "return_exploded_df['data'] = return_exploded_df['data'].astype(float) # TODO: Somewhere before data has become object!!"
   ]
  },
  {
   "cell_type": "code",
   "execution_count": 27,
   "metadata": {},
   "outputs": [],
   "source": [
    "adjClose_exploded_df['d_date_num'] = adjClose_exploded_df.groupby(['sid', 'd_zero_date']).cumcount()\n",
    "adjClose_final_event_period_data = adjClose_exploded_df.groupby('d_date_num').mean()['data']\n",
    "\n",
    "return_exploded_df['d_date_num'] = return_exploded_df.groupby(['sid', 'd_zero_date']).cumcount()\n",
    "return_final_event_period_data = return_exploded_df.groupby('d_date_num').mean()['data']"
   ]
  },
  {
   "cell_type": "code",
   "execution_count": 28,
   "metadata": {},
   "outputs": [
    {
     "data": {
      "text/plain": [
       "<matplotlib.lines.Line2D at 0x1b35c4b9f10>"
      ]
     },
     "execution_count": 28,
     "metadata": {},
     "output_type": "execute_result"
    },
    {
     "data": {
      "image/png": "[encoded data removed]",
      "text/plain": [
       "<Figure size 432x288 with 1 Axes>"
      ]
     },
     "metadata": {
      "needs_background": "light"
     },
     "output_type": "display_data"
    }
   ],
   "source": [
    "sns.lineplot(x=adjClose_final_event_period_data.index, y=adjClose_final_event_period_data)\n",
    "plt.axvline(x=5, ymin=0, ymax=1, color='red')"
   ]
  },
  {
   "cell_type": "markdown",
   "metadata": {},
   "source": [
    "We can observe that adj.Close declines after the event day"
   ]
  },
  {
   "cell_type": "code",
   "execution_count": 29,
   "metadata": {},
   "outputs": [
    {
     "data": {
      "text/plain": [
       "<matplotlib.lines.Line2D at 0x1b35808f940>"
      ]
     },
     "execution_count": 29,
     "metadata": {},
     "output_type": "execute_result"
    },
    {
     "data": {
      "image/png": "[encoded data removed]",
      "text/plain": [
       "<Figure size 432x288 with 1 Axes>"
      ]
     },
     "metadata": {
      "needs_background": "light"
     },
     "output_type": "display_data"
    }
   ],
   "source": [
    "sns.lineplot(x=return_final_event_period_data.index, y=return_final_event_period_data)\n",
    "plt.axvline(x=5, ymin=0, ymax=1, color='red')"
   ]
  },
  {
   "cell_type": "markdown",
   "metadata": {},
   "source": [
    "# 4. Is there information leakage before announcement?\n",
    "\n",
    "So far we have seen pre/post annoucnement change of dollarvolume, price, return. \n",
    "\n",
    "Now I will combine all these to test the hypothesis that there is information leakage in Korean stock market. \n",
    "\n",
    "The intuition is as follow:\n",
    "\n",
    "- When we look at the dollarvolume change before the annoucement, we can see that there's a small drift before the announcement. \n",
    "- This could be due to many reasons like:\n",
    "    - Risk-taking trades before the announcement. \n",
    "    - Information leakage before the announcement. \n",
    "        - i.e, insiders who already know the actual earning is higher/lower can make trades before the announcement to get near-risk-free return. \n",
    "- We can make a hypothesis out of this\n",
    "    - If the insider knows that the earning is actual > forecast, he will buy(long) stocks. \n",
    "    - If the insider knows that the earning is actual < forecast, he will sell(short) stocks. \n",
    "- If the stock with information leakage is small capped and if the insider makes big enough trades to move the price:\n",
    "    - Stock price will go up before actual > forecast is annoucned. \n",
    "    - Stock price will go down before actual < forecast is annoucned.\n",
    "- Therefore, I will look at the \"hit ratio\" of cummulative return before the announcement to earnings announcement directions. \n",
    "    - If price goes up (= positive cumulative return) right before the announcement & earning is actual > forecast = HIT\n",
    "    - If price goes down (= negative cumulative return) right before the announcement & earning is actual < forecast = MISS\n",
    "- \"Hit ratio\" of each stock will be calculated. \n",
    "    - The data is 2014 ~ 2022 so 8y * 4q = 32 announcements per stock\n",
    "    - If a certain stock has abnormally high \"hit ratio\", that stock is suspected of having information leakage. \n",
    "    "
   ]
  },
  {
   "cell_type": "markdown",
   "metadata": {},
   "source": [
    "## 4-1 First, calculate pre-announcement cummulative return\n",
    "\n",
    "This can be done by modifying already existing function just a little. "
   ]
  },
  {
   "cell_type": "code",
   "execution_count": 30,
   "metadata": {},
   "outputs": [],
   "source": [
    "# Return dolloarvolume data back-and-forth for each event day.\n",
    "# (5 days backward) _ _ _ _ _ EventDay _ _ _ _ _ _ _ _ _ _ _ _ _ _ _ (20 days forward) \n",
    "# D-5 dollarvolume data       D-0                                    D+20 dollarvolume data\n",
    "\n",
    "def preannc_event_by_sid(return_df, earnings_announcement_df, d_minus=5, d_plus=20, preannc_days=None):\n",
    "    assert return_df.shape == earnings_announcement_df.shape\n",
    "    assert (return_df.index == earnings_announcement_df.index).all()\n",
    "    assert (return_df.columns == earnings_announcement_df.columns).all()\n",
    "\n",
    "    if preannc_days is None:\n",
    "        preannc_days = d_minus - 1\n",
    "\n",
    "    sid_list = return_df.columns\n",
    "    date_list = np.array(return_df.index)\n",
    "\n",
    "    return_2d = np.array(return_df).astype(float)\n",
    "    event_2d = np.array(earnings_announcement_df)\n",
    "    event_2d = np.where(event_2d == True, event_2d, False)\n",
    "    \n",
    "    return_data = []\n",
    "    for col_idx in range(event_2d.shape[1]):\n",
    "        sid = sid_list[col_idx]\n",
    "\n",
    "        dollar_col = return_2d[:, col_idx]\n",
    "        col = event_2d[:, col_idx]\n",
    "        event_indices = np.where(col == True)[0]\n",
    "        dates = date_list[event_indices]\n",
    "\n",
    "        for event_idx, date in zip(event_indices, dates):\n",
    "            start_idx = event_idx - d_minus\n",
    "            if start_idx < 0:\n",
    "                start_idx = 0\n",
    "            \n",
    "            end_idx = event_idx + d_plus\n",
    "            if end_idx > len(col):\n",
    "                end_idx = len(col) - 1\n",
    "            \n",
    "            event_period_data = dollar_col[start_idx:end_idx]\n",
    "            preannc_cumreturn = event_period_data[:preannc_days].sum()\n",
    "\n",
    "            return_data.append({\n",
    "                'sid': sid,\n",
    "                'd_zero_date': date,\n",
    "                'data': event_period_data, # TODO: Somewhere, data is becoming object!! \n",
    "                'preannc': preannc_cumreturn,\n",
    "            })\n",
    "    \n",
    "    return return_data"
   ]
  },
  {
   "cell_type": "code",
   "execution_count": 31,
   "metadata": {},
   "outputs": [],
   "source": [
    "# Only use tradingdays data\n",
    "return_tradingdays_df = return_df.loc[tradingdays, :]\n",
    "earnings_announcement_tradingdays_df = earnings_announcement_df.loc[tradingdays, :]"
   ]
  },
  {
   "cell_type": "code",
   "execution_count": 35,
   "metadata": {},
   "outputs": [],
   "source": [
    "return_data = preannc_event_by_sid(return_tradingdays_df, earnings_announcement_tradingdays_df)"
   ]
  },
  {
   "cell_type": "code",
   "execution_count": 36,
   "metadata": {},
   "outputs": [],
   "source": [
    "return_exploded_df = pd.DataFrame(return_data).explode('data')\n",
    "return_exploded_df.reset_index(inplace=True, drop=True)\n",
    "return_exploded_df['data'] = return_exploded_df['data'].astype(float) # TODO: Somewhere before data has become object!!"
   ]
  },
  {
   "cell_type": "code",
   "execution_count": 38,
   "metadata": {},
   "outputs": [],
   "source": [
    "return_exploded_df['d_date_num'] = return_exploded_df.groupby(['sid', 'd_zero_date']).cumcount()"
   ]
  },
  {
   "cell_type": "code",
   "execution_count": 40,
   "metadata": {},
   "outputs": [],
   "source": [
    "return_exploded_df['is_positive_preannc'] = (return_exploded_df['preannc'] >= 0)"
   ]
  },
  {
   "cell_type": "code",
   "execution_count": 42,
   "metadata": {},
   "outputs": [],
   "source": [
    "return_exploded_df.dropna(inplace=True)"
   ]
  },
  {
   "cell_type": "code",
   "execution_count": 45,
   "metadata": {},
   "outputs": [
    {
     "data": {
      "text/plain": [
       "2625"
      ]
     },
     "execution_count": 45,
     "metadata": {},
     "output_type": "execute_result"
    }
   ],
   "source": [
    "len(return_exploded_df[return_exploded_df['is_positive_preannc'] == True])"
   ]
  },
  {
   "cell_type": "code",
   "execution_count": 46,
   "metadata": {},
   "outputs": [
    {
     "data": {
      "text/plain": [
       "2450"
      ]
     },
     "execution_count": 46,
     "metadata": {},
     "output_type": "execute_result"
    }
   ],
   "source": [
    "len(return_exploded_df[return_exploded_df['is_positive_preannc'] != True])"
   ]
  },
  {
   "cell_type": "code",
   "execution_count": 51,
   "metadata": {},
   "outputs": [
    {
     "data": {
      "text/html": [
       "<div>\n",
       "<style scoped>\n",
       "    .dataframe tbody tr th:only-of-type {\n",
       "        vertical-align: middle;\n",
       "    }\n",
       "\n",
       "    .dataframe tbody tr th {\n",
       "        vertical-align: top;\n",
       "    }\n",
       "\n",
       "    .dataframe thead th {\n",
       "        text-align: right;\n",
       "    }\n",
       "</style>\n",
       "<table border=\"1\" class=\"dataframe\">\n",
       "  <thead>\n",
       "    <tr style=\"text-align: right;\">\n",
       "      <th></th>\n",
       "      <th>sid</th>\n",
       "      <th>d_zero_date</th>\n",
       "      <th>data</th>\n",
       "      <th>preannc</th>\n",
       "      <th>d_date_num</th>\n",
       "      <th>is_positive_preannc</th>\n",
       "    </tr>\n",
       "  </thead>\n",
       "  <tbody>\n",
       "    <tr>\n",
       "      <th>5</th>\n",
       "      <td>000100</td>\n",
       "      <td>2015-02-25</td>\n",
       "      <td>0.011564</td>\n",
       "      <td>0.000108</td>\n",
       "      <td>5</td>\n",
       "      <td>True</td>\n",
       "    </tr>\n",
       "    <tr>\n",
       "      <th>55</th>\n",
       "      <td>000120</td>\n",
       "      <td>2014-02-25</td>\n",
       "      <td>0.035714</td>\n",
       "      <td>0.056057</td>\n",
       "      <td>5</td>\n",
       "      <td>True</td>\n",
       "    </tr>\n",
       "    <tr>\n",
       "      <th>205</th>\n",
       "      <td>000660</td>\n",
       "      <td>2015-01-28</td>\n",
       "      <td>0.001017</td>\n",
       "      <td>0.025830</td>\n",
       "      <td>5</td>\n",
       "      <td>True</td>\n",
       "    </tr>\n",
       "    <tr>\n",
       "      <th>255</th>\n",
       "      <td>000660</td>\n",
       "      <td>2016-04-26</td>\n",
       "      <td>0.060000</td>\n",
       "      <td>0.011019</td>\n",
       "      <td>5</td>\n",
       "      <td>True</td>\n",
       "    </tr>\n",
       "    <tr>\n",
       "      <th>280</th>\n",
       "      <td>000660</td>\n",
       "      <td>2017-01-26</td>\n",
       "      <td>0.030948</td>\n",
       "      <td>0.055599</td>\n",
       "      <td>5</td>\n",
       "      <td>True</td>\n",
       "    </tr>\n",
       "    <tr>\n",
       "      <th>305</th>\n",
       "      <td>000660</td>\n",
       "      <td>2019-01-24</td>\n",
       "      <td>0.055389</td>\n",
       "      <td>0.028102</td>\n",
       "      <td>5</td>\n",
       "      <td>True</td>\n",
       "    </tr>\n",
       "    <tr>\n",
       "      <th>455</th>\n",
       "      <td>000810</td>\n",
       "      <td>2016-02-18</td>\n",
       "      <td>0.039539</td>\n",
       "      <td>0.004792</td>\n",
       "      <td>5</td>\n",
       "      <td>True</td>\n",
       "    </tr>\n",
       "    <tr>\n",
       "      <th>480</th>\n",
       "      <td>000815</td>\n",
       "      <td>2017-02-15</td>\n",
       "      <td>0.002646</td>\n",
       "      <td>0.000184</td>\n",
       "      <td>5</td>\n",
       "      <td>True</td>\n",
       "    </tr>\n",
       "    <tr>\n",
       "      <th>505</th>\n",
       "      <td>000990</td>\n",
       "      <td>2014-02-14</td>\n",
       "      <td>0.001304</td>\n",
       "      <td>0.048131</td>\n",
       "      <td>5</td>\n",
       "      <td>True</td>\n",
       "    </tr>\n",
       "    <tr>\n",
       "      <th>555</th>\n",
       "      <td>001045</td>\n",
       "      <td>2021-01-04</td>\n",
       "      <td>0.008818</td>\n",
       "      <td>0.076285</td>\n",
       "      <td>5</td>\n",
       "      <td>True</td>\n",
       "    </tr>\n",
       "    <tr>\n",
       "      <th>580</th>\n",
       "      <td>001230</td>\n",
       "      <td>2016-02-15</td>\n",
       "      <td>0.050752</td>\n",
       "      <td>0.033950</td>\n",
       "      <td>5</td>\n",
       "      <td>True</td>\n",
       "    </tr>\n",
       "    <tr>\n",
       "      <th>805</th>\n",
       "      <td>003410</td>\n",
       "      <td>2015-03-23</td>\n",
       "      <td>0.026993</td>\n",
       "      <td>0.030704</td>\n",
       "      <td>5</td>\n",
       "      <td>True</td>\n",
       "    </tr>\n",
       "    <tr>\n",
       "      <th>1105</th>\n",
       "      <td>005387</td>\n",
       "      <td>2018-01-25</td>\n",
       "      <td>0.019324</td>\n",
       "      <td>0.024132</td>\n",
       "      <td>5</td>\n",
       "      <td>True</td>\n",
       "    </tr>\n",
       "    <tr>\n",
       "      <th>1130</th>\n",
       "      <td>005440</td>\n",
       "      <td>2017-02-13</td>\n",
       "      <td>0.008746</td>\n",
       "      <td>0.032805</td>\n",
       "      <td>5</td>\n",
       "      <td>True</td>\n",
       "    </tr>\n",
       "    <tr>\n",
       "      <th>1280</th>\n",
       "      <td>005935</td>\n",
       "      <td>2017-01-24</td>\n",
       "      <td>0.009284</td>\n",
       "      <td>0.003496</td>\n",
       "      <td>5</td>\n",
       "      <td>True</td>\n",
       "    </tr>\n",
       "    <tr>\n",
       "      <th>1330</th>\n",
       "      <td>005935</td>\n",
       "      <td>2019-01-31</td>\n",
       "      <td>0.006711</td>\n",
       "      <td>0.054861</td>\n",
       "      <td>5</td>\n",
       "      <td>True</td>\n",
       "    </tr>\n",
       "    <tr>\n",
       "      <th>1380</th>\n",
       "      <td>005940</td>\n",
       "      <td>2016-02-29</td>\n",
       "      <td>0.019812</td>\n",
       "      <td>0.023482</td>\n",
       "      <td>5</td>\n",
       "      <td>True</td>\n",
       "    </tr>\n",
       "    <tr>\n",
       "      <th>1455</th>\n",
       "      <td>005950</td>\n",
       "      <td>2019-01-18</td>\n",
       "      <td>0.002050</td>\n",
       "      <td>0.008307</td>\n",
       "      <td>5</td>\n",
       "      <td>True</td>\n",
       "    </tr>\n",
       "    <tr>\n",
       "      <th>1480</th>\n",
       "      <td>006260</td>\n",
       "      <td>2014-02-12</td>\n",
       "      <td>0.009639</td>\n",
       "      <td>0.024180</td>\n",
       "      <td>5</td>\n",
       "      <td>True</td>\n",
       "    </tr>\n",
       "    <tr>\n",
       "      <th>1705</th>\n",
       "      <td>008770</td>\n",
       "      <td>2014-01-20</td>\n",
       "      <td>0.005208</td>\n",
       "      <td>0.016373</td>\n",
       "      <td>5</td>\n",
       "      <td>True</td>\n",
       "    </tr>\n",
       "    <tr>\n",
       "      <th>1830</th>\n",
       "      <td>010060</td>\n",
       "      <td>2015-02-10</td>\n",
       "      <td>0.026838</td>\n",
       "      <td>0.055047</td>\n",
       "      <td>5</td>\n",
       "      <td>True</td>\n",
       "    </tr>\n",
       "    <tr>\n",
       "      <th>1905</th>\n",
       "      <td>010780</td>\n",
       "      <td>2014-03-11</td>\n",
       "      <td>0.010846</td>\n",
       "      <td>0.102093</td>\n",
       "      <td>5</td>\n",
       "      <td>True</td>\n",
       "    </tr>\n",
       "    <tr>\n",
       "      <th>1930</th>\n",
       "      <td>010950</td>\n",
       "      <td>2015-01-30</td>\n",
       "      <td>0.039519</td>\n",
       "      <td>0.038707</td>\n",
       "      <td>5</td>\n",
       "      <td>True</td>\n",
       "    </tr>\n",
       "    <tr>\n",
       "      <th>2080</th>\n",
       "      <td>011200</td>\n",
       "      <td>2014-03-12</td>\n",
       "      <td>0.007882</td>\n",
       "      <td>0.003158</td>\n",
       "      <td>5</td>\n",
       "      <td>True</td>\n",
       "    </tr>\n",
       "    <tr>\n",
       "      <th>2180</th>\n",
       "      <td>012330</td>\n",
       "      <td>2016-02-16</td>\n",
       "      <td>0.010081</td>\n",
       "      <td>0.050728</td>\n",
       "      <td>5</td>\n",
       "      <td>True</td>\n",
       "    </tr>\n",
       "    <tr>\n",
       "      <th>2380</th>\n",
       "      <td>016380</td>\n",
       "      <td>2014-03-13</td>\n",
       "      <td>0.006348</td>\n",
       "      <td>0.001538</td>\n",
       "      <td>5</td>\n",
       "      <td>True</td>\n",
       "    </tr>\n",
       "    <tr>\n",
       "      <th>2430</th>\n",
       "      <td>017670</td>\n",
       "      <td>2016-02-02</td>\n",
       "      <td>0.002308</td>\n",
       "      <td>0.075176</td>\n",
       "      <td>5</td>\n",
       "      <td>True</td>\n",
       "    </tr>\n",
       "    <tr>\n",
       "      <th>2630</th>\n",
       "      <td>024110</td>\n",
       "      <td>2017-02-14</td>\n",
       "      <td>0.003774</td>\n",
       "      <td>0.039108</td>\n",
       "      <td>5</td>\n",
       "      <td>True</td>\n",
       "    </tr>\n",
       "    <tr>\n",
       "      <th>2655</th>\n",
       "      <td>024110</td>\n",
       "      <td>2021-02-08</td>\n",
       "      <td>0.031592</td>\n",
       "      <td>0.036150</td>\n",
       "      <td>5</td>\n",
       "      <td>True</td>\n",
       "    </tr>\n",
       "    <tr>\n",
       "      <th>2680</th>\n",
       "      <td>024110</td>\n",
       "      <td>2022-02-04</td>\n",
       "      <td>0.033816</td>\n",
       "      <td>0.005212</td>\n",
       "      <td>5</td>\n",
       "      <td>True</td>\n",
       "    </tr>\n",
       "    <tr>\n",
       "      <th>2755</th>\n",
       "      <td>028670</td>\n",
       "      <td>2014-02-18</td>\n",
       "      <td>0.088435</td>\n",
       "      <td>0.097666</td>\n",
       "      <td>5</td>\n",
       "      <td>True</td>\n",
       "    </tr>\n",
       "    <tr>\n",
       "      <th>2780</th>\n",
       "      <td>030200</td>\n",
       "      <td>2016-01-29</td>\n",
       "      <td>0.013011</td>\n",
       "      <td>0.018808</td>\n",
       "      <td>5</td>\n",
       "      <td>True</td>\n",
       "    </tr>\n",
       "    <tr>\n",
       "      <th>2955</th>\n",
       "      <td>033780</td>\n",
       "      <td>2015-01-15</td>\n",
       "      <td>0.006410</td>\n",
       "      <td>0.014465</td>\n",
       "      <td>5</td>\n",
       "      <td>True</td>\n",
       "    </tr>\n",
       "    <tr>\n",
       "      <th>2980</th>\n",
       "      <td>033780</td>\n",
       "      <td>2016-01-21</td>\n",
       "      <td>0.004717</td>\n",
       "      <td>0.009590</td>\n",
       "      <td>5</td>\n",
       "      <td>True</td>\n",
       "    </tr>\n",
       "    <tr>\n",
       "      <th>3005</th>\n",
       "      <td>033780</td>\n",
       "      <td>2017-01-19</td>\n",
       "      <td>0.029562</td>\n",
       "      <td>0.010898</td>\n",
       "      <td>5</td>\n",
       "      <td>True</td>\n",
       "    </tr>\n",
       "    <tr>\n",
       "      <th>3080</th>\n",
       "      <td>033780</td>\n",
       "      <td>2020-01-16</td>\n",
       "      <td>0.002125</td>\n",
       "      <td>0.025043</td>\n",
       "      <td>5</td>\n",
       "      <td>True</td>\n",
       "    </tr>\n",
       "    <tr>\n",
       "      <th>3180</th>\n",
       "      <td>034020</td>\n",
       "      <td>2016-04-19</td>\n",
       "      <td>0.013766</td>\n",
       "      <td>0.188764</td>\n",
       "      <td>5</td>\n",
       "      <td>True</td>\n",
       "    </tr>\n",
       "    <tr>\n",
       "      <th>3405</th>\n",
       "      <td>035420</td>\n",
       "      <td>2014-02-06</td>\n",
       "      <td>0.072568</td>\n",
       "      <td>0.011049</td>\n",
       "      <td>5</td>\n",
       "      <td>True</td>\n",
       "    </tr>\n",
       "    <tr>\n",
       "      <th>3455</th>\n",
       "      <td>035420</td>\n",
       "      <td>2021-01-28</td>\n",
       "      <td>0.039531</td>\n",
       "      <td>0.108149</td>\n",
       "      <td>5</td>\n",
       "      <td>True</td>\n",
       "    </tr>\n",
       "    <tr>\n",
       "      <th>3555</th>\n",
       "      <td>036570</td>\n",
       "      <td>2014-02-13</td>\n",
       "      <td>0.028708</td>\n",
       "      <td>0.035228</td>\n",
       "      <td>5</td>\n",
       "      <td>True</td>\n",
       "    </tr>\n",
       "    <tr>\n",
       "      <th>3655</th>\n",
       "      <td>042660</td>\n",
       "      <td>2016-03-07</td>\n",
       "      <td>0.141777</td>\n",
       "      <td>0.102846</td>\n",
       "      <td>5</td>\n",
       "      <td>True</td>\n",
       "    </tr>\n",
       "    <tr>\n",
       "      <th>3730</th>\n",
       "      <td>050890</td>\n",
       "      <td>2019-01-16</td>\n",
       "      <td>0.005786</td>\n",
       "      <td>0.060887</td>\n",
       "      <td>5</td>\n",
       "      <td>True</td>\n",
       "    </tr>\n",
       "    <tr>\n",
       "      <th>3755</th>\n",
       "      <td>050890</td>\n",
       "      <td>2020-01-15</td>\n",
       "      <td>0.040431</td>\n",
       "      <td>0.022422</td>\n",
       "      <td>5</td>\n",
       "      <td>True</td>\n",
       "    </tr>\n",
       "    <tr>\n",
       "      <th>4130</th>\n",
       "      <td>055550</td>\n",
       "      <td>2019-02-13</td>\n",
       "      <td>0.021201</td>\n",
       "      <td>0.002432</td>\n",
       "      <td>5</td>\n",
       "      <td>True</td>\n",
       "    </tr>\n",
       "    <tr>\n",
       "      <th>4180</th>\n",
       "      <td>056700</td>\n",
       "      <td>2019-01-14</td>\n",
       "      <td>0.042169</td>\n",
       "      <td>0.070706</td>\n",
       "      <td>5</td>\n",
       "      <td>True</td>\n",
       "    </tr>\n",
       "    <tr>\n",
       "      <th>4305</th>\n",
       "      <td>086280</td>\n",
       "      <td>2020-01-23</td>\n",
       "      <td>0.068493</td>\n",
       "      <td>0.021250</td>\n",
       "      <td>5</td>\n",
       "      <td>True</td>\n",
       "    </tr>\n",
       "    <tr>\n",
       "      <th>4355</th>\n",
       "      <td>086790</td>\n",
       "      <td>2018-02-02</td>\n",
       "      <td>0.003906</td>\n",
       "      <td>0.004096</td>\n",
       "      <td>5</td>\n",
       "      <td>True</td>\n",
       "    </tr>\n",
       "    <tr>\n",
       "      <th>4405</th>\n",
       "      <td>086790</td>\n",
       "      <td>2021-02-05</td>\n",
       "      <td>0.064801</td>\n",
       "      <td>0.012977</td>\n",
       "      <td>5</td>\n",
       "      <td>True</td>\n",
       "    </tr>\n",
       "    <tr>\n",
       "      <th>4655</th>\n",
       "      <td>105560</td>\n",
       "      <td>2014-02-07</td>\n",
       "      <td>0.006784</td>\n",
       "      <td>0.012154</td>\n",
       "      <td>5</td>\n",
       "      <td>True</td>\n",
       "    </tr>\n",
       "    <tr>\n",
       "      <th>4855</th>\n",
       "      <td>028260</td>\n",
       "      <td>2019-01-23</td>\n",
       "      <td>0.008584</td>\n",
       "      <td>0.040997</td>\n",
       "      <td>5</td>\n",
       "      <td>True</td>\n",
       "    </tr>\n",
       "    <tr>\n",
       "      <th>4880</th>\n",
       "      <td>028260</td>\n",
       "      <td>2020-01-22</td>\n",
       "      <td>0.018182</td>\n",
       "      <td>0.046577</td>\n",
       "      <td>5</td>\n",
       "      <td>True</td>\n",
       "    </tr>\n",
       "    <tr>\n",
       "      <th>4980</th>\n",
       "      <td>219420</td>\n",
       "      <td>2018-01-08</td>\n",
       "      <td>0.070236</td>\n",
       "      <td>0.074587</td>\n",
       "      <td>5</td>\n",
       "      <td>True</td>\n",
       "    </tr>\n",
       "    <tr>\n",
       "      <th>5005</th>\n",
       "      <td>207940</td>\n",
       "      <td>2021-01-26</td>\n",
       "      <td>0.015190</td>\n",
       "      <td>0.007640</td>\n",
       "      <td>5</td>\n",
       "      <td>True</td>\n",
       "    </tr>\n",
       "  </tbody>\n",
       "</table>\n",
       "</div>"
      ],
      "text/plain": [
       "         sid d_zero_date      data   preannc  d_date_num  is_positive_preannc\n",
       "5     000100  2015-02-25  0.011564  0.000108           5                 True\n",
       "55    000120  2014-02-25  0.035714  0.056057           5                 True\n",
       "205   000660  2015-01-28  0.001017  0.025830           5                 True\n",
       "255   000660  2016-04-26  0.060000  0.011019           5                 True\n",
       "280   000660  2017-01-26  0.030948  0.055599           5                 True\n",
       "305   000660  2019-01-24  0.055389  0.028102           5                 True\n",
       "455   000810  2016-02-18  0.039539  0.004792           5                 True\n",
       "480   000815  2017-02-15  0.002646  0.000184           5                 True\n",
       "505   000990  2014-02-14  0.001304  0.048131           5                 True\n",
       "555   001045  2021-01-04  0.008818  0.076285           5                 True\n",
       "580   001230  2016-02-15  0.050752  0.033950           5                 True\n",
       "805   003410  2015-03-23  0.026993  0.030704           5                 True\n",
       "1105  005387  2018-01-25  0.019324  0.024132           5                 True\n",
       "1130  005440  2017-02-13  0.008746  0.032805           5                 True\n",
       "1280  005935  2017-01-24  0.009284  0.003496           5                 True\n",
       "1330  005935  2019-01-31  0.006711  0.054861           5                 True\n",
       "1380  005940  2016-02-29  0.019812  0.023482           5                 True\n",
       "1455  005950  2019-01-18  0.002050  0.008307           5                 True\n",
       "1480  006260  2014-02-12  0.009639  0.024180           5                 True\n",
       "1705  008770  2014-01-20  0.005208  0.016373           5                 True\n",
       "1830  010060  2015-02-10  0.026838  0.055047           5                 True\n",
       "1905  010780  2014-03-11  0.010846  0.102093           5                 True\n",
       "1930  010950  2015-01-30  0.039519  0.038707           5                 True\n",
       "2080  011200  2014-03-12  0.007882  0.003158           5                 True\n",
       "2180  012330  2016-02-16  0.010081  0.050728           5                 True\n",
       "2380  016380  2014-03-13  0.006348  0.001538           5                 True\n",
       "2430  017670  2016-02-02  0.002308  0.075176           5                 True\n",
       "2630  024110  2017-02-14  0.003774  0.039108           5                 True\n",
       "2655  024110  2021-02-08  0.031592  0.036150           5                 True\n",
       "2680  024110  2022-02-04  0.033816  0.005212           5                 True\n",
       "2755  028670  2014-02-18  0.088435  0.097666           5                 True\n",
       "2780  030200  2016-01-29  0.013011  0.018808           5                 True\n",
       "2955  033780  2015-01-15  0.006410  0.014465           5                 True\n",
       "2980  033780  2016-01-21  0.004717  0.009590           5                 True\n",
       "3005  033780  2017-01-19  0.029562  0.010898           5                 True\n",
       "3080  033780  2020-01-16  0.002125  0.025043           5                 True\n",
       "3180  034020  2016-04-19  0.013766  0.188764           5                 True\n",
       "3405  035420  2014-02-06  0.072568  0.011049           5                 True\n",
       "3455  035420  2021-01-28  0.039531  0.108149           5                 True\n",
       "3555  036570  2014-02-13  0.028708  0.035228           5                 True\n",
       "3655  042660  2016-03-07  0.141777  0.102846           5                 True\n",
       "3730  050890  2019-01-16  0.005786  0.060887           5                 True\n",
       "3755  050890  2020-01-15  0.040431  0.022422           5                 True\n",
       "4130  055550  2019-02-13  0.021201  0.002432           5                 True\n",
       "4180  056700  2019-01-14  0.042169  0.070706           5                 True\n",
       "4305  086280  2020-01-23  0.068493  0.021250           5                 True\n",
       "4355  086790  2018-02-02  0.003906  0.004096           5                 True\n",
       "4405  086790  2021-02-05  0.064801  0.012977           5                 True\n",
       "4655  105560  2014-02-07  0.006784  0.012154           5                 True\n",
       "4855  028260  2019-01-23  0.008584  0.040997           5                 True\n",
       "4880  028260  2020-01-22  0.018182  0.046577           5                 True\n",
       "4980  219420  2018-01-08  0.070236  0.074587           5                 True\n",
       "5005  207940  2021-01-26  0.015190  0.007640           5                 True"
      ]
     },
     "execution_count": 51,
     "metadata": {},
     "output_type": "execute_result"
    }
   ],
   "source": [
    "return_exploded_df[\n",
    "    (return_exploded_df['d_date_num'] == 5) &\n",
    "    (return_exploded_df['data'] > 0) &\n",
    "    (return_exploded_df['is_positive_preannc'] == True) \n",
    "]"
   ]
  },
  {
   "cell_type": "code",
   "execution_count": 54,
   "metadata": {},
   "outputs": [
    {
     "data": {
      "text/html": [
       "<div>\n",
       "<style scoped>\n",
       "    .dataframe tbody tr th:only-of-type {\n",
       "        vertical-align: middle;\n",
       "    }\n",
       "\n",
       "    .dataframe tbody tr th {\n",
       "        vertical-align: top;\n",
       "    }\n",
       "\n",
       "    .dataframe thead th {\n",
       "        text-align: right;\n",
       "    }\n",
       "</style>\n",
       "<table border=\"1\" class=\"dataframe\">\n",
       "  <thead>\n",
       "    <tr style=\"text-align: right;\">\n",
       "      <th></th>\n",
       "      <th>sid</th>\n",
       "      <th>d_zero_date</th>\n",
       "      <th>data</th>\n",
       "      <th>preannc</th>\n",
       "      <th>d_date_num</th>\n",
       "      <th>is_positive_preannc</th>\n",
       "    </tr>\n",
       "  </thead>\n",
       "  <tbody>\n",
       "    <tr>\n",
       "      <th>5</th>\n",
       "      <td>000100</td>\n",
       "      <td>2015-02-25</td>\n",
       "      <td>0.011564</td>\n",
       "      <td>0.000108</td>\n",
       "      <td>5</td>\n",
       "      <td>True</td>\n",
       "    </tr>\n",
       "    <tr>\n",
       "      <th>55</th>\n",
       "      <td>000120</td>\n",
       "      <td>2014-02-25</td>\n",
       "      <td>0.035714</td>\n",
       "      <td>0.056057</td>\n",
       "      <td>5</td>\n",
       "      <td>True</td>\n",
       "    </tr>\n",
       "    <tr>\n",
       "      <th>156</th>\n",
       "      <td>000490</td>\n",
       "      <td>2022-01-21</td>\n",
       "      <td>0.004255</td>\n",
       "      <td>0.044157</td>\n",
       "      <td>6</td>\n",
       "      <td>True</td>\n",
       "    </tr>\n",
       "    <tr>\n",
       "      <th>205</th>\n",
       "      <td>000660</td>\n",
       "      <td>2015-01-28</td>\n",
       "      <td>0.001017</td>\n",
       "      <td>0.025830</td>\n",
       "      <td>5</td>\n",
       "      <td>True</td>\n",
       "    </tr>\n",
       "    <tr>\n",
       "      <th>255</th>\n",
       "      <td>000660</td>\n",
       "      <td>2016-04-26</td>\n",
       "      <td>0.060000</td>\n",
       "      <td>0.011019</td>\n",
       "      <td>5</td>\n",
       "      <td>True</td>\n",
       "    </tr>\n",
       "    <tr>\n",
       "      <th>...</th>\n",
       "      <td>...</td>\n",
       "      <td>...</td>\n",
       "      <td>...</td>\n",
       "      <td>...</td>\n",
       "      <td>...</td>\n",
       "      <td>...</td>\n",
       "    </tr>\n",
       "    <tr>\n",
       "      <th>4881</th>\n",
       "      <td>028260</td>\n",
       "      <td>2020-01-22</td>\n",
       "      <td>0.044643</td>\n",
       "      <td>0.046577</td>\n",
       "      <td>6</td>\n",
       "      <td>True</td>\n",
       "    </tr>\n",
       "    <tr>\n",
       "      <th>4980</th>\n",
       "      <td>219420</td>\n",
       "      <td>2018-01-08</td>\n",
       "      <td>0.070236</td>\n",
       "      <td>0.074587</td>\n",
       "      <td>5</td>\n",
       "      <td>True</td>\n",
       "    </tr>\n",
       "    <tr>\n",
       "      <th>4981</th>\n",
       "      <td>219420</td>\n",
       "      <td>2018-01-08</td>\n",
       "      <td>0.057897</td>\n",
       "      <td>0.074587</td>\n",
       "      <td>6</td>\n",
       "      <td>True</td>\n",
       "    </tr>\n",
       "    <tr>\n",
       "      <th>5005</th>\n",
       "      <td>207940</td>\n",
       "      <td>2021-01-26</td>\n",
       "      <td>0.015190</td>\n",
       "      <td>0.007640</td>\n",
       "      <td>5</td>\n",
       "      <td>True</td>\n",
       "    </tr>\n",
       "    <tr>\n",
       "      <th>5006</th>\n",
       "      <td>207940</td>\n",
       "      <td>2021-01-26</td>\n",
       "      <td>0.058604</td>\n",
       "      <td>0.007640</td>\n",
       "      <td>6</td>\n",
       "      <td>True</td>\n",
       "    </tr>\n",
       "  </tbody>\n",
       "</table>\n",
       "<p>98 rows × 6 columns</p>\n",
       "</div>"
      ],
      "text/plain": [
       "         sid d_zero_date      data   preannc  d_date_num  is_positive_preannc\n",
       "5     000100  2015-02-25  0.011564  0.000108           5                 True\n",
       "55    000120  2014-02-25  0.035714  0.056057           5                 True\n",
       "156   000490  2022-01-21  0.004255  0.044157           6                 True\n",
       "205   000660  2015-01-28  0.001017  0.025830           5                 True\n",
       "255   000660  2016-04-26  0.060000  0.011019           5                 True\n",
       "...      ...         ...       ...       ...         ...                  ...\n",
       "4881  028260  2020-01-22  0.044643  0.046577           6                 True\n",
       "4980  219420  2018-01-08  0.070236  0.074587           5                 True\n",
       "4981  219420  2018-01-08  0.057897  0.074587           6                 True\n",
       "5005  207940  2021-01-26  0.015190  0.007640           5                 True\n",
       "5006  207940  2021-01-26  0.058604  0.007640           6                 True\n",
       "\n",
       "[98 rows x 6 columns]"
      ]
     },
     "execution_count": 54,
     "metadata": {},
     "output_type": "execute_result"
    }
   ],
   "source": [
    "positive_bet = return_exploded_df[\n",
    "    (return_exploded_df['d_date_num'].isin([5, 6])) &\n",
    "    (return_exploded_df['data'] > 0) &\n",
    "    (return_exploded_df['is_positive_preannc'] == True) \n",
    "]\n",
    "positive_bet"
   ]
  },
  {
   "cell_type": "code",
   "execution_count": 55,
   "metadata": {},
   "outputs": [
    {
     "data": {
      "text/html": [
       "<div>\n",
       "<style scoped>\n",
       "    .dataframe tbody tr th:only-of-type {\n",
       "        vertical-align: middle;\n",
       "    }\n",
       "\n",
       "    .dataframe tbody tr th {\n",
       "        vertical-align: top;\n",
       "    }\n",
       "\n",
       "    .dataframe thead th {\n",
       "        text-align: right;\n",
       "    }\n",
       "</style>\n",
       "<table border=\"1\" class=\"dataframe\">\n",
       "  <thead>\n",
       "    <tr style=\"text-align: right;\">\n",
       "      <th></th>\n",
       "      <th>sid</th>\n",
       "      <th>d_zero_date</th>\n",
       "      <th>data</th>\n",
       "      <th>preannc</th>\n",
       "      <th>d_date_num</th>\n",
       "      <th>is_positive_preannc</th>\n",
       "    </tr>\n",
       "  </thead>\n",
       "  <tbody>\n",
       "    <tr>\n",
       "      <th>80</th>\n",
       "      <td>000270</td>\n",
       "      <td>2015-01-23</td>\n",
       "      <td>-0.018924</td>\n",
       "      <td>-0.042201</td>\n",
       "      <td>5</td>\n",
       "      <td>False</td>\n",
       "    </tr>\n",
       "    <tr>\n",
       "      <th>81</th>\n",
       "      <td>000270</td>\n",
       "      <td>2015-01-23</td>\n",
       "      <td>-0.056853</td>\n",
       "      <td>-0.042201</td>\n",
       "      <td>6</td>\n",
       "      <td>False</td>\n",
       "    </tr>\n",
       "    <tr>\n",
       "      <th>106</th>\n",
       "      <td>000270</td>\n",
       "      <td>2016-01-27</td>\n",
       "      <td>-0.024691</td>\n",
       "      <td>-0.017466</td>\n",
       "      <td>6</td>\n",
       "      <td>False</td>\n",
       "    </tr>\n",
       "    <tr>\n",
       "      <th>330</th>\n",
       "      <td>000660</td>\n",
       "      <td>2020-01-31</td>\n",
       "      <td>-0.005319</td>\n",
       "      <td>-0.013354</td>\n",
       "      <td>5</td>\n",
       "      <td>False</td>\n",
       "    </tr>\n",
       "    <tr>\n",
       "      <th>355</th>\n",
       "      <td>000660</td>\n",
       "      <td>2021-01-29</td>\n",
       "      <td>-0.004065</td>\n",
       "      <td>-0.020550</td>\n",
       "      <td>5</td>\n",
       "      <td>False</td>\n",
       "    </tr>\n",
       "    <tr>\n",
       "      <th>...</th>\n",
       "      <td>...</td>\n",
       "      <td>...</td>\n",
       "      <td>...</td>\n",
       "      <td>...</td>\n",
       "      <td>...</td>\n",
       "      <td>...</td>\n",
       "    </tr>\n",
       "    <tr>\n",
       "      <th>4530</th>\n",
       "      <td>096770</td>\n",
       "      <td>2016-02-03</td>\n",
       "      <td>-0.011278</td>\n",
       "      <td>-0.027419</td>\n",
       "      <td>5</td>\n",
       "      <td>False</td>\n",
       "    </tr>\n",
       "    <tr>\n",
       "      <th>4555</th>\n",
       "      <td>096770</td>\n",
       "      <td>2016-04-22</td>\n",
       "      <td>-0.021538</td>\n",
       "      <td>-0.103883</td>\n",
       "      <td>5</td>\n",
       "      <td>False</td>\n",
       "    </tr>\n",
       "    <tr>\n",
       "      <th>4631</th>\n",
       "      <td>097950</td>\n",
       "      <td>2014-02-27</td>\n",
       "      <td>-0.001818</td>\n",
       "      <td>-0.007327</td>\n",
       "      <td>6</td>\n",
       "      <td>False</td>\n",
       "    </tr>\n",
       "    <tr>\n",
       "      <th>5030</th>\n",
       "      <td>207940</td>\n",
       "      <td>2022-01-24</td>\n",
       "      <td>-0.008559</td>\n",
       "      <td>-0.040041</td>\n",
       "      <td>5</td>\n",
       "      <td>False</td>\n",
       "    </tr>\n",
       "    <tr>\n",
       "      <th>5031</th>\n",
       "      <td>207940</td>\n",
       "      <td>2022-01-24</td>\n",
       "      <td>-0.038224</td>\n",
       "      <td>-0.040041</td>\n",
       "      <td>6</td>\n",
       "      <td>False</td>\n",
       "    </tr>\n",
       "  </tbody>\n",
       "</table>\n",
       "<p>83 rows × 6 columns</p>\n",
       "</div>"
      ],
      "text/plain": [
       "         sid d_zero_date      data   preannc  d_date_num  is_positive_preannc\n",
       "80    000270  2015-01-23 -0.018924 -0.042201           5                False\n",
       "81    000270  2015-01-23 -0.056853 -0.042201           6                False\n",
       "106   000270  2016-01-27 -0.024691 -0.017466           6                False\n",
       "330   000660  2020-01-31 -0.005319 -0.013354           5                False\n",
       "355   000660  2021-01-29 -0.004065 -0.020550           5                False\n",
       "...      ...         ...       ...       ...         ...                  ...\n",
       "4530  096770  2016-02-03 -0.011278 -0.027419           5                False\n",
       "4555  096770  2016-04-22 -0.021538 -0.103883           5                False\n",
       "4631  097950  2014-02-27 -0.001818 -0.007327           6                False\n",
       "5030  207940  2022-01-24 -0.008559 -0.040041           5                False\n",
       "5031  207940  2022-01-24 -0.038224 -0.040041           6                False\n",
       "\n",
       "[83 rows x 6 columns]"
      ]
     },
     "execution_count": 55,
     "metadata": {},
     "output_type": "execute_result"
    }
   ],
   "source": [
    "negative_bet = return_exploded_df[\n",
    "    (return_exploded_df['d_date_num'].isin([5, 6])) &\n",
    "    (return_exploded_df['data'] < 0) &\n",
    "    (return_exploded_df['is_positive_preannc'] == False) \n",
    "]\n",
    "negative_bet"
   ]
  },
  {
   "cell_type": "code",
   "execution_count": 58,
   "metadata": {},
   "outputs": [
    {
     "data": {
      "text/plain": [
       "{'000660',\n",
       " '000990',\n",
       " '001440',\n",
       " '005385',\n",
       " '005935',\n",
       " '005950',\n",
       " '006400',\n",
       " '010950',\n",
       " '011200',\n",
       " '012330',\n",
       " '017670',\n",
       " '018880',\n",
       " '032830',\n",
       " '033780',\n",
       " '034020',\n",
       " '035420',\n",
       " '036570',\n",
       " '050890',\n",
       " '055550',\n",
       " '066575',\n",
       " '086790',\n",
       " '207940'}"
      ]
     },
     "execution_count": 58,
     "metadata": {},
     "output_type": "execute_result"
    }
   ],
   "source": [
    "set(positive_bet['sid'].unique()) & set(negative_bet['sid'].unique())"
   ]
  },
  {
   "cell_type": "markdown",
   "metadata": {},
   "source": [
    "Most of them are large cap stocks. \n",
    "\n",
    "Pretty unlikely they are leaking insider information for petty investment return. "
   ]
  },
  {
   "cell_type": "code",
   "execution_count": null,
   "metadata": {},
   "outputs": [],
   "source": []
  },
  {
   "cell_type": "code",
   "execution_count": null,
   "metadata": {},
   "outputs": [],
   "source": [
    "\n",
    "return_final_event_period_data = return_exploded_df.groupby('d_date_num').mean()['data']"
   ]
  }
 ],
 "metadata": {
  "kernelspec": {
   "display_name": "Python 3.8.6 ('.venv': poetry)",
   "language": "python",
   "name": "python3"
  },
  "language_info": {
   "codemirror_mode": {
    "name": "ipython",
    "version": 3
   },
   "file_extension": ".py",
   "mimetype": "text/x-python",
   "name": "python",
   "nbconvert_exporter": "python",
   "pygments_lexer": "ipython3",
   "version": "3.8.6"
  },
  "orig_nbformat": 4,
  "vscode": {
   "interpreter": {
    "hash": "b653a6991a0150363b7c7df033ded56ed180846b604af9b857a996de5a460eb0"
   }
  }
 },
 "nbformat": 4,
 "nbformat_minor": 2
}
