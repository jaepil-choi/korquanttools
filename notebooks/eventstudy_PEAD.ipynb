{
 "cells": [
  {
   "cell_type": "markdown",
   "metadata": {},
   "source": [
    "# PEAD - stock market response to events\n",
    "\n",
    "PEAD: Post/Pre Earning Announcement Drift \n",
    "\n"
   ]
  },
  {
   "cell_type": "markdown",
   "metadata": {},
   "source": [
    "## 0. Import libraries"
   ]
  },
  {
   "cell_type": "code",
   "execution_count": 1,
   "metadata": {},
   "outputs": [],
   "source": [
    "import pandas as pd\n",
    "import numpy as np\n",
    "\n",
    "import matplotlib.pyplot as plt\n",
    "import seaborn as sns\n",
    "# import streamlit as st"
   ]
  },
  {
   "cell_type": "code",
   "execution_count": 2,
   "metadata": {},
   "outputs": [],
   "source": [
    "import FinanceDataReader as fdr\n",
    "import quantstats as qs"
   ]
  },
  {
   "cell_type": "code",
   "execution_count": 3,
   "metadata": {},
   "outputs": [],
   "source": [
    "## custom libs\n",
    "\n",
    "from korquanttools.pricevolume.loader import KRXPriceDM\n",
    "from korquanttools.pricevolume.utils import DateUtil\n",
    "from korquanttools.pricevolume.config import PathConfig"
   ]
  },
  {
   "cell_type": "markdown",
   "metadata": {},
   "source": [
    "## 1. Import datasets\n",
    "\n",
    "### Transaction volume & adjusted close data\n",
    "\n",
    "- Import price-volume data module from KRX using custom lib `korquanttools`\n",
    "- Import related datasets"
   ]
  },
  {
   "cell_type": "code",
   "execution_count": 4,
   "metadata": {},
   "outputs": [],
   "source": [
    "# Global parameters\n",
    "\n",
    "START = 20140101\n",
    "END = 20220520"
   ]
  },
  {
   "cell_type": "code",
   "execution_count": 5,
   "metadata": {},
   "outputs": [
    {
     "name": "stdout",
     "output_type": "stream",
     "text": [
      "\n",
      "        * DM name: KRX_pricevolume\n",
      "        * DM description: Basic price-volume data imported from KRX website & NAVER finance. Has KOSPI, KOSDAQ, KONEX stocks.\n",
      "        * birthday: 20211203\n",
      "        * DM period: 19990101 ~ \n",
      "        * Available data: ['lv1', 'open', 'high', 'low', 'close', 'volume', 'dollarvolume', 'marketcap']\n",
      "        \n"
     ]
    }
   ],
   "source": [
    "# Init data module\n",
    "pricevolume = KRXPriceDM(START, END)\n",
    "pricevolume.get_info()"
   ]
  },
  {
   "cell_type": "code",
   "execution_count": 6,
   "metadata": {},
   "outputs": [],
   "source": [
    "dollarvolume_df = pricevolume.get_data('dollarvolume')\n",
    "dollarvolume_df = dollarvolume_df.astype(float)"
   ]
  },
  {
   "cell_type": "code",
   "execution_count": 9,
   "metadata": {},
   "outputs": [],
   "source": [
    "holidays = dollarvolume_df.isnull().all(axis=1)\n",
    "tradingdays = ~holidays\n",
    "\n",
    "holidays = holidays.index[holidays]\n",
    "tradingdays = tradingdays.index[tradingdays]"
   ]
  },
  {
   "cell_type": "code",
   "execution_count": 46,
   "metadata": {},
   "outputs": [],
   "source": [
    "adjClose_df = pd.read_pickle(PathConfig.cache_path / f\"temp_adjClose_{START}_{END}\")\n",
    "return_df = pd.read_pickle(PathConfig.cache_path / f\"temp_return_{START}_{END}\")"
   ]
  },
  {
   "cell_type": "markdown",
   "metadata": {},
   "source": [
    "### Earnings calendar data\n",
    "\n",
    "- Import earnings calendar data scraped from investing.com\n",
    "    - Check data count / unique company count\n",
    "    - Currently, only small part of calendar data is scraped"
   ]
  },
  {
   "cell_type": "code",
   "execution_count": 30,
   "metadata": {},
   "outputs": [],
   "source": [
    "earnings_calendar_df = pd.read_pickle('earnings_calendar_20140101-20220530.pickle')"
   ]
  },
  {
   "cell_type": "code",
   "execution_count": 31,
   "metadata": {},
   "outputs": [
    {
     "data": {
      "text/plain": [
       "243"
      ]
     },
     "execution_count": 31,
     "metadata": {},
     "output_type": "execute_result"
    }
   ],
   "source": [
    "len(earnings_calendar_df)"
   ]
  },
  {
   "cell_type": "code",
   "execution_count": 32,
   "metadata": {},
   "outputs": [
    {
     "data": {
      "text/plain": [
       "141"
      ]
     },
     "execution_count": 32,
     "metadata": {},
     "output_type": "execute_result"
    }
   ],
   "source": [
    "len(earnings_calendar_df['sid'].unique())"
   ]
  },
  {
   "cell_type": "markdown",
   "metadata": {},
   "source": [
    "## 2. Event analysis \n",
    "\n",
    "- Process earnings calendar data to lv2 format\n",
    "- Mix earnings calendar data & dependent variable (dollarvolume, adj.close, etc...) to plot event response graph\n",
    "    - Normalize response data (dollarvolume, adj.close, etc) by company because they vary a lot between one another. \n"
   ]
  },
  {
   "cell_type": "code",
   "execution_count": 51,
   "metadata": {},
   "outputs": [],
   "source": [
    "# Make calendar event df \n",
    "# 1: event day 0: nothing OR does not exist\n",
    "earnings_calendar_df['is_announced'] = True\n",
    "earnings_announcement_df = earnings_calendar_df.pivot(index='date', columns='sid', values='is_announced')\n",
    "earnings_announcement_df = earnings_announcement_df.fillna(False)\n",
    "earnings_announcement_df = earnings_announcement_df.reindex(index=dollarvolume_df.index, columns=dollarvolume_df.columns)\n",
    "\n",
    "# Only use tradingdays data\n",
    "dollarvolume_tradingdays_df = dollarvolume_df.loc[tradingdays, :]\n",
    "earnings_announcement_tradingdays_df = earnings_announcement_df.loc[tradingdays, :]"
   ]
  },
  {
   "cell_type": "markdown",
   "metadata": {},
   "source": [
    "### Normalization"
   ]
  },
  {
   "cell_type": "code",
   "execution_count": 52,
   "metadata": {},
   "outputs": [],
   "source": [
    "NORMAL_WINDOW = 252 # Trading days in a year"
   ]
  },
  {
   "cell_type": "code",
   "execution_count": 53,
   "metadata": {},
   "outputs": [],
   "source": [
    "dv_movingavg_tradingdays_df = dollarvolume_tradingdays_df.rolling(NORMAL_WINDOW).mean()\n",
    "dv_movingstd_tradingdays_df = dollarvolume_tradingdays_df.rolling(NORMAL_WINDOW).std()\n",
    "\n",
    "dv_stdnormal_tradingdays_df = (dollarvolume_tradingdays_df - dv_movingavg_tradingdays_df) / dv_movingstd_tradingdays_df"
   ]
  },
  {
   "cell_type": "code",
   "execution_count": 54,
   "metadata": {},
   "outputs": [],
   "source": [
    "dv_stdnormal_tradingdays_df = dv_stdnormal_tradingdays_df.iloc[NORMAL_WINDOW:]\n",
    "earnings_announcement_tradingdays_df = earnings_announcement_tradingdays_df.iloc[NORMAL_WINDOW:]"
   ]
  },
  {
   "cell_type": "markdown",
   "metadata": {},
   "source": [
    "### Get near-event period response data"
   ]
  },
  {
   "cell_type": "code",
   "execution_count": 55,
   "metadata": {},
   "outputs": [],
   "source": [
    "# Return dolloarvolume data back-and-forth for each event day.\n",
    "# (5 days backward) _ _ _ _ _ EventDay _ _ _ _ _ _ _ _ _ _ _ _ _ _ _ (20 days forward) \n",
    "# D-5 dollarvolume data       D-0                                    D+20 dollarvolume data\n",
    "\n",
    "def event_by_sid(dollarvolume_df, earnings_announcement_df, d_minus=5, d_plus=20):\n",
    "    assert dollarvolume_df.shape == earnings_announcement_df.shape\n",
    "    assert (dollarvolume_df.index == earnings_announcement_df.index).all()\n",
    "    assert (dollarvolume_df.columns == earnings_announcement_df.columns).all()\n",
    "\n",
    "    sid_list = dollarvolume_df.columns\n",
    "    date_list = np.array(dollarvolume_df.index)\n",
    "\n",
    "    dollarvolume_2d = np.array(dollarvolume_df)\n",
    "    event_2d = np.array(earnings_announcement_df)\n",
    "    event_2d = np.where(event_2d == True, event_2d, False)\n",
    "    \n",
    "    dollarvolume_data = []\n",
    "    for col_idx in range(event_2d.shape[1]):\n",
    "        sid = sid_list[col_idx]\n",
    "\n",
    "        dollar_col = dollarvolume_2d[:, col_idx]\n",
    "        col = event_2d[:, col_idx]\n",
    "        event_indices = np.where(col == True)[0]\n",
    "        dates = date_list[event_indices]\n",
    "\n",
    "        for event_idx, date in zip(event_indices, dates):\n",
    "            start_idx = event_idx - d_minus\n",
    "            if start_idx < 0:\n",
    "                start_idx = 0\n",
    "            \n",
    "            end_idx = event_idx + d_plus\n",
    "            if end_idx > len(col):\n",
    "                end_idx = len(col) - 1\n",
    "            \n",
    "            event_period_data = dollar_col[start_idx:end_idx]\n",
    "            dollarvolume_data.append({\n",
    "                'sid': sid,\n",
    "                'd_zero_date': date,\n",
    "                'data': event_period_data, # TODO: Somewhere, data is becoming object!! \n",
    "            })\n",
    "    \n",
    "    return dollarvolume_data"
   ]
  },
  {
   "cell_type": "code",
   "execution_count": 56,
   "metadata": {},
   "outputs": [],
   "source": [
    "dollarvolume_data = event_by_sid(dv_stdnormal_tradingdays_df, earnings_announcement_tradingdays_df)"
   ]
  },
  {
   "cell_type": "code",
   "execution_count": 57,
   "metadata": {},
   "outputs": [],
   "source": [
    "dv_exploded_df = pd.DataFrame(dollarvolume_data).explode('data')\n",
    "dv_exploded_df.reset_index(inplace=True, drop=True)\n",
    "dv_exploded_df['data'] = dv_exploded_df['data'].astype(float) # TODO: Somewhere before data has become object!!"
   ]
  },
  {
   "cell_type": "code",
   "execution_count": 58,
   "metadata": {},
   "outputs": [],
   "source": [
    "dv_exploded_df['d_date_num'] = dv_exploded_df.groupby(['sid', 'd_zero_date']).cumcount()\n",
    "dv_final_event_period_data = dv_exploded_df.groupby('d_date_num').mean()['data']"
   ]
  },
  {
   "cell_type": "code",
   "execution_count": 59,
   "metadata": {},
   "outputs": [
    {
     "data": {
      "text/plain": [
       "<matplotlib.lines.Line2D at 0x23956eae700>"
      ]
     },
     "execution_count": 59,
     "metadata": {},
     "output_type": "execute_result"
    },
    {
     "data": {
      "image/png": "[encoded data removed]",
      "text/plain": [
       "<Figure size 432x288 with 1 Axes>"
      ]
     },
     "metadata": {
      "needs_background": "light"
     },
     "output_type": "display_data"
    }
   ],
   "source": [
    "sns.lineplot(x=dv_final_event_period_data.index, y=dv_final_event_period_data)\n",
    "plt.axvline(x=5, ymin=0, ymax=1, color='red')"
   ]
  },
  {
   "cell_type": "markdown",
   "metadata": {},
   "source": [
    "## 3. Expansion - adj.close / return"
   ]
  },
  {
   "cell_type": "code",
   "execution_count": 69,
   "metadata": {},
   "outputs": [],
   "source": [
    "# Only use tradingdays data\n",
    "adjClose_tradingdays_df = adjClose_df.loc[tradingdays, :]\n",
    "return_tradingdays_df = return_df.loc[tradingdays, :]\n"
   ]
  },
  {
   "cell_type": "code",
   "execution_count": 70,
   "metadata": {},
   "outputs": [],
   "source": [
    "# adj Close\n",
    "adjClose_movingavg_tradingdays_df = adjClose_tradingdays_df.rolling(NORMAL_WINDOW).mean()\n",
    "adjClose_movingstd_tradingdays_df = adjClose_tradingdays_df.rolling(NORMAL_WINDOW).std()\n",
    "\n",
    "adjClose_stdnormal_tradingdays_df = (adjClose_tradingdays_df - adjClose_movingavg_tradingdays_df) / adjClose_movingstd_tradingdays_df\n",
    "\n",
    "# return\n",
    "return_movingavg_tradingdays_df = return_tradingdays_df.rolling(NORMAL_WINDOW).mean()\n",
    "return_movingstd_tradingdays_df = return_tradingdays_df.rolling(NORMAL_WINDOW).std()\n",
    "\n",
    "return_stdnormal_tradingdays_df = (return_tradingdays_df - return_movingavg_tradingdays_df) / return_movingstd_tradingdays_df"
   ]
  },
  {
   "cell_type": "code",
   "execution_count": 71,
   "metadata": {},
   "outputs": [],
   "source": [
    "adjClose_stdnormal_tradingdays_df = adjClose_stdnormal_tradingdays_df.iloc[NORMAL_WINDOW:]\n",
    "return_stdnormal_tradingdays_df = return_stdnormal_tradingdays_df.iloc[NORMAL_WINDOW:]"
   ]
  },
  {
   "cell_type": "code",
   "execution_count": 72,
   "metadata": {},
   "outputs": [],
   "source": [
    "adjClose_data = event_by_sid(adjClose_stdnormal_tradingdays_df, earnings_announcement_tradingdays_df)\n",
    "return_data = event_by_sid(return_stdnormal_tradingdays_df, earnings_announcement_tradingdays_df)"
   ]
  },
  {
   "cell_type": "code",
   "execution_count": 73,
   "metadata": {},
   "outputs": [],
   "source": [
    "adjClose_exploded_df = pd.DataFrame(adjClose_data).explode('data')\n",
    "adjClose_exploded_df.reset_index(inplace=True, drop=True)\n",
    "adjClose_exploded_df['data'] = adjClose_exploded_df['data'].astype(float) # TODO: Somewhere before data has become object!!\n",
    "\n",
    "return_exploded_df = pd.DataFrame(return_data).explode('data')\n",
    "return_exploded_df.reset_index(inplace=True, drop=True)\n",
    "return_exploded_df['data'] = return_exploded_df['data'].astype(float) # TODO: Somewhere before data has become object!!"
   ]
  },
  {
   "cell_type": "code",
   "execution_count": 74,
   "metadata": {},
   "outputs": [],
   "source": [
    "adjClose_exploded_df['d_date_num'] = adjClose_exploded_df.groupby(['sid', 'd_zero_date']).cumcount()\n",
    "adjClose_final_event_period_data = adjClose_exploded_df.groupby('d_date_num').mean()['data']\n",
    "\n",
    "return_exploded_df['d_date_num'] = return_exploded_df.groupby(['sid', 'd_zero_date']).cumcount()\n",
    "return_final_event_period_data = return_exploded_df.groupby('d_date_num').mean()['data']"
   ]
  },
  {
   "cell_type": "code",
   "execution_count": 75,
   "metadata": {},
   "outputs": [
    {
     "data": {
      "text/plain": [
       "<matplotlib.lines.Line2D at 0x23956eaeaf0>"
      ]
     },
     "execution_count": 75,
     "metadata": {},
     "output_type": "execute_result"
    },
    {
     "data": {
      "image/png": "[encoded data removed]",
      "text/plain": [
       "<Figure size 432x288 with 1 Axes>"
      ]
     },
     "metadata": {
      "needs_background": "light"
     },
     "output_type": "display_data"
    }
   ],
   "source": [
    "sns.lineplot(x=adjClose_final_event_period_data.index, y=adjClose_final_event_period_data)\n",
    "plt.axvline(x=5, ymin=0, ymax=1, color='red')"
   ]
  },
  {
   "cell_type": "code",
   "execution_count": 76,
   "metadata": {},
   "outputs": [
    {
     "data": {
      "text/plain": [
       "<matplotlib.lines.Line2D at 0x23963811160>"
      ]
     },
     "execution_count": 76,
     "metadata": {},
     "output_type": "execute_result"
    },
    {
     "data": {
      "image/png": "[encoded data removed]",
      "text/plain": [
       "<Figure size 432x288 with 1 Axes>"
      ]
     },
     "metadata": {
      "needs_background": "light"
     },
     "output_type": "display_data"
    }
   ],
   "source": [
    "sns.lineplot(x=return_final_event_period_data.index, y=return_final_event_period_data)\n",
    "plt.axvline(x=5, ymin=0, ymax=1, color='red')"
   ]
  },
  {
   "cell_type": "code",
   "execution_count": null,
   "metadata": {},
   "outputs": [],
   "source": []
  },
  {
   "cell_type": "code",
   "execution_count": null,
   "metadata": {},
   "outputs": [],
   "source": []
  }
 ],
 "metadata": {
  "kernelspec": {
   "display_name": "Python 3.8.10 ('.venv': poetry)",
   "language": "python",
   "name": "python3"
  },
  "language_info": {
   "codemirror_mode": {
    "name": "ipython",
    "version": 3
   },
   "file_extension": ".py",
   "mimetype": "text/x-python",
   "name": "python",
   "nbconvert_exporter": "python",
   "pygments_lexer": "ipython3",
   "version": "3.8.10"
  },
  "orig_nbformat": 4,
  "vscode": {
   "interpreter": {
    "hash": "c80c18762abe42d7c75e3daf788625ca4953c83467b1e6b8619a9401f6163468"
   }
  }
 },
 "nbformat": 4,
 "nbformat_minor": 2
}
