{
 "cells": [
  {
   "cell_type": "markdown",
   "metadata": {},
   "source": [
    "# PEAD - stock market response to events\n",
    "\n",
    "PEAD: Post/Pre Earning Announcement Drift \n",
    "\n"
   ]
  },
  {
   "cell_type": "markdown",
   "metadata": {},
   "source": [
    "## 0. Import libraries"
   ]
  },
  {
   "cell_type": "code",
   "execution_count": 1,
   "metadata": {},
   "outputs": [],
   "source": [
    "import pandas as pd\n",
    "import numpy as np\n",
    "\n",
    "import matplotlib.pyplot as plt\n",
    "import seaborn as sns\n",
    "# import streamlit as st\n",
    "\n",
    "from collections import defaultdict, Counter"
   ]
  },
  {
   "cell_type": "code",
   "execution_count": 2,
   "metadata": {},
   "outputs": [],
   "source": [
    "import FinanceDataReader as fdr\n",
    "import quantstats as qs"
   ]
  },
  {
   "cell_type": "code",
   "execution_count": 3,
   "metadata": {},
   "outputs": [],
   "source": [
    "## custom libs\n",
    "\n",
    "from korquanttools.pricevolume.loader import KRXPriceDM\n",
    "from korquanttools.pricevolume.utils import DateUtil\n",
    "from korquanttools.pricevolume.config import PathConfig"
   ]
  },
  {
   "cell_type": "markdown",
   "metadata": {},
   "source": [
    "## 1. Import datasets\n",
    "\n",
    "### Transaction volume & adjusted close data\n",
    "\n",
    "- Import price-volume data module from KRX using custom lib `korquanttools`\n",
    "- Import related datasets"
   ]
  },
  {
   "cell_type": "code",
   "execution_count": 4,
   "metadata": {},
   "outputs": [],
   "source": [
    "# Global parameters\n",
    "\n",
    "START = 20140101\n",
    "END = 20220520"
   ]
  },
  {
   "cell_type": "code",
   "execution_count": 5,
   "metadata": {},
   "outputs": [
    {
     "name": "stdout",
     "output_type": "stream",
     "text": [
      "\n",
      "        * DM name: KRX_pricevolume\n",
      "        * DM description: Basic price-volume data imported from KRX website & NAVER finance. Has KOSPI, KOSDAQ, KONEX stocks.\n",
      "        * birthday: 20211203\n",
      "        * DM period: 19990101 ~ \n",
      "        * Available data: ['lv1', 'open', 'high', 'low', 'close', 'volume', 'dollarvolume', 'marketcap']\n",
      "        \n"
     ]
    }
   ],
   "source": [
    "# Init data module\n",
    "pricevolume = KRXPriceDM(START, END)\n",
    "pricevolume.get_info()"
   ]
  },
  {
   "cell_type": "code",
   "execution_count": 6,
   "metadata": {},
   "outputs": [],
   "source": [
    "dollarvolume_df = pricevolume.get_data('dollarvolume')\n",
    "dollarvolume_df = dollarvolume_df.astype(float)"
   ]
  },
  {
   "cell_type": "code",
   "execution_count": 7,
   "metadata": {},
   "outputs": [],
   "source": [
    "holidays = dollarvolume_df.isnull().all(axis=1)\n",
    "tradingdays = ~holidays\n",
    "\n",
    "holidays = holidays.index[holidays]\n",
    "tradingdays = tradingdays.index[tradingdays]"
   ]
  },
  {
   "cell_type": "code",
   "execution_count": 8,
   "metadata": {},
   "outputs": [],
   "source": [
    "adjClose_df = pd.read_pickle(PathConfig.cache_path / f\"temp_adjClose_{START}_{END}\")\n",
    "return_df = pd.read_pickle(PathConfig.cache_path / f\"temp_return_{START}_{END}\")"
   ]
  },
  {
   "cell_type": "markdown",
   "metadata": {},
   "source": [
    "### Earnings calendar data\n",
    "\n",
    "- Import earnings calendar data scraped from investing.com\n",
    "    - Check data count / unique company count\n",
    "    - Currently, only small part of calendar data is scraped"
   ]
  },
  {
   "cell_type": "code",
   "execution_count": 9,
   "metadata": {},
   "outputs": [],
   "source": [
    "earnings_calendar_df = pd.read_pickle('earnings_calendar_20140101-20220530.pickle')"
   ]
  },
  {
   "cell_type": "code",
   "execution_count": 10,
   "metadata": {},
   "outputs": [
    {
     "data": {
      "text/plain": [
       "46300"
      ]
     },
     "execution_count": 10,
     "metadata": {},
     "output_type": "execute_result"
    }
   ],
   "source": [
    "len(earnings_calendar_df)"
   ]
  },
  {
   "cell_type": "code",
   "execution_count": 11,
   "metadata": {},
   "outputs": [
    {
     "data": {
      "text/plain": [
       "2456"
      ]
     },
     "execution_count": 11,
     "metadata": {},
     "output_type": "execute_result"
    }
   ],
   "source": [
    "len(earnings_calendar_df['sid'].unique())"
   ]
  },
  {
   "cell_type": "markdown",
   "metadata": {},
   "source": [
    "## 2. Event analysis \n",
    "\n",
    "- Process earnings calendar data to lv2 format\n",
    "- Mix earnings calendar data & dependent variable (dollarvolume, adj.close, etc...) to plot event response graph\n",
    "    - Normalize response data (dollarvolume, adj.close, etc) by company because they vary a lot between one another. \n"
   ]
  },
  {
   "cell_type": "code",
   "execution_count": 20,
   "metadata": {},
   "outputs": [
    {
     "data": {
      "text/html": [
       "<div>\n",
       "<style scoped>\n",
       "    .dataframe tbody tr th:only-of-type {\n",
       "        vertical-align: middle;\n",
       "    }\n",
       "\n",
       "    .dataframe tbody tr th {\n",
       "        vertical-align: top;\n",
       "    }\n",
       "\n",
       "    .dataframe thead th {\n",
       "        text-align: right;\n",
       "    }\n",
       "</style>\n",
       "<table border=\"1\" class=\"dataframe\">\n",
       "  <thead>\n",
       "    <tr style=\"text-align: right;\">\n",
       "      <th></th>\n",
       "      <th>date</th>\n",
       "      <th>EPS</th>\n",
       "      <th>EPS_forecast</th>\n",
       "      <th>revenue</th>\n",
       "      <th>revenue_forecast</th>\n",
       "      <th>codename</th>\n",
       "      <th>sid</th>\n",
       "      <th>is_announced</th>\n",
       "    </tr>\n",
       "  </thead>\n",
       "  <tbody>\n",
       "    <tr>\n",
       "      <th>0</th>\n",
       "      <td>2014-01-16</td>\n",
       "      <td>NaN</td>\n",
       "      <td>972.88</td>\n",
       "      <td>NaN</td>\n",
       "      <td>9.403600e+11</td>\n",
       "      <td>KT&amp;G Corp</td>\n",
       "      <td>033780</td>\n",
       "      <td>True</td>\n",
       "    </tr>\n",
       "    <tr>\n",
       "      <th>1</th>\n",
       "      <td>2014-01-20</td>\n",
       "      <td>-37.00</td>\n",
       "      <td>NaN</td>\n",
       "      <td>NaN</td>\n",
       "      <td>6.091100e+11</td>\n",
       "      <td>Hotel Shilla</td>\n",
       "      <td>008770</td>\n",
       "      <td>True</td>\n",
       "    </tr>\n",
       "    <tr>\n",
       "      <th>2</th>\n",
       "      <td>2014-01-21</td>\n",
       "      <td>NaN</td>\n",
       "      <td>1224.00</td>\n",
       "      <td>NaN</td>\n",
       "      <td>4.110000e+12</td>\n",
       "      <td>Hyundai Engineering &amp; Const</td>\n",
       "      <td>000720</td>\n",
       "      <td>True</td>\n",
       "    </tr>\n",
       "    <tr>\n",
       "      <th>3</th>\n",
       "      <td>2014-01-21</td>\n",
       "      <td>NaN</td>\n",
       "      <td>NaN</td>\n",
       "      <td>NaN</td>\n",
       "      <td>3.064000e+11</td>\n",
       "      <td>Lotte Fine Chemical</td>\n",
       "      <td>004000</td>\n",
       "      <td>True</td>\n",
       "    </tr>\n",
       "    <tr>\n",
       "      <th>4</th>\n",
       "      <td>2014-01-21</td>\n",
       "      <td>NaN</td>\n",
       "      <td>932.50</td>\n",
       "      <td>NaN</td>\n",
       "      <td>NaN</td>\n",
       "      <td>Korea Line</td>\n",
       "      <td>005880</td>\n",
       "      <td>True</td>\n",
       "    </tr>\n",
       "    <tr>\n",
       "      <th>...</th>\n",
       "      <td>...</td>\n",
       "      <td>...</td>\n",
       "      <td>...</td>\n",
       "      <td>...</td>\n",
       "      <td>...</td>\n",
       "      <td>...</td>\n",
       "      <td>...</td>\n",
       "      <td>...</td>\n",
       "    </tr>\n",
       "    <tr>\n",
       "      <th>46295</th>\n",
       "      <td>2022-05-27</td>\n",
       "      <td>26.20</td>\n",
       "      <td>NaN</td>\n",
       "      <td>4.856000e+10</td>\n",
       "      <td>NaN</td>\n",
       "      <td>Cu Tech</td>\n",
       "      <td>376290</td>\n",
       "      <td>True</td>\n",
       "    </tr>\n",
       "    <tr>\n",
       "      <th>46296</th>\n",
       "      <td>2022-05-27</td>\n",
       "      <td>0.60</td>\n",
       "      <td>NaN</td>\n",
       "      <td>2.174000e+08</td>\n",
       "      <td>NaN</td>\n",
       "      <td>Wing Yip Food</td>\n",
       "      <td>900340</td>\n",
       "      <td>True</td>\n",
       "    </tr>\n",
       "    <tr>\n",
       "      <th>46297</th>\n",
       "      <td>2022-05-27</td>\n",
       "      <td>-0.03</td>\n",
       "      <td>NaN</td>\n",
       "      <td>2.671000e+07</td>\n",
       "      <td>NaN</td>\n",
       "      <td>Rothwell</td>\n",
       "      <td>900260</td>\n",
       "      <td>True</td>\n",
       "    </tr>\n",
       "    <tr>\n",
       "      <th>46298</th>\n",
       "      <td>2022-05-27</td>\n",
       "      <td>40.76</td>\n",
       "      <td>NaN</td>\n",
       "      <td>8.570000e+09</td>\n",
       "      <td>NaN</td>\n",
       "      <td>Pro2000</td>\n",
       "      <td>321260</td>\n",
       "      <td>True</td>\n",
       "    </tr>\n",
       "    <tr>\n",
       "      <th>46299</th>\n",
       "      <td>2022-05-27</td>\n",
       "      <td>-6.59</td>\n",
       "      <td>NaN</td>\n",
       "      <td>2.750000e+09</td>\n",
       "      <td>NaN</td>\n",
       "      <td>CarrieSoft</td>\n",
       "      <td>317530</td>\n",
       "      <td>True</td>\n",
       "    </tr>\n",
       "  </tbody>\n",
       "</table>\n",
       "<p>46213 rows × 8 columns</p>\n",
       "</div>"
      ],
      "text/plain": [
       "            date    EPS  EPS_forecast       revenue  revenue_forecast  \\\n",
       "0     2014-01-16    NaN        972.88           NaN      9.403600e+11   \n",
       "1     2014-01-20 -37.00           NaN           NaN      6.091100e+11   \n",
       "2     2014-01-21    NaN       1224.00           NaN      4.110000e+12   \n",
       "3     2014-01-21    NaN           NaN           NaN      3.064000e+11   \n",
       "4     2014-01-21    NaN        932.50           NaN               NaN   \n",
       "...          ...    ...           ...           ...               ...   \n",
       "46295 2022-05-27  26.20           NaN  4.856000e+10               NaN   \n",
       "46296 2022-05-27   0.60           NaN  2.174000e+08               NaN   \n",
       "46297 2022-05-27  -0.03           NaN  2.671000e+07               NaN   \n",
       "46298 2022-05-27  40.76           NaN  8.570000e+09               NaN   \n",
       "46299 2022-05-27  -6.59           NaN  2.750000e+09               NaN   \n",
       "\n",
       "                           codename     sid  is_announced  \n",
       "0                        KT&G Corp   033780          True  \n",
       "1                     Hotel Shilla   008770          True  \n",
       "2      Hyundai Engineering & Const   000720          True  \n",
       "3              Lotte Fine Chemical   004000          True  \n",
       "4                       Korea Line   005880          True  \n",
       "...                             ...     ...           ...  \n",
       "46295                      Cu Tech   376290          True  \n",
       "46296                Wing Yip Food   900340          True  \n",
       "46297                     Rothwell   900260          True  \n",
       "46298                      Pro2000   321260          True  \n",
       "46299                   CarrieSoft   317530          True  \n",
       "\n",
       "[46213 rows x 8 columns]"
      ]
     },
     "execution_count": 20,
     "metadata": {},
     "output_type": "execute_result"
    }
   ],
   "source": [
    "earnings_calendar_df.drop_duplicates(subset=['date', 'sid'])"
   ]
  },
  {
   "cell_type": "code",
   "execution_count": 21,
   "metadata": {},
   "outputs": [],
   "source": [
    "# Make calendar event df \n",
    "# 1: event day 0: nothing OR does not exist\n",
    "earnings_calendar_df['is_announced'] = True\n",
    "earnings_calendar_df.drop_duplicates(inplace=True)\n",
    "\n",
    "# TODO: Still, one sid making announcement on the very same day exists. \n",
    "earnings_calendar_df.drop_duplicates(subset=['date', 'sid'], inplace=True)\n",
    "\n",
    "earnings_announcement_df = earnings_calendar_df.pivot(index='date', columns='sid', values='is_announced')\n",
    "earnings_announcement_df = earnings_announcement_df.fillna(False)\n",
    "earnings_announcement_df = earnings_announcement_df.reindex(index=dollarvolume_df.index, columns=dollarvolume_df.columns)\n",
    "\n",
    "# Only use tradingdays data\n",
    "dollarvolume_tradingdays_df = dollarvolume_df.loc[tradingdays, :]\n",
    "earnings_announcement_tradingdays_df = earnings_announcement_df.loc[tradingdays, :]"
   ]
  },
  {
   "cell_type": "markdown",
   "metadata": {},
   "source": [
    "### Normalization"
   ]
  },
  {
   "cell_type": "code",
   "execution_count": 22,
   "metadata": {},
   "outputs": [],
   "source": [
    "NORMAL_WINDOW = 252 # Trading days in a year"
   ]
  },
  {
   "cell_type": "code",
   "execution_count": 23,
   "metadata": {},
   "outputs": [],
   "source": [
    "dv_movingavg_tradingdays_df = dollarvolume_tradingdays_df.rolling(NORMAL_WINDOW).mean()\n",
    "dv_movingstd_tradingdays_df = dollarvolume_tradingdays_df.rolling(NORMAL_WINDOW).std()\n",
    "\n",
    "dv_stdnormal_tradingdays_df = (dollarvolume_tradingdays_df - dv_movingavg_tradingdays_df) / dv_movingstd_tradingdays_df"
   ]
  },
  {
   "cell_type": "code",
   "execution_count": 24,
   "metadata": {},
   "outputs": [],
   "source": [
    "dv_stdnormal_tradingdays_df = dv_stdnormal_tradingdays_df.iloc[NORMAL_WINDOW:]\n",
    "earnings_announcement_tradingdays_df = earnings_announcement_tradingdays_df.iloc[NORMAL_WINDOW:]"
   ]
  },
  {
   "cell_type": "markdown",
   "metadata": {},
   "source": [
    "### Get near-event period response data"
   ]
  },
  {
   "cell_type": "code",
   "execution_count": 25,
   "metadata": {},
   "outputs": [],
   "source": [
    "# Return dolloarvolume data back-and-forth for each event day.\n",
    "# (5 days backward) _ _ _ _ _ EventDay _ _ _ _ _ _ _ _ _ _ _ _ _ _ _ (20 days forward) \n",
    "# D-5 dollarvolume data       D-0                                    D+20 dollarvolume data\n",
    "\n",
    "def event_by_sid(dollarvolume_df, earnings_announcement_df, d_minus=5, d_plus=20):\n",
    "    assert dollarvolume_df.shape == earnings_announcement_df.shape\n",
    "    assert (dollarvolume_df.index == earnings_announcement_df.index).all()\n",
    "    assert (dollarvolume_df.columns == earnings_announcement_df.columns).all()\n",
    "\n",
    "    sid_list = dollarvolume_df.columns\n",
    "    date_list = np.array(dollarvolume_df.index)\n",
    "\n",
    "    dollarvolume_2d = np.array(dollarvolume_df)\n",
    "    event_2d = np.array(earnings_announcement_df)\n",
    "    event_2d = np.where(event_2d == True, event_2d, False)\n",
    "    \n",
    "    dollarvolume_data = []\n",
    "    for col_idx in range(event_2d.shape[1]):\n",
    "        sid = sid_list[col_idx]\n",
    "\n",
    "        dollar_col = dollarvolume_2d[:, col_idx]\n",
    "        col = event_2d[:, col_idx]\n",
    "        event_indices = np.where(col == True)[0]\n",
    "        dates = date_list[event_indices]\n",
    "\n",
    "        for event_idx, date in zip(event_indices, dates):\n",
    "            start_idx = event_idx - d_minus\n",
    "            if start_idx < 0:\n",
    "                start_idx = 0\n",
    "            \n",
    "            end_idx = event_idx + d_plus\n",
    "            if end_idx > len(col):\n",
    "                end_idx = len(col) - 1\n",
    "            \n",
    "            event_period_data = dollar_col[start_idx:end_idx]\n",
    "            dollarvolume_data.append({\n",
    "                'sid': sid,\n",
    "                'd_zero_date': date,\n",
    "                'data': event_period_data, # TODO: Somewhere, data is becoming object!! \n",
    "            })\n",
    "    \n",
    "    return dollarvolume_data"
   ]
  },
  {
   "cell_type": "code",
   "execution_count": 26,
   "metadata": {},
   "outputs": [],
   "source": [
    "dollarvolume_data = event_by_sid(dv_stdnormal_tradingdays_df, earnings_announcement_tradingdays_df)"
   ]
  },
  {
   "cell_type": "code",
   "execution_count": 27,
   "metadata": {},
   "outputs": [],
   "source": [
    "dv_exploded_df = pd.DataFrame(dollarvolume_data).explode('data')\n",
    "dv_exploded_df.reset_index(inplace=True, drop=True)\n",
    "dv_exploded_df['data'] = dv_exploded_df['data'].astype(float) # TODO: Somewhere before data has become object!!"
   ]
  },
  {
   "cell_type": "code",
   "execution_count": 28,
   "metadata": {},
   "outputs": [],
   "source": [
    "dv_exploded_df['d_date_num'] = dv_exploded_df.groupby(['sid', 'd_zero_date']).cumcount()\n",
    "dv_final_event_period_data = dv_exploded_df.groupby('d_date_num').mean()['data']"
   ]
  },
  {
   "cell_type": "code",
   "execution_count": 29,
   "metadata": {},
   "outputs": [
    {
     "data": {
      "text/plain": [
       "<matplotlib.lines.Line2D at 0x26f1f9b47f0>"
      ]
     },
     "execution_count": 29,
     "metadata": {},
     "output_type": "execute_result"
    },
    {
     "data": {
      "image/png": "[encoded data removed]",
      "text/plain": [
       "<Figure size 432x288 with 1 Axes>"
      ]
     },
     "metadata": {
      "needs_background": "light"
     },
     "output_type": "display_data"
    }
   ],
   "source": [
    "sns.lineplot(x=dv_final_event_period_data.index, y=dv_final_event_period_data)\n",
    "plt.axvline(x=5, ymin=0, ymax=1, color='red')"
   ]
  },
  {
   "cell_type": "markdown",
   "metadata": {},
   "source": [
    "## 3. Expansion - adj.close / return"
   ]
  },
  {
   "cell_type": "code",
   "execution_count": 30,
   "metadata": {},
   "outputs": [],
   "source": [
    "NORMAL_WINDOW = 60 # 3 months = 1 quarter"
   ]
  },
  {
   "cell_type": "code",
   "execution_count": 31,
   "metadata": {},
   "outputs": [],
   "source": [
    "# Only use tradingdays data\n",
    "adjClose_tradingdays_df = adjClose_df.loc[tradingdays, :]\n",
    "return_tradingdays_df = return_df.loc[tradingdays, :]\n"
   ]
  },
  {
   "cell_type": "code",
   "execution_count": 32,
   "metadata": {},
   "outputs": [],
   "source": [
    "# adj Close\n",
    "adjClose_movingavg_tradingdays_df = adjClose_tradingdays_df.rolling(NORMAL_WINDOW).mean()\n",
    "adjClose_movingstd_tradingdays_df = adjClose_tradingdays_df.rolling(NORMAL_WINDOW).std()\n",
    "\n",
    "adjClose_stdnormal_tradingdays_df = (adjClose_tradingdays_df - adjClose_movingavg_tradingdays_df) / adjClose_movingstd_tradingdays_df\n",
    "\n",
    "# return\n",
    "# return DOES NOT need normalization"
   ]
  },
  {
   "cell_type": "code",
   "execution_count": 33,
   "metadata": {},
   "outputs": [],
   "source": [
    "adjClose_stdnormal_tradingdays_df = adjClose_stdnormal_tradingdays_df.iloc[NORMAL_WINDOW:]\n",
    "return_tradingdays_df = return_tradingdays_df.iloc[NORMAL_WINDOW:]\n",
    "\n",
    "earnings_announcement_tradingdays_df = earnings_announcement_df.loc[tradingdays, :]\n",
    "earnings_announcement_tradingdays_df = earnings_announcement_tradingdays_df.iloc[NORMAL_WINDOW:]"
   ]
  },
  {
   "cell_type": "code",
   "execution_count": 34,
   "metadata": {},
   "outputs": [],
   "source": [
    "adjClose_data = event_by_sid(adjClose_stdnormal_tradingdays_df, earnings_announcement_tradingdays_df)\n",
    "return_data = event_by_sid(return_tradingdays_df, earnings_announcement_tradingdays_df)"
   ]
  },
  {
   "cell_type": "code",
   "execution_count": 35,
   "metadata": {},
   "outputs": [],
   "source": [
    "adjClose_exploded_df = pd.DataFrame(adjClose_data).explode('data')\n",
    "adjClose_exploded_df.reset_index(inplace=True, drop=True)\n",
    "adjClose_exploded_df['data'] = adjClose_exploded_df['data'].astype(float) # TODO: Somewhere before data has become object!!\n",
    "\n",
    "return_exploded_df = pd.DataFrame(return_data).explode('data')\n",
    "return_exploded_df.reset_index(inplace=True, drop=True)\n",
    "return_exploded_df['data'] = return_exploded_df['data'].astype(float) # TODO: Somewhere before data has become object!!"
   ]
  },
  {
   "cell_type": "code",
   "execution_count": 36,
   "metadata": {},
   "outputs": [],
   "source": [
    "adjClose_exploded_df['d_date_num'] = adjClose_exploded_df.groupby(['sid', 'd_zero_date']).cumcount()\n",
    "adjClose_final_event_period_data = adjClose_exploded_df.groupby('d_date_num').mean()['data']\n",
    "\n",
    "return_exploded_df['d_date_num'] = return_exploded_df.groupby(['sid', 'd_zero_date']).cumcount()\n",
    "return_final_event_period_data = return_exploded_df.groupby('d_date_num').mean()['data']"
   ]
  },
  {
   "cell_type": "code",
   "execution_count": 37,
   "metadata": {},
   "outputs": [
    {
     "data": {
      "text/plain": [
       "<matplotlib.lines.Line2D at 0x26f22144fd0>"
      ]
     },
     "execution_count": 37,
     "metadata": {},
     "output_type": "execute_result"
    },
    {
     "data": {
      "image/png": "[encoded data removed]",
      "text/plain": [
       "<Figure size 432x288 with 1 Axes>"
      ]
     },
     "metadata": {
      "needs_background": "light"
     },
     "output_type": "display_data"
    }
   ],
   "source": [
    "sns.lineplot(x=adjClose_final_event_period_data.index, y=adjClose_final_event_period_data)\n",
    "plt.axvline(x=5, ymin=0, ymax=1, color='red')"
   ]
  },
  {
   "cell_type": "markdown",
   "metadata": {},
   "source": [
    "We can observe that adj.Close declines after the event day"
   ]
  },
  {
   "cell_type": "code",
   "execution_count": 38,
   "metadata": {},
   "outputs": [
    {
     "data": {
      "text/plain": [
       "<matplotlib.lines.Line2D at 0x26f37c2dc40>"
      ]
     },
     "execution_count": 38,
     "metadata": {},
     "output_type": "execute_result"
    },
    {
     "data": {
      "image/png": "[encoded data removed]",
      "text/plain": [
       "<Figure size 432x288 with 1 Axes>"
      ]
     },
     "metadata": {
      "needs_background": "light"
     },
     "output_type": "display_data"
    }
   ],
   "source": [
    "sns.lineplot(x=return_final_event_period_data.index, y=return_final_event_period_data)\n",
    "plt.axvline(x=5, ymin=0, ymax=1, color='red')"
   ]
  },
  {
   "cell_type": "markdown",
   "metadata": {},
   "source": [
    "# 4. Is there information leakage before announcement?\n",
    "\n",
    "So far we have seen pre/post annoucnement change of dollarvolume, price, return. \n",
    "\n",
    "Now I will combine all these to test the hypothesis that there is information leakage in Korean stock market. \n",
    "\n",
    "The intuition is as follow:\n",
    "\n",
    "- When we look at the dollarvolume change before the annoucement, we can see that there's a small drift before the announcement. \n",
    "- This could be due to many reasons like:\n",
    "    - Risk-taking trades before the announcement. \n",
    "    - Information leakage before the announcement. \n",
    "        - i.e, insiders who already know the actual earning is higher/lower can make trades before the announcement to get near-risk-free return. \n",
    "- We can make a hypothesis out of this\n",
    "    - If the insider knows that the earning is actual > forecast, he will buy(long) stocks. \n",
    "    - If the insider knows that the earning is actual < forecast, he will sell(short) stocks. \n",
    "- If the stock with information leakage is small capped and if the insider makes big enough trades to move the price:\n",
    "    - Stock price will go up before actual > forecast is annoucned. \n",
    "    - Stock price will go down before actual < forecast is annoucned.\n",
    "- Therefore, I will look at the \"hit ratio\" of cummulative return before the announcement to earnings announcement directions. \n",
    "    - If price goes up (= positive cumulative return) right before the announcement & earning is actual > forecast = HIT\n",
    "    - If price goes down (= negative cumulative return) right before the announcement & earning is actual < forecast = MISS\n",
    "- \"Hit ratio\" of each stock will be calculated. \n",
    "    - The data is 2014 ~ 2022 so 8y * 4q = 32 announcements per stock\n",
    "    - If a certain stock has abnormally high \"hit ratio\", that stock is suspected of having information leakage. \n",
    "    "
   ]
  },
  {
   "cell_type": "markdown",
   "metadata": {},
   "source": [
    "## 4-1 First, calculate pre-announcement cummulative return\n",
    "\n",
    "This can be done by modifying already existing function just a little. "
   ]
  },
  {
   "cell_type": "code",
   "execution_count": 39,
   "metadata": {},
   "outputs": [],
   "source": [
    "# Return dolloarvolume data back-and-forth for each event day.\n",
    "# (5 days backward) _ _ _ _ _ EventDay _ _ _ _ _ _ _ _ _ _ _ _ _ _ _ (20 days forward) \n",
    "# D-5 dollarvolume data       D-0                                    D+20 dollarvolume data\n",
    "\n",
    "def preannc_event_by_sid(return_df, earnings_announcement_df, d_minus=5, d_plus=20, preannc_days=None):\n",
    "    assert return_df.shape == earnings_announcement_df.shape\n",
    "    assert (return_df.index == earnings_announcement_df.index).all()\n",
    "    assert (return_df.columns == earnings_announcement_df.columns).all()\n",
    "\n",
    "    if preannc_days is None:\n",
    "        preannc_days = d_minus - 1\n",
    "\n",
    "    sid_list = return_df.columns\n",
    "    date_list = np.array(return_df.index)\n",
    "\n",
    "    return_2d = np.array(return_df).astype(float)\n",
    "    event_2d = np.array(earnings_announcement_df)\n",
    "    event_2d = np.where(event_2d == True, event_2d, False)\n",
    "    \n",
    "    return_data = []\n",
    "    for col_idx in range(event_2d.shape[1]):\n",
    "        sid = sid_list[col_idx]\n",
    "\n",
    "        dollar_col = return_2d[:, col_idx]\n",
    "        col = event_2d[:, col_idx]\n",
    "        event_indices = np.where(col == True)[0]\n",
    "        dates = date_list[event_indices]\n",
    "\n",
    "        for event_idx, date in zip(event_indices, dates):\n",
    "            start_idx = event_idx - d_minus\n",
    "            if start_idx < 0:\n",
    "                start_idx = 0\n",
    "            \n",
    "            end_idx = event_idx + d_plus\n",
    "            if end_idx > len(col):\n",
    "                end_idx = len(col) - 1\n",
    "            \n",
    "            event_period_data = dollar_col[start_idx:end_idx]\n",
    "            preannc_cumreturn = event_period_data[:preannc_days].sum()\n",
    "\n",
    "            return_data.append({\n",
    "                'sid': sid,\n",
    "                'd_zero_date': date,\n",
    "                'data': event_period_data, # TODO: Somewhere, data is becoming object!! \n",
    "                'preannc': preannc_cumreturn,\n",
    "            })\n",
    "    \n",
    "    return return_data"
   ]
  },
  {
   "cell_type": "code",
   "execution_count": 40,
   "metadata": {},
   "outputs": [],
   "source": [
    "# Only use tradingdays data\n",
    "return_tradingdays_df = return_df.loc[tradingdays, :]\n",
    "earnings_announcement_tradingdays_df = earnings_announcement_df.loc[tradingdays, :]"
   ]
  },
  {
   "cell_type": "code",
   "execution_count": 41,
   "metadata": {},
   "outputs": [],
   "source": [
    "return_data = preannc_event_by_sid(return_tradingdays_df, earnings_announcement_tradingdays_df)"
   ]
  },
  {
   "cell_type": "code",
   "execution_count": 42,
   "metadata": {},
   "outputs": [],
   "source": [
    "return_exploded_df = pd.DataFrame(return_data).explode('data')\n",
    "return_exploded_df.reset_index(inplace=True, drop=True)\n",
    "return_exploded_df['data'] = return_exploded_df['data'].astype(float) # TODO: Somewhere before data has become object!!"
   ]
  },
  {
   "cell_type": "code",
   "execution_count": 43,
   "metadata": {},
   "outputs": [],
   "source": [
    "return_exploded_df['d_date_num'] = return_exploded_df.groupby(['sid', 'd_zero_date']).cumcount()"
   ]
  },
  {
   "cell_type": "code",
   "execution_count": 44,
   "metadata": {},
   "outputs": [],
   "source": [
    "return_exploded_df['is_positive_preannc'] = (return_exploded_df['preannc'] >= 0)"
   ]
  },
  {
   "cell_type": "code",
   "execution_count": 45,
   "metadata": {},
   "outputs": [],
   "source": [
    "return_exploded_df.dropna(inplace=True)"
   ]
  },
  {
   "cell_type": "markdown",
   "metadata": {},
   "source": [
    "## 4-2. Check \"hit\" companies\n",
    "\n",
    "- If companies have positive cummulate return before the announcement, check if they have positive return on D-0 OR D+1\n",
    "- If companies have negative cummulate return before the announcement, check if they have negative return on D-0 OR D+1"
   ]
  },
  {
   "cell_type": "code",
   "execution_count": 46,
   "metadata": {},
   "outputs": [
    {
     "data": {
      "text/plain": [
       "538503"
      ]
     },
     "execution_count": 46,
     "metadata": {},
     "output_type": "execute_result"
    }
   ],
   "source": [
    "len(return_exploded_df[return_exploded_df['is_positive_preannc'] == True])"
   ]
  },
  {
   "cell_type": "code",
   "execution_count": 47,
   "metadata": {},
   "outputs": [
    {
     "data": {
      "text/plain": [
       "553714"
      ]
     },
     "execution_count": 47,
     "metadata": {},
     "output_type": "execute_result"
    }
   ],
   "source": [
    "len(return_exploded_df[return_exploded_df['is_positive_preannc'] != True])"
   ]
  },
  {
   "cell_type": "code",
   "execution_count": 48,
   "metadata": {},
   "outputs": [
    {
     "data": {
      "text/html": [
       "<div>\n",
       "<style scoped>\n",
       "    .dataframe tbody tr th:only-of-type {\n",
       "        vertical-align: middle;\n",
       "    }\n",
       "\n",
       "    .dataframe tbody tr th {\n",
       "        vertical-align: top;\n",
       "    }\n",
       "\n",
       "    .dataframe thead th {\n",
       "        text-align: right;\n",
       "    }\n",
       "</style>\n",
       "<table border=\"1\" class=\"dataframe\">\n",
       "  <thead>\n",
       "    <tr style=\"text-align: right;\">\n",
       "      <th></th>\n",
       "      <th>sid</th>\n",
       "      <th>d_zero_date</th>\n",
       "      <th>data</th>\n",
       "      <th>preannc</th>\n",
       "      <th>d_date_num</th>\n",
       "      <th>is_positive_preannc</th>\n",
       "    </tr>\n",
       "  </thead>\n",
       "  <tbody>\n",
       "    <tr>\n",
       "      <th>6</th>\n",
       "      <td>000020</td>\n",
       "      <td>2017-04-06</td>\n",
       "      <td>0.018418</td>\n",
       "      <td>0.012466</td>\n",
       "      <td>6</td>\n",
       "      <td>True</td>\n",
       "    </tr>\n",
       "    <tr>\n",
       "      <th>105</th>\n",
       "      <td>000020</td>\n",
       "      <td>2018-04-05</td>\n",
       "      <td>0.004082</td>\n",
       "      <td>0.063844</td>\n",
       "      <td>5</td>\n",
       "      <td>True</td>\n",
       "    </tr>\n",
       "    <tr>\n",
       "      <th>230</th>\n",
       "      <td>000020</td>\n",
       "      <td>2019-08-13</td>\n",
       "      <td>0.026906</td>\n",
       "      <td>0.118802</td>\n",
       "      <td>5</td>\n",
       "      <td>True</td>\n",
       "    </tr>\n",
       "    <tr>\n",
       "      <th>231</th>\n",
       "      <td>000020</td>\n",
       "      <td>2019-08-13</td>\n",
       "      <td>0.026201</td>\n",
       "      <td>0.118802</td>\n",
       "      <td>6</td>\n",
       "      <td>True</td>\n",
       "    </tr>\n",
       "    <tr>\n",
       "      <th>255</th>\n",
       "      <td>000020</td>\n",
       "      <td>2020-03-27</td>\n",
       "      <td>0.038983</td>\n",
       "      <td>0.126406</td>\n",
       "      <td>5</td>\n",
       "      <td>True</td>\n",
       "    </tr>\n",
       "    <tr>\n",
       "      <th>...</th>\n",
       "      <td>...</td>\n",
       "      <td>...</td>\n",
       "      <td>...</td>\n",
       "      <td>...</td>\n",
       "      <td>...</td>\n",
       "      <td>...</td>\n",
       "    </tr>\n",
       "    <tr>\n",
       "      <th>1105431</th>\n",
       "      <td>365900</td>\n",
       "      <td>2022-03-22</td>\n",
       "      <td>0.013393</td>\n",
       "      <td>0.031705</td>\n",
       "      <td>5</td>\n",
       "      <td>True</td>\n",
       "    </tr>\n",
       "    <tr>\n",
       "      <th>1105728</th>\n",
       "      <td>146320</td>\n",
       "      <td>2022-05-16</td>\n",
       "      <td>0.009479</td>\n",
       "      <td>0.023574</td>\n",
       "      <td>6</td>\n",
       "      <td>True</td>\n",
       "    </tr>\n",
       "    <tr>\n",
       "      <th>1105879</th>\n",
       "      <td>376930</td>\n",
       "      <td>2022-03-22</td>\n",
       "      <td>0.017173</td>\n",
       "      <td>0.023061</td>\n",
       "      <td>5</td>\n",
       "      <td>True</td>\n",
       "    </tr>\n",
       "    <tr>\n",
       "      <th>1106067</th>\n",
       "      <td>413630</td>\n",
       "      <td>2022-05-06</td>\n",
       "      <td>0.002299</td>\n",
       "      <td>0.000037</td>\n",
       "      <td>5</td>\n",
       "      <td>True</td>\n",
       "    </tr>\n",
       "    <tr>\n",
       "      <th>1106068</th>\n",
       "      <td>413630</td>\n",
       "      <td>2022-05-06</td>\n",
       "      <td>0.002294</td>\n",
       "      <td>0.000037</td>\n",
       "      <td>6</td>\n",
       "      <td>True</td>\n",
       "    </tr>\n",
       "  </tbody>\n",
       "</table>\n",
       "<p>18485 rows × 6 columns</p>\n",
       "</div>"
      ],
      "text/plain": [
       "            sid d_zero_date      data   preannc  d_date_num  \\\n",
       "6        000020  2017-04-06  0.018418  0.012466           6   \n",
       "105      000020  2018-04-05  0.004082  0.063844           5   \n",
       "230      000020  2019-08-13  0.026906  0.118802           5   \n",
       "231      000020  2019-08-13  0.026201  0.118802           6   \n",
       "255      000020  2020-03-27  0.038983  0.126406           5   \n",
       "...         ...         ...       ...       ...         ...   \n",
       "1105431  365900  2022-03-22  0.013393  0.031705           5   \n",
       "1105728  146320  2022-05-16  0.009479  0.023574           6   \n",
       "1105879  376930  2022-03-22  0.017173  0.023061           5   \n",
       "1106067  413630  2022-05-06  0.002299  0.000037           5   \n",
       "1106068  413630  2022-05-06  0.002294  0.000037           6   \n",
       "\n",
       "         is_positive_preannc  \n",
       "6                       True  \n",
       "105                     True  \n",
       "230                     True  \n",
       "231                     True  \n",
       "255                     True  \n",
       "...                      ...  \n",
       "1105431                 True  \n",
       "1105728                 True  \n",
       "1105879                 True  \n",
       "1106067                 True  \n",
       "1106068                 True  \n",
       "\n",
       "[18485 rows x 6 columns]"
      ]
     },
     "execution_count": 48,
     "metadata": {},
     "output_type": "execute_result"
    }
   ],
   "source": [
    "positive_bet = return_exploded_df[\n",
    "    (return_exploded_df['d_date_num'].isin([5, 6])) & # D-0 or D+1 \n",
    "    (return_exploded_df['data'] > 0) & # D-0 return OR D+1 return\n",
    "    (return_exploded_df['is_positive_preannc'] == True) # pre-announcment cummulative return is positive\n",
    "]\n",
    "positive_bet"
   ]
  },
  {
   "cell_type": "code",
   "execution_count": 49,
   "metadata": {},
   "outputs": [],
   "source": [
    "D0D1_both_hit = 5 + 6"
   ]
  },
  {
   "cell_type": "code",
   "execution_count": 50,
   "metadata": {},
   "outputs": [
    {
     "data": {
      "text/plain": [
       "4103"
      ]
     },
     "execution_count": 50,
     "metadata": {},
     "output_type": "execute_result"
    }
   ],
   "source": [
    "\n",
    "companies_D0D1_pos_hit = positive_bet.groupby(['sid', 'd_zero_date'])['d_date_num'].sum()\n",
    "companies_D0D1_pos_hit = companies_D0D1_pos_hit[companies_D0D1_pos_hit == D0D1_both_hit]\n",
    "companies_D0D1_pos_hit = list(companies_D0D1_pos_hit.index)\n",
    "companies_D0D1_pos_hit = [sid for sid, _ in companies_D0D1_pos_hit]\n",
    "\n",
    "len(companies_D0D1_pos_hit)"
   ]
  },
  {
   "cell_type": "code",
   "execution_count": 51,
   "metadata": {},
   "outputs": [
    {
     "data": {
      "text/html": [
       "<div>\n",
       "<style scoped>\n",
       "    .dataframe tbody tr th:only-of-type {\n",
       "        vertical-align: middle;\n",
       "    }\n",
       "\n",
       "    .dataframe tbody tr th {\n",
       "        vertical-align: top;\n",
       "    }\n",
       "\n",
       "    .dataframe thead th {\n",
       "        text-align: right;\n",
       "    }\n",
       "</style>\n",
       "<table border=\"1\" class=\"dataframe\">\n",
       "  <thead>\n",
       "    <tr style=\"text-align: right;\">\n",
       "      <th></th>\n",
       "      <th>sid</th>\n",
       "      <th>d_zero_date</th>\n",
       "      <th>data</th>\n",
       "      <th>preannc</th>\n",
       "      <th>d_date_num</th>\n",
       "      <th>is_positive_preannc</th>\n",
       "    </tr>\n",
       "  </thead>\n",
       "  <tbody>\n",
       "    <tr>\n",
       "      <th>30</th>\n",
       "      <td>000020</td>\n",
       "      <td>2017-07-05</td>\n",
       "      <td>-0.010676</td>\n",
       "      <td>-0.005712</td>\n",
       "      <td>5</td>\n",
       "      <td>False</td>\n",
       "    </tr>\n",
       "    <tr>\n",
       "      <th>56</th>\n",
       "      <td>000020</td>\n",
       "      <td>2017-11-29</td>\n",
       "      <td>-0.041860</td>\n",
       "      <td>-0.022076</td>\n",
       "      <td>6</td>\n",
       "      <td>False</td>\n",
       "    </tr>\n",
       "    <tr>\n",
       "      <th>81</th>\n",
       "      <td>000020</td>\n",
       "      <td>2018-03-30</td>\n",
       "      <td>-0.016327</td>\n",
       "      <td>-0.052795</td>\n",
       "      <td>6</td>\n",
       "      <td>False</td>\n",
       "    </tr>\n",
       "    <tr>\n",
       "      <th>131</th>\n",
       "      <td>000020</td>\n",
       "      <td>2018-08-14</td>\n",
       "      <td>-0.061947</td>\n",
       "      <td>-0.012875</td>\n",
       "      <td>6</td>\n",
       "      <td>False</td>\n",
       "    </tr>\n",
       "    <tr>\n",
       "      <th>155</th>\n",
       "      <td>000020</td>\n",
       "      <td>2018-11-28</td>\n",
       "      <td>-0.011665</td>\n",
       "      <td>-0.010411</td>\n",
       "      <td>5</td>\n",
       "      <td>False</td>\n",
       "    </tr>\n",
       "    <tr>\n",
       "      <th>...</th>\n",
       "      <td>...</td>\n",
       "      <td>...</td>\n",
       "      <td>...</td>\n",
       "      <td>...</td>\n",
       "      <td>...</td>\n",
       "      <td>...</td>\n",
       "    </tr>\n",
       "    <tr>\n",
       "      <th>1106157</th>\n",
       "      <td>388050</td>\n",
       "      <td>2022-05-16</td>\n",
       "      <td>-0.005764</td>\n",
       "      <td>-0.105808</td>\n",
       "      <td>5</td>\n",
       "      <td>False</td>\n",
       "    </tr>\n",
       "    <tr>\n",
       "      <th>1106166</th>\n",
       "      <td>405640</td>\n",
       "      <td>2022-05-16</td>\n",
       "      <td>-0.002283</td>\n",
       "      <td>-0.004540</td>\n",
       "      <td>5</td>\n",
       "      <td>False</td>\n",
       "    </tr>\n",
       "    <tr>\n",
       "      <th>1106175</th>\n",
       "      <td>413600</td>\n",
       "      <td>2022-05-11</td>\n",
       "      <td>-0.022430</td>\n",
       "      <td>-0.012552</td>\n",
       "      <td>5</td>\n",
       "      <td>False</td>\n",
       "    </tr>\n",
       "    <tr>\n",
       "      <th>1106176</th>\n",
       "      <td>413600</td>\n",
       "      <td>2022-05-11</td>\n",
       "      <td>-0.034417</td>\n",
       "      <td>-0.012552</td>\n",
       "      <td>6</td>\n",
       "      <td>False</td>\n",
       "    </tr>\n",
       "    <tr>\n",
       "      <th>1106188</th>\n",
       "      <td>415580</td>\n",
       "      <td>2022-05-13</td>\n",
       "      <td>-0.002309</td>\n",
       "      <td>-0.004592</td>\n",
       "      <td>6</td>\n",
       "      <td>False</td>\n",
       "    </tr>\n",
       "  </tbody>\n",
       "</table>\n",
       "<p>22615 rows × 6 columns</p>\n",
       "</div>"
      ],
      "text/plain": [
       "            sid d_zero_date      data   preannc  d_date_num  \\\n",
       "30       000020  2017-07-05 -0.010676 -0.005712           5   \n",
       "56       000020  2017-11-29 -0.041860 -0.022076           6   \n",
       "81       000020  2018-03-30 -0.016327 -0.052795           6   \n",
       "131      000020  2018-08-14 -0.061947 -0.012875           6   \n",
       "155      000020  2018-11-28 -0.011665 -0.010411           5   \n",
       "...         ...         ...       ...       ...         ...   \n",
       "1106157  388050  2022-05-16 -0.005764 -0.105808           5   \n",
       "1106166  405640  2022-05-16 -0.002283 -0.004540           5   \n",
       "1106175  413600  2022-05-11 -0.022430 -0.012552           5   \n",
       "1106176  413600  2022-05-11 -0.034417 -0.012552           6   \n",
       "1106188  415580  2022-05-13 -0.002309 -0.004592           6   \n",
       "\n",
       "         is_positive_preannc  \n",
       "30                     False  \n",
       "56                     False  \n",
       "81                     False  \n",
       "131                    False  \n",
       "155                    False  \n",
       "...                      ...  \n",
       "1106157                False  \n",
       "1106166                False  \n",
       "1106175                False  \n",
       "1106176                False  \n",
       "1106188                False  \n",
       "\n",
       "[22615 rows x 6 columns]"
      ]
     },
     "execution_count": 51,
     "metadata": {},
     "output_type": "execute_result"
    }
   ],
   "source": [
    "negative_bet = return_exploded_df[\n",
    "    (return_exploded_df['d_date_num'].isin([5, 6])) &\n",
    "    (return_exploded_df['data'] < 0) &\n",
    "    (return_exploded_df['is_positive_preannc'] == False) \n",
    "]\n",
    "negative_bet"
   ]
  },
  {
   "cell_type": "code",
   "execution_count": 52,
   "metadata": {},
   "outputs": [
    {
     "data": {
      "text/plain": [
       "5341"
      ]
     },
     "execution_count": 52,
     "metadata": {},
     "output_type": "execute_result"
    }
   ],
   "source": [
    "\n",
    "companies_D0D1_neg_hit = negative_bet.groupby(['sid', 'd_zero_date'])['d_date_num'].sum()\n",
    "companies_D0D1_neg_hit = companies_D0D1_neg_hit[companies_D0D1_neg_hit == D0D1_both_hit]\n",
    "companies_D0D1_neg_hit = list(companies_D0D1_neg_hit.index)\n",
    "companies_D0D1_neg_hit = [sid for sid, _ in companies_D0D1_neg_hit]\n",
    "\n",
    "len(companies_D0D1_neg_hit)"
   ]
  },
  {
   "cell_type": "code",
   "execution_count": 53,
   "metadata": {},
   "outputs": [],
   "source": [
    "companies_hit_count = defaultdict(lambda: [0, 0])\n",
    "\n",
    "for sid in companies_D0D1_pos_hit:\n",
    "    companies_hit_count[sid][0] += 1\n",
    "\n",
    "for sid in companies_D0D1_neg_hit:\n",
    "    companies_hit_count[sid][1] += 1"
   ]
  },
  {
   "cell_type": "code",
   "execution_count": 54,
   "metadata": {},
   "outputs": [],
   "source": [
    "unique_events = return_exploded_df[['sid', 'd_zero_date']].drop_duplicates()\n",
    "event_counter = Counter(unique_events['sid'])"
   ]
  },
  {
   "cell_type": "code",
   "execution_count": 55,
   "metadata": {},
   "outputs": [],
   "source": [
    "companies_hit_infos = []\n",
    "\n",
    "for sid, (pos_hit, neg_hit) in companies_hit_count.items():\n",
    "    total_hit = pos_hit + neg_hit\n",
    "    total_count = event_counter[sid]\n",
    "    \n",
    "    if total_count == 0:\n",
    "        continue\n",
    "    \n",
    "    hit_ratio = total_hit / total_count\n",
    "\n",
    "    companies_hit_infos.append({\n",
    "        'sid': sid,\n",
    "        'pos_hit': pos_hit, \n",
    "        'neg_hit': neg_hit, \n",
    "        'total_hit': total_hit, \n",
    "        'total_count': total_count, \n",
    "        'hit_ratio':hit_ratio ,\n",
    "    })"
   ]
  },
  {
   "cell_type": "code",
   "execution_count": 60,
   "metadata": {},
   "outputs": [],
   "source": [
    "companies_hit_infos_df = pd.DataFrame(companies_hit_infos)\n",
    "companies_hit_infos_df = companies_hit_infos_df.sort_values(by='hit_ratio', ascending=False)"
   ]
  },
  {
   "cell_type": "code",
   "execution_count": 68,
   "metadata": {},
   "outputs": [
    {
     "data": {
      "text/html": [
       "<div>\n",
       "<style scoped>\n",
       "    .dataframe tbody tr th:only-of-type {\n",
       "        vertical-align: middle;\n",
       "    }\n",
       "\n",
       "    .dataframe tbody tr th {\n",
       "        vertical-align: top;\n",
       "    }\n",
       "\n",
       "    .dataframe thead th {\n",
       "        text-align: right;\n",
       "    }\n",
       "</style>\n",
       "<table border=\"1\" class=\"dataframe\">\n",
       "  <thead>\n",
       "    <tr style=\"text-align: right;\">\n",
       "      <th></th>\n",
       "      <th>sid</th>\n",
       "      <th>pos_hit</th>\n",
       "      <th>neg_hit</th>\n",
       "      <th>total_hit</th>\n",
       "      <th>total_count</th>\n",
       "      <th>hit_ratio</th>\n",
       "    </tr>\n",
       "  </thead>\n",
       "  <tbody>\n",
       "    <tr>\n",
       "      <th>208</th>\n",
       "      <td>004365</td>\n",
       "      <td>5</td>\n",
       "      <td>2</td>\n",
       "      <td>7</td>\n",
       "      <td>11</td>\n",
       "      <td>0.636364</td>\n",
       "    </tr>\n",
       "    <tr>\n",
       "      <th>1836</th>\n",
       "      <td>338100</td>\n",
       "      <td>4</td>\n",
       "      <td>2</td>\n",
       "      <td>6</td>\n",
       "      <td>10</td>\n",
       "      <td>0.600000</td>\n",
       "    </tr>\n",
       "    <tr>\n",
       "      <th>1804</th>\n",
       "      <td>311690</td>\n",
       "      <td>2</td>\n",
       "      <td>4</td>\n",
       "      <td>6</td>\n",
       "      <td>10</td>\n",
       "      <td>0.600000</td>\n",
       "    </tr>\n",
       "    <tr>\n",
       "      <th>1190</th>\n",
       "      <td>086790</td>\n",
       "      <td>13</td>\n",
       "      <td>6</td>\n",
       "      <td>19</td>\n",
       "      <td>34</td>\n",
       "      <td>0.558824</td>\n",
       "    </tr>\n",
       "    <tr>\n",
       "      <th>682</th>\n",
       "      <td>033290</td>\n",
       "      <td>6</td>\n",
       "      <td>4</td>\n",
       "      <td>10</td>\n",
       "      <td>19</td>\n",
       "      <td>0.526316</td>\n",
       "    </tr>\n",
       "    <tr>\n",
       "      <th>...</th>\n",
       "      <td>...</td>\n",
       "      <td>...</td>\n",
       "      <td>...</td>\n",
       "      <td>...</td>\n",
       "      <td>...</td>\n",
       "      <td>...</td>\n",
       "    </tr>\n",
       "    <tr>\n",
       "      <th>2094</th>\n",
       "      <td>106080</td>\n",
       "      <td>0</td>\n",
       "      <td>1</td>\n",
       "      <td>1</td>\n",
       "      <td>21</td>\n",
       "      <td>0.047619</td>\n",
       "    </tr>\n",
       "    <tr>\n",
       "      <th>1984</th>\n",
       "      <td>038290</td>\n",
       "      <td>0</td>\n",
       "      <td>1</td>\n",
       "      <td>1</td>\n",
       "      <td>21</td>\n",
       "      <td>0.047619</td>\n",
       "    </tr>\n",
       "    <tr>\n",
       "      <th>2125</th>\n",
       "      <td>149950</td>\n",
       "      <td>0</td>\n",
       "      <td>1</td>\n",
       "      <td>1</td>\n",
       "      <td>22</td>\n",
       "      <td>0.045455</td>\n",
       "    </tr>\n",
       "    <tr>\n",
       "      <th>258</th>\n",
       "      <td>005440</td>\n",
       "      <td>1</td>\n",
       "      <td>0</td>\n",
       "      <td>1</td>\n",
       "      <td>27</td>\n",
       "      <td>0.037037</td>\n",
       "    </tr>\n",
       "    <tr>\n",
       "      <th>897</th>\n",
       "      <td>051900</td>\n",
       "      <td>1</td>\n",
       "      <td>0</td>\n",
       "      <td>1</td>\n",
       "      <td>33</td>\n",
       "      <td>0.030303</td>\n",
       "    </tr>\n",
       "  </tbody>\n",
       "</table>\n",
       "<p>2139 rows × 6 columns</p>\n",
       "</div>"
      ],
      "text/plain": [
       "         sid  pos_hit  neg_hit  total_hit  total_count  hit_ratio\n",
       "208   004365        5        2          7           11   0.636364\n",
       "1836  338100        4        2          6           10   0.600000\n",
       "1804  311690        2        4          6           10   0.600000\n",
       "1190  086790       13        6         19           34   0.558824\n",
       "682   033290        6        4         10           19   0.526316\n",
       "...      ...      ...      ...        ...          ...        ...\n",
       "2094  106080        0        1          1           21   0.047619\n",
       "1984  038290        0        1          1           21   0.047619\n",
       "2125  149950        0        1          1           22   0.045455\n",
       "258   005440        1        0          1           27   0.037037\n",
       "897   051900        1        0          1           33   0.030303\n",
       "\n",
       "[2139 rows x 6 columns]"
      ]
     },
     "execution_count": 68,
     "metadata": {},
     "output_type": "execute_result"
    }
   ],
   "source": [
    "companies_hit_infos_df[companies_hit_infos_df['total_count'] >= 10]"
   ]
  },
  {
   "cell_type": "code",
   "execution_count": 70,
   "metadata": {},
   "outputs": [
    {
     "data": {
      "text/plain": [
       "<AxesSubplot:>"
      ]
     },
     "execution_count": 70,
     "metadata": {},
     "output_type": "execute_result"
    },
    {
     "data": {
      "image/png": "[encoded data removed]",
      "text/plain": [
       "<Figure size 432x288 with 1 Axes>"
      ]
     },
     "metadata": {
      "needs_background": "light"
     },
     "output_type": "display_data"
    }
   ],
   "source": [
    "companies_hit_infos_df[companies_hit_infos_df['total_count'] >= 10]['hit_ratio'].hist()"
   ]
  },
  {
   "cell_type": "code",
   "execution_count": null,
   "metadata": {},
   "outputs": [],
   "source": []
  }
 ],
 "metadata": {
  "kernelspec": {
   "display_name": "Python 3.8.6 ('.venv': poetry)",
   "language": "python",
   "name": "python3"
  },
  "language_info": {
   "codemirror_mode": {
    "name": "ipython",
    "version": 3
   },
   "file_extension": ".py",
   "mimetype": "text/x-python",
   "name": "python",
   "nbconvert_exporter": "python",
   "pygments_lexer": "ipython3",
   "version": "3.8.6"
  },
  "orig_nbformat": 4,
  "vscode": {
   "interpreter": {
    "hash": "b653a6991a0150363b7c7df033ded56ed180846b604af9b857a996de5a460eb0"
   }
  }
 },
 "nbformat": 4,
 "nbformat_minor": 2
}
