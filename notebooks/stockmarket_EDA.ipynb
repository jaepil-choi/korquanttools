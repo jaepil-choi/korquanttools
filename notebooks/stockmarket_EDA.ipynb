{
 "cells": [
  {
   "cell_type": "markdown",
   "metadata": {},
   "source": [
    "# Korean stock market EDA"
   ]
  },
  {
   "cell_type": "markdown",
   "metadata": {},
   "source": [
    "## 0. Import libraries"
   ]
  },
  {
   "cell_type": "code",
   "execution_count": 1,
   "metadata": {},
   "outputs": [],
   "source": [
    "import pandas as pd\n",
    "import numpy as np\n",
    "\n",
    "import matplotlib.pyplot as plt\n",
    "import seaborn as sns\n",
    "# import streamlit as st"
   ]
  },
  {
   "cell_type": "code",
   "execution_count": 2,
   "metadata": {},
   "outputs": [],
   "source": [
    "import FinanceDataReader as fdr\n",
    "import quantstats as qs"
   ]
  },
  {
   "cell_type": "code",
   "execution_count": 3,
   "metadata": {},
   "outputs": [],
   "source": [
    "## custom libs\n",
    "\n",
    "from korquanttools.pricevolume.loader import KRXPriceDM\n",
    "from korquanttools.pricevolume.utils import DateUtil\n",
    "from korquanttools.pricevolume.config import PathConfig"
   ]
  },
  {
   "cell_type": "code",
   "execution_count": 19,
   "metadata": {},
   "outputs": [],
   "source": [
    "from tqdm import tqdm"
   ]
  },
  {
   "cell_type": "markdown",
   "metadata": {},
   "source": [
    "## 1. Import datasets\n",
    "\n",
    "- Import price-volume data module from KRX using custom lib `korquanttools`\n",
    "- Load/derive price, volume, market cap, dollar volume, etc from the dataset"
   ]
  },
  {
   "cell_type": "code",
   "execution_count": 4,
   "metadata": {},
   "outputs": [],
   "source": [
    "# Global parameters\n",
    "\n",
    "START = 20140101\n",
    "END = 20221202"
   ]
  },
  {
   "cell_type": "code",
   "execution_count": 5,
   "metadata": {},
   "outputs": [
    {
     "name": "stdout",
     "output_type": "stream",
     "text": [
      "\n",
      "        * DM name: KRX_pricevolume\n",
      "        * DM description: Basic price-volume data imported from KRX website & NAVER finance. Has KOSPI, KOSDAQ, KONEX stocks.\n",
      "        * birthday: 20211203\n",
      "        * DM period: 19990101 ~ \n",
      "        * Available data: ['lv1', 'open', 'high', 'low', 'close', 'volume', 'dollarvolume', 'marketcap']\n",
      "        \n"
     ]
    }
   ],
   "source": [
    "# Init data module\n",
    "pricevolume = KRXPriceDM(START, END)\n",
    "pricevolume.get_info()"
   ]
  },
  {
   "cell_type": "markdown",
   "metadata": {},
   "source": [
    "### 1-1. KRX raw data"
   ]
  },
  {
   "cell_type": "code",
   "execution_count": 6,
   "metadata": {},
   "outputs": [
    {
     "data": {
      "text/html": [
       "<div>\n",
       "<style scoped>\n",
       "    .dataframe tbody tr th:only-of-type {\n",
       "        vertical-align: middle;\n",
       "    }\n",
       "\n",
       "    .dataframe tbody tr th {\n",
       "        vertical-align: top;\n",
       "    }\n",
       "\n",
       "    .dataframe thead th {\n",
       "        text-align: right;\n",
       "    }\n",
       "</style>\n",
       "<table border=\"1\" class=\"dataframe\">\n",
       "  <thead>\n",
       "    <tr style=\"text-align: right;\">\n",
       "      <th>ISU_SRT_CD</th>\n",
       "      <th>000020</th>\n",
       "      <th>000040</th>\n",
       "      <th>000050</th>\n",
       "      <th>000060</th>\n",
       "      <th>000070</th>\n",
       "      <th>000075</th>\n",
       "      <th>000080</th>\n",
       "      <th>000087</th>\n",
       "      <th>000100</th>\n",
       "      <th>000105</th>\n",
       "      <th>...</th>\n",
       "      <th>417500</th>\n",
       "      <th>419080</th>\n",
       "      <th>425420</th>\n",
       "      <th>438220</th>\n",
       "      <th>438580</th>\n",
       "      <th>440200</th>\n",
       "      <th>440790</th>\n",
       "      <th>446070</th>\n",
       "      <th>439410</th>\n",
       "      <th>442130</th>\n",
       "    </tr>\n",
       "    <tr>\n",
       "      <th>trdDd</th>\n",
       "      <th></th>\n",
       "      <th></th>\n",
       "      <th></th>\n",
       "      <th></th>\n",
       "      <th></th>\n",
       "      <th></th>\n",
       "      <th></th>\n",
       "      <th></th>\n",
       "      <th></th>\n",
       "      <th></th>\n",
       "      <th></th>\n",
       "      <th></th>\n",
       "      <th></th>\n",
       "      <th></th>\n",
       "      <th></th>\n",
       "      <th></th>\n",
       "      <th></th>\n",
       "      <th></th>\n",
       "      <th></th>\n",
       "      <th></th>\n",
       "      <th></th>\n",
       "    </tr>\n",
       "  </thead>\n",
       "  <tbody>\n",
       "    <tr>\n",
       "      <th>2014-01-01</th>\n",
       "      <td>NaN</td>\n",
       "      <td>NaN</td>\n",
       "      <td>NaN</td>\n",
       "      <td>NaN</td>\n",
       "      <td>NaN</td>\n",
       "      <td>NaN</td>\n",
       "      <td>NaN</td>\n",
       "      <td>NaN</td>\n",
       "      <td>NaN</td>\n",
       "      <td>NaN</td>\n",
       "      <td>...</td>\n",
       "      <td>NaN</td>\n",
       "      <td>NaN</td>\n",
       "      <td>NaN</td>\n",
       "      <td>NaN</td>\n",
       "      <td>NaN</td>\n",
       "      <td>NaN</td>\n",
       "      <td>NaN</td>\n",
       "      <td>NaN</td>\n",
       "      <td>NaN</td>\n",
       "      <td>NaN</td>\n",
       "    </tr>\n",
       "    <tr>\n",
       "      <th>2014-01-02</th>\n",
       "      <td>4440.0</td>\n",
       "      <td>438.0</td>\n",
       "      <td>111500.0</td>\n",
       "      <td>15500.0</td>\n",
       "      <td>73500.0</td>\n",
       "      <td>32600.0</td>\n",
       "      <td>21750.0</td>\n",
       "      <td>16850.0</td>\n",
       "      <td>182500.0</td>\n",
       "      <td>93300.0</td>\n",
       "      <td>...</td>\n",
       "      <td>NaN</td>\n",
       "      <td>NaN</td>\n",
       "      <td>NaN</td>\n",
       "      <td>NaN</td>\n",
       "      <td>NaN</td>\n",
       "      <td>NaN</td>\n",
       "      <td>NaN</td>\n",
       "      <td>NaN</td>\n",
       "      <td>NaN</td>\n",
       "      <td>NaN</td>\n",
       "    </tr>\n",
       "    <tr>\n",
       "      <th>2014-01-03</th>\n",
       "      <td>4540.0</td>\n",
       "      <td>440.0</td>\n",
       "      <td>114000.0</td>\n",
       "      <td>15400.0</td>\n",
       "      <td>71800.0</td>\n",
       "      <td>33400.0</td>\n",
       "      <td>21450.0</td>\n",
       "      <td>16850.0</td>\n",
       "      <td>180500.0</td>\n",
       "      <td>93000.0</td>\n",
       "      <td>...</td>\n",
       "      <td>NaN</td>\n",
       "      <td>NaN</td>\n",
       "      <td>NaN</td>\n",
       "      <td>NaN</td>\n",
       "      <td>NaN</td>\n",
       "      <td>NaN</td>\n",
       "      <td>NaN</td>\n",
       "      <td>NaN</td>\n",
       "      <td>NaN</td>\n",
       "      <td>NaN</td>\n",
       "    </tr>\n",
       "    <tr>\n",
       "      <th>2014-01-04</th>\n",
       "      <td>NaN</td>\n",
       "      <td>NaN</td>\n",
       "      <td>NaN</td>\n",
       "      <td>NaN</td>\n",
       "      <td>NaN</td>\n",
       "      <td>NaN</td>\n",
       "      <td>NaN</td>\n",
       "      <td>NaN</td>\n",
       "      <td>NaN</td>\n",
       "      <td>NaN</td>\n",
       "      <td>...</td>\n",
       "      <td>NaN</td>\n",
       "      <td>NaN</td>\n",
       "      <td>NaN</td>\n",
       "      <td>NaN</td>\n",
       "      <td>NaN</td>\n",
       "      <td>NaN</td>\n",
       "      <td>NaN</td>\n",
       "      <td>NaN</td>\n",
       "      <td>NaN</td>\n",
       "      <td>NaN</td>\n",
       "    </tr>\n",
       "    <tr>\n",
       "      <th>2014-01-05</th>\n",
       "      <td>NaN</td>\n",
       "      <td>NaN</td>\n",
       "      <td>NaN</td>\n",
       "      <td>NaN</td>\n",
       "      <td>NaN</td>\n",
       "      <td>NaN</td>\n",
       "      <td>NaN</td>\n",
       "      <td>NaN</td>\n",
       "      <td>NaN</td>\n",
       "      <td>NaN</td>\n",
       "      <td>...</td>\n",
       "      <td>NaN</td>\n",
       "      <td>NaN</td>\n",
       "      <td>NaN</td>\n",
       "      <td>NaN</td>\n",
       "      <td>NaN</td>\n",
       "      <td>NaN</td>\n",
       "      <td>NaN</td>\n",
       "      <td>NaN</td>\n",
       "      <td>NaN</td>\n",
       "      <td>NaN</td>\n",
       "    </tr>\n",
       "    <tr>\n",
       "      <th>...</th>\n",
       "      <td>...</td>\n",
       "      <td>...</td>\n",
       "      <td>...</td>\n",
       "      <td>...</td>\n",
       "      <td>...</td>\n",
       "      <td>...</td>\n",
       "      <td>...</td>\n",
       "      <td>...</td>\n",
       "      <td>...</td>\n",
       "      <td>...</td>\n",
       "      <td>...</td>\n",
       "      <td>...</td>\n",
       "      <td>...</td>\n",
       "      <td>...</td>\n",
       "      <td>...</td>\n",
       "      <td>...</td>\n",
       "      <td>...</td>\n",
       "      <td>...</td>\n",
       "      <td>...</td>\n",
       "      <td>...</td>\n",
       "      <td>...</td>\n",
       "    </tr>\n",
       "    <tr>\n",
       "      <th>2022-11-28</th>\n",
       "      <td>8770.0</td>\n",
       "      <td>574.0</td>\n",
       "      <td>10900.0</td>\n",
       "      <td>43450.0</td>\n",
       "      <td>64700.0</td>\n",
       "      <td>56000.0</td>\n",
       "      <td>25700.0</td>\n",
       "      <td>16200.0</td>\n",
       "      <td>56900.0</td>\n",
       "      <td>56400.0</td>\n",
       "      <td>...</td>\n",
       "      <td>10300.0</td>\n",
       "      <td>13500.0</td>\n",
       "      <td>8520.0</td>\n",
       "      <td>2000.0</td>\n",
       "      <td>2155.0</td>\n",
       "      <td>1980.0</td>\n",
       "      <td>1995.0</td>\n",
       "      <td>7420.0</td>\n",
       "      <td>NaN</td>\n",
       "      <td>NaN</td>\n",
       "    </tr>\n",
       "    <tr>\n",
       "      <th>2022-11-29</th>\n",
       "      <td>8840.0</td>\n",
       "      <td>594.0</td>\n",
       "      <td>10900.0</td>\n",
       "      <td>43700.0</td>\n",
       "      <td>65600.0</td>\n",
       "      <td>56000.0</td>\n",
       "      <td>26150.0</td>\n",
       "      <td>16200.0</td>\n",
       "      <td>57400.0</td>\n",
       "      <td>56700.0</td>\n",
       "      <td>...</td>\n",
       "      <td>10100.0</td>\n",
       "      <td>12600.0</td>\n",
       "      <td>8330.0</td>\n",
       "      <td>2000.0</td>\n",
       "      <td>2130.0</td>\n",
       "      <td>1975.0</td>\n",
       "      <td>1990.0</td>\n",
       "      <td>6900.0</td>\n",
       "      <td>NaN</td>\n",
       "      <td>NaN</td>\n",
       "    </tr>\n",
       "    <tr>\n",
       "      <th>2022-11-30</th>\n",
       "      <td>9020.0</td>\n",
       "      <td>592.0</td>\n",
       "      <td>11050.0</td>\n",
       "      <td>46000.0</td>\n",
       "      <td>66600.0</td>\n",
       "      <td>56800.0</td>\n",
       "      <td>26150.0</td>\n",
       "      <td>16200.0</td>\n",
       "      <td>58400.0</td>\n",
       "      <td>57100.0</td>\n",
       "      <td>...</td>\n",
       "      <td>10250.0</td>\n",
       "      <td>12600.0</td>\n",
       "      <td>8500.0</td>\n",
       "      <td>2000.0</td>\n",
       "      <td>2150.0</td>\n",
       "      <td>1975.0</td>\n",
       "      <td>1985.0</td>\n",
       "      <td>6360.0</td>\n",
       "      <td>NaN</td>\n",
       "      <td>NaN</td>\n",
       "    </tr>\n",
       "    <tr>\n",
       "      <th>2022-12-01</th>\n",
       "      <td>9220.0</td>\n",
       "      <td>588.0</td>\n",
       "      <td>11100.0</td>\n",
       "      <td>48200.0</td>\n",
       "      <td>68400.0</td>\n",
       "      <td>57400.0</td>\n",
       "      <td>26350.0</td>\n",
       "      <td>16550.0</td>\n",
       "      <td>58500.0</td>\n",
       "      <td>57200.0</td>\n",
       "      <td>...</td>\n",
       "      <td>10450.0</td>\n",
       "      <td>12200.0</td>\n",
       "      <td>8930.0</td>\n",
       "      <td>1995.0</td>\n",
       "      <td>2155.0</td>\n",
       "      <td>1975.0</td>\n",
       "      <td>1990.0</td>\n",
       "      <td>6330.0</td>\n",
       "      <td>1980.0</td>\n",
       "      <td>1985.0</td>\n",
       "    </tr>\n",
       "    <tr>\n",
       "      <th>2022-12-02</th>\n",
       "      <td>9280.0</td>\n",
       "      <td>588.0</td>\n",
       "      <td>11200.0</td>\n",
       "      <td>47300.0</td>\n",
       "      <td>69400.0</td>\n",
       "      <td>58300.0</td>\n",
       "      <td>26150.0</td>\n",
       "      <td>16400.0</td>\n",
       "      <td>58300.0</td>\n",
       "      <td>57300.0</td>\n",
       "      <td>...</td>\n",
       "      <td>10300.0</td>\n",
       "      <td>11300.0</td>\n",
       "      <td>8860.0</td>\n",
       "      <td>2000.0</td>\n",
       "      <td>2155.0</td>\n",
       "      <td>1985.0</td>\n",
       "      <td>1985.0</td>\n",
       "      <td>6280.0</td>\n",
       "      <td>1975.0</td>\n",
       "      <td>2000.0</td>\n",
       "    </tr>\n",
       "  </tbody>\n",
       "</table>\n",
       "<p>3251 rows × 3110 columns</p>\n",
       "</div>"
      ],
      "text/plain": [
       "ISU_SRT_CD  000020  000040    000050   000060   000070   000075   000080  \\\n",
       "trdDd                                                                      \n",
       "2014-01-01     NaN     NaN       NaN      NaN      NaN      NaN      NaN   \n",
       "2014-01-02  4440.0   438.0  111500.0  15500.0  73500.0  32600.0  21750.0   \n",
       "2014-01-03  4540.0   440.0  114000.0  15400.0  71800.0  33400.0  21450.0   \n",
       "2014-01-04     NaN     NaN       NaN      NaN      NaN      NaN      NaN   \n",
       "2014-01-05     NaN     NaN       NaN      NaN      NaN      NaN      NaN   \n",
       "...            ...     ...       ...      ...      ...      ...      ...   \n",
       "2022-11-28  8770.0   574.0   10900.0  43450.0  64700.0  56000.0  25700.0   \n",
       "2022-11-29  8840.0   594.0   10900.0  43700.0  65600.0  56000.0  26150.0   \n",
       "2022-11-30  9020.0   592.0   11050.0  46000.0  66600.0  56800.0  26150.0   \n",
       "2022-12-01  9220.0   588.0   11100.0  48200.0  68400.0  57400.0  26350.0   \n",
       "2022-12-02  9280.0   588.0   11200.0  47300.0  69400.0  58300.0  26150.0   \n",
       "\n",
       "ISU_SRT_CD   000087    000100   000105  ...   417500   419080  425420  438220  \\\n",
       "trdDd                                   ...                                     \n",
       "2014-01-01      NaN       NaN      NaN  ...      NaN      NaN     NaN     NaN   \n",
       "2014-01-02  16850.0  182500.0  93300.0  ...      NaN      NaN     NaN     NaN   \n",
       "2014-01-03  16850.0  180500.0  93000.0  ...      NaN      NaN     NaN     NaN   \n",
       "2014-01-04      NaN       NaN      NaN  ...      NaN      NaN     NaN     NaN   \n",
       "2014-01-05      NaN       NaN      NaN  ...      NaN      NaN     NaN     NaN   \n",
       "...             ...       ...      ...  ...      ...      ...     ...     ...   \n",
       "2022-11-28  16200.0   56900.0  56400.0  ...  10300.0  13500.0  8520.0  2000.0   \n",
       "2022-11-29  16200.0   57400.0  56700.0  ...  10100.0  12600.0  8330.0  2000.0   \n",
       "2022-11-30  16200.0   58400.0  57100.0  ...  10250.0  12600.0  8500.0  2000.0   \n",
       "2022-12-01  16550.0   58500.0  57200.0  ...  10450.0  12200.0  8930.0  1995.0   \n",
       "2022-12-02  16400.0   58300.0  57300.0  ...  10300.0  11300.0  8860.0  2000.0   \n",
       "\n",
       "ISU_SRT_CD  438580  440200  440790  446070  439410  442130  \n",
       "trdDd                                                       \n",
       "2014-01-01     NaN     NaN     NaN     NaN     NaN     NaN  \n",
       "2014-01-02     NaN     NaN     NaN     NaN     NaN     NaN  \n",
       "2014-01-03     NaN     NaN     NaN     NaN     NaN     NaN  \n",
       "2014-01-04     NaN     NaN     NaN     NaN     NaN     NaN  \n",
       "2014-01-05     NaN     NaN     NaN     NaN     NaN     NaN  \n",
       "...            ...     ...     ...     ...     ...     ...  \n",
       "2022-11-28  2155.0  1980.0  1995.0  7420.0     NaN     NaN  \n",
       "2022-11-29  2130.0  1975.0  1990.0  6900.0     NaN     NaN  \n",
       "2022-11-30  2150.0  1975.0  1985.0  6360.0     NaN     NaN  \n",
       "2022-12-01  2155.0  1975.0  1990.0  6330.0  1980.0  1985.0  \n",
       "2022-12-02  2155.0  1985.0  1985.0  6280.0  1975.0  2000.0  \n",
       "\n",
       "[3251 rows x 3110 columns]"
      ]
     },
     "execution_count": 6,
     "metadata": {},
     "output_type": "execute_result"
    }
   ],
   "source": [
    "# Download price-volume data from KRX.\n",
    "# Also, build cache for faster access. (Both lv1 and lv2)\n",
    "\n",
    "close_df = pricevolume.get_data(\"close\")\n",
    "close_df = close_df.astype(float)\n",
    "close_df\n"
   ]
  },
  {
   "cell_type": "code",
   "execution_count": 7,
   "metadata": {},
   "outputs": [],
   "source": [
    "volume_df = pricevolume.get_data('volume')\n",
    "volume_df = volume_df.astype(float)\n",
    "\n",
    "dollarvolume_df = pricevolume.get_data('dollarvolume')\n",
    "dollarvolume_df = dollarvolume_df.astype(float)\n",
    "\n",
    "marketcap_df = pricevolume.get_data('marketcap') # TODO: 현재 object로 불러와져 직접 astype(float) 해줘야 함. fix it. \n",
    "marketcap_df = marketcap_df.astype(float)"
   ]
  },
  {
   "cell_type": "markdown",
   "metadata": {},
   "source": [
    "#### Caution: Data are unadjusted\n",
    "\n",
    "- Let's take an example of Samsung Electronics (KOSPI:005930) that made a stock split"
   ]
  },
  {
   "cell_type": "code",
   "execution_count": 8,
   "metadata": {},
   "outputs": [
    {
     "data": {
      "text/plain": [
       "trdDd\n",
       "2014-01-01          NaN\n",
       "2014-01-02    1309000.0\n",
       "2014-01-03    1296000.0\n",
       "2014-01-04          NaN\n",
       "2014-01-05          NaN\n",
       "                ...    \n",
       "2022-11-28      60100.0\n",
       "2022-11-29      60600.0\n",
       "2022-11-30      62200.0\n",
       "2022-12-01      62600.0\n",
       "2022-12-02      60400.0\n",
       "Name: 005930, Length: 3251, dtype: float64"
      ]
     },
     "execution_count": 8,
     "metadata": {},
     "output_type": "execute_result"
    }
   ],
   "source": [
    "close_df.loc[:, '005930'] # 삼성전자. \n",
    "# 분할했었기 때문에 가격이 100만원 대에서 6만원 대로 변한다. "
   ]
  },
  {
   "cell_type": "code",
   "execution_count": 9,
   "metadata": {},
   "outputs": [
    {
     "data": {
      "text/plain": [
       "trdDd\n",
       "2014-01-01           NaN\n",
       "2014-01-02      620500.0\n",
       "2014-01-03      529932.0\n",
       "2014-01-04           NaN\n",
       "2014-01-05           NaN\n",
       "                 ...    \n",
       "2022-11-28     8589032.0\n",
       "2022-11-29     7014160.0\n",
       "2022-11-30    19768903.0\n",
       "2022-12-01    16631445.0\n",
       "2022-12-02    15331184.0\n",
       "Name: 005930, Length: 3251, dtype: float64"
      ]
     },
     "execution_count": 9,
     "metadata": {},
     "output_type": "execute_result"
    }
   ],
   "source": [
    "volume_df.loc[:, '005930'] # 삼성전자\n",
    "# volume 역시 unadjusted volume이다. "
   ]
  },
  {
   "cell_type": "markdown",
   "metadata": {},
   "source": [
    "### 1-2. Create derived datasets"
   ]
  },
  {
   "cell_type": "code",
   "execution_count": 10,
   "metadata": {},
   "outputs": [
    {
     "data": {
      "text/html": [
       "<div>\n",
       "<style scoped>\n",
       "    .dataframe tbody tr th:only-of-type {\n",
       "        vertical-align: middle;\n",
       "    }\n",
       "\n",
       "    .dataframe tbody tr th {\n",
       "        vertical-align: top;\n",
       "    }\n",
       "\n",
       "    .dataframe thead th {\n",
       "        text-align: right;\n",
       "    }\n",
       "</style>\n",
       "<table border=\"1\" class=\"dataframe\">\n",
       "  <thead>\n",
       "    <tr style=\"text-align: right;\">\n",
       "      <th></th>\n",
       "      <th>ISU_SRT_CD</th>\n",
       "      <th>ISU_ABBRV</th>\n",
       "      <th>MKT_NM</th>\n",
       "      <th>SECT_TP_NM</th>\n",
       "      <th>TDD_CLSPRC</th>\n",
       "      <th>FLUC_TP_CD</th>\n",
       "      <th>CMPPREVDD_PRC</th>\n",
       "      <th>FLUC_RT</th>\n",
       "      <th>TDD_OPNPRC</th>\n",
       "      <th>TDD_HGPRC</th>\n",
       "      <th>TDD_LWPRC</th>\n",
       "      <th>ACC_TRDVOL</th>\n",
       "      <th>ACC_TRDVAL</th>\n",
       "      <th>MKTCAP</th>\n",
       "      <th>LIST_SHRS</th>\n",
       "      <th>MKT_ID</th>\n",
       "      <th>trdDd</th>\n",
       "      <th>ISU_CD</th>\n",
       "    </tr>\n",
       "  </thead>\n",
       "  <tbody>\n",
       "    <tr>\n",
       "      <th>1977</th>\n",
       "      <td>060310</td>\n",
       "      <td>3S</td>\n",
       "      <td>KOSDAQ</td>\n",
       "      <td>벤처기업부</td>\n",
       "      <td>4485</td>\n",
       "      <td>1</td>\n",
       "      <td>45</td>\n",
       "      <td>1.01</td>\n",
       "      <td>4550</td>\n",
       "      <td>4655</td>\n",
       "      <td>4475</td>\n",
       "      <td>402448</td>\n",
       "      <td>1832921960</td>\n",
       "      <td>183401821980</td>\n",
       "      <td>40892268</td>\n",
       "      <td>KSQ</td>\n",
       "      <td>2014-01-02</td>\n",
       "      <td>NaN</td>\n",
       "    </tr>\n",
       "    <tr>\n",
       "      <th>1978</th>\n",
       "      <td>013340</td>\n",
       "      <td>AJS</td>\n",
       "      <td>KOSDAQ</td>\n",
       "      <td>중견기업부</td>\n",
       "      <td>605</td>\n",
       "      <td>2</td>\n",
       "      <td>-15</td>\n",
       "      <td>-2.42</td>\n",
       "      <td>634</td>\n",
       "      <td>634</td>\n",
       "      <td>605</td>\n",
       "      <td>261969</td>\n",
       "      <td>161351265</td>\n",
       "      <td>23139709065</td>\n",
       "      <td>38247453</td>\n",
       "      <td>KSQ</td>\n",
       "      <td>2014-01-02</td>\n",
       "      <td>NaN</td>\n",
       "    </tr>\n",
       "    <tr>\n",
       "      <th>1979</th>\n",
       "      <td>068400</td>\n",
       "      <td>AJ렌터카</td>\n",
       "      <td>KOSPI</td>\n",
       "      <td></td>\n",
       "      <td>12600</td>\n",
       "      <td>1</td>\n",
       "      <td>250</td>\n",
       "      <td>2.02</td>\n",
       "      <td>12450</td>\n",
       "      <td>12850</td>\n",
       "      <td>12350</td>\n",
       "      <td>153578</td>\n",
       "      <td>1933645400</td>\n",
       "      <td>279043380000</td>\n",
       "      <td>22146300</td>\n",
       "      <td>STK</td>\n",
       "      <td>2014-01-02</td>\n",
       "      <td>NaN</td>\n",
       "    </tr>\n",
       "    <tr>\n",
       "      <th>1980</th>\n",
       "      <td>006840</td>\n",
       "      <td>AK홀딩스</td>\n",
       "      <td>KOSPI</td>\n",
       "      <td></td>\n",
       "      <td>41000</td>\n",
       "      <td>1</td>\n",
       "      <td>50</td>\n",
       "      <td>0.12</td>\n",
       "      <td>41000</td>\n",
       "      <td>41400</td>\n",
       "      <td>40150</td>\n",
       "      <td>17780</td>\n",
       "      <td>726244500</td>\n",
       "      <td>477550001000</td>\n",
       "      <td>11647561</td>\n",
       "      <td>STK</td>\n",
       "      <td>2014-01-02</td>\n",
       "      <td>NaN</td>\n",
       "    </tr>\n",
       "    <tr>\n",
       "      <th>1981</th>\n",
       "      <td>054620</td>\n",
       "      <td>AP시스템</td>\n",
       "      <td>KOSDAQ</td>\n",
       "      <td>우량기업부</td>\n",
       "      <td>9610</td>\n",
       "      <td>2</td>\n",
       "      <td>-250</td>\n",
       "      <td>-2.54</td>\n",
       "      <td>9990</td>\n",
       "      <td>10000</td>\n",
       "      <td>9610</td>\n",
       "      <td>707268</td>\n",
       "      <td>6924202690</td>\n",
       "      <td>220663503430</td>\n",
       "      <td>22961863</td>\n",
       "      <td>KSQ</td>\n",
       "      <td>2014-01-02</td>\n",
       "      <td>NaN</td>\n",
       "    </tr>\n",
       "    <tr>\n",
       "      <th>...</th>\n",
       "      <td>...</td>\n",
       "      <td>...</td>\n",
       "      <td>...</td>\n",
       "      <td>...</td>\n",
       "      <td>...</td>\n",
       "      <td>...</td>\n",
       "      <td>...</td>\n",
       "      <td>...</td>\n",
       "      <td>...</td>\n",
       "      <td>...</td>\n",
       "      <td>...</td>\n",
       "      <td>...</td>\n",
       "      <td>...</td>\n",
       "      <td>...</td>\n",
       "      <td>...</td>\n",
       "      <td>...</td>\n",
       "      <td>...</td>\n",
       "      <td>...</td>\n",
       "    </tr>\n",
       "    <tr>\n",
       "      <th>7541056</th>\n",
       "      <td>000547</td>\n",
       "      <td>흥국화재2우B</td>\n",
       "      <td>KOSPI</td>\n",
       "      <td></td>\n",
       "      <td>21400</td>\n",
       "      <td>1</td>\n",
       "      <td>2100</td>\n",
       "      <td>10.88</td>\n",
       "      <td>19550</td>\n",
       "      <td>21700</td>\n",
       "      <td>19550</td>\n",
       "      <td>4526</td>\n",
       "      <td>94473600</td>\n",
       "      <td>3287040000</td>\n",
       "      <td>153,600</td>\n",
       "      <td>STK</td>\n",
       "      <td>2022-12-01</td>\n",
       "      <td>KR7000542001</td>\n",
       "    </tr>\n",
       "    <tr>\n",
       "      <th>7541057</th>\n",
       "      <td>000545</td>\n",
       "      <td>흥국화재우</td>\n",
       "      <td>KOSPI</td>\n",
       "      <td></td>\n",
       "      <td>6390</td>\n",
       "      <td>1</td>\n",
       "      <td>370</td>\n",
       "      <td>6.15</td>\n",
       "      <td>6110</td>\n",
       "      <td>6500</td>\n",
       "      <td>6100</td>\n",
       "      <td>7555</td>\n",
       "      <td>47721780</td>\n",
       "      <td>4907520000</td>\n",
       "      <td>768,000</td>\n",
       "      <td>STK</td>\n",
       "      <td>2022-12-01</td>\n",
       "      <td>KR7000541003</td>\n",
       "    </tr>\n",
       "    <tr>\n",
       "      <th>7541058</th>\n",
       "      <td>003280</td>\n",
       "      <td>흥아해운</td>\n",
       "      <td>KOSPI</td>\n",
       "      <td></td>\n",
       "      <td>1610</td>\n",
       "      <td>2</td>\n",
       "      <td>-15</td>\n",
       "      <td>-0.92</td>\n",
       "      <td>1625</td>\n",
       "      <td>1645</td>\n",
       "      <td>1600</td>\n",
       "      <td>358258</td>\n",
       "      <td>581878240</td>\n",
       "      <td>387084087390</td>\n",
       "      <td>240,424,899</td>\n",
       "      <td>STK</td>\n",
       "      <td>2022-12-01</td>\n",
       "      <td>KR7003280005</td>\n",
       "    </tr>\n",
       "    <tr>\n",
       "      <th>7541059</th>\n",
       "      <td>037440</td>\n",
       "      <td>희림</td>\n",
       "      <td>KOSDAQ</td>\n",
       "      <td>우량기업부</td>\n",
       "      <td>11900</td>\n",
       "      <td>2</td>\n",
       "      <td>-100</td>\n",
       "      <td>-0.83</td>\n",
       "      <td>11950</td>\n",
       "      <td>12250</td>\n",
       "      <td>11750</td>\n",
       "      <td>1650283</td>\n",
       "      <td>19752583800</td>\n",
       "      <td>165677452500</td>\n",
       "      <td>13,922,475</td>\n",
       "      <td>KSQ</td>\n",
       "      <td>2022-12-01</td>\n",
       "      <td>KR7037440005</td>\n",
       "    </tr>\n",
       "    <tr>\n",
       "      <th>7541060</th>\n",
       "      <td>238490</td>\n",
       "      <td>힘스</td>\n",
       "      <td>KOSDAQ</td>\n",
       "      <td>우량기업부</td>\n",
       "      <td>6410</td>\n",
       "      <td>3</td>\n",
       "      <td>0</td>\n",
       "      <td>0.00</td>\n",
       "      <td>6500</td>\n",
       "      <td>6520</td>\n",
       "      <td>6350</td>\n",
       "      <td>19683</td>\n",
       "      <td>126601290</td>\n",
       "      <td>72511432760</td>\n",
       "      <td>11,312,236</td>\n",
       "      <td>KSQ</td>\n",
       "      <td>2022-12-01</td>\n",
       "      <td>KR7238490007</td>\n",
       "    </tr>\n",
       "  </tbody>\n",
       "</table>\n",
       "<p>7539084 rows × 18 columns</p>\n",
       "</div>"
      ],
      "text/plain": [
       "        ISU_SRT_CD ISU_ABBRV  MKT_NM SECT_TP_NM TDD_CLSPRC FLUC_TP_CD  \\\n",
       "1977        060310        3S  KOSDAQ      벤처기업부       4485          1   \n",
       "1978        013340       AJS  KOSDAQ      중견기업부        605          2   \n",
       "1979        068400     AJ렌터카   KOSPI                 12600          1   \n",
       "1980        006840     AK홀딩스   KOSPI                 41000          1   \n",
       "1981        054620     AP시스템  KOSDAQ      우량기업부       9610          2   \n",
       "...            ...       ...     ...        ...        ...        ...   \n",
       "7541056     000547   흥국화재2우B   KOSPI                 21400          1   \n",
       "7541057     000545     흥국화재우   KOSPI                  6390          1   \n",
       "7541058     003280      흥아해운   KOSPI                  1610          2   \n",
       "7541059     037440        희림  KOSDAQ      우량기업부      11900          2   \n",
       "7541060     238490        힘스  KOSDAQ      우량기업부       6410          3   \n",
       "\n",
       "        CMPPREVDD_PRC FLUC_RT TDD_OPNPRC TDD_HGPRC TDD_LWPRC ACC_TRDVOL  \\\n",
       "1977               45    1.01       4550      4655      4475     402448   \n",
       "1978              -15   -2.42        634       634       605     261969   \n",
       "1979              250    2.02      12450     12850     12350     153578   \n",
       "1980               50    0.12      41000     41400     40150      17780   \n",
       "1981             -250   -2.54       9990     10000      9610     707268   \n",
       "...               ...     ...        ...       ...       ...        ...   \n",
       "7541056          2100   10.88      19550     21700     19550       4526   \n",
       "7541057           370    6.15       6110      6500      6100       7555   \n",
       "7541058           -15   -0.92       1625      1645      1600     358258   \n",
       "7541059          -100   -0.83      11950     12250     11750    1650283   \n",
       "7541060             0    0.00       6500      6520      6350      19683   \n",
       "\n",
       "          ACC_TRDVAL        MKTCAP    LIST_SHRS MKT_ID      trdDd  \\\n",
       "1977      1832921960  183401821980     40892268    KSQ 2014-01-02   \n",
       "1978       161351265   23139709065     38247453    KSQ 2014-01-02   \n",
       "1979      1933645400  279043380000     22146300    STK 2014-01-02   \n",
       "1980       726244500  477550001000     11647561    STK 2014-01-02   \n",
       "1981      6924202690  220663503430     22961863    KSQ 2014-01-02   \n",
       "...              ...           ...          ...    ...        ...   \n",
       "7541056     94473600    3287040000      153,600    STK 2022-12-01   \n",
       "7541057     47721780    4907520000      768,000    STK 2022-12-01   \n",
       "7541058    581878240  387084087390  240,424,899    STK 2022-12-01   \n",
       "7541059  19752583800  165677452500   13,922,475    KSQ 2022-12-01   \n",
       "7541060    126601290   72511432760   11,312,236    KSQ 2022-12-01   \n",
       "\n",
       "               ISU_CD  \n",
       "1977              NaN  \n",
       "1978              NaN  \n",
       "1979              NaN  \n",
       "1980              NaN  \n",
       "1981              NaN  \n",
       "...               ...  \n",
       "7541056  KR7000542001  \n",
       "7541057  KR7000541003  \n",
       "7541058  KR7003280005  \n",
       "7541059  KR7037440005  \n",
       "7541060  KR7238490007  \n",
       "\n",
       "[7539084 rows x 18 columns]"
      ]
     },
     "execution_count": 10,
     "metadata": {},
     "output_type": "execute_result"
    }
   ],
   "source": [
    "lv1_df = pricevolume.get_data('lv1')\n",
    "lv1_df"
   ]
  },
  {
   "cell_type": "code",
   "execution_count": 11,
   "metadata": {},
   "outputs": [
    {
     "data": {
      "text/plain": [
       "Index(['ISU_SRT_CD', 'ISU_ABBRV', 'MKT_NM', 'SECT_TP_NM', 'TDD_CLSPRC',\n",
       "       'FLUC_TP_CD', 'CMPPREVDD_PRC', 'FLUC_RT', 'TDD_OPNPRC', 'TDD_HGPRC',\n",
       "       'TDD_LWPRC', 'ACC_TRDVOL', 'ACC_TRDVAL', 'MKTCAP', 'LIST_SHRS',\n",
       "       'MKT_ID', 'trdDd', 'ISU_CD'],\n",
       "      dtype='object')"
      ]
     },
     "execution_count": 11,
     "metadata": {},
     "output_type": "execute_result"
    }
   ],
   "source": [
    "lv1_df.columns"
   ]
  },
  {
   "cell_type": "markdown",
   "metadata": {},
   "source": [
    "- Stock universe by market grouping (KOSPI, KOSDAQ, KONEX)"
   ]
  },
  {
   "cell_type": "code",
   "execution_count": 12,
   "metadata": {},
   "outputs": [],
   "source": [
    "universe_df = close_df.notnull() # All stock universe regardless of market"
   ]
  },
  {
   "cell_type": "code",
   "execution_count": 13,
   "metadata": {},
   "outputs": [
    {
     "data": {
      "text/plain": [
       "array(['KOSDAQ', 'KOSPI', 'KONEX', 'KOSDAQ GLOBAL'], dtype=object)"
      ]
     },
     "execution_count": 13,
     "metadata": {},
     "output_type": "execute_result"
    }
   ],
   "source": [
    "market_cat_df = lv1_df[['ISU_SRT_CD', 'MKT_NM', 'trdDd']].copy()\n",
    "market_cat_df['MKT_NM'].unique()"
   ]
  },
  {
   "cell_type": "code",
   "execution_count": 14,
   "metadata": {},
   "outputs": [],
   "source": [
    "market_cat_df.loc[:, 'is_KOSPI'] = (market_cat_df['MKT_NM'] == 'KOSPI')\n",
    "market_cat_df.loc[:, 'is_KOSDAQ'] = (market_cat_df['MKT_NM'] == 'KOSDAQ')\n",
    "market_cat_df.loc[:, 'is_KONEX'] = (market_cat_df['MKT_NM'] == 'KONEX')"
   ]
  },
  {
   "cell_type": "code",
   "execution_count": 15,
   "metadata": {},
   "outputs": [],
   "source": [
    "kospi_univ_df = pd.pivot(market_cat_df, index='trdDd', columns='ISU_SRT_CD', values='is_KOSPI')\n",
    "kosdaq_univ_df = pd.pivot(market_cat_df, index='trdDd', columns='ISU_SRT_CD', values='is_KOSDAQ')\n",
    "konex_univ_df = pd.pivot(market_cat_df, index='trdDd', columns='ISU_SRT_CD', values='is_KONEX')"
   ]
  },
  {
   "cell_type": "markdown",
   "metadata": {},
   "source": [
    "\n",
    "- tradingday DM by processing `pricevolume`\n"
   ]
  },
  {
   "cell_type": "code",
   "execution_count": 16,
   "metadata": {},
   "outputs": [
    {
     "data": {
      "text/plain": [
       "DatetimeIndex(['2014-01-02', '2014-01-03', '2014-01-06', '2014-01-07',\n",
       "               '2014-01-08', '2014-01-09', '2014-01-10', '2014-01-13',\n",
       "               '2014-01-14', '2014-01-15',\n",
       "               ...\n",
       "               '2022-11-21', '2022-11-22', '2022-11-23', '2022-11-24',\n",
       "               '2022-11-25', '2022-11-28', '2022-11-29', '2022-11-30',\n",
       "               '2022-12-01', '2022-12-02'],\n",
       "              dtype='datetime64[ns]', name='trdDd', length=2189, freq=None)"
      ]
     },
     "execution_count": 16,
     "metadata": {},
     "output_type": "execute_result"
    }
   ],
   "source": [
    "holidays = close_df.isnull().all(axis=1)\n",
    "tradingdays = ~holidays\n",
    "\n",
    "holidays = holidays.index[holidays]\n",
    "tradingdays = tradingdays.index[tradingdays]\n",
    "\n",
    "tradingdays"
   ]
  },
  {
   "cell_type": "markdown",
   "metadata": {},
   "source": [
    "\n",
    "- return & adj.open/high/low/close/volume DM by mixing `pricevolume` and `FinanceDataReader`\n"
   ]
  },
  {
   "cell_type": "code",
   "execution_count": 20,
   "metadata": {},
   "outputs": [
    {
     "name": "stderr",
     "output_type": "stream",
     "text": [
      "100%|██████████| 3110/3110 [05:31<00:00,  9.39it/s]\n"
     ]
    }
   ],
   "source": [
    "# TODO: Integrate this into main module\n",
    "# Takes about 20 mins\n",
    "\n",
    "adjOpen_df = close_df.copy()\n",
    "adjHigh_df = close_df.copy()\n",
    "adjLow_df = close_df.copy()\n",
    "adjClose_df = close_df.copy()\n",
    "adjVolume_df = close_df.copy()\n",
    "return_df = close_df.copy()\n",
    "\n",
    "for ii in tqdm(close_df.columns):\n",
    "    ii_df = fdr.DataReader(ii, DateUtil.numdate2stddate(START), DateUtil.numdate2stddate(END))\n",
    "\n",
    "    adjOpen_df.loc[:, ii] = ii_df['Open']\n",
    "    adjHigh_df.loc[:, ii] = ii_df['High']\n",
    "    adjLow_df.loc[:, ii] = ii_df['Low']\n",
    "    adjClose_df.loc[:, ii] = ii_df['Close']\n",
    "    adjVolume_df.loc[:, ii] = ii_df['Volume']\n",
    "    return_df.loc[:, ii] = ii_df['Change']\n",
    "    "
   ]
  },
  {
   "cell_type": "code",
   "execution_count": 21,
   "metadata": {},
   "outputs": [],
   "source": [
    "adjOpen_df.to_pickle(PathConfig.cache_path / f\"temp_adjOpen_{START}_{END}\")\n",
    "adjHigh_df.to_pickle(PathConfig.cache_path / f\"temp_adjHigh_{START}_{END}\")\n",
    "adjLow_df.to_pickle(PathConfig.cache_path / f\"temp_adjLow_{START}_{END}\")\n",
    "adjClose_df.to_pickle(PathConfig.cache_path / f\"temp_adjClose_{START}_{END}\")\n",
    "adjVolume_df.to_pickle(PathConfig.cache_path / f\"temp_adjVolume_{START}_{END}\")\n",
    "return_df.to_pickle(PathConfig.cache_path / f\"temp_return_{START}_{END}\")"
   ]
  },
  {
   "cell_type": "code",
   "execution_count": 22,
   "metadata": {},
   "outputs": [],
   "source": [
    "adjOpen_df = pd.read_pickle(PathConfig.cache_path / f\"temp_adjOpen_{START}_{END}\")\n",
    "adjHigh_df = pd.read_pickle(PathConfig.cache_path / f\"temp_adjHigh_{START}_{END}\")\n",
    "adjLow_df = pd.read_pickle(PathConfig.cache_path / f\"temp_adjLow_{START}_{END}\")\n",
    "adjClose_df = pd.read_pickle(PathConfig.cache_path / f\"temp_adjClose_{START}_{END}\")\n",
    "adjVolume_df = pd.read_pickle(PathConfig.cache_path / f\"temp_adjVolume_{START}_{END}\")\n",
    "return_df = pd.read_pickle(PathConfig.cache_path / f\"temp_return_{START}_{END}\")"
   ]
  },
  {
   "cell_type": "markdown",
   "metadata": {},
   "source": [
    "### 2-1. Market cap"
   ]
  },
  {
   "cell_type": "code",
   "execution_count": 23,
   "metadata": {},
   "outputs": [
    {
     "data": {
      "text/plain": [
       "<AxesSubplot:xlabel='2022-12-02 00:00:00', ylabel='Count'>"
      ]
     },
     "execution_count": 23,
     "metadata": {},
     "output_type": "execute_result"
    },
    {
     "data": {
      "image/png": "[encoded data removed]",
      "text/plain": [
       "<Figure size 432x288 with 1 Axes>"
      ]
     },
     "metadata": {
      "needs_background": "light"
     },
     "output_type": "display_data"
    }
   ],
   "source": [
    "latest_marketcap = marketcap_df.iloc[-1]\n",
    "latest_marketcap = latest_marketcap[~latest_marketcap.isnull()]\n",
    "\n",
    "sns.histplot(latest_marketcap)"
   ]
  },
  {
   "cell_type": "markdown",
   "metadata": {},
   "source": [
    "\n",
    "Vanilla plot is extremely skewed. Why?\n",
    "\n",
    "- 2022-06-11 기준 시가총액\n",
    "    1. 삼성전자: 3,808,721억원\n",
    "    2. LG 에너지솔루션: 994,500억원\n",
    "    3. SK 하이닉스: 753,482억원\n",
    "    4. ...\n",
    "\n",
    "- Solutions:\n",
    "    - Outlier removal\n",
    "    - Log transformation\n"
   ]
  },
  {
   "cell_type": "markdown",
   "metadata": {},
   "source": [
    "#### Outlier removal"
   ]
  },
  {
   "cell_type": "code",
   "execution_count": 24,
   "metadata": {},
   "outputs": [],
   "source": [
    "FLOOR_MARKETCAP_QUANTILE = 0.2\n",
    "CEILING_MARKETCAP_QUANTILE = 0.01\n"
   ]
  },
  {
   "cell_type": "code",
   "execution_count": 25,
   "metadata": {},
   "outputs": [
    {
     "data": {
      "text/plain": [
       "<AxesSubplot:xlabel='2022-12-02 00:00:00', ylabel='Count'>"
      ]
     },
     "execution_count": 25,
     "metadata": {},
     "output_type": "execute_result"
    },
    {
     "data": {
      "image/png": "[encoded data removed]",
      "text/plain": [
       "<Figure size 432x288 with 1 Axes>"
      ]
     },
     "metadata": {
      "needs_background": "light"
     },
     "output_type": "display_data"
    }
   ],
   "source": [
    "floor_quantile_value = np.quantile(latest_marketcap, FLOOR_MARKETCAP_QUANTILE)\n",
    "ceiling_quantile_value = np.quantile(latest_marketcap, 1 - CEILING_MARKETCAP_QUANTILE)\n",
    "\n",
    "latest_marketcap_hist = latest_marketcap[(floor_quantile_value <= latest_marketcap) & (latest_marketcap <= ceiling_quantile_value)]\n",
    "\n",
    "sns.histplot(latest_marketcap_hist)"
   ]
  },
  {
   "cell_type": "markdown",
   "metadata": {},
   "source": [
    "#### Log transformation"
   ]
  },
  {
   "cell_type": "code",
   "execution_count": 26,
   "metadata": {},
   "outputs": [
    {
     "data": {
      "text/plain": [
       "<AxesSubplot:xlabel='2022-12-02 00:00:00', ylabel='Count'>"
      ]
     },
     "execution_count": 26,
     "metadata": {},
     "output_type": "execute_result"
    },
    {
     "data": {
      "image/png": "[encoded data removed]",
      "text/plain": [
       "<Figure size 432x288 with 1 Axes>"
      ]
     },
     "metadata": {
      "needs_background": "light"
     },
     "output_type": "display_data"
    }
   ],
   "source": [
    "latest_marketcap_log = np.log(latest_marketcap)\n",
    "sns.histplot(latest_marketcap_log)"
   ]
  },
  {
   "cell_type": "code",
   "execution_count": null,
   "metadata": {},
   "outputs": [],
   "source": []
  }
 ],
 "metadata": {
  "kernelspec": {
   "display_name": "Python 3.8.6 ('.venv': poetry)",
   "language": "python",
   "name": "python3"
  },
  "language_info": {
   "codemirror_mode": {
    "name": "ipython",
    "version": 3
   },
   "file_extension": ".py",
   "mimetype": "text/x-python",
   "name": "python",
   "nbconvert_exporter": "python",
   "pygments_lexer": "ipython3",
   "version": "3.8.6"
  },
  "orig_nbformat": 4,
  "vscode": {
   "interpreter": {
    "hash": "b653a6991a0150363b7c7df033ded56ed180846b604af9b857a996de5a460eb0"
   }
  }
 },
 "nbformat": 4,
 "nbformat_minor": 2
}
