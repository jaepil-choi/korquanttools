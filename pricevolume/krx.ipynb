{
 "cells": [
  {
   "cell_type": "code",
   "execution_count": 1,
   "metadata": {},
   "outputs": [],
   "source": [
    "import numpy as np\n",
    "import pandas as pd"
   ]
  },
  {
   "cell_type": "code",
   "execution_count": 2,
   "metadata": {},
   "outputs": [],
   "source": [
    "import matplotlib as mpl\n",
    "import matplotlib.pyplot as plt\n",
    "import seaborn as sns"
   ]
  },
  {
   "cell_type": "code",
   "execution_count": 3,
   "metadata": {},
   "outputs": [
    {
     "data": {
      "text/plain": [
       "WindowsPath('C:/Users/chlje/VSCodeProjects/FinanceDashboard/pricevolume')"
      ]
     },
     "execution_count": 3,
     "metadata": {},
     "output_type": "execute_result"
    }
   ],
   "source": [
    "from pathlib import Path\n",
    "\n",
    "cur_path = Path('.').resolve()\n",
    "cur_path"
   ]
  },
  {
   "cell_type": "markdown",
   "metadata": {},
   "source": [
    "dr = pd.date_range(start='20210101', end='20211231')\n",
    "dr"
   ]
  },
  {
   "cell_type": "code",
   "execution_count": 4,
   "metadata": {},
   "outputs": [],
   "source": [
    "import pandas as pd\n",
    "\n",
    "kosdaq_df = pd.read_pickle(cur_path / \"cache\" / \"KSQ_20150101_to_20211031_lv1_df.pkl\")\n",
    "kospi_df = pd.read_pickle(cur_path / \"cache\" / \"STK_20150101_to_20211031_lv1_df.pkl\")"
   ]
  },
  {
   "cell_type": "code",
   "execution_count": 13,
   "metadata": {},
   "outputs": [
    {
     "data": {
      "text/plain": [
       "ISU_SRT_CD             001755\n",
       "ISU_ABBRV               한양증권우\n",
       "MKT_NM                  KOSPI\n",
       "SECT_TP_NM                   \n",
       "TDD_CLSPRC             6600.0\n",
       "FLUC_TP_CD                2.0\n",
       "CMPPREVDD_PRC           -90.0\n",
       "FLUC_RT                 -1.35\n",
       "TDD_OPNPRC             6500.0\n",
       "TDD_HGPRC              6600.0\n",
       "TDD_LWPRC              6500.0\n",
       "ACC_TRDVOL               21.0\n",
       "ACC_TRDVAL           136600.0\n",
       "MKTCAP           3465000000.0\n",
       "LIST_SHRS            525000.0\n",
       "MKT_ID                    STK\n",
       "trdDd                20150109\n",
       "Name: 8000, dtype: object"
      ]
     },
     "execution_count": 13,
     "metadata": {},
     "output_type": "execute_result"
    }
   ],
   "source": [
    "kospi_df.iloc[8000]"
   ]
  },
  {
   "cell_type": "code",
   "execution_count": 14,
   "metadata": {},
   "outputs": [
    {
     "name": "stdout",
     "output_type": "stream",
     "text": [
      "<class 'pandas.core.frame.DataFrame'>\n",
      "RangeIndex: 2244861 entries, 0 to 2244860\n",
      "Data columns (total 17 columns):\n",
      " #   Column         Dtype  \n",
      "---  ------         -----  \n",
      " 0   ISU_SRT_CD     object \n",
      " 1   ISU_ABBRV      object \n",
      " 2   MKT_NM         object \n",
      " 3   SECT_TP_NM     object \n",
      " 4   TDD_CLSPRC     float64\n",
      " 5   FLUC_TP_CD     float64\n",
      " 6   CMPPREVDD_PRC  float64\n",
      " 7   FLUC_RT        float64\n",
      " 8   TDD_OPNPRC     float64\n",
      " 9   TDD_HGPRC      float64\n",
      " 10  TDD_LWPRC      float64\n",
      " 11  ACC_TRDVOL     float64\n",
      " 12  ACC_TRDVAL     float64\n",
      " 13  MKTCAP         float64\n",
      " 14  LIST_SHRS      float64\n",
      " 15  MKT_ID         object \n",
      " 16  trdDd          int64  \n",
      "dtypes: float64(11), int64(1), object(5)\n",
      "memory usage: 291.2+ MB\n"
     ]
    }
   ],
   "source": [
    "kospi_df.info()"
   ]
  },
  {
   "cell_type": "code",
   "execution_count": 10,
   "metadata": {},
   "outputs": [],
   "source": [
    "kospi_df.iloc[:, 4:15] = kospi_df.iloc[:, 4:15].replace(regex=\",\", value=\"\")"
   ]
  },
  {
   "cell_type": "code",
   "execution_count": 11,
   "metadata": {},
   "outputs": [],
   "source": [
    "# kospi_df['MKTCAP'] = kospi_df['MKTCAP'].replace(\"-\", np.nan)\n",
    "kospi_df.iloc[:, 4:15] = kospi_df.iloc[:, 4:15].replace(\"-\", value=np.nan)"
   ]
  },
  {
   "cell_type": "code",
   "execution_count": 12,
   "metadata": {},
   "outputs": [],
   "source": [
    "# kospi_df['MKTCAP'] = kospi_df['MKTCAP'].astype('float')\n",
    "kospi_df.iloc[:, 4:15] = kospi_df.iloc[:, 4:15].astype('float')"
   ]
  },
  {
   "cell_type": "markdown",
   "metadata": {},
   "source": [
    "## lv2 conversion"
   ]
  },
  {
   "cell_type": "markdown",
   "metadata": {},
   "source": [
    "### method 1: dataframe pivot"
   ]
  },
  {
   "cell_type": "code",
   "execution_count": 52,
   "metadata": {},
   "outputs": [
    {
     "data": {
      "text/html": [
       "<div>\n",
       "<style scoped>\n",
       "    .dataframe tbody tr th:only-of-type {\n",
       "        vertical-align: middle;\n",
       "    }\n",
       "\n",
       "    .dataframe tbody tr th {\n",
       "        vertical-align: top;\n",
       "    }\n",
       "\n",
       "    .dataframe thead th {\n",
       "        text-align: right;\n",
       "    }\n",
       "</style>\n",
       "<table border=\"1\" class=\"dataframe\">\n",
       "  <thead>\n",
       "    <tr style=\"text-align: right;\">\n",
       "      <th>ISU_SRT_CD</th>\n",
       "      <th>000020</th>\n",
       "      <th>000030</th>\n",
       "      <th>000040</th>\n",
       "      <th>000050</th>\n",
       "      <th>000060</th>\n",
       "      <th>000070</th>\n",
       "      <th>000075</th>\n",
       "      <th>000080</th>\n",
       "      <th>000087</th>\n",
       "      <th>000100</th>\n",
       "      <th>...</th>\n",
       "      <th>381970</th>\n",
       "      <th>383220</th>\n",
       "      <th>383800</th>\n",
       "      <th>38380K</th>\n",
       "      <th>395400</th>\n",
       "      <th>900050</th>\n",
       "      <th>900140</th>\n",
       "      <th>950010</th>\n",
       "      <th>950100</th>\n",
       "      <th>950210</th>\n",
       "    </tr>\n",
       "    <tr>\n",
       "      <th>trdDd</th>\n",
       "      <th></th>\n",
       "      <th></th>\n",
       "      <th></th>\n",
       "      <th></th>\n",
       "      <th></th>\n",
       "      <th></th>\n",
       "      <th></th>\n",
       "      <th></th>\n",
       "      <th></th>\n",
       "      <th></th>\n",
       "      <th></th>\n",
       "      <th></th>\n",
       "      <th></th>\n",
       "      <th></th>\n",
       "      <th></th>\n",
       "      <th></th>\n",
       "      <th></th>\n",
       "      <th></th>\n",
       "      <th></th>\n",
       "      <th></th>\n",
       "      <th></th>\n",
       "    </tr>\n",
       "  </thead>\n",
       "  <tbody>\n",
       "    <tr>\n",
       "      <th>20150101</th>\n",
       "      <td>NaN</td>\n",
       "      <td>NaN</td>\n",
       "      <td>NaN</td>\n",
       "      <td>NaN</td>\n",
       "      <td>NaN</td>\n",
       "      <td>NaN</td>\n",
       "      <td>NaN</td>\n",
       "      <td>NaN</td>\n",
       "      <td>NaN</td>\n",
       "      <td>NaN</td>\n",
       "      <td>...</td>\n",
       "      <td>NaN</td>\n",
       "      <td>NaN</td>\n",
       "      <td>NaN</td>\n",
       "      <td>NaN</td>\n",
       "      <td>NaN</td>\n",
       "      <td>NaN</td>\n",
       "      <td>NaN</td>\n",
       "      <td>NaN</td>\n",
       "      <td>NaN</td>\n",
       "      <td>NaN</td>\n",
       "    </tr>\n",
       "    <tr>\n",
       "      <th>20150102</th>\n",
       "      <td>1.544610e+11</td>\n",
       "      <td>6.620765e+12</td>\n",
       "      <td>1.247117e+11</td>\n",
       "      <td>5.140363e+11</td>\n",
       "      <td>1.335134e+12</td>\n",
       "      <td>7.690715e+11</td>\n",
       "      <td>1.245118e+10</td>\n",
       "      <td>1.585020e+12</td>\n",
       "      <td>2.034248e+10</td>\n",
       "      <td>1.884780e+12</td>\n",
       "      <td>...</td>\n",
       "      <td>NaN</td>\n",
       "      <td>NaN</td>\n",
       "      <td>NaN</td>\n",
       "      <td>NaN</td>\n",
       "      <td>NaN</td>\n",
       "      <td>4.123225e+11</td>\n",
       "      <td>9.071272e+11</td>\n",
       "      <td>3.314413e+09</td>\n",
       "      <td>4.273380e+11</td>\n",
       "      <td>NaN</td>\n",
       "    </tr>\n",
       "    <tr>\n",
       "      <th>20150103</th>\n",
       "      <td>NaN</td>\n",
       "      <td>NaN</td>\n",
       "      <td>NaN</td>\n",
       "      <td>NaN</td>\n",
       "      <td>NaN</td>\n",
       "      <td>NaN</td>\n",
       "      <td>NaN</td>\n",
       "      <td>NaN</td>\n",
       "      <td>NaN</td>\n",
       "      <td>NaN</td>\n",
       "      <td>...</td>\n",
       "      <td>NaN</td>\n",
       "      <td>NaN</td>\n",
       "      <td>NaN</td>\n",
       "      <td>NaN</td>\n",
       "      <td>NaN</td>\n",
       "      <td>NaN</td>\n",
       "      <td>NaN</td>\n",
       "      <td>NaN</td>\n",
       "      <td>NaN</td>\n",
       "      <td>NaN</td>\n",
       "    </tr>\n",
       "    <tr>\n",
       "      <th>20150104</th>\n",
       "      <td>NaN</td>\n",
       "      <td>NaN</td>\n",
       "      <td>NaN</td>\n",
       "      <td>NaN</td>\n",
       "      <td>NaN</td>\n",
       "      <td>NaN</td>\n",
       "      <td>NaN</td>\n",
       "      <td>NaN</td>\n",
       "      <td>NaN</td>\n",
       "      <td>NaN</td>\n",
       "      <td>...</td>\n",
       "      <td>NaN</td>\n",
       "      <td>NaN</td>\n",
       "      <td>NaN</td>\n",
       "      <td>NaN</td>\n",
       "      <td>NaN</td>\n",
       "      <td>NaN</td>\n",
       "      <td>NaN</td>\n",
       "      <td>NaN</td>\n",
       "      <td>NaN</td>\n",
       "      <td>NaN</td>\n",
       "    </tr>\n",
       "    <tr>\n",
       "      <th>20150105</th>\n",
       "      <td>1.536231e+11</td>\n",
       "      <td>6.512561e+12</td>\n",
       "      <td>1.259052e+11</td>\n",
       "      <td>5.085533e+11</td>\n",
       "      <td>1.313941e+12</td>\n",
       "      <td>7.596508e+11</td>\n",
       "      <td>1.229915e+10</td>\n",
       "      <td>1.616580e+12</td>\n",
       "      <td>1.989043e+10</td>\n",
       "      <td>1.873628e+12</td>\n",
       "      <td>...</td>\n",
       "      <td>NaN</td>\n",
       "      <td>NaN</td>\n",
       "      <td>NaN</td>\n",
       "      <td>NaN</td>\n",
       "      <td>NaN</td>\n",
       "      <td>3.877993e+11</td>\n",
       "      <td>8.999468e+11</td>\n",
       "      <td>3.314413e+09</td>\n",
       "      <td>4.273380e+11</td>\n",
       "      <td>NaN</td>\n",
       "    </tr>\n",
       "    <tr>\n",
       "      <th>...</th>\n",
       "      <td>...</td>\n",
       "      <td>...</td>\n",
       "      <td>...</td>\n",
       "      <td>...</td>\n",
       "      <td>...</td>\n",
       "      <td>...</td>\n",
       "      <td>...</td>\n",
       "      <td>...</td>\n",
       "      <td>...</td>\n",
       "      <td>...</td>\n",
       "      <td>...</td>\n",
       "      <td>...</td>\n",
       "      <td>...</td>\n",
       "      <td>...</td>\n",
       "      <td>...</td>\n",
       "      <td>...</td>\n",
       "      <td>...</td>\n",
       "      <td>...</td>\n",
       "      <td>...</td>\n",
       "      <td>...</td>\n",
       "      <td>...</td>\n",
       "    </tr>\n",
       "    <tr>\n",
       "      <th>20211027</th>\n",
       "      <td>4.580761e+11</td>\n",
       "      <td>NaN</td>\n",
       "      <td>9.709874e+10</td>\n",
       "      <td>3.646231e+11</td>\n",
       "      <td>3.558438e+12</td>\n",
       "      <td>9.249413e+11</td>\n",
       "      <td>2.143609e+10</td>\n",
       "      <td>2.507277e+12</td>\n",
       "      <td>2.378940e+10</td>\n",
       "      <td>4.310334e+12</td>\n",
       "      <td>...</td>\n",
       "      <td>1.197355e+12</td>\n",
       "      <td>6.596478e+12</td>\n",
       "      <td>6.933915e+11</td>\n",
       "      <td>2.051399e+10</td>\n",
       "      <td>1.002983e+12</td>\n",
       "      <td>NaN</td>\n",
       "      <td>3.351644e+11</td>\n",
       "      <td>NaN</td>\n",
       "      <td>NaN</td>\n",
       "      <td>1.508413e+12</td>\n",
       "    </tr>\n",
       "    <tr>\n",
       "      <th>20211028</th>\n",
       "      <td>4.734384e+11</td>\n",
       "      <td>NaN</td>\n",
       "      <td>9.950218e+10</td>\n",
       "      <td>3.605108e+11</td>\n",
       "      <td>3.510188e+12</td>\n",
       "      <td>8.949663e+11</td>\n",
       "      <td>2.122325e+10</td>\n",
       "      <td>2.475716e+12</td>\n",
       "      <td>2.356338e+10</td>\n",
       "      <td>4.254356e+12</td>\n",
       "      <td>...</td>\n",
       "      <td>1.204568e+12</td>\n",
       "      <td>6.688415e+12</td>\n",
       "      <td>6.819494e+11</td>\n",
       "      <td>2.036746e+10</td>\n",
       "      <td>9.921314e+11</td>\n",
       "      <td>NaN</td>\n",
       "      <td>3.331752e+11</td>\n",
       "      <td>NaN</td>\n",
       "      <td>NaN</td>\n",
       "      <td>1.496394e+12</td>\n",
       "    </tr>\n",
       "    <tr>\n",
       "      <th>20211029</th>\n",
       "      <td>4.566795e+11</td>\n",
       "      <td>NaN</td>\n",
       "      <td>9.950218e+10</td>\n",
       "      <td>3.646231e+11</td>\n",
       "      <td>3.341312e+12</td>\n",
       "      <td>8.821199e+11</td>\n",
       "      <td>2.094960e+10</td>\n",
       "      <td>2.440650e+12</td>\n",
       "      <td>2.361988e+10</td>\n",
       "      <td>4.191380e+12</td>\n",
       "      <td>...</td>\n",
       "      <td>1.178120e+12</td>\n",
       "      <td>6.650108e+12</td>\n",
       "      <td>6.727957e+11</td>\n",
       "      <td>2.022093e+10</td>\n",
       "      <td>9.936816e+11</td>\n",
       "      <td>NaN</td>\n",
       "      <td>3.321807e+11</td>\n",
       "      <td>NaN</td>\n",
       "      <td>NaN</td>\n",
       "      <td>1.448317e+12</td>\n",
       "    </tr>\n",
       "    <tr>\n",
       "      <th>20211030</th>\n",
       "      <td>NaN</td>\n",
       "      <td>NaN</td>\n",
       "      <td>NaN</td>\n",
       "      <td>NaN</td>\n",
       "      <td>NaN</td>\n",
       "      <td>NaN</td>\n",
       "      <td>NaN</td>\n",
       "      <td>NaN</td>\n",
       "      <td>NaN</td>\n",
       "      <td>NaN</td>\n",
       "      <td>...</td>\n",
       "      <td>NaN</td>\n",
       "      <td>NaN</td>\n",
       "      <td>NaN</td>\n",
       "      <td>NaN</td>\n",
       "      <td>NaN</td>\n",
       "      <td>NaN</td>\n",
       "      <td>NaN</td>\n",
       "      <td>NaN</td>\n",
       "      <td>NaN</td>\n",
       "      <td>NaN</td>\n",
       "    </tr>\n",
       "    <tr>\n",
       "      <th>20211031</th>\n",
       "      <td>NaN</td>\n",
       "      <td>NaN</td>\n",
       "      <td>NaN</td>\n",
       "      <td>NaN</td>\n",
       "      <td>NaN</td>\n",
       "      <td>NaN</td>\n",
       "      <td>NaN</td>\n",
       "      <td>NaN</td>\n",
       "      <td>NaN</td>\n",
       "      <td>NaN</td>\n",
       "      <td>...</td>\n",
       "      <td>NaN</td>\n",
       "      <td>NaN</td>\n",
       "      <td>NaN</td>\n",
       "      <td>NaN</td>\n",
       "      <td>NaN</td>\n",
       "      <td>NaN</td>\n",
       "      <td>NaN</td>\n",
       "      <td>NaN</td>\n",
       "      <td>NaN</td>\n",
       "      <td>NaN</td>\n",
       "    </tr>\n",
       "  </tbody>\n",
       "</table>\n",
       "<p>2496 rows × 1045 columns</p>\n",
       "</div>"
      ],
      "text/plain": [
       "ISU_SRT_CD        000020        000030        000040        000050  \\\n",
       "trdDd                                                                \n",
       "20150101             NaN           NaN           NaN           NaN   \n",
       "20150102    1.544610e+11  6.620765e+12  1.247117e+11  5.140363e+11   \n",
       "20150103             NaN           NaN           NaN           NaN   \n",
       "20150104             NaN           NaN           NaN           NaN   \n",
       "20150105    1.536231e+11  6.512561e+12  1.259052e+11  5.085533e+11   \n",
       "...                  ...           ...           ...           ...   \n",
       "20211027    4.580761e+11           NaN  9.709874e+10  3.646231e+11   \n",
       "20211028    4.734384e+11           NaN  9.950218e+10  3.605108e+11   \n",
       "20211029    4.566795e+11           NaN  9.950218e+10  3.646231e+11   \n",
       "20211030             NaN           NaN           NaN           NaN   \n",
       "20211031             NaN           NaN           NaN           NaN   \n",
       "\n",
       "ISU_SRT_CD        000060        000070        000075        000080  \\\n",
       "trdDd                                                                \n",
       "20150101             NaN           NaN           NaN           NaN   \n",
       "20150102    1.335134e+12  7.690715e+11  1.245118e+10  1.585020e+12   \n",
       "20150103             NaN           NaN           NaN           NaN   \n",
       "20150104             NaN           NaN           NaN           NaN   \n",
       "20150105    1.313941e+12  7.596508e+11  1.229915e+10  1.616580e+12   \n",
       "...                  ...           ...           ...           ...   \n",
       "20211027    3.558438e+12  9.249413e+11  2.143609e+10  2.507277e+12   \n",
       "20211028    3.510188e+12  8.949663e+11  2.122325e+10  2.475716e+12   \n",
       "20211029    3.341312e+12  8.821199e+11  2.094960e+10  2.440650e+12   \n",
       "20211030             NaN           NaN           NaN           NaN   \n",
       "20211031             NaN           NaN           NaN           NaN   \n",
       "\n",
       "ISU_SRT_CD        000087        000100  ...        381970        383220  \\\n",
       "trdDd                                   ...                               \n",
       "20150101             NaN           NaN  ...           NaN           NaN   \n",
       "20150102    2.034248e+10  1.884780e+12  ...           NaN           NaN   \n",
       "20150103             NaN           NaN  ...           NaN           NaN   \n",
       "20150104             NaN           NaN  ...           NaN           NaN   \n",
       "20150105    1.989043e+10  1.873628e+12  ...           NaN           NaN   \n",
       "...                  ...           ...  ...           ...           ...   \n",
       "20211027    2.378940e+10  4.310334e+12  ...  1.197355e+12  6.596478e+12   \n",
       "20211028    2.356338e+10  4.254356e+12  ...  1.204568e+12  6.688415e+12   \n",
       "20211029    2.361988e+10  4.191380e+12  ...  1.178120e+12  6.650108e+12   \n",
       "20211030             NaN           NaN  ...           NaN           NaN   \n",
       "20211031             NaN           NaN  ...           NaN           NaN   \n",
       "\n",
       "ISU_SRT_CD        383800        38380K        395400        900050  \\\n",
       "trdDd                                                                \n",
       "20150101             NaN           NaN           NaN           NaN   \n",
       "20150102             NaN           NaN           NaN  4.123225e+11   \n",
       "20150103             NaN           NaN           NaN           NaN   \n",
       "20150104             NaN           NaN           NaN           NaN   \n",
       "20150105             NaN           NaN           NaN  3.877993e+11   \n",
       "...                  ...           ...           ...           ...   \n",
       "20211027    6.933915e+11  2.051399e+10  1.002983e+12           NaN   \n",
       "20211028    6.819494e+11  2.036746e+10  9.921314e+11           NaN   \n",
       "20211029    6.727957e+11  2.022093e+10  9.936816e+11           NaN   \n",
       "20211030             NaN           NaN           NaN           NaN   \n",
       "20211031             NaN           NaN           NaN           NaN   \n",
       "\n",
       "ISU_SRT_CD        900140        950010        950100        950210  \n",
       "trdDd                                                               \n",
       "20150101             NaN           NaN           NaN           NaN  \n",
       "20150102    9.071272e+11  3.314413e+09  4.273380e+11           NaN  \n",
       "20150103             NaN           NaN           NaN           NaN  \n",
       "20150104             NaN           NaN           NaN           NaN  \n",
       "20150105    8.999468e+11  3.314413e+09  4.273380e+11           NaN  \n",
       "...                  ...           ...           ...           ...  \n",
       "20211027    3.351644e+11           NaN           NaN  1.508413e+12  \n",
       "20211028    3.331752e+11           NaN           NaN  1.496394e+12  \n",
       "20211029    3.321807e+11           NaN           NaN  1.448317e+12  \n",
       "20211030             NaN           NaN           NaN           NaN  \n",
       "20211031             NaN           NaN           NaN           NaN  \n",
       "\n",
       "[2496 rows x 1045 columns]"
      ]
     },
     "execution_count": 52,
     "metadata": {},
     "output_type": "execute_result"
    }
   ],
   "source": [
    "lv2_df = kospi_df.pivot(index=\"trdDd\", columns=\"ISU_SRT_CD\", values=\"MKTCAP\")\n",
    "lv2_df"
   ]
  },
  {
   "cell_type": "markdown",
   "metadata": {},
   "source": [
    "### method 2: numpy iteration"
   ]
  },
  {
   "cell_type": "code",
   "execution_count": 25,
   "metadata": {},
   "outputs": [],
   "source": [
    "date_list = kospi_df.loc[:, \"trdDd\"].unique()\n",
    "sid_list = kospi_df.loc[:, \"ISU_SRT_CD\"].unique()\n",
    "\n",
    "lv2_arr = np.empty((len(date_list), len(sid_list)))\n",
    "lv2_arr[:] = np.nan"
   ]
  },
  {
   "cell_type": "code",
   "execution_count": 42,
   "metadata": {},
   "outputs": [],
   "source": [
    "date_list_mapper = dict(zip(date_list, range(len(date_list))))\n",
    "sid_list_mapper = dict(zip(sid_list, range(len(sid_list))))"
   ]
  },
  {
   "cell_type": "code",
   "execution_count": 43,
   "metadata": {},
   "outputs": [],
   "source": [
    "mktcap_df = kospi_df.loc[:, [\"trdDd\", \"ISU_SRT_CD\", \"MKTCAP\"]].copy()"
   ]
  },
  {
   "cell_type": "code",
   "execution_count": 44,
   "metadata": {},
   "outputs": [],
   "source": [
    "mktcap_arr = np.array(mktcap_df)"
   ]
  },
  {
   "cell_type": "code",
   "execution_count": 50,
   "metadata": {},
   "outputs": [],
   "source": [
    "for row in mktcap_arr:\n",
    "    date_idx = date_list_mapper[row[0]]\n",
    "    sid_idx = sid_list_mapper[row[1]]\n",
    "    value = row[2]\n",
    "\n",
    "    lv2_arr[date_idx, sid_idx] = value"
   ]
  },
  {
   "cell_type": "markdown",
   "metadata": {},
   "source": [
    "### method 3: numpy broadcasting"
   ]
  },
  {
   "cell_type": "code",
   "execution_count": 87,
   "metadata": {},
   "outputs": [],
   "source": [
    "date_list = kospi_df.loc[:, \"trdDd\"].unique()\n",
    "sid_list = kospi_df.loc[:, \"ISU_SRT_CD\"].unique()\n",
    "\n",
    "lv2_arr = np.empty((len(date_list), len(sid_list)))\n",
    "lv2_arr[:] = np.nan"
   ]
  },
  {
   "cell_type": "code",
   "execution_count": 54,
   "metadata": {},
   "outputs": [],
   "source": [
    "date_list_mapper = dict(zip(date_list, range(len(date_list))))\n",
    "sid_list_mapper = dict(zip(sid_list, range(len(sid_list))))"
   ]
  },
  {
   "cell_type": "code",
   "execution_count": 94,
   "metadata": {},
   "outputs": [],
   "source": [
    "date_list_arr = np.array(list(map(lambda x: date_list_mapper[x], kospi_df[\"trdDd\"]))) # row\n",
    "date_list_arr = date_list_arr[:, None]\n",
    "\n",
    "sid_list_arr = np.array(list(map(lambda x: sid_list_mapper[x], kospi_df[\"ISU_SRT_CD\"]))) # column\n",
    "sid_list_arr = sid_list_arr[None, :]"
   ]
  },
  {
   "cell_type": "code",
   "execution_count": 95,
   "metadata": {},
   "outputs": [
    {
     "data": {
      "text/plain": [
       "2244861"
      ]
     },
     "execution_count": 95,
     "metadata": {},
     "output_type": "execute_result"
    }
   ],
   "source": [
    "len(date_list_arr)"
   ]
  },
  {
   "cell_type": "code",
   "execution_count": 96,
   "metadata": {},
   "outputs": [
    {
     "data": {
      "text/plain": [
       "2244861"
      ]
     },
     "execution_count": 96,
     "metadata": {},
     "output_type": "execute_result"
    }
   ],
   "source": [
    "len(sid_list_arr[0])"
   ]
  },
  {
   "cell_type": "code",
   "execution_count": 97,
   "metadata": {},
   "outputs": [
    {
     "data": {
      "text/plain": [
       "(2496, 1045)"
      ]
     },
     "execution_count": 97,
     "metadata": {},
     "output_type": "execute_result"
    }
   ],
   "source": [
    "lv2_arr.shape"
   ]
  },
  {
   "cell_type": "code",
   "execution_count": 98,
   "metadata": {},
   "outputs": [],
   "source": [
    "value_list_arr = np.array(kospi_df.loc[:, \"MKTCAP\"])"
   ]
  },
  {
   "cell_type": "code",
   "execution_count": 99,
   "metadata": {},
   "outputs": [
    {
     "data": {
      "text/plain": [
       "2244861"
      ]
     },
     "execution_count": 99,
     "metadata": {},
     "output_type": "execute_result"
    }
   ],
   "source": [
    "len(value_list_arr)"
   ]
  },
  {
   "cell_type": "code",
   "execution_count": null,
   "metadata": {},
   "outputs": [],
   "source": [
    "2496 * 1045"
   ]
  },
  {
   "cell_type": "code",
   "execution_count": 101,
   "metadata": {},
   "outputs": [],
   "source": [
    "lv2_arr[date_list_arr, sid_list_arr] = value_list_arr"
   ]
  },
  {
   "cell_type": "code",
   "execution_count": null,
   "metadata": {},
   "outputs": [],
   "source": []
  },
  {
   "cell_type": "code",
   "execution_count": null,
   "metadata": {},
   "outputs": [],
   "source": []
  },
  {
   "cell_type": "code",
   "execution_count": 58,
   "metadata": {},
   "outputs": [],
   "source": [
    "arr = np.array([\n",
    "    [1, 2, 3],\n",
    "    [1, 2, 3]\n",
    "])"
   ]
  },
  {
   "cell_type": "code",
   "execution_count": 68,
   "metadata": {},
   "outputs": [
    {
     "data": {
      "text/plain": [
       "array([[[1, 2, 3],\n",
       "        [1, 2, 3]]])"
      ]
     },
     "execution_count": 68,
     "metadata": {},
     "output_type": "execute_result"
    }
   ],
   "source": [
    "arr[None, :]"
   ]
  },
  {
   "cell_type": "code",
   "execution_count": 69,
   "metadata": {},
   "outputs": [
    {
     "data": {
      "text/plain": [
       "array([[[1, 2, 3]],\n",
       "\n",
       "       [[1, 2, 3]]])"
      ]
     },
     "execution_count": 69,
     "metadata": {},
     "output_type": "execute_result"
    }
   ],
   "source": [
    "arr[:, None]"
   ]
  },
  {
   "cell_type": "code",
   "execution_count": 70,
   "metadata": {},
   "outputs": [
    {
     "data": {
      "text/plain": [
       "array([[0., 0., 0., 0.],\n",
       "       [0., 0., 0., 0.],\n",
       "       [0., 0., 0., 0.],\n",
       "       [0., 0., 0., 0.]])"
      ]
     },
     "execution_count": 70,
     "metadata": {},
     "output_type": "execute_result"
    }
   ],
   "source": [
    "A = np.zeros(16).reshape(4, 4)\n",
    "A"
   ]
  },
  {
   "cell_type": "code",
   "execution_count": 72,
   "metadata": {},
   "outputs": [],
   "source": [
    "r = np.array([1, 3])\n",
    "c = np.array([0, 2])"
   ]
  },
  {
   "cell_type": "code",
   "execution_count": 75,
   "metadata": {},
   "outputs": [
    {
     "data": {
      "text/plain": [
       "array([[1],\n",
       "       [3]])"
      ]
     },
     "execution_count": 75,
     "metadata": {},
     "output_type": "execute_result"
    }
   ],
   "source": [
    "r[:, None]"
   ]
  },
  {
   "cell_type": "code",
   "execution_count": 74,
   "metadata": {},
   "outputs": [
    {
     "data": {
      "text/plain": [
       "array([[0, 2]])"
      ]
     },
     "execution_count": 74,
     "metadata": {},
     "output_type": "execute_result"
    }
   ],
   "source": [
    "c[None, :]"
   ]
  },
  {
   "cell_type": "code",
   "execution_count": 77,
   "metadata": {},
   "outputs": [
    {
     "data": {
      "text/plain": [
       "array([[0., 0., 0., 0.],\n",
       "       [3., 0., 0., 0.],\n",
       "       [0., 0., 0., 0.],\n",
       "       [0., 0., 4., 0.]])"
      ]
     },
     "execution_count": 77,
     "metadata": {},
     "output_type": "execute_result"
    }
   ],
   "source": [
    "A[r, c] = np.array([3, 4])\n",
    "A"
   ]
  },
  {
   "cell_type": "code",
   "execution_count": null,
   "metadata": {},
   "outputs": [],
   "source": []
  },
  {
   "cell_type": "code",
   "execution_count": null,
   "metadata": {},
   "outputs": [],
   "source": []
  },
  {
   "cell_type": "code",
   "execution_count": 74,
   "metadata": {},
   "outputs": [
    {
     "data": {
      "text/plain": [
       "trdDd\n",
       "20150101     True\n",
       "20150102    False\n",
       "20150103     True\n",
       "20150104     True\n",
       "20150105    False\n",
       "            ...  \n",
       "20211027    False\n",
       "20211028    False\n",
       "20211029    False\n",
       "20211030     True\n",
       "20211031     True\n",
       "Name: MKTCAP, Length: 2496, dtype: bool"
      ]
     },
     "execution_count": 74,
     "metadata": {},
     "output_type": "execute_result"
    }
   ],
   "source": [
    "trdDd_df = kospi_df.groupby(by='trdDd')['MKTCAP'].sum(min_count=1).isnull()\n",
    "trdDd_df"
   ]
  },
  {
   "cell_type": "code",
   "execution_count": 76,
   "metadata": {},
   "outputs": [
    {
     "data": {
      "text/plain": [
       "Int64Index([20150101, 20150102, 20150103, 20150104, 20150105, 20150106,\n",
       "            20150107, 20150108, 20150109, 20150110,\n",
       "            ...\n",
       "            20211022, 20211023, 20211024, 20211025, 20211026, 20211027,\n",
       "            20211028, 20211029, 20211030, 20211031],\n",
       "           dtype='int64', name='trdDd', length=2496)"
      ]
     },
     "execution_count": 76,
     "metadata": {},
     "output_type": "execute_result"
    }
   ],
   "source": [
    "trdDd_df.index"
   ]
  },
  {
   "cell_type": "code",
   "execution_count": null,
   "metadata": {},
   "outputs": [],
   "source": [
    "ss = kospi_df.reindex(index=trdDd_df.index, columns=kospi_df[\"ISU_SRT_CD\"].unique(),) # lv2를 load할 때 필요. \n",
    "ss"
   ]
  },
  {
   "cell_type": "code",
   "execution_count": 100,
   "metadata": {},
   "outputs": [],
   "source": [
    "ss.loc[20150101, '068400'] = 1"
   ]
  },
  {
   "cell_type": "code",
   "execution_count": 106,
   "metadata": {},
   "outputs": [
    {
     "data": {
      "text/plain": [
       "array(['005740', '크라운제과', 'KOSPI', '', '206,000', '1', '1,000', '0.49',\n",
       "       '205,000', '208,000', '199,000', '12,798', '2,602,134,500',\n",
       "       303545944000.0, '1,473,524', 'STK', 20150108], dtype=object)"
      ]
     },
     "execution_count": 106,
     "metadata": {},
     "output_type": "execute_result"
    }
   ],
   "source": [
    "# TODO: Use numba\n",
    "\n",
    "np.array(kospi_df)[7000]\n"
   ]
  },
  {
   "cell_type": "code",
   "execution_count": null,
   "metadata": {},
   "outputs": [],
   "source": []
  }
 ],
 "metadata": {
  "interpreter": {
   "hash": "306462a156d427de88757364f092175aaccec119435bc09ac37609fe319eed95"
  },
  "kernelspec": {
   "display_name": "Python 3.8.6 64-bit ('.venv': poetry)",
   "name": "python3"
  },
  "language_info": {
   "codemirror_mode": {
    "name": "ipython",
    "version": 3
   },
   "file_extension": ".py",
   "mimetype": "text/x-python",
   "name": "python",
   "nbconvert_exporter": "python",
   "pygments_lexer": "ipython3",
   "version": "3.8.10"
  },
  "orig_nbformat": 4
 },
 "nbformat": 4,
 "nbformat_minor": 2
}
